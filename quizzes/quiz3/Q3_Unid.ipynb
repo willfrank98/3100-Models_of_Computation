{
 "cells": [
  {
   "cell_type": "markdown",
   "metadata": {
    "run_control": {
     "frozen": false,
     "read_only": false
    }
   },
   "source": [
    "# Quiz-3\n",
    "\n",
    "\n",
    "There are three tasks.\n",
    "\n",
    "You'll see the tasks enclosed as follows.\n",
    "\n",
    "---> YOUR TASK n <---\n",
    "\n",
    "...task n ...\n",
    " \n",
    "---> YOUR TASK n ENDS HERE<---\n",
    "\n",
    "Goals:\n",
    "\n",
    "* Design a DFA that we shall specify in Section 2 (begin XOR end with 01)\n",
    "\n",
    "* Design a DFA we shall specify in Section 3 (for numbers, MSB first, equal to 0 mod 5, similar to Sec 5.2.3 from book)\n",
    "\n",
    "* Practice some Pumping Lemma problems in Section 4. Answer the questions there\n",
    "\n",
    "## YOUR TASKS\n",
    "\n",
    "Your tasks will be denoted by \"---> YOUR TASK n <---\" below"
   ]
  },
  {
   "cell_type": "code",
   "execution_count": null,
   "metadata": {
    "run_control": {
     "frozen": false,
     "read_only": false
    }
   },
   "outputs": [],
   "source": [
    "from jove.DotBashers import *\n",
    "from jove.Def_md2mc import *\n",
    "from jove.Def_DFA   import *\n",
    "from jove.LangDef   import *\n",
    "from jove.Def_RE2NFA   import *\n",
    "from jove.Def_NFA   import *"
   ]
  },
  {
   "cell_type": "markdown",
   "metadata": {
    "run_control": {
     "frozen": false,
     "read_only": false
    }
   },
   "source": [
    "# Design a DFA for strings over 0,1 that begin XOR end with 01\n",
    "\n",
    "* If it begins with 01, it can't end with 01\n",
    "* If it does not begin with 01, it must end with 01"
   ]
  },
  {
   "cell_type": "markdown",
   "metadata": {
    "run_control": {
     "frozen": false,
     "read_only": false
    }
   },
   "source": [
    "## This is the main design the students will work on!!\n",
    "\n",
    " ---> YOUR TASK 1 is below <---"
   ]
  },
  {
   "cell_type": "code",
   "execution_count": null,
   "metadata": {
    "run_control": {
     "frozen": false,
     "read_only": false
    }
   },
   "outputs": [],
   "source": [
    "Db01XORe01 = md2mc('''\n",
    "!! \n",
    "!!- The overall algorithm is to case-analyze on whether we began with a 01 or not.\n",
    "!!- Please see the state names assigned. Once you understand how the state names were designed,\n",
    "!!- the transitions should make sense.  \n",
    "!!\n",
    "DFA         !! This DFA chooses meaningful state names and records the last bit seen\n",
    " \n",
    "!!--- The DFA has to be designed by you\n",
    "!!--- I'll just tell you the state names I ended up inventing, and my scheme for naming the states\n",
    "!!--- without giving such state names, I could not have solved this problem!\n",
    "!!--- In other words, the ENTIRE solution depended on my keeping a clear sense of state names\n",
    "!!--- and also remembering one bit seen last.\n",
    "\n",
    "!!--- The state names I chose ---\n",
    "\n",
    "S_0      !! No acceptance upon seeing a 0; record in state name S0\n",
    "MNE_1    !! MNE means \"must not end in 01.\" The _1 remembers the last bit seen \n",
    "NB_1     !! NB means \"not beginning with 01.\" The _1 remembers the last bit seen\n",
    "NB_0     !! Not beginning with 01. Also 0 is the last bit seen\n",
    "FNB_1    !! FNB means a final state for the case not beginning with 01. Also '1' seen last\n",
    "FMNE_0   !! FMNE means a final state and \"must not end in 01\". Also 0 bit seen last\n",
    "FMNE_0   !! Since we are seeing a 00, we are not ending in 01, so the F status is kept\n",
    "\n",
    "''')\n",
    "dotObj_dfa(Db01XORe01, FuseEdges = True)"
   ]
  },
  {
   "cell_type": "code",
   "execution_count": null,
   "metadata": {},
   "outputs": [],
   "source": [
    "Sigma={'0','1'}\n",
    "for i in range(1,120):\n",
    "    w = nthnumeric(i, Sigma)\n",
    "    if accepts_dfa(Db01XORe01, w):\n",
    "        print(\"DFA Db01XORe01 accepts \", w)\n",
    "print(\"DFA Db01XORe01 rejects all other w in the test set\")"
   ]
  },
  {
   "cell_type": "markdown",
   "metadata": {
    "run_control": {
     "frozen": false,
     "read_only": false
    }
   },
   "source": [
    " ---> YOUR TASK 1 ENDS HERE <---"
   ]
  },
  {
   "cell_type": "markdown",
   "metadata": {
    "run_control": {
     "frozen": false,
     "read_only": false
    }
   },
   "source": [
    "## The part below will be retained as such. The TAs will check Presto-1 and Presto-2\n",
    "\n",
    "They expect empty DFA. Then the student design is correct! Else there is a mistake somewhere."
   ]
  },
  {
   "cell_type": "markdown",
   "metadata": {
    "run_control": {
     "frozen": false,
     "read_only": false
    }
   },
   "source": [
    "# Testing out the above machine is not easy; we use REs for that\n",
    "\n",
    "We will show the power of regular expressions to test out the above machine. You will simply be doing the tests below and ending up with empty DFAs at \"Presto-1\" and \"Presto-2\". The TAs will grade wrt those Prestos.\n",
    "\n",
    "There is no other way to exhaustively test out the DFA!\n"
   ]
  },
  {
   "cell_type": "markdown",
   "metadata": {
    "run_control": {
     "frozen": false,
     "read_only": false
    }
   },
   "source": [
    "## We first complement the above machine and make sense\n",
    "\n",
    "The complement of the above machine must be a DFA that begins with a 01 exactly when it ends with a 01. See if so."
   ]
  },
  {
   "cell_type": "code",
   "execution_count": null,
   "metadata": {
    "run_control": {
     "frozen": false,
     "read_only": false
    }
   },
   "outputs": [],
   "source": [
    "# Its complement must be a machine that begins with 01 exactly when it ends with 01 :-)\n",
    "# This can be read out and confirmed!\n",
    "Db01XNORe01 = comp_dfa(Db01XORe01)\n",
    "dotObj_dfa(Db01XNORe01, FuseEdges = True)"
   ]
  },
  {
   "cell_type": "markdown",
   "metadata": {
    "run_control": {
     "frozen": false,
     "read_only": false
    }
   },
   "source": [
    "## Check the complement\n",
    "\n",
    "If the complement looks like it is doing its job, you can let out a mini Presto. But we will do more tests!\n"
   ]
  },
  {
   "cell_type": "markdown",
   "metadata": {
    "run_control": {
     "frozen": false,
     "read_only": false
    }
   },
   "source": [
    "## Obtain an RE for begins with 01 AND ends with 01"
   ]
  },
  {
   "cell_type": "code",
   "execution_count": null,
   "metadata": {
    "run_control": {
     "frozen": false,
     "read_only": false
    }
   },
   "outputs": [],
   "source": [
    "#  This RE \"01(''+(0+1)*01)\" captures begin with 01 AND ends with 01\n",
    "Db01ANDe01 = min_dfa(nfa2dfa(re2nfa(\"01(''+(0+1)*01)\")))\n",
    "dotObj_dfa(Db01ANDe01)"
   ]
  },
  {
   "cell_type": "markdown",
   "metadata": {
    "run_control": {
     "frozen": false,
     "read_only": false
    }
   },
   "source": [
    "## Obtain DB01XNORe01 minus Db01ANDe01"
   ]
  },
  {
   "cell_type": "markdown",
   "metadata": {
    "run_control": {
     "frozen": false,
     "read_only": false
    }
   },
   "source": [
    "## Now the DFA must neither begin with 01 nor end with 01. Check.\n",
    "\n",
    "We can let out a mini Presto if so. It indeed is so!"
   ]
  },
  {
   "cell_type": "code",
   "execution_count": null,
   "metadata": {
    "run_control": {
     "frozen": false,
     "read_only": false
    }
   },
   "outputs": [],
   "source": [
    "# We now need to perform DbXNORe01 - DB01ANDE01  to get a DFA which neither begins nor ends with 01\n",
    "\n",
    "Dnb01ANDne01 = intersect_dfa(Db01XNORe01, comp_dfa(Db01ANDe01))\n",
    "dotObj_dfa(Dnb01ANDne01)"
   ]
  },
  {
   "cell_type": "markdown",
   "metadata": {
    "run_control": {
     "frozen": false,
     "read_only": false
    }
   },
   "source": [
    "## This is the RE for \"begins with 01\". Again fool-proof to obtain."
   ]
  },
  {
   "cell_type": "code",
   "execution_count": null,
   "metadata": {
    "run_control": {
     "frozen": false,
     "read_only": false
    }
   },
   "outputs": [],
   "source": [
    "# Now Dnb01ANDne01 must neither begin with 01 nor end with 01\n",
    "# We can intersect with DFAs that begin with 01 and then DFA that ends with 01 and prove they are empty\n",
    "\n",
    "Db01 = min_dfa(nfa2dfa(re2nfa(\"01(0+1)*\")))\n",
    "dotObj_dfa(Db01)"
   ]
  },
  {
   "cell_type": "markdown",
   "metadata": {
    "run_control": {
     "frozen": false,
     "read_only": false
    }
   },
   "source": [
    "## This is the RE for \"ends with 01\". Again fool-proof to obtain."
   ]
  },
  {
   "cell_type": "code",
   "execution_count": null,
   "metadata": {
    "run_control": {
     "frozen": false,
     "read_only": false
    }
   },
   "outputs": [],
   "source": [
    "De01 = min_dfa(nfa2dfa(re2nfa(\"(0+1)*01\")))\n",
    "dotObj_dfa(De01)"
   ]
  },
  {
   "cell_type": "markdown",
   "metadata": {
    "run_control": {
     "frozen": false,
     "read_only": false
    }
   },
   "source": [
    "## Presto-1 : If the following DFA is empty, it DOES NOT begin with 01\n",
    "\n",
    "The student is likely right! Check Presto-2 also.\n"
   ]
  },
  {
   "cell_type": "code",
   "execution_count": null,
   "metadata": {
    "run_control": {
     "frozen": false,
     "read_only": false
    }
   },
   "outputs": [],
   "source": [
    "dotObj_dfa(min_dfa(intersect_dfa(Db01, Dnb01ANDne01)), FuseEdges=True)"
   ]
  },
  {
   "cell_type": "markdown",
   "metadata": {
    "run_control": {
     "frozen": false,
     "read_only": false
    }
   },
   "source": [
    "## Presto-2: If the following DFA is empty, it DOES NOT end with 01\n",
    "\n",
    "If this check also passes, the student is right !!"
   ]
  },
  {
   "cell_type": "code",
   "execution_count": null,
   "metadata": {
    "run_control": {
     "frozen": false,
     "read_only": false
    }
   },
   "outputs": [],
   "source": [
    "dotObj_dfa(min_dfa(intersect_dfa(De01, Dnb01ANDne01)), FuseEdges=True)"
   ]
  },
  {
   "cell_type": "markdown",
   "metadata": {
    "run_control": {
     "frozen": false,
     "read_only": false
    }
   },
   "source": [
    "## Since Presto-1 and Presto-2 worked out, we are done !!"
   ]
  },
  {
   "cell_type": "markdown",
   "metadata": {
    "run_control": {
     "frozen": false,
     "read_only": false
    }
   },
   "source": [
    "# Design a DFA for Numbers arriving MSB-first, equal to 0 modulo 5\n",
    "\n",
    "Similar to the machine in Section 5.2.3 but with \"5\" not \"3\"\n",
    "\n",
    " ---> YOUR TASK 2 <---"
   ]
  },
  {
   "cell_type": "code",
   "execution_count": null,
   "metadata": {
    "run_control": {
     "frozen": false,
     "read_only": false
    }
   },
   "outputs": [],
   "source": [
    "DmsbMod5 = md2mc('''\n",
    "DFA\n",
    " \n",
    "''')\n",
    "    \n",
    "dotObj_dfa(DmsbMod5, FuseEdges=True) "
   ]
  },
  {
   "cell_type": "code",
   "execution_count": null,
   "metadata": {
    "run_control": {
     "frozen": false,
     "read_only": false
    }
   },
   "outputs": [],
   "source": [
    "Sigma={'0','1'}\n",
    "for i in range(1,120):\n",
    "    w = nthnumeric(i, Sigma)\n",
    "    if accepts_dfa(DmsbMod5, w):\n",
    "        print(\"DFA DmsbMod5 accepts \", w, \" having value \", int(w, 2))\n",
    "        \n",
    "# Printout below must be for numbers modulo 5 = 0"
   ]
  },
  {
   "cell_type": "markdown",
   "metadata": {
    "run_control": {
     "frozen": false,
     "read_only": false
    }
   },
   "source": [
    "## If the above printout produces only mod 5, the student is right!\n",
    "\n",
    " ---> YOUR TASK 2 ENDS HERE <---"
   ]
  },
  {
   "cell_type": "markdown",
   "metadata": {
    "run_control": {
     "frozen": false,
     "read_only": false
    }
   },
   "source": [
    "# Pumping Lemma Without the Pain"
   ]
  },
  {
   "cell_type": "markdown",
   "metadata": {
    "run_control": {
     "frozen": false,
     "read_only": false
    }
   },
   "source": [
    "## Please study \"Pumping Lemma Without the Pain\" by studying and working out the problems mentioned [here](https://www.overleaf.com/read/fcsdttjhztyb)\n",
    "\n",
    "---> YOUR TASK 3 <---\n",
    "\n",
    "* Summarize the proof in Section 6 in neat bulletted steps (of about 8 bullets)\n",
    " - b\n",
    " - b\n",
    " - b\n",
    " - b\n",
    " - b\n",
    " - b\n",
    " - b\n",
    " - b\n",
    "\n",
    "* Summarize the proof in Section 8 in neat bulletted steps (of about 8 bullets)\n",
    " - b\n",
    " - b\n",
    " - b\n",
    " - b\n",
    " - b\n",
    " - b\n",
    " - b\n",
    " - b\n",
    " \n",
    " \n",
    " ---> YOUR TASK 3 ENDS HERE <---\n",
    " \n"
   ]
  }
 ],
 "metadata": {
  "kernelspec": {
   "display_name": "Python 3",
   "language": "python",
   "name": "python3"
  },
  "language_info": {
   "codemirror_mode": {
    "name": "ipython",
    "version": 3
   },
   "file_extension": ".py",
   "mimetype": "text/x-python",
   "name": "python",
   "nbconvert_exporter": "python",
   "pygments_lexer": "ipython3",
   "version": "3.6.0"
  },
  "toc": {
   "colors": {
    "hover_highlight": "#DAA520",
    "running_highlight": "#FF0000",
    "selected_highlight": "#FFD700"
   },
   "moveMenuLeft": true,
   "nav_menu": {
    "height": "318px",
    "width": "252px"
   },
   "navigate_menu": true,
   "number_sections": true,
   "sideBar": true,
   "threshold": 4,
   "toc_cell": false,
   "toc_section_display": "block",
   "toc_window_display": false,
   "widenNotebook": false
  }
 },
 "nbformat": 4,
 "nbformat_minor": 1
}
