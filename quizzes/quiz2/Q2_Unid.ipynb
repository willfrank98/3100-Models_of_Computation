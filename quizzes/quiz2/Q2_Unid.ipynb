{
 "cells": [
  {
   "cell_type": "markdown",
   "metadata": {
    "run_control": {
     "frozen": false,
     "read_only": false
    }
   },
   "source": [
    "# Quiz-2: Jove part\n",
    "\n",
    "## General Notes\n",
    "\n",
    "* **USE Jupyter notebook -- not Jupyter lab** -- for this quiz, because Jupyter widgets don't work correctly under the latter\n",
    "\n",
    "* NOTE THAT since the quizzes are given to you each week and there are roughly 150 of you, we can't provide deep comments on your work. These Jove quizzes are mainly for your \"self-study\". If you have questions, please let us know through Canvas or during office hours.\n",
    "\n",
    "* VERY IMPORTANT: If a cell's numbering \"In [ ]\" remains stuck as follows\n",
    "```\n",
    "In [*]\n",
    "```\n",
    "It means that this cell is infinitely looping. Remove the infinite loop if you can. If you can't debug the situation, contact us via Canvas, sending us the Jupyter (Jove) notebook.\n",
    "\n",
    "\n",
    "## Goals of Quiz-2\n",
    "\n",
    "* Learn about language operations\n",
    "* Read lots of Jove code \n",
    "* RUN and then READ ALL THE CODE IN THIS NOTEBOOK)!! We won't test you on all your reading, but still, reading is to your advantage\n",
    "* Watch two videos, one on languages and another on DFA\n",
    "* Learn how to extend these Jove modules\n",
    "* Learn how to define and test DFA\n",
    "\n",
    "\n",
    "\n",
    "## How to answer\n",
    "\n",
    "* Each section starting with \"QN: \" is a question. An answer is expected under that section.\n",
    "* Run various commands and observe the results.  \n",
    "  __Wherever I have placed the string #--answer-- , an answer is expected in either a code cell or a markdown cell, placed below the #--answer-- string.__  \n",
    "\n",
    "\n"
   ]
  },
  {
   "cell_type": "markdown",
   "metadata": {
    "run_control": {
     "frozen": false,
     "read_only": false
    }
   },
   "source": [
    "# Video on Alphabet, Languages, etc.\n",
    "\n",
    "__Unfortunately the recording volume was not high. Please wear a head-set__"
   ]
  },
  {
   "cell_type": "code",
   "execution_count": null,
   "metadata": {
    "run_control": {
     "frozen": false,
     "read_only": false
    }
   },
   "outputs": [],
   "source": [
    "# This video corresponds to the Jupyter file\n",
    "# Module2_LanguageOps.ipynb that you can find under \"notebook/driver\"\n",
    "# of the Jove github\n",
    "\n",
    "from IPython.display import YouTubeVideo\n",
    "YouTubeVideo('TAEYvJn5eGc')"
   ]
  },
  {
   "cell_type": "markdown",
   "metadata": {
    "run_control": {
     "frozen": false,
     "read_only": false
    }
   },
   "source": [
    "# QN: Provide a summary of the above video  \n",
    "\n",
    "Under the \"#--answer--\" line  -- just 5 bullets of one sentence each. Just pick out some highlights of Jove. There is no \"best answer\". A reasonable effort is what we are looking for.\n",
    "\n",
    "#--answer-- \n",
    "* S1\n",
    "* S2\n",
    "* S3\n",
    "* S4\n",
    "* S5"
   ]
  },
  {
   "cell_type": "markdown",
   "metadata": {
    "run_control": {
     "frozen": false,
     "read_only": false
    }
   },
   "source": [
    "# Code to define language operations\n"
   ]
  },
  {
   "cell_type": "markdown",
   "metadata": {
    "run_control": {
     "frozen": false,
     "read_only": false
    }
   },
   "source": [
    "We first define the zero or phi or empty language"
   ]
  },
  {
   "cell_type": "code",
   "execution_count": null,
   "metadata": {
    "run_control": {
     "frozen": false,
     "read_only": false
    }
   },
   "outputs": [],
   "source": [
    "# The theory of languages : Primitive languages and language builders\n",
    "\n",
    "def lphi():\n",
    "    \"\"\"In : None.\n",
    "       Out: Zero language, i.e. set({}).\n",
    "    \"\"\"\n",
    "    return set({})  # {} could be dict; so we put set(..)"
   ]
  },
  {
   "cell_type": "markdown",
   "metadata": {
    "run_control": {
     "frozen": false,
     "read_only": false
    }
   },
   "source": [
    "Now let us define the Unit language (\"1\" for languages with respect to concatenation viewed as multiplication).\n",
    "\n",
    "Let us also define language concatenation.\n",
    "\n",
    "> $L1 \\; L2 \\;\\; =\\;\\;  \\{x y \\; \\mid \\; x\\in L1 \\;\\wedge\\; y\\in L2\\}$"
   ]
  },
  {
   "cell_type": "code",
   "execution_count": null,
   "metadata": {
    "run_control": {
     "frozen": false,
     "read_only": false
    }
   },
   "outputs": [],
   "source": [
    "def lunit():\n",
    "    \"\"\"In : None.\n",
    "       Out: {\"\"} (a language : a set).\n",
    "    \"\"\"\n",
    "    return {\"\"} # Set with epsilon\n",
    "\n",
    "def lcat(L1,L2):\n",
    "    \"\"\"In : L1 (language : a set),\n",
    "            L2 (language : a set).\n",
    "       Out: L1 concat L2 (language : a set).\n",
    "       Example:\n",
    "       L1 = {'ab', 'bc'} \n",
    "       L2 = {'11', 'ab', '22'} \n",
    "       lcat(L1,L2) -> {'abab', 'bc22', 'ab11', 'ab22', 'bcab', 'bc11'}\n",
    "    \"\"\"\n",
    "    return {x+y for x in L1 for y in L2}"
   ]
  },
  {
   "cell_type": "markdown",
   "metadata": {
    "run_control": {
     "frozen": false,
     "read_only": false
    }
   },
   "source": [
    "Examples of language operations"
   ]
  },
  {
   "cell_type": "code",
   "execution_count": null,
   "metadata": {
    "run_control": {
     "frozen": false,
     "read_only": false
    }
   },
   "outputs": [],
   "source": [
    "L = {'a','bc'}\n",
    "\n",
    "print( \"lcat(lphi(), L) = \",  lcat(lphi(), L) )\n",
    " \n",
    "print( \"lcat(lunit(), L) = \",  lcat(lunit(), L)  )\n",
    "\n"
   ]
  },
  {
   "cell_type": "markdown",
   "metadata": {
    "run_control": {
     "frozen": false,
     "read_only": false
    }
   },
   "source": [
    "Let us define another language through set comprehension, and exercise many different applications of concatenation.\n",
    "\n",
    "\n",
    "* Consider the language\n",
    "\n",
    " > M = $\\{ 0^m 1^n \\; \\mid \\; 0 \\leq m,n \\leq 3 \\;\\wedge\\; m < n \\}$"
   ]
  },
  {
   "cell_type": "code",
   "execution_count": null,
   "metadata": {
    "run_control": {
     "frozen": false,
     "read_only": false
    }
   },
   "outputs": [],
   "source": [
    "M = {\"0\"*m + \"1\"*n for m in range(3) for n in range(4) if m < n }\n",
    "print(M)\n",
    "print(\"lcat(L,M) = \", lcat(L,M))\n",
    "print(\"lcat(M,lphi()) = \", lcat(M,lphi()))\n",
    "print(\"lcat(M,lunit()) = \", lcat(M,lunit()))\n",
    "\n",
    "\n"
   ]
  },
  {
   "cell_type": "markdown",
   "metadata": {
    "run_control": {
     "frozen": false,
     "read_only": false
    }
   },
   "source": [
    "# QN: Show that you understand how lcat works\n",
    "\n",
    "#--answer--\n",
    "\n",
    "* lcat(M,lunit()) == {'1', '11', '00111', '111', '0111', '011'} because: ...one sentence...\n"
   ]
  },
  {
   "cell_type": "markdown",
   "metadata": {
    "run_control": {
     "frozen": false,
     "read_only": false
    }
   },
   "source": [
    "With concatenation and Unit under our belt, we can define exponentiation recursively. Exponentiation is repeated multiplication (which for us is concatenation).\n",
    "\n",
    "> $L^n = L L^{n-1}$\n",
    "\n",
    "> $L^0 = Unit$\n",
    "\n",
    "We must have $L^0 = lunit()$; that is the only logical choice. \n",
    "(If you defined $L^0 = lphi()$, bad things will happen! Know what those bad things are!!)\n",
    "\n",
    "The code below simulates the aforesaid recursion."
   ]
  },
  {
   "cell_type": "code",
   "execution_count": null,
   "metadata": {
    "run_control": {
     "frozen": false,
     "read_only": false
    }
   },
   "outputs": [],
   "source": [
    "def lexp(L,n):\n",
    "    \"\"\"In : L (language : a set),\n",
    "            n (exponent : a nat).\n",
    "       Out: L^n (language : a set).\n",
    "       Example:\n",
    "       L = {'ab', 'bc'}\n",
    "       n = 2\n",
    "       lexp(A,2) -> {'abab', 'bcab', 'bcbc', 'abbc'}\n",
    "    \"\"\"\n",
    "    return lunit() if n == 0 else lcat(L, lexp(L, n-1))"
   ]
  },
  {
   "cell_type": "code",
   "execution_count": null,
   "metadata": {
    "run_control": {
     "frozen": false,
     "read_only": false
    }
   },
   "outputs": [],
   "source": [
    "L = {'a','bc'}\n",
    "\n",
    "M = {\"0\"*m + \"1\"*n for m in range(3) for n in range(4) if m < n }\n",
    "print('M = ', M)\n",
    "print('lexp(M,2) = ')\n",
    "lexp(M,2)"
   ]
  },
  {
   "cell_type": "code",
   "execution_count": null,
   "metadata": {
    "run_control": {
     "frozen": false,
     "read_only": false
    }
   },
   "outputs": [],
   "source": [
    "L = {'a','bc'}\n",
    "M = {\"0\"*m + \"1\"*n for m in range(3) for n in range(4) if m < n }\n",
    "lexp(lcat(L,M),1)"
   ]
  },
  {
   "cell_type": "markdown",
   "metadata": {
    "run_control": {
     "frozen": false,
     "read_only": false
    }
   },
   "source": [
    "With lexp under our belt, we can define lunion and lstar. We will define \"star up to n\" and then set n to infinity.\n",
    "\n",
    "> $L^{*n} = L^n \\; \\cup \\; L^{*(n-1)}$\n",
    "\n",
    "> $L^{*0} = Unit$\n",
    "\n",
    "And thus the classical $L^* = L^{*n}\\;\\; {\\rm for}\\;\\; n=\\infty$, which we won't bother to \"run\" in Python :-).  We will only run $L^{*n}$ in Python.\n",
    "\n",
    "We also take care to test that lstar works correctly for lphi and Unit."
   ]
  },
  {
   "cell_type": "code",
   "execution_count": null,
   "metadata": {
    "run_control": {
     "frozen": false,
     "read_only": false
    }
   },
   "outputs": [],
   "source": [
    "def lunion(L1,L2):\n",
    "    \"\"\"In : L1 (language : a set),\n",
    "            L2 (language : a set).\n",
    "       Out: L1 union L2 (language : a set).\n",
    "    \"\"\"\n",
    "    return L1 | L2\n",
    "\n",
    "def lstar(L,n):\n",
    "    \"\"\"In : L (language : a set),\n",
    "            n (bound for lstar : a nat). \n",
    "       Out: L*_n (language : a set)\n",
    "    Example:\n",
    "    L = {'ab','bc'}\n",
    "    n = 2\n",
    "    lstar(L,2) -> {'abab', 'bcbc', 'ab', 'abbc', '', 'bc', 'bcab'}\n",
    "    \"\"\"\n",
    "    return lunit() if n == 0 else lunion(lexp(L,n), lstar(L,n-1))"
   ]
  },
  {
   "cell_type": "markdown",
   "metadata": {
    "run_control": {
     "frozen": false,
     "read_only": false
    }
   },
   "source": [
    "# QN: Recursive Definitions\n",
    "\n",
    "In the code so far, we have lstar recursively defined in terms of lexp, and lexp defined recursively in terms of lcat. What are the basis cases in these recursive definitions?\n",
    "\n",
    "(under the \"#--answer--\" line  -- just 2 bullets of one sentence each\n",
    "\n",
    "#--answer-- \n",
    "* Basis case for lstar: \n",
    "* Basis case for lexp: "
   ]
  },
  {
   "cell_type": "code",
   "execution_count": null,
   "metadata": {
    "run_control": {
     "frozen": false,
     "read_only": false
    }
   },
   "outputs": [],
   "source": [
    "L1 = {'a','bc'}\n",
    "lstar(L1,2) \n",
    "\n",
    "L2 = {'ab','bc'}\n",
    "lstar(L2,2) \n",
    "\n",
    "L2 = {'ab','bc'}\n",
    "lstar(L2,3)\n",
    "\n"
   ]
  },
  {
   "cell_type": "markdown",
   "metadata": {
    "run_control": {
     "frozen": false,
     "read_only": false
    }
   },
   "source": [
    "# RUN ALL CODE IN THIS NOTEBOOK USING JUPYTER NOTEBOOK\n",
    "\n",
    "Jupyter lab does not like Jupyter widgets. So even if the code ran so far under jupyter lab, switch to Jupyter notebooks and rerun.\n"
   ]
  },
  {
   "cell_type": "markdown",
   "metadata": {
    "run_control": {
     "frozen": false,
     "read_only": false
    }
   },
   "source": [
    "# Interactive depiction of star using widgets\n",
    "\n",
    "Run the code below and show that you can make menu selections to pull-down select L1 and L2."
   ]
  },
  {
   "cell_type": "code",
   "execution_count": null,
   "metadata": {
    "run_control": {
     "frozen": false,
     "read_only": false
    }
   },
   "outputs": [],
   "source": [
    "import ipywidgets as wdg\n",
    "L1 = {'a','bc'}\n",
    "L2 = {'ab','bc'}\n",
    "M =  {'011', '111', '11', '0111', '00111', '1'}\n",
    "\n",
    "wdg.interact(lstar,\n",
    "L={'L1': L1, 'L2':L2, 'M': M, 'lphi': lphi(), 'lunit' : lunit()}, n=(0,7))\n",
    "\n",
    "import ipywidgets as wdg\n",
    "L1 = {'a','bc'}\n",
    "L2 = {'ab','bc'}\n",
    "\n",
    "# L3 = ...define L3 here...\n",
    "\n",
    "M =  {'011', '111', '11', '0111', '00111', '1'}\n",
    "\n",
    "wdg.interact(lstar,\n",
    "L={ # Add the case for'L3': L3,  ..here..\n",
    "   'L1': L1, 'L2':L2, 'M': M, 'lphi': lphi(), 'lunit' : lunit()}, n=(0,7))\n",
    "\n"
   ]
  },
  {
   "cell_type": "markdown",
   "metadata": {
    "run_control": {
     "frozen": false,
     "read_only": false
    }
   },
   "source": [
    "# QN: The star of lunit and lphi\n",
    "\n",
    "Argue that the code for the star of lunit() and lphi() is correct. Write one sentence answer.\n",
    "\n",
    "#--answer--\n",
    "\n",
    "* lunit()'s star appears correct because: ..one sentence here..\n",
    "* lphi()'s star appears correct because: ..one sentence here.."
   ]
  },
  {
   "cell_type": "markdown",
   "metadata": {
    "run_control": {
     "frozen": false,
     "read_only": false
    }
   },
   "source": [
    "# QN: Show that you can extend the Jove code\n",
    "\n",
    "You are required to modify the code in Section ``*Interactive depiction of star using widgets*''\n",
    "\n",
    "Copy the entire code to the cell below (\"copy here\" below) and make these changes:\n",
    "\n",
    "1) In the code\n",
    "\n",
    "```\n",
    "wdg.interact\n",
    "```\n",
    "\n",
    "add another menu item by adding\n",
    "```\n",
    "'L3': L3 \n",
    "```\n",
    "\n",
    "Make sure you have defined \n",
    "```\n",
    "L3 = {'0','1','2'}\n",
    "\n",
    "```\n",
    "right underneath L2's definition.\n",
    "\n",
    "Then show by running the cell below and show that you can obtain the lstar of L3 at size 6.\n",
    "\n",
    "That is, run \n",
    "```\n",
    "lstar(L3, 6)\n",
    "```\n",
    "by using the menu selection.\n",
    "\n",
    "#--answer--- \n",
    "Your answer will be in the next code cell, below."
   ]
  },
  {
   "cell_type": "markdown",
   "metadata": {
    "run_control": {
     "frozen": false,
     "read_only": false
    }
   },
   "source": [
    "# QN: Copy Here"
   ]
  },
  {
   "cell_type": "code",
   "execution_count": null,
   "metadata": {
    "run_control": {
     "frozen": false,
     "read_only": false
    }
   },
   "outputs": [],
   "source": [
    "# YOUR CODE COPIED FROM ABOVE AND MODIFLED!\n",
    "# When this cell is run, you must be able to select L3 and produce lstar(L3, 6)\n",
    "\n",
    "# Your code copy-pasted and modified should be below this line.\n",
    "\n",
    "#--answer--"
   ]
  },
  {
   "cell_type": "markdown",
   "metadata": {
    "run_control": {
     "frozen": false,
     "read_only": false
    }
   },
   "source": [
    "# QN: My L3's star appears correct\n",
    "\n",
    "#--answer--\n",
    "\n",
    "Write one sentence here saying why your definition of L3's star appears correct\n",
    "\n",
    "* My definition of L3's star appears correct because: ...one sentence..."
   ]
  },
  {
   "cell_type": "markdown",
   "metadata": {
    "run_control": {
     "frozen": false,
     "read_only": false
    }
   },
   "source": [
    "Reversal and homomorphism now"
   ]
  },
  {
   "cell_type": "code",
   "execution_count": null,
   "metadata": {
    "run_control": {
     "frozen": false,
     "read_only": false
    }
   },
   "outputs": [],
   "source": [
    "# In Python, there isn't direct support for reversing a string.\n",
    "# The backward selection method implemented by S[::-1] is what \n",
    "# many recommend. This leaves the start and stride empty, and\n",
    "# specifies the direction to be going backwards. \n",
    "# Another method is \"\".join(reversed(s)) to reverse s\n",
    "\n",
    "def srev(S):\n",
    "    \"\"\"In : S (string)\n",
    "       Out: reverse of S (string)\n",
    "       Example:\n",
    "       srev('ab') -> 'ba'\n",
    "    \"\"\"\n",
    "    return S[::-1] \n",
    "\n",
    "def lrev(L):\n",
    "    \"\"\"In : L (language : a set)\n",
    "       Out: reverse of L (language : a set)\n",
    "       Example: \n",
    "       lrev({'ab', 'bc'}) -> {'cb', 'ba'}\n",
    "    \"\"\"\n",
    "    return set(map(lambda x: srev(x), L))\n",
    "\n",
    "def shomo(S,f):\n",
    "    \"\"\"In : S (string)\n",
    "            f (fun\n",
    "            ction from char to char)\n",
    "       Out: String homomorphism of S wrt f.\n",
    "       Example: \n",
    "       S = \"abcd\"\n",
    "       f = lambda x: chr( (ord(x)+1) % 256 )\n",
    "       shomo(\"abcd\",f) -> 'bcde'  \n",
    "    \"\"\"\n",
    "    return \"\".join(map(f,S))\n",
    "\n",
    "def lhomo(L,f):\n",
    "    \"\"\"In : L (language : set of strings)\n",
    "            f (function from char to char)\n",
    "       Out: Lang. homomorphism of L wrt f (language : set of str)\n",
    "       Example:\n",
    "       L = {\"Hello there\", \"a\", \"A\"}\n",
    "       f = rot13 = lambda x: chr( (ord(x)+13) % 256 )\n",
    "       lhomo(L, rot13) -> {'N', 'Uryy|-\\x81ur\\x7fr', 'n'}\n",
    "    \"\"\"\n",
    "    return set(map(lambda S: shomo(S,f), L))"
   ]
  },
  {
   "cell_type": "code",
   "execution_count": null,
   "metadata": {
    "run_control": {
     "frozen": false,
     "read_only": false
    }
   },
   "outputs": [],
   "source": [
    "L={'ab', '007'}\n",
    "\n",
    "# modulo-rotate all chars by one.\n",
    "rot1 = lambda x: chr( (ord(x)+1) % 256 ) \n",
    "\n",
    "# Don't be baffled if the sets print in a different order!               \n",
    "# Sets don't have a required positional presentation order\n",
    "# Watch for the CONTENTS of the set reversing !!\n",
    "print('lrev(L) = ', lrev(L)) \n",
    "\n",
    "print('lhomo(L, rot1) = ', lhomo(L, rot1))\n",
    "\n",
    "print('lrev(lhomo(L), rot1) = ', lrev(lhomo(L, rot1)))\n"
   ]
  },
  {
   "cell_type": "markdown",
   "metadata": {
    "run_control": {
     "frozen": false,
     "read_only": false
    }
   },
   "source": [
    "# QN: The answer is correct\n",
    "\n",
    "* Argue why the following assertion is true:  \n",
    "\n",
    "\n",
    "```\n",
    "lrev(lhomo(L), rot1) ==  {'811', 'cb'}\n",
    "```\n",
    "\n",
    "* .. your answer in one sentence ..\n"
   ]
  },
  {
   "cell_type": "markdown",
   "metadata": {
    "run_control": {
     "frozen": false,
     "read_only": false
    }
   },
   "source": [
    "# Let us now introduce powersets"
   ]
  },
  {
   "cell_type": "markdown",
   "metadata": {
    "run_control": {
     "frozen": false,
     "read_only": false
    }
   },
   "source": [
    "\n",
    "We now define the powerset of a set S. We work with lists, as sets cannot contain other sets (not hashable, etc). But barring all that, here is the recursive definition being used.\n",
    "\n",
    "> Let $PowSminusX$ = $powset(S \\setminus x)$\n",
    "\n",
    "> Then, given $x \\in S$, we have $powset(S)$ = $PowSminusX  \\cup$  { $y\\cup x$  $\\mid$ $y\\in PowSminusX$ } \n",
    "\n",
    "That is,\n",
    "\n",
    "* Take out some $x\\in S$\n",
    "\n",
    "* Recursively compute $PowSminusX$\n",
    "\n",
    "* Now, $powset(S)$ has all the sets in $PowSminusX$ plus all the sets in $PowSminusX$ with $x$ added back, as well.\n",
    "\n",
    "Here is that code now."
   ]
  },
  {
   "cell_type": "markdown",
   "metadata": {
    "run_control": {
     "frozen": false,
     "read_only": false
    }
   },
   "source": [
    "__Below, in a new markdown cell, write a clear description in about 3 sentences of how the\n",
    " mathematical definition above is captured in the code below.\n",
    " Ideal answer: Call out the above three bullets and under each of the\n",
    "above bullets, write the code line that realizes these bullets.__\n",
    "\n"
   ]
  },
  {
   "cell_type": "code",
   "execution_count": null,
   "metadata": {
    "run_control": {
     "frozen": false,
     "read_only": false
    }
   },
   "outputs": [],
   "source": [
    "def powset(S):\n",
    "    \"\"\"In : S (set)\n",
    "       Out: List of lists representing powerset.\n",
    "            Since sets/lists are unhashable, we convert the set \n",
    "            to a list,perform the powerset operations, leaving \n",
    "            the result as a list (can't convert back to a set).\n",
    "       Example:\n",
    "       S = {'ab', 'bc'}\n",
    "       powset(S) -> [['ab', 'bc'], ['bc'], ['ab'], []]\n",
    "    \"\"\"\n",
    "    L=list(S)\n",
    "    if L==[]:\n",
    "        return([[]])\n",
    "    else:\n",
    "        pow_rest0 = powset(L[1:])\n",
    "        pow_rest1 = list(map(lambda Ls: [L[0]] + Ls, pow_rest0))\n",
    "        return(pow_rest0 + pow_rest1)"
   ]
  },
  {
   "cell_type": "markdown",
   "metadata": {
    "run_control": {
     "frozen": false,
     "read_only": false
    }
   },
   "source": [
    "# QN: Testing powset\n",
    "\n",
    "Below, explain the results produced briefly.\n",
    "#--answer--\n",
    "\n",
    "* powset of {a,b,c} appears to be correct, because: ...one sentence..."
   ]
  },
  {
   "cell_type": "code",
   "execution_count": null,
   "metadata": {
    "run_control": {
     "frozen": false,
     "read_only": false
    }
   },
   "outputs": [],
   "source": [
    "powset({'a','b','c'})\n",
    "\n"
   ]
  },
  {
   "cell_type": "markdown",
   "metadata": {
    "run_control": {
     "frozen": false,
     "read_only": false
    }
   },
   "source": [
    "\n",
    "# Finally, we have a whole list of familiar language-theoretic operations:\n",
    "\n",
    "* lunion - language union\n",
    "\n",
    "* lint - language intersection\n",
    "\n",
    "* lsymdiff - language symmetric difference\n",
    "\n",
    "* lminus - language subtraction\n",
    "\n",
    "* lissubset - language subset test\n",
    "\n",
    "* lissuperset - language superset test\n",
    "\n",
    "* lcomplem - language complement with respect to \"star upto m\" of the alphabet (not the full alphabet star, mind you)\n",
    "\n",
    "* product - cartesian product\n",
    "\n",
    "We do not provide too many tests for these rather familiar functions. But please make sure you understand language complements well!\n"
   ]
  },
  {
   "cell_type": "code",
   "execution_count": null,
   "metadata": {
    "run_control": {
     "frozen": false,
     "read_only": false
    }
   },
   "outputs": [],
   "source": [
    "# Define lunion (as before)\n",
    "def lunion(L1,L2):\n",
    "    \"\"\"In : L1 (language : set of strings)\n",
    "            L2 (language : set of strings)\n",
    "       Out: L1 union L2 (sets of strings)\n",
    "    \"\"\"\n",
    "    return L1 | L2\n",
    "\n",
    "def lint(L1,L2):\n",
    "    \"\"\"In : L1 (language : set of strings)\n",
    "            L2 (language : set of strings)\n",
    "       Out: L1 intersection L2 (sets of strings)\n",
    "    \"\"\"\n",
    "    return L1 & L2\n",
    "\n",
    "def lsymdiff(L1,L2):\n",
    "    \"\"\"In : L1 (language : set of strings)\n",
    "            L2 (language : set of strings)\n",
    "       Out: (L1 \\ L2) union (L2 \\ L1) (sets of strings)\n",
    "       Example:\n",
    "       lsymdiff({'ab', 'bc'}, {'11', 'ab', '22'}) -> {'11', '22', 'bc'}\n",
    "    \"\"\"\n",
    "    return L1 ^ L2\n",
    "\n",
    "def lminus(L1,L2):\n",
    "    \"\"\"Language subtraction of two languages (sets of strings)\n",
    "       Can do it as L1.difference(L2) also. \n",
    "    \"\"\"\n",
    "    return L1 - L2\n",
    "\n",
    "def lissubset(L1,L2):\n",
    "    \"\"\"In : L1 (language : set of strings)\n",
    "            L2 (language : set of strings)\n",
    "       Out: L1 is subset or equal to L2 (True/False)\n",
    "    \"\"\"\n",
    "    return L1 <= L2\n",
    "\n",
    "def lissuperset(L1,L2):\n",
    "    \"\"\"In : L1 (language : set of strings)\n",
    "            L2 (language : set of strings)\n",
    "       Out: L1 is superset or equal to L2 (True/False)\n",
    "    \"\"\"\n",
    "    return L1 >= L2\n",
    "    \n",
    "def lcomplem(L,sigma,n):\n",
    "    \"\"\"In : L (language : set of strings)\n",
    "            sigma (alphabet : set of strings)\n",
    "            n (finite limit for lstar : int)\n",
    "       Out : sigma*_n - L (language : set of strings)\n",
    "       Example:\n",
    "       L = {'0', '10', '010'}\n",
    "       sigma = {'0', '1'}\n",
    "       n = 3\n",
    "       lcomplem(L4,{'0','1'}, 3) -> \n",
    "       {'', '000', '101', '011', '00', '1', \n",
    "        '001', '110', '111', '100', '01', '11'}\n",
    "    \"\"\"\n",
    "    return lstar(sigma,n) - L  \n",
    "\n",
    "def product(S1,S2):\n",
    "    \"\"\"In : S1 (set)\n",
    "            S2 (set)\n",
    "       Out: Cartesian product of S1 and S2 (set of pairs)\n",
    "    \"\"\"\n",
    "    return { (x,y) for x in S1 for y in S2 }\n",
    "\n",
    "#--end"
   ]
  },
  {
   "cell_type": "code",
   "execution_count": null,
   "metadata": {
    "run_control": {
     "frozen": false,
     "read_only": false
    }
   },
   "outputs": [],
   "source": [
    "L1 = {'0101'}\n",
    "L2 = lstar({'0','1'}, 2)\n",
    "# Python variable L2L1 denotes concat of L2 and L1\n",
    "L2L1 = lcat(L2,L1) \n",
    "L2L1\n",
    "\n",
    "L3 = lcat(L1, lunion(lunit(), L2L1))\n",
    "L3\n"
   ]
  },
  {
   "cell_type": "markdown",
   "metadata": {
    "run_control": {
     "frozen": false,
     "read_only": false
    }
   },
   "source": [
    "# QN: Show you can define the symmetric difference of two sets in Jove without using \"^\""
   ]
  },
  {
   "cell_type": "markdown",
   "metadata": {
    "run_control": {
     "frozen": false,
     "read_only": false
    }
   },
   "source": [
    "## The code for lsymdiff is written above using Python's\n",
    "```\n",
    "^\n",
    "```\n",
    "operator. Show that you don''t need to use this operator (you can define it using lminus, lunion, etc.)\n",
    "\n",
    "Call this new function new_lsymmdiff.\n",
    "\n",
    "Test it as follows:\n",
    "```\n",
    "new_lsymmdiff(lstar({'0','1'}, 2), lstar({'0','1'}, 3))\n",
    "```\n",
    "\n",
    "## Your answer code is in the next code cell below\n",
    "\n",
    "#--answer---"
   ]
  },
  {
   "cell_type": "code",
   "execution_count": null,
   "metadata": {
    "run_control": {
     "frozen": false,
     "read_only": false
    }
   },
   "outputs": [],
   "source": [
    "# Write your new_lsymmdiff code here and test it in this very cell on the above test\n",
    "\n",
    "# ...code..."
   ]
  },
  {
   "cell_type": "markdown",
   "metadata": {
    "run_control": {
     "frozen": false,
     "read_only": false
    }
   },
   "source": [
    "# Numeric Order"
   ]
  },
  {
   "cell_type": "code",
   "execution_count": null,
   "metadata": {
    "run_control": {
     "frozen": false,
     "read_only": false
    }
   },
   "outputs": [],
   "source": [
    "from math import floor, log, pow\n",
    "def nthnumeric(N, Sigma={'a','b'}):\n",
    "    \"\"\"Assume Sigma is a 2-sized list/set of chars (default {'a','b'}). \n",
    "       Produce the Nth string in numeric order, where N >= 0.\n",
    "       Idea : Given N, get b = floor(log_2(N+1)) - need that \n",
    "       many places; what to fill in the places is the binary \n",
    "       code for N - (2^b - 1) with 0 as Sigma[0] and 1 as Sigma[1].    \n",
    "    \"\"\"\n",
    "    if (type(Sigma)==set):\n",
    "       S = list(Sigma)\n",
    "    else:\n",
    "       assert(type(Sigma)==list\n",
    "       ), \"Expected to be given set/list for arg2 of nthnumeric.\"\n",
    "       S = Sigma\n",
    "    assert(len(Sigma)==2\n",
    "          ),\"Expected to be given a Sigma of length 2.\"\n",
    "    if(N==0):\n",
    "        return ''\n",
    "    else:\n",
    "        width = floor(log(N+1, 2))\n",
    "        tofill = int(N - pow(2, width) + 1)\n",
    "        relevant_binstr = bin(tofill)[2::] # strip the 0b \n",
    "                                           # in the leading string\n",
    "        len_to_makeup = width - len(relevant_binstr)\n",
    "        return (S[0]*len_to_makeup + \n",
    "                shomo(relevant_binstr,\n",
    "                      lambda x: S[1] if x=='1' else S[0]))"
   ]
  },
  {
   "cell_type": "markdown",
   "metadata": {
    "run_control": {
     "frozen": false,
     "read_only": false
    }
   },
   "source": [
    "# Testing Numeric Order"
   ]
  },
  {
   "cell_type": "code",
   "execution_count": null,
   "metadata": {
    "run_control": {
     "frozen": false,
     "read_only": false
    }
   },
   "outputs": [],
   "source": [
    "nthnumeric(7,['0','1'])\n"
   ]
  },
  {
   "cell_type": "markdown",
   "metadata": {
    "run_control": {
     "frozen": false,
     "read_only": false
    }
   },
   "source": [
    "# QN: Justify that the above answer is correct\n",
    "#--answer--\n",
    "\n",
    "* nthnumeric(7, ['0', '1']) produces '000' because: ...one sentence...\n"
   ]
  },
  {
   "cell_type": "code",
   "execution_count": null,
   "metadata": {
    "run_control": {
     "frozen": false,
     "read_only": false
    }
   },
   "outputs": [],
   "source": [
    "# This is an excellent recipe for generating test inputs to machines\n",
    "\n",
    "tests = [ nthnumeric(i, ['0','1']) for i in range(18) ]\n",
    "for inp in tests:\n",
    "    print(\"Test input =\", inp)\n",
    "    \n",
    "# Below, explain the results produced briefly.\n",
    "#--answer--    "
   ]
  },
  {
   "cell_type": "markdown",
   "metadata": {
    "run_control": {
     "frozen": false,
     "read_only": false
    }
   },
   "source": [
    "# Introducing DFA\n",
    "\n",
    "The video below corresponds to Drive_DFA_Unit1.ipynb that is found\n",
    "in the \"notebooks/driver\" link of the Jove github"
   ]
  },
  {
   "cell_type": "code",
   "execution_count": null,
   "metadata": {
    "run_control": {
     "frozen": false,
     "read_only": false
    }
   },
   "outputs": [],
   "source": [
    "# This Youtube video walks through this notebook\n",
    "# Watch and enjoy. No specific work yet.\n",
    "# You can put in 2x speed and quickly watch, slowing down when\n",
    "# interesting parts come!\n",
    "\n",
    "from IPython.display import YouTubeVideo\n",
    "YouTubeVideo('Bdr926TeQyQ')"
   ]
  },
  {
   "cell_type": "markdown",
   "metadata": {
    "run_control": {
     "frozen": false,
     "read_only": false
    }
   },
   "source": [
    "# Basics of DFA\n",
    "\n",
    "This unit is going to introduce you to the basics of Deterministic Finite Automata and Regular Languages.\n",
    "\n",
    "We have recorded a Youtube video that will explain this notebook plus a few related things! This will serve as material for Lecture 4 and perhaps also later lectures."
   ]
  },
  {
   "cell_type": "markdown",
   "metadata": {
    "run_control": {
     "frozen": false,
     "read_only": false
    }
   },
   "source": [
    " ## Regular languages\n",
    "\n",
    "Regular languages are one family (or set) of languages. (Both words \"family\" and \"set\" mean the same.)\n",
    "\n",
    "A regular language is specified by drawing a DFA. Once you finish drawing a DFA, you would have defined a regular language. (We will soon tell you why you might want to take the trouble of drawing DFA and obtain regular languages. For now, we will finish defining terms.)  \n",
    "\n",
    "Ultimately the aim is to not produce drawings. We aim to define a simple type of machine that represents goto based programs. we shall define the notion of a transition system and introduce a simple text-based markdown language that helps specify transition systems. Once the transition system is defined, a drawing can be automatically produced using utilities we provide. However we shall continue to say \"draw a DFA\" to mean \"specify a transition system.\"\n",
    "\n",
    "## There are an infinite number of DFAs that can denote the same regular language\n",
    "\n",
    "Much like 1+1 and 3-1 both denote number 2, and there are an infinite number of arithmetic expressions that denote 2, there are an infinite number of transition systems that denote the same regular language. But usually we don't write 364-362 in order to convey \"2\" (e.g., you seldom order (364-362) pancakes in a restaurant.) The same way, you try to specify the simplest possible DFA to denote a particular regular language -- not an artificially bloated one.\n",
    "\n",
    "However, with numbers, we know that \"2\" is simpler than (364-362). With DFA, don't worry: even if you did not draw the simplest DFA, there is an automated tool that we shall give you that creates the simplest DFA. Yes, there is a unique simplest DFA called the minimal DFA for each regular language.\n",
    "\n",
    "## There are an infinite number of regular languages\n",
    "\n",
    "Much like there are an infinite number of natural numbers, there are also an infinite number of regular languages. So let us get the two ideas of infinity introduced so far straight:\n",
    "\n",
    "* Each natural number can be written in an infinite number of variants. E.g., 1 = 2-1 = 3-2 = 4-3 = ...\n",
    "    - Similarly, each regular language can be denoted by an infinite number of DFA\n",
    "  \n",
    "  \n",
    "* There are an infinite number of natural numbers, e.g., 0,1,2, ...\n",
    "    - Similarly, there are an infinite number of regular languages\n"
   ]
  },
  {
   "cell_type": "markdown",
   "metadata": {
    "run_control": {
     "frozen": false,
     "read_only": false
    }
   },
   "source": [
    "# JFLAP: a tool for interactive study of DFA\n",
    "\n",
    "I will be introducing JFLAP in class. Please take notes then."
   ]
  },
  {
   "cell_type": "markdown",
   "metadata": {
    "run_control": {
     "frozen": false,
     "read_only": false
    }
   },
   "source": [
    "# Using Jove for DFA\n",
    "\n",
    "We shall be using Jove's markdown notation to specify DFA.  \n",
    "\n"
   ]
  },
  {
   "cell_type": "code",
   "execution_count": null,
   "metadata": {
    "run_control": {
     "frozen": false,
     "read_only": false
    }
   },
   "outputs": [],
   "source": [
    "from jove.DotBashers import *\n",
    "from jove.Def_md2mc import *\n",
    "from jove.Def_DFA   import *"
   ]
  },
  {
   "cell_type": "markdown",
   "metadata": {
    "run_control": {
     "frozen": false,
     "read_only": false
    }
   },
   "source": [
    "# Now we begin our work building DFA.\n",
    "\n",
    "As we go along, we will also be teaching you how to \"think DFA\" so that you can code them up \"straight from your head\"\n",
    "\n",
    "\n",
    "## Jove's markdown\n",
    "\n",
    "Jove's markdown is designed to cover four machine types:\n",
    "\n",
    "1. DFA\n",
    "2. NFA\n",
    "3. PDA\n",
    "4. TM\n",
    " \n",
    "There are only these four basic machine types one studies in most automata theory courses.\n",
    "\n",
    "## Markdown syntax for DFA\n",
    "\n",
    "The markdown syntax for DFA is quite simple. To understand what we are about to say below, kindly refer to Def_DFA.ipynb and un\n",
    "\n",
    "Given that a DFA consists of a set of states, an initial state, a possibly empty set of final states, and a transition function, we want to have an arrangement by which we require the user to specify the least and infer everything else.\n",
    "\n",
    "Thus we settle on a notation that specifies the transition function. We will add a few details that allows us to infer the initial and final states. Specifically, to describe a DFA:\n",
    "\n",
    "* Specify a state with name beginning with I that will be the initial state (lower-case i is OK too)\n",
    "\n",
    "* If the DFA in question has an initial state that is also a final state, let the state name begin with IF (lowercase if is OK)\n",
    "\n",
    "* For final states, use a name that begins with F or f\n",
    "\n",
    "* Then just specify-away transitions. \n",
    "\n",
    "### Example DFA\n",
    "\n",
    "We will now specify the DFA whose language is the set of strings that have the same number of 01 and 10 transitions. We will specify the transitions below in markdown within triple quotes initially, and then present the same in a code cell.\n",
    "\n",
    "We decide to include $\\varepsilon$ as well as single occurrences of $0$ and $1$. These strings all trivially contain an equal number of 01 and 10 transitions.\n",
    "\n",
    "Let us design this DFA bit by bit, this being our first example. We will show the final result under \"putting it all together,\" below.\n",
    "\n",
    "#### Initial state and the first few moves\n",
    "\n",
    "We begin in state IF, meaning that it is initial and final. This is how we admit $\\varepsilon$ into the machine's language. Now from IF, upon 0 or upon 1, we must still go to a final state, as the machine must accept a $0$ or a $1$ because a single $0$ or $1$ has an equal number of $01$ and $10$ changes -- meaning $0$ such!\n",
    "\n",
    "We can even plot these partial DFA as we move along. Just don't run them -- that is all! \n",
    "\n",
    "** NOTE ** : When you present your solutions, present only the final product, and not every intermediate DFA"
   ]
  },
  {
   "cell_type": "code",
   "execution_count": null,
   "metadata": {
    "run_control": {
     "frozen": false,
     "read_only": false
    }
   },
   "outputs": [],
   "source": [
    "dotObj_dfa(md2mc('''\n",
    "DFA\n",
    "IF : 0 -> F0  !! a single 0 does not change the number of 01 or 10 transitions\n",
    "IF : 1 -> F1  !! so, go to an accepting state\n",
    "'''))"
   ]
  },
  {
   "cell_type": "markdown",
   "metadata": {
    "run_control": {
     "frozen": false,
     "read_only": false
    }
   },
   "source": [
    "#### Fully decode at every state, transitioning to appropriate states \n",
    "\n",
    "We now fill all other moves, decoding upon a 0 or a 1 at every state, keeping the overall semantics in mind."
   ]
  },
  {
   "cell_type": "code",
   "execution_count": null,
   "metadata": {
    "run_control": {
     "frozen": false,
     "read_only": false
    }
   },
   "outputs": [],
   "source": [
    "# Pick up from before, adding more lines to the DFA description\n",
    "dotObj_dfa(md2mc('''\n",
    "DFA\n",
    "IF : 0 -> F0   !! a single 0 does not change the number of 01 or 10 transitions\n",
    "IF : 1 -> F1   !! so, go to an accepting state\n",
    "F0 : 0 -> F0\n",
    "F1 : 1 -> F1\n",
    "F0 : 1 -> S01  !! There is a 01 transition but no 10 transition. So go to non-accepting state\n",
    "F1 : 0 -> S10  !! ditto.  It has introduced a 10 transition without a  01 transition\n",
    "'''))"
   ]
  },
  {
   "cell_type": "markdown",
   "metadata": {
    "run_control": {
     "frozen": false,
     "read_only": false
    }
   },
   "source": [
    "### Finish the DFA\n",
    "\n",
    "Now that we have made incremental progress and have our thoughts flowing, let's go ahead and\n",
    "finish the DFA. Plus we also name the DFA object and hold onto it, and then also plot wrt that name.\n",
    "See the details below."
   ]
  },
  {
   "cell_type": "code",
   "execution_count": null,
   "metadata": {
    "run_control": {
     "frozen": false,
     "read_only": false
    }
   },
   "outputs": [],
   "source": [
    "# Pick up from before, adding more lines to the DFA description\n",
    "EqChangeDFA = md2mc('''\n",
    "DFA\n",
    "!!--\n",
    "IF : 0 -> F0   !! a single 0 does not change the number of 01 or 10 transitions\n",
    "IF : 1 -> F1   !! so, go to an accepting state\n",
    "F0 : 0 -> F0\n",
    "F1 : 1 -> F1\n",
    "F0 : 1 -> S01  !! There is a 01 transition but no 10 transition. So go to non-accepting state\n",
    "F1 : 0 -> S10  !! ditto.  It has introduced a 10 transition without a  01 transition\n",
    "S01: 1 -> S01  !! Remain in S01 as the 01 vs 10 balance has not been restored\n",
    "S10: 0 -> S10  !! Similar reasoning as above\n",
    "S01: 0 -> F0   !! Balance restored now!\n",
    "S10: 1 -> F1   !! Balance restored now!\n",
    "!!--- \n",
    "!! this finishes the construction, as we have accounted for all transitions\n",
    "''')"
   ]
  },
  {
   "cell_type": "code",
   "execution_count": null,
   "metadata": {
    "run_control": {
     "frozen": false,
     "read_only": false
    }
   },
   "outputs": [],
   "source": [
    "# Let us view the internal Python representation of \n",
    "# DFA as an n-tuple (Q, Sigma, Delta, q0, F)\n",
    "EqChangeDFA"
   ]
  },
  {
   "cell_type": "code",
   "execution_count": null,
   "metadata": {
    "run_control": {
     "frozen": false,
     "read_only": false
    }
   },
   "outputs": [],
   "source": [
    "# Now let us view the DFA as a graph\n",
    "dotObj_dfa(EqChangeDFA)"
   ]
  },
  {
   "cell_type": "markdown",
   "metadata": {
    "run_control": {
     "frozen": false,
     "read_only": false
    }
   },
   "source": [
    "### Running a constructed DFA\n",
    "\n",
    "We run a DFA by generating a collection of strings and generating the status of run (feeding it to accepts_dfa)\n",
    "The full language of the DFA is infinitary, and so we won't present all of it (obviously) but only enough of it\n",
    "to believe that we have built the correct DFA. Later we can check properties and conclude that the machine has\n",
    "all the required moves."
   ]
  },
  {
   "cell_type": "code",
   "execution_count": null,
   "metadata": {
    "run_control": {
     "frozen": false,
     "read_only": false
    }
   },
   "outputs": [],
   "source": [
    "from math import floor, log, pow\n",
    "def nthnumeric(N, Sigma={'a','b'}):\n",
    "    \"\"\"Assume Sigma is a 2-sized list/set of chars (default {'a','b'}). \n",
    "       Produce the Nth string in numeric order, where N >= 0.\n",
    "       Idea : Given N, get b = floor(log_2(N+1)) - need that \n",
    "       many places; what to fill in the places is the binary \n",
    "       code for N - (2^b - 1) with 0 as Sigma[0] and 1 as Sigma[1].    \n",
    "    \"\"\"\n",
    "    if (type(Sigma)==set):\n",
    "       S = list(Sigma)\n",
    "    else:\n",
    "       assert(type(Sigma)==list\n",
    "       ), \"Expected to be given set/list for arg2 of nthnumeric.\"\n",
    "       S = Sigma\n",
    "    assert(len(Sigma)==2\n",
    "          ),\"Expected to be given a Sigma of length 2.\"\n",
    "    if(N==0):\n",
    "        return ''\n",
    "    else:\n",
    "        width = floor(log(N+1, 2))\n",
    "        tofill = int(N - pow(2, width) + 1)\n",
    "        relevant_binstr = bin(tofill)[2::] # strip the 0b \n",
    "                                           # in the leading string\n",
    "        len_to_makeup = width - len(relevant_binstr)\n",
    "        return (S[0]*len_to_makeup + \n",
    "                shomo(relevant_binstr,\n",
    "                      lambda x: S[1] if x=='1' else S[0]))"
   ]
  },
  {
   "cell_type": "code",
   "execution_count": null,
   "metadata": {
    "run_control": {
     "frozen": false,
     "read_only": false
    },
    "scrolled": true
   },
   "outputs": [],
   "source": [
    "tests = [ nthnumeric(i, ['0','1']) for i in range(19) ]\n",
    "for t in tests:\n",
    "    if accepts_dfa(EqChangeDFA, t):\n",
    "        print(\"This DFA accepts \", t)\n",
    "    else:\n",
    "        print(\"This DFA rejects \", t)"
   ]
  },
  {
   "cell_type": "markdown",
   "metadata": {
    "run_control": {
     "frozen": false,
     "read_only": false
    }
   },
   "source": [
    "# QN: Answer in six sentences\n",
    "\n",
    "Write a paragraph of about 6 sentences (6 bullets) on how Jove helped you define a DFA and test it using the function nthnumeric.\n",
    "\n",
    "#--answer--\n",
    "\n",
    "* The DFA was created using Jove's markdown. A state that is initial and final begins with: ...one sentence...\n",
    "* A state that is only final begins with: ...one sentence...\n",
    "* Function nthnumeric gives you a good way to test DFA exhaustively upto a size, because: ...one sentence...\n",
    "  - If the alphabet size is above 2, then nthnumeric, as implemented in Jove, is not very\n",
    "    helpful for testing because ...one sentence...\n",
    "  - Then I can test using lstar(L,n) for some value of n, because, unlike nthnumeric,\n",
    "    lstar can take alphabets of size... : ...one phrase...\n",
    "* Comments in Jove's markdown must begin with: ...one sentence...\n",
    "* The function to draw a DFA is <<this one>> : ...one sentence...\n",
    "* Overall, the DFA was entered piece by piece, each time producing a drawing for the partially finished piece. In the above example, we drew this many partial DFAs before finally finishing it: ...your answer..."
   ]
  },
  {
   "cell_type": "markdown",
   "metadata": {
    "run_control": {
     "frozen": false,
     "read_only": false
    }
   },
   "source": [
    "END of Quiz2"
   ]
  }
 ],
 "metadata": {
  "kernelspec": {
   "display_name": "Python 3",
   "language": "python",
   "name": "python3"
  },
  "language_info": {
   "codemirror_mode": {
    "name": "ipython",
    "version": 3
   },
   "file_extension": ".py",
   "mimetype": "text/x-python",
   "name": "python",
   "nbconvert_exporter": "python",
   "pygments_lexer": "ipython3",
   "version": "3.6.0"
  },
  "toc": {
   "colors": {
    "hover_highlight": "#DAA520",
    "running_highlight": "#FF0000",
    "selected_highlight": "#FFD700"
   },
   "moveMenuLeft": true,
   "nav_menu": {
    "height": "66px",
    "width": "252px"
   },
   "navigate_menu": true,
   "number_sections": true,
   "sideBar": true,
   "threshold": 4,
   "toc_cell": false,
   "toc_section_display": "block",
   "toc_window_display": false,
   "widenNotebook": false
  },
  "widgets": {
   "state": {
    "14213a912bee4fe39a1935ea3f5cedae": {
     "views": [
      {
       "cell_index": 23
      }
     ]
    },
    "a61e1a102c1d4394bd8b83ae326c2d80": {
     "views": [
      {
       "cell_index": 23
      }
     ]
    }
   },
   "version": "1.2.0"
  }
 },
 "nbformat": 4,
 "nbformat_minor": 2
}
