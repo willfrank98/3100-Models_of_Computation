{
 "cells": [
  {
   "cell_type": "markdown",
   "metadata": {
    "run_control": {
     "frozen": false,
     "read_only": false
    }
   },
   "source": [
    "# Quiz-2: Jove part\n",
    "\n",
    "## General Notes\n",
    "\n",
    "* **USE Jupyter notebook -- not Jupyter lab** -- for this quiz, because Jupyter widgets don't work correctly under the latter\n",
    "\n",
    "* NOTE THAT since the quizzes are given to you each week and there are roughly 150 of you, we can't provide deep comments on your work. These Jove quizzes are mainly for your \"self-study\". If you have questions, please let us know through Canvas or during office hours.\n",
    "\n",
    "* VERY IMPORTANT: If a cell's numbering \"In [ ]\" remains stuck as follows\n",
    "```\n",
    "In [*]\n",
    "```\n",
    "It means that this cell is infinitely looping. Remove the infinite loop if you can. If you can't debug the situation, contact us via Canvas, sending us the Jupyter (Jove) notebook.\n",
    "\n",
    "\n",
    "## Goals of Quiz-2\n",
    "\n",
    "* Learn about language operations\n",
    "* Read lots of Jove code \n",
    "* RUN and then READ ALL THE CODE IN THIS NOTEBOOK)!! We won't test you on all your reading, but still, reading is to your advantage\n",
    "* Watch two videos, one on languages and another on DFA\n",
    "* Learn how to extend these Jove modules\n",
    "* Learn how to define and test DFA\n",
    "\n",
    "\n",
    "\n",
    "## How to answer\n",
    "\n",
    "* Each section starting with \"QN: \" is a question. An answer is expected under that section.\n",
    "* Run various commands and observe the results.  \n",
    "  __Wherever I have placed the string #--answer-- , an answer is expected in either a code cell or a markdown cell, placed below the #--answer-- string.__  \n",
    "\n",
    "\n"
   ]
  },
  {
   "cell_type": "markdown",
   "metadata": {
    "run_control": {
     "frozen": false,
     "read_only": false
    }
   },
   "source": [
    "# Video on Alphabet, Languages, etc.\n",
    "\n",
    "__Unfortunately the recording volume was not high. Please wear a head-set__"
   ]
  },
  {
   "cell_type": "code",
   "execution_count": 1,
   "metadata": {
    "run_control": {
     "frozen": false,
     "read_only": false
    }
   },
   "outputs": [
    {
     "data": {
      "image/jpeg": "[encoded data removed]",
      "text/html": [
       "\n",
       "        <iframe\n",
       "            width=\"400\"\n",
       "            height=\"300\"\n",
       "            src=\"https://www.youtube.com/embed/TAEYvJn5eGc\"\n",
       "            frameborder=\"0\"\n",
       "            allowfullscreen\n",
       "        ></iframe>\n",
       "        "
      ],
      "text/plain": [
       "<IPython.lib.display.YouTubeVideo at 0x20aa3386cf8>"
      ]
     },
     "execution_count": 1,
     "metadata": {},
     "output_type": "execute_result"
    }
   ],
   "source": [
    "# This video corresponds to the Jupyter file\n",
    "# Module2_LanguageOps.ipynb that you can find under \"notebook/driver\"\n",
    "# of the Jove github\n",
    "\n",
    "from IPython.display import YouTubeVideo\n",
    "YouTubeVideo('TAEYvJn5eGc')"
   ]
  },
  {
   "cell_type": "markdown",
   "metadata": {
    "run_control": {
     "frozen": false,
     "read_only": false
    }
   },
   "source": [
    "# QN: Provide a summary of the above video  \n",
    "\n",
    "Under the \"#--answer--\" line  -- just 5 bullets of one sentence each. Just pick out some highlights of Jove. There is no \"best answer\". A reasonable effort is what we are looking for.\n",
    "\n",
    "#--answer-- \n",
    "* Jove supports sliders and combo boxes as input to methods\n",
    "* A homomorphism is a one to one and onto function on a language\n",
    "* Python does not allow for 2D+ sets\n",
    "* Powersets grow exponentially\n",
    "* Computing a true complement in python is impossible due to the infinity involved"
   ]
  },
  {
   "cell_type": "markdown",
   "metadata": {
    "run_control": {
     "frozen": false,
     "read_only": false
    }
   },
   "source": [
    "# Code to define language operations\n"
   ]
  },
  {
   "cell_type": "markdown",
   "metadata": {
    "run_control": {
     "frozen": false,
     "read_only": false
    }
   },
   "source": [
    "We first define the zero or phi or empty language"
   ]
  },
  {
   "cell_type": "code",
   "execution_count": 3,
   "metadata": {
    "run_control": {
     "frozen": false,
     "read_only": false
    }
   },
   "outputs": [],
   "source": [
    "# The theory of languages : Primitive languages and language builders\n",
    "\n",
    "def lphi():\n",
    "    \"\"\"In : None.\n",
    "       Out: Zero language, i.e. set({}).\n",
    "    \"\"\"\n",
    "    return set({})  # {} could be dict; so we put set(..)"
   ]
  },
  {
   "cell_type": "markdown",
   "metadata": {
    "run_control": {
     "frozen": false,
     "read_only": false
    }
   },
   "source": [
    "Now let us define the Unit language (\"1\" for languages with respect to concatenation viewed as multiplication).\n",
    "\n",
    "Let us also define language concatenation.\n",
    "\n",
    "> $L1 \\; L2 \\;\\; =\\;\\;  \\{x y \\; \\mid \\; x\\in L1 \\;\\wedge\\; y\\in L2\\}$"
   ]
  },
  {
   "cell_type": "code",
   "execution_count": 4,
   "metadata": {
    "run_control": {
     "frozen": false,
     "read_only": false
    }
   },
   "outputs": [],
   "source": [
    "def lunit():\n",
    "    \"\"\"In : None.\n",
    "       Out: {\"\"} (a language : a set).\n",
    "    \"\"\"\n",
    "    return {\"\"} # Set with epsilon\n",
    "\n",
    "def lcat(L1,L2):\n",
    "    \"\"\"In : L1 (language : a set),\n",
    "            L2 (language : a set).\n",
    "       Out: L1 concat L2 (language : a set).\n",
    "       Example:\n",
    "       L1 = {'ab', 'bc'} \n",
    "       L2 = {'11', 'ab', '22'} \n",
    "       lcat(L1,L2) -> {'abab', 'bc22', 'ab11', 'ab22', 'bcab', 'bc11'}\n",
    "    \"\"\"\n",
    "    return {x+y for x in L1 for y in L2}"
   ]
  },
  {
   "cell_type": "markdown",
   "metadata": {
    "run_control": {
     "frozen": false,
     "read_only": false
    }
   },
   "source": [
    "Examples of language operations"
   ]
  },
  {
   "cell_type": "code",
   "execution_count": 5,
   "metadata": {
    "run_control": {
     "frozen": false,
     "read_only": false
    }
   },
   "outputs": [
    {
     "name": "stdout",
     "output_type": "stream",
     "text": [
      "lcat(lphi(), L) =  set()\n",
      "lcat(lunit(), L) =  {'a', 'bc'}\n"
     ]
    }
   ],
   "source": [
    "L = {'a','bc'}\n",
    "\n",
    "print( \"lcat(lphi(), L) = \",  lcat(lphi(), L) )\n",
    " \n",
    "print( \"lcat(lunit(), L) = \",  lcat(lunit(), L)  )\n",
    "\n"
   ]
  },
  {
   "cell_type": "markdown",
   "metadata": {
    "run_control": {
     "frozen": false,
     "read_only": false
    }
   },
   "source": [
    "Let us define another language through set comprehension, and exercise many different applications of concatenation.\n",
    "\n",
    "\n",
    "* Consider the language\n",
    "\n",
    " > M = $\\{ 0^m 1^n \\; \\mid \\; 0 \\leq m,n \\leq 3 \\;\\wedge\\; m < n \\}$"
   ]
  },
  {
   "cell_type": "code",
   "execution_count": 6,
   "metadata": {
    "run_control": {
     "frozen": false,
     "read_only": false
    }
   },
   "outputs": [
    {
     "name": "stdout",
     "output_type": "stream",
     "text": [
      "{'11', '111', '1', '00111', '011', '0111'}\n",
      "lcat(L,M) =  {'a00111', 'a1', 'a0111', 'bc1', 'bc00111', 'bc11', 'a011', 'bc111', 'a111', 'bc0111', 'a11', 'bc011'}\n",
      "lcat(M,lphi()) =  set()\n",
      "lcat(M,lunit()) =  {'11', '111', '1', '00111', '011', '0111'}\n"
     ]
    }
   ],
   "source": [
    "M = {\"0\"*m + \"1\"*n for m in range(3) for n in range(4) if m < n }\n",
    "print(M)\n",
    "print(\"lcat(L,M) = \", lcat(L,M))\n",
    "print(\"lcat(M,lphi()) = \", lcat(M,lphi()))\n",
    "print(\"lcat(M,lunit()) = \", lcat(M,lunit()))\n",
    "\n",
    "\n"
   ]
  },
  {
   "cell_type": "markdown",
   "metadata": {
    "run_control": {
     "frozen": false,
     "read_only": false
    }
   },
   "source": [
    "# QN: Show that you understand how lcat works\n",
    "\n",
    "#--answer--\n",
    "\n",
    "* lcat(M,lunit()) == {'1', '11', '00111', '111', '0111', '011'} because: Concatenating the unit language with another language does not modify the other language."
   ]
  },
  {
   "cell_type": "markdown",
   "metadata": {
    "run_control": {
     "frozen": false,
     "read_only": false
    }
   },
   "source": [
    "With concatenation and Unit under our belt, we can define exponentiation recursively. Exponentiation is repeated multiplication (which for us is concatenation).\n",
    "\n",
    "> $L^n = L L^{n-1}$\n",
    "\n",
    "> $L^0 = Unit$\n",
    "\n",
    "We must have $L^0 = lunit()$; that is the only logical choice. \n",
    "(If you defined $L^0 = lphi()$, bad things will happen! Know what those bad things are!!)\n",
    "\n",
    "The code below simulates the aforesaid recursion."
   ]
  },
  {
   "cell_type": "code",
   "execution_count": 7,
   "metadata": {
    "run_control": {
     "frozen": false,
     "read_only": false
    }
   },
   "outputs": [],
   "source": [
    "def lexp(L,n):\n",
    "    \"\"\"In : L (language : a set),\n",
    "            n (exponent : a nat).\n",
    "       Out: L^n (language : a set).\n",
    "       Example:\n",
    "       L = {'ab', 'bc'}\n",
    "       n = 2\n",
    "       lexp(A,2) -> {'abab', 'bcab', 'bcbc', 'abbc'}\n",
    "    \"\"\"\n",
    "    return lunit() if n == 0 else lcat(L, lexp(L, n-1))"
   ]
  },
  {
   "cell_type": "code",
   "execution_count": 8,
   "metadata": {
    "run_control": {
     "frozen": false,
     "read_only": false
    }
   },
   "outputs": [
    {
     "name": "stdout",
     "output_type": "stream",
     "text": [
      "M =  {'11', '111', '1', '00111', '011', '0111'}\n",
      "lexp(M,2) = \n"
     ]
    },
    {
     "data": {
      "text/plain": [
       "{'0011100111',\n",
       " '00111011',\n",
       " '001110111',\n",
       " '001111',\n",
       " '0011111',\n",
       " '00111111',\n",
       " '01100111',\n",
       " '011011',\n",
       " '0110111',\n",
       " '0111',\n",
       " '011100111',\n",
       " '0111011',\n",
       " '01110111',\n",
       " '01111',\n",
       " '011111',\n",
       " '0111111',\n",
       " '100111',\n",
       " '1011',\n",
       " '10111',\n",
       " '11',\n",
       " '1100111',\n",
       " '11011',\n",
       " '110111',\n",
       " '111',\n",
       " '11100111',\n",
       " '111011',\n",
       " '1110111',\n",
       " '1111',\n",
       " '11111',\n",
       " '111111'}"
      ]
     },
     "execution_count": 8,
     "metadata": {},
     "output_type": "execute_result"
    }
   ],
   "source": [
    "L = {'a','bc'}\n",
    "\n",
    "M = {\"0\"*m + \"1\"*n for m in range(3) for n in range(4) if m < n }\n",
    "print('M = ', M)\n",
    "print('lexp(M,2) = ')\n",
    "lexp(M,2)"
   ]
  },
  {
   "cell_type": "code",
   "execution_count": 9,
   "metadata": {
    "run_control": {
     "frozen": false,
     "read_only": false
    }
   },
   "outputs": [
    {
     "data": {
      "text/plain": [
       "{'a00111',\n",
       " 'a011',\n",
       " 'a0111',\n",
       " 'a1',\n",
       " 'a11',\n",
       " 'a111',\n",
       " 'bc00111',\n",
       " 'bc011',\n",
       " 'bc0111',\n",
       " 'bc1',\n",
       " 'bc11',\n",
       " 'bc111'}"
      ]
     },
     "execution_count": 9,
     "metadata": {},
     "output_type": "execute_result"
    }
   ],
   "source": [
    "L = {'a','bc'}\n",
    "M = {\"0\"*m + \"1\"*n for m in range(3) for n in range(4) if m < n }\n",
    "lexp(lcat(L,M),1)"
   ]
  },
  {
   "cell_type": "markdown",
   "metadata": {
    "run_control": {
     "frozen": false,
     "read_only": false
    }
   },
   "source": [
    "With lexp under our belt, we can define lunion and lstar. We will define \"star up to n\" and then set n to infinity.\n",
    "\n",
    "> $L^{*n} = L^n \\; \\cup \\; L^{*(n-1)}$\n",
    "\n",
    "> $L^{*0} = Unit$\n",
    "\n",
    "And thus the classical $L^* = L^{*n}\\;\\; {\\rm for}\\;\\; n=\\infty$, which we won't bother to \"run\" in Python :-).  We will only run $L^{*n}$ in Python.\n",
    "\n",
    "We also take care to test that lstar works correctly for lphi and Unit."
   ]
  },
  {
   "cell_type": "code",
   "execution_count": 10,
   "metadata": {
    "run_control": {
     "frozen": false,
     "read_only": false
    }
   },
   "outputs": [],
   "source": [
    "def lunion(L1,L2):\n",
    "    \"\"\"In : L1 (language : a set),\n",
    "            L2 (language : a set).\n",
    "       Out: L1 union L2 (language : a set).\n",
    "    \"\"\"\n",
    "    return L1 | L2\n",
    "\n",
    "def lstar(L,n):\n",
    "    \"\"\"In : L (language : a set),\n",
    "            n (bound for lstar : a nat). \n",
    "       Out: L*_n (language : a set)\n",
    "    Example:\n",
    "    L = {'ab','bc'}\n",
    "    n = 2\n",
    "    lstar(L,2) -> {'abab', 'bcbc', 'ab', 'abbc', '', 'bc', 'bcab'}\n",
    "    \"\"\"\n",
    "    return lunit() if n == 0 else lunion(lexp(L,n), lstar(L,n-1))"
   ]
  },
  {
   "cell_type": "markdown",
   "metadata": {
    "run_control": {
     "frozen": false,
     "read_only": false
    }
   },
   "source": [
    "# QN: Recursive Definitions\n",
    "\n",
    "In the code so far, we have lstar recursively defined in terms of lexp, and lexp defined recursively in terms of lcat. What are the basis cases in these recursive definitions?\n",
    "\n",
    "(under the \"#--answer--\" line  -- just 2 bullets of one sentence each\n",
    "\n",
    "#--answer-- \n",
    "* Basis case for lstar: when n = 0, the unit language is union'd in and lstar is done\n",
    "* Basis case for lexp: when n = 0, the unit language is concatenated in and lexp is done"
   ]
  },
  {
   "cell_type": "code",
   "execution_count": 11,
   "metadata": {
    "run_control": {
     "frozen": false,
     "read_only": false
    }
   },
   "outputs": [
    {
     "data": {
      "text/plain": [
       "{'',\n",
       " 'ab',\n",
       " 'abab',\n",
       " 'ababab',\n",
       " 'ababbc',\n",
       " 'abbc',\n",
       " 'abbcab',\n",
       " 'abbcbc',\n",
       " 'bc',\n",
       " 'bcab',\n",
       " 'bcabab',\n",
       " 'bcabbc',\n",
       " 'bcbc',\n",
       " 'bcbcab',\n",
       " 'bcbcbc'}"
      ]
     },
     "execution_count": 11,
     "metadata": {},
     "output_type": "execute_result"
    }
   ],
   "source": [
    "L1 = {'a','bc'}\n",
    "lstar(L1,2) \n",
    "\n",
    "L2 = {'ab','bc'}\n",
    "lstar(L2,2) \n",
    "\n",
    "L2 = {'ab','bc'}\n",
    "lstar(L2,3)\n",
    "\n"
   ]
  },
  {
   "cell_type": "markdown",
   "metadata": {
    "run_control": {
     "frozen": false,
     "read_only": false
    }
   },
   "source": [
    "# RUN ALL CODE IN THIS NOTEBOOK USING JUPYTER NOTEBOOK\n",
    "\n",
    "Jupyter lab does not like Jupyter widgets. So even if the code ran so far under jupyter lab, switch to Jupyter notebooks and rerun.\n"
   ]
  },
  {
   "cell_type": "markdown",
   "metadata": {
    "run_control": {
     "frozen": false,
     "read_only": false
    }
   },
   "source": [
    "# Interactive depiction of star using widgets\n",
    "\n",
    "Run the code below and show that you can make menu selections to pull-down select L1 and L2."
   ]
  },
  {
   "cell_type": "code",
   "execution_count": 13,
   "metadata": {
    "run_control": {
     "frozen": false,
     "read_only": false
    }
   },
   "outputs": [
    {
     "data": {
      "application/vnd.jupyter.widget-view+json": {
       "model_id": "22a34160a90f4e9ebb6042c4ab8e3e0c",
       "version_major": 2,
       "version_minor": 0
      },
      "text/plain": [
       "interactive(children=(Dropdown(description='L', options={'L1': {'a', 'bc'}, 'L2': {'ab', 'bc'}, 'M': {'11', '1…"
      ]
     },
     "metadata": {},
     "output_type": "display_data"
    },
    {
     "data": {
      "application/vnd.jupyter.widget-view+json": {
       "model_id": "c7e991d6b1cf4cdfb800961039bfead7",
       "version_major": 2,
       "version_minor": 0
      },
      "text/plain": [
       "interactive(children=(Dropdown(description='L', options={'L1': {'a', 'bc'}, 'L2': {'ab', 'bc'}, 'M': {'11', '1…"
      ]
     },
     "metadata": {},
     "output_type": "display_data"
    },
    {
     "data": {
      "text/plain": [
       "<function __main__.lstar(L, n)>"
      ]
     },
     "execution_count": 13,
     "metadata": {},
     "output_type": "execute_result"
    }
   ],
   "source": [
    "import ipywidgets as wdg\n",
    "L1 = {'a','bc'}\n",
    "L2 = {'ab','bc'}\n",
    "M =  {'011', '111', '11', '0111', '00111', '1'}\n",
    "\n",
    "wdg.interact(lstar,\n",
    "L={'L1': L1, 'L2':L2, 'M': M, 'lphi': lphi(), 'lunit' : lunit()}, n=(0,7))\n",
    "\n",
    "import ipywidgets as wdg\n",
    "L1 = {'a','bc'}\n",
    "L2 = {'ab','bc'}\n",
    "\n",
    "# L3 = ...define L3 here...\n",
    "\n",
    "M =  {'011', '111', '11', '0111', '00111', '1'}\n",
    "\n",
    "wdg.interact(lstar,\n",
    "L={ # Add the case for'L3': L3,  ..here..\n",
    "   'L1': L1, 'L2':L2, 'M': M, 'lphi': lphi(), 'lunit' : lunit()}, n=(0,7))\n",
    "\n"
   ]
  },
  {
   "cell_type": "markdown",
   "metadata": {},
   "source": [
    "# QN: The star of lunit and lphi\n",
    "Argue that the code for the star of lunit() and lphi() is correct. Write one sentence answer.\n",
    "\n",
    "#--answer--  \n",
    "lunit()'s star appears correct because: exponentiating 1 is still 1, or a set with an empty string  \n",
    "lphi()'s star appears correct because: exponentiating 0 is still 0, or an empty set"
   ]
  },
  {
   "cell_type": "markdown",
   "metadata": {
    "run_control": {
     "frozen": false,
     "read_only": false
    }
   },
   "source": [
    "# QN: Show that you can extend the Jove code\n",
    "\n",
    "You are required to modify the code in Section ``*Interactive depiction of star using widgets*''\n",
    "\n",
    "Copy the entire code to the cell below (\"copy here\" below) and make these changes:\n",
    "\n",
    "1) In the code\n",
    "\n",
    "```\n",
    "wdg.interact\n",
    "```\n",
    "\n",
    "add another menu item by adding\n",
    "```\n",
    "'L3': L3 \n",
    "```\n",
    "\n",
    "Make sure you have defined \n",
    "```\n",
    "L3 = {'0','1','2'}\n",
    "\n",
    "```\n",
    "right underneath L2's definition.\n",
    "\n",
    "Then show by running the cell below and show that you can obtain the lstar of L3 at size 6.\n",
    "\n",
    "That is, run \n",
    "```\n",
    "lstar(L3, 6)\n",
    "```\n",
    "by using the menu selection.\n",
    "\n",
    "#--answer--- \n",
    "Your answer will be in the next code cell, below."
   ]
  },
  {
   "cell_type": "markdown",
   "metadata": {
    "run_control": {
     "frozen": false,
     "read_only": false
    }
   },
   "source": [
    "# QN: Copy Here"
   ]
  },
  {
   "cell_type": "code",
   "execution_count": 70,
   "metadata": {
    "run_control": {
     "frozen": false,
     "read_only": false
    }
   },
   "outputs": [
    {
     "data": {
      "application/vnd.jupyter.widget-view+json": {
       "model_id": "c7093731204c43b9a018e0e777b748cf",
       "version_major": 2,
       "version_minor": 0
      },
      "text/plain": [
       "interactive(children=(Dropdown(description='L', options={'L1': {'a', 'bc'}, 'L2': {'ab', 'bc'}, 'L3': {'0', '1…"
      ]
     },
     "metadata": {},
     "output_type": "display_data"
    },
    {
     "data": {
      "text/plain": [
       "<function __main__.lstar(L, n)>"
      ]
     },
     "execution_count": 70,
     "metadata": {},
     "output_type": "execute_result"
    }
   ],
   "source": [
    "# YOUR CODE COPIED FROM ABOVE AND MODIFLED!\n",
    "# When this cell is run, you must be able to select L3 and produce lstar(L3, 6)\n",
    "\n",
    "# Your code copy-pasted and modified should be below this line.\n",
    "\n",
    "#--answer--\n",
    "import ipywidgets as wdg\n",
    "L1 = {'a','bc'}\n",
    "L2 = {'ab','bc'}\n",
    "L3 = {'0', '1', '2'};\n",
    "\n",
    "M =  {'011', '111', '11', '0111', '00111', '1'}\n",
    "\n",
    "wdg.interact(lstar,\n",
    "L={ 'L1': L1, 'L2': L2, 'L3': L3, 'M': M, 'lphi': lphi(), 'lunit' : lunit()}, n=(0,7))"
   ]
  },
  {
   "cell_type": "markdown",
   "metadata": {
    "run_control": {
     "frozen": false,
     "read_only": false
    }
   },
   "source": [
    "# QN: My L3's star appears correct\n",
    "\n",
    "#--answer--\n",
    "\n",
    "Write one sentence here saying why your definition of L3's star appears correct\n",
    "\n",
    "* My definition of L3's star appears correct because: There are no strings longer than length 6, and every possible string of 0, 1, 2 smaller than that seems to appear"
   ]
  },
  {
   "cell_type": "markdown",
   "metadata": {
    "run_control": {
     "frozen": false,
     "read_only": false
    }
   },
   "source": [
    "Reversal and homomorphism now"
   ]
  },
  {
   "cell_type": "code",
   "execution_count": 17,
   "metadata": {
    "run_control": {
     "frozen": false,
     "read_only": false
    }
   },
   "outputs": [],
   "source": [
    "# In Python, there isn't direct support for reversing a string.\n",
    "# The backward selection method implemented by S[::-1] is what \n",
    "# many recommend. This leaves the start and stride empty, and\n",
    "# specifies the direction to be going backwards. \n",
    "# Another method is \"\".join(reversed(s)) to reverse s\n",
    "\n",
    "def srev(S):\n",
    "    \"\"\"In : S (string)\n",
    "       Out: reverse of S (string)\n",
    "       Example:\n",
    "       srev('ab') -> 'ba'\n",
    "    \"\"\"\n",
    "    return S[::-1] \n",
    "\n",
    "def lrev(L):\n",
    "    \"\"\"In : L (language : a set)\n",
    "       Out: reverse of L (language : a set)\n",
    "       Example: \n",
    "       lrev({'ab', 'bc'}) -> {'cb', 'ba'}\n",
    "    \"\"\"\n",
    "    return set(map(lambda x: srev(x), L))\n",
    "\n",
    "def shomo(S,f):\n",
    "    \"\"\"In : S (string)\n",
    "            f (function from char to char)\n",
    "       Out: String homomorphism of S wrt f.\n",
    "       Example: \n",
    "       S = \"abcd\"\n",
    "       f = lambda x: chr( (ord(x)+1) % 256 )\n",
    "       shomo(\"abcd\",f) -> 'bcde'  \n",
    "    \"\"\"\n",
    "    return \"\".join(map(f,S))\n",
    "\n",
    "def lhomo(L,f):\n",
    "    \"\"\"In : L (language : set of strings)\n",
    "            f (function from char to char)\n",
    "       Out: Lang. homomorphism of L wrt f (language : set of str)\n",
    "       Example:\n",
    "       L = {\"Hello there\", \"a\", \"A\"}\n",
    "       f = rot13 = lambda x: chr( (ord(x)+13) % 256 )\n",
    "       lhomo(L, rot13) -> {'N', 'Uryy|-\\x81ur\\x7fr', 'n'}\n",
    "    \"\"\"\n",
    "    return set(map(lambda S: shomo(S,f), L))"
   ]
  },
  {
   "cell_type": "code",
   "execution_count": 19,
   "metadata": {
    "run_control": {
     "frozen": false,
     "read_only": false
    }
   },
   "outputs": [
    {
     "name": "stdout",
     "output_type": "stream",
     "text": [
      "lrev(L) =  {'ba', '700'}\n",
      "lhomo(L, rot1) =  {'bc', '118'}\n",
      "lrev(lhomo(L, rot1)) =  {'cb', '811'}\n"
     ]
    }
   ],
   "source": [
    "L={'ab', '007'}\n",
    "\n",
    "# modulo-rotate all chars by one.\n",
    "rot1 = lambda x: chr( (ord(x)+1) % 256 ) \n",
    "\n",
    "# Don't be baffled if the sets print in a different order!               \n",
    "# Sets don't have a required positional presentation order\n",
    "# Watch for the CONTENTS of the set reversing !!\n",
    "print('lrev(L) = ', lrev(L)) \n",
    "\n",
    "print('lhomo(L, rot1) = ', lhomo(L, rot1))\n",
    "\n",
    "print('lrev(lhomo(L, rot1)) = ', lrev(lhomo(L, rot1)))\n"
   ]
  },
  {
   "cell_type": "markdown",
   "metadata": {
    "run_control": {
     "frozen": false,
     "read_only": false
    }
   },
   "source": [
    "# QN: The answer is correct\n",
    "\n",
    "* Argue why the following assertion is true:  \n",
    "\n",
    "\n",
    "```\n",
    "lrev(lhomo(L, rot1)) ==  {'811', 'cb'}\n",
    "```\n",
    "\n",
    "* First the strings in L are rotated by 1, then reversed\n"
   ]
  },
  {
   "cell_type": "markdown",
   "metadata": {
    "run_control": {
     "frozen": false,
     "read_only": false
    }
   },
   "source": [
    "# Let us now introduce powersets"
   ]
  },
  {
   "cell_type": "markdown",
   "metadata": {
    "run_control": {
     "frozen": false,
     "read_only": false
    }
   },
   "source": [
    "\n",
    "We now define the powerset of a set S. We work with lists, as sets cannot contain other sets (not hashable, etc). But barring all that, here is the recursive definition being used.\n",
    "\n",
    "> Let $PowSminusX$ = $powset(S \\setminus x)$\n",
    "\n",
    "> Then, given $x \\in S$, we have $powset(S)$ = $PowSminusX  \\cup$  { $y\\cup x$  $\\mid$ $y\\in PowSminusX$ } \n",
    "\n",
    "That is,\n",
    "\n",
    "* Take out some $x\\in S$\n",
    "\n",
    "* Recursively compute $PowSminusX$\n",
    "\n",
    "* Now, $powset(S)$ has all the sets in $PowSminusX$ plus all the sets in $PowSminusX$ with $x$ added back, as well.\n",
    "\n",
    "Here is that code now."
   ]
  },
  {
   "cell_type": "markdown",
   "metadata": {
    "run_control": {
     "frozen": false,
     "read_only": false
    }
   },
   "source": [
    "__Below, in a new markdown cell, write a clear description in about 3 sentences of how the\n",
    " mathematical definition above is captured in the code below.\n",
    " Ideal answer: Call out the above three bullets and under each of the\n",
    "above bullets, write the code line that realizes these bullets.__\n",
    "\n"
   ]
  },
  {
   "cell_type": "markdown",
   "metadata": {},
   "source": [
    "* Take out some $x\\in S$  \n",
    "    pow_rest0 = powset(L[1:])\n",
    "* Recursively compute $PowSminusX$  \n",
    "    pow_rest1 = list(map(lambda Ls: [L[0]] + Ls, pow_rest0))\n",
    "* Now, $powset(S)$ has all the sets in $PowSminusX$ plus all the sets in $PowSminusX$ with $x$ added back, as well.  \n",
    "    return(pow_rest0 + pow_rest1)"
   ]
  },
  {
   "cell_type": "code",
   "execution_count": 20,
   "metadata": {
    "run_control": {
     "frozen": false,
     "read_only": false
    }
   },
   "outputs": [],
   "source": [
    "def powset(S):\n",
    "    \"\"\"In : S (set)\n",
    "       Out: List of lists representing powerset.\n",
    "            Since sets/lists are unhashable, we convert the set \n",
    "            to a list,perform the powerset operations, leaving \n",
    "            the result as a list (can't convert back to a set).\n",
    "       Example:\n",
    "       S = {'ab', 'bc'}\n",
    "       powset(S) -> [['ab', 'bc'], ['bc'], ['ab'], []]\n",
    "    \"\"\"\n",
    "    L=list(S)\n",
    "    if L==[]:\n",
    "        return([[]])\n",
    "    else:\n",
    "        pow_rest0 = powset(L[1:])\n",
    "        pow_rest1 = list(map(lambda Ls: [L[0]] + Ls, pow_rest0))\n",
    "        return(pow_rest0 + pow_rest1)"
   ]
  },
  {
   "cell_type": "markdown",
   "metadata": {
    "run_control": {
     "frozen": false,
     "read_only": false
    }
   },
   "source": [
    "# QN: Testing powset\n",
    "\n",
    "Below, explain the results produced briefly.\n",
    "#--answer--\n",
    "\n",
    "* powset of {a,b,c} appears to be correct, because: It contains each possible subset of {a,b,c}"
   ]
  },
  {
   "cell_type": "code",
   "execution_count": 22,
   "metadata": {
    "run_control": {
     "frozen": false,
     "read_only": false
    }
   },
   "outputs": [
    {
     "data": {
      "text/plain": [
       "[[], ['c'], ['a'], ['a', 'c'], ['b'], ['b', 'c'], ['b', 'a'], ['b', 'a', 'c']]"
      ]
     },
     "execution_count": 22,
     "metadata": {},
     "output_type": "execute_result"
    }
   ],
   "source": [
    "powset({'a','b','c'})\n",
    "\n"
   ]
  },
  {
   "cell_type": "markdown",
   "metadata": {
    "run_control": {
     "frozen": false,
     "read_only": false
    }
   },
   "source": [
    "\n",
    "# Finally, we have a whole list of familiar language-theoretic operations:\n",
    "\n",
    "* lunion - language union\n",
    "\n",
    "* lint - language intersection\n",
    "\n",
    "* lsymdiff - language symmetric difference\n",
    "\n",
    "* lminus - language subtraction\n",
    "\n",
    "* lissubset - language subset test\n",
    "\n",
    "* lissuperset - language superset test\n",
    "\n",
    "* lcomplem - language complement with respect to \"star upto m\" of the alphabet (not the full alphabet star, mind you)\n",
    "\n",
    "* product - cartesian product\n",
    "\n",
    "We do not provide too many tests for these rather familiar functions. But please make sure you understand language complements well!\n"
   ]
  },
  {
   "cell_type": "code",
   "execution_count": 23,
   "metadata": {
    "run_control": {
     "frozen": false,
     "read_only": false
    }
   },
   "outputs": [],
   "source": [
    "# Define lunion (as before)\n",
    "def lunion(L1,L2):\n",
    "    \"\"\"In : L1 (language : set of strings)\n",
    "            L2 (language : set of strings)\n",
    "       Out: L1 union L2 (sets of strings)\n",
    "    \"\"\"\n",
    "    return L1 | L2\n",
    "\n",
    "def lint(L1,L2):\n",
    "    \"\"\"In : L1 (language : set of strings)\n",
    "            L2 (language : set of strings)\n",
    "       Out: L1 intersection L2 (sets of strings)\n",
    "    \"\"\"\n",
    "    return L1 & L2\n",
    "\n",
    "def lsymdiff(L1,L2):\n",
    "    \"\"\"In : L1 (language : set of strings)\n",
    "            L2 (language : set of strings)\n",
    "       Out: (L1 \\ L2) union (L2 \\ L1) (sets of strings)\n",
    "       Example:\n",
    "       lsymdiff({'ab', 'bc'}, {'11', 'ab', '22'}) -> {'11', '22', 'bc'}\n",
    "    \"\"\"\n",
    "    return L1 ^ L2\n",
    "\n",
    "def lminus(L1,L2):\n",
    "    \"\"\"Language subtraction of two languages (sets of strings)\n",
    "       Can do it as L1.difference(L2) also. \n",
    "    \"\"\"\n",
    "    return L1 - L2\n",
    "\n",
    "def lissubset(L1,L2):\n",
    "    \"\"\"In : L1 (language : set of strings)\n",
    "            L2 (language : set of strings)\n",
    "       Out: L1 is subset or equal to L2 (True/False)\n",
    "    \"\"\"\n",
    "    return L1 <= L2\n",
    "\n",
    "def lissuperset(L1,L2):\n",
    "    \"\"\"In : L1 (language : set of strings)\n",
    "            L2 (language : set of strings)\n",
    "       Out: L1 is superset or equal to L2 (True/False)\n",
    "    \"\"\"\n",
    "    return L1 >= L2\n",
    "    \n",
    "def lcomplem(L,sigma,n):\n",
    "    \"\"\"In : L (language : set of strings)\n",
    "            sigma (alphabet : set of strings)\n",
    "            n (finite limit for lstar : int)\n",
    "       Out : sigma*_n - L (language : set of strings)\n",
    "       Example:\n",
    "       L = {'0', '10', '010'}\n",
    "       sigma = {'0', '1'}\n",
    "       n = 3\n",
    "       lcomplem(L4,{'0','1'}, 3) -> \n",
    "       {'', '000', '101', '011', '00', '1', \n",
    "        '001', '110', '111', '100', '01', '11'}\n",
    "    \"\"\"\n",
    "    return lstar(sigma,n) - L  \n",
    "\n",
    "def product(S1,S2):\n",
    "    \"\"\"In : S1 (set)\n",
    "            S2 (set)\n",
    "       Out: Cartesian product of S1 and S2 (set of pairs)\n",
    "    \"\"\"\n",
    "    return { (x,y) for x in S1 for y in S2 }\n",
    "\n",
    "#--end"
   ]
  },
  {
   "cell_type": "code",
   "execution_count": 24,
   "metadata": {
    "run_control": {
     "frozen": false,
     "read_only": false
    }
   },
   "outputs": [
    {
     "data": {
      "text/plain": [
       "{'0101',\n",
       " '0101000101',\n",
       " '010100101',\n",
       " '01010101',\n",
       " '0101010101',\n",
       " '0101100101',\n",
       " '010110101',\n",
       " '0101110101'}"
      ]
     },
     "execution_count": 24,
     "metadata": {},
     "output_type": "execute_result"
    }
   ],
   "source": [
    "L1 = {'0101'}\n",
    "L2 = lstar({'0','1'}, 2)\n",
    "# Python variable L2L1 denotes concat of L2 and L1\n",
    "L2L1 = lcat(L2,L1) \n",
    "L2L1\n",
    "\n",
    "L3 = lcat(L1, lunion(lunit(), L2L1))\n",
    "L3\n"
   ]
  },
  {
   "cell_type": "markdown",
   "metadata": {
    "run_control": {
     "frozen": false,
     "read_only": false
    }
   },
   "source": [
    "# QN: Show you can define the symmetric difference of two sets in Jove without using \"^\""
   ]
  },
  {
   "cell_type": "markdown",
   "metadata": {
    "run_control": {
     "frozen": false,
     "read_only": false
    }
   },
   "source": [
    "## The code for lsymdiff is written above using Python's\n",
    "```\n",
    "^\n",
    "```\n",
    "operator. Show that you don''t need to use this operator (you can define it using lminus, lunion, etc.)\n",
    "\n",
    "Call this new function new_lsymmdiff.\n",
    "\n",
    "Test it as follows:\n",
    "```\n",
    "new_lsymmdiff(lstar({'0','1'}, 2), lstar({'0','1'}, 3))\n",
    "```\n",
    "\n",
    "## Your answer code is in the next code cell below\n",
    "\n",
    "#--answer---"
   ]
  },
  {
   "cell_type": "code",
   "execution_count": 49,
   "metadata": {
    "run_control": {
     "frozen": false,
     "read_only": false
    }
   },
   "outputs": [],
   "source": [
    "def new_lsymmdiff(L1,L2):\n",
    "    \"\"\"In : L1 (language : set of strings)\n",
    "            L2 (language : set of strings)\n",
    "       Out: (L1 \\ L2) union (L2 \\ L1) (sets of strings)\n",
    "       Example:\n",
    "       lsymdiff({'ab', 'bc'}, {'11', 'ab', '22'}) -> {'11', '22', 'bc'}\n",
    "    \"\"\"\n",
    "    S = lphi();\n",
    "    for s in L1:\n",
    "        if (s not in L2):\n",
    "            S.add(s);\n",
    "    for s in L2:\n",
    "        if (s not in L1) and (s not in S):\n",
    "            S.add(s);\n",
    "    \n",
    "    return S;\n",
    "\n",
    "new_lsymmdiff(lstar({'0','1'}, 2), lstar({'0','1'}, 3));"
   ]
  },
  {
   "cell_type": "markdown",
   "metadata": {
    "run_control": {
     "frozen": false,
     "read_only": false
    }
   },
   "source": [
    "# Numeric Order"
   ]
  },
  {
   "cell_type": "code",
   "execution_count": 50,
   "metadata": {
    "run_control": {
     "frozen": false,
     "read_only": false
    }
   },
   "outputs": [],
   "source": [
    "from math import floor, log, pow\n",
    "def nthnumeric(N, Sigma={'a','b'}):\n",
    "    \"\"\"Assume Sigma is a 2-sized list/set of chars (default {'a','b'}). \n",
    "       Produce the Nth string in numeric order, where N >= 0.\n",
    "       Idea : Given N, get b = floor(log_2(N+1)) - need that \n",
    "       many places; what to fill in the places is the binary \n",
    "       code for N - (2^b - 1) with 0 as Sigma[0] and 1 as Sigma[1].    \n",
    "    \"\"\"\n",
    "    if (type(Sigma)==set):\n",
    "       S = list(Sigma)\n",
    "    else:\n",
    "       assert(type(Sigma)==list\n",
    "       ), \"Expected to be given set/list for arg2 of nthnumeric.\"\n",
    "       S = Sigma\n",
    "    assert(len(Sigma)==2\n",
    "          ),\"Expected to be given a Sigma of length 2.\"\n",
    "    if(N==0):\n",
    "        return ''\n",
    "    else:\n",
    "        width = floor(log(N+1, 2))\n",
    "        tofill = int(N - pow(2, width) + 1)\n",
    "        relevant_binstr = bin(tofill)[2::] # strip the 0b \n",
    "                                           # in the leading string\n",
    "        len_to_makeup = width - len(relevant_binstr)\n",
    "        return (S[0]*len_to_makeup + \n",
    "                shomo(relevant_binstr,\n",
    "                      lambda x: S[1] if x=='1' else S[0]))"
   ]
  },
  {
   "cell_type": "markdown",
   "metadata": {
    "run_control": {
     "frozen": false,
     "read_only": false
    }
   },
   "source": [
    "# Testing Numeric Order"
   ]
  },
  {
   "cell_type": "code",
   "execution_count": 51,
   "metadata": {
    "run_control": {
     "frozen": false,
     "read_only": false
    }
   },
   "outputs": [
    {
     "data": {
      "text/plain": [
       "'000'"
      ]
     },
     "execution_count": 51,
     "metadata": {},
     "output_type": "execute_result"
    }
   ],
   "source": [
    "nthnumeric(7,['0','1'])\n"
   ]
  },
  {
   "cell_type": "markdown",
   "metadata": {
    "run_control": {
     "frozen": false,
     "read_only": false
    }
   },
   "source": [
    "# QN: Justify that the above answer is correct\n",
    "#--answer--\n",
    "\n",
    "* nthnumeric(7, ['0', '1']) produces '000' because: len_to_makeup is 2, so 2 zeroes are printed, then because relevant_binstr = \"0\" one 0 is printed"
   ]
  },
  {
   "cell_type": "code",
   "execution_count": 53,
   "metadata": {
    "run_control": {
     "frozen": false,
     "read_only": false
    }
   },
   "outputs": [
    {
     "name": "stdout",
     "output_type": "stream",
     "text": [
      "Test input = \n",
      "Test input = 0\n",
      "Test input = 1\n",
      "Test input = 00\n",
      "Test input = 01\n",
      "Test input = 10\n",
      "Test input = 11\n",
      "Test input = 000\n",
      "Test input = 001\n",
      "Test input = 010\n",
      "Test input = 011\n",
      "Test input = 100\n",
      "Test input = 101\n",
      "Test input = 110\n",
      "Test input = 111\n",
      "Test input = 0000\n",
      "Test input = 0001\n",
      "Test input = 0010\n"
     ]
    }
   ],
   "source": [
    "# This is an excellent recipe for generating test inputs to machines\n",
    "\n",
    "tests = [ nthnumeric(i, ['0','1']) for i in range(18) ]\n",
    "for inp in tests:\n",
    "    print(\"Test input =\", inp)\n",
    "    \n",
    "# Below, explain the results produced briefly.\n",
    "#--answer-- \n",
    "#This is incrementing through the first 18 strings made of 0 and 1 in numeric order"
   ]
  },
  {
   "cell_type": "markdown",
   "metadata": {
    "run_control": {
     "frozen": false,
     "read_only": false
    }
   },
   "source": [
    "# Introducing DFA\n",
    "\n",
    "The video below corresponds to Drive_DFA_Unit1.ipynb that is found\n",
    "in the \"notebooks/driver\" link of the Jove github"
   ]
  },
  {
   "cell_type": "code",
   "execution_count": 54,
   "metadata": {
    "run_control": {
     "frozen": false,
     "read_only": false
    }
   },
   "outputs": [
    {
     "data": {
      "image/jpeg": "[encoded data removed]",
      "text/html": [
       "\n",
       "        <iframe\n",
       "            width=\"400\"\n",
       "            height=\"300\"\n",
       "            src=\"https://www.youtube.com/embed/Bdr926TeQyQ\"\n",
       "            frameborder=\"0\"\n",
       "            allowfullscreen\n",
       "        ></iframe>\n",
       "        "
      ],
      "text/plain": [
       "<IPython.lib.display.YouTubeVideo at 0x20aa3568e80>"
      ]
     },
     "execution_count": 54,
     "metadata": {},
     "output_type": "execute_result"
    }
   ],
   "source": [
    "# This Youtube video walks through this notebook\n",
    "# Watch and enjoy. No specific work yet.\n",
    "# You can put in 2x speed and quickly watch, slowing down when\n",
    "# interesting parts come!\n",
    "\n",
    "from IPython.display import YouTubeVideo\n",
    "YouTubeVideo('Bdr926TeQyQ')"
   ]
  },
  {
   "cell_type": "markdown",
   "metadata": {
    "run_control": {
     "frozen": false,
     "read_only": false
    }
   },
   "source": [
    "# Basics of DFA\n",
    "\n",
    "This unit is going to introduce you to the basics of Deterministic Finite Automata and Regular Languages.\n",
    "\n",
    "We have recorded a Youtube video that will explain this notebook plus a few related things! This will serve as material for Lecture 4 and perhaps also later lectures."
   ]
  },
  {
   "cell_type": "markdown",
   "metadata": {
    "run_control": {
     "frozen": false,
     "read_only": false
    }
   },
   "source": [
    " ## Regular languages\n",
    "\n",
    "Regular languages are one family (or set) of languages. (Both words \"family\" and \"set\" mean the same.)\n",
    "\n",
    "A regular language is specified by drawing a DFA. Once you finish drawing a DFA, you would have defined a regular language. (We will soon tell you why you might want to take the trouble of drawing DFA and obtain regular languages. For now, we will finish defining terms.)  \n",
    "\n",
    "Ultimately the aim is to not produce drawings. We aim to define a simple type of machine that represents goto based programs. we shall define the notion of a transition system and introduce a simple text-based markdown language that helps specify transition systems. Once the transition system is defined, a drawing can be automatically produced using utilities we provide. However we shall continue to say \"draw a DFA\" to mean \"specify a transition system.\"\n",
    "\n",
    "## There are an infinite number of DFAs that can denote the same regular language\n",
    "\n",
    "Much like 1+1 and 3-1 both denote number 2, and there are an infinite number of arithmetic expressions that denote 2, there are an infinite number of transition systems that denote the same regular language. But usually we don't write 364-362 in order to convey \"2\" (e.g., you seldom order (364-362) pancakes in a restaurant.) The same way, you try to specify the simplest possible DFA to denote a particular regular language -- not an artificially bloated one.\n",
    "\n",
    "However, with numbers, we know that \"2\" is simpler than (364-362). With DFA, don't worry: even if you did not draw the simplest DFA, there is an automated tool that we shall give you that creates the simplest DFA. Yes, there is a unique simplest DFA called the minimal DFA for each regular language.\n",
    "\n",
    "## There are an infinite number of regular languages\n",
    "\n",
    "Much like there are an infinite number of natural numbers, there are also an infinite number of regular languages. So let us get the two ideas of infinity introduced so far straight:\n",
    "\n",
    "* Each natural number can be written in an infinite number of variants. E.g., 1 = 2-1 = 3-2 = 4-3 = ...\n",
    "    - Similarly, each regular language can be denoted by an infinite number of DFA\n",
    "  \n",
    "  \n",
    "* There are an infinite number of natural numbers, e.g., 0,1,2, ...\n",
    "    - Similarly, there are an infinite number of regular languages\n"
   ]
  },
  {
   "cell_type": "markdown",
   "metadata": {
    "run_control": {
     "frozen": false,
     "read_only": false
    }
   },
   "source": [
    "# JFLAP: a tool for interactive study of DFA\n",
    "\n",
    "I will be introducing JFLAP in class. Please take notes then."
   ]
  },
  {
   "cell_type": "markdown",
   "metadata": {
    "run_control": {
     "frozen": false,
     "read_only": false
    }
   },
   "source": [
    "# Using Jove for DFA\n",
    "\n",
    "We shall be using Jove's markdown notation to specify DFA.  \n",
    "\n"
   ]
  },
  {
   "cell_type": "code",
   "execution_count": 55,
   "metadata": {
    "run_control": {
     "frozen": false,
     "read_only": false
    }
   },
   "outputs": [
    {
     "name": "stdout",
     "output_type": "stream",
     "text": [
      "You may use any of these help commands:\n",
      "help(ResetStNum)\n",
      "help(NxtStateStr)\n",
      "\n",
      "You may use any of these help commands:\n",
      "help(md2mc)\n",
      ".. and if you want to dig more, then ..\n",
      "help(default_line_attr)\n",
      "help(length_ok_input_items)\n",
      "help(union_line_attr_list_fld)\n",
      "help(extend_rsltdict)\n",
      "help(form_delta)\n",
      "help(get_machine_components)\n",
      "\n",
      "You may use any of these help commands:\n",
      "help(mkp_dfa)\n",
      "help(mk_dfa)\n",
      "help(totalize_dfa)\n",
      "help(addtosigma_delta)\n",
      "help(step_dfa)\n",
      "help(run_dfa)\n",
      "help(accepts_dfa)\n",
      "help(comp_dfa)\n",
      "help(union_dfa)\n",
      "help(intersect_dfa)\n",
      "help(pruneUnreach)\n",
      "help(iso_dfa)\n",
      "help(langeq_dfa)\n",
      "help(same_status)\n",
      "help(h_langeq_dfa)\n",
      "help(fixptDist)\n",
      "help(min_dfa)\n",
      "help(pairFR)\n",
      "help(state_combos)\n",
      "help(sepFinNonFin)\n",
      "help(bash_eql_classes)\n",
      "help(listminus)\n",
      "help(bash_1)\n",
      "help(mk_rep_eqc)\n",
      "help(F_of)\n",
      "help(rep_of_s)\n",
      "help(q0_of)\n",
      "help(Delta_of)\n",
      "help(mk_state_eqc_name)\n",
      "\n"
     ]
    }
   ],
   "source": [
    "from jove.DotBashers import *\n",
    "from jove.Def_md2mc import *\n",
    "from jove.Def_DFA   import *"
   ]
  },
  {
   "cell_type": "markdown",
   "metadata": {
    "run_control": {
     "frozen": false,
     "read_only": false
    }
   },
   "source": [
    "# Now we begin our work building DFA.\n",
    "\n",
    "As we go along, we will also be teaching you how to \"think DFA\" so that you can code them up \"straight from your head\"\n",
    "\n",
    "\n",
    "## Jove's markdown\n",
    "\n",
    "Jove's markdown is designed to cover four machine types:\n",
    "\n",
    "1. DFA\n",
    "2. NFA\n",
    "3. PDA\n",
    "4. TM\n",
    " \n",
    "There are only these four basic machine types one studies in most automata theory courses.\n",
    "\n",
    "## Markdown syntax for DFA\n",
    "\n",
    "The markdown syntax for DFA is quite simple. To understand what we are about to say below, kindly refer to Def_DFA.ipynb and un\n",
    "\n",
    "Given that a DFA consists of a set of states, an initial state, a possibly empty set of final states, and a transition function, we want to have an arrangement by which we require the user to specify the least and infer everything else.\n",
    "\n",
    "Thus we settle on a notation that specifies the transition function. We will add a few details that allows us to infer the initial and final states. Specifically, to describe a DFA:\n",
    "\n",
    "* Specify a state with name beginning with I that will be the initial state (lower-case i is OK too)\n",
    "\n",
    "* If the DFA in question has an initial state that is also a final state, let the state name begin with IF (lowercase if is OK)\n",
    "\n",
    "* For final states, use a name that begins with F or f\n",
    "\n",
    "* Then just specify-away transitions. \n",
    "\n",
    "### Example DFA\n",
    "\n",
    "We will now specify the DFA whose language is the set of strings that have the same number of 01 and 10 transitions. We will specify the transitions below in markdown within triple quotes initially, and then present the same in a code cell.\n",
    "\n",
    "We decide to include $\\varepsilon$ as well as single occurrences of $0$ and $1$. These strings all trivially contain an equal number of 01 and 10 transitions.\n",
    "\n",
    "Let us design this DFA bit by bit, this being our first example. We will show the final result under \"putting it all together,\" below.\n",
    "\n",
    "#### Initial state and the first few moves\n",
    "\n",
    "We begin in state IF, meaning that it is initial and final. This is how we admit $\\varepsilon$ into the machine's language. Now from IF, upon 0 or upon 1, we must still go to a final state, as the machine must accept a $0$ or a $1$ because a single $0$ or $1$ has an equal number of $01$ and $10$ changes -- meaning $0$ such!\n",
    "\n",
    "We can even plot these partial DFA as we move along. Just don't run them -- that is all! \n",
    "\n",
    "** NOTE ** : When you present your solutions, present only the final product, and not every intermediate DFA"
   ]
  },
  {
   "cell_type": "code",
   "execution_count": 63,
   "metadata": {
    "run_control": {
     "frozen": false,
     "read_only": false
    }
   },
   "outputs": [
    {
     "data": {
      "image/svg+xml": [
       "<?xml version=\"1.0\" encoding=\"UTF-8\" standalone=\"no\"?>\r\n",
       "<!DOCTYPE svg PUBLIC \"-//W3C//DTD SVG 1.1//EN\"\r\n",
       " \"http://www.w3.org/Graphics/SVG/1.1/DTD/svg11.dtd\">\r\n",
       "<!-- Generated by graphviz version 2.38.0 (20140413.2041)\r\n",
       " -->\r\n",
       "<!-- Title: %3 Pages: 1 -->\r\n",
       "<svg width=\"237pt\" height=\"126pt\"\r\n",
       " viewBox=\"0.00 0.00 237.29 125.60\" xmlns=\"http://www.w3.org/2000/svg\" xmlns:xlink=\"http://www.w3.org/1999/xlink\">\r\n",
       "<g id=\"graph0\" class=\"graph\" transform=\"scale(1 1) rotate(0) translate(4 121.596)\">\r\n",
       "<title>%3</title>\r\n",
       "<polygon fill=\"white\" stroke=\"none\" points=\"-4,4 -4,-121.596 233.293,-121.596 233.293,4 -4,4\"/>\r\n",
       "<!-- EMPTY -->\r\n",
       "<g id=\"node1\" class=\"node\"><title>EMPTY</title>\r\n",
       "</g>\r\n",
       "<!-- IF -->\r\n",
       "<g id=\"node4\" class=\"node\"><title>IF</title>\r\n",
       "<ellipse fill=\"none\" stroke=\"black\" cx=\"113.848\" cy=\"-58.7982\" rx=\"18.724\" ry=\"18.724\"/>\r\n",
       "<ellipse fill=\"none\" stroke=\"black\" cx=\"113.848\" cy=\"-58.7982\" rx=\"22.6977\" ry=\"22.6977\"/>\r\n",
       "<text text-anchor=\"middle\" x=\"113.848\" y=\"-55.0982\" font-family=\"Times New Roman,serif\" font-size=\"14.00\">IF</text>\r\n",
       "</g>\r\n",
       "<!-- EMPTY&#45;&gt;IF -->\r\n",
       "<g id=\"edge1\" class=\"edge\"><title>EMPTY&#45;&gt;IF</title>\r\n",
       "<path fill=\"none\" stroke=\"black\" d=\"M54.3814,-58.7982C62.6819,-58.7982 71.9432,-58.7982 80.6031,-58.7982\"/>\r\n",
       "<polygon fill=\"black\" stroke=\"black\" points=\"80.7631,-62.2983 90.7631,-58.7982 80.7631,-55.2983 80.7631,-62.2983\"/>\r\n",
       "</g>\r\n",
       "<!-- F1 -->\r\n",
       "<g id=\"node2\" class=\"node\"><title>F1</title>\r\n",
       "<ellipse fill=\"none\" stroke=\"black\" cx=\"204.495\" cy=\"-92.7982\" rx=\"20.6302\" ry=\"20.6302\"/>\r\n",
       "<ellipse fill=\"none\" stroke=\"black\" cx=\"204.495\" cy=\"-92.7982\" rx=\"24.5979\" ry=\"24.5979\"/>\r\n",
       "<text text-anchor=\"middle\" x=\"204.495\" y=\"-89.0982\" font-family=\"Times New Roman,serif\" font-size=\"14.00\">F1</text>\r\n",
       "</g>\r\n",
       "<!-- F0 -->\r\n",
       "<g id=\"node3\" class=\"node\"><title>F0</title>\r\n",
       "<ellipse fill=\"none\" stroke=\"black\" cx=\"204.495\" cy=\"-24.7982\" rx=\"20.6302\" ry=\"20.6302\"/>\r\n",
       "<ellipse fill=\"none\" stroke=\"black\" cx=\"204.495\" cy=\"-24.7982\" rx=\"24.5979\" ry=\"24.5979\"/>\r\n",
       "<text text-anchor=\"middle\" x=\"204.495\" y=\"-21.0982\" font-family=\"Times New Roman,serif\" font-size=\"14.00\">F0</text>\r\n",
       "</g>\r\n",
       "<!-- IF&#45;&gt;F1 -->\r\n",
       "<g id=\"edge3\" class=\"edge\"><title>IF&#45;&gt;F1</title>\r\n",
       "<path fill=\"none\" stroke=\"black\" d=\"M135.408,-66.6839C146.224,-70.8323 159.721,-76.0087 171.838,-80.6563\"/>\r\n",
       "<polygon fill=\"black\" stroke=\"black\" points=\"170.593,-83.9272 181.183,-84.2405 173.099,-77.3914 170.593,-83.9272\"/>\r\n",
       "<text text-anchor=\"middle\" x=\"158.197\" y=\"-80.5982\" font-family=\"Times New Roman,serif\" font-size=\"14.00\">1</text>\r\n",
       "</g>\r\n",
       "<!-- IF&#45;&gt;F0 -->\r\n",
       "<g id=\"edge2\" class=\"edge\"><title>IF&#45;&gt;F0</title>\r\n",
       "<path fill=\"none\" stroke=\"black\" d=\"M135.408,-50.9124C146.224,-46.764 159.721,-41.5876 171.838,-36.94\"/>\r\n",
       "<polygon fill=\"black\" stroke=\"black\" points=\"173.099,-40.2049 181.183,-33.3558 170.593,-33.6691 173.099,-40.2049\"/>\r\n",
       "<text text-anchor=\"middle\" x=\"158.197\" y=\"-47.5982\" font-family=\"Times New Roman,serif\" font-size=\"14.00\">0</text>\r\n",
       "</g>\r\n",
       "</g>\r\n",
       "</svg>\r\n"
      ],
      "text/plain": [
       "<graphviz.dot.Digraph at 0x20aa3549da0>"
      ]
     },
     "execution_count": 63,
     "metadata": {},
     "output_type": "execute_result"
    }
   ],
   "source": [
    "dotObj_dfa(md2mc('''\n",
    "DFA\n",
    "IF : 0 -> F0  !! a single 0 does not change the number of 01 or 10 transitions\n",
    "IF : 1 -> F1  !! so, go to an accepting state\n",
    "'''))"
   ]
  },
  {
   "cell_type": "markdown",
   "metadata": {
    "run_control": {
     "frozen": false,
     "read_only": false
    }
   },
   "source": [
    "#### Fully decode at every state, transitioning to appropriate states \n",
    "\n",
    "We now fill all other moves, decoding upon a 0 or a 1 at every state, keeping the overall semantics in mind."
   ]
  },
  {
   "cell_type": "code",
   "execution_count": 64,
   "metadata": {
    "run_control": {
     "frozen": false,
     "read_only": false
    }
   },
   "outputs": [
    {
     "data": {
      "image/svg+xml": [
       "<?xml version=\"1.0\" encoding=\"UTF-8\" standalone=\"no\"?>\r\n",
       "<!DOCTYPE svg PUBLIC \"-//W3C//DTD SVG 1.1//EN\"\r\n",
       " \"http://www.w3.org/Graphics/SVG/1.1/DTD/svg11.dtd\">\r\n",
       "<!-- Generated by graphviz version 2.38.0 (20140413.2041)\r\n",
       " -->\r\n",
       "<!-- Title: %3 Pages: 1 -->\r\n",
       "<svg width=\"330pt\" height=\"192pt\"\r\n",
       " viewBox=\"0.00 0.00 329.69 191.60\" xmlns=\"http://www.w3.org/2000/svg\" xmlns:xlink=\"http://www.w3.org/1999/xlink\">\r\n",
       "<g id=\"graph0\" class=\"graph\" transform=\"scale(1 1) rotate(0) translate(4 187.596)\">\r\n",
       "<title>%3</title>\r\n",
       "<polygon fill=\"white\" stroke=\"none\" points=\"-4,4 -4,-187.596 325.689,-187.596 325.689,4 -4,4\"/>\r\n",
       "<!-- EMPTY -->\r\n",
       "<g id=\"node1\" class=\"node\"><title>EMPTY</title>\r\n",
       "</g>\r\n",
       "<!-- IF -->\r\n",
       "<g id=\"node6\" class=\"node\"><title>IF</title>\r\n",
       "<ellipse fill=\"none\" stroke=\"black\" cx=\"113.848\" cy=\"-82.7982\" rx=\"18.724\" ry=\"18.724\"/>\r\n",
       "<ellipse fill=\"none\" stroke=\"black\" cx=\"113.848\" cy=\"-82.7982\" rx=\"22.6977\" ry=\"22.6977\"/>\r\n",
       "<text text-anchor=\"middle\" x=\"113.848\" y=\"-79.0982\" font-family=\"Times New Roman,serif\" font-size=\"14.00\">IF</text>\r\n",
       "</g>\r\n",
       "<!-- EMPTY&#45;&gt;IF -->\r\n",
       "<g id=\"edge1\" class=\"edge\"><title>EMPTY&#45;&gt;IF</title>\r\n",
       "<path fill=\"none\" stroke=\"black\" d=\"M54.3814,-82.7982C62.6819,-82.7982 71.9432,-82.7982 80.6031,-82.7982\"/>\r\n",
       "<polygon fill=\"black\" stroke=\"black\" points=\"80.7631,-86.2983 90.7631,-82.7982 80.7631,-79.2983 80.7631,-86.2983\"/>\r\n",
       "</g>\r\n",
       "<!-- S01 -->\r\n",
       "<g id=\"node2\" class=\"node\"><title>S01</title>\r\n",
       "<ellipse fill=\"none\" stroke=\"black\" cx=\"296.991\" cy=\"-24.7982\" rx=\"24.8972\" ry=\"24.8972\"/>\r\n",
       "<text text-anchor=\"middle\" x=\"296.991\" y=\"-21.0982\" font-family=\"Times New Roman,serif\" font-size=\"14.00\">S01</text>\r\n",
       "</g>\r\n",
       "<!-- S10 -->\r\n",
       "<g id=\"node3\" class=\"node\"><title>S10</title>\r\n",
       "<ellipse fill=\"none\" stroke=\"black\" cx=\"296.991\" cy=\"-125.798\" rx=\"24.8972\" ry=\"24.8972\"/>\r\n",
       "<text text-anchor=\"middle\" x=\"296.991\" y=\"-122.098\" font-family=\"Times New Roman,serif\" font-size=\"14.00\">S10</text>\r\n",
       "</g>\r\n",
       "<!-- F1 -->\r\n",
       "<g id=\"node4\" class=\"node\"><title>F1</title>\r\n",
       "<ellipse fill=\"none\" stroke=\"black\" cx=\"204.495\" cy=\"-125.798\" rx=\"20.6302\" ry=\"20.6302\"/>\r\n",
       "<ellipse fill=\"none\" stroke=\"black\" cx=\"204.495\" cy=\"-125.798\" rx=\"24.5979\" ry=\"24.5979\"/>\r\n",
       "<text text-anchor=\"middle\" x=\"204.495\" y=\"-122.098\" font-family=\"Times New Roman,serif\" font-size=\"14.00\">F1</text>\r\n",
       "</g>\r\n",
       "<!-- F1&#45;&gt;S10 -->\r\n",
       "<g id=\"edge7\" class=\"edge\"><title>F1&#45;&gt;S10</title>\r\n",
       "<path fill=\"none\" stroke=\"black\" d=\"M229.746,-125.798C239.563,-125.798 251.074,-125.798 261.721,-125.798\"/>\r\n",
       "<polygon fill=\"black\" stroke=\"black\" points=\"261.986,-129.298 271.986,-125.798 261.986,-122.298 261.986,-129.298\"/>\r\n",
       "<text text-anchor=\"middle\" x=\"250.793\" y=\"-129.598\" font-family=\"Times New Roman,serif\" font-size=\"14.00\">0</text>\r\n",
       "</g>\r\n",
       "<!-- F1&#45;&gt;F1 -->\r\n",
       "<g id=\"edge5\" class=\"edge\"><title>F1&#45;&gt;F1</title>\r\n",
       "<path fill=\"none\" stroke=\"black\" d=\"M196.005,-149.13C195.196,-159.569 198.026,-168.596 204.495,-168.596 208.639,-168.596 211.29,-164.891 212.447,-159.484\"/>\r\n",
       "<polygon fill=\"black\" stroke=\"black\" points=\"215.961,-159.298 212.985,-149.13 208.971,-158.935 215.961,-159.298\"/>\r\n",
       "<text text-anchor=\"middle\" x=\"204.495\" y=\"-172.396\" font-family=\"Times New Roman,serif\" font-size=\"14.00\">1</text>\r\n",
       "</g>\r\n",
       "<!-- F0 -->\r\n",
       "<g id=\"node5\" class=\"node\"><title>F0</title>\r\n",
       "<ellipse fill=\"none\" stroke=\"black\" cx=\"204.495\" cy=\"-24.7982\" rx=\"20.6302\" ry=\"20.6302\"/>\r\n",
       "<ellipse fill=\"none\" stroke=\"black\" cx=\"204.495\" cy=\"-24.7982\" rx=\"24.5979\" ry=\"24.5979\"/>\r\n",
       "<text text-anchor=\"middle\" x=\"204.495\" y=\"-21.0982\" font-family=\"Times New Roman,serif\" font-size=\"14.00\">F0</text>\r\n",
       "</g>\r\n",
       "<!-- F0&#45;&gt;S01 -->\r\n",
       "<g id=\"edge6\" class=\"edge\"><title>F0&#45;&gt;S01</title>\r\n",
       "<path fill=\"none\" stroke=\"black\" d=\"M229.746,-24.7982C239.563,-24.7982 251.074,-24.7982 261.721,-24.7982\"/>\r\n",
       "<polygon fill=\"black\" stroke=\"black\" points=\"261.986,-28.2983 271.986,-24.7982 261.986,-21.2983 261.986,-28.2983\"/>\r\n",
       "<text text-anchor=\"middle\" x=\"250.793\" y=\"-28.5982\" font-family=\"Times New Roman,serif\" font-size=\"14.00\">1</text>\r\n",
       "</g>\r\n",
       "<!-- F0&#45;&gt;F0 -->\r\n",
       "<g id=\"edge4\" class=\"edge\"><title>F0&#45;&gt;F0</title>\r\n",
       "<path fill=\"none\" stroke=\"black\" d=\"M196.005,-48.1303C195.196,-58.5686 198.026,-67.5963 204.495,-67.5963 208.639,-67.5963 211.29,-63.8913 212.447,-58.484\"/>\r\n",
       "<polygon fill=\"black\" stroke=\"black\" points=\"215.961,-58.2984 212.985,-48.1303 208.971,-57.9351 215.961,-58.2984\"/>\r\n",
       "<text text-anchor=\"middle\" x=\"204.495\" y=\"-71.3963\" font-family=\"Times New Roman,serif\" font-size=\"14.00\">0</text>\r\n",
       "</g>\r\n",
       "<!-- IF&#45;&gt;F1 -->\r\n",
       "<g id=\"edge3\" class=\"edge\"><title>IF&#45;&gt;F1</title>\r\n",
       "<path fill=\"none\" stroke=\"black\" d=\"M134.964,-92.5555C146.117,-97.9658 160.221,-104.807 172.73,-110.875\"/>\r\n",
       "<polygon fill=\"black\" stroke=\"black\" points=\"171.385,-114.113 181.91,-115.328 174.441,-107.815 171.385,-114.113\"/>\r\n",
       "<text text-anchor=\"middle\" x=\"158.197\" y=\"-108.598\" font-family=\"Times New Roman,serif\" font-size=\"14.00\">1</text>\r\n",
       "</g>\r\n",
       "<!-- IF&#45;&gt;F0 -->\r\n",
       "<g id=\"edge2\" class=\"edge\"><title>IF&#45;&gt;F0</title>\r\n",
       "<path fill=\"none\" stroke=\"black\" d=\"M133.648,-70.4978C145.572,-62.6965 161.233,-52.4492 174.704,-43.6355\"/>\r\n",
       "<polygon fill=\"black\" stroke=\"black\" points=\"176.727,-46.4948 183.178,-38.0909 172.894,-40.6372 176.727,-46.4948\"/>\r\n",
       "<text text-anchor=\"middle\" x=\"158.197\" y=\"-59.5982\" font-family=\"Times New Roman,serif\" font-size=\"14.00\">0</text>\r\n",
       "</g>\r\n",
       "</g>\r\n",
       "</svg>\r\n"
      ],
      "text/plain": [
       "<graphviz.dot.Digraph at 0x20aa345ad68>"
      ]
     },
     "execution_count": 64,
     "metadata": {},
     "output_type": "execute_result"
    }
   ],
   "source": [
    "# Pick up from before, adding more lines to the DFA description\n",
    "dotObj_dfa(md2mc('''\n",
    "DFA\n",
    "IF : 0 -> F0   !! a single 0 does not change the number of 01 or 10 transitions\n",
    "IF : 1 -> F1   !! so, go to an accepting state\n",
    "F0 : 0 -> F0\n",
    "F1 : 1 -> F1\n",
    "F0 : 1 -> S01  !! There is a 01 transition but no 10 transition. So go to non-accepting state\n",
    "F1 : 0 -> S10  !! ditto.  It has introduced a 10 transition without a  01 transition\n",
    "'''))"
   ]
  },
  {
   "cell_type": "markdown",
   "metadata": {
    "run_control": {
     "frozen": false,
     "read_only": false
    }
   },
   "source": [
    "### Finish the DFA\n",
    "\n",
    "Now that we have made incremental progress and have our thoughts flowing, let's go ahead and\n",
    "finish the DFA. Plus we also name the DFA object and hold onto it, and then also plot wrt that name.\n",
    "See the details below."
   ]
  },
  {
   "cell_type": "code",
   "execution_count": 65,
   "metadata": {
    "run_control": {
     "frozen": false,
     "read_only": false
    }
   },
   "outputs": [],
   "source": [
    "# Pick up from before, adding more lines to the DFA description\n",
    "EqChangeDFA = md2mc('''\n",
    "DFA\n",
    "!!--\n",
    "IF : 0 -> F0   !! a single 0 does not change the number of 01 or 10 transitions\n",
    "IF : 1 -> F1   !! so, go to an accepting state\n",
    "F0 : 0 -> F0\n",
    "F1 : 1 -> F1\n",
    "F0 : 1 -> S01  !! There is a 01 transition but no 10 transition. So go to non-accepting state\n",
    "F1 : 0 -> S10  !! ditto.  It has introduced a 10 transition without a  01 transition\n",
    "S01: 1 -> S01  !! Remain in S01 as the 01 vs 10 balance has not been restored\n",
    "S10: 0 -> S10  !! Similar reasoning as above\n",
    "S01: 0 -> F0   !! Balance restored now!\n",
    "S10: 1 -> F1   !! Balance restored now!\n",
    "!!--- \n",
    "!! this finishes the construction, as we have accounted for all transitions\n",
    "''')"
   ]
  },
  {
   "cell_type": "code",
   "execution_count": 66,
   "metadata": {
    "run_control": {
     "frozen": false,
     "read_only": false
    }
   },
   "outputs": [
    {
     "data": {
      "text/plain": [
       "{'Q': {'F0', 'F1', 'IF', 'S01', 'S10'},\n",
       " 'Sigma': {'0', '1'},\n",
       " 'Delta': {('IF', '0'): 'F0',\n",
       "  ('IF', '1'): 'F1',\n",
       "  ('F0', '0'): 'F0',\n",
       "  ('F1', '1'): 'F1',\n",
       "  ('F0', '1'): 'S01',\n",
       "  ('F1', '0'): 'S10',\n",
       "  ('S01', '1'): 'S01',\n",
       "  ('S10', '0'): 'S10',\n",
       "  ('S01', '0'): 'F0',\n",
       "  ('S10', '1'): 'F1'},\n",
       " 'q0': 'IF',\n",
       " 'F': {'F0', 'F1', 'IF'}}"
      ]
     },
     "execution_count": 66,
     "metadata": {},
     "output_type": "execute_result"
    }
   ],
   "source": [
    "# Let us view the internal Python representation of \n",
    "# DFA as an n-tuple (Q, Sigma, Delta, q0, F)\n",
    "EqChangeDFA"
   ]
  },
  {
   "cell_type": "code",
   "execution_count": 67,
   "metadata": {
    "run_control": {
     "frozen": false,
     "read_only": false
    }
   },
   "outputs": [
    {
     "data": {
      "image/svg+xml": [
       "<?xml version=\"1.0\" encoding=\"UTF-8\" standalone=\"no\"?>\r\n",
       "<!DOCTYPE svg PUBLIC \"-//W3C//DTD SVG 1.1//EN\"\r\n",
       " \"http://www.w3.org/Graphics/SVG/1.1/DTD/svg11.dtd\">\r\n",
       "<!-- Generated by graphviz version 2.38.0 (20140413.2041)\r\n",
       " -->\r\n",
       "<!-- Title: %3 Pages: 1 -->\r\n",
       "<svg width=\"330pt\" height=\"197pt\"\r\n",
       " viewBox=\"0.00 0.00 329.69 197.50\" xmlns=\"http://www.w3.org/2000/svg\" xmlns:xlink=\"http://www.w3.org/1999/xlink\">\r\n",
       "<g id=\"graph0\" class=\"graph\" transform=\"scale(1 1) rotate(0) translate(4 193.496)\">\r\n",
       "<title>%3</title>\r\n",
       "<polygon fill=\"white\" stroke=\"none\" points=\"-4,4 -4,-193.496 325.689,-193.496 325.689,4 -4,4\"/>\r\n",
       "<!-- EMPTY -->\r\n",
       "<g id=\"node1\" class=\"node\"><title>EMPTY</title>\r\n",
       "</g>\r\n",
       "<!-- IF -->\r\n",
       "<g id=\"node6\" class=\"node\"><title>IF</title>\r\n",
       "<ellipse fill=\"none\" stroke=\"black\" cx=\"113.848\" cy=\"-82.7982\" rx=\"18.724\" ry=\"18.724\"/>\r\n",
       "<ellipse fill=\"none\" stroke=\"black\" cx=\"113.848\" cy=\"-82.7982\" rx=\"22.6977\" ry=\"22.6977\"/>\r\n",
       "<text text-anchor=\"middle\" x=\"113.848\" y=\"-79.0982\" font-family=\"Times New Roman,serif\" font-size=\"14.00\">IF</text>\r\n",
       "</g>\r\n",
       "<!-- EMPTY&#45;&gt;IF -->\r\n",
       "<g id=\"edge1\" class=\"edge\"><title>EMPTY&#45;&gt;IF</title>\r\n",
       "<path fill=\"none\" stroke=\"black\" d=\"M54.3814,-82.7982C62.6819,-82.7982 71.9432,-82.7982 80.6031,-82.7982\"/>\r\n",
       "<polygon fill=\"black\" stroke=\"black\" points=\"80.7631,-86.2983 90.7631,-82.7982 80.7631,-79.2983 80.7631,-86.2983\"/>\r\n",
       "</g>\r\n",
       "<!-- S01 -->\r\n",
       "<g id=\"node2\" class=\"node\"><title>S01</title>\r\n",
       "<ellipse fill=\"none\" stroke=\"black\" cx=\"296.991\" cy=\"-25.7982\" rx=\"24.8972\" ry=\"24.8972\"/>\r\n",
       "<text text-anchor=\"middle\" x=\"296.991\" y=\"-22.0982\" font-family=\"Times New Roman,serif\" font-size=\"14.00\">S01</text>\r\n",
       "</g>\r\n",
       "<!-- S01&#45;&gt;S01 -->\r\n",
       "<g id=\"edge8\" class=\"edge\"><title>S01&#45;&gt;S01</title>\r\n",
       "<path fill=\"none\" stroke=\"black\" d=\"M288.501,-49.0755C287.692,-59.4894 290.522,-68.496 296.991,-68.496 301.135,-68.496 303.786,-64.7997 304.943,-59.405\"/>\r\n",
       "<polygon fill=\"black\" stroke=\"black\" points=\"308.456,-59.2441 305.481,-49.0755 301.465,-58.8799 308.456,-59.2441\"/>\r\n",
       "<text text-anchor=\"middle\" x=\"296.991\" y=\"-72.296\" font-family=\"Times New Roman,serif\" font-size=\"14.00\">1</text>\r\n",
       "</g>\r\n",
       "<!-- F0 -->\r\n",
       "<g id=\"node5\" class=\"node\"><title>F0</title>\r\n",
       "<ellipse fill=\"none\" stroke=\"black\" cx=\"204.495\" cy=\"-24.7982\" rx=\"20.6302\" ry=\"20.6302\"/>\r\n",
       "<ellipse fill=\"none\" stroke=\"black\" cx=\"204.495\" cy=\"-24.7982\" rx=\"24.5979\" ry=\"24.5979\"/>\r\n",
       "<text text-anchor=\"middle\" x=\"204.495\" y=\"-21.0982\" font-family=\"Times New Roman,serif\" font-size=\"14.00\">F0</text>\r\n",
       "</g>\r\n",
       "<!-- S01&#45;&gt;F0 -->\r\n",
       "<g id=\"edge10\" class=\"edge\"><title>S01&#45;&gt;F0</title>\r\n",
       "<path fill=\"none\" stroke=\"black\" d=\"M274.355,-15.7762C268.026,-13.3202 261.002,-11.0412 254.293,-9.79815 248.628,-8.74866 242.694,-9.19914 236.993,-10.4555\"/>\r\n",
       "<polygon fill=\"black\" stroke=\"black\" points=\"235.656,-7.20277 227.09,-13.4376 237.675,-13.9055 235.656,-7.20277\"/>\r\n",
       "<text text-anchor=\"middle\" x=\"250.793\" y=\"-13.5982\" font-family=\"Times New Roman,serif\" font-size=\"14.00\">0</text>\r\n",
       "</g>\r\n",
       "<!-- S10 -->\r\n",
       "<g id=\"node3\" class=\"node\"><title>S10</title>\r\n",
       "<ellipse fill=\"none\" stroke=\"black\" cx=\"296.991\" cy=\"-131.798\" rx=\"24.8972\" ry=\"24.8972\"/>\r\n",
       "<text text-anchor=\"middle\" x=\"296.991\" y=\"-128.098\" font-family=\"Times New Roman,serif\" font-size=\"14.00\">S10</text>\r\n",
       "</g>\r\n",
       "<!-- S10&#45;&gt;S10 -->\r\n",
       "<g id=\"edge9\" class=\"edge\"><title>S10&#45;&gt;S10</title>\r\n",
       "<path fill=\"none\" stroke=\"black\" d=\"M288.501,-155.076C287.692,-165.489 290.522,-174.496 296.991,-174.496 301.135,-174.496 303.786,-170.8 304.943,-165.405\"/>\r\n",
       "<polygon fill=\"black\" stroke=\"black\" points=\"308.456,-165.244 305.481,-155.076 301.465,-164.88 308.456,-165.244\"/>\r\n",
       "<text text-anchor=\"middle\" x=\"296.991\" y=\"-178.296\" font-family=\"Times New Roman,serif\" font-size=\"14.00\">0</text>\r\n",
       "</g>\r\n",
       "<!-- F1 -->\r\n",
       "<g id=\"node4\" class=\"node\"><title>F1</title>\r\n",
       "<ellipse fill=\"none\" stroke=\"black\" cx=\"204.495\" cy=\"-125.798\" rx=\"20.6302\" ry=\"20.6302\"/>\r\n",
       "<ellipse fill=\"none\" stroke=\"black\" cx=\"204.495\" cy=\"-125.798\" rx=\"24.5979\" ry=\"24.5979\"/>\r\n",
       "<text text-anchor=\"middle\" x=\"204.495\" y=\"-122.098\" font-family=\"Times New Roman,serif\" font-size=\"14.00\">F1</text>\r\n",
       "</g>\r\n",
       "<!-- S10&#45;&gt;F1 -->\r\n",
       "<g id=\"edge11\" class=\"edge\"><title>S10&#45;&gt;F1</title>\r\n",
       "<path fill=\"none\" stroke=\"black\" d=\"M276.072,-118.152C269.44,-114.352 261.819,-110.736 254.293,-108.798 248.282,-107.25 241.956,-107.781 235.924,-109.379\"/>\r\n",
       "<polygon fill=\"black\" stroke=\"black\" points=\"234.378,-106.216 226.158,-112.9 236.752,-112.801 234.378,-106.216\"/>\r\n",
       "<text text-anchor=\"middle\" x=\"250.793\" y=\"-112.598\" font-family=\"Times New Roman,serif\" font-size=\"14.00\">1</text>\r\n",
       "</g>\r\n",
       "<!-- F1&#45;&gt;S10 -->\r\n",
       "<g id=\"edge7\" class=\"edge\"><title>F1&#45;&gt;S10</title>\r\n",
       "<path fill=\"none\" stroke=\"black\" d=\"M229.272,-127.375C239.272,-128.038 251.095,-128.821 261.988,-129.544\"/>\r\n",
       "<polygon fill=\"black\" stroke=\"black\" points=\"261.849,-133.042 272.059,-130.211 262.312,-126.057 261.849,-133.042\"/>\r\n",
       "<text text-anchor=\"middle\" x=\"250.793\" y=\"-132.598\" font-family=\"Times New Roman,serif\" font-size=\"14.00\">0</text>\r\n",
       "</g>\r\n",
       "<!-- F1&#45;&gt;F1 -->\r\n",
       "<g id=\"edge5\" class=\"edge\"><title>F1&#45;&gt;F1</title>\r\n",
       "<path fill=\"none\" stroke=\"black\" d=\"M196.005,-149.13C195.196,-159.569 198.026,-168.596 204.495,-168.596 208.639,-168.596 211.29,-164.891 212.447,-159.484\"/>\r\n",
       "<polygon fill=\"black\" stroke=\"black\" points=\"215.961,-159.298 212.985,-149.13 208.971,-158.935 215.961,-159.298\"/>\r\n",
       "<text text-anchor=\"middle\" x=\"204.495\" y=\"-172.396\" font-family=\"Times New Roman,serif\" font-size=\"14.00\">1</text>\r\n",
       "</g>\r\n",
       "<!-- F0&#45;&gt;S01 -->\r\n",
       "<g id=\"edge6\" class=\"edge\"><title>F0&#45;&gt;S01</title>\r\n",
       "<path fill=\"none\" stroke=\"black\" d=\"M229.339,-27.4761C235.201,-28.0252 241.468,-28.5201 247.293,-28.7982 252.116,-29.0284 257.205,-29.0074 262.203,-28.8356\"/>\r\n",
       "<polygon fill=\"black\" stroke=\"black\" points=\"262.42,-32.3291 272.22,-28.3033 262.048,-25.339 262.42,-32.3291\"/>\r\n",
       "<text text-anchor=\"middle\" x=\"250.793\" y=\"-33.5982\" font-family=\"Times New Roman,serif\" font-size=\"14.00\">1</text>\r\n",
       "</g>\r\n",
       "<!-- F0&#45;&gt;F0 -->\r\n",
       "<g id=\"edge4\" class=\"edge\"><title>F0&#45;&gt;F0</title>\r\n",
       "<path fill=\"none\" stroke=\"black\" d=\"M196.005,-48.1303C195.196,-58.5686 198.026,-67.5963 204.495,-67.5963 208.639,-67.5963 211.29,-63.8913 212.447,-58.484\"/>\r\n",
       "<polygon fill=\"black\" stroke=\"black\" points=\"215.961,-58.2984 212.985,-48.1303 208.971,-57.9351 215.961,-58.2984\"/>\r\n",
       "<text text-anchor=\"middle\" x=\"204.495\" y=\"-71.3963\" font-family=\"Times New Roman,serif\" font-size=\"14.00\">0</text>\r\n",
       "</g>\r\n",
       "<!-- IF&#45;&gt;F1 -->\r\n",
       "<g id=\"edge3\" class=\"edge\"><title>IF&#45;&gt;F1</title>\r\n",
       "<path fill=\"none\" stroke=\"black\" d=\"M134.964,-92.5555C146.117,-97.9658 160.221,-104.807 172.73,-110.875\"/>\r\n",
       "<polygon fill=\"black\" stroke=\"black\" points=\"171.385,-114.113 181.91,-115.328 174.441,-107.815 171.385,-114.113\"/>\r\n",
       "<text text-anchor=\"middle\" x=\"158.197\" y=\"-109.598\" font-family=\"Times New Roman,serif\" font-size=\"14.00\">1</text>\r\n",
       "</g>\r\n",
       "<!-- IF&#45;&gt;F0 -->\r\n",
       "<g id=\"edge2\" class=\"edge\"><title>IF&#45;&gt;F0</title>\r\n",
       "<path fill=\"none\" stroke=\"black\" d=\"M133.648,-70.4978C145.572,-62.6965 161.233,-52.4492 174.704,-43.6355\"/>\r\n",
       "<polygon fill=\"black\" stroke=\"black\" points=\"176.727,-46.4948 183.178,-38.0909 172.894,-40.6372 176.727,-46.4948\"/>\r\n",
       "<text text-anchor=\"middle\" x=\"158.197\" y=\"-59.5982\" font-family=\"Times New Roman,serif\" font-size=\"14.00\">0</text>\r\n",
       "</g>\r\n",
       "</g>\r\n",
       "</svg>\r\n"
      ],
      "text/plain": [
       "<graphviz.dot.Digraph at 0x20aa3a47940>"
      ]
     },
     "execution_count": 67,
     "metadata": {},
     "output_type": "execute_result"
    }
   ],
   "source": [
    "# Now let us view the DFA as a graph\n",
    "dotObj_dfa(EqChangeDFA)"
   ]
  },
  {
   "cell_type": "markdown",
   "metadata": {
    "run_control": {
     "frozen": false,
     "read_only": false
    }
   },
   "source": [
    "### Running a constructed DFA\n",
    "\n",
    "We run a DFA by generating a collection of strings and generating the status of run (feeding it to accepts_dfa)\n",
    "The full language of the DFA is infinitary, and so we won't present all of it (obviously) but only enough of it\n",
    "to believe that we have built the correct DFA. Later we can check properties and conclude that the machine has\n",
    "all the required moves."
   ]
  },
  {
   "cell_type": "code",
   "execution_count": 68,
   "metadata": {
    "run_control": {
     "frozen": false,
     "read_only": false
    }
   },
   "outputs": [],
   "source": [
    "from math import floor, log, pow\n",
    "def nthnumeric(N, Sigma={'a','b'}):\n",
    "    \"\"\"Assume Sigma is a 2-sized list/set of chars (default {'a','b'}). \n",
    "       Produce the Nth string in numeric order, where N >= 0.\n",
    "       Idea : Given N, get b = floor(log_2(N+1)) - need that \n",
    "       many places; what to fill in the places is the binary \n",
    "       code for N - (2^b - 1) with 0 as Sigma[0] and 1 as Sigma[1].    \n",
    "    \"\"\"\n",
    "    if (type(Sigma)==set):\n",
    "       S = list(Sigma)\n",
    "    else:\n",
    "       assert(type(Sigma)==list\n",
    "       ), \"Expected to be given set/list for arg2 of nthnumeric.\"\n",
    "       S = Sigma\n",
    "    assert(len(Sigma)==2\n",
    "          ),\"Expected to be given a Sigma of length 2.\"\n",
    "    if(N==0):\n",
    "        return ''\n",
    "    else:\n",
    "        width = floor(log(N+1, 2))\n",
    "        tofill = int(N - pow(2, width) + 1)\n",
    "        relevant_binstr = bin(tofill)[2::] # strip the 0b \n",
    "                                           # in the leading string\n",
    "        len_to_makeup = width - len(relevant_binstr)\n",
    "        return (S[0]*len_to_makeup + \n",
    "                shomo(relevant_binstr,\n",
    "                      lambda x: S[1] if x=='1' else S[0]))"
   ]
  },
  {
   "cell_type": "code",
   "execution_count": 69,
   "metadata": {
    "run_control": {
     "frozen": false,
     "read_only": false
    },
    "scrolled": true
   },
   "outputs": [
    {
     "name": "stdout",
     "output_type": "stream",
     "text": [
      "This DFA accepts  \n",
      "This DFA accepts  0\n",
      "This DFA accepts  1\n",
      "This DFA accepts  00\n",
      "This DFA rejects  01\n",
      "This DFA rejects  10\n",
      "This DFA accepts  11\n",
      "This DFA accepts  000\n",
      "This DFA rejects  001\n",
      "This DFA accepts  010\n",
      "This DFA rejects  011\n",
      "This DFA rejects  100\n",
      "This DFA accepts  101\n",
      "This DFA rejects  110\n",
      "This DFA accepts  111\n",
      "This DFA accepts  0000\n",
      "This DFA rejects  0001\n",
      "This DFA accepts  0010\n",
      "This DFA rejects  0011\n"
     ]
    }
   ],
   "source": [
    "tests = [ nthnumeric(i, ['0','1']) for i in range(19) ]\n",
    "for t in tests:\n",
    "    if accepts_dfa(EqChangeDFA, t):\n",
    "        print(\"This DFA accepts \", t)\n",
    "    else:\n",
    "        print(\"This DFA rejects \", t)"
   ]
  },
  {
   "cell_type": "markdown",
   "metadata": {
    "run_control": {
     "frozen": false,
     "read_only": false
    }
   },
   "source": [
    "# QN: Answer in six sentences\n",
    "\n",
    "Write a paragraph of about 6 sentences (6 bullets) on how Jove helped you define a DFA and test it using the function nthnumeric.\n",
    "\n",
    "#--answer--\n",
    "\n",
    "* The DFA was created using Jove's markdown. A state that is initial and final begins with: IF\n",
    "* A state that is only final begins with: F\n",
    "* Function nthnumeric gives you a good way to test DFA exhaustively upto a size, because: It generates all possible strings from that alphabet up to the nth in numeric order\n",
    "  - If the alphabet size is above 2, then nthnumeric, as implemented in Jove, is not very\n",
    "    helpful for testing because: it only works for alphabets of size 2\n",
    "  - Then I can test using lstar(L,n) for some value of n, because, unlike nthnumeric,\n",
    "    lstar can take alphabets of size... : any size\n",
    "* Comments in Jove's markdown must begin with: !!\n",
    "* The function to draw a DFA is <<this one>> : dotObj_dfa\n",
    "* Overall, the DFA was entered piece by piece, each time producing a drawing for the partially finished piece. In the above example, we drew this many partial DFAs before finally finishing it: 2"
   ]
  },
  {
   "cell_type": "markdown",
   "metadata": {
    "run_control": {
     "frozen": false,
     "read_only": false
    }
   },
   "source": [
    "END of Quiz2"
   ]
  }
 ],
 "metadata": {
  "kernelspec": {
   "display_name": "Python 3",
   "language": "python",
   "name": "python3"
  },
  "language_info": {
   "codemirror_mode": {
    "name": "ipython",
    "version": 3
   },
   "file_extension": ".py",
   "mimetype": "text/x-python",
   "name": "python",
   "nbconvert_exporter": "python",
   "pygments_lexer": "ipython3",
   "version": "3.6.5"
  },
  "toc": {
   "colors": {
    "hover_highlight": "#DAA520",
    "running_highlight": "#FF0000",
    "selected_highlight": "#FFD700"
   },
   "moveMenuLeft": true,
   "nav_menu": {
    "height": "66px",
    "width": "252px"
   },
   "navigate_menu": true,
   "number_sections": true,
   "sideBar": true,
   "threshold": 4,
   "toc_cell": false,
   "toc_section_display": "block",
   "toc_window_display": false,
   "widenNotebook": false
  },
  "widgets": {
   "state": {
    "14213a912bee4fe39a1935ea3f5cedae": {
     "views": [
      {
       "cell_index": 23
      }
     ]
    },
    "a61e1a102c1d4394bd8b83ae326c2d80": {
     "views": [
      {
       "cell_index": 23
      }
     ]
    }
   },
   "version": "1.2.0"
  }
 },
 "nbformat": 4,
 "nbformat_minor": 2
}
