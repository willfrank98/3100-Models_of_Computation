{
 "cells": [
  {
   "cell_type": "markdown",
   "metadata": {
    "run_control": {
     "frozen": false,
     "read_only": false
    }
   },
   "source": [
    "# Q8  \n",
    "\n",
    "** Run these cells one by one. Study the questions and the answers here. Then answer the corresponding Canvas questions in Quiz-8. **\n",
    "\n",
    "\n",
    "## You will be provided answers here. \n",
    "\n",
    "You'll be provided the answers here. We will tag them as \"Free Answer\". You will see that only after you run the cells. Write these ** free answers** on Canvas. Our goal is that you ran through these cells at least once !!!\n"
   ]
  },
  {
   "cell_type": "markdown",
   "metadata": {
    "run_control": {
     "frozen": false,
     "read_only": false
    }
   },
   "source": [
    "## Background information for you\n",
    "\n",
    "\n",
    "Someone was asked to build a calculator following these CFG rules.\n",
    "\n",
    "\n",
    "```\n",
    "RULES\n",
    "\n",
    "Rule 0     S -> expression\n",
    "Rule 1     expression -> expression PLUS term\n",
    "Rule 2     expression -> expression MINUS term\n",
    "Rule 3     expression -> term\n",
    "Rule 4     term -> term TIMES factor\n",
    "Rule 5     term -> term DIVIDE factor\n",
    "Rule 6     term -> factor\n",
    "Rule 7     factor -> innerfactor EXP factor\n",
    "Rule 8     factor -> innerfactor\n",
    "Rule 9     innerfactor -> UMINUS innerfactor\n",
    "Rule 10    innerfactor -> LPAREN expression RPAREN\n",
    "Rule 11    innerfactor -> NUMBER\n",
    "```\n",
    "\n",
    "They implemented these CFGs in a parser that we shall present in Section 2 below."
   ]
  },
  {
   "cell_type": "markdown",
   "metadata": {
    "run_control": {
     "frozen": false,
     "read_only": false
    }
   },
   "source": [
    "## THINGS TO NOTE\n",
    "\n",
    "* We will use \"~\" (tilde) for unary minus, and \"-\" (regular minus) for binary infix minus\n",
    "\n",
    "* we will use \"^\" for exponentiation"
   ]
  },
  {
   "cell_type": "markdown",
   "metadata": {
    "run_control": {
     "frozen": false,
     "read_only": false
    }
   },
   "source": [
    "# The Parser\n",
    "\n",
    "You may be interested in roughly how abstract CFG rules such as listed above turn into CFG rules as supported by a tool such as PLY."
   ]
  },
  {
   "cell_type": "code",
   "execution_count": 1,
   "metadata": {
    "run_control": {
     "frozen": false,
     "read_only": false
    }
   },
   "outputs": [
    {
     "name": "stdout",
     "output_type": "stream",
     "text": [
      "You may use any of these help commands:\n",
      "help(ResetStNum)\n",
      "help(NxtStateStr)\n",
      "\n"
     ]
    }
   ],
   "source": [
    "from lex import lex\n",
    "from yacc import yacc\n",
    "\n",
    "from jove.StateNameSanitizers import ResetStNum, NxtStateStr\n",
    "from jove.SystemImports       import *\n"
   ]
  },
  {
   "cell_type": "code",
   "execution_count": 2,
   "metadata": {
    "run_control": {
     "frozen": false,
     "read_only": false
    }
   },
   "outputs": [],
   "source": [
    "# Following ideas from http://www.dabeaz.com/ply/example.html heavily\n",
    "tokens = ('NUMBER','LPAREN','RPAREN','PLUS', 'MINUS', 'TIMES','DIVIDE', 'UMINUS', 'EXP') \n",
    "\n",
    "# Tokens\n",
    "t_PLUS    = r'\\+'\n",
    "t_MINUS   = r'\\-'\n",
    "t_TIMES   = r'\\*'\n",
    "t_DIVIDE  = r'\\/'\n",
    "t_LPAREN  = r'\\('\n",
    "t_RPAREN  = r'\\)' \n",
    "t_UMINUS  = r'\\~' \n",
    "t_EXP     = r'\\^'\n",
    "\n",
    "# parsing + semantic actions in one place!\n",
    "def t_NUMBER(t):\n",
    "    r'\\d+'\n",
    "    try:\n",
    "        t.value = int(t.value)\n",
    "    except ValueError:\n",
    "        print(\"Integer value too large %d\", t.value)\n",
    "        t.value = 0\n",
    "    return t\n",
    "\n",
    "# Ignored characters\n",
    "t_ignore = \" \\t\"\n",
    "\n",
    "def t_newline(t):\n",
    "    r'\\n+'\n",
    "    t.lexer.lineno += t.value.count(\"\\n\")\n",
    "    \n",
    "def t_error(t):\n",
    "    print(\"Illegal character '%s'\" % t.value[0])\n",
    "    t.lexer.skip(1)\n",
    "    "
   ]
  },
  {
   "cell_type": "code",
   "execution_count": 3,
   "metadata": {
    "run_control": {
     "frozen": false,
     "read_only": false
    }
   },
   "outputs": [],
   "source": [
    "\n",
    "def p_expression_1(t):\n",
    "    'expression : expression PLUS term'\n",
    "    #\n",
    "    t[0] = (t[1][0] + t[3][0],\n",
    "            attrDyadicInfix(\"+\", t[1][1], t[3][1]))   \n",
    "    \n",
    "def p_expression_2(t):\n",
    "    'expression : expression MINUS term'\n",
    "    #\n",
    "    t[0] = (t[1][0] - t[3][0],\n",
    "            attrDyadicInfix(\"-\", t[1][1], t[3][1]))   \n",
    "    \n",
    "def p_expression_3(t):\n",
    "    'expression : term'\n",
    "    #\n",
    "    t[0] = t[1]  \n",
    "    \n",
    "# Consult this excellent reference for info on precedences\n",
    "# https://www.cs.utah.edu/~zachary/isp/worksheets/operprec/operprec.html\n",
    "    \n",
    "    \n",
    "def p_term_1(t):\n",
    "    'term :  term TIMES factor'\n",
    "    #\n",
    "    t[0] = (t[1][0] * t[3][0],\n",
    "            attrDyadicInfix(\"*\", t[1][1], t[3][1])) \n",
    "\n",
    "    \n",
    "def p_term_2(t):\n",
    "    'term :  term DIVIDE factor'\n",
    "    #\n",
    "    if (t[3][0] == 0):\n",
    "        print(\"Error, divide by zero!\")\n",
    "        t[3][0] = 1 # fix it\n",
    "    t[0] = (t[1][0] / t[3][0],\n",
    "            attrDyadicInfix(\"/\", t[1][1], t[3][1]))\n",
    "\n",
    "\n",
    "def p_term_3(t):\n",
    "    'term :  factor'\n",
    "    #\n",
    "    t[0] = t[1]  \n",
    "\n",
    "def p_factor_1(t):\n",
    "    'factor : innerfactor EXP factor'\n",
    "    #\n",
    "    t[0] = (t[1][0] ** t[3][0],\n",
    "            attrDyadicInfix(\"^\", t[1][1], t[3][1])) \n",
    "\n",
    "def p_factor_2(t):\n",
    "    'factor : innerfactor'\n",
    "    #\n",
    "    t[0] = t[1]\n",
    "    \n",
    "def p_innerfactor_1(t):\n",
    "    'innerfactor : UMINUS innerfactor'\n",
    "    #\n",
    "    ast  = ('~', t[2][1]['ast'])\n",
    "    \n",
    "    nlin = t[2][1]['dig']['nl']\n",
    "    elin = t[2][1]['dig']['el']\n",
    "    \n",
    "    rootin = nlin[0]\n",
    "\n",
    "    root = NxtStateStr(\"~E_\") \n",
    "    left = NxtStateStr(\"~_\")\n",
    "\n",
    "    t[0] =(-t[2][0], \n",
    "           {'ast' : ast,\n",
    "            'dig' : {'nl' : [ root, left ] + nlin, # this order important for proper layout!\n",
    "                     'el' : elin + [ (root, left),\n",
    "                                     (root, rootin) ]\n",
    "                    }})\n",
    "\n",
    "    \n",
    "def p_innerfactor_2(t):\n",
    "    'innerfactor : LPAREN expression RPAREN'\n",
    "    #\n",
    "    ast  = t[2][1]['ast']\n",
    "    \n",
    "    nlin = t[2][1]['dig']['nl']\n",
    "    elin = t[2][1]['dig']['el']\n",
    "    \n",
    "    rootin = nlin[0]\n",
    "    \n",
    "    root = NxtStateStr(\"(E)_\")\n",
    "    left = NxtStateStr(\"(_\")\n",
    "    right= NxtStateStr(\")_\")\n",
    "    \n",
    "    t[0] =(t[2][0],\n",
    "           {'ast' : ast,\n",
    "            'dig' : {'nl' : [root, left] + nlin + [right], #order important f. proper layout!\n",
    "                     'el' : elin + [ (root, left),\n",
    "                                     (root, rootin),\n",
    "                                     (root, right) ]\n",
    "                    }})\n",
    "\n",
    "def p_innerfactor_3(t):\n",
    "    'innerfactor : NUMBER'\n",
    "    #\n",
    "    strn = str(t[1])\n",
    "    ast  = ('NUMBER', strn)           \n",
    "    t[0] =(t[1],\n",
    "           { 'ast' : ast,\n",
    "             'dig' : {'nl' : [ strn + NxtStateStr(\"_\") ],\n",
    "                      'el' : []\n",
    "                     }})\n",
    "\n",
    "\n",
    "def p_error(t):\n",
    "    print(\"Syntax error at '%s'\" % t.value)\n",
    "\n",
    "#--\n",
    "    \n",
    "def attrDyadicInfix(op, attr1, attr3):\n",
    "    ast  = (op, (attr1['ast'], attr3['ast']))\n",
    "    \n",
    "    nlin1 = attr1['dig']['nl']\n",
    "    nlin3 = attr3['dig']['nl']\n",
    "    nlin  = nlin1 + nlin3\n",
    "    \n",
    "    elin1 = attr1['dig']['el']\n",
    "    elin3 = attr3['dig']['el']\n",
    "    elin  = elin1 + elin3\n",
    "    \n",
    "    rootin1 = nlin1[0]\n",
    "    rootin3 = nlin3[0]    \n",
    "    \n",
    "    root   = NxtStateStr(\"E1\"+op+\"E2\"+\"_\") # NxtStateStr(\"$_\")\n",
    "    left   = rootin1\n",
    "    middle = NxtStateStr(op+\"_\")\n",
    "    right  = rootin3\n",
    "    \n",
    "    return {'ast' : ast,\n",
    "            'dig' : {'nl' : [ root, left, middle, right ] + nlin,\n",
    "                     'el' : elin + [ (root, left),\n",
    "                                     (root, middle),\n",
    "                                     (root, right) ]\n",
    "                     }}\n",
    "\n",
    "#===\n",
    "# This is the main function in this Jove file.  \n",
    "#===\n",
    "\n",
    "def parseExp(s):\n",
    "    \"\"\"In: a string s containing a regular expression.\n",
    "       Out: An attribute triple consisting of\n",
    "            1) An abstract syntax tree suitable for processing in the derivative-based scanner\n",
    "            2) A node-list for the parse-tree digraph generated. Good for drawing a parse tree \n",
    "               using the drawPT function below\n",
    "            3) An edge list for the parse-tree generated (again good for drawing using the\n",
    "               drawPT function below)\n",
    "    \"\"\"\n",
    "    mylexer  = lex()\n",
    "    myparser = yacc()\n",
    "    pt = myparser.parse(s, lexer = mylexer)\n",
    "    \n",
    "    # print('parsed result  is ', pt)\n",
    "    # (result, ast, nodes, edges)\n",
    "    return (pt[0], pt[1]['ast'], pt[1]['dig']['nl'], pt[1]['dig']['el'])\n",
    "\n",
    "def drawPT(ast_rslt_nl_el, comment=\"PT\"):\n",
    "    \"\"\"Given an (ast, nl, el) triple where nl is the node and el the edge-list,\n",
    "       draw the Parse Tree by returning a dot object.\n",
    "    \"\"\"\n",
    "    (rslt, ast, nl, el) = ast_rslt_nl_el\n",
    "    \n",
    "    print(\"Result calculated = \", rslt)\n",
    "    print(\"Drawing AST for \", ast)\n",
    "    \n",
    "    dotObj_pt = Digraph(comment)\n",
    "    dotObj_pt.graph_attr['rankdir'] = 'TB'\n",
    "    for n in nl:\n",
    "        prNam = n.split('_')[0]\n",
    "        dotObj_pt.node(n, prNam, shape=\"oval\", peripheries=\"1\")\n",
    "    for e in el:\n",
    "        dotObj_pt.edge(e[0], e[1])\n",
    "    return dotObj_pt"
   ]
  },
  {
   "cell_type": "markdown",
   "metadata": {
    "run_control": {
     "frozen": false,
     "read_only": false
    }
   },
   "source": [
    "# Now answer these questions"
   ]
  },
  {
   "cell_type": "markdown",
   "metadata": {
    "run_control": {
     "frozen": false,
     "read_only": false
    }
   },
   "source": [
    "## How does the calculator above parse \"~2^2\" ?"
   ]
  },
  {
   "cell_type": "code",
   "execution_count": 4,
   "metadata": {
    "run_control": {
     "frozen": false,
     "read_only": false
    }
   },
   "outputs": [
    {
     "name": "stdout",
     "output_type": "stream",
     "text": [
      "Result calculated =  4\n",
      "Drawing AST for  ('^', (('~', ('NUMBER', '2')), ('NUMBER', '2')))\n"
     ]
    },
    {
     "name": "stderr",
     "output_type": "stream",
     "text": [
      "Generating LALR tables\n"
     ]
    },
    {
     "data": {
      "image/svg+xml": [
       "<?xml version=\"1.0\" encoding=\"UTF-8\" standalone=\"no\"?>\r\n",
       "<!DOCTYPE svg PUBLIC \"-//W3C//DTD SVG 1.1//EN\"\r\n",
       " \"http://www.w3.org/Graphics/SVG/1.1/DTD/svg11.dtd\">\r\n",
       "<!-- Generated by graphviz version 2.38.0 (20140413.2041)\r\n",
       " -->\r\n",
       "<!-- Title: PT Pages: 1 -->\r\n",
       "<svg width=\"242pt\" height=\"188pt\"\r\n",
       " viewBox=\"0.00 0.00 242.00 188.00\" xmlns=\"http://www.w3.org/2000/svg\" xmlns:xlink=\"http://www.w3.org/1999/xlink\">\r\n",
       "<g id=\"graph0\" class=\"graph\" transform=\"scale(1 1) rotate(0) translate(4 184)\">\r\n",
       "<title>PT</title>\r\n",
       "<polygon fill=\"white\" stroke=\"none\" points=\"-4,4 -4,-184 238,-184 238,4 -4,4\"/>\r\n",
       "<!-- E1^E2_5 -->\r\n",
       "<g id=\"node1\" class=\"node\"><title>E1^E2_5</title>\r\n",
       "<ellipse fill=\"none\" stroke=\"black\" cx=\"135\" cy=\"-162\" rx=\"34.394\" ry=\"18\"/>\r\n",
       "<text text-anchor=\"middle\" x=\"135\" y=\"-158.3\" font-family=\"Times New Roman,serif\" font-size=\"14.00\">E1^E2</text>\r\n",
       "</g>\r\n",
       "<!-- ~E_2 -->\r\n",
       "<g id=\"node2\" class=\"node\"><title>~E_2</title>\r\n",
       "<ellipse fill=\"none\" stroke=\"black\" cx=\"63\" cy=\"-90\" rx=\"27\" ry=\"18\"/>\r\n",
       "<text text-anchor=\"middle\" x=\"63\" y=\"-86.3\" font-family=\"Times New Roman,serif\" font-size=\"14.00\">~E</text>\r\n",
       "</g>\r\n",
       "<!-- E1^E2_5&#45;&gt;~E_2 -->\r\n",
       "<g id=\"edge3\" class=\"edge\"><title>E1^E2_5&#45;&gt;~E_2</title>\r\n",
       "<path fill=\"none\" stroke=\"black\" d=\"M119.377,-145.811C109.296,-136.01 96.0358,-123.118 84.9084,-112.3\"/>\r\n",
       "<polygon fill=\"black\" stroke=\"black\" points=\"87.2207,-109.666 77.6109,-105.205 82.3411,-114.685 87.2207,-109.666\"/>\r\n",
       "</g>\r\n",
       "<!-- ^_6 -->\r\n",
       "<g id=\"node3\" class=\"node\"><title>^_6</title>\r\n",
       "<ellipse fill=\"none\" stroke=\"black\" cx=\"135\" cy=\"-90\" rx=\"27\" ry=\"18\"/>\r\n",
       "<text text-anchor=\"middle\" x=\"135\" y=\"-86.3\" font-family=\"Times New Roman,serif\" font-size=\"14.00\">^</text>\r\n",
       "</g>\r\n",
       "<!-- E1^E2_5&#45;&gt;^_6 -->\r\n",
       "<g id=\"edge4\" class=\"edge\"><title>E1^E2_5&#45;&gt;^_6</title>\r\n",
       "<path fill=\"none\" stroke=\"black\" d=\"M135,-143.697C135,-135.983 135,-126.712 135,-118.112\"/>\r\n",
       "<polygon fill=\"black\" stroke=\"black\" points=\"138.5,-118.104 135,-108.104 131.5,-118.104 138.5,-118.104\"/>\r\n",
       "</g>\r\n",
       "<!-- 2_4 -->\r\n",
       "<g id=\"node4\" class=\"node\"><title>2_4</title>\r\n",
       "<ellipse fill=\"none\" stroke=\"black\" cx=\"207\" cy=\"-90\" rx=\"27\" ry=\"18\"/>\r\n",
       "<text text-anchor=\"middle\" x=\"207\" y=\"-86.3\" font-family=\"Times New Roman,serif\" font-size=\"14.00\">2</text>\r\n",
       "</g>\r\n",
       "<!-- E1^E2_5&#45;&gt;2_4 -->\r\n",
       "<g id=\"edge5\" class=\"edge\"><title>E1^E2_5&#45;&gt;2_4</title>\r\n",
       "<path fill=\"none\" stroke=\"black\" d=\"M150.623,-145.811C160.704,-136.01 173.964,-123.118 185.092,-112.3\"/>\r\n",
       "<polygon fill=\"black\" stroke=\"black\" points=\"187.659,-114.685 192.389,-105.205 182.779,-109.666 187.659,-114.685\"/>\r\n",
       "</g>\r\n",
       "<!-- ~_3 -->\r\n",
       "<g id=\"node5\" class=\"node\"><title>~_3</title>\r\n",
       "<ellipse fill=\"none\" stroke=\"black\" cx=\"27\" cy=\"-18\" rx=\"27\" ry=\"18\"/>\r\n",
       "<text text-anchor=\"middle\" x=\"27\" y=\"-14.3\" font-family=\"Times New Roman,serif\" font-size=\"14.00\">~</text>\r\n",
       "</g>\r\n",
       "<!-- ~E_2&#45;&gt;~_3 -->\r\n",
       "<g id=\"edge1\" class=\"edge\"><title>~E_2&#45;&gt;~_3</title>\r\n",
       "<path fill=\"none\" stroke=\"black\" d=\"M54.6504,-72.7646C50.2885,-64.2831 44.8531,-53.7144 39.9587,-44.1974\"/>\r\n",
       "<polygon fill=\"black\" stroke=\"black\" points=\"42.9904,-42.4395 35.3043,-35.1473 36.7654,-45.6409 42.9904,-42.4395\"/>\r\n",
       "</g>\r\n",
       "<!-- 2_1 -->\r\n",
       "<g id=\"node6\" class=\"node\"><title>2_1</title>\r\n",
       "<ellipse fill=\"none\" stroke=\"black\" cx=\"99\" cy=\"-18\" rx=\"27\" ry=\"18\"/>\r\n",
       "<text text-anchor=\"middle\" x=\"99\" y=\"-14.3\" font-family=\"Times New Roman,serif\" font-size=\"14.00\">2</text>\r\n",
       "</g>\r\n",
       "<!-- ~E_2&#45;&gt;2_1 -->\r\n",
       "<g id=\"edge2\" class=\"edge\"><title>~E_2&#45;&gt;2_1</title>\r\n",
       "<path fill=\"none\" stroke=\"black\" d=\"M71.3496,-72.7646C75.7115,-64.2831 81.1469,-53.7144 86.0413,-44.1974\"/>\r\n",
       "<polygon fill=\"black\" stroke=\"black\" points=\"89.2346,-45.6409 90.6957,-35.1473 83.0096,-42.4395 89.2346,-45.6409\"/>\r\n",
       "</g>\r\n",
       "</g>\r\n",
       "</svg>\r\n"
      ],
      "text/plain": [
       "<graphviz.dot.Digraph at 0x286602f8f60>"
      ]
     },
     "execution_count": 4,
     "metadata": {},
     "output_type": "execute_result"
    }
   ],
   "source": [
    "drawPT(parseExp(\"~2^2\"))"
   ]
  },
  {
   "cell_type": "markdown",
   "metadata": {
    "run_control": {
     "frozen": false,
     "read_only": false
    }
   },
   "source": [
    "** Free answer: ** In our calculator, unary minus has higher precedence than exponentiation, as evidenced by a parse tree of **this many** nodes.  "
   ]
  },
  {
   "cell_type": "markdown",
   "metadata": {
    "run_control": {
     "frozen": false,
     "read_only": false
    }
   },
   "source": [
    "## Why does Python give a different answer for the expression ```-2**2``` ?"
   ]
  },
  {
   "cell_type": "code",
   "execution_count": 5,
   "metadata": {
    "run_control": {
     "frozen": false,
     "read_only": false
    }
   },
   "outputs": [
    {
     "data": {
      "text/plain": [
       "-4"
      ]
     },
     "execution_count": 5,
     "metadata": {},
     "output_type": "execute_result"
    }
   ],
   "source": [
    "# Python evaluation\n",
    "-2 ** 2"
   ]
  },
  {
   "cell_type": "markdown",
   "metadata": {
    "run_control": {
     "frozen": false,
     "read_only": false
    }
   },
   "source": [
    "** Free answer: ** The experiment with the above Python expression shows how our calculator and Python differ. Specifically, the answers are **this one** (calculator) and **this one** (Python). In Python, unary minus binds less tightly than exponentiation.  "
   ]
  },
  {
   "cell_type": "markdown",
   "metadata": {
    "run_control": {
     "frozen": false,
     "read_only": false
    }
   },
   "source": [
    "## In parsing \"2^~3^~4\", the following parse tree was produced.\n",
    "\n",
    "How can we tell that the calculator gives higher precedence to \"~\" (unary minus) and that it right-associates the exponentiation operator?"
   ]
  },
  {
   "cell_type": "code",
   "execution_count": 6,
   "metadata": {
    "run_control": {
     "frozen": false,
     "read_only": false
    }
   },
   "outputs": [
    {
     "name": "stdout",
     "output_type": "stream",
     "text": [
      "Result calculated =  1.008594091576999\n",
      "Drawing AST for  ('^', (('NUMBER', '2'), ('^', (('~', ('NUMBER', '3')), ('~', ('NUMBER', '4'))))))\n"
     ]
    },
    {
     "data": {
      "image/svg+xml": [
       "<?xml version=\"1.0\" encoding=\"UTF-8\" standalone=\"no\"?>\r\n",
       "<!DOCTYPE svg PUBLIC \"-//W3C//DTD SVG 1.1//EN\"\r\n",
       " \"http://www.w3.org/Graphics/SVG/1.1/DTD/svg11.dtd\">\r\n",
       "<!-- Generated by graphviz version 2.38.0 (20140413.2041)\r\n",
       " -->\r\n",
       "<!-- Title: PT Pages: 1 -->\r\n",
       "<svg width=\"339pt\" height=\"260pt\"\r\n",
       " viewBox=\"0.00 0.00 339.00 260.00\" xmlns=\"http://www.w3.org/2000/svg\" xmlns:xlink=\"http://www.w3.org/1999/xlink\">\r\n",
       "<g id=\"graph0\" class=\"graph\" transform=\"scale(1 1) rotate(0) translate(4 256)\">\r\n",
       "<title>PT</title>\r\n",
       "<polygon fill=\"white\" stroke=\"none\" points=\"-4,4 -4,-256 335,-256 335,4 -4,4\"/>\r\n",
       "<!-- E1^E2_16 -->\r\n",
       "<g id=\"node1\" class=\"node\"><title>E1^E2_16</title>\r\n",
       "<ellipse fill=\"none\" stroke=\"black\" cx=\"99\" cy=\"-234\" rx=\"34.394\" ry=\"18\"/>\r\n",
       "<text text-anchor=\"middle\" x=\"99\" y=\"-230.3\" font-family=\"Times New Roman,serif\" font-size=\"14.00\">E1^E2</text>\r\n",
       "</g>\r\n",
       "<!-- 2_7 -->\r\n",
       "<g id=\"node2\" class=\"node\"><title>2_7</title>\r\n",
       "<ellipse fill=\"none\" stroke=\"black\" cx=\"27\" cy=\"-162\" rx=\"27\" ry=\"18\"/>\r\n",
       "<text text-anchor=\"middle\" x=\"27\" y=\"-158.3\" font-family=\"Times New Roman,serif\" font-size=\"14.00\">2</text>\r\n",
       "</g>\r\n",
       "<!-- E1^E2_16&#45;&gt;2_7 -->\r\n",
       "<g id=\"edge8\" class=\"edge\"><title>E1^E2_16&#45;&gt;2_7</title>\r\n",
       "<path fill=\"none\" stroke=\"black\" d=\"M83.3771,-217.811C73.2958,-208.01 60.0358,-195.118 48.9084,-184.3\"/>\r\n",
       "<polygon fill=\"black\" stroke=\"black\" points=\"51.2207,-181.666 41.6109,-177.205 46.3411,-186.685 51.2207,-181.666\"/>\r\n",
       "</g>\r\n",
       "<!-- ^_17 -->\r\n",
       "<g id=\"node3\" class=\"node\"><title>^_17</title>\r\n",
       "<ellipse fill=\"none\" stroke=\"black\" cx=\"99\" cy=\"-162\" rx=\"27\" ry=\"18\"/>\r\n",
       "<text text-anchor=\"middle\" x=\"99\" y=\"-158.3\" font-family=\"Times New Roman,serif\" font-size=\"14.00\">^</text>\r\n",
       "</g>\r\n",
       "<!-- E1^E2_16&#45;&gt;^_17 -->\r\n",
       "<g id=\"edge9\" class=\"edge\"><title>E1^E2_16&#45;&gt;^_17</title>\r\n",
       "<path fill=\"none\" stroke=\"black\" d=\"M99,-215.697C99,-207.983 99,-198.712 99,-190.112\"/>\r\n",
       "<polygon fill=\"black\" stroke=\"black\" points=\"102.5,-190.104 99,-180.104 95.5001,-190.104 102.5,-190.104\"/>\r\n",
       "</g>\r\n",
       "<!-- E1^E2_14 -->\r\n",
       "<g id=\"node4\" class=\"node\"><title>E1^E2_14</title>\r\n",
       "<ellipse fill=\"none\" stroke=\"black\" cx=\"178\" cy=\"-162\" rx=\"34.394\" ry=\"18\"/>\r\n",
       "<text text-anchor=\"middle\" x=\"178\" y=\"-158.3\" font-family=\"Times New Roman,serif\" font-size=\"14.00\">E1^E2</text>\r\n",
       "</g>\r\n",
       "<!-- E1^E2_16&#45;&gt;E1^E2_14 -->\r\n",
       "<g id=\"edge10\" class=\"edge\"><title>E1^E2_16&#45;&gt;E1^E2_14</title>\r\n",
       "<path fill=\"none\" stroke=\"black\" d=\"M115.754,-218.155C126.751,-208.41 141.318,-195.503 153.594,-184.626\"/>\r\n",
       "<polygon fill=\"black\" stroke=\"black\" points=\"156.107,-187.075 161.27,-177.824 151.465,-181.836 156.107,-187.075\"/>\r\n",
       "</g>\r\n",
       "<!-- ~E_9 -->\r\n",
       "<g id=\"node5\" class=\"node\"><title>~E_9</title>\r\n",
       "<ellipse fill=\"none\" stroke=\"black\" cx=\"106\" cy=\"-90\" rx=\"27\" ry=\"18\"/>\r\n",
       "<text text-anchor=\"middle\" x=\"106\" y=\"-86.3\" font-family=\"Times New Roman,serif\" font-size=\"14.00\">~E</text>\r\n",
       "</g>\r\n",
       "<!-- E1^E2_14&#45;&gt;~E_9 -->\r\n",
       "<g id=\"edge5\" class=\"edge\"><title>E1^E2_14&#45;&gt;~E_9</title>\r\n",
       "<path fill=\"none\" stroke=\"black\" d=\"M162.377,-145.811C152.296,-136.01 139.036,-123.118 127.908,-112.3\"/>\r\n",
       "<polygon fill=\"black\" stroke=\"black\" points=\"130.221,-109.666 120.611,-105.205 125.341,-114.685 130.221,-109.666\"/>\r\n",
       "</g>\r\n",
       "<!-- ^_15 -->\r\n",
       "<g id=\"node6\" class=\"node\"><title>^_15</title>\r\n",
       "<ellipse fill=\"none\" stroke=\"black\" cx=\"178\" cy=\"-90\" rx=\"27\" ry=\"18\"/>\r\n",
       "<text text-anchor=\"middle\" x=\"178\" y=\"-86.3\" font-family=\"Times New Roman,serif\" font-size=\"14.00\">^</text>\r\n",
       "</g>\r\n",
       "<!-- E1^E2_14&#45;&gt;^_15 -->\r\n",
       "<g id=\"edge6\" class=\"edge\"><title>E1^E2_14&#45;&gt;^_15</title>\r\n",
       "<path fill=\"none\" stroke=\"black\" d=\"M178,-143.697C178,-135.983 178,-126.712 178,-118.112\"/>\r\n",
       "<polygon fill=\"black\" stroke=\"black\" points=\"181.5,-118.104 178,-108.104 174.5,-118.104 181.5,-118.104\"/>\r\n",
       "</g>\r\n",
       "<!-- ~E_12 -->\r\n",
       "<g id=\"node7\" class=\"node\"><title>~E_12</title>\r\n",
       "<ellipse fill=\"none\" stroke=\"black\" cx=\"250\" cy=\"-90\" rx=\"27\" ry=\"18\"/>\r\n",
       "<text text-anchor=\"middle\" x=\"250\" y=\"-86.3\" font-family=\"Times New Roman,serif\" font-size=\"14.00\">~E</text>\r\n",
       "</g>\r\n",
       "<!-- E1^E2_14&#45;&gt;~E_12 -->\r\n",
       "<g id=\"edge7\" class=\"edge\"><title>E1^E2_14&#45;&gt;~E_12</title>\r\n",
       "<path fill=\"none\" stroke=\"black\" d=\"M193.623,-145.811C203.704,-136.01 216.964,-123.118 228.092,-112.3\"/>\r\n",
       "<polygon fill=\"black\" stroke=\"black\" points=\"230.659,-114.685 235.389,-105.205 225.779,-109.666 230.659,-114.685\"/>\r\n",
       "</g>\r\n",
       "<!-- ~_10 -->\r\n",
       "<g id=\"node8\" class=\"node\"><title>~_10</title>\r\n",
       "<ellipse fill=\"none\" stroke=\"black\" cx=\"70\" cy=\"-18\" rx=\"27\" ry=\"18\"/>\r\n",
       "<text text-anchor=\"middle\" x=\"70\" y=\"-14.3\" font-family=\"Times New Roman,serif\" font-size=\"14.00\">~</text>\r\n",
       "</g>\r\n",
       "<!-- ~E_9&#45;&gt;~_10 -->\r\n",
       "<g id=\"edge1\" class=\"edge\"><title>~E_9&#45;&gt;~_10</title>\r\n",
       "<path fill=\"none\" stroke=\"black\" d=\"M97.6504,-72.7646C93.2885,-64.2831 87.8531,-53.7144 82.9587,-44.1974\"/>\r\n",
       "<polygon fill=\"black\" stroke=\"black\" points=\"85.9904,-42.4395 78.3043,-35.1473 79.7654,-45.6409 85.9904,-42.4395\"/>\r\n",
       "</g>\r\n",
       "<!-- 3_8 -->\r\n",
       "<g id=\"node9\" class=\"node\"><title>3_8</title>\r\n",
       "<ellipse fill=\"none\" stroke=\"black\" cx=\"142\" cy=\"-18\" rx=\"27\" ry=\"18\"/>\r\n",
       "<text text-anchor=\"middle\" x=\"142\" y=\"-14.3\" font-family=\"Times New Roman,serif\" font-size=\"14.00\">3</text>\r\n",
       "</g>\r\n",
       "<!-- ~E_9&#45;&gt;3_8 -->\r\n",
       "<g id=\"edge2\" class=\"edge\"><title>~E_9&#45;&gt;3_8</title>\r\n",
       "<path fill=\"none\" stroke=\"black\" d=\"M114.35,-72.7646C118.712,-64.2831 124.147,-53.7144 129.041,-44.1974\"/>\r\n",
       "<polygon fill=\"black\" stroke=\"black\" points=\"132.235,-45.6409 133.696,-35.1473 126.01,-42.4395 132.235,-45.6409\"/>\r\n",
       "</g>\r\n",
       "<!-- ~_13 -->\r\n",
       "<g id=\"node10\" class=\"node\"><title>~_13</title>\r\n",
       "<ellipse fill=\"none\" stroke=\"black\" cx=\"232\" cy=\"-18\" rx=\"27\" ry=\"18\"/>\r\n",
       "<text text-anchor=\"middle\" x=\"232\" y=\"-14.3\" font-family=\"Times New Roman,serif\" font-size=\"14.00\">~</text>\r\n",
       "</g>\r\n",
       "<!-- ~E_12&#45;&gt;~_13 -->\r\n",
       "<g id=\"edge3\" class=\"edge\"><title>~E_12&#45;&gt;~_13</title>\r\n",
       "<path fill=\"none\" stroke=\"black\" d=\"M245.643,-72.055C243.609,-64.1446 241.139,-54.5398 238.863,-45.6879\"/>\r\n",
       "<polygon fill=\"black\" stroke=\"black\" points=\"242.197,-44.6023 236.317,-35.789 235.418,-46.3456 242.197,-44.6023\"/>\r\n",
       "</g>\r\n",
       "<!-- 4_11 -->\r\n",
       "<g id=\"node11\" class=\"node\"><title>4_11</title>\r\n",
       "<ellipse fill=\"none\" stroke=\"black\" cx=\"304\" cy=\"-18\" rx=\"27\" ry=\"18\"/>\r\n",
       "<text text-anchor=\"middle\" x=\"304\" y=\"-14.3\" font-family=\"Times New Roman,serif\" font-size=\"14.00\">4</text>\r\n",
       "</g>\r\n",
       "<!-- ~E_12&#45;&gt;4_11 -->\r\n",
       "<g id=\"edge4\" class=\"edge\"><title>~E_12&#45;&gt;4_11</title>\r\n",
       "<path fill=\"none\" stroke=\"black\" d=\"M261.984,-73.4647C268.976,-64.4021 277.936,-52.7865 285.785,-42.6119\"/>\r\n",
       "<polygon fill=\"black\" stroke=\"black\" points=\"288.712,-44.5475 292.049,-34.4918 283.17,-40.2719 288.712,-44.5475\"/>\r\n",
       "</g>\r\n",
       "</g>\r\n",
       "</svg>\r\n"
      ],
      "text/plain": [
       "<graphviz.dot.Digraph at 0x28660041cc0>"
      ]
     },
     "execution_count": 6,
     "metadata": {},
     "output_type": "execute_result"
    }
   ],
   "source": [
    "drawPT(parseExp(\"2^~3^~4\"))"
   ]
  },
  {
   "cell_type": "markdown",
   "metadata": {
    "run_control": {
     "frozen": false,
     "read_only": false
    }
   },
   "source": [
    "** Free answer: ** \n",
    "\n",
    "We see how the tree of **this many nodes** for the above expression 2^~3^~4 is built, where the value of the second \"^\" flows as the EXPONENT of the first \"^\".  Also see that \"~\" (the unary minus) is incorporated before any exponentiation gets done.  "
   ]
  },
  {
   "cell_type": "markdown",
   "metadata": {
    "run_control": {
     "frozen": false,
     "read_only": false
    }
   },
   "source": [
    "## What does ```2**-3**-4``` produce in Python? Is it the same answer?"
   ]
  },
  {
   "cell_type": "code",
   "execution_count": 7,
   "metadata": {
    "run_control": {
     "frozen": false,
     "read_only": false
    }
   },
   "outputs": [
    {
     "data": {
      "text/plain": [
       "0.9914791374956781"
      ]
     },
     "execution_count": 7,
     "metadata": {},
     "output_type": "execute_result"
    }
   ],
   "source": [
    "# The above expression typed into Python in Python's syntax is below, and see what it produces!\n",
    "\n",
    "2**-3**-4"
   ]
  },
  {
   "cell_type": "markdown",
   "metadata": {
    "run_control": {
     "frozen": false,
     "read_only": false
    }
   },
   "source": [
    "** Free answer: ** Python differs from our calculator in how it handles ```2**-3**-4``` versus 2^~3^~4. It yields **this answer**.  "
   ]
  },
  {
   "cell_type": "markdown",
   "metadata": {
    "run_control": {
     "frozen": false,
     "read_only": false
    }
   },
   "source": [
    "## Show by full parenthesization how Python parses 2**-3**-4"
   ]
  },
  {
   "cell_type": "code",
   "execution_count": 8,
   "metadata": {
    "run_control": {
     "frozen": false,
     "read_only": false
    }
   },
   "outputs": [
    {
     "data": {
      "text/plain": [
       "0.9914791374956781"
      ]
     },
     "execution_count": 8,
     "metadata": {},
     "output_type": "execute_result"
    }
   ],
   "source": [
    "2**(-(3**(-4)))"
   ]
  },
  {
   "cell_type": "markdown",
   "metadata": {
    "run_control": {
     "frozen": false,
     "read_only": false
    }
   },
   "source": [
    "** Free answer: ** \n",
    "\n",
    "It parses it as ```2**(-(3**(-4)))```, showing that unary \"-\" does not have the same precedence as exp. However, the exps are processed right-associatively!"
   ]
  },
  {
   "cell_type": "markdown",
   "metadata": {
    "run_control": {
     "frozen": false,
     "read_only": false
    }
   },
   "source": [
    "## Parsing ```6*3/4*~5/(2+3-4-5-6/7*~8)-~9```\n",
    "\n",
    "How many nodes in this parse tree? Same as Python's answer?"
   ]
  },
  {
   "cell_type": "code",
   "execution_count": 9,
   "metadata": {
    "run_control": {
     "frozen": false,
     "read_only": false
    }
   },
   "outputs": [
    {
     "name": "stdout",
     "output_type": "stream",
     "text": [
      "Result calculated =  1.1249999999999991\n",
      "Drawing AST for  ('-', (('/', (('*', (('/', (('*', (('NUMBER', '6'), ('NUMBER', '3'))), ('NUMBER', '4'))), ('~', ('NUMBER', '5')))), ('-', (('-', (('-', (('+', (('NUMBER', '2'), ('NUMBER', '3'))), ('NUMBER', '4'))), ('NUMBER', '5'))), ('*', (('/', (('NUMBER', '6'), ('NUMBER', '7'))), ('~', ('NUMBER', '8')))))))), ('~', ('NUMBER', '9'))))\n"
     ]
    },
    {
     "data": {
      "image/svg+xml": [
       "<?xml version=\"1.0\" encoding=\"UTF-8\" standalone=\"no\"?>\r\n",
       "<!DOCTYPE svg PUBLIC \"-//W3C//DTD SVG 1.1//EN\"\r\n",
       " \"http://www.w3.org/Graphics/SVG/1.1/DTD/svg11.dtd\">\r\n",
       "<!-- Generated by graphviz version 2.38.0 (20140413.2041)\r\n",
       " -->\r\n",
       "<!-- Title: PT Pages: 1 -->\r\n",
       "<svg width=\"856pt\" height=\"548pt\"\r\n",
       " viewBox=\"0.00 0.00 856.00 548.00\" xmlns=\"http://www.w3.org/2000/svg\" xmlns:xlink=\"http://www.w3.org/1999/xlink\">\r\n",
       "<g id=\"graph0\" class=\"graph\" transform=\"scale(1 1) rotate(0) translate(4 544)\">\r\n",
       "<title>PT</title>\r\n",
       "<polygon fill=\"white\" stroke=\"none\" points=\"-4,4 -4,-544 852,-544 852,4 -4,4\"/>\r\n",
       "<!-- E1&#45;E2_59 -->\r\n",
       "<g id=\"node1\" class=\"node\"><title>E1&#45;E2_59</title>\r\n",
       "<ellipse fill=\"none\" stroke=\"black\" cx=\"514\" cy=\"-522\" rx=\"33.2948\" ry=\"18\"/>\r\n",
       "<text text-anchor=\"middle\" x=\"514\" y=\"-518.3\" font-family=\"Times New Roman,serif\" font-size=\"14.00\">E1&#45;E2</text>\r\n",
       "</g>\r\n",
       "<!-- E1/E2_54 -->\r\n",
       "<g id=\"node2\" class=\"node\"><title>E1/E2_54</title>\r\n",
       "<ellipse fill=\"none\" stroke=\"black\" cx=\"437\" cy=\"-450\" rx=\"32.4942\" ry=\"18\"/>\r\n",
       "<text text-anchor=\"middle\" x=\"437\" y=\"-446.3\" font-family=\"Times New Roman,serif\" font-size=\"14.00\">E1/E2</text>\r\n",
       "</g>\r\n",
       "<!-- E1&#45;E2_59&#45;&gt;E1/E2_54 -->\r\n",
       "<g id=\"edge40\" class=\"edge\"><title>E1&#45;E2_59&#45;&gt;E1/E2_54</title>\r\n",
       "<path fill=\"none\" stroke=\"black\" d=\"M497.67,-506.155C486.951,-496.41 472.754,-483.503 460.788,-472.626\"/>\r\n",
       "<polygon fill=\"black\" stroke=\"black\" points=\"463.06,-469.961 453.306,-465.824 458.351,-475.14 463.06,-469.961\"/>\r\n",
       "</g>\r\n",
       "<!-- &#45;_60 -->\r\n",
       "<g id=\"node3\" class=\"node\"><title>&#45;_60</title>\r\n",
       "<ellipse fill=\"none\" stroke=\"black\" cx=\"514\" cy=\"-450\" rx=\"27\" ry=\"18\"/>\r\n",
       "<text text-anchor=\"middle\" x=\"514\" y=\"-446.3\" font-family=\"Times New Roman,serif\" font-size=\"14.00\">&#45;</text>\r\n",
       "</g>\r\n",
       "<!-- E1&#45;E2_59&#45;&gt;&#45;_60 -->\r\n",
       "<g id=\"edge41\" class=\"edge\"><title>E1&#45;E2_59&#45;&gt;&#45;_60</title>\r\n",
       "<path fill=\"none\" stroke=\"black\" d=\"M514,-503.697C514,-495.983 514,-486.712 514,-478.112\"/>\r\n",
       "<polygon fill=\"black\" stroke=\"black\" points=\"517.5,-478.104 514,-468.104 510.5,-478.104 517.5,-478.104\"/>\r\n",
       "</g>\r\n",
       "<!-- ~E_57 -->\r\n",
       "<g id=\"node4\" class=\"node\"><title>~E_57</title>\r\n",
       "<ellipse fill=\"none\" stroke=\"black\" cx=\"586\" cy=\"-450\" rx=\"27\" ry=\"18\"/>\r\n",
       "<text text-anchor=\"middle\" x=\"586\" y=\"-446.3\" font-family=\"Times New Roman,serif\" font-size=\"14.00\">~E</text>\r\n",
       "</g>\r\n",
       "<!-- E1&#45;E2_59&#45;&gt;~E_57 -->\r\n",
       "<g id=\"edge42\" class=\"edge\"><title>E1&#45;E2_59&#45;&gt;~E_57</title>\r\n",
       "<path fill=\"none\" stroke=\"black\" d=\"M529.623,-505.811C539.704,-496.01 552.964,-483.118 564.092,-472.3\"/>\r\n",
       "<polygon fill=\"black\" stroke=\"black\" points=\"566.659,-474.685 571.389,-465.205 561.779,-469.666 566.659,-474.685\"/>\r\n",
       "</g>\r\n",
       "<!-- E1*E2_28 -->\r\n",
       "<g id=\"node5\" class=\"node\"><title>E1*E2_28</title>\r\n",
       "<ellipse fill=\"none\" stroke=\"black\" cx=\"325\" cy=\"-378\" rx=\"34.394\" ry=\"18\"/>\r\n",
       "<text text-anchor=\"middle\" x=\"325\" y=\"-374.3\" font-family=\"Times New Roman,serif\" font-size=\"14.00\">E1*E2</text>\r\n",
       "</g>\r\n",
       "<!-- E1/E2_54&#45;&gt;E1*E2_28 -->\r\n",
       "<g id=\"edge35\" class=\"edge\"><title>E1/E2_54&#45;&gt;E1*E2_28</title>\r\n",
       "<path fill=\"none\" stroke=\"black\" d=\"M416.196,-435.998C399.048,-425.28 374.495,-409.934 355.185,-397.866\"/>\r\n",
       "<polygon fill=\"black\" stroke=\"black\" points=\"356.79,-394.741 346.455,-392.409 353.08,-400.677 356.79,-394.741\"/>\r\n",
       "</g>\r\n",
       "<!-- /_55 -->\r\n",
       "<g id=\"node6\" class=\"node\"><title>/_55</title>\r\n",
       "<ellipse fill=\"none\" stroke=\"black\" cx=\"437\" cy=\"-378\" rx=\"27\" ry=\"18\"/>\r\n",
       "<text text-anchor=\"middle\" x=\"437\" y=\"-374.3\" font-family=\"Times New Roman,serif\" font-size=\"14.00\">/</text>\r\n",
       "</g>\r\n",
       "<!-- E1/E2_54&#45;&gt;/_55 -->\r\n",
       "<g id=\"edge36\" class=\"edge\"><title>E1/E2_54&#45;&gt;/_55</title>\r\n",
       "<path fill=\"none\" stroke=\"black\" d=\"M437,-431.697C437,-423.983 437,-414.712 437,-406.112\"/>\r\n",
       "<polygon fill=\"black\" stroke=\"black\" points=\"440.5,-406.104 437,-396.104 433.5,-406.104 440.5,-406.104\"/>\r\n",
       "</g>\r\n",
       "<!-- (E)_51 -->\r\n",
       "<g id=\"node7\" class=\"node\"><title>(E)_51</title>\r\n",
       "<ellipse fill=\"none\" stroke=\"black\" cx=\"511\" cy=\"-378\" rx=\"27\" ry=\"18\"/>\r\n",
       "<text text-anchor=\"middle\" x=\"511\" y=\"-374.3\" font-family=\"Times New Roman,serif\" font-size=\"14.00\">(E)</text>\r\n",
       "</g>\r\n",
       "<!-- E1/E2_54&#45;&gt;(E)_51 -->\r\n",
       "<g id=\"edge37\" class=\"edge\"><title>E1/E2_54&#45;&gt;(E)_51</title>\r\n",
       "<path fill=\"none\" stroke=\"black\" d=\"M452.693,-434.155C463.104,-424.307 476.928,-411.231 488.502,-400.282\"/>\r\n",
       "<polygon fill=\"black\" stroke=\"black\" points=\"491.227,-402.522 496.086,-393.108 486.416,-397.437 491.227,-402.522\"/>\r\n",
       "</g>\r\n",
       "<!-- ~_58 -->\r\n",
       "<g id=\"node42\" class=\"node\"><title>~_58</title>\r\n",
       "<ellipse fill=\"none\" stroke=\"black\" cx=\"585\" cy=\"-378\" rx=\"27\" ry=\"18\"/>\r\n",
       "<text text-anchor=\"middle\" x=\"585\" y=\"-374.3\" font-family=\"Times New Roman,serif\" font-size=\"14.00\">~</text>\r\n",
       "</g>\r\n",
       "<!-- ~E_57&#45;&gt;~_58 -->\r\n",
       "<g id=\"edge38\" class=\"edge\"><title>~E_57&#45;&gt;~_58</title>\r\n",
       "<path fill=\"none\" stroke=\"black\" d=\"M585.753,-431.697C585.643,-423.983 585.51,-414.712 585.387,-406.112\"/>\r\n",
       "<polygon fill=\"black\" stroke=\"black\" points=\"588.887,-406.053 585.244,-396.104 581.888,-406.153 588.887,-406.053\"/>\r\n",
       "</g>\r\n",
       "<!-- 9_56 -->\r\n",
       "<g id=\"node43\" class=\"node\"><title>9_56</title>\r\n",
       "<ellipse fill=\"none\" stroke=\"black\" cx=\"657\" cy=\"-378\" rx=\"27\" ry=\"18\"/>\r\n",
       "<text text-anchor=\"middle\" x=\"657\" y=\"-374.3\" font-family=\"Times New Roman,serif\" font-size=\"14.00\">9</text>\r\n",
       "</g>\r\n",
       "<!-- ~E_57&#45;&gt;9_56 -->\r\n",
       "<g id=\"edge39\" class=\"edge\"><title>~E_57&#45;&gt;9_56</title>\r\n",
       "<path fill=\"none\" stroke=\"black\" d=\"M600.711,-434.496C610.612,-424.735 623.843,-411.69 634.99,-400.7\"/>\r\n",
       "<polygon fill=\"black\" stroke=\"black\" points=\"637.644,-402.999 642.308,-393.485 632.729,-398.014 637.644,-402.999\"/>\r\n",
       "</g>\r\n",
       "<!-- E1/E2_23 -->\r\n",
       "<g id=\"node8\" class=\"node\"><title>E1/E2_23</title>\r\n",
       "<ellipse fill=\"none\" stroke=\"black\" cx=\"188\" cy=\"-306\" rx=\"32.4942\" ry=\"18\"/>\r\n",
       "<text text-anchor=\"middle\" x=\"188\" y=\"-302.3\" font-family=\"Times New Roman,serif\" font-size=\"14.00\">E1/E2</text>\r\n",
       "</g>\r\n",
       "<!-- E1*E2_28&#45;&gt;E1/E2_23 -->\r\n",
       "<g id=\"edge9\" class=\"edge\"><title>E1*E2_28&#45;&gt;E1/E2_23</title>\r\n",
       "<path fill=\"none\" stroke=\"black\" d=\"M301.136,-364.807C278.704,-353.345 244.958,-336.103 220.158,-323.431\"/>\r\n",
       "<polygon fill=\"black\" stroke=\"black\" points=\"221.631,-320.253 211.134,-318.82 218.446,-326.487 221.631,-320.253\"/>\r\n",
       "</g>\r\n",
       "<!-- *_29 -->\r\n",
       "<g id=\"node9\" class=\"node\"><title>*_29</title>\r\n",
       "<ellipse fill=\"none\" stroke=\"black\" cx=\"298\" cy=\"-306\" rx=\"27\" ry=\"18\"/>\r\n",
       "<text text-anchor=\"middle\" x=\"298\" y=\"-302.3\" font-family=\"Times New Roman,serif\" font-size=\"14.00\">*</text>\r\n",
       "</g>\r\n",
       "<!-- E1*E2_28&#45;&gt;*_29 -->\r\n",
       "<g id=\"edge10\" class=\"edge\"><title>E1*E2_28&#45;&gt;*_29</title>\r\n",
       "<path fill=\"none\" stroke=\"black\" d=\"M318.464,-360.055C315.38,-352.059 311.628,-342.331 308.183,-333.4\"/>\r\n",
       "<polygon fill=\"black\" stroke=\"black\" points=\"311.34,-331.859 304.476,-323.789 304.809,-334.379 311.34,-331.859\"/>\r\n",
       "</g>\r\n",
       "<!-- ~E_26 -->\r\n",
       "<g id=\"node10\" class=\"node\"><title>~E_26</title>\r\n",
       "<ellipse fill=\"none\" stroke=\"black\" cx=\"370\" cy=\"-306\" rx=\"27\" ry=\"18\"/>\r\n",
       "<text text-anchor=\"middle\" x=\"370\" y=\"-302.3\" font-family=\"Times New Roman,serif\" font-size=\"14.00\">~E</text>\r\n",
       "</g>\r\n",
       "<!-- E1*E2_28&#45;&gt;~E_26 -->\r\n",
       "<g id=\"edge11\" class=\"edge\"><title>E1*E2_28&#45;&gt;~E_26</title>\r\n",
       "<path fill=\"none\" stroke=\"black\" d=\"M335.437,-360.765C341.003,-352.106 347.967,-341.273 354.183,-331.604\"/>\r\n",
       "<polygon fill=\"black\" stroke=\"black\" points=\"357.156,-333.452 359.62,-323.147 351.268,-329.666 357.156,-333.452\"/>\r\n",
       "</g>\r\n",
       "<!-- (_52 -->\r\n",
       "<g id=\"node19\" class=\"node\"><title>(_52</title>\r\n",
       "<ellipse fill=\"none\" stroke=\"black\" cx=\"462\" cy=\"-306\" rx=\"27\" ry=\"18\"/>\r\n",
       "<text text-anchor=\"middle\" x=\"462\" y=\"-302.3\" font-family=\"Times New Roman,serif\" font-size=\"14.00\">(</text>\r\n",
       "</g>\r\n",
       "<!-- (E)_51&#45;&gt;(_52 -->\r\n",
       "<g id=\"edge32\" class=\"edge\"><title>(E)_51&#45;&gt;(_52</title>\r\n",
       "<path fill=\"none\" stroke=\"black\" d=\"M500.125,-361.465C493.845,-352.493 485.813,-341.019 478.742,-330.918\"/>\r\n",
       "<polygon fill=\"black\" stroke=\"black\" points=\"481.446,-328.677 472.844,-322.492 475.712,-332.691 481.446,-328.677\"/>\r\n",
       "</g>\r\n",
       "<!-- E1&#45;E2_49 -->\r\n",
       "<g id=\"node20\" class=\"node\"><title>E1&#45;E2_49</title>\r\n",
       "<ellipse fill=\"none\" stroke=\"black\" cx=\"540\" cy=\"-306\" rx=\"33.2948\" ry=\"18\"/>\r\n",
       "<text text-anchor=\"middle\" x=\"540\" y=\"-302.3\" font-family=\"Times New Roman,serif\" font-size=\"14.00\">E1&#45;E2</text>\r\n",
       "</g>\r\n",
       "<!-- (E)_51&#45;&gt;E1&#45;E2_49 -->\r\n",
       "<g id=\"edge33\" class=\"edge\"><title>(E)_51&#45;&gt;E1&#45;E2_49</title>\r\n",
       "<path fill=\"none\" stroke=\"black\" d=\"M517.873,-360.411C521.218,-352.335 525.321,-342.431 529.082,-333.355\"/>\r\n",
       "<polygon fill=\"black\" stroke=\"black\" points=\"532.381,-334.534 532.975,-323.956 525.914,-331.855 532.381,-334.534\"/>\r\n",
       "</g>\r\n",
       "<!-- )_53 -->\r\n",
       "<g id=\"node41\" class=\"node\"><title>)_53</title>\r\n",
       "<ellipse fill=\"none\" stroke=\"black\" cx=\"618\" cy=\"-306\" rx=\"27\" ry=\"18\"/>\r\n",
       "<text text-anchor=\"middle\" x=\"618\" y=\"-302.3\" font-family=\"Times New Roman,serif\" font-size=\"14.00\">)</text>\r\n",
       "</g>\r\n",
       "<!-- (E)_51&#45;&gt;)_53 -->\r\n",
       "<g id=\"edge34\" class=\"edge\"><title>(E)_51&#45;&gt;)_53</title>\r\n",
       "<path fill=\"none\" stroke=\"black\" d=\"M529.638,-364.807C546.489,-353.783 571.512,-337.413 590.632,-324.904\"/>\r\n",
       "<polygon fill=\"black\" stroke=\"black\" points=\"592.764,-327.692 599.217,-319.288 588.932,-321.834 592.764,-327.692\"/>\r\n",
       "</g>\r\n",
       "<!-- E1*E2_20 -->\r\n",
       "<g id=\"node11\" class=\"node\"><title>E1*E2_20</title>\r\n",
       "<ellipse fill=\"none\" stroke=\"black\" cx=\"99\" cy=\"-234\" rx=\"34.394\" ry=\"18\"/>\r\n",
       "<text text-anchor=\"middle\" x=\"99\" y=\"-230.3\" font-family=\"Times New Roman,serif\" font-size=\"14.00\">E1*E2</text>\r\n",
       "</g>\r\n",
       "<!-- E1/E2_23&#45;&gt;E1*E2_20 -->\r\n",
       "<g id=\"edge4\" class=\"edge\"><title>E1/E2_23&#45;&gt;E1*E2_20</title>\r\n",
       "<path fill=\"none\" stroke=\"black\" d=\"M169.99,-290.834C157.167,-280.749 139.73,-267.035 125.347,-255.722\"/>\r\n",
       "<polygon fill=\"black\" stroke=\"black\" points=\"127.313,-252.816 117.289,-249.385 122.986,-258.318 127.313,-252.816\"/>\r\n",
       "</g>\r\n",
       "<!-- /_24 -->\r\n",
       "<g id=\"node12\" class=\"node\"><title>/_24</title>\r\n",
       "<ellipse fill=\"none\" stroke=\"black\" cx=\"178\" cy=\"-234\" rx=\"27\" ry=\"18\"/>\r\n",
       "<text text-anchor=\"middle\" x=\"178\" y=\"-230.3\" font-family=\"Times New Roman,serif\" font-size=\"14.00\">/</text>\r\n",
       "</g>\r\n",
       "<!-- E1/E2_23&#45;&gt;/_24 -->\r\n",
       "<g id=\"edge5\" class=\"edge\"><title>E1/E2_23&#45;&gt;/_24</title>\r\n",
       "<path fill=\"none\" stroke=\"black\" d=\"M185.528,-287.697C184.426,-279.983 183.102,-270.712 181.873,-262.112\"/>\r\n",
       "<polygon fill=\"black\" stroke=\"black\" points=\"185.323,-261.509 180.443,-252.104 178.393,-262.499 185.323,-261.509\"/>\r\n",
       "</g>\r\n",
       "<!-- 4_22 -->\r\n",
       "<g id=\"node13\" class=\"node\"><title>4_22</title>\r\n",
       "<ellipse fill=\"none\" stroke=\"black\" cx=\"250\" cy=\"-234\" rx=\"27\" ry=\"18\"/>\r\n",
       "<text text-anchor=\"middle\" x=\"250\" y=\"-230.3\" font-family=\"Times New Roman,serif\" font-size=\"14.00\">4</text>\r\n",
       "</g>\r\n",
       "<!-- E1/E2_23&#45;&gt;4_22 -->\r\n",
       "<g id=\"edge6\" class=\"edge\"><title>E1/E2_23&#45;&gt;4_22</title>\r\n",
       "<path fill=\"none\" stroke=\"black\" d=\"M201.76,-289.465C210.061,-280.092 220.78,-267.99 230.006,-257.574\"/>\r\n",
       "<polygon fill=\"black\" stroke=\"black\" points=\"232.694,-259.818 236.704,-250.011 227.454,-255.177 232.694,-259.818\"/>\r\n",
       "</g>\r\n",
       "<!-- ~_27 -->\r\n",
       "<g id=\"node17\" class=\"node\"><title>~_27</title>\r\n",
       "<ellipse fill=\"none\" stroke=\"black\" cx=\"322\" cy=\"-234\" rx=\"27\" ry=\"18\"/>\r\n",
       "<text text-anchor=\"middle\" x=\"322\" y=\"-230.3\" font-family=\"Times New Roman,serif\" font-size=\"14.00\">~</text>\r\n",
       "</g>\r\n",
       "<!-- ~E_26&#45;&gt;~_27 -->\r\n",
       "<g id=\"edge7\" class=\"edge\"><title>~E_26&#45;&gt;~_27</title>\r\n",
       "<path fill=\"none\" stroke=\"black\" d=\"M359.108,-289.116C353.032,-280.255 345.34,-269.037 338.536,-259.115\"/>\r\n",
       "<polygon fill=\"black\" stroke=\"black\" points=\"341.391,-257.089 332.849,-250.821 335.618,-261.048 341.391,-257.089\"/>\r\n",
       "</g>\r\n",
       "<!-- 5_25 -->\r\n",
       "<g id=\"node18\" class=\"node\"><title>5_25</title>\r\n",
       "<ellipse fill=\"none\" stroke=\"black\" cx=\"394\" cy=\"-234\" rx=\"27\" ry=\"18\"/>\r\n",
       "<text text-anchor=\"middle\" x=\"394\" y=\"-230.3\" font-family=\"Times New Roman,serif\" font-size=\"14.00\">5</text>\r\n",
       "</g>\r\n",
       "<!-- ~E_26&#45;&gt;5_25 -->\r\n",
       "<g id=\"edge8\" class=\"edge\"><title>~E_26&#45;&gt;5_25</title>\r\n",
       "<path fill=\"none\" stroke=\"black\" d=\"M375.81,-288.055C378.551,-280.059 381.887,-270.331 384.949,-261.4\"/>\r\n",
       "<polygon fill=\"black\" stroke=\"black\" points=\"388.311,-262.384 388.244,-251.789 381.69,-260.113 388.311,-262.384\"/>\r\n",
       "</g>\r\n",
       "<!-- 6_18 -->\r\n",
       "<g id=\"node14\" class=\"node\"><title>6_18</title>\r\n",
       "<ellipse fill=\"none\" stroke=\"black\" cx=\"27\" cy=\"-162\" rx=\"27\" ry=\"18\"/>\r\n",
       "<text text-anchor=\"middle\" x=\"27\" y=\"-158.3\" font-family=\"Times New Roman,serif\" font-size=\"14.00\">6</text>\r\n",
       "</g>\r\n",
       "<!-- E1*E2_20&#45;&gt;6_18 -->\r\n",
       "<g id=\"edge1\" class=\"edge\"><title>E1*E2_20&#45;&gt;6_18</title>\r\n",
       "<path fill=\"none\" stroke=\"black\" d=\"M83.3771,-217.811C73.2958,-208.01 60.0358,-195.118 48.9084,-184.3\"/>\r\n",
       "<polygon fill=\"black\" stroke=\"black\" points=\"51.2207,-181.666 41.6109,-177.205 46.3411,-186.685 51.2207,-181.666\"/>\r\n",
       "</g>\r\n",
       "<!-- *_21 -->\r\n",
       "<g id=\"node15\" class=\"node\"><title>*_21</title>\r\n",
       "<ellipse fill=\"none\" stroke=\"black\" cx=\"99\" cy=\"-162\" rx=\"27\" ry=\"18\"/>\r\n",
       "<text text-anchor=\"middle\" x=\"99\" y=\"-158.3\" font-family=\"Times New Roman,serif\" font-size=\"14.00\">*</text>\r\n",
       "</g>\r\n",
       "<!-- E1*E2_20&#45;&gt;*_21 -->\r\n",
       "<g id=\"edge2\" class=\"edge\"><title>E1*E2_20&#45;&gt;*_21</title>\r\n",
       "<path fill=\"none\" stroke=\"black\" d=\"M99,-215.697C99,-207.983 99,-198.712 99,-190.112\"/>\r\n",
       "<polygon fill=\"black\" stroke=\"black\" points=\"102.5,-190.104 99,-180.104 95.5001,-190.104 102.5,-190.104\"/>\r\n",
       "</g>\r\n",
       "<!-- 3_19 -->\r\n",
       "<g id=\"node16\" class=\"node\"><title>3_19</title>\r\n",
       "<ellipse fill=\"none\" stroke=\"black\" cx=\"171\" cy=\"-162\" rx=\"27\" ry=\"18\"/>\r\n",
       "<text text-anchor=\"middle\" x=\"171\" y=\"-158.3\" font-family=\"Times New Roman,serif\" font-size=\"14.00\">3</text>\r\n",
       "</g>\r\n",
       "<!-- E1*E2_20&#45;&gt;3_19 -->\r\n",
       "<g id=\"edge3\" class=\"edge\"><title>E1*E2_20&#45;&gt;3_19</title>\r\n",
       "<path fill=\"none\" stroke=\"black\" d=\"M114.623,-217.811C124.704,-208.01 137.964,-195.118 149.092,-184.3\"/>\r\n",
       "<polygon fill=\"black\" stroke=\"black\" points=\"151.659,-186.685 156.389,-177.205 146.779,-181.666 151.659,-186.685\"/>\r\n",
       "</g>\r\n",
       "<!-- E1&#45;E2_38 -->\r\n",
       "<g id=\"node21\" class=\"node\"><title>E1&#45;E2_38</title>\r\n",
       "<ellipse fill=\"none\" stroke=\"black\" cx=\"472\" cy=\"-234\" rx=\"33.2948\" ry=\"18\"/>\r\n",
       "<text text-anchor=\"middle\" x=\"472\" y=\"-230.3\" font-family=\"Times New Roman,serif\" font-size=\"14.00\">E1&#45;E2</text>\r\n",
       "</g>\r\n",
       "<!-- E1&#45;E2_49&#45;&gt;E1&#45;E2_38 -->\r\n",
       "<g id=\"edge29\" class=\"edge\"><title>E1&#45;E2_49&#45;&gt;E1&#45;E2_38</title>\r\n",
       "<path fill=\"none\" stroke=\"black\" d=\"M525.245,-289.811C516.067,-280.363 504.099,-268.043 493.835,-257.477\"/>\r\n",
       "<polygon fill=\"black\" stroke=\"black\" points=\"496.205,-254.893 486.726,-250.159 491.184,-259.771 496.205,-254.893\"/>\r\n",
       "</g>\r\n",
       "<!-- &#45;_50 -->\r\n",
       "<g id=\"node22\" class=\"node\"><title>&#45;_50</title>\r\n",
       "<ellipse fill=\"none\" stroke=\"black\" cx=\"550\" cy=\"-234\" rx=\"27\" ry=\"18\"/>\r\n",
       "<text text-anchor=\"middle\" x=\"550\" y=\"-230.3\" font-family=\"Times New Roman,serif\" font-size=\"14.00\">&#45;</text>\r\n",
       "</g>\r\n",
       "<!-- E1&#45;E2_49&#45;&gt;&#45;_50 -->\r\n",
       "<g id=\"edge30\" class=\"edge\"><title>E1&#45;E2_49&#45;&gt;&#45;_50</title>\r\n",
       "<path fill=\"none\" stroke=\"black\" d=\"M542.472,-287.697C543.574,-279.983 544.898,-270.712 546.127,-262.112\"/>\r\n",
       "<polygon fill=\"black\" stroke=\"black\" points=\"549.607,-262.499 547.557,-252.104 542.677,-261.509 549.607,-262.499\"/>\r\n",
       "</g>\r\n",
       "<!-- E1*E2_47 -->\r\n",
       "<g id=\"node23\" class=\"node\"><title>E1*E2_47</title>\r\n",
       "<ellipse fill=\"none\" stroke=\"black\" cx=\"663\" cy=\"-234\" rx=\"34.394\" ry=\"18\"/>\r\n",
       "<text text-anchor=\"middle\" x=\"663\" y=\"-230.3\" font-family=\"Times New Roman,serif\" font-size=\"14.00\">E1*E2</text>\r\n",
       "</g>\r\n",
       "<!-- E1&#45;E2_49&#45;&gt;E1*E2_47 -->\r\n",
       "<g id=\"edge31\" class=\"edge\"><title>E1&#45;E2_49&#45;&gt;E1*E2_47</title>\r\n",
       "<path fill=\"none\" stroke=\"black\" d=\"M561.99,-292.485C581.338,-281.474 609.733,-265.314 631.494,-252.93\"/>\r\n",
       "<polygon fill=\"black\" stroke=\"black\" points=\"633.408,-255.868 640.368,-247.88 629.946,-249.784 633.408,-255.868\"/>\r\n",
       "</g>\r\n",
       "<!-- E1&#45;E2_35 -->\r\n",
       "<g id=\"node24\" class=\"node\"><title>E1&#45;E2_35</title>\r\n",
       "<ellipse fill=\"none\" stroke=\"black\" cx=\"376\" cy=\"-162\" rx=\"33.2948\" ry=\"18\"/>\r\n",
       "<text text-anchor=\"middle\" x=\"376\" y=\"-158.3\" font-family=\"Times New Roman,serif\" font-size=\"14.00\">E1&#45;E2</text>\r\n",
       "</g>\r\n",
       "<!-- E1&#45;E2_38&#45;&gt;E1&#45;E2_35 -->\r\n",
       "<g id=\"edge18\" class=\"edge\"><title>E1&#45;E2_38&#45;&gt;E1&#45;E2_35</title>\r\n",
       "<path fill=\"none\" stroke=\"black\" d=\"M453.033,-219.17C438.833,-208.816 419.202,-194.502 403.312,-182.915\"/>\r\n",
       "<polygon fill=\"black\" stroke=\"black\" points=\"405.069,-179.865 394.927,-176.801 400.945,-185.521 405.069,-179.865\"/>\r\n",
       "</g>\r\n",
       "<!-- &#45;_39 -->\r\n",
       "<g id=\"node25\" class=\"node\"><title>&#45;_39</title>\r\n",
       "<ellipse fill=\"none\" stroke=\"black\" cx=\"454\" cy=\"-162\" rx=\"27\" ry=\"18\"/>\r\n",
       "<text text-anchor=\"middle\" x=\"454\" y=\"-158.3\" font-family=\"Times New Roman,serif\" font-size=\"14.00\">&#45;</text>\r\n",
       "</g>\r\n",
       "<!-- E1&#45;E2_38&#45;&gt;&#45;_39 -->\r\n",
       "<g id=\"edge19\" class=\"edge\"><title>E1&#45;E2_38&#45;&gt;&#45;_39</title>\r\n",
       "<path fill=\"none\" stroke=\"black\" d=\"M467.643,-216.055C465.609,-208.145 463.139,-198.54 460.863,-189.688\"/>\r\n",
       "<polygon fill=\"black\" stroke=\"black\" points=\"464.197,-188.602 458.317,-179.789 457.418,-190.346 464.197,-188.602\"/>\r\n",
       "</g>\r\n",
       "<!-- 5_37 -->\r\n",
       "<g id=\"node26\" class=\"node\"><title>5_37</title>\r\n",
       "<ellipse fill=\"none\" stroke=\"black\" cx=\"526\" cy=\"-162\" rx=\"27\" ry=\"18\"/>\r\n",
       "<text text-anchor=\"middle\" x=\"526\" y=\"-158.3\" font-family=\"Times New Roman,serif\" font-size=\"14.00\">5</text>\r\n",
       "</g>\r\n",
       "<!-- E1&#45;E2_38&#45;&gt;5_37 -->\r\n",
       "<g id=\"edge20\" class=\"edge\"><title>E1&#45;E2_38&#45;&gt;5_37</title>\r\n",
       "<path fill=\"none\" stroke=\"black\" d=\"M484.253,-217.116C491.255,-208.04 500.165,-196.49 507.954,-186.393\"/>\r\n",
       "<polygon fill=\"black\" stroke=\"black\" points=\"510.829,-188.396 514.166,-178.34 505.287,-184.12 510.829,-188.396\"/>\r\n",
       "</g>\r\n",
       "<!-- E1/E2_42 -->\r\n",
       "<g id=\"node33\" class=\"node\"><title>E1/E2_42</title>\r\n",
       "<ellipse fill=\"none\" stroke=\"black\" cx=\"603\" cy=\"-162\" rx=\"32.4942\" ry=\"18\"/>\r\n",
       "<text text-anchor=\"middle\" x=\"603\" y=\"-158.3\" font-family=\"Times New Roman,serif\" font-size=\"14.00\">E1/E2</text>\r\n",
       "</g>\r\n",
       "<!-- E1*E2_47&#45;&gt;E1/E2_42 -->\r\n",
       "<g id=\"edge26\" class=\"edge\"><title>E1*E2_47&#45;&gt;E1/E2_42</title>\r\n",
       "<path fill=\"none\" stroke=\"black\" d=\"M649.385,-217.116C641.637,-208.076 631.785,-196.583 623.156,-186.515\"/>\r\n",
       "<polygon fill=\"black\" stroke=\"black\" points=\"625.726,-184.136 616.561,-178.821 620.412,-188.692 625.726,-184.136\"/>\r\n",
       "</g>\r\n",
       "<!-- *_48 -->\r\n",
       "<g id=\"node34\" class=\"node\"><title>*_48</title>\r\n",
       "<ellipse fill=\"none\" stroke=\"black\" cx=\"680\" cy=\"-162\" rx=\"27\" ry=\"18\"/>\r\n",
       "<text text-anchor=\"middle\" x=\"680\" y=\"-158.3\" font-family=\"Times New Roman,serif\" font-size=\"14.00\">*</text>\r\n",
       "</g>\r\n",
       "<!-- E1*E2_47&#45;&gt;*_48 -->\r\n",
       "<g id=\"edge27\" class=\"edge\"><title>E1*E2_47&#45;&gt;*_48</title>\r\n",
       "<path fill=\"none\" stroke=\"black\" d=\"M667.115,-216.055C669.008,-208.261 671.3,-198.822 673.424,-190.079\"/>\r\n",
       "<polygon fill=\"black\" stroke=\"black\" points=\"676.846,-190.819 675.805,-180.275 670.043,-189.167 676.846,-190.819\"/>\r\n",
       "</g>\r\n",
       "<!-- ~E_45 -->\r\n",
       "<g id=\"node35\" class=\"node\"><title>~E_45</title>\r\n",
       "<ellipse fill=\"none\" stroke=\"black\" cx=\"752\" cy=\"-162\" rx=\"27\" ry=\"18\"/>\r\n",
       "<text text-anchor=\"middle\" x=\"752\" y=\"-158.3\" font-family=\"Times New Roman,serif\" font-size=\"14.00\">~E</text>\r\n",
       "</g>\r\n",
       "<!-- E1*E2_47&#45;&gt;~E_45 -->\r\n",
       "<g id=\"edge28\" class=\"edge\"><title>E1*E2_47&#45;&gt;~E_45</title>\r\n",
       "<path fill=\"none\" stroke=\"black\" d=\"M681.441,-218.496C694.635,-208.118 712.548,-194.029 727.024,-182.644\"/>\r\n",
       "<polygon fill=\"black\" stroke=\"black\" points=\"729.392,-185.235 735.088,-176.302 725.064,-179.733 729.392,-185.235\"/>\r\n",
       "</g>\r\n",
       "<!-- E1+E2_32 -->\r\n",
       "<g id=\"node27\" class=\"node\"><title>E1+E2_32</title>\r\n",
       "<ellipse fill=\"none\" stroke=\"black\" cx=\"295\" cy=\"-90\" rx=\"35.9954\" ry=\"18\"/>\r\n",
       "<text text-anchor=\"middle\" x=\"295\" y=\"-86.3\" font-family=\"Times New Roman,serif\" font-size=\"14.00\">E1+E2</text>\r\n",
       "</g>\r\n",
       "<!-- E1&#45;E2_35&#45;&gt;E1+E2_32 -->\r\n",
       "<g id=\"edge15\" class=\"edge\"><title>E1&#45;E2_35&#45;&gt;E1+E2_32</title>\r\n",
       "<path fill=\"none\" stroke=\"black\" d=\"M358.822,-146.155C347.546,-136.41 332.611,-123.503 320.024,-112.626\"/>\r\n",
       "<polygon fill=\"black\" stroke=\"black\" points=\"322.008,-109.714 312.153,-105.824 317.431,-115.011 322.008,-109.714\"/>\r\n",
       "</g>\r\n",
       "<!-- &#45;_36 -->\r\n",
       "<g id=\"node28\" class=\"node\"><title>&#45;_36</title>\r\n",
       "<ellipse fill=\"none\" stroke=\"black\" cx=\"376\" cy=\"-90\" rx=\"27\" ry=\"18\"/>\r\n",
       "<text text-anchor=\"middle\" x=\"376\" y=\"-86.3\" font-family=\"Times New Roman,serif\" font-size=\"14.00\">&#45;</text>\r\n",
       "</g>\r\n",
       "<!-- E1&#45;E2_35&#45;&gt;&#45;_36 -->\r\n",
       "<g id=\"edge16\" class=\"edge\"><title>E1&#45;E2_35&#45;&gt;&#45;_36</title>\r\n",
       "<path fill=\"none\" stroke=\"black\" d=\"M376,-143.697C376,-135.983 376,-126.712 376,-118.112\"/>\r\n",
       "<polygon fill=\"black\" stroke=\"black\" points=\"379.5,-118.104 376,-108.104 372.5,-118.104 379.5,-118.104\"/>\r\n",
       "</g>\r\n",
       "<!-- 4_34 -->\r\n",
       "<g id=\"node29\" class=\"node\"><title>4_34</title>\r\n",
       "<ellipse fill=\"none\" stroke=\"black\" cx=\"448\" cy=\"-90\" rx=\"27\" ry=\"18\"/>\r\n",
       "<text text-anchor=\"middle\" x=\"448\" y=\"-86.3\" font-family=\"Times New Roman,serif\" font-size=\"14.00\">4</text>\r\n",
       "</g>\r\n",
       "<!-- E1&#45;E2_35&#45;&gt;4_34 -->\r\n",
       "<g id=\"edge17\" class=\"edge\"><title>E1&#45;E2_35&#45;&gt;4_34</title>\r\n",
       "<path fill=\"none\" stroke=\"black\" d=\"M391.623,-145.811C401.704,-136.01 414.964,-123.118 426.092,-112.3\"/>\r\n",
       "<polygon fill=\"black\" stroke=\"black\" points=\"428.659,-114.685 433.389,-105.205 423.779,-109.666 428.659,-114.685\"/>\r\n",
       "</g>\r\n",
       "<!-- 2_30 -->\r\n",
       "<g id=\"node30\" class=\"node\"><title>2_30</title>\r\n",
       "<ellipse fill=\"none\" stroke=\"black\" cx=\"223\" cy=\"-18\" rx=\"27\" ry=\"18\"/>\r\n",
       "<text text-anchor=\"middle\" x=\"223\" y=\"-14.3\" font-family=\"Times New Roman,serif\" font-size=\"14.00\">2</text>\r\n",
       "</g>\r\n",
       "<!-- E1+E2_32&#45;&gt;2_30 -->\r\n",
       "<g id=\"edge12\" class=\"edge\"><title>E1+E2_32&#45;&gt;2_30</title>\r\n",
       "<path fill=\"none\" stroke=\"black\" d=\"M279.021,-73.4647C269.057,-63.7778 256.093,-51.174 245.146,-40.531\"/>\r\n",
       "<polygon fill=\"black\" stroke=\"black\" points=\"247.561,-37.9972 237.951,-33.5359 242.681,-43.0162 247.561,-37.9972\"/>\r\n",
       "</g>\r\n",
       "<!-- +_33 -->\r\n",
       "<g id=\"node31\" class=\"node\"><title>+_33</title>\r\n",
       "<ellipse fill=\"none\" stroke=\"black\" cx=\"295\" cy=\"-18\" rx=\"27\" ry=\"18\"/>\r\n",
       "<text text-anchor=\"middle\" x=\"295\" y=\"-14.3\" font-family=\"Times New Roman,serif\" font-size=\"14.00\">+</text>\r\n",
       "</g>\r\n",
       "<!-- E1+E2_32&#45;&gt;+_33 -->\r\n",
       "<g id=\"edge13\" class=\"edge\"><title>E1+E2_32&#45;&gt;+_33</title>\r\n",
       "<path fill=\"none\" stroke=\"black\" d=\"M295,-71.6966C295,-63.9827 295,-54.7125 295,-46.1124\"/>\r\n",
       "<polygon fill=\"black\" stroke=\"black\" points=\"298.5,-46.1043 295,-36.1043 291.5,-46.1044 298.5,-46.1043\"/>\r\n",
       "</g>\r\n",
       "<!-- 3_31 -->\r\n",
       "<g id=\"node32\" class=\"node\"><title>3_31</title>\r\n",
       "<ellipse fill=\"none\" stroke=\"black\" cx=\"367\" cy=\"-18\" rx=\"27\" ry=\"18\"/>\r\n",
       "<text text-anchor=\"middle\" x=\"367\" y=\"-14.3\" font-family=\"Times New Roman,serif\" font-size=\"14.00\">3</text>\r\n",
       "</g>\r\n",
       "<!-- E1+E2_32&#45;&gt;3_31 -->\r\n",
       "<g id=\"edge14\" class=\"edge\"><title>E1+E2_32&#45;&gt;3_31</title>\r\n",
       "<path fill=\"none\" stroke=\"black\" d=\"M310.979,-73.4647C320.943,-63.7778 333.907,-51.174 344.854,-40.531\"/>\r\n",
       "<polygon fill=\"black\" stroke=\"black\" points=\"347.319,-43.0162 352.049,-33.5359 342.439,-37.9972 347.319,-43.0162\"/>\r\n",
       "</g>\r\n",
       "<!-- 6_40 -->\r\n",
       "<g id=\"node36\" class=\"node\"><title>6_40</title>\r\n",
       "<ellipse fill=\"none\" stroke=\"black\" cx=\"531\" cy=\"-90\" rx=\"27\" ry=\"18\"/>\r\n",
       "<text text-anchor=\"middle\" x=\"531\" y=\"-86.3\" font-family=\"Times New Roman,serif\" font-size=\"14.00\">6</text>\r\n",
       "</g>\r\n",
       "<!-- E1/E2_42&#45;&gt;6_40 -->\r\n",
       "<g id=\"edge21\" class=\"edge\"><title>E1/E2_42&#45;&gt;6_40</title>\r\n",
       "<path fill=\"none\" stroke=\"black\" d=\"M587.377,-145.811C577.296,-136.01 564.036,-123.118 552.908,-112.3\"/>\r\n",
       "<polygon fill=\"black\" stroke=\"black\" points=\"555.221,-109.666 545.611,-105.205 550.341,-114.685 555.221,-109.666\"/>\r\n",
       "</g>\r\n",
       "<!-- /_43 -->\r\n",
       "<g id=\"node37\" class=\"node\"><title>/_43</title>\r\n",
       "<ellipse fill=\"none\" stroke=\"black\" cx=\"603\" cy=\"-90\" rx=\"27\" ry=\"18\"/>\r\n",
       "<text text-anchor=\"middle\" x=\"603\" y=\"-86.3\" font-family=\"Times New Roman,serif\" font-size=\"14.00\">/</text>\r\n",
       "</g>\r\n",
       "<!-- E1/E2_42&#45;&gt;/_43 -->\r\n",
       "<g id=\"edge22\" class=\"edge\"><title>E1/E2_42&#45;&gt;/_43</title>\r\n",
       "<path fill=\"none\" stroke=\"black\" d=\"M603,-143.697C603,-135.983 603,-126.712 603,-118.112\"/>\r\n",
       "<polygon fill=\"black\" stroke=\"black\" points=\"606.5,-118.104 603,-108.104 599.5,-118.104 606.5,-118.104\"/>\r\n",
       "</g>\r\n",
       "<!-- 7_41 -->\r\n",
       "<g id=\"node38\" class=\"node\"><title>7_41</title>\r\n",
       "<ellipse fill=\"none\" stroke=\"black\" cx=\"675\" cy=\"-90\" rx=\"27\" ry=\"18\"/>\r\n",
       "<text text-anchor=\"middle\" x=\"675\" y=\"-86.3\" font-family=\"Times New Roman,serif\" font-size=\"14.00\">7</text>\r\n",
       "</g>\r\n",
       "<!-- E1/E2_42&#45;&gt;7_41 -->\r\n",
       "<g id=\"edge23\" class=\"edge\"><title>E1/E2_42&#45;&gt;7_41</title>\r\n",
       "<path fill=\"none\" stroke=\"black\" d=\"M618.623,-145.811C628.704,-136.01 641.964,-123.118 653.092,-112.3\"/>\r\n",
       "<polygon fill=\"black\" stroke=\"black\" points=\"655.659,-114.685 660.389,-105.205 650.779,-109.666 655.659,-114.685\"/>\r\n",
       "</g>\r\n",
       "<!-- ~_46 -->\r\n",
       "<g id=\"node39\" class=\"node\"><title>~_46</title>\r\n",
       "<ellipse fill=\"none\" stroke=\"black\" cx=\"749\" cy=\"-90\" rx=\"27\" ry=\"18\"/>\r\n",
       "<text text-anchor=\"middle\" x=\"749\" y=\"-86.3\" font-family=\"Times New Roman,serif\" font-size=\"14.00\">~</text>\r\n",
       "</g>\r\n",
       "<!-- ~E_45&#45;&gt;~_46 -->\r\n",
       "<g id=\"edge24\" class=\"edge\"><title>~E_45&#45;&gt;~_46</title>\r\n",
       "<path fill=\"none\" stroke=\"black\" d=\"M751.258,-143.697C750.928,-135.983 750.531,-126.712 750.162,-118.112\"/>\r\n",
       "<polygon fill=\"black\" stroke=\"black\" points=\"753.658,-117.945 749.733,-108.104 746.665,-118.245 753.658,-117.945\"/>\r\n",
       "</g>\r\n",
       "<!-- 8_44 -->\r\n",
       "<g id=\"node40\" class=\"node\"><title>8_44</title>\r\n",
       "<ellipse fill=\"none\" stroke=\"black\" cx=\"821\" cy=\"-90\" rx=\"27\" ry=\"18\"/>\r\n",
       "<text text-anchor=\"middle\" x=\"821\" y=\"-86.3\" font-family=\"Times New Roman,serif\" font-size=\"14.00\">8</text>\r\n",
       "</g>\r\n",
       "<!-- ~E_45&#45;&gt;8_44 -->\r\n",
       "<g id=\"edge25\" class=\"edge\"><title>~E_45&#45;&gt;8_44</title>\r\n",
       "<path fill=\"none\" stroke=\"black\" d=\"M766.297,-146.496C775.919,-136.735 788.777,-123.69 799.61,-112.7\"/>\r\n",
       "<polygon fill=\"black\" stroke=\"black\" points=\"802.194,-115.064 806.721,-105.485 797.209,-110.15 802.194,-115.064\"/>\r\n",
       "</g>\r\n",
       "</g>\r\n",
       "</svg>\r\n"
      ],
      "text/plain": [
       "<graphviz.dot.Digraph at 0x286602f4ef0>"
      ]
     },
     "execution_count": 9,
     "metadata": {},
     "output_type": "execute_result"
    }
   ],
   "source": [
    "drawPT(parseExp(\"6*3/4*~5/(2+3-4-5-6/7*~8)-~9\"))"
   ]
  },
  {
   "cell_type": "code",
   "execution_count": 10,
   "metadata": {
    "run_control": {
     "frozen": false,
     "read_only": false
    }
   },
   "outputs": [
    {
     "data": {
      "text/plain": [
       "1.1249999999999991"
      ]
     },
     "execution_count": 10,
     "metadata": {},
     "output_type": "execute_result"
    }
   ],
   "source": [
    "# Check against Python!\n",
    "6*3/4*-5/(2+3-4-5-6/7*-8)--9"
   ]
  },
  {
   "cell_type": "markdown",
   "metadata": {
    "run_control": {
     "frozen": false,
     "read_only": false
    }
   },
   "source": [
    "** Free Answer: **\n",
    "\n",
    "* Yes, same answer as Python, which is **this answer**.  \n",
    "* Over **this many** nodes and below **this many nodes** in the parse tree! "
   ]
  },
  {
   "cell_type": "markdown",
   "metadata": {
    "run_control": {
     "frozen": false,
     "read_only": false
    }
   },
   "source": [
    "## How does Python differ from Google Sheets?"
   ]
  },
  {
   "cell_type": "markdown",
   "metadata": {
    "run_control": {
     "frozen": false,
     "read_only": false
    }
   },
   "source": [
    "With respect to Ref-2,\n",
    "Point out the similarities and differences between C++, Python, and \n",
    "Google Sheets when it comes to handling. Just a few sentences talkingvabout similarities and a few sentences about the differences.\n",
    "    \n",
    "- Associativity of exponentiation\n",
    "- Whether negation or exponentiation is handled first"
   ]
  },
  {
   "cell_type": "markdown",
   "metadata": {
    "run_control": {
     "frozen": false,
     "read_only": false
    }
   },
   "source": [
    "** Free answer: **\n",
    "\n",
    "<span style=\"color: blue\">\n",
    "In `python` and `google-sheets`, the associativity of exponentiation\n",
    "is **right-associative** and in `c++` its **left associative**\n",
    "</span>\n",
    "\n",
    "<span style=\"color: blue\">\n",
    "**negation** is handled first by `c++` and `google-sheets`\n",
    "and **exponentiation** is handled first in `python`\n",
    "</span>"
   ]
  },
  {
   "cell_type": "code",
   "execution_count": null,
   "metadata": {
    "run_control": {
     "frozen": false,
     "read_only": false
    }
   },
   "outputs": [],
   "source": []
  }
 ],
 "metadata": {
  "kernelspec": {
   "display_name": "Python 3",
   "language": "python",
   "name": "python3"
  },
  "language_info": {
   "codemirror_mode": {
    "name": "ipython",
    "version": 3
   },
   "file_extension": ".py",
   "mimetype": "text/x-python",
   "name": "python",
   "nbconvert_exporter": "python",
   "pygments_lexer": "ipython3",
   "version": "3.6.5"
  },
  "toc": {
   "colors": {
    "hover_highlight": "#DAA520",
    "running_highlight": "#FF0000",
    "selected_highlight": "#FFD700"
   },
   "moveMenuLeft": true,
   "nav_menu": {
    "height": "12px",
    "width": "252px"
   },
   "navigate_menu": true,
   "number_sections": true,
   "sideBar": true,
   "threshold": 4,
   "toc_cell": false,
   "toc_section_display": "block",
   "toc_window_display": false,
   "widenNotebook": false
  }
 },
 "nbformat": 4,
 "nbformat_minor": 2
}
