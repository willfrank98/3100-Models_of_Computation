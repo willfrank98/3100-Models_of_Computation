{
 "cells": [
  {
   "cell_type": "markdown",
   "metadata": {
    "run_control": {
     "frozen": false,
     "read_only": false
    }
   },
   "source": [
    "# Quiz-4\n",
    "\n",
    "Goals:\n",
    "\n",
    "* Learn about NFA\n",
    "* Learn Brzozowski's minimization algorithm for DFA\n",
    "  - Involves DFA reversal which generates NFA\n",
    "* Learn about regular expressions and relationship with NFA\n",
    "* Become proficient with these topics, especially in light of Asg-2 and MT-1\n",
    "\n",
    "Submission:\n",
    "\n",
    "* Clear demonstration that you ran this notebook and made observations\n",
    "\n",
    "* Please make your observations by adding markdown cells\n",
    "\n",
    "* Points will be based on a significant number of observations pertaining to each new algorithm or idea\n",
    "\n",
    "  - No need to add observations about concepts and ideas that are illustrated on a second or third example. Just do it for the first occurrence."
   ]
  },
  {
   "cell_type": "code",
   "execution_count": null,
   "metadata": {
    "run_control": {
     "frozen": false,
     "read_only": false
    }
   },
   "outputs": [],
   "source": [
    "# PLAY this Youtube to know how to use the contents of this file + follow some of the Def_DFA.ipynb defns\n",
    "# The notebook that is mentioned in this Youtube video may be found\n",
    "# on the Git repo\n",
    "\n",
    "from IPython.display import YouTubeVideo\n",
    "YouTubeVideo('xjFtLF95uBc')"
   ]
  },
  {
   "cell_type": "code",
   "execution_count": null,
   "metadata": {
    "run_control": {
     "frozen": false,
     "read_only": false
    }
   },
   "outputs": [],
   "source": [
    "from jove.DotBashers import *\n",
    "from jove.Def_md2mc import *\n",
    "from jove.Def_NFA   import *\n",
    "from jove.Def_DFA   import *\n",
    "from jove.Def_RE2NFA    import *\n",
    "from jove.Def_NFA2RE    import *"
   ]
  },
  {
   "cell_type": "markdown",
   "metadata": {
    "run_control": {
     "frozen": false,
     "read_only": false
    }
   },
   "source": [
    "An NFA is a machine $(Q, \\Sigma, \\delta, Q_0, F)$ which is somewhat like a DFA \n",
    "except that \n",
    "\n",
    "1. It can start from a __set__ of starting states $Q_0$\n",
    "    > i.e., the NFA can start from more than one starting state\n",
    "    \n",
    "2. Its transition function $\\delta$ maps $Q\\times (\\Sigma\\cup \\{\\varepsilon\\})$ to $2^{Q}$\n",
    "    > i.e., the NFA takes a state $Q$ and a symbol and returns a set of states\n",
    "    \n",
    "You can see these aspects being illustrated in the NFA to follow"
   ]
  },
  {
   "cell_type": "markdown",
   "metadata": {
    "run_control": {
     "frozen": false,
     "read_only": false
    }
   },
   "source": [
    "# Limitations of DFA"
   ]
  },
  {
   "cell_type": "code",
   "execution_count": null,
   "metadata": {
    "run_control": {
     "frozen": false,
     "read_only": false
    }
   },
   "outputs": [],
   "source": [
    "secondlast = md2mc('''\n",
    "NFA\n",
    "I  : 0 -> I\n",
    "I  : 1 -> I, S0\n",
    "S0 : 0 | 1 -> F\n",
    "''')\n",
    "dotObj_nfa(secondlast, FuseEdges=True)"
   ]
  },
  {
   "cell_type": "code",
   "execution_count": null,
   "metadata": {
    "run_control": {
     "frozen": false,
     "read_only": false
    }
   },
   "outputs": [],
   "source": [
    "thirdlast = md2mc('''\n",
    "NFA\n",
    "I  : 0 -> I\n",
    "I  : 1 -> I, S0\n",
    "S0 : 0 | 1 -> S1\n",
    "S1 : 0 | 1 -> F\n",
    "''')\n",
    "dotObj_nfa(thirdlast, FuseEdges=True)"
   ]
  },
  {
   "cell_type": "code",
   "execution_count": null,
   "metadata": {
    "run_control": {
     "frozen": false,
     "read_only": false
    }
   },
   "outputs": [],
   "source": [
    "fourthlast = md2mc('''\n",
    "NFA\n",
    "I  : 0 -> I\n",
    "I  : 1 -> I, S0\n",
    "S0 : 0 | 1 -> S1\n",
    "S1 : 0 | 1 -> S2\n",
    "S2 : 0 | 1 -> F\n",
    "''')\n",
    "dotObj_nfa(fourthlast, FuseEdges=True)"
   ]
  },
  {
   "cell_type": "code",
   "execution_count": null,
   "metadata": {
    "run_control": {
     "frozen": false,
     "read_only": false
    }
   },
   "outputs": [],
   "source": [
    "fifthlast = md2mc('''\n",
    "NFA\n",
    "I  : 0 -> I\n",
    "I  : 1 -> I, S0\n",
    "S0 : 0 | 1 -> S1\n",
    "S1 : 0 | 1 -> S2\n",
    "S2 : 0 | 1 -> S3\n",
    "S3 : 0 | 1 -> F\n",
    "''')\n",
    "dotObj_nfa(fifthlast, FuseEdges=True)"
   ]
  },
  {
   "cell_type": "code",
   "execution_count": null,
   "metadata": {
    "run_control": {
     "frozen": false,
     "read_only": false
    }
   },
   "outputs": [],
   "source": [
    "dotObj_dfa(min_dfa(nfa2dfa(secondlast)))"
   ]
  },
  {
   "cell_type": "code",
   "execution_count": null,
   "metadata": {
    "run_control": {
     "frozen": false,
     "read_only": false
    }
   },
   "outputs": [],
   "source": [
    "dotObj_dfa(min_dfa(nfa2dfa(thirdlast)))"
   ]
  },
  {
   "cell_type": "code",
   "execution_count": null,
   "metadata": {
    "run_control": {
     "frozen": false,
     "read_only": false
    }
   },
   "outputs": [],
   "source": [
    "dotObj_dfa(min_dfa(nfa2dfa(fourthlast)))"
   ]
  },
  {
   "cell_type": "code",
   "execution_count": null,
   "metadata": {
    "run_control": {
     "frozen": false,
     "read_only": false
    }
   },
   "outputs": [],
   "source": [
    "dotObj_dfa(min_dfa(nfa2dfa(fifthlast)))"
   ]
  },
  {
   "cell_type": "code",
   "execution_count": null,
   "metadata": {
    "run_control": {
     "frozen": false,
     "read_only": false
    }
   },
   "outputs": [],
   "source": [
    "len(min_dfa(nfa2dfa(secondlast))[\"Q\"])"
   ]
  },
  {
   "cell_type": "code",
   "execution_count": null,
   "metadata": {
    "run_control": {
     "frozen": false,
     "read_only": false
    }
   },
   "outputs": [],
   "source": [
    "len(min_dfa(nfa2dfa(thirdlast))[\"Q\"])"
   ]
  },
  {
   "cell_type": "code",
   "execution_count": null,
   "metadata": {
    "run_control": {
     "frozen": false,
     "read_only": false
    }
   },
   "outputs": [],
   "source": [
    "len(min_dfa(nfa2dfa(fourthlast))[\"Q\"])"
   ]
  },
  {
   "cell_type": "code",
   "execution_count": null,
   "metadata": {
    "run_control": {
     "frozen": false,
     "read_only": false
    }
   },
   "outputs": [],
   "source": [
    "len(min_dfa(nfa2dfa(fifthlast))[\"Q\"])"
   ]
  },
  {
   "cell_type": "markdown",
   "metadata": {
    "run_control": {
     "frozen": false,
     "read_only": false
    }
   },
   "source": [
    "## Clear evidence of exponential blowup!"
   ]
  },
  {
   "cell_type": "markdown",
   "metadata": {
    "run_control": {
     "frozen": false,
     "read_only": false
    }
   },
   "source": [
    "### Another problem with DFA : No natural way to specify many languages"
   ]
  },
  {
   "cell_type": "code",
   "execution_count": null,
   "metadata": {
    "run_control": {
     "frozen": false,
     "read_only": false
    }
   },
   "outputs": [],
   "source": [
    "# NFA for the language {'a','ba','cd','eb'}\n",
    "nfa_abcde = md2mc('''\n",
    "NFA\n",
    "I   : a -> F\n",
    "I   : b -> Sb\n",
    "Sb  : a -> F\n",
    "I   : c -> Sc\n",
    "Sc  : d -> F\n",
    "I   : e -> Se\n",
    "Se  : b -> F\n",
    "''')\n",
    "dotObj_nfa(nfa_abcde)"
   ]
  },
  {
   "cell_type": "code",
   "execution_count": null,
   "metadata": {
    "run_control": {
     "frozen": false,
     "read_only": false
    }
   },
   "outputs": [],
   "source": [
    "# With DFA we do something else (build DFA for 'a' with alphabet being {a,b,c,d,e} etc...)\n",
    "# This results in this DFA\n",
    "dotObj_dfa_w_bh(min_dfa(nfa2dfa(nfa_abcde)), FuseEdges=True)"
   ]
  },
  {
   "cell_type": "markdown",
   "metadata": {
    "run_control": {
     "frozen": false,
     "read_only": false
    }
   },
   "source": [
    "# Chapter-7: Nondeterministic Finite Automata\n",
    "\n",
    "In this chapter, we will cover virtually all aspects of NFA, following the style of presentation used in Chapter-3 on DFA. We will sometimes be (re-) writing print (and dot-object generation) routines that look quite similar to those defined for DFA. This is because the routines are short, and we want a self-contained notebook. Besides there are subtle differences between an NFA and a DFA and it's best to make these differences manifest in dedicated routines -- than overload the former routines with extra arguments. \n",
    "\n",
    "<span style=\"color:blue\"> **We begin defining NFA by providing its structure. ** </span>\n",
    "\n",
    "We will first set up a series of definitions ending at the mk_nfa function that helps build NFA. \n",
    "\n",
    "Unlike with a DFA, there is no mkp_nfa function, as all NFAs are partial! (We can define a mktot_nfa function to print all moves, including unspecified moves leading to the se({}) state.)\n",
    "\n",
    "We will define step_nfa, run_nfa and accepts_nfa which are key functions that clearly spell out how NFA differ from DFA.\n",
    "\n",
    "We will also be defining functions for displaying NFA with the help of the _dot_ tool. The design will be similar to that with DFA.\n",
    "\n",
    "<span style=\"color:blue\"> **------** </span>\n",
    "\n",
    "<span style=\"color:red\"> __We will follow Kozen and endow an NFA with multiple start states __ </span>\n",
    "\n",
    "\n",
    "\n",
    "This will allow the NFA to be more naturally handled. For instance, the reverse of a DFA is an NFA. When we reverse a DFA, all its final states become initial states of the NFA (that models the reversed language). There are 2 ways to handle this:\n",
    "\n",
    "1. Introduce a fake new initial state and jump from it via $\\varepsilon$ onto (what were the final state of the DFA).\n",
    "\n",
    "2. Don't introduce the fake new initial state, but rather allow the NFA to start from all of F being really its start state.\n",
    "\n",
    "    * Of course, in almost all situations, this is a minor difference\n",
    "    \n",
    "    * But to enjoy the topic as completely as one can, it is best to be \"clean\" and follow clean definitions.\n",
    "    \n",
    "        - I've seen Ed Clarke also use multiple initial states\n",
    "        \n",
    "        - Hence our code will be for this relaxed setup\n",
    "        \n",
    "        - Of course if you __REALLY__ wanted to have only one start state, then make it a singleton set of states and work that through your NFA.\n",
    "\n",
    "\n",
    "<br>\n",
    "\n",
    "__So now, following Brzozowski, we have__\n",
    "\n",
    "<br>\n",
    "\n",
    "An NFA is a quintuple $(Q,\\Sigma,\\delta,Q_0,F)$, where:\n",
    "\n",
    "* $Q$ is a _finite nonempty_ set of states.\n",
    "\n",
    "* $\\Sigma$ is a _finite nonempty_ alphabet containing _symbols_.\n",
    "\n",
    "* $\\delta$ is a (partial)\n",
    "\ttransition function, containing a set of _transitions_. The transitions take\n",
    "    a pair from $Q\\times \\Sigma$ and return a __subset__ of states in $Q$. All this is succinctly\n",
    "    captured by writing\n",
    "    $\\delta: Q\\times \\Sigma \\rightarrow 2^Q$. \n",
    "    Here we use $2^Q$ to denote the powerset of $Q$.\n",
    "    \n",
    "  \n",
    "* $Q_0\\subseteq Q$, is __a set of initial states__.  Notice that we change from q0 (or $q_0$) which is what you find books such as Sipser and Linz using.\n",
    "\n",
    "\n",
    "* $F\\subseteq Q$ is a _finite_ (and _possibly empty_) set of\n",
    "\tfinal (or _accepting_) states. These are shown as double-circled nodes in the graph of a DFA. \n",
    " \n",
    "> There is no other change. I.e. $\\delta$ remains the same as before.\n",
    "> It is that when an NFA starts, it can find itself in a set of start states.\n",
    "> Most NFAs start from a __singleton__ Q0, which is then, effectively, an NFA\n",
    " that matches most books say.\n",
    "\n",
    "Some terminology:\n",
    "\n",
    "> We call $Q$,$\\Sigma$, $\\delta$, $Q_0$, and $F$ the **_traits_** of the NFA.\n",
    "\n",
    "> We will call an NFA **_structurally consistent_** or simply **\"consistent\"** if its traits pass the aforesaid checks.\n",
    "\n",
    "\n",
    "Here is how the checks will be broken down:\n",
    "\n",
    "* The supplied $\\delta$ function will be checked to see if it has allowed domain and range points. \n",
    " - The domain points must be a subset of $Q\\times \\Sigma$\n",
    " - The range points must be a subset of $2^Q$\n",
    "  We do no insist that the supplied $\\delta$ be total.\n",
    "    \n",
    "* $Q_0\\subseteq Q$, is _the_ initial state.\n",
    "\n",
    "* $F\\subseteq Q$ is a _finite_ (and _possibly empty_) set of\n",
    "\tfinal (or _accepting_) states.  \n",
    "    \n",
    "We will often use the state set({}) to be the equivalent of a black-hole state for an NFA."
   ]
  },
  {
   "cell_type": "code",
   "execution_count": null,
   "metadata": {
    "run_control": {
     "frozen": false,
     "read_only": false
    }
   },
   "outputs": [],
   "source": [
    "nfa1 = md2mc('''NFA\n",
    "I : 0 -> A\n",
    "I : 0 -> F''')\n",
    "dotObj_nfa(nfa1)"
   ]
  },
  {
   "cell_type": "code",
   "execution_count": null,
   "metadata": {
    "run_control": {
     "frozen": false,
     "read_only": false
    }
   },
   "outputs": [],
   "source": [
    "nfa2 = md2mc('''NFA\n",
    "I : '' -> F\n",
    "I : 0  -> A\n",
    "''')\n",
    "dotObj_nfa(nfa2)"
   ]
  },
  {
   "cell_type": "markdown",
   "metadata": {
    "run_control": {
     "frozen": false,
     "read_only": false
    }
   },
   "source": [
    "# The $\\delta$ function of the NFA"
   ]
  },
  {
   "cell_type": "code",
   "execution_count": null,
   "metadata": {
    "run_control": {
     "frozen": false,
     "read_only": false
    }
   },
   "outputs": [],
   "source": [
    "help(step_nfa)"
   ]
  },
  {
   "cell_type": "code",
   "execution_count": null,
   "metadata": {
    "run_control": {
     "frozen": false,
     "read_only": false
    }
   },
   "outputs": [],
   "source": [
    "step_nfa(nfa1, 'I', '')"
   ]
  },
  {
   "cell_type": "code",
   "execution_count": null,
   "metadata": {
    "run_control": {
     "frozen": false,
     "read_only": false
    }
   },
   "outputs": [],
   "source": [
    "step_nfa(nfa1, 'I', '0')"
   ]
  },
  {
   "cell_type": "code",
   "execution_count": null,
   "metadata": {
    "run_control": {
     "frozen": false,
     "read_only": false
    }
   },
   "outputs": [],
   "source": [
    "step_nfa(nfa2, 'I','')"
   ]
  },
  {
   "cell_type": "code",
   "execution_count": null,
   "metadata": {
    "run_control": {
     "frozen": false,
     "read_only": false
    }
   },
   "outputs": [],
   "source": [
    "fig71a = md2mc('''\n",
    "NFA\n",
    "I  : 0 -> I\n",
    "I  : 1 -> I, S0\n",
    "S0 : 0 | 1 -> S1\n",
    "S1 : 0 | 1 -> F\n",
    "''')"
   ]
  },
  {
   "cell_type": "code",
   "execution_count": null,
   "metadata": {
    "run_control": {
     "frozen": false,
     "read_only": false
    }
   },
   "outputs": [],
   "source": [
    "dotObj_nfa(fig71a, FuseEdges=True)"
   ]
  },
  {
   "cell_type": "code",
   "execution_count": null,
   "metadata": {
    "run_control": {
     "frozen": false,
     "read_only": false
    }
   },
   "outputs": [],
   "source": [
    "fig71b = md2mc('''\n",
    "NFA\n",
    "I  : 0 | 1 -> I\n",
    "I  : '' -> S0\n",
    "S0 : 1  -> S1\n",
    "S1 : 0 | 1 -> S2\n",
    "S2 : 0 | 1 -> F\n",
    "''')"
   ]
  },
  {
   "cell_type": "code",
   "execution_count": null,
   "metadata": {
    "run_control": {
     "frozen": false,
     "read_only": false
    }
   },
   "outputs": [],
   "source": [
    "dotObj_nfa(fig71b, FuseEdges=True)"
   ]
  },
  {
   "cell_type": "code",
   "execution_count": null,
   "metadata": {
    "run_control": {
     "frozen": false,
     "read_only": false
    }
   },
   "outputs": [],
   "source": []
  },
  {
   "cell_type": "code",
   "execution_count": null,
   "metadata": {
    "run_control": {
     "frozen": false,
     "read_only": false
    }
   },
   "outputs": [],
   "source": [
    "help(Eclosure)"
   ]
  },
  {
   "cell_type": "code",
   "execution_count": null,
   "metadata": {
    "run_control": {
     "frozen": false,
     "read_only": false
    }
   },
   "outputs": [],
   "source": [
    "Eclosure(fig71b, {'F'})"
   ]
  },
  {
   "cell_type": "markdown",
   "metadata": {
    "run_control": {
     "frozen": false,
     "read_only": false
    }
   },
   "source": [
    "# Stepping and Running NFA\n",
    "\n",
    "Now that we've defined NFA and allied actions such as consistency checking and printing, let's write functions to step and run them.\n",
    "\n",
    "* How the state transition function $\\delta$ \"works\"\n",
    "  - captured in step_nfa"
   ]
  },
  {
   "cell_type": "code",
   "execution_count": null,
   "metadata": {
    "run_control": {
     "frozen": false,
     "read_only": false
    }
   },
   "outputs": [],
   "source": [
    "help(step_nfa)"
   ]
  },
  {
   "cell_type": "code",
   "execution_count": null,
   "metadata": {
    "run_control": {
     "frozen": false,
     "read_only": false
    }
   },
   "outputs": [],
   "source": [
    "step_nfa(fig71b, \"I\", '')"
   ]
  },
  {
   "cell_type": "code",
   "execution_count": null,
   "metadata": {
    "run_control": {
     "frozen": false,
     "read_only": false
    }
   },
   "outputs": [],
   "source": [
    "step_nfa(fig71b, \"S0\", '')"
   ]
  },
  {
   "cell_type": "code",
   "execution_count": null,
   "metadata": {
    "run_control": {
     "frozen": false,
     "read_only": false
    }
   },
   "outputs": [],
   "source": [
    "step_nfa(fig71b, \"I\", '0')"
   ]
  },
  {
   "cell_type": "code",
   "execution_count": null,
   "metadata": {
    "run_control": {
     "frozen": false,
     "read_only": false
    }
   },
   "outputs": [],
   "source": [
    "help(run_nfa)"
   ]
  },
  {
   "cell_type": "code",
   "execution_count": null,
   "metadata": {
    "run_control": {
     "frozen": false,
     "read_only": false
    }
   },
   "outputs": [],
   "source": [
    "run_nfa(fig71b, \"I\", \"0\")"
   ]
  },
  {
   "cell_type": "code",
   "execution_count": null,
   "metadata": {
    "run_control": {
     "frozen": false,
     "read_only": false
    }
   },
   "outputs": [],
   "source": [
    "run_nfa(fig71b, \"I\", \"0\", chatty=True)"
   ]
  },
  {
   "cell_type": "code",
   "execution_count": null,
   "metadata": {
    "run_control": {
     "frozen": false,
     "read_only": false
    }
   },
   "outputs": [],
   "source": [
    "step_nfa(fig71b, \"I\", '1')"
   ]
  },
  {
   "cell_type": "code",
   "execution_count": null,
   "metadata": {
    "run_control": {
     "frozen": false,
     "read_only": false
    }
   },
   "outputs": [],
   "source": [
    "run_nfa(fig71a, \"I\", '0100100', chatty = True)"
   ]
  },
  {
   "cell_type": "code",
   "execution_count": null,
   "metadata": {
    "run_control": {
     "frozen": false,
     "read_only": false
    }
   },
   "outputs": [],
   "source": [
    "run_nfa(fig71b, \"I\", '1')"
   ]
  },
  {
   "cell_type": "code",
   "execution_count": null,
   "metadata": {
    "run_control": {
     "frozen": false,
     "read_only": false
    }
   },
   "outputs": [],
   "source": [
    "run_nfa(fig71b, {\"I\"}, \"\")"
   ]
  },
  {
   "cell_type": "code",
   "execution_count": null,
   "metadata": {
    "run_control": {
     "frozen": false,
     "read_only": false
    }
   },
   "outputs": [],
   "source": [
    "Eclosure(fig71b, {\"I\"})"
   ]
  },
  {
   "cell_type": "markdown",
   "metadata": {
    "run_control": {
     "frozen": false,
     "read_only": false
    }
   },
   "source": [
    "# The EClosure Function (defined on a set of states)"
   ]
  },
  {
   "cell_type": "code",
   "execution_count": null,
   "metadata": {
    "run_control": {
     "frozen": false,
     "read_only": false
    }
   },
   "outputs": [],
   "source": [
    "run_nfa(fig71b, {\"I\"}, \"0101\")"
   ]
  },
  {
   "cell_type": "code",
   "execution_count": null,
   "metadata": {
    "run_control": {
     "frozen": false,
     "read_only": false
    }
   },
   "outputs": [],
   "source": [
    "run_nfa(fig71b, {\"I\"}, \"0101\", True)"
   ]
  },
  {
   "cell_type": "code",
   "execution_count": null,
   "metadata": {
    "run_control": {
     "frozen": false,
     "read_only": false
    }
   },
   "outputs": [],
   "source": [
    "import ipywidgets as wdg\n",
    "def run_nfa_slider(firstTime, N, s, n):\n",
    "    \"\"\"Run NFA N from N[\"Q0\"] (which is a set..) on substring s[0:n]\n",
    "    \"\"\"\n",
    "    if firstTime:\n",
    "        print(\"Eclosure of N's start state is\")\n",
    "        print(Eclosure(N, N[\"Q0\"]))\n",
    "        firstTime = False\n",
    "    S = N[\"Q0\"] \n",
    "    if (n > len(s)):\n",
    "        n = len(s)\n",
    "    print(\"string = \", s[0:n])\n",
    "    run_nfa(N, S, s[0:n], True)\n",
    "    \n",
    "def run_nfa_int(N1, N2):\n",
    "    \"\"\"Run interactively from the given NFA .. from {q0} \n",
    "       on input string's substring\n",
    "       as picked by slider.\n",
    "    \"\"\"\n",
    "    inp = input(\"Please provide string: \")\n",
    "    wdg.interact(run_nfa_slider, firstTime=True, N = {'N1': N1, 'N2': N2}, \n",
    "                 s = inp, n=(0,32) )"
   ]
  },
  {
   "cell_type": "code",
   "execution_count": null,
   "metadata": {
    "run_control": {
     "frozen": false,
     "read_only": false
    }
   },
   "outputs": [],
   "source": [
    "run_nfa_int(fig71a, fig71b)"
   ]
  },
  {
   "cell_type": "code",
   "execution_count": null,
   "metadata": {
    "run_control": {
     "frozen": false,
     "read_only": false
    }
   },
   "outputs": [],
   "source": [
    "fig74a = md2mc('''\n",
    "NFA\n",
    "I : '' -> A, G\n",
    "A : '' -> B, C\n",
    "B : 1  -> D\n",
    "C : 0  -> E\n",
    "D : '' -> A, G\n",
    "E : '' -> A, G\n",
    "G : 1  -> F\n",
    "''')\n",
    "dotObj_nfa(fig74a)"
   ]
  },
  {
   "cell_type": "code",
   "execution_count": null,
   "metadata": {
    "run_control": {
     "frozen": false,
     "read_only": false
    }
   },
   "outputs": [],
   "source": [
    "run_nfa_int(fig74a, fig71b)"
   ]
  },
  {
   "cell_type": "markdown",
   "metadata": {
    "run_control": {
     "frozen": false,
     "read_only": false
    }
   },
   "source": [
    "# DFA to NFA conversion (!)\n",
    "\n",
    "This is a useful helper and helps understand the theory, but not widely used.\n",
    "Its main use is within \"NFA2RE\". Suppose you want to convert a DFA to an RE? \n",
    "Then use dfa2nfa and then NFA2RE :-)"
   ]
  },
  {
   "cell_type": "code",
   "execution_count": null,
   "metadata": {
    "run_control": {
     "frozen": false,
     "read_only": false
    }
   },
   "outputs": [],
   "source": [
    "def dfa2nfa(D):\n",
    "    \"\"\"Given a DFA D, make a language-equivalent NFA.\n",
    "    \"\"\"\n",
    "    assert(\n",
    "    is_partially_consistent_dfa(D)\n",
    "    ), \"DFA given to dfa2nfa is not part. consist.\"\n",
    "    return { \"Q\"     : D[\"Q\"],\n",
    "             \"Sigma\" : D[\"Sigma\"],\n",
    "             \"Delta\" : dict((a,{b}) for (a,b) in D[\"Delta\"].items()),\n",
    "             \"Q0\"    : { D[\"q0\"] },\n",
    "             \"F\"     : D[\"F\"] }  "
   ]
  },
  {
   "cell_type": "markdown",
   "metadata": {
    "run_control": {
     "frozen": false,
     "read_only": false
    }
   },
   "source": [
    "# NFA to DFA conversion\n",
    "\n",
    "\n",
    "* Input: An NFA, N\n",
    "\n",
    "* Output: A language-equivalent DFA, D\n",
    "\n",
    "* Method: Subset Construction\n",
    "\n",
    "  - Data structure to maintain : \n",
    "  \n",
    "    * A set called \"Unexpanded\" (UNEXP for short), which holds SETS of states of the given NFA, N\n",
    "    \n",
    "    * These serve as the states of the DFA (D) being built\n",
    "    \n",
    "      - Note that UNEXP is a set of state-sets (set of 'set-of-states' if you will)\n",
    "\n",
    "> * Let INIT  (DFA's initial state) =  Eclosure of N[\"Q0\"]  \n",
    "\n",
    "> * Add INIT to UNEXP\n",
    "\n",
    "> WHILE (UNEXP $\\neq \\emptyset$) DO\n",
    "\n",
    "> > Choose a state S from UNEXP\n",
    "\n",
    "> > Delete S from UNEXP\n",
    "\n",
    "> > Expand(S)   --   Expand(S) will add all the 'c' moves out of S where c $\\in \\Sigma$\n",
    "\n",
    "> END WHILE \n",
    "\n",
    "** Expand(S): **\n",
    "\n",
    "> For each symbol $c$ in $\\Sigma$\n",
    "\n",
    "> > For each state s ∈ S do  --  Recall that S is a set of states\n",
    "\n",
    "> > > Let $NS_c$ = $\\delta(s,c)$ --  Find the next __set of states__ the NFA can be, starting from s, moving on c \n",
    "\n",
    "> > > Let $NSE_c$ = Eclose($NS_c$)   --  Eclose $NS_c$ which means Eclose every state in $NS_c$ and union them\n",
    "\n",
    "> > > Introduce a transition in D from S to $NSE_c$\n",
    "\n",
    "> > If $NSE_c$ does not exist in the DFA D, add it to UNEXP\n",
    "\n",
    "** Eclose(S): **\n",
    "\n",
    "> For each state $x \\in S$:\n",
    "\n",
    "> > Move $x$ through $\\varepsilon$, obtaining a set of next state $S_x$\n",
    "\n",
    "> Union these $S_x$ and return that union"
   ]
  },
  {
   "cell_type": "markdown",
   "metadata": {
    "run_control": {
     "frozen": false,
     "read_only": false
    }
   },
   "source": [
    "# The Actual NFA 2 DFA Conversion Code"
   ]
  },
  {
   "cell_type": "code",
   "execution_count": null,
   "metadata": {
    "run_control": {
     "frozen": false,
     "read_only": false
    }
   },
   "outputs": [],
   "source": [
    "def nfa2dfa(N):\n",
    "    \"\"\"In : N (consistent NFA)\n",
    "       Out: A consistent DFA that is language-equivalent to N.\n",
    "    \"\"\"\n",
    "    assert(\n",
    "        is_consistent_nfa(N)\n",
    "    ), \"nfa2dfa was given an inconsistent NFA.\"\n",
    "    # EClose the starting state of the NFA\n",
    "    EC = Eclosure(N, N[\"Q0\"])\n",
    "    return n2d(Frontier=[EC], Visited=[EC], Delta=dict({}), Nfa=N)\n",
    "\n",
    "\n",
    "def n2d(Frontier, Visited, Delta, Nfa):\n",
    "    \"\"\"Helper for nfa2dfa.\n",
    "       ---\n",
    "       In : Frontier (list of state sets; initially Eclosed Q0)\n",
    "            Visited  (list of visited state sets; initially Eclosed Q0)\n",
    "            Delta    (the DFA transition function being formed)\n",
    "            Nfa      (the NFA being converted)\n",
    "       Helper to nfa2dfa. Given a (BFS) frontier, a Visited\n",
    "       set of states, the Delta being formed, and NFA Nfa, see\n",
    "       if all new moves are in Visited:\n",
    "         do last gasp of Delta update; make and return a DFA;\n",
    "       else: extend Frontier, Visited, Delta; recurse.\n",
    "    \"\"\"\n",
    "    All_c_Moves = [ ((Q,c),ec_step_nfa(Nfa,Q,c)) \n",
    "                   for Q in Frontier \n",
    "                   for c in Nfa[\"Sigma\"] ]\n",
    "    New_c_Moves = list(filter(lambda QcQ: trTrg(QcQ) not in Visited, \n",
    "                              All_c_Moves))  \n",
    "    if New_c_Moves == []:\n",
    "        # Add last-gasp c-moves that curl back!\n",
    "        last_gasp_c_moves = dict([ ((mkSSnam(Qfrom),c),mkSSnam(Qto)) \n",
    "                                  for ((Qfrom, c), Qto) in All_c_Moves ])\n",
    "        Delta.update(last_gasp_c_moves)\n",
    "                  \n",
    "        # DFA states are visited states\n",
    "        DFA_Q = { mkSSnam(Q) for Q in Visited }\n",
    "                  \n",
    "        # Retain alphabet\n",
    "        DFA_Sigma = Nfa[\"Sigma\"]\n",
    "                  \n",
    "        # Delta is ready to go\n",
    "        DFA_Delta = Delta\n",
    "                  \n",
    "        # DFA starts at Eclosure of Nfa's Q0 set of states\n",
    "        DFA_q0 = mkSSnam(Eclosure(Nfa, Nfa[\"Q0\"]))\n",
    "                  \n",
    "        # DFA's final states are those in visited that contain an NFA \n",
    "        # F-state but don't retain any empty sets, in case the NFA given \n",
    "        # has no F-states!\n",
    "        # This is another corner-case (i.e. don't shove-in black hole \n",
    "        # states!)\n",
    "        DFA_F = set(map(lambda Q: mkSSnam(Q), \n",
    "                        filter(lambda Q: (Nfa[\"F\"]&Q) != set({}), \n",
    "                               Visited)))\n",
    "                  \n",
    "        # Make the DFA; send it to the DFA-shrink to bask ugly long \n",
    "        # state names...\n",
    "        return shrink_dfastates(mk_dfa(DFA_Q, \n",
    "                                       DFA_Sigma, \n",
    "                                       DFA_Delta, \n",
    "                                       DFA_q0, \n",
    "                                       DFA_F))\n",
    "    else:\n",
    "        newFrontier = list(map(lambda QcQ: trTrg(QcQ), New_c_Moves)) \n",
    "        newVisited = Visited + newFrontier\n",
    "                  \n",
    "        # Even though the NFA has not closed back on itself, we MUST \n",
    "        # accommodate for the \"curl-backs\" along the way !!  Thus, run it\n",
    "        # over All_c_Moves which may include \"partial revisits along the \n",
    "        # way\". We MUST pick up those curl-backs!\n",
    "        NewMovesDelta = dict([ ((mkSSnam(Qfrom),c),mkSSnam(Qto)) \n",
    "                              for ((Qfrom, c), Qto) in All_c_Moves ]) \n",
    "        Delta.update(NewMovesDelta)\n",
    "        return n2d(newFrontier, newVisited, Delta, Nfa)\n",
    "                                  \n",
    "#---NFA to DFA"
   ]
  },
  {
   "cell_type": "code",
   "execution_count": null,
   "metadata": {
    "run_control": {
     "frozen": false,
     "read_only": false
    }
   },
   "outputs": [],
   "source": [
    "fig74a = md2mc('''\n",
    "NFA\n",
    "I : '' -> A, G\n",
    "A : '' -> B, C\n",
    "B : 1  -> D\n",
    "C : 0  -> E\n",
    "D : '' -> A, G\n",
    "E : '' -> A, G\n",
    "G : 1  -> F\n",
    "''')\n",
    "dotObj_nfa(fig74a)"
   ]
  },
  {
   "cell_type": "code",
   "execution_count": null,
   "metadata": {
    "run_control": {
     "frozen": false,
     "read_only": false
    }
   },
   "outputs": [],
   "source": [
    "dotObj_dfa(nfa2dfa(fig74a))"
   ]
  },
  {
   "cell_type": "markdown",
   "metadata": {
    "editable": false,
    "run_control": {
     "frozen": false,
     "read_only": false
    }
   },
   "source": [
    "# Brzozowski's DFA Minimization\n",
    "\n",
    "Picking up from our earlier discussions, to minimize a DFA using Brzozowski's algorithm, here are the steps:\n",
    "\n",
    "* Make sure that the given DFA has no unreachable states\n",
    "* Reverse the DFA\n",
    "* Determinize it\n",
    "* Reverse that DFA\n",
    "* Determinize it\n",
    "\n",
    "Thus we need to write a routine to reverse a DFA. We already have a way to ensure that a DFA does not have unreachable states (in another Jupyter notebook; we won't bother to include it here, and trust the user to always provide such DFA only).\n",
    "\n",
    "We can observe that if a DFA has black-hole states, then those states won't matter in the reversed machine (reversed NFA). Thus, we can work with __partial__ dfa (i.e., DFA that are partially consistent)."
   ]
  },
  {
   "cell_type": "markdown",
   "metadata": {
    "editable": false,
    "run_control": {
     "frozen": false,
     "read_only": false
    }
   },
   "source": [
    "## DFA reversal"
   ]
  },
  {
   "cell_type": "code",
   "execution_count": null,
   "metadata": {
    "run_control": {
     "frozen": false,
     "read_only": false
    }
   },
   "outputs": [],
   "source": [
    "def inSets(D,trg,ch):\n",
    "    \"\"\"In : D   = partially consistent dfa,\n",
    "            trg = a target state in D[\"q\"]\n",
    "            ch  = a member of D[\"Sigma\"]\n",
    "       Out: a set of states. { q s.t. Delta[q,ch] == trg }\n",
    "    \"\"\"\n",
    "    return { q for q in D[\"Q\"] if D[\"Delta\"][(q,ch)] == trg }\n",
    "\n",
    "def rev_dfa(D):\n",
    "    \"\"\"In : D = a partially consistent DFA without any unreachable states.\n",
    "       Out: A consistent NFA whose language is D's language reversed.\n",
    "    \"\"\"\n",
    "    # 1. Given that NFAs start from a SET of states, we already have that\n",
    "    #   info. No need to add any transitions from \"a new initial state\" \n",
    "    #   etc\n",
    "    \n",
    "    # 2. Now add the inSets of each state as the NFA next set of states\n",
    "    NDict = { (q,ch) : inSets(D,q,ch) \n",
    "              for q in D[\"Q\"] \n",
    "              for ch in D[\"Sigma\"] }\n",
    "    \n",
    "    # Notice that we retain D[\"Q\"] and start from Q0 = D[\"F\"]\n",
    "    # going backwards along NDict toward F_dfa = { D[\"q0\"] }\n",
    "    return mk_nfa(D[\"Q\"], D[\"Sigma\"], NDict, D[\"F\"], {D[\"q0\"]})"
   ]
  },
  {
   "cell_type": "code",
   "execution_count": null,
   "metadata": {
    "run_control": {
     "frozen": false,
     "read_only": false
    }
   },
   "outputs": [],
   "source": [
    "nfaMultiQ0 = md2mc('''\n",
    "NFA\n",
    "I0 : a | b | c -> A, B\n",
    "I0 : c -> F\n",
    "I1 : a | b -> A, B\n",
    "A  : c -> F\n",
    "B  : d -> F\n",
    "''')"
   ]
  },
  {
   "cell_type": "code",
   "execution_count": null,
   "metadata": {
    "run_control": {
     "frozen": false,
     "read_only": false
    }
   },
   "outputs": [],
   "source": [
    "dotObj_nfa(nfaMultiQ0)"
   ]
  },
  {
   "cell_type": "code",
   "execution_count": null,
   "metadata": {
    "run_control": {
     "frozen": false,
     "read_only": false
    }
   },
   "outputs": [],
   "source": [
    "dotObj_nfa(nfaMultiQ0, FuseEdges=True)"
   ]
  },
  {
   "cell_type": "code",
   "execution_count": null,
   "metadata": {
    "run_control": {
     "frozen": false,
     "read_only": false
    }
   },
   "outputs": [],
   "source": [
    "dfaMQ0 = nfa2dfa(nfaMultiQ0)"
   ]
  },
  {
   "cell_type": "code",
   "execution_count": null,
   "metadata": {
    "run_control": {
     "frozen": false,
     "read_only": false
    }
   },
   "outputs": [],
   "source": [
    "dotObj_dfa(dfaMQ0)"
   ]
  },
  {
   "cell_type": "code",
   "execution_count": null,
   "metadata": {
    "run_control": {
     "frozen": false,
     "read_only": false
    }
   },
   "outputs": [],
   "source": [
    "dotObj_dfa(dfaMQ0, FuseEdges=True)"
   ]
  },
  {
   "cell_type": "code",
   "execution_count": null,
   "metadata": {
    "run_control": {
     "frozen": false,
     "read_only": false
    }
   },
   "outputs": [],
   "source": [
    "dotObj_nfa(rev_dfa(dfaMQ0))"
   ]
  },
  {
   "cell_type": "code",
   "execution_count": null,
   "metadata": {
    "run_control": {
     "frozen": false,
     "read_only": false
    }
   },
   "outputs": [],
   "source": [
    "dotObj_nfa(rev_dfa(dfaMQ0), FuseEdges=True)"
   ]
  },
  {
   "cell_type": "code",
   "execution_count": null,
   "metadata": {
    "run_control": {
     "frozen": false,
     "read_only": false
    }
   },
   "outputs": [],
   "source": [
    "help(min_dfa_brz)"
   ]
  },
  {
   "cell_type": "code",
   "execution_count": null,
   "metadata": {
    "run_control": {
     "frozen": false,
     "read_only": false
    }
   },
   "outputs": [],
   "source": [
    "dotObj_dfa(dfaMQ0)"
   ]
  },
  {
   "cell_type": "code",
   "execution_count": null,
   "metadata": {
    "run_control": {
     "frozen": false,
     "read_only": false
    }
   },
   "outputs": [],
   "source": []
  },
  {
   "cell_type": "code",
   "execution_count": null,
   "metadata": {
    "run_control": {
     "frozen": false,
     "read_only": false
    }
   },
   "outputs": [],
   "source": [
    "dotObj_dfa(min_dfa_brz(dfaMQ0))"
   ]
  },
  {
   "cell_type": "markdown",
   "metadata": {
    "run_control": {
     "frozen": false,
     "read_only": false
    }
   },
   "source": [
    "# Brzozowski Minimization : All Steps "
   ]
  },
  {
   "cell_type": "code",
   "execution_count": null,
   "metadata": {
    "run_control": {
     "frozen": false,
     "read_only": false
    }
   },
   "outputs": [],
   "source": [
    "blimp = md2mc('''\n",
    "DFA \n",
    "I1 : a -> F2\n",
    "I1 : b -> F3\n",
    "F2 : a -> S8\n",
    "F2 : b -> S5\n",
    "F3 : a -> S7\n",
    "F3 : b -> S4\n",
    "S4 : a | b -> F6\n",
    "S5 : a | b -> F6\n",
    "F6 : a | b -> F6\n",
    "S7 : a | b -> F6\n",
    "S8 : a -> F6\n",
    "S8 : b -> F9\n",
    "F9 : a -> F9\n",
    "F9 : b -> F6\n",
    "''')"
   ]
  },
  {
   "cell_type": "code",
   "execution_count": null,
   "metadata": {
    "run_control": {
     "frozen": false,
     "read_only": false
    }
   },
   "outputs": [],
   "source": [
    "DOblimp = dotObj_dfa(blimp)"
   ]
  },
  {
   "cell_type": "code",
   "execution_count": null,
   "metadata": {
    "run_control": {
     "frozen": false,
     "read_only": false
    }
   },
   "outputs": [],
   "source": [
    "DOblimp"
   ]
  },
  {
   "cell_type": "code",
   "execution_count": null,
   "metadata": {
    "run_control": {
     "frozen": false,
     "read_only": false
    }
   },
   "outputs": [],
   "source": [
    "dotObj_dfa(blimp, FuseEdges=True)"
   ]
  },
  {
   "cell_type": "markdown",
   "metadata": {
    "run_control": {
     "frozen": false,
     "read_only": false
    }
   },
   "source": [
    "# Classical minimization results in the following"
   ]
  },
  {
   "cell_type": "code",
   "execution_count": null,
   "metadata": {
    "run_control": {
     "frozen": false,
     "read_only": false
    }
   },
   "outputs": [],
   "source": [
    "classic_min = min_dfa(blimp)\n",
    "dotObj_dfa(classic_min)"
   ]
  },
  {
   "cell_type": "markdown",
   "metadata": {
    "run_control": {
     "frozen": false,
     "read_only": false
    }
   },
   "source": [
    "# Now let's study Brzozowski minimization; its code is a one-liner!"
   ]
  },
  {
   "cell_type": "code",
   "execution_count": null,
   "metadata": {
    "run_control": {
     "frozen": false,
     "read_only": false
    }
   },
   "outputs": [],
   "source": [
    "# Brzozowski Minimizer code\n",
    "def min_dfa_brz(D):\n",
    "    \"\"\"Minimize a DFA as per Brzozowski's algorithm.\n",
    "    \"\"\"\n",
    "    return nfa2dfa(rev_dfa(nfa2dfa(rev_dfa(D))))"
   ]
  },
  {
   "cell_type": "markdown",
   "metadata": {
    "run_control": {
     "frozen": false,
     "read_only": false
    }
   },
   "source": [
    "## Step 1: Reverse the given DFA"
   ]
  },
  {
   "cell_type": "code",
   "execution_count": null,
   "metadata": {
    "run_control": {
     "frozen": false,
     "read_only": false
    },
    "scrolled": true
   },
   "outputs": [],
   "source": [
    "rblimp = rev_dfa(blimp)\n",
    "DOrblimp = dotObj_nfa(rblimp)\n",
    "DOrblimp"
   ]
  },
  {
   "cell_type": "code",
   "execution_count": null,
   "metadata": {
    "run_control": {
     "frozen": false,
     "read_only": false
    }
   },
   "outputs": [],
   "source": [
    "dotObj_nfa(rblimp, FuseEdges=True)"
   ]
  },
  {
   "cell_type": "markdown",
   "metadata": {
    "run_control": {
     "frozen": false,
     "read_only": false
    }
   },
   "source": [
    "## Step 2: Determinize the result of Step 1"
   ]
  },
  {
   "cell_type": "code",
   "execution_count": null,
   "metadata": {
    "run_control": {
     "frozen": false,
     "read_only": false
    }
   },
   "outputs": [],
   "source": [
    "drblimp = nfa2dfa(rblimp)\n",
    "drblimp"
   ]
  },
  {
   "cell_type": "code",
   "execution_count": null,
   "metadata": {
    "run_control": {
     "frozen": false,
     "read_only": false
    }
   },
   "outputs": [],
   "source": [
    "DOdrblimp = dotObj_dfa(drblimp)\n",
    "DOdrblimp"
   ]
  },
  {
   "cell_type": "markdown",
   "metadata": {
    "run_control": {
     "frozen": false,
     "read_only": false
    }
   },
   "source": [
    "## Step 3: Reverse the result of Step 2"
   ]
  },
  {
   "cell_type": "code",
   "execution_count": null,
   "metadata": {
    "run_control": {
     "frozen": false,
     "read_only": false
    }
   },
   "outputs": [],
   "source": [
    "rdrblimp = rev_dfa(drblimp)\n",
    "DOrdrblimp = dotObj_nfa(rdrblimp)\n",
    "DOrdrblimp"
   ]
  },
  {
   "cell_type": "markdown",
   "metadata": {
    "run_control": {
     "frozen": false,
     "read_only": false
    }
   },
   "source": [
    "## Step 4: Determinize the result of Step 3"
   ]
  },
  {
   "cell_type": "code",
   "execution_count": null,
   "metadata": {
    "run_control": {
     "frozen": false,
     "read_only": false
    }
   },
   "outputs": [],
   "source": [
    "drdrblimp = nfa2dfa(rdrblimp)\n",
    "DOdrdrblimp = dotObj_dfa(drdrblimp)\n",
    "DOdrdrblimp"
   ]
  },
  {
   "cell_type": "markdown",
   "metadata": {
    "run_control": {
     "frozen": false,
     "read_only": false
    }
   },
   "source": [
    "## End result is isomorphic!"
   ]
  },
  {
   "cell_type": "code",
   "execution_count": null,
   "metadata": {
    "run_control": {
     "frozen": false,
     "read_only": false
    }
   },
   "outputs": [],
   "source": [
    "iso_dfa(drdrblimp, classic_min)"
   ]
  },
  {
   "cell_type": "markdown",
   "metadata": {
    "run_control": {
     "frozen": false,
     "read_only": false
    }
   },
   "source": [
    "# RE to NFA"
   ]
  },
  {
   "cell_type": "code",
   "execution_count": null,
   "metadata": {
    "run_control": {
     "frozen": false,
     "read_only": false
    }
   },
   "outputs": [],
   "source": [
    "dotObj_nfa(re2nfa(\"''\"))"
   ]
  },
  {
   "cell_type": "code",
   "execution_count": null,
   "metadata": {
    "run_control": {
     "frozen": false,
     "read_only": false
    }
   },
   "outputs": [],
   "source": [
    "dotObj_nfa(re2nfa(\"a\"))"
   ]
  },
  {
   "cell_type": "code",
   "execution_count": null,
   "metadata": {
    "run_control": {
     "frozen": false,
     "read_only": false
    }
   },
   "outputs": [],
   "source": [
    "dotObj_nfa(re2nfa(\"ab\"))"
   ]
  },
  {
   "cell_type": "code",
   "execution_count": null,
   "metadata": {
    "run_control": {
     "frozen": false,
     "read_only": false
    }
   },
   "outputs": [],
   "source": [
    "dotObj_nfa(re2nfa(\"a+b\"))"
   ]
  },
  {
   "cell_type": "code",
   "execution_count": null,
   "metadata": {
    "run_control": {
     "frozen": false,
     "read_only": false
    }
   },
   "outputs": [],
   "source": [
    "dotObj_nfa(re2nfa(\"a*\"))"
   ]
  },
  {
   "cell_type": "code",
   "execution_count": null,
   "metadata": {
    "run_control": {
     "frozen": false,
     "read_only": false
    }
   },
   "outputs": [],
   "source": [
    "dotObj_nfa(re2nfa(\"''*\"))"
   ]
  },
  {
   "cell_type": "code",
   "execution_count": null,
   "metadata": {
    "run_control": {
     "frozen": false,
     "read_only": false
    }
   },
   "outputs": [],
   "source": [
    "nfromr = re2nfa(\"ab(a+b)*\")"
   ]
  },
  {
   "cell_type": "code",
   "execution_count": null,
   "metadata": {
    "run_control": {
     "frozen": false,
     "read_only": false
    }
   },
   "outputs": [],
   "source": [
    "dotObj_nfa(nfromr)"
   ]
  },
  {
   "cell_type": "code",
   "execution_count": null,
   "metadata": {
    "run_control": {
     "frozen": false,
     "read_only": false
    }
   },
   "outputs": [],
   "source": [
    "mk_gnfa"
   ]
  },
  {
   "cell_type": "code",
   "execution_count": null,
   "metadata": {
    "run_control": {
     "frozen": false,
     "read_only": false
    }
   },
   "outputs": [],
   "source": [
    "help(mk_gnfa)"
   ]
  },
  {
   "cell_type": "code",
   "execution_count": null,
   "metadata": {
    "run_control": {
     "frozen": false,
     "read_only": false
    }
   },
   "outputs": [],
   "source": [
    "gnfromr = mk_gnfa(nfromr)\n",
    "dotObj_gnfa(gnfromr)"
   ]
  },
  {
   "cell_type": "code",
   "execution_count": null,
   "metadata": {
    "run_control": {
     "frozen": false,
     "read_only": false
    }
   },
   "outputs": [],
   "source": [
    "del_gnfa_states"
   ]
  },
  {
   "cell_type": "code",
   "execution_count": null,
   "metadata": {
    "run_control": {
     "frozen": false,
     "read_only": false
    }
   },
   "outputs": [],
   "source": [
    "help(del_gnfa_states)"
   ]
  },
  {
   "cell_type": "code",
   "execution_count": null,
   "metadata": {
    "run_control": {
     "frozen": false,
     "read_only": false
    }
   },
   "outputs": [],
   "source": [
    "(Gf, DO, RE) = del_gnfa_states(gnfromr)"
   ]
  },
  {
   "cell_type": "code",
   "execution_count": null,
   "metadata": {
    "run_control": {
     "frozen": false,
     "read_only": false
    }
   },
   "outputs": [],
   "source": [
    "RE"
   ]
  },
  {
   "cell_type": "code",
   "execution_count": null,
   "metadata": {
    "run_control": {
     "frozen": false,
     "read_only": false
    }
   },
   "outputs": [],
   "source": [
    "DO[0]"
   ]
  },
  {
   "cell_type": "code",
   "execution_count": null,
   "metadata": {
    "run_control": {
     "frozen": false,
     "read_only": false
    }
   },
   "outputs": [],
   "source": [
    "DO[6]"
   ]
  },
  {
   "cell_type": "code",
   "execution_count": null,
   "metadata": {
    "run_control": {
     "frozen": false,
     "read_only": false
    }
   },
   "outputs": [],
   "source": [
    "dotObj_nfa(re2nfa(\"''\"))"
   ]
  },
  {
   "cell_type": "code",
   "execution_count": null,
   "metadata": {
    "run_control": {
     "frozen": false,
     "read_only": false
    }
   },
   "outputs": [],
   "source": [
    "\n",
    "\n",
    "\n"
   ]
  },
  {
   "cell_type": "code",
   "execution_count": null,
   "metadata": {
    "run_control": {
     "frozen": false,
     "read_only": false
    }
   },
   "outputs": [],
   "source": [
    "dotObj_nfa(re2nfa(\"a\"))"
   ]
  },
  {
   "cell_type": "code",
   "execution_count": null,
   "metadata": {
    "run_control": {
     "frozen": false,
     "read_only": false
    }
   },
   "outputs": [],
   "source": [
    "dotObj_nfa(re2nfa('ab'))"
   ]
  },
  {
   "cell_type": "code",
   "execution_count": null,
   "metadata": {
    "run_control": {
     "frozen": false,
     "read_only": false
    }
   },
   "outputs": [],
   "source": [
    "dotObj_nfa(re2nfa(\"a*\"))"
   ]
  },
  {
   "cell_type": "markdown",
   "metadata": {
    "run_control": {
     "frozen": false,
     "read_only": false
    }
   },
   "source": [
    "$\\varepsilon$"
   ]
  },
  {
   "cell_type": "code",
   "execution_count": null,
   "metadata": {
    "run_control": {
     "frozen": false,
     "read_only": false
    }
   },
   "outputs": [],
   "source": [
    "dotObj_nfa(re2nfa(\"a(a+b)*b\"))"
   ]
  },
  {
   "cell_type": "code",
   "execution_count": null,
   "metadata": {
    "run_control": {
     "frozen": false,
     "read_only": false
    }
   },
   "outputs": [],
   "source": [
    "dotObj_nfa(re2nfa(\"dotObj_nfa(re2nfa(\"''\"))a+b\"))"
   ]
  },
  {
   "cell_type": "code",
   "execution_count": null,
   "metadata": {
    "run_control": {
     "frozen": false,
     "read_only": false
    }
   },
   "outputs": [],
   "source": [
    "dotObj_dfa(min_dfa(nfa2dfa(re2nfa(\"(0+1)*1(0+1)(0+1)\"))))"
   ]
  },
  {
   "cell_type": "code",
   "execution_count": null,
   "metadata": {
    "run_control": {
     "frozen": false,
     "read_only": false
    }
   },
   "outputs": [],
   "source": [
    "dotObj_dfa(min_dfa(nfa2dfa(re2nfa(\"(0+1)*1(0+1)(0+1)(0+1)(0+1)(0+1)\"))))"
   ]
  },
  {
   "cell_type": "code",
   "execution_count": null,
   "metadata": {
    "run_control": {
     "frozen": false,
     "read_only": false
    }
   },
   "outputs": [],
   "source": [
    "len(min_dfa(nfa2dfa(re2nfa(\"(0+1)*1(0+1)(0+1)(0+1)(0+1)(0+1)(0+1)\")))[\"Q\"])"
   ]
  },
  {
   "cell_type": "code",
   "execution_count": null,
   "metadata": {
    "run_control": {
     "frozen": false,
     "read_only": false
    }
   },
   "outputs": [],
   "source": []
  },
  {
   "cell_type": "code",
   "execution_count": null,
   "metadata": {
    "run_control": {
     "frozen": false,
     "read_only": false
    }
   },
   "outputs": [],
   "source": [
    "dotObj_nfa(re2nfa(\"''\"))"
   ]
  },
  {
   "cell_type": "markdown",
   "metadata": {},
   "source": [
    "# Split the cells below into separate cells and run\n",
    "\n",
    "This way, you can observe the results after each command"
   ]
  },
  {
   "cell_type": "code",
   "execution_count": null,
   "metadata": {
    "run_control": {
     "frozen": false,
     "read_only": false
    }
   },
   "outputs": [],
   "source": [
    "dotObj_nfa(re2nfa(\"a\"))\n",
    "\n",
    "dotObj_nfa(re2nfa(\"  (10)* (11)  \"))\n",
    "\n",
    "re2nfa(\"  (10)* (11)  \")\n",
    "\n",
    "NFA1 = re2nfa(\"   (a+b+c)(p+q)*(m+n) \" )\n",
    "\n",
    "dotObj_nfa(mk_gnfa(NFA1))\n",
    "\n",
    "GNFA1 = mk_gnfa(NFA1)\n",
    "\n",
    "(Gnfa_fina, DO, REfinal) = del_gnfa_states(GNFA1)\n",
    "\n",
    "REfinal\n",
    "\n",
    "DO[0]\n",
    "\n",
    "DO[1]\n",
    "\n",
    "DO[2]\n",
    "\n",
    "DO[5]\n",
    "\n",
    "len(DO)\n",
    "\n",
    "DO[13]\n",
    "\n",
    "DO[15]\n",
    "\n",
    "dotObj_dfa(comp_dfa(min_dfa(nfa2dfa(re2nfa(\" (1+0)*(111+000+100+010+001)(1+0)* \")))))"
   ]
  },
  {
   "cell_type": "code",
   "execution_count": null,
   "metadata": {
    "run_control": {
     "frozen": false,
     "read_only": false
    }
   },
   "outputs": [],
   "source": [
    "dotObj_nfa(re2nfa(\"''\"))\n",
    "\n",
    "dotObj_nfa(re2nfa(\"a\"))\n",
    "\n",
    "dotObj_nfa(re2nfa(\"ab\"))\n",
    "\n",
    "dotObj_nfa(re2nfa(\"a+b\"))\n",
    "\n",
    "dotObj_nfa(re2nfa(\"a*\"))\n",
    "\n",
    "dotObj_nfa(re2nfa(\"''*\"))\n",
    "\n",
    "nfromr = re2nfa(\"ab(a+b)*\")\n",
    "\n",
    "dotObj_nfa(nfromr)\n",
    "\n",
    "dotObj_nfa(re2nfa(\"(01)*1+0\"))"
   ]
  },
  {
   "cell_type": "code",
   "execution_count": null,
   "metadata": {
    "run_control": {
     "frozen": false,
     "read_only": false
    }
   },
   "outputs": [],
   "source": [
    "mk_gnfa\n",
    "\n",
    "help(mk_gnfa)\n",
    "\n",
    "gnfromr = mk_gnfa(nfromr)\n",
    "dotObj_gnfa(gnfromr)\n",
    "\n",
    "del_gnfa_states\n",
    "\n",
    "help(del_gnfa_states)\n",
    "\n",
    "(Gf, DO, RE) = del_gnfa_states(gnfromr)\n",
    "\n",
    "RE\n",
    "\n",
    "DO[0]\n",
    "\n",
    "DO[6]\n",
    "\n",
    "\n",
    "\n",
    "DO[7]\n",
    "\n",
    "DO[8]\n",
    "\n",
    "DO[9]\n",
    "\n",
    "dotObj_dfa(min_dfa(nfa2dfa(re2nfa(RE))))"
   ]
  },
  {
   "cell_type": "markdown",
   "metadata": {
    "run_control": {
     "frozen": false,
     "read_only": false
    }
   },
   "source": [
    "# Review of Jove's capabilities\n",
    "\n",
    "Jove helps teach models of computation using Jupyter \n",
    "\n",
    "Included are modules on:\n",
    "\n",
    "* Sets, strings and languages\n",
    "* Language operations\n",
    "* Construction of and operations on DFA and NFA\n",
    "* Regular expression parsing and automata inter-conversion\n",
    "* Derivate-based parsing\n",
    "* Pushdown automata\n",
    "* The construction of parsers using context-free productions, including\n",
    "  a full lexer/parser for Jove's own markdown syntax\n",
    "* Studies of parsing: ambiguity, associativity, precedence\n",
    "* Turing machines (including one for the Collatz problem)\n",
    "\n",
    "For a complete Jove top-level reference, kindly refer to https://github.com/ganeshutah/Jove from where you can download and obtain Jove. You can also visit this Github link now and poke around (the NBViewer will display the contents).\n",
    "\n",
    "Once you are in the top-level Gallery link we provide, feel free to explore the hierarchy of modules found there.\n",
    "\n",
    "These notebooks should give you an idea of the contents.\n",
    "\n",
    "* [DFA Illustrations (has a Youtube)](http://nbviewer.jupyter.org/github/ganeshutah/Jove/blob/master/notebooks/tutorial/DFAUnit2.ipynb)\n",
    "\n",
    "* [Regular Operations](http://nbviewer.jupyter.org/github/ganeshutah/Jove/blob/master/notebooks/driver/Drive_AllRegularOps.ipynb)\n",
    "\n",
    "* [PDA Operations](http://nbviewer.jupyter.org/github/ganeshutah/Jove/blob/master/notebooks/driver/Drive_PDA_Based_Parsing.ipynb)\n",
    "\n",
    "* [TM Operations](http://nbviewer.jupyter.org/github/ganeshutah/Jove/blob/master/notebooks/driver/Drive_TM.ipynb)"
   ]
  },
  {
   "cell_type": "code",
   "execution_count": null,
   "metadata": {
    "run_control": {
     "frozen": false,
     "read_only": false
    }
   },
   "outputs": [],
   "source": [
    "# This Youtube video walks through this notebook\n",
    "from IPython.display import YouTubeVideo\n",
    "YouTubeVideo('L6l3c17mpi4')"
   ]
  },
  {
   "cell_type": "markdown",
   "metadata": {},
   "source": [
    "# Minimization done two different ways"
   ]
  },
  {
   "cell_type": "code",
   "execution_count": null,
   "metadata": {},
   "outputs": [],
   "source": []
  },
  {
   "cell_type": "code",
   "execution_count": null,
   "metadata": {
    "run_control": {
     "frozen": false,
     "read_only": false
    }
   },
   "outputs": [],
   "source": [
    "RE_Ex3z = \"1* 0 1* 0 1* 0 1* + (0* 1 0* (1 0* 1 0*)*)\"\n",
    "NFA_Ex3z = re2nfa(RE_Ex3z)\n",
    "DO_Ex3z  = dotObj_dfa(min_dfa(nfa2dfa(NFA_Ex3z)))\n",
    "DO_Ex3z\n",
    "\n",
    "# The above example, with min_dfa replaced by the rev;det;rev;det\n",
    "\n",
    "DofNFA_Ex3z = nfa2dfa(re2nfa(\"1* 0 1* 0 1* 0 1* + (0* 1 0* (1 0* 1 0*)*)\"))\n",
    "dotObj_dfa(DofNFA_Ex3z)\n",
    "dotObj_dfa(DofNFA_Ex3z)\n",
    "minDofNFA_Ex3z = nfa2dfa(rev_dfa(nfa2dfa(rev_dfa(DofNFA_Ex3z))))"
   ]
  },
  {
   "cell_type": "code",
   "execution_count": null,
   "metadata": {},
   "outputs": [],
   "source": []
  },
  {
   "cell_type": "markdown",
   "metadata": {
    "run_control": {
     "frozen": false,
     "read_only": false
    }
   },
   "source": [
    "# Postage Stamp Problem solved using RE and min_dfa\n",
    "\n",
    "The postage-stamp problem tries to answer the following question (typically posed wrt two postage stamp denominations that are relatively prime)\n",
    "\n",
    "* Given an unlimited supply of x cent stamps and an unlimited supply of y cent stamps\n",
    "\n",
    "  - where x and y are relatively prime\n",
    "  \n",
    "* Find out the largest denomination that you CANNOT make\n",
    "\n",
    "* E.g., given 3 cent and 5 cent stamps (x=3, y=5)\n",
    "\n",
    "  - Check they are relatively prime\n",
    "  \n",
    "    * Their GCD must be 1\n",
    "    \n",
    "  - Check!\n",
    "  \n",
    "* What is the largest postage that CANNOT be made using just 3 and 5 cents?\n",
    "\n",
    "* Approaches:\n",
    "\n",
    "  - Trial and error\n",
    "  \n",
    "    * 0, 3, 3+3, 3+5, 5+3, 5+5, 5+5+3, ...\n",
    "    \n",
    "  - Traditional math books:\n",
    "  \n",
    "    * Use Sylvester's theorem to find the Frobenius number\n",
    "    \n",
    "  - What I observed about a decade ago (have checked with a few experts and while it is   \"out there in the air\", nobody had seen it written down...)\n",
    "  \n",
    "    * We can use minimal DFA!\n",
    "\n",
    "    * My approach easily extends to more than two stamps!\n",
    "    \n",
    "  - General problem is hard, but has beautiful complexity-theory connections\n",
    "  \n",
    "* Onto solving!\n",
    "\n",
    "## Related Problem: McNugget problem (McNugget Number).\n",
    "A McNugget number is a positive integer that can be obtained by adding together orders of McDonald's® Chicken McNuggetsTM (prior to consuming any), which originally came in boxes of 6, 9, and 20 (Vardi 1991, pp. 19-20 and 233-234; Wah and Picciotto 1994, p. 186).\n",
    "\n",
    "__We can find the McNugget Number also using my method !! __\n",
    "\n",
    "We will do this after solving the postage stamp problem\n",
    "\n",
    "The numbers are not relatively prime\n",
    "\n",
    "You will observe something cool when you approach the McNugget problem using REs !!"
   ]
  },
  {
   "cell_type": "code",
   "execution_count": null,
   "metadata": {
    "run_control": {
     "frozen": false,
     "read_only": false
    }
   },
   "outputs": [],
   "source": [
    "# What's the largest postage that can't be made using 3,5 and 7 cents?\n",
    "\n",
    "# Answer is 4. Find it out.\n",
    "\n",
    "dotObj_dfa(min_dfa_brz(nfa2dfa(re2nfa(\"(111+11111+1111111)*\"))))"
   ]
  }
 ],
 "metadata": {
  "kernelspec": {
   "display_name": "Python 3",
   "language": "python",
   "name": "python3"
  },
  "language_info": {
   "codemirror_mode": {
    "name": "ipython",
    "version": 3
   },
   "file_extension": ".py",
   "mimetype": "text/x-python",
   "name": "python",
   "nbconvert_exporter": "python",
   "pygments_lexer": "ipython3",
   "version": "3.6.0"
  },
  "toc": {
   "colors": {
    "hover_highlight": "#DAA520",
    "running_highlight": "#FF0000",
    "selected_highlight": "#FFD700"
   },
   "moveMenuLeft": true,
   "nav_menu": {
    "height": "318px",
    "width": "252px"
   },
   "navigate_menu": true,
   "number_sections": true,
   "sideBar": true,
   "threshold": 4,
   "toc_cell": false,
   "toc_section_display": "block",
   "toc_window_display": false,
   "widenNotebook": false
  }
 },
 "nbformat": 4,
 "nbformat_minor": 2
}
