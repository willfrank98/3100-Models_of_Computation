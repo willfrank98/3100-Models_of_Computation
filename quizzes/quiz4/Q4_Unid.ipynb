{
 "cells": [
  {
   "cell_type": "markdown",
   "metadata": {
    "run_control": {
     "frozen": false,
     "read_only": false
    }
   },
   "source": [
    "# Quiz-4\n",
    "\n",
    "Goals:\n",
    "\n",
    "* Learn about NFA\n",
    "* Learn Brzozowski's minimization algorithm for DFA\n",
    "  - Involves DFA reversal which generates NFA\n",
    "* Learn about regular expressions and relationship with NFA\n",
    "* Become proficient with these topics, especially in light of Asg-2 and MT-1\n",
    "\n",
    "Submission:\n",
    "\n",
    "* Clear demonstration that you ran this notebook and made observations\n",
    "\n",
    "* Please make your observations by adding markdown cells\n",
    "\n",
    "* Points will be based on a significant number of observations pertaining to each new algorithm or idea\n",
    "\n",
    "  - No need to add observations about concepts and ideas that are illustrated on a second or third example. Just do it for the first occurrence."
   ]
  },
  {
   "cell_type": "code",
   "execution_count": 1,
   "metadata": {
    "run_control": {
     "frozen": false,
     "read_only": false
    }
   },
   "outputs": [
    {
     "data": {
      "image/jpeg": "[encoded data removed]",
      "text/html": [
       "\n",
       "        <iframe\n",
       "            width=\"400\"\n",
       "            height=\"300\"\n",
       "            src=\"https://www.youtube.com/embed/xjFtLF95uBc\"\n",
       "            frameborder=\"0\"\n",
       "            allowfullscreen\n",
       "        ></iframe>\n",
       "        "
      ],
      "text/plain": [
       "<IPython.lib.display.YouTubeVideo at 0x1fb7fd15ac8>"
      ]
     },
     "execution_count": 1,
     "metadata": {},
     "output_type": "execute_result"
    }
   ],
   "source": [
    "# PLAY this Youtube to know how to use the contents of this file + follow some of the Def_DFA.ipynb defns\n",
    "# The notebook that is mentioned in this Youtube video may be found\n",
    "# on the Git repo\n",
    "\n",
    "from IPython.display import YouTubeVideo\n",
    "YouTubeVideo('xjFtLF95uBc')"
   ]
  },
  {
   "cell_type": "code",
   "execution_count": 2,
   "metadata": {
    "run_control": {
     "frozen": false,
     "read_only": false
    }
   },
   "outputs": [
    {
     "name": "stdout",
     "output_type": "stream",
     "text": [
      "You may use any of these help commands:\n",
      "help(ResetStNum)\n",
      "help(NxtStateStr)\n",
      "\n",
      "You may use any of these help commands:\n",
      "help(md2mc)\n",
      ".. and if you want to dig more, then ..\n",
      "help(default_line_attr)\n",
      "help(length_ok_input_items)\n",
      "help(union_line_attr_list_fld)\n",
      "help(extend_rsltdict)\n",
      "help(form_delta)\n",
      "help(get_machine_components)\n",
      "\n",
      "You may use any of these help commands:\n",
      "help(mkp_dfa)\n",
      "help(mk_dfa)\n",
      "help(totalize_dfa)\n",
      "help(addtosigma_delta)\n",
      "help(step_dfa)\n",
      "help(run_dfa)\n",
      "help(accepts_dfa)\n",
      "help(comp_dfa)\n",
      "help(union_dfa)\n",
      "help(intersect_dfa)\n",
      "help(pruneUnreach)\n",
      "help(iso_dfa)\n",
      "help(langeq_dfa)\n",
      "help(same_status)\n",
      "help(h_langeq_dfa)\n",
      "help(fixptDist)\n",
      "help(min_dfa)\n",
      "help(pairFR)\n",
      "help(state_combos)\n",
      "help(sepFinNonFin)\n",
      "help(bash_eql_classes)\n",
      "help(listminus)\n",
      "help(bash_1)\n",
      "help(mk_rep_eqc)\n",
      "help(F_of)\n",
      "help(rep_of_s)\n",
      "help(q0_of)\n",
      "help(Delta_of)\n",
      "help(mk_state_eqc_name)\n",
      "\n",
      "You may use any of these help commands:\n",
      "help(mk_nfa)\n",
      "help(totalize_nfa)\n",
      "help(step_nfa)\n",
      "help(run_nfa)\n",
      "help(ec_step_nfa)\n",
      "help(Eclosure)\n",
      "help(Echelp)\n",
      "help(accepts_nfa)\n",
      "help(nfa2dfa)\n",
      "help(n2d)\n",
      "help(inSets)\n",
      "help(rev_dfa)\n",
      "help(min_dfa_brz)\n",
      "\n",
      "You may use any of these help commands:\n",
      "help(re2nfa)\n",
      "\n",
      "You may use any of these help commands:\n",
      "help(RE2Str)\n",
      "help(mk_gnfa)\n",
      "help(mk_gnfa_from_D)\n",
      "help(dfa2nfa)\n",
      "help(del_gnfa_states)\n",
      "help(gnfa_w_REStr)\n",
      "help(del_one_gnfa_state)\n",
      "help(Edges_Exist_Via)\n",
      "help(choose_state_to_del)\n",
      "help(form_alt_RE)\n",
      "help(form_concat_RE)\n",
      "help(form_kleene_RE)\n",
      "\n"
     ]
    }
   ],
   "source": [
    "from jove.DotBashers import *\n",
    "from jove.Def_md2mc import *\n",
    "from jove.Def_NFA   import *\n",
    "from jove.Def_DFA   import *\n",
    "from jove.Def_RE2NFA    import *\n",
    "from jove.Def_NFA2RE    import *"
   ]
  },
  {
   "cell_type": "markdown",
   "metadata": {
    "run_control": {
     "frozen": false,
     "read_only": false
    }
   },
   "source": [
    "An NFA is a machine $(Q, \\Sigma, \\delta, Q_0, F)$ which is somewhat like a DFA \n",
    "except that \n",
    "\n",
    "1. It can start from a __set__ of starting states $Q_0$\n",
    "    > i.e., the NFA can start from more than one starting state\n",
    "    \n",
    "2. Its transition function $\\delta$ maps $Q\\times (\\Sigma\\cup \\{\\varepsilon\\})$ to $2^{Q}$\n",
    "    > i.e., the NFA takes a state $Q$ and a symbol and returns a set of states\n",
    "    \n",
    "You can see these aspects being illustrated in the NFA to follow"
   ]
  },
  {
   "cell_type": "markdown",
   "metadata": {
    "run_control": {
     "frozen": false,
     "read_only": false
    }
   },
   "source": [
    "# Limitations of DFA"
   ]
  },
  {
   "cell_type": "code",
   "execution_count": 3,
   "metadata": {
    "run_control": {
     "frozen": false,
     "read_only": false
    }
   },
   "outputs": [
    {
     "name": "stderr",
     "output_type": "stream",
     "text": [
      "Generating LALR tables\n"
     ]
    },
    {
     "data": {
      "image/svg+xml": [
       "<?xml version=\"1.0\" encoding=\"UTF-8\" standalone=\"no\"?>\r\n",
       "<!DOCTYPE svg PUBLIC \"-//W3C//DTD SVG 1.1//EN\"\r\n",
       " \"http://www.w3.org/Graphics/SVG/1.1/DTD/svg11.dtd\">\r\n",
       "<!-- Generated by graphviz version 2.38.0 (20140413.2041)\r\n",
       " -->\r\n",
       "<!-- Title: %3 Pages: 1 -->\r\n",
       "<svg width=\"311pt\" height=\"96pt\"\r\n",
       " viewBox=\"0.00 0.00 310.60 96.00\" xmlns=\"http://www.w3.org/2000/svg\" xmlns:xlink=\"http://www.w3.org/1999/xlink\">\r\n",
       "<g id=\"graph0\" class=\"graph\" transform=\"scale(1 1) rotate(0) translate(4 92)\">\r\n",
       "<title>%3</title>\r\n",
       "<polygon fill=\"white\" stroke=\"none\" points=\"-4,4 -4,-92 306.596,-92 306.596,4 -4,4\"/>\r\n",
       "<!-- EMPTY -->\r\n",
       "<g id=\"node1\" class=\"node\"><title>EMPTY</title>\r\n",
       "</g>\r\n",
       "<!-- I -->\r\n",
       "<g id=\"node3\" class=\"node\"><title>I</title>\r\n",
       "<ellipse fill=\"none\" stroke=\"black\" cx=\"109\" cy=\"-22\" rx=\"18\" ry=\"18\"/>\r\n",
       "<text text-anchor=\"middle\" x=\"109\" y=\"-18.3\" font-family=\"Times New Roman,serif\" font-size=\"14.00\">I</text>\r\n",
       "</g>\r\n",
       "<!-- EMPTY&#45;&gt;I -->\r\n",
       "<g id=\"edge1\" class=\"edge\"><title>EMPTY&#45;&gt;I</title>\r\n",
       "<path fill=\"none\" stroke=\"black\" d=\"M54.195,-22C62.6538,-22 72.0513,-22 80.5951,-22\"/>\r\n",
       "<polygon fill=\"black\" stroke=\"black\" points=\"80.8257,-25.5001 90.8257,-22 80.8257,-18.5001 80.8257,-25.5001\"/>\r\n",
       "</g>\r\n",
       "<!-- S0 -->\r\n",
       "<g id=\"node2\" class=\"node\"><title>S0</title>\r\n",
       "<ellipse fill=\"none\" stroke=\"black\" cx=\"190.798\" cy=\"-22\" rx=\"20.5982\" ry=\"20.5982\"/>\r\n",
       "<text text-anchor=\"middle\" x=\"190.798\" y=\"-18.3\" font-family=\"Times New Roman,serif\" font-size=\"14.00\">S0</text>\r\n",
       "</g>\r\n",
       "<!-- F -->\r\n",
       "<g id=\"node4\" class=\"node\"><title>F</title>\r\n",
       "<ellipse fill=\"none\" stroke=\"black\" cx=\"280.596\" cy=\"-22\" rx=\"18\" ry=\"18\"/>\r\n",
       "<ellipse fill=\"none\" stroke=\"black\" cx=\"280.596\" cy=\"-22\" rx=\"22\" ry=\"22\"/>\r\n",
       "<text text-anchor=\"middle\" x=\"280.596\" y=\"-18.3\" font-family=\"Times New Roman,serif\" font-size=\"14.00\">F</text>\r\n",
       "</g>\r\n",
       "<!-- S0&#45;&gt;F -->\r\n",
       "<g id=\"edge4\" class=\"edge\"><title>S0&#45;&gt;F</title>\r\n",
       "<path fill=\"none\" stroke=\"black\" d=\"M211.721,-22C222.521,-22 236.114,-22 248.294,-22\"/>\r\n",
       "<polygon fill=\"black\" stroke=\"black\" points=\"248.528,-25.5001 258.528,-22 248.528,-18.5001 248.528,-25.5001\"/>\r\n",
       "<text text-anchor=\"middle\" x=\"235.096\" y=\"-40.8\" font-family=\"Times New Roman,serif\" font-size=\"14.00\">0 </text>\r\n",
       "<text text-anchor=\"middle\" x=\"235.096\" y=\"-25.8\" font-family=\"Times New Roman,serif\" font-size=\"14.00\"> 1</text>\r\n",
       "</g>\r\n",
       "<!-- I&#45;&gt;S0 -->\r\n",
       "<g id=\"edge3\" class=\"edge\"><title>I&#45;&gt;S0</title>\r\n",
       "<path fill=\"none\" stroke=\"black\" d=\"M127.315,-22C136.833,-22 148.907,-22 159.9,-22\"/>\r\n",
       "<polygon fill=\"black\" stroke=\"black\" points=\"159.988,-25.5001 169.988,-22 159.988,-18.5001 159.988,-25.5001\"/>\r\n",
       "<text text-anchor=\"middle\" x=\"148.5\" y=\"-25.8\" font-family=\"Times New Roman,serif\" font-size=\"14.00\">1</text>\r\n",
       "</g>\r\n",
       "<!-- I&#45;&gt;I -->\r\n",
       "<g id=\"edge2\" class=\"edge\"><title>I&#45;&gt;I</title>\r\n",
       "<path fill=\"none\" stroke=\"black\" d=\"M102.621,-39.0373C101.319,-48.8579 103.445,-58 109,-58 112.472,-58 114.604,-54.4289 115.398,-49.3529\"/>\r\n",
       "<polygon fill=\"black\" stroke=\"black\" points=\"118.897,-49.031 115.379,-39.0373 111.897,-49.0435 118.897,-49.031\"/>\r\n",
       "<text text-anchor=\"middle\" x=\"109\" y=\"-76.8\" font-family=\"Times New Roman,serif\" font-size=\"14.00\">0 </text>\r\n",
       "<text text-anchor=\"middle\" x=\"109\" y=\"-61.8\" font-family=\"Times New Roman,serif\" font-size=\"14.00\"> 1</text>\r\n",
       "</g>\r\n",
       "</g>\r\n",
       "</svg>\r\n"
      ],
      "text/plain": [
       "<graphviz.dot.Digraph at 0x1fb009e3fd0>"
      ]
     },
     "execution_count": 3,
     "metadata": {},
     "output_type": "execute_result"
    }
   ],
   "source": [
    "secondlast = md2mc('''\n",
    "NFA\n",
    "I  : 0 -> I\n",
    "I  : 1 -> I, S0\n",
    "S0 : 0 | 1 -> F\n",
    "''')\n",
    "dotObj_nfa(secondlast, FuseEdges=True)"
   ]
  },
  {
   "cell_type": "code",
   "execution_count": 4,
   "metadata": {
    "run_control": {
     "frozen": false,
     "read_only": false
    }
   },
   "outputs": [
    {
     "data": {
      "image/svg+xml": [
       "<?xml version=\"1.0\" encoding=\"UTF-8\" standalone=\"no\"?>\r\n",
       "<!DOCTYPE svg PUBLIC \"-//W3C//DTD SVG 1.1//EN\"\r\n",
       " \"http://www.w3.org/Graphics/SVG/1.1/DTD/svg11.dtd\">\r\n",
       "<!-- Generated by graphviz version 2.38.0 (20140413.2041)\r\n",
       " -->\r\n",
       "<!-- Title: %3 Pages: 1 -->\r\n",
       "<svg width=\"399pt\" height=\"96pt\"\r\n",
       " viewBox=\"0.00 0.00 399.19 96.00\" xmlns=\"http://www.w3.org/2000/svg\" xmlns:xlink=\"http://www.w3.org/1999/xlink\">\r\n",
       "<g id=\"graph0\" class=\"graph\" transform=\"scale(1 1) rotate(0) translate(4 92)\">\r\n",
       "<title>%3</title>\r\n",
       "<polygon fill=\"white\" stroke=\"none\" points=\"-4,4 -4,-92 395.193,-92 395.193,4 -4,4\"/>\r\n",
       "<!-- EMPTY -->\r\n",
       "<g id=\"node1\" class=\"node\"><title>EMPTY</title>\r\n",
       "</g>\r\n",
       "<!-- I -->\r\n",
       "<g id=\"node4\" class=\"node\"><title>I</title>\r\n",
       "<ellipse fill=\"none\" stroke=\"black\" cx=\"109\" cy=\"-22\" rx=\"18\" ry=\"18\"/>\r\n",
       "<text text-anchor=\"middle\" x=\"109\" y=\"-18.3\" font-family=\"Times New Roman,serif\" font-size=\"14.00\">I</text>\r\n",
       "</g>\r\n",
       "<!-- EMPTY&#45;&gt;I -->\r\n",
       "<g id=\"edge1\" class=\"edge\"><title>EMPTY&#45;&gt;I</title>\r\n",
       "<path fill=\"none\" stroke=\"black\" d=\"M54.195,-22C62.6538,-22 72.0513,-22 80.5951,-22\"/>\r\n",
       "<polygon fill=\"black\" stroke=\"black\" points=\"80.8257,-25.5001 90.8257,-22 80.8257,-18.5001 80.8257,-25.5001\"/>\r\n",
       "</g>\r\n",
       "<!-- S0 -->\r\n",
       "<g id=\"node2\" class=\"node\"><title>S0</title>\r\n",
       "<ellipse fill=\"none\" stroke=\"black\" cx=\"190.798\" cy=\"-22\" rx=\"20.5982\" ry=\"20.5982\"/>\r\n",
       "<text text-anchor=\"middle\" x=\"190.798\" y=\"-18.3\" font-family=\"Times New Roman,serif\" font-size=\"14.00\">S0</text>\r\n",
       "</g>\r\n",
       "<!-- S1 -->\r\n",
       "<g id=\"node3\" class=\"node\"><title>S1</title>\r\n",
       "<ellipse fill=\"none\" stroke=\"black\" cx=\"279.394\" cy=\"-22\" rx=\"20.5982\" ry=\"20.5982\"/>\r\n",
       "<text text-anchor=\"middle\" x=\"279.394\" y=\"-18.3\" font-family=\"Times New Roman,serif\" font-size=\"14.00\">S1</text>\r\n",
       "</g>\r\n",
       "<!-- S0&#45;&gt;S1 -->\r\n",
       "<g id=\"edge4\" class=\"edge\"><title>S0&#45;&gt;S1</title>\r\n",
       "<path fill=\"none\" stroke=\"black\" d=\"M211.883,-22C222.703,-22 236.269,-22 248.323,-22\"/>\r\n",
       "<polygon fill=\"black\" stroke=\"black\" points=\"248.419,-25.5001 258.419,-22 248.419,-18.5001 248.419,-25.5001\"/>\r\n",
       "<text text-anchor=\"middle\" x=\"235.096\" y=\"-40.8\" font-family=\"Times New Roman,serif\" font-size=\"14.00\">0 </text>\r\n",
       "<text text-anchor=\"middle\" x=\"235.096\" y=\"-25.8\" font-family=\"Times New Roman,serif\" font-size=\"14.00\"> 1</text>\r\n",
       "</g>\r\n",
       "<!-- F -->\r\n",
       "<g id=\"node5\" class=\"node\"><title>F</title>\r\n",
       "<ellipse fill=\"none\" stroke=\"black\" cx=\"369.193\" cy=\"-22\" rx=\"18\" ry=\"18\"/>\r\n",
       "<ellipse fill=\"none\" stroke=\"black\" cx=\"369.193\" cy=\"-22\" rx=\"22\" ry=\"22\"/>\r\n",
       "<text text-anchor=\"middle\" x=\"369.193\" y=\"-18.3\" font-family=\"Times New Roman,serif\" font-size=\"14.00\">F</text>\r\n",
       "</g>\r\n",
       "<!-- S1&#45;&gt;F -->\r\n",
       "<g id=\"edge5\" class=\"edge\"><title>S1&#45;&gt;F</title>\r\n",
       "<path fill=\"none\" stroke=\"black\" d=\"M300.317,-22C311.117,-22 324.711,-22 336.89,-22\"/>\r\n",
       "<polygon fill=\"black\" stroke=\"black\" points=\"337.124,-25.5001 347.124,-22 337.124,-18.5001 337.124,-25.5001\"/>\r\n",
       "<text text-anchor=\"middle\" x=\"323.693\" y=\"-40.8\" font-family=\"Times New Roman,serif\" font-size=\"14.00\">0 </text>\r\n",
       "<text text-anchor=\"middle\" x=\"323.693\" y=\"-25.8\" font-family=\"Times New Roman,serif\" font-size=\"14.00\"> 1</text>\r\n",
       "</g>\r\n",
       "<!-- I&#45;&gt;S0 -->\r\n",
       "<g id=\"edge3\" class=\"edge\"><title>I&#45;&gt;S0</title>\r\n",
       "<path fill=\"none\" stroke=\"black\" d=\"M127.315,-22C136.833,-22 148.907,-22 159.9,-22\"/>\r\n",
       "<polygon fill=\"black\" stroke=\"black\" points=\"159.988,-25.5001 169.988,-22 159.988,-18.5001 159.988,-25.5001\"/>\r\n",
       "<text text-anchor=\"middle\" x=\"148.5\" y=\"-25.8\" font-family=\"Times New Roman,serif\" font-size=\"14.00\">1</text>\r\n",
       "</g>\r\n",
       "<!-- I&#45;&gt;I -->\r\n",
       "<g id=\"edge2\" class=\"edge\"><title>I&#45;&gt;I</title>\r\n",
       "<path fill=\"none\" stroke=\"black\" d=\"M102.621,-39.0373C101.319,-48.8579 103.445,-58 109,-58 112.472,-58 114.604,-54.4289 115.398,-49.3529\"/>\r\n",
       "<polygon fill=\"black\" stroke=\"black\" points=\"118.897,-49.031 115.379,-39.0373 111.897,-49.0435 118.897,-49.031\"/>\r\n",
       "<text text-anchor=\"middle\" x=\"109\" y=\"-76.8\" font-family=\"Times New Roman,serif\" font-size=\"14.00\">0 </text>\r\n",
       "<text text-anchor=\"middle\" x=\"109\" y=\"-61.8\" font-family=\"Times New Roman,serif\" font-size=\"14.00\"> 1</text>\r\n",
       "</g>\r\n",
       "</g>\r\n",
       "</svg>\r\n"
      ],
      "text/plain": [
       "<graphviz.dot.Digraph at 0x1fb00c5d7b8>"
      ]
     },
     "execution_count": 4,
     "metadata": {},
     "output_type": "execute_result"
    }
   ],
   "source": [
    "thirdlast = md2mc('''\n",
    "NFA\n",
    "I  : 0 -> I\n",
    "I  : 1 -> I, S0\n",
    "S0 : 0 | 1 -> S1\n",
    "S1 : 0 | 1 -> F\n",
    "''')\n",
    "dotObj_nfa(thirdlast, FuseEdges=True)"
   ]
  },
  {
   "cell_type": "code",
   "execution_count": 5,
   "metadata": {
    "run_control": {
     "frozen": false,
     "read_only": false
    }
   },
   "outputs": [
    {
     "data": {
      "image/svg+xml": [
       "<?xml version=\"1.0\" encoding=\"UTF-8\" standalone=\"no\"?>\r\n",
       "<!DOCTYPE svg PUBLIC \"-//W3C//DTD SVG 1.1//EN\"\r\n",
       " \"http://www.w3.org/Graphics/SVG/1.1/DTD/svg11.dtd\">\r\n",
       "<!-- Generated by graphviz version 2.38.0 (20140413.2041)\r\n",
       " -->\r\n",
       "<!-- Title: %3 Pages: 1 -->\r\n",
       "<svg width=\"488pt\" height=\"96pt\"\r\n",
       " viewBox=\"0.00 0.00 487.79 96.00\" xmlns=\"http://www.w3.org/2000/svg\" xmlns:xlink=\"http://www.w3.org/1999/xlink\">\r\n",
       "<g id=\"graph0\" class=\"graph\" transform=\"scale(1 1) rotate(0) translate(4 92)\">\r\n",
       "<title>%3</title>\r\n",
       "<polygon fill=\"white\" stroke=\"none\" points=\"-4,4 -4,-92 483.789,-92 483.789,4 -4,4\"/>\r\n",
       "<!-- EMPTY -->\r\n",
       "<g id=\"node1\" class=\"node\"><title>EMPTY</title>\r\n",
       "</g>\r\n",
       "<!-- I -->\r\n",
       "<g id=\"node5\" class=\"node\"><title>I</title>\r\n",
       "<ellipse fill=\"none\" stroke=\"black\" cx=\"109\" cy=\"-22\" rx=\"18\" ry=\"18\"/>\r\n",
       "<text text-anchor=\"middle\" x=\"109\" y=\"-18.3\" font-family=\"Times New Roman,serif\" font-size=\"14.00\">I</text>\r\n",
       "</g>\r\n",
       "<!-- EMPTY&#45;&gt;I -->\r\n",
       "<g id=\"edge1\" class=\"edge\"><title>EMPTY&#45;&gt;I</title>\r\n",
       "<path fill=\"none\" stroke=\"black\" d=\"M54.195,-22C62.6538,-22 72.0513,-22 80.5951,-22\"/>\r\n",
       "<polygon fill=\"black\" stroke=\"black\" points=\"80.8257,-25.5001 90.8257,-22 80.8257,-18.5001 80.8257,-25.5001\"/>\r\n",
       "</g>\r\n",
       "<!-- S1 -->\r\n",
       "<g id=\"node2\" class=\"node\"><title>S1</title>\r\n",
       "<ellipse fill=\"none\" stroke=\"black\" cx=\"279.394\" cy=\"-22\" rx=\"20.5982\" ry=\"20.5982\"/>\r\n",
       "<text text-anchor=\"middle\" x=\"279.394\" y=\"-18.3\" font-family=\"Times New Roman,serif\" font-size=\"14.00\">S1</text>\r\n",
       "</g>\r\n",
       "<!-- S2 -->\r\n",
       "<g id=\"node4\" class=\"node\"><title>S2</title>\r\n",
       "<ellipse fill=\"none\" stroke=\"black\" cx=\"367.991\" cy=\"-22\" rx=\"20.5982\" ry=\"20.5982\"/>\r\n",
       "<text text-anchor=\"middle\" x=\"367.991\" y=\"-18.3\" font-family=\"Times New Roman,serif\" font-size=\"14.00\">S2</text>\r\n",
       "</g>\r\n",
       "<!-- S1&#45;&gt;S2 -->\r\n",
       "<g id=\"edge5\" class=\"edge\"><title>S1&#45;&gt;S2</title>\r\n",
       "<path fill=\"none\" stroke=\"black\" d=\"M300.479,-22C311.299,-22 324.866,-22 336.919,-22\"/>\r\n",
       "<polygon fill=\"black\" stroke=\"black\" points=\"337.015,-25.5001 347.015,-22 337.015,-18.5001 337.015,-25.5001\"/>\r\n",
       "<text text-anchor=\"middle\" x=\"323.693\" y=\"-40.8\" font-family=\"Times New Roman,serif\" font-size=\"14.00\">0 </text>\r\n",
       "<text text-anchor=\"middle\" x=\"323.693\" y=\"-25.8\" font-family=\"Times New Roman,serif\" font-size=\"14.00\"> 1</text>\r\n",
       "</g>\r\n",
       "<!-- S0 -->\r\n",
       "<g id=\"node3\" class=\"node\"><title>S0</title>\r\n",
       "<ellipse fill=\"none\" stroke=\"black\" cx=\"190.798\" cy=\"-22\" rx=\"20.5982\" ry=\"20.5982\"/>\r\n",
       "<text text-anchor=\"middle\" x=\"190.798\" y=\"-18.3\" font-family=\"Times New Roman,serif\" font-size=\"14.00\">S0</text>\r\n",
       "</g>\r\n",
       "<!-- S0&#45;&gt;S1 -->\r\n",
       "<g id=\"edge4\" class=\"edge\"><title>S0&#45;&gt;S1</title>\r\n",
       "<path fill=\"none\" stroke=\"black\" d=\"M211.883,-22C222.703,-22 236.269,-22 248.323,-22\"/>\r\n",
       "<polygon fill=\"black\" stroke=\"black\" points=\"248.419,-25.5001 258.419,-22 248.419,-18.5001 248.419,-25.5001\"/>\r\n",
       "<text text-anchor=\"middle\" x=\"235.096\" y=\"-40.8\" font-family=\"Times New Roman,serif\" font-size=\"14.00\">0 </text>\r\n",
       "<text text-anchor=\"middle\" x=\"235.096\" y=\"-25.8\" font-family=\"Times New Roman,serif\" font-size=\"14.00\"> 1</text>\r\n",
       "</g>\r\n",
       "<!-- F -->\r\n",
       "<g id=\"node6\" class=\"node\"><title>F</title>\r\n",
       "<ellipse fill=\"none\" stroke=\"black\" cx=\"457.789\" cy=\"-22\" rx=\"18\" ry=\"18\"/>\r\n",
       "<ellipse fill=\"none\" stroke=\"black\" cx=\"457.789\" cy=\"-22\" rx=\"22\" ry=\"22\"/>\r\n",
       "<text text-anchor=\"middle\" x=\"457.789\" y=\"-18.3\" font-family=\"Times New Roman,serif\" font-size=\"14.00\">F</text>\r\n",
       "</g>\r\n",
       "<!-- S2&#45;&gt;F -->\r\n",
       "<g id=\"edge6\" class=\"edge\"><title>S2&#45;&gt;F</title>\r\n",
       "<path fill=\"none\" stroke=\"black\" d=\"M388.914,-22C399.714,-22 413.307,-22 425.487,-22\"/>\r\n",
       "<polygon fill=\"black\" stroke=\"black\" points=\"425.721,-25.5001 435.721,-22 425.721,-18.5001 425.721,-25.5001\"/>\r\n",
       "<text text-anchor=\"middle\" x=\"412.289\" y=\"-40.8\" font-family=\"Times New Roman,serif\" font-size=\"14.00\">0 </text>\r\n",
       "<text text-anchor=\"middle\" x=\"412.289\" y=\"-25.8\" font-family=\"Times New Roman,serif\" font-size=\"14.00\"> 1</text>\r\n",
       "</g>\r\n",
       "<!-- I&#45;&gt;S0 -->\r\n",
       "<g id=\"edge3\" class=\"edge\"><title>I&#45;&gt;S0</title>\r\n",
       "<path fill=\"none\" stroke=\"black\" d=\"M127.315,-22C136.833,-22 148.907,-22 159.9,-22\"/>\r\n",
       "<polygon fill=\"black\" stroke=\"black\" points=\"159.988,-25.5001 169.988,-22 159.988,-18.5001 159.988,-25.5001\"/>\r\n",
       "<text text-anchor=\"middle\" x=\"148.5\" y=\"-25.8\" font-family=\"Times New Roman,serif\" font-size=\"14.00\">1</text>\r\n",
       "</g>\r\n",
       "<!-- I&#45;&gt;I -->\r\n",
       "<g id=\"edge2\" class=\"edge\"><title>I&#45;&gt;I</title>\r\n",
       "<path fill=\"none\" stroke=\"black\" d=\"M102.621,-39.0373C101.319,-48.8579 103.445,-58 109,-58 112.472,-58 114.604,-54.4289 115.398,-49.3529\"/>\r\n",
       "<polygon fill=\"black\" stroke=\"black\" points=\"118.897,-49.031 115.379,-39.0373 111.897,-49.0435 118.897,-49.031\"/>\r\n",
       "<text text-anchor=\"middle\" x=\"109\" y=\"-76.8\" font-family=\"Times New Roman,serif\" font-size=\"14.00\">0 </text>\r\n",
       "<text text-anchor=\"middle\" x=\"109\" y=\"-61.8\" font-family=\"Times New Roman,serif\" font-size=\"14.00\"> 1</text>\r\n",
       "</g>\r\n",
       "</g>\r\n",
       "</svg>\r\n"
      ],
      "text/plain": [
       "<graphviz.dot.Digraph at 0x1fb00c5deb8>"
      ]
     },
     "execution_count": 5,
     "metadata": {},
     "output_type": "execute_result"
    }
   ],
   "source": [
    "fourthlast = md2mc('''\n",
    "NFA\n",
    "I  : 0 -> I\n",
    "I  : 1 -> I, S0\n",
    "S0 : 0 | 1 -> S1\n",
    "S1 : 0 | 1 -> S2\n",
    "S2 : 0 | 1 -> F\n",
    "''')\n",
    "dotObj_nfa(fourthlast, FuseEdges=True)"
   ]
  },
  {
   "cell_type": "code",
   "execution_count": 6,
   "metadata": {
    "run_control": {
     "frozen": false,
     "read_only": false
    }
   },
   "outputs": [
    {
     "data": {
      "image/svg+xml": [
       "<?xml version=\"1.0\" encoding=\"UTF-8\" standalone=\"no\"?>\r\n",
       "<!DOCTYPE svg PUBLIC \"-//W3C//DTD SVG 1.1//EN\"\r\n",
       " \"http://www.w3.org/Graphics/SVG/1.1/DTD/svg11.dtd\">\r\n",
       "<!-- Generated by graphviz version 2.38.0 (20140413.2041)\r\n",
       " -->\r\n",
       "<!-- Title: %3 Pages: 1 -->\r\n",
       "<svg width=\"576pt\" height=\"96pt\"\r\n",
       " viewBox=\"0.00 0.00 576.39 96.00\" xmlns=\"http://www.w3.org/2000/svg\" xmlns:xlink=\"http://www.w3.org/1999/xlink\">\r\n",
       "<g id=\"graph0\" class=\"graph\" transform=\"scale(1 1) rotate(0) translate(4 92)\">\r\n",
       "<title>%3</title>\r\n",
       "<polygon fill=\"white\" stroke=\"none\" points=\"-4,4 -4,-92 572.385,-92 572.385,4 -4,4\"/>\r\n",
       "<!-- EMPTY -->\r\n",
       "<g id=\"node1\" class=\"node\"><title>EMPTY</title>\r\n",
       "</g>\r\n",
       "<!-- I -->\r\n",
       "<g id=\"node5\" class=\"node\"><title>I</title>\r\n",
       "<ellipse fill=\"none\" stroke=\"black\" cx=\"109\" cy=\"-22\" rx=\"18\" ry=\"18\"/>\r\n",
       "<text text-anchor=\"middle\" x=\"109\" y=\"-18.3\" font-family=\"Times New Roman,serif\" font-size=\"14.00\">I</text>\r\n",
       "</g>\r\n",
       "<!-- EMPTY&#45;&gt;I -->\r\n",
       "<g id=\"edge1\" class=\"edge\"><title>EMPTY&#45;&gt;I</title>\r\n",
       "<path fill=\"none\" stroke=\"black\" d=\"M54.195,-22C62.6538,-22 72.0513,-22 80.5951,-22\"/>\r\n",
       "<polygon fill=\"black\" stroke=\"black\" points=\"80.8257,-25.5001 90.8257,-22 80.8257,-18.5001 80.8257,-25.5001\"/>\r\n",
       "</g>\r\n",
       "<!-- S0 -->\r\n",
       "<g id=\"node2\" class=\"node\"><title>S0</title>\r\n",
       "<ellipse fill=\"none\" stroke=\"black\" cx=\"190.798\" cy=\"-22\" rx=\"20.5982\" ry=\"20.5982\"/>\r\n",
       "<text text-anchor=\"middle\" x=\"190.798\" y=\"-18.3\" font-family=\"Times New Roman,serif\" font-size=\"14.00\">S0</text>\r\n",
       "</g>\r\n",
       "<!-- S1 -->\r\n",
       "<g id=\"node6\" class=\"node\"><title>S1</title>\r\n",
       "<ellipse fill=\"none\" stroke=\"black\" cx=\"279.394\" cy=\"-22\" rx=\"20.5982\" ry=\"20.5982\"/>\r\n",
       "<text text-anchor=\"middle\" x=\"279.394\" y=\"-18.3\" font-family=\"Times New Roman,serif\" font-size=\"14.00\">S1</text>\r\n",
       "</g>\r\n",
       "<!-- S0&#45;&gt;S1 -->\r\n",
       "<g id=\"edge4\" class=\"edge\"><title>S0&#45;&gt;S1</title>\r\n",
       "<path fill=\"none\" stroke=\"black\" d=\"M211.883,-22C222.703,-22 236.269,-22 248.323,-22\"/>\r\n",
       "<polygon fill=\"black\" stroke=\"black\" points=\"248.419,-25.5001 258.419,-22 248.419,-18.5001 248.419,-25.5001\"/>\r\n",
       "<text text-anchor=\"middle\" x=\"235.096\" y=\"-40.8\" font-family=\"Times New Roman,serif\" font-size=\"14.00\">0 </text>\r\n",
       "<text text-anchor=\"middle\" x=\"235.096\" y=\"-25.8\" font-family=\"Times New Roman,serif\" font-size=\"14.00\"> 1</text>\r\n",
       "</g>\r\n",
       "<!-- S2 -->\r\n",
       "<g id=\"node3\" class=\"node\"><title>S2</title>\r\n",
       "<ellipse fill=\"none\" stroke=\"black\" cx=\"367.991\" cy=\"-22\" rx=\"20.5982\" ry=\"20.5982\"/>\r\n",
       "<text text-anchor=\"middle\" x=\"367.991\" y=\"-18.3\" font-family=\"Times New Roman,serif\" font-size=\"14.00\">S2</text>\r\n",
       "</g>\r\n",
       "<!-- S3 -->\r\n",
       "<g id=\"node4\" class=\"node\"><title>S3</title>\r\n",
       "<ellipse fill=\"none\" stroke=\"black\" cx=\"456.587\" cy=\"-22\" rx=\"20.5982\" ry=\"20.5982\"/>\r\n",
       "<text text-anchor=\"middle\" x=\"456.587\" y=\"-18.3\" font-family=\"Times New Roman,serif\" font-size=\"14.00\">S3</text>\r\n",
       "</g>\r\n",
       "<!-- S2&#45;&gt;S3 -->\r\n",
       "<g id=\"edge6\" class=\"edge\"><title>S2&#45;&gt;S3</title>\r\n",
       "<path fill=\"none\" stroke=\"black\" d=\"M389.075,-22C399.896,-22 413.462,-22 425.515,-22\"/>\r\n",
       "<polygon fill=\"black\" stroke=\"black\" points=\"425.611,-25.5001 435.611,-22 425.611,-18.5001 425.611,-25.5001\"/>\r\n",
       "<text text-anchor=\"middle\" x=\"412.289\" y=\"-40.8\" font-family=\"Times New Roman,serif\" font-size=\"14.00\">0 </text>\r\n",
       "<text text-anchor=\"middle\" x=\"412.289\" y=\"-25.8\" font-family=\"Times New Roman,serif\" font-size=\"14.00\"> 1</text>\r\n",
       "</g>\r\n",
       "<!-- F -->\r\n",
       "<g id=\"node7\" class=\"node\"><title>F</title>\r\n",
       "<ellipse fill=\"none\" stroke=\"black\" cx=\"546.385\" cy=\"-22\" rx=\"18\" ry=\"18\"/>\r\n",
       "<ellipse fill=\"none\" stroke=\"black\" cx=\"546.385\" cy=\"-22\" rx=\"22\" ry=\"22\"/>\r\n",
       "<text text-anchor=\"middle\" x=\"546.385\" y=\"-18.3\" font-family=\"Times New Roman,serif\" font-size=\"14.00\">F</text>\r\n",
       "</g>\r\n",
       "<!-- S3&#45;&gt;F -->\r\n",
       "<g id=\"edge7\" class=\"edge\"><title>S3&#45;&gt;F</title>\r\n",
       "<path fill=\"none\" stroke=\"black\" d=\"M477.51,-22C488.31,-22 501.903,-22 514.083,-22\"/>\r\n",
       "<polygon fill=\"black\" stroke=\"black\" points=\"514.317,-25.5001 524.317,-22 514.317,-18.5001 514.317,-25.5001\"/>\r\n",
       "<text text-anchor=\"middle\" x=\"500.885\" y=\"-40.8\" font-family=\"Times New Roman,serif\" font-size=\"14.00\">0 </text>\r\n",
       "<text text-anchor=\"middle\" x=\"500.885\" y=\"-25.8\" font-family=\"Times New Roman,serif\" font-size=\"14.00\"> 1</text>\r\n",
       "</g>\r\n",
       "<!-- I&#45;&gt;S0 -->\r\n",
       "<g id=\"edge3\" class=\"edge\"><title>I&#45;&gt;S0</title>\r\n",
       "<path fill=\"none\" stroke=\"black\" d=\"M127.315,-22C136.833,-22 148.907,-22 159.9,-22\"/>\r\n",
       "<polygon fill=\"black\" stroke=\"black\" points=\"159.988,-25.5001 169.988,-22 159.988,-18.5001 159.988,-25.5001\"/>\r\n",
       "<text text-anchor=\"middle\" x=\"148.5\" y=\"-25.8\" font-family=\"Times New Roman,serif\" font-size=\"14.00\">1</text>\r\n",
       "</g>\r\n",
       "<!-- I&#45;&gt;I -->\r\n",
       "<g id=\"edge2\" class=\"edge\"><title>I&#45;&gt;I</title>\r\n",
       "<path fill=\"none\" stroke=\"black\" d=\"M102.621,-39.0373C101.319,-48.8579 103.445,-58 109,-58 112.472,-58 114.604,-54.4289 115.398,-49.3529\"/>\r\n",
       "<polygon fill=\"black\" stroke=\"black\" points=\"118.897,-49.031 115.379,-39.0373 111.897,-49.0435 118.897,-49.031\"/>\r\n",
       "<text text-anchor=\"middle\" x=\"109\" y=\"-76.8\" font-family=\"Times New Roman,serif\" font-size=\"14.00\">0 </text>\r\n",
       "<text text-anchor=\"middle\" x=\"109\" y=\"-61.8\" font-family=\"Times New Roman,serif\" font-size=\"14.00\"> 1</text>\r\n",
       "</g>\r\n",
       "<!-- S1&#45;&gt;S2 -->\r\n",
       "<g id=\"edge5\" class=\"edge\"><title>S1&#45;&gt;S2</title>\r\n",
       "<path fill=\"none\" stroke=\"black\" d=\"M300.479,-22C311.299,-22 324.866,-22 336.919,-22\"/>\r\n",
       "<polygon fill=\"black\" stroke=\"black\" points=\"337.015,-25.5001 347.015,-22 337.015,-18.5001 337.015,-25.5001\"/>\r\n",
       "<text text-anchor=\"middle\" x=\"323.693\" y=\"-40.8\" font-family=\"Times New Roman,serif\" font-size=\"14.00\">0 </text>\r\n",
       "<text text-anchor=\"middle\" x=\"323.693\" y=\"-25.8\" font-family=\"Times New Roman,serif\" font-size=\"14.00\"> 1</text>\r\n",
       "</g>\r\n",
       "</g>\r\n",
       "</svg>\r\n"
      ],
      "text/plain": [
       "<graphviz.dot.Digraph at 0x1fb7fdfff98>"
      ]
     },
     "execution_count": 6,
     "metadata": {},
     "output_type": "execute_result"
    }
   ],
   "source": [
    "fifthlast = md2mc('''\n",
    "NFA\n",
    "I  : 0 -> I\n",
    "I  : 1 -> I, S0\n",
    "S0 : 0 | 1 -> S1\n",
    "S1 : 0 | 1 -> S2\n",
    "S2 : 0 | 1 -> S3\n",
    "S3 : 0 | 1 -> F\n",
    "''')\n",
    "dotObj_nfa(fifthlast, FuseEdges=True)"
   ]
  },
  {
   "cell_type": "code",
   "execution_count": 7,
   "metadata": {
    "run_control": {
     "frozen": false,
     "read_only": false
    }
   },
   "outputs": [
    {
     "data": {
      "image/svg+xml": [
       "<?xml version=\"1.0\" encoding=\"UTF-8\" standalone=\"no\"?>\r\n",
       "<!DOCTYPE svg PUBLIC \"-//W3C//DTD SVG 1.1//EN\"\r\n",
       " \"http://www.w3.org/Graphics/SVG/1.1/DTD/svg11.dtd\">\r\n",
       "<!-- Generated by graphviz version 2.38.0 (20140413.2041)\r\n",
       " -->\r\n",
       "<!-- Title: %3 Pages: 1 -->\r\n",
       "<svg width=\"462pt\" height=\"233pt\"\r\n",
       " viewBox=\"0.00 0.00 461.98 233.00\" xmlns=\"http://www.w3.org/2000/svg\" xmlns:xlink=\"http://www.w3.org/1999/xlink\">\r\n",
       "<g id=\"graph0\" class=\"graph\" transform=\"scale(1 1) rotate(0) translate(4 229)\">\r\n",
       "<title>%3</title>\r\n",
       "<polygon fill=\"white\" stroke=\"none\" points=\"-4,4 -4,-229 457.984,-229 457.984,4 -4,4\"/>\r\n",
       "<!-- EMPTY -->\r\n",
       "<g id=\"node1\" class=\"node\"><title>EMPTY</title>\r\n",
       "</g>\r\n",
       "<!-- I -->\r\n",
       "<g id=\"node2\" class=\"node\"><title>I</title>\r\n",
       "<ellipse fill=\"none\" stroke=\"black\" cx=\"109\" cy=\"-18\" rx=\"18\" ry=\"18\"/>\r\n",
       "<text text-anchor=\"middle\" x=\"109\" y=\"-14.3\" font-family=\"Times New Roman,serif\" font-size=\"14.00\">I</text>\r\n",
       "</g>\r\n",
       "<!-- EMPTY&#45;&gt;I -->\r\n",
       "<g id=\"edge1\" class=\"edge\"><title>EMPTY&#45;&gt;I</title>\r\n",
       "<path fill=\"none\" stroke=\"black\" d=\"M54.195,-18C62.6538,-18 72.0513,-18 80.5951,-18\"/>\r\n",
       "<polygon fill=\"black\" stroke=\"black\" points=\"80.8257,-21.5001 90.8257,-18 80.8257,-14.5001 80.8257,-21.5001\"/>\r\n",
       "</g>\r\n",
       "<!-- I&#45;&gt;I -->\r\n",
       "<g id=\"edge2\" class=\"edge\"><title>I&#45;&gt;I</title>\r\n",
       "<path fill=\"none\" stroke=\"black\" d=\"M102.621,-35.0373C101.319,-44.8579 103.445,-54 109,-54 112.472,-54 114.604,-50.4289 115.398,-45.3529\"/>\r\n",
       "<polygon fill=\"black\" stroke=\"black\" points=\"118.897,-45.031 115.379,-35.0373 111.897,-45.0435 118.897,-45.031\"/>\r\n",
       "<text text-anchor=\"middle\" x=\"109\" y=\"-57.8\" font-family=\"Times New Roman,serif\" font-size=\"14.00\">0</text>\r\n",
       "</g>\r\n",
       "<!-- I_S0 -->\r\n",
       "<g id=\"node3\" class=\"node\"><title>I_S0</title>\r\n",
       "<ellipse fill=\"none\" stroke=\"black\" cx=\"198.597\" cy=\"-69\" rx=\"28.6953\" ry=\"28.6953\"/>\r\n",
       "<text text-anchor=\"middle\" x=\"198.597\" y=\"-65.3\" font-family=\"Times New Roman,serif\" font-size=\"14.00\">I_S0</text>\r\n",
       "</g>\r\n",
       "<!-- I&#45;&gt;I_S0 -->\r\n",
       "<g id=\"edge3\" class=\"edge\"><title>I&#45;&gt;I_S0</title>\r\n",
       "<path fill=\"none\" stroke=\"black\" d=\"M124.86,-26.6515C135.751,-32.9924 150.964,-41.8493 164.663,-49.825\"/>\r\n",
       "<polygon fill=\"black\" stroke=\"black\" points=\"162.983,-52.8969 173.386,-54.9037 166.505,-46.8475 162.983,-52.8969\"/>\r\n",
       "<text text-anchor=\"middle\" x=\"148.5\" y=\"-45.8\" font-family=\"Times New Roman,serif\" font-size=\"14.00\">1</text>\r\n",
       "</g>\r\n",
       "<!-- F_I -->\r\n",
       "<g id=\"node4\" class=\"node\"><title>F_I</title>\r\n",
       "<ellipse fill=\"none\" stroke=\"black\" cx=\"425.936\" cy=\"-64\" rx=\"24.089\" ry=\"24.089\"/>\r\n",
       "<ellipse fill=\"none\" stroke=\"black\" cx=\"425.936\" cy=\"-64\" rx=\"28.0958\" ry=\"28.0958\"/>\r\n",
       "<text text-anchor=\"middle\" x=\"425.936\" y=\"-60.3\" font-family=\"Times New Roman,serif\" font-size=\"14.00\">F_I</text>\r\n",
       "</g>\r\n",
       "<!-- I_S0&#45;&gt;F_I -->\r\n",
       "<g id=\"edge4\" class=\"edge\"><title>I_S0&#45;&gt;F_I</title>\r\n",
       "<path fill=\"none\" stroke=\"black\" d=\"M206.096,-96.6317C214.904,-127.103 233.883,-174.64 270.195,-196 302.639,-215.085 322.631,-215.4 354.888,-196 388.892,-175.55 407.268,-132.418 416.552,-101.007\"/>\r\n",
       "<polygon fill=\"black\" stroke=\"black\" points=\"419.955,-101.836 419.256,-91.2645 413.209,-99.9647 419.955,-101.836\"/>\r\n",
       "<text text-anchor=\"middle\" x=\"312.542\" y=\"-213.8\" font-family=\"Times New Roman,serif\" font-size=\"14.00\">0</text>\r\n",
       "</g>\r\n",
       "<!-- F_I_S0 -->\r\n",
       "<g id=\"node5\" class=\"node\"><title>F_I_S0</title>\r\n",
       "<ellipse fill=\"none\" stroke=\"black\" cx=\"312.542\" cy=\"-112\" rx=\"38.2082\" ry=\"38.2082\"/>\r\n",
       "<ellipse fill=\"none\" stroke=\"black\" cx=\"312.542\" cy=\"-112\" rx=\"42.1937\" ry=\"42.1937\"/>\r\n",
       "<text text-anchor=\"middle\" x=\"312.542\" y=\"-108.3\" font-family=\"Times New Roman,serif\" font-size=\"14.00\">F_I_S0</text>\r\n",
       "</g>\r\n",
       "<!-- I_S0&#45;&gt;F_I_S0 -->\r\n",
       "<g id=\"edge5\" class=\"edge\"><title>I_S0&#45;&gt;F_I_S0</title>\r\n",
       "<path fill=\"none\" stroke=\"black\" d=\"M225.561,-78.9731C236.678,-83.2435 250.038,-88.3753 262.876,-93.3067\"/>\r\n",
       "<polygon fill=\"black\" stroke=\"black\" points=\"261.956,-96.7025 272.546,-97.0211 264.466,-90.168 261.956,-96.7025\"/>\r\n",
       "<text text-anchor=\"middle\" x=\"248.695\" y=\"-93.8\" font-family=\"Times New Roman,serif\" font-size=\"14.00\">1</text>\r\n",
       "</g>\r\n",
       "<!-- F_I&#45;&gt;I -->\r\n",
       "<g id=\"edge6\" class=\"edge\"><title>F_I&#45;&gt;I</title>\r\n",
       "<path fill=\"none\" stroke=\"black\" d=\"M399.868,-52.7999C386.751,-47.5235 370.262,-41.786 354.888,-39 276.728,-24.8356 182.751,-20.1668 137.288,-18.6735\"/>\r\n",
       "<polygon fill=\"black\" stroke=\"black\" points=\"137.169,-15.1684 127.068,-18.3654 136.958,-22.1653 137.169,-15.1684\"/>\r\n",
       "<text text-anchor=\"middle\" x=\"248.695\" y=\"-29.8\" font-family=\"Times New Roman,serif\" font-size=\"14.00\">0</text>\r\n",
       "</g>\r\n",
       "<!-- F_I&#45;&gt;I_S0 -->\r\n",
       "<g id=\"edge7\" class=\"edge\"><title>F_I&#45;&gt;I_S0</title>\r\n",
       "<path fill=\"none\" stroke=\"black\" d=\"M398.961,-55.6626C385.89,-51.8954 369.712,-47.8742 354.888,-46 317.544,-41.2786 307.371,-40.0969 270.195,-46 258.498,-47.8573 246.104,-51.3439 235.02,-55.051\"/>\r\n",
       "<polygon fill=\"black\" stroke=\"black\" points=\"233.541,-51.8608 225.266,-58.4772 235.861,-58.4652 233.541,-51.8608\"/>\r\n",
       "<text text-anchor=\"middle\" x=\"312.542\" y=\"-49.8\" font-family=\"Times New Roman,serif\" font-size=\"14.00\">1</text>\r\n",
       "</g>\r\n",
       "<!-- F_I_S0&#45;&gt;F_I -->\r\n",
       "<g id=\"edge8\" class=\"edge\"><title>F_I_S0&#45;&gt;F_I</title>\r\n",
       "<path fill=\"none\" stroke=\"black\" d=\"M351.877,-95.4811C364.391,-90.0888 378.205,-84.1366 390.421,-78.8727\"/>\r\n",
       "<polygon fill=\"black\" stroke=\"black\" points=\"392.021,-81.9942 399.82,-74.8226 389.251,-75.5657 392.021,-81.9942\"/>\r\n",
       "<text text-anchor=\"middle\" x=\"376.388\" y=\"-89.8\" font-family=\"Times New Roman,serif\" font-size=\"14.00\">0</text>\r\n",
       "</g>\r\n",
       "<!-- F_I_S0&#45;&gt;F_I_S0 -->\r\n",
       "<g id=\"edge9\" class=\"edge\"><title>F_I_S0&#45;&gt;F_I_S0</title>\r\n",
       "<path fill=\"none\" stroke=\"black\" d=\"M301.002,-152.897C301.611,-163.943 305.458,-172.347 312.542,-172.347 317.19,-172.347 320.445,-168.728 322.305,-163.118\"/>\r\n",
       "<polygon fill=\"black\" stroke=\"black\" points=\"325.817,-163.349 324.081,-152.897 318.921,-162.151 325.817,-163.349\"/>\r\n",
       "<text text-anchor=\"middle\" x=\"312.542\" y=\"-176.147\" font-family=\"Times New Roman,serif\" font-size=\"14.00\">1</text>\r\n",
       "</g>\r\n",
       "</g>\r\n",
       "</svg>\r\n"
      ],
      "text/plain": [
       "<graphviz.dot.Digraph at 0x1fb009c9da0>"
      ]
     },
     "execution_count": 7,
     "metadata": {},
     "output_type": "execute_result"
    }
   ],
   "source": [
    "dotObj_dfa(min_dfa(nfa2dfa(secondlast)))"
   ]
  },
  {
   "cell_type": "code",
   "execution_count": 8,
   "metadata": {
    "run_control": {
     "frozen": false,
     "read_only": false
    }
   },
   "outputs": [
    {
     "data": {
      "image/svg+xml": [
       "<?xml version=\"1.0\" encoding=\"UTF-8\" standalone=\"no\"?>\r\n",
       "<!DOCTYPE svg PUBLIC \"-//W3C//DTD SVG 1.1//EN\"\r\n",
       " \"http://www.w3.org/Graphics/SVG/1.1/DTD/svg11.dtd\">\r\n",
       "<!-- Generated by graphviz version 2.38.0 (20140413.2041)\r\n",
       " -->\r\n",
       "<!-- Title: %3 Pages: 1 -->\r\n",
       "<svg width=\"796pt\" height=\"293pt\"\r\n",
       " viewBox=\"0.00 0.00 795.97 293.00\" xmlns=\"http://www.w3.org/2000/svg\" xmlns:xlink=\"http://www.w3.org/1999/xlink\">\r\n",
       "<g id=\"graph0\" class=\"graph\" transform=\"scale(1 1) rotate(0) translate(4 289)\">\r\n",
       "<title>%3</title>\r\n",
       "<polygon fill=\"white\" stroke=\"none\" points=\"-4,4 -4,-289 791.968,-289 791.968,4 -4,4\"/>\r\n",
       "<!-- EMPTY -->\r\n",
       "<g id=\"node1\" class=\"node\"><title>EMPTY</title>\r\n",
       "</g>\r\n",
       "<!-- St7 -->\r\n",
       "<g id=\"node5\" class=\"node\"><title>St7</title>\r\n",
       "<ellipse fill=\"none\" stroke=\"black\" cx=\"113.748\" cy=\"-25\" rx=\"22.9987\" ry=\"22.9987\"/>\r\n",
       "<text text-anchor=\"middle\" x=\"113.748\" y=\"-21.3\" font-family=\"Times New Roman,serif\" font-size=\"14.00\">St7</text>\r\n",
       "</g>\r\n",
       "<!-- EMPTY&#45;&gt;St7 -->\r\n",
       "<g id=\"edge1\" class=\"edge\"><title>EMPTY&#45;&gt;St7</title>\r\n",
       "<path fill=\"none\" stroke=\"black\" d=\"M54.3502,-25C62.71,-25 72.0455,-25 80.757,-25\"/>\r\n",
       "<polygon fill=\"black\" stroke=\"black\" points=\"80.9663,-28.5001 90.9663,-25 80.9662,-21.5001 80.9663,-28.5001\"/>\r\n",
       "</g>\r\n",
       "<!-- St4 -->\r\n",
       "<g id=\"node2\" class=\"node\"><title>St4</title>\r\n",
       "<ellipse fill=\"none\" stroke=\"black\" cx=\"290.74\" cy=\"-105\" rx=\"22.9987\" ry=\"22.9987\"/>\r\n",
       "<text text-anchor=\"middle\" x=\"290.74\" y=\"-101.3\" font-family=\"Times New Roman,serif\" font-size=\"14.00\">St4</text>\r\n",
       "</g>\r\n",
       "<!-- St0 -->\r\n",
       "<g id=\"node7\" class=\"node\"><title>St0</title>\r\n",
       "<ellipse fill=\"none\" stroke=\"black\" cx=\"383.236\" cy=\"-131\" rx=\"22.9609\" ry=\"22.9609\"/>\r\n",
       "<ellipse fill=\"none\" stroke=\"black\" cx=\"383.236\" cy=\"-131\" rx=\"26.9983\" ry=\"26.9983\"/>\r\n",
       "<text text-anchor=\"middle\" x=\"383.236\" y=\"-127.3\" font-family=\"Times New Roman,serif\" font-size=\"14.00\">St0</text>\r\n",
       "</g>\r\n",
       "<!-- St4&#45;&gt;St0 -->\r\n",
       "<g id=\"edge9\" class=\"edge\"><title>St4&#45;&gt;St0</title>\r\n",
       "<path fill=\"none\" stroke=\"black\" d=\"M312.729,-111.03C322.987,-113.977 335.606,-117.603 347.264,-120.952\"/>\r\n",
       "<polygon fill=\"black\" stroke=\"black\" points=\"346.6,-124.403 357.178,-123.801 348.533,-117.675 346.6,-124.403\"/>\r\n",
       "<text text-anchor=\"middle\" x=\"334.988\" y=\"-121.8\" font-family=\"Times New Roman,serif\" font-size=\"14.00\">1</text>\r\n",
       "</g>\r\n",
       "<!-- St2 -->\r\n",
       "<g id=\"node9\" class=\"node\"><title>St2</title>\r\n",
       "<ellipse fill=\"none\" stroke=\"black\" cx=\"479.732\" cy=\"-144\" rx=\"22.9609\" ry=\"22.9609\"/>\r\n",
       "<ellipse fill=\"none\" stroke=\"black\" cx=\"479.732\" cy=\"-144\" rx=\"26.9983\" ry=\"26.9983\"/>\r\n",
       "<text text-anchor=\"middle\" x=\"479.732\" y=\"-140.3\" font-family=\"Times New Roman,serif\" font-size=\"14.00\">St2</text>\r\n",
       "</g>\r\n",
       "<!-- St4&#45;&gt;St2 -->\r\n",
       "<g id=\"edge8\" class=\"edge\"><title>St4&#45;&gt;St2</title>\r\n",
       "<path fill=\"none\" stroke=\"black\" d=\"M299.26,-126.228C308.667,-149.168 327.196,-184.516 356.488,-200 377.508,-211.111 387.583,-207.969 409.984,-200 426.521,-194.117 441.966,-182.365 454.01,-171.139\"/>\r\n",
       "<polygon fill=\"black\" stroke=\"black\" points=\"456.706,-173.398 461.411,-163.905 451.813,-168.392 456.706,-173.398\"/>\r\n",
       "<text text-anchor=\"middle\" x=\"383.236\" y=\"-211.8\" font-family=\"Times New Roman,serif\" font-size=\"14.00\">0</text>\r\n",
       "</g>\r\n",
       "<!-- St6 -->\r\n",
       "<g id=\"node3\" class=\"node\"><title>St6</title>\r\n",
       "<ellipse fill=\"none\" stroke=\"black\" cx=\"668.724\" cy=\"-84\" rx=\"22.9987\" ry=\"22.9987\"/>\r\n",
       "<text text-anchor=\"middle\" x=\"668.724\" y=\"-80.3\" font-family=\"Times New Roman,serif\" font-size=\"14.00\">St6</text>\r\n",
       "</g>\r\n",
       "<!-- St1 -->\r\n",
       "<g id=\"node6\" class=\"node\"><title>St1</title>\r\n",
       "<ellipse fill=\"none\" stroke=\"black\" cx=\"576.228\" cy=\"-93\" rx=\"22.9609\" ry=\"22.9609\"/>\r\n",
       "<ellipse fill=\"none\" stroke=\"black\" cx=\"576.228\" cy=\"-93\" rx=\"26.9983\" ry=\"26.9983\"/>\r\n",
       "<text text-anchor=\"middle\" x=\"576.228\" y=\"-89.3\" font-family=\"Times New Roman,serif\" font-size=\"14.00\">St1</text>\r\n",
       "</g>\r\n",
       "<!-- St6&#45;&gt;St1 -->\r\n",
       "<g id=\"edge7\" class=\"edge\"><title>St6&#45;&gt;St1</title>\r\n",
       "<path fill=\"none\" stroke=\"black\" d=\"M647.764,-74.5917C639.498,-71.8138 629.8,-69.9919 620.976,-72 617.022,-72.8997 613.009,-74.2033 609.099,-75.7271\"/>\r\n",
       "<polygon fill=\"black\" stroke=\"black\" points=\"607.429,-72.6375 599.682,-79.8639 610.245,-79.0464 607.429,-72.6375\"/>\r\n",
       "<text text-anchor=\"middle\" x=\"624.476\" y=\"-75.8\" font-family=\"Times New Roman,serif\" font-size=\"14.00\">1</text>\r\n",
       "</g>\r\n",
       "<!-- St3 -->\r\n",
       "<g id=\"node8\" class=\"node\"><title>St3</title>\r\n",
       "<ellipse fill=\"none\" stroke=\"black\" cx=\"761.22\" cy=\"-124\" rx=\"22.9609\" ry=\"22.9609\"/>\r\n",
       "<ellipse fill=\"none\" stroke=\"black\" cx=\"761.22\" cy=\"-124\" rx=\"26.9983\" ry=\"26.9983\"/>\r\n",
       "<text text-anchor=\"middle\" x=\"761.22\" y=\"-120.3\" font-family=\"Times New Roman,serif\" font-size=\"14.00\">St3</text>\r\n",
       "</g>\r\n",
       "<!-- St6&#45;&gt;St3 -->\r\n",
       "<g id=\"edge6\" class=\"edge\"><title>St6&#45;&gt;St3</title>\r\n",
       "<path fill=\"none\" stroke=\"black\" d=\"M689.808,-92.8773C700.762,-97.7193 714.602,-103.837 727.107,-109.364\"/>\r\n",
       "<polygon fill=\"black\" stroke=\"black\" points=\"725.778,-112.603 736.339,-113.445 728.608,-106.201 725.778,-112.603\"/>\r\n",
       "<text text-anchor=\"middle\" x=\"712.972\" y=\"-107.8\" font-family=\"Times New Roman,serif\" font-size=\"14.00\">0</text>\r\n",
       "</g>\r\n",
       "<!-- St5 -->\r\n",
       "<g id=\"node4\" class=\"node\"><title>St5</title>\r\n",
       "<ellipse fill=\"none\" stroke=\"black\" cx=\"202.244\" cy=\"-69\" rx=\"22.9987\" ry=\"22.9987\"/>\r\n",
       "<text text-anchor=\"middle\" x=\"202.244\" y=\"-65.3\" font-family=\"Times New Roman,serif\" font-size=\"14.00\">St5</text>\r\n",
       "</g>\r\n",
       "<!-- St5&#45;&gt;St4 -->\r\n",
       "<g id=\"edge5\" class=\"edge\"><title>St5&#45;&gt;St4</title>\r\n",
       "<path fill=\"none\" stroke=\"black\" d=\"M223.742,-77.5315C234.514,-82.0148 247.919,-87.5938 259.828,-92.5503\"/>\r\n",
       "<polygon fill=\"black\" stroke=\"black\" points=\"258.812,-95.9185 269.389,-96.5297 261.501,-89.4559 258.812,-95.9185\"/>\r\n",
       "<text text-anchor=\"middle\" x=\"246.492\" y=\"-92.8\" font-family=\"Times New Roman,serif\" font-size=\"14.00\">1</text>\r\n",
       "</g>\r\n",
       "<!-- St5&#45;&gt;St6 -->\r\n",
       "<g id=\"edge4\" class=\"edge\"><title>St5&#45;&gt;St6</title>\r\n",
       "<path fill=\"none\" stroke=\"black\" d=\"M222.466,-57.8083C239.546,-48.9287 265.493,-38 289.74,-38 289.74,-38 289.74,-38 577.228,-38 601.241,-38 625.328,-51.0302 642.607,-63.2206\"/>\r\n",
       "<polygon fill=\"black\" stroke=\"black\" points=\"640.872,-66.2915 650.987,-69.4453 645.046,-60.6724 640.872,-66.2915\"/>\r\n",
       "<text text-anchor=\"middle\" x=\"431.484\" y=\"-41.8\" font-family=\"Times New Roman,serif\" font-size=\"14.00\">0</text>\r\n",
       "</g>\r\n",
       "<!-- St7&#45;&gt;St5 -->\r\n",
       "<g id=\"edge3\" class=\"edge\"><title>St7&#45;&gt;St5</title>\r\n",
       "<path fill=\"none\" stroke=\"black\" d=\"M134.375,-34.9843C145.655,-40.7225 160.028,-48.0339 172.556,-54.4066\"/>\r\n",
       "<polygon fill=\"black\" stroke=\"black\" points=\"171.194,-57.6407 181.694,-59.0552 174.368,-51.4016 171.194,-57.6407\"/>\r\n",
       "<text text-anchor=\"middle\" x=\"157.996\" y=\"-52.8\" font-family=\"Times New Roman,serif\" font-size=\"14.00\">1</text>\r\n",
       "</g>\r\n",
       "<!-- St7&#45;&gt;St7 -->\r\n",
       "<g id=\"edge2\" class=\"edge\"><title>St7&#45;&gt;St7</title>\r\n",
       "<path fill=\"none\" stroke=\"black\" d=\"M106.396,-46.7996C105.594,-56.9123 108.045,-65.748 113.748,-65.748 117.402,-65.748 119.72,-62.1218 120.704,-56.8567\"/>\r\n",
       "<polygon fill=\"black\" stroke=\"black\" points=\"124.204,-56.9294 121.1,-46.7996 117.209,-56.6543 124.204,-56.9294\"/>\r\n",
       "<text text-anchor=\"middle\" x=\"113.748\" y=\"-69.548\" font-family=\"Times New Roman,serif\" font-size=\"14.00\">0</text>\r\n",
       "</g>\r\n",
       "<!-- St1&#45;&gt;St4 -->\r\n",
       "<g id=\"edge13\" class=\"edge\"><title>St1&#45;&gt;St4</title>\r\n",
       "<path fill=\"none\" stroke=\"black\" d=\"M549.246,-92.0305C508.218,-90.7713 425.947,-89.3483 356.488,-95 345.605,-95.8855 333.779,-97.5132 323.247,-99.2018\"/>\r\n",
       "<polygon fill=\"black\" stroke=\"black\" points=\"322.512,-95.7762 313.231,-100.886 323.672,-102.679 322.512,-95.7762\"/>\r\n",
       "<text text-anchor=\"middle\" x=\"431.484\" y=\"-95.8\" font-family=\"Times New Roman,serif\" font-size=\"14.00\">1</text>\r\n",
       "</g>\r\n",
       "<!-- St1&#45;&gt;St6 -->\r\n",
       "<g id=\"edge12\" class=\"edge\"><title>St1&#45;&gt;St6</title>\r\n",
       "<path fill=\"none\" stroke=\"black\" d=\"M602.918,-90.445C613.108,-89.4316 624.936,-88.2553 635.677,-87.1871\"/>\r\n",
       "<polygon fill=\"black\" stroke=\"black\" points=\"636.35,-90.6376 645.954,-86.165 635.657,-83.6719 636.35,-90.6376\"/>\r\n",
       "<text text-anchor=\"middle\" x=\"624.476\" y=\"-92.8\" font-family=\"Times New Roman,serif\" font-size=\"14.00\">0</text>\r\n",
       "</g>\r\n",
       "<!-- St0&#45;&gt;St0 -->\r\n",
       "<g id=\"edge17\" class=\"edge\"><title>St0&#45;&gt;St0</title>\r\n",
       "<path fill=\"none\" stroke=\"black\" d=\"M374.315,-156.301C373.7,-166.826 376.673,-175.748 383.236,-175.748 387.543,-175.748 390.304,-171.906 391.519,-166.289\"/>\r\n",
       "<polygon fill=\"black\" stroke=\"black\" points=\"395.012,-166.504 392.157,-156.301 388.027,-166.058 395.012,-166.504\"/>\r\n",
       "<text text-anchor=\"middle\" x=\"383.236\" y=\"-179.548\" font-family=\"Times New Roman,serif\" font-size=\"14.00\">1</text>\r\n",
       "</g>\r\n",
       "<!-- St0&#45;&gt;St2 -->\r\n",
       "<g id=\"edge16\" class=\"edge\"><title>St0&#45;&gt;St2</title>\r\n",
       "<path fill=\"none\" stroke=\"black\" d=\"M410.057,-134.552C420.162,-135.942 431.925,-137.561 442.83,-139.061\"/>\r\n",
       "<polygon fill=\"black\" stroke=\"black\" points=\"442.558,-142.556 452.942,-140.452 443.512,-135.622 442.558,-142.556\"/>\r\n",
       "<text text-anchor=\"middle\" x=\"431.484\" y=\"-141.8\" font-family=\"Times New Roman,serif\" font-size=\"14.00\">0</text>\r\n",
       "</g>\r\n",
       "<!-- St3&#45;&gt;St5 -->\r\n",
       "<g id=\"edge11\" class=\"edge\"><title>St3&#45;&gt;St5</title>\r\n",
       "<path fill=\"none\" stroke=\"black\" d=\"M756.129,-150.439C747.951,-192.513 725.341,-270 669.724,-270 289.74,-270 289.74,-270 289.74,-270 217.647,-270 204.907,-159.549 203.14,-102.399\"/>\r\n",
       "<polygon fill=\"black\" stroke=\"black\" points=\"206.633,-101.981 202.923,-92.0573 199.634,-102.129 206.633,-101.981\"/>\r\n",
       "<text text-anchor=\"middle\" x=\"479.732\" y=\"-273.8\" font-family=\"Times New Roman,serif\" font-size=\"14.00\">1</text>\r\n",
       "</g>\r\n",
       "<!-- St3&#45;&gt;St7 -->\r\n",
       "<g id=\"edge10\" class=\"edge\"><title>St3&#45;&gt;St7</title>\r\n",
       "<path fill=\"none\" stroke=\"black\" d=\"M753.801,-98.0055C743.087,-61.6448 717.829,-0 669.724,-0 201.244,-0 201.244,-0 201.244,-0 181.827,-0 160.888,-5.88619 144.476,-11.9463\"/>\r\n",
       "<polygon fill=\"black\" stroke=\"black\" points=\"142.936,-8.7904 134.896,-15.6909 145.484,-15.31 142.936,-8.7904\"/>\r\n",
       "<text text-anchor=\"middle\" x=\"431.484\" y=\"-3.8\" font-family=\"Times New Roman,serif\" font-size=\"14.00\">0</text>\r\n",
       "</g>\r\n",
       "<!-- St2&#45;&gt;St1 -->\r\n",
       "<g id=\"edge15\" class=\"edge\"><title>St2&#45;&gt;St1</title>\r\n",
       "<path fill=\"none\" stroke=\"black\" d=\"M503.328,-130.826C510.094,-126.952 517.557,-122.749 524.48,-119 530.307,-115.845 536.556,-112.562 542.608,-109.434\"/>\r\n",
       "<polygon fill=\"black\" stroke=\"black\" points=\"544.566,-112.363 551.868,-104.686 541.373,-106.134 544.566,-112.363\"/>\r\n",
       "<text text-anchor=\"middle\" x=\"527.98\" y=\"-122.8\" font-family=\"Times New Roman,serif\" font-size=\"14.00\">1</text>\r\n",
       "</g>\r\n",
       "<!-- St2&#45;&gt;St3 -->\r\n",
       "<g id=\"edge14\" class=\"edge\"><title>St2&#45;&gt;St3</title>\r\n",
       "<path fill=\"none\" stroke=\"black\" d=\"M506.524,-142.154C556.648,-138.567 667.292,-130.65 724.463,-126.559\"/>\r\n",
       "<polygon fill=\"black\" stroke=\"black\" points=\"724.765,-130.046 734.489,-125.841 724.265,-123.064 724.765,-130.046\"/>\r\n",
       "<text text-anchor=\"middle\" x=\"624.476\" y=\"-137.8\" font-family=\"Times New Roman,serif\" font-size=\"14.00\">0</text>\r\n",
       "</g>\r\n",
       "</g>\r\n",
       "</svg>\r\n"
      ],
      "text/plain": [
       "<graphviz.dot.Digraph at 0x1fb009e3208>"
      ]
     },
     "execution_count": 8,
     "metadata": {},
     "output_type": "execute_result"
    }
   ],
   "source": [
    "dotObj_dfa(min_dfa(nfa2dfa(thirdlast)))"
   ]
  },
  {
   "cell_type": "code",
   "execution_count": 9,
   "metadata": {
    "run_control": {
     "frozen": false,
     "read_only": false
    }
   },
   "outputs": [
    {
     "data": {
      "image/svg+xml": [
       "<?xml version=\"1.0\" encoding=\"UTF-8\" standalone=\"no\"?>\r\n",
       "<!DOCTYPE svg PUBLIC \"-//W3C//DTD SVG 1.1//EN\"\r\n",
       " \"http://www.w3.org/Graphics/SVG/1.1/DTD/svg11.dtd\">\r\n",
       "<!-- Generated by graphviz version 2.38.0 (20140413.2041)\r\n",
       " -->\r\n",
       "<!-- Title: %3 Pages: 1 -->\r\n",
       "<svg width=\"1591pt\" height=\"461pt\"\r\n",
       " viewBox=\"0.00 0.00 1590.53 461.00\" xmlns=\"http://www.w3.org/2000/svg\" xmlns:xlink=\"http://www.w3.org/1999/xlink\">\r\n",
       "<g id=\"graph0\" class=\"graph\" transform=\"scale(1 1) rotate(0) translate(4 457)\">\r\n",
       "<title>%3</title>\r\n",
       "<polygon fill=\"white\" stroke=\"none\" points=\"-4,4 -4,-457 1586.53,-457 1586.53,4 -4,4\"/>\r\n",
       "<!-- EMPTY -->\r\n",
       "<g id=\"node1\" class=\"node\"><title>EMPTY</title>\r\n",
       "</g>\r\n",
       "<!-- St15 -->\r\n",
       "<g id=\"node4\" class=\"node\"><title>St15</title>\r\n",
       "<ellipse fill=\"none\" stroke=\"black\" cx=\"118.298\" cy=\"-36\" rx=\"27.0966\" ry=\"27.0966\"/>\r\n",
       "<text text-anchor=\"middle\" x=\"118.298\" y=\"-32.3\" font-family=\"Times New Roman,serif\" font-size=\"14.00\">St15</text>\r\n",
       "</g>\r\n",
       "<!-- EMPTY&#45;&gt;St15 -->\r\n",
       "<g id=\"edge1\" class=\"edge\"><title>EMPTY&#45;&gt;St15</title>\r\n",
       "<path fill=\"none\" stroke=\"black\" d=\"M54.3092,-36C62.5921,-36 71.8942,-36 80.7554,-36\"/>\r\n",
       "<polygon fill=\"black\" stroke=\"black\" points=\"80.8678,-39.5001 90.8678,-36 80.8678,-32.5001 80.8678,-39.5001\"/>\r\n",
       "</g>\r\n",
       "<!-- St10 -->\r\n",
       "<g id=\"node2\" class=\"node\"><title>St10</title>\r\n",
       "<ellipse fill=\"none\" stroke=\"black\" cx=\"411.083\" cy=\"-348\" rx=\"27.0966\" ry=\"27.0966\"/>\r\n",
       "<text text-anchor=\"middle\" x=\"411.083\" y=\"-344.3\" font-family=\"Times New Roman,serif\" font-size=\"14.00\">St10</text>\r\n",
       "</g>\r\n",
       "<!-- St5 -->\r\n",
       "<g id=\"node11\" class=\"node\"><title>St5</title>\r\n",
       "<ellipse fill=\"none\" stroke=\"black\" cx=\"508.129\" cy=\"-337\" rx=\"22.9609\" ry=\"22.9609\"/>\r\n",
       "<ellipse fill=\"none\" stroke=\"black\" cx=\"508.129\" cy=\"-337\" rx=\"26.9983\" ry=\"26.9983\"/>\r\n",
       "<text text-anchor=\"middle\" x=\"508.129\" y=\"-333.3\" font-family=\"Times New Roman,serif\" font-size=\"14.00\">St5</text>\r\n",
       "</g>\r\n",
       "<!-- St10&#45;&gt;St5 -->\r\n",
       "<g id=\"edge12\" class=\"edge\"><title>St10&#45;&gt;St5</title>\r\n",
       "<path fill=\"none\" stroke=\"black\" d=\"M438.306,-344.965C448.466,-343.789 460.264,-342.424 471.192,-341.159\"/>\r\n",
       "<polygon fill=\"black\" stroke=\"black\" points=\"471.788,-344.614 481.32,-339.987 470.984,-337.66 471.788,-344.614\"/>\r\n",
       "<text text-anchor=\"middle\" x=\"459.881\" y=\"-346.8\" font-family=\"Times New Roman,serif\" font-size=\"14.00\">0</text>\r\n",
       "</g>\r\n",
       "<!-- St1 -->\r\n",
       "<g id=\"node14\" class=\"node\"><title>St1</title>\r\n",
       "<ellipse fill=\"none\" stroke=\"black\" cx=\"1265.2\" cy=\"-259\" rx=\"22.9609\" ry=\"22.9609\"/>\r\n",
       "<ellipse fill=\"none\" stroke=\"black\" cx=\"1265.2\" cy=\"-259\" rx=\"26.9983\" ry=\"26.9983\"/>\r\n",
       "<text text-anchor=\"middle\" x=\"1265.2\" y=\"-255.3\" font-family=\"Times New Roman,serif\" font-size=\"14.00\">St1</text>\r\n",
       "</g>\r\n",
       "<!-- St10&#45;&gt;St1 -->\r\n",
       "<g id=\"edge13\" class=\"edge\"><title>St10&#45;&gt;St1</title>\r\n",
       "<path fill=\"none\" stroke=\"black\" d=\"M433.446,-364.384C451.91,-376.894 479.854,-392 507.129,-392 507.129,-392 507.129,-392 1024.96,-392 1112.24,-392 1197.42,-323.543 1238.59,-284.856\"/>\r\n",
       "<polygon fill=\"black\" stroke=\"black\" points=\"1241.19,-287.216 1245.99,-277.774 1236.35,-282.159 1241.19,-287.216\"/>\r\n",
       "<text text-anchor=\"middle\" x=\"838.964\" y=\"-395.8\" font-family=\"Times New Roman,serif\" font-size=\"14.00\">1</text>\r\n",
       "</g>\r\n",
       "<!-- St14 -->\r\n",
       "<g id=\"node3\" class=\"node\"><title>St14</title>\r\n",
       "<ellipse fill=\"none\" stroke=\"black\" cx=\"605.174\" cy=\"-295\" rx=\"27.0966\" ry=\"27.0966\"/>\r\n",
       "<text text-anchor=\"middle\" x=\"605.174\" y=\"-291.3\" font-family=\"Times New Roman,serif\" font-size=\"14.00\">St14</text>\r\n",
       "</g>\r\n",
       "<!-- St3 -->\r\n",
       "<g id=\"node10\" class=\"node\"><title>St3</title>\r\n",
       "<ellipse fill=\"none\" stroke=\"black\" cx=\"702.22\" cy=\"-236\" rx=\"22.9609\" ry=\"22.9609\"/>\r\n",
       "<ellipse fill=\"none\" stroke=\"black\" cx=\"702.22\" cy=\"-236\" rx=\"26.9983\" ry=\"26.9983\"/>\r\n",
       "<text text-anchor=\"middle\" x=\"702.22\" y=\"-232.3\" font-family=\"Times New Roman,serif\" font-size=\"14.00\">St3</text>\r\n",
       "</g>\r\n",
       "<!-- St14&#45;&gt;St3 -->\r\n",
       "<g id=\"edge11\" class=\"edge\"><title>St14&#45;&gt;St3</title>\r\n",
       "<path fill=\"none\" stroke=\"black\" d=\"M628.699,-281.018C641.217,-273.247 656.971,-263.467 670.595,-255.01\"/>\r\n",
       "<polygon fill=\"black\" stroke=\"black\" points=\"672.535,-257.926 679.185,-249.678 668.843,-251.979 672.535,-257.926\"/>\r\n",
       "<text text-anchor=\"middle\" x=\"653.972\" y=\"-271.8\" font-family=\"Times New Roman,serif\" font-size=\"14.00\">1</text>\r\n",
       "</g>\r\n",
       "<!-- St7 -->\r\n",
       "<g id=\"node17\" class=\"node\"><title>St7</title>\r\n",
       "<ellipse fill=\"none\" stroke=\"black\" cx=\"1555.78\" cy=\"-290\" rx=\"22.9609\" ry=\"22.9609\"/>\r\n",
       "<ellipse fill=\"none\" stroke=\"black\" cx=\"1555.78\" cy=\"-290\" rx=\"26.9983\" ry=\"26.9983\"/>\r\n",
       "<text text-anchor=\"middle\" x=\"1555.78\" y=\"-286.3\" font-family=\"Times New Roman,serif\" font-size=\"14.00\">St7</text>\r\n",
       "</g>\r\n",
       "<!-- St14&#45;&gt;St7 -->\r\n",
       "<g id=\"edge10\" class=\"edge\"><title>St14&#45;&gt;St7</title>\r\n",
       "<path fill=\"none\" stroke=\"black\" d=\"M631.256,-303.663C650.229,-309.447 677.054,-316 701.22,-316 701.22,-316 701.22,-316 928.46,-316 1014.6,-316 1033.31,-349 1119.45,-349 1119.45,-349 1119.45,-349 1460.29,-349 1486.79,-349 1511.99,-332.099 1529.69,-316.388\"/>\r\n",
       "<polygon fill=\"black\" stroke=\"black\" points=\"1532.35,-318.698 1537.28,-309.319 1527.57,-313.577 1532.35,-318.698\"/>\r\n",
       "<text text-anchor=\"middle\" x=\"1072.2\" y=\"-352.8\" font-family=\"Times New Roman,serif\" font-size=\"14.00\">0</text>\r\n",
       "</g>\r\n",
       "<!-- St15&#45;&gt;St15 -->\r\n",
       "<g id=\"edge2\" class=\"edge\"><title>St15&#45;&gt;St15</title>\r\n",
       "<path fill=\"none\" stroke=\"black\" d=\"M110.098,-62.0673C109.635,-72.5223 112.368,-81.2976 118.298,-81.2976 122.096,-81.2976 124.583,-77.6962 125.758,-72.359\"/>\r\n",
       "<polygon fill=\"black\" stroke=\"black\" points=\"129.272,-72.2924 126.497,-62.0673 122.29,-71.7909 129.272,-72.2924\"/>\r\n",
       "<text text-anchor=\"middle\" x=\"118.298\" y=\"-85.0976\" font-family=\"Times New Roman,serif\" font-size=\"14.00\">0</text>\r\n",
       "</g>\r\n",
       "<!-- St11 -->\r\n",
       "<g id=\"node7\" class=\"node\"><title>St11</title>\r\n",
       "<ellipse fill=\"none\" stroke=\"black\" cx=\"215.893\" cy=\"-112\" rx=\"27.0966\" ry=\"27.0966\"/>\r\n",
       "<text text-anchor=\"middle\" x=\"215.893\" y=\"-108.3\" font-family=\"Times New Roman,serif\" font-size=\"14.00\">St11</text>\r\n",
       "</g>\r\n",
       "<!-- St15&#45;&gt;St11 -->\r\n",
       "<g id=\"edge3\" class=\"edge\"><title>St15&#45;&gt;St11</title>\r\n",
       "<path fill=\"none\" stroke=\"black\" d=\"M140.513,-52.8669C153.848,-63.4682 171.23,-77.2872 185.837,-88.9001\"/>\r\n",
       "<polygon fill=\"black\" stroke=\"black\" points=\"184.059,-91.9583 194.065,-95.4418 188.416,-86.4789 184.059,-91.9583\"/>\r\n",
       "<text text-anchor=\"middle\" x=\"167.095\" y=\"-80.8\" font-family=\"Times New Roman,serif\" font-size=\"14.00\">1</text>\r\n",
       "</g>\r\n",
       "<!-- St8 -->\r\n",
       "<g id=\"node5\" class=\"node\"><title>St8</title>\r\n",
       "<ellipse fill=\"none\" stroke=\"black\" cx=\"883.212\" cy=\"-205\" rx=\"22.9987\" ry=\"22.9987\"/>\r\n",
       "<text text-anchor=\"middle\" x=\"883.212\" y=\"-201.3\" font-family=\"Times New Roman,serif\" font-size=\"14.00\">St8</text>\r\n",
       "</g>\r\n",
       "<!-- St4 -->\r\n",
       "<g id=\"node12\" class=\"node\"><title>St4</title>\r\n",
       "<ellipse fill=\"none\" stroke=\"black\" cx=\"1072.2\" cy=\"-194\" rx=\"22.9609\" ry=\"22.9609\"/>\r\n",
       "<ellipse fill=\"none\" stroke=\"black\" cx=\"1072.2\" cy=\"-194\" rx=\"26.9983\" ry=\"26.9983\"/>\r\n",
       "<text text-anchor=\"middle\" x=\"1072.2\" y=\"-190.3\" font-family=\"Times New Roman,serif\" font-size=\"14.00\">St4</text>\r\n",
       "</g>\r\n",
       "<!-- St8&#45;&gt;St4 -->\r\n",
       "<g id=\"edge16\" class=\"edge\"><title>St8&#45;&gt;St4</title>\r\n",
       "<path fill=\"none\" stroke=\"black\" d=\"M906.081,-206.266C918.625,-206.928 934.672,-207.669 948.96,-208 972.729,-208.55 978.799,-210.384 1002.46,-208 1013.48,-206.889 1025.34,-204.801 1036.06,-202.57\"/>\r\n",
       "<polygon fill=\"black\" stroke=\"black\" points=\"1036.9,-205.969 1045.92,-200.414 1035.41,-199.131 1036.9,-205.969\"/>\r\n",
       "<text text-anchor=\"middle\" x=\"975.708\" y=\"-213.8\" font-family=\"Times New Roman,serif\" font-size=\"14.00\">0</text>\r\n",
       "</g>\r\n",
       "<!-- St0 -->\r\n",
       "<g id=\"node15\" class=\"node\"><title>St0</title>\r\n",
       "<ellipse fill=\"none\" stroke=\"black\" cx=\"975.708\" cy=\"-139\" rx=\"22.9609\" ry=\"22.9609\"/>\r\n",
       "<ellipse fill=\"none\" stroke=\"black\" cx=\"975.708\" cy=\"-139\" rx=\"26.9983\" ry=\"26.9983\"/>\r\n",
       "<text text-anchor=\"middle\" x=\"975.708\" y=\"-135.3\" font-family=\"Times New Roman,serif\" font-size=\"14.00\">St0</text>\r\n",
       "</g>\r\n",
       "<!-- St8&#45;&gt;St0 -->\r\n",
       "<g id=\"edge17\" class=\"edge\"><title>St8&#45;&gt;St0</title>\r\n",
       "<path fill=\"none\" stroke=\"black\" d=\"M902.091,-191.961C914.492,-182.916 931.286,-170.668 945.601,-160.228\"/>\r\n",
       "<polygon fill=\"black\" stroke=\"black\" points=\"947.673,-163.049 953.69,-154.328 943.548,-157.393 947.673,-163.049\"/>\r\n",
       "<text text-anchor=\"middle\" x=\"927.46\" y=\"-179.8\" font-family=\"Times New Roman,serif\" font-size=\"14.00\">1</text>\r\n",
       "</g>\r\n",
       "<!-- St12 -->\r\n",
       "<g id=\"node6\" class=\"node\"><title>St12</title>\r\n",
       "<ellipse fill=\"none\" stroke=\"black\" cx=\"1362.24\" cy=\"-180\" rx=\"27.0966\" ry=\"27.0966\"/>\r\n",
       "<text text-anchor=\"middle\" x=\"1362.24\" y=\"-176.3\" font-family=\"Times New Roman,serif\" font-size=\"14.00\">St12</text>\r\n",
       "</g>\r\n",
       "<!-- St6 -->\r\n",
       "<g id=\"node13\" class=\"node\"><title>St6</title>\r\n",
       "<ellipse fill=\"none\" stroke=\"black\" cx=\"1459.29\" cy=\"-144\" rx=\"22.9609\" ry=\"22.9609\"/>\r\n",
       "<ellipse fill=\"none\" stroke=\"black\" cx=\"1459.29\" cy=\"-144\" rx=\"26.9983\" ry=\"26.9983\"/>\r\n",
       "<text text-anchor=\"middle\" x=\"1459.29\" y=\"-140.3\" font-family=\"Times New Roman,serif\" font-size=\"14.00\">St6</text>\r\n",
       "</g>\r\n",
       "<!-- St12&#45;&gt;St6 -->\r\n",
       "<g id=\"edge14\" class=\"edge\"><title>St12&#45;&gt;St6</title>\r\n",
       "<path fill=\"none\" stroke=\"black\" d=\"M1388.21,-170.541C1399.3,-166.342 1412.52,-161.336 1424.47,-156.809\"/>\r\n",
       "<polygon fill=\"black\" stroke=\"black\" points=\"1426.03,-159.962 1434.14,-153.147 1423.55,-153.416 1426.03,-159.962\"/>\r\n",
       "<text text-anchor=\"middle\" x=\"1411.04\" y=\"-167.8\" font-family=\"Times New Roman,serif\" font-size=\"14.00\">0</text>\r\n",
       "</g>\r\n",
       "<!-- St2 -->\r\n",
       "<g id=\"node16\" class=\"node\"><title>St2</title>\r\n",
       "<ellipse fill=\"none\" stroke=\"black\" cx=\"1168.7\" cy=\"-200\" rx=\"22.9609\" ry=\"22.9609\"/>\r\n",
       "<ellipse fill=\"none\" stroke=\"black\" cx=\"1168.7\" cy=\"-200\" rx=\"26.9983\" ry=\"26.9983\"/>\r\n",
       "<text text-anchor=\"middle\" x=\"1168.7\" y=\"-196.3\" font-family=\"Times New Roman,serif\" font-size=\"14.00\">St2</text>\r\n",
       "</g>\r\n",
       "<!-- St12&#45;&gt;St2 -->\r\n",
       "<g id=\"edge15\" class=\"edge\"><title>St12&#45;&gt;St2</title>\r\n",
       "<path fill=\"none\" stroke=\"black\" d=\"M1334.9,-182.751C1301.32,-186.256 1243.14,-192.331 1205.55,-196.257\"/>\r\n",
       "<polygon fill=\"black\" stroke=\"black\" points=\"1205.11,-192.783 1195.53,-197.303 1205.84,-199.745 1205.11,-192.783\"/>\r\n",
       "<text text-anchor=\"middle\" x=\"1265.2\" y=\"-196.8\" font-family=\"Times New Roman,serif\" font-size=\"14.00\">1</text>\r\n",
       "</g>\r\n",
       "<!-- St13 -->\r\n",
       "<g id=\"node8\" class=\"node\"><title>St13</title>\r\n",
       "<ellipse fill=\"none\" stroke=\"black\" cx=\"313.488\" cy=\"-258\" rx=\"27.0966\" ry=\"27.0966\"/>\r\n",
       "<text text-anchor=\"middle\" x=\"313.488\" y=\"-254.3\" font-family=\"Times New Roman,serif\" font-size=\"14.00\">St13</text>\r\n",
       "</g>\r\n",
       "<!-- St11&#45;&gt;St13 -->\r\n",
       "<g id=\"edge4\" class=\"edge\"><title>St11&#45;&gt;St13</title>\r\n",
       "<path fill=\"none\" stroke=\"black\" d=\"M231.62,-134.493C247.783,-159.177 273.84,-198.974 291.993,-226.699\"/>\r\n",
       "<polygon fill=\"black\" stroke=\"black\" points=\"289.18,-228.792 297.586,-235.241 295.037,-224.958 289.18,-228.792\"/>\r\n",
       "<text text-anchor=\"middle\" x=\"264.69\" y=\"-193.8\" font-family=\"Times New Roman,serif\" font-size=\"14.00\">0</text>\r\n",
       "</g>\r\n",
       "<!-- St9 -->\r\n",
       "<g id=\"node9\" class=\"node\"><title>St9</title>\r\n",
       "<ellipse fill=\"none\" stroke=\"black\" cx=\"794.716\" cy=\"-130\" rx=\"22.9987\" ry=\"22.9987\"/>\r\n",
       "<text text-anchor=\"middle\" x=\"794.716\" y=\"-126.3\" font-family=\"Times New Roman,serif\" font-size=\"14.00\">St9</text>\r\n",
       "</g>\r\n",
       "<!-- St11&#45;&gt;St9 -->\r\n",
       "<g id=\"edge5\" class=\"edge\"><title>St11&#45;&gt;St9</title>\r\n",
       "<path fill=\"none\" stroke=\"black\" d=\"M233.526,-91.1172C250.945,-71.7813 280.22,-46 312.488,-46 312.488,-46 312.488,-46 703.22,-46 736.63,-46 762.902,-77.1362 778.344,-101.496\"/>\r\n",
       "<polygon fill=\"black\" stroke=\"black\" points=\"775.371,-103.342 783.536,-110.093 781.363,-99.7237 775.371,-103.342\"/>\r\n",
       "<text text-anchor=\"middle\" x=\"508.129\" y=\"-49.8\" font-family=\"Times New Roman,serif\" font-size=\"14.00\">1</text>\r\n",
       "</g>\r\n",
       "<!-- St13&#45;&gt;St10 -->\r\n",
       "<g id=\"edge7\" class=\"edge\"><title>St13&#45;&gt;St10</title>\r\n",
       "<path fill=\"none\" stroke=\"black\" d=\"M333.833,-276.213C347.992,-289.543 367.389,-307.805 383.075,-322.573\"/>\r\n",
       "<polygon fill=\"black\" stroke=\"black\" points=\"380.758,-325.199 390.439,-329.505 385.557,-320.102 380.758,-325.199\"/>\r\n",
       "<text text-anchor=\"middle\" x=\"362.285\" y=\"-309.8\" font-family=\"Times New Roman,serif\" font-size=\"14.00\">1</text>\r\n",
       "</g>\r\n",
       "<!-- St13&#45;&gt;St14 -->\r\n",
       "<g id=\"edge6\" class=\"edge\"><title>St13&#45;&gt;St14</title>\r\n",
       "<path fill=\"none\" stroke=\"black\" d=\"M340.707,-261.349C392.604,-267.977 508.513,-282.782 567.771,-290.35\"/>\r\n",
       "<polygon fill=\"black\" stroke=\"black\" points=\"567.443,-293.837 577.806,-291.632 568.33,-286.893 567.443,-293.837\"/>\r\n",
       "<text text-anchor=\"middle\" x=\"459.881\" y=\"-280.8\" font-family=\"Times New Roman,serif\" font-size=\"14.00\">0</text>\r\n",
       "</g>\r\n",
       "<!-- St9&#45;&gt;St8 -->\r\n",
       "<g id=\"edge9\" class=\"edge\"><title>St9&#45;&gt;St8</title>\r\n",
       "<path fill=\"none\" stroke=\"black\" d=\"M812.393,-144.461C825.316,-155.666 843.408,-171.353 857.936,-183.951\"/>\r\n",
       "<polygon fill=\"black\" stroke=\"black\" points=\"855.737,-186.677 865.586,-190.584 860.323,-181.388 855.737,-186.677\"/>\r\n",
       "<text text-anchor=\"middle\" x=\"838.964\" y=\"-173.8\" font-family=\"Times New Roman,serif\" font-size=\"14.00\">1</text>\r\n",
       "</g>\r\n",
       "<!-- St9&#45;&gt;St12 -->\r\n",
       "<g id=\"edge8\" class=\"edge\"><title>St9&#45;&gt;St12</title>\r\n",
       "<path fill=\"none\" stroke=\"black\" d=\"M817.382,-124.951C846.925,-118.35 901.595,-107.141 948.96,-103 1090.69,-90.6096 1256.24,-141.989 1326.69,-167.012\"/>\r\n",
       "<polygon fill=\"black\" stroke=\"black\" points=\"1325.78,-170.406 1336.38,-170.502 1328.16,-163.82 1325.78,-170.406\"/>\r\n",
       "<text text-anchor=\"middle\" x=\"1072.2\" y=\"-112.8\" font-family=\"Times New Roman,serif\" font-size=\"14.00\">0</text>\r\n",
       "</g>\r\n",
       "<!-- St3&#45;&gt;St13 -->\r\n",
       "<g id=\"edge20\" class=\"edge\"><title>St3&#45;&gt;St13</title>\r\n",
       "<path fill=\"none\" stroke=\"black\" d=\"M675.402,-236C656.286,-236 629.606,-236 606.174,-236 410.083,-236 410.083,-236 410.083,-236 389.487,-236 367.016,-240.91 349.039,-246.091\"/>\r\n",
       "<polygon fill=\"black\" stroke=\"black\" points=\"347.84,-242.797 339.288,-249.052 349.874,-249.495 347.84,-242.797\"/>\r\n",
       "<text text-anchor=\"middle\" x=\"508.129\" y=\"-239.8\" font-family=\"Times New Roman,serif\" font-size=\"14.00\">0</text>\r\n",
       "</g>\r\n",
       "<!-- St3&#45;&gt;St9 -->\r\n",
       "<g id=\"edge21\" class=\"edge\"><title>St3&#45;&gt;St9</title>\r\n",
       "<path fill=\"none\" stroke=\"black\" d=\"M720.241,-216.062C735.049,-198.718 756.57,-173.509 772.497,-154.854\"/>\r\n",
       "<polygon fill=\"black\" stroke=\"black\" points=\"775.329,-156.927 779.16,-147.049 770.005,-152.382 775.329,-156.927\"/>\r\n",
       "<text text-anchor=\"middle\" x=\"750.468\" y=\"-186.8\" font-family=\"Times New Roman,serif\" font-size=\"14.00\">1</text>\r\n",
       "</g>\r\n",
       "<!-- St5&#45;&gt;St10 -->\r\n",
       "<g id=\"edge23\" class=\"edge\"><title>St5&#45;&gt;St10</title>\r\n",
       "<path fill=\"none\" stroke=\"black\" d=\"M483.638,-325.992C475.062,-323.29 465.285,-321.743 456.381,-324 451.969,-325.118 447.521,-326.773 443.233,-328.701\"/>\r\n",
       "<polygon fill=\"black\" stroke=\"black\" points=\"441.542,-325.634 434.18,-333.253 444.686,-331.888 441.542,-325.634\"/>\r\n",
       "<text text-anchor=\"middle\" x=\"459.881\" y=\"-327.8\" font-family=\"Times New Roman,serif\" font-size=\"14.00\">1</text>\r\n",
       "</g>\r\n",
       "<!-- St5&#45;&gt;St14 -->\r\n",
       "<g id=\"edge22\" class=\"edge\"><title>St5&#45;&gt;St14</title>\r\n",
       "<path fill=\"none\" stroke=\"black\" d=\"M533.113,-326.402C544.506,-321.367 558.315,-315.265 570.719,-309.784\"/>\r\n",
       "<polygon fill=\"black\" stroke=\"black\" points=\"572.135,-312.984 579.867,-305.741 569.306,-306.582 572.135,-312.984\"/>\r\n",
       "<text text-anchor=\"middle\" x=\"556.377\" y=\"-321.8\" font-family=\"Times New Roman,serif\" font-size=\"14.00\">0</text>\r\n",
       "</g>\r\n",
       "<!-- St4&#45;&gt;St6 -->\r\n",
       "<g id=\"edge30\" class=\"edge\"><title>St4&#45;&gt;St6</title>\r\n",
       "<path fill=\"none\" stroke=\"black\" d=\"M1096.11,-181.879C1109.18,-175.509 1126.08,-168.176 1141.95,-164 1240.85,-137.97 1362.87,-139.193 1422.32,-141.818\"/>\r\n",
       "<polygon fill=\"black\" stroke=\"black\" points=\"1422.17,-145.315 1432.33,-142.3 1422.51,-138.323 1422.17,-145.315\"/>\r\n",
       "<text text-anchor=\"middle\" x=\"1265.2\" y=\"-150.8\" font-family=\"Times New Roman,serif\" font-size=\"14.00\">0</text>\r\n",
       "</g>\r\n",
       "<!-- St4&#45;&gt;St2 -->\r\n",
       "<g id=\"edge31\" class=\"edge\"><title>St4&#45;&gt;St2</title>\r\n",
       "<path fill=\"none\" stroke=\"black\" d=\"M1099.03,-195.64C1109.13,-196.281 1120.89,-197.028 1131.8,-197.72\"/>\r\n",
       "<polygon fill=\"black\" stroke=\"black\" points=\"1131.71,-201.222 1141.91,-198.362 1132.15,-194.236 1131.71,-201.222\"/>\r\n",
       "<text text-anchor=\"middle\" x=\"1120.45\" y=\"-201.8\" font-family=\"Times New Roman,serif\" font-size=\"14.00\">1</text>\r\n",
       "</g>\r\n",
       "<!-- St6&#45;&gt;St3 -->\r\n",
       "<g id=\"edge27\" class=\"edge\"><title>St6&#45;&gt;St3</title>\r\n",
       "<path fill=\"none\" stroke=\"black\" d=\"M1447.72,-119.775C1433.23,-90.7547 1404.24,-46 1363.24,-46 926.46,-46 926.46,-46 926.46,-46 854.011,-46 826.595,-50.4119 771.968,-98 740.917,-125.05 722.358,-169.429 712.491,-200.538\"/>\r\n",
       "<polygon fill=\"black\" stroke=\"black\" points=\"709.134,-199.549 709.588,-210.134 715.834,-201.576 709.134,-199.549\"/>\r\n",
       "<text text-anchor=\"middle\" x=\"1072.2\" y=\"-49.8\" font-family=\"Times New Roman,serif\" font-size=\"14.00\">1</text>\r\n",
       "</g>\r\n",
       "<!-- St6&#45;&gt;St7 -->\r\n",
       "<g id=\"edge26\" class=\"edge\"><title>St6&#45;&gt;St7</title>\r\n",
       "<path fill=\"none\" stroke=\"black\" d=\"M1474.64,-166.174C1490.67,-190.936 1516.72,-231.186 1534.75,-259.043\"/>\r\n",
       "<polygon fill=\"black\" stroke=\"black\" points=\"1531.92,-261.124 1540.3,-267.617 1537.8,-257.32 1531.92,-261.124\"/>\r\n",
       "<text text-anchor=\"middle\" x=\"1507.53\" y=\"-225.8\" font-family=\"Times New Roman,serif\" font-size=\"14.00\">0</text>\r\n",
       "</g>\r\n",
       "<!-- St1&#45;&gt;St8 -->\r\n",
       "<g id=\"edge25\" class=\"edge\"><title>St1&#45;&gt;St8</title>\r\n",
       "<path fill=\"none\" stroke=\"black\" d=\"M1238.24,-258.094C1184.06,-255.86 1055.16,-248.759 948.96,-229 937.048,-226.784 924.451,-222.577 913.565,-218.297\"/>\r\n",
       "<polygon fill=\"black\" stroke=\"black\" points=\"914.697,-214.978 904.118,-214.4 912.028,-221.449 914.697,-214.978\"/>\r\n",
       "<text text-anchor=\"middle\" x=\"1072.2\" y=\"-252.8\" font-family=\"Times New Roman,serif\" font-size=\"14.00\">1</text>\r\n",
       "</g>\r\n",
       "<!-- St1&#45;&gt;St12 -->\r\n",
       "<g id=\"edge24\" class=\"edge\"><title>St1&#45;&gt;St12</title>\r\n",
       "<path fill=\"none\" stroke=\"black\" d=\"M1286.35,-242.246C1299.87,-231.011 1317.87,-216.051 1332.83,-203.613\"/>\r\n",
       "<polygon fill=\"black\" stroke=\"black\" points=\"1335.33,-206.086 1340.79,-197.002 1330.86,-200.703 1335.33,-206.086\"/>\r\n",
       "<text text-anchor=\"middle\" x=\"1313.44\" y=\"-225.8\" font-family=\"Times New Roman,serif\" font-size=\"14.00\">0</text>\r\n",
       "</g>\r\n",
       "<!-- St0&#45;&gt;St4 -->\r\n",
       "<g id=\"edge32\" class=\"edge\"><title>St0&#45;&gt;St4</title>\r\n",
       "<path fill=\"none\" stroke=\"black\" d=\"M999.102,-152.034C1011.25,-159.106 1026.47,-167.962 1039.79,-175.714\"/>\r\n",
       "<polygon fill=\"black\" stroke=\"black\" points=\"1038.24,-178.863 1048.64,-180.869 1041.76,-172.813 1038.24,-178.863\"/>\r\n",
       "<text text-anchor=\"middle\" x=\"1023.96\" y=\"-172.8\" font-family=\"Times New Roman,serif\" font-size=\"14.00\">0</text>\r\n",
       "</g>\r\n",
       "<!-- St0&#45;&gt;St0 -->\r\n",
       "<g id=\"edge33\" class=\"edge\"><title>St0&#45;&gt;St0</title>\r\n",
       "<path fill=\"none\" stroke=\"black\" d=\"M966.787,-164.301C966.171,-174.826 969.145,-183.748 975.708,-183.748 980.014,-183.748 982.775,-179.906 983.991,-174.289\"/>\r\n",
       "<polygon fill=\"black\" stroke=\"black\" points=\"987.484,-174.504 984.629,-164.301 980.498,-174.058 987.484,-174.504\"/>\r\n",
       "<text text-anchor=\"middle\" x=\"975.708\" y=\"-187.548\" font-family=\"Times New Roman,serif\" font-size=\"14.00\">1</text>\r\n",
       "</g>\r\n",
       "<!-- St2&#45;&gt;St5 -->\r\n",
       "<g id=\"edge28\" class=\"edge\"><title>St2&#45;&gt;St5</title>\r\n",
       "<path fill=\"none\" stroke=\"black\" d=\"M1151.21,-220.45C1115.44,-262.341 1026.02,-354 928.46,-354 604.174,-354 604.174,-354 604.174,-354 584.136,-354 562.088,-350.293 544.275,-346.342\"/>\r\n",
       "<polygon fill=\"black\" stroke=\"black\" points=\"544.859,-342.884 534.325,-344.013 543.264,-349.699 544.859,-342.884\"/>\r\n",
       "<text text-anchor=\"middle\" x=\"838.964\" y=\"-357.8\" font-family=\"Times New Roman,serif\" font-size=\"14.00\">0</text>\r\n",
       "</g>\r\n",
       "<!-- St2&#45;&gt;St1 -->\r\n",
       "<g id=\"edge29\" class=\"edge\"><title>St2&#45;&gt;St1</title>\r\n",
       "<path fill=\"none\" stroke=\"black\" d=\"M1191.99,-213.48C1200.87,-218.885 1211.17,-225.198 1220.45,-231 1224.62,-233.612 1229.01,-236.384 1233.33,-239.129\"/>\r\n",
       "<polygon fill=\"black\" stroke=\"black\" points=\"1231.68,-242.234 1242,-244.665 1235.45,-236.334 1231.68,-242.234\"/>\r\n",
       "<text text-anchor=\"middle\" x=\"1216.95\" y=\"-234.8\" font-family=\"Times New Roman,serif\" font-size=\"14.00\">1</text>\r\n",
       "</g>\r\n",
       "<!-- St7&#45;&gt;St15 -->\r\n",
       "<g id=\"edge18\" class=\"edge\"><title>St7&#45;&gt;St15</title>\r\n",
       "<path fill=\"none\" stroke=\"black\" d=\"M1551.9,-263.496C1543.39,-191.906 1515.42,-0 1460.29,-0 214.893,-0 214.893,-0 214.893,-0 192.542,-0 169.029,-8.72527 150.915,-17.5847\"/>\r\n",
       "<polygon fill=\"black\" stroke=\"black\" points=\"149.262,-14.4989 141.97,-22.1844 152.463,-20.7242 149.262,-14.4989\"/>\r\n",
       "<text text-anchor=\"middle\" x=\"838.964\" y=\"-3.8\" font-family=\"Times New Roman,serif\" font-size=\"14.00\">0</text>\r\n",
       "</g>\r\n",
       "<!-- St7&#45;&gt;St11 -->\r\n",
       "<g id=\"edge19\" class=\"edge\"><title>St7&#45;&gt;St11</title>\r\n",
       "<path fill=\"none\" stroke=\"black\" d=\"M1550.31,-316.459C1541.44,-359.029 1517.29,-438 1460.29,-438 312.488,-438 312.488,-438 312.488,-438 252.897,-438 227.819,-234.882 219.899,-149.305\"/>\r\n",
       "<polygon fill=\"black\" stroke=\"black\" points=\"223.375,-148.881 218.996,-139.234 216.403,-149.506 223.375,-148.881\"/>\r\n",
       "<text text-anchor=\"middle\" x=\"883.212\" y=\"-441.8\" font-family=\"Times New Roman,serif\" font-size=\"14.00\">1</text>\r\n",
       "</g>\r\n",
       "</g>\r\n",
       "</svg>\r\n"
      ],
      "text/plain": [
       "<graphviz.dot.Digraph at 0x1fb00c5df60>"
      ]
     },
     "execution_count": 9,
     "metadata": {},
     "output_type": "execute_result"
    }
   ],
   "source": [
    "dotObj_dfa(min_dfa(nfa2dfa(fourthlast)))"
   ]
  },
  {
   "cell_type": "code",
   "execution_count": 10,
   "metadata": {
    "run_control": {
     "frozen": false,
     "read_only": false
    }
   },
   "outputs": [
    {
     "data": {
      "image/svg+xml": [
       "<?xml version=\"1.0\" encoding=\"UTF-8\" standalone=\"no\"?>\r\n",
       "<!DOCTYPE svg PUBLIC \"-//W3C//DTD SVG 1.1//EN\"\r\n",
       " \"http://www.w3.org/Graphics/SVG/1.1/DTD/svg11.dtd\">\r\n",
       "<!-- Generated by graphviz version 2.38.0 (20140413.2041)\r\n",
       " -->\r\n",
       "<!-- Title: %3 Pages: 1 -->\r\n",
       "<svg width=\"3216pt\" height=\"737pt\"\r\n",
       " viewBox=\"0.00 0.00 3216.05 737.00\" xmlns=\"http://www.w3.org/2000/svg\" xmlns:xlink=\"http://www.w3.org/1999/xlink\">\r\n",
       "<g id=\"graph0\" class=\"graph\" transform=\"scale(1 1) rotate(0) translate(4 733)\">\r\n",
       "<title>%3</title>\r\n",
       "<polygon fill=\"white\" stroke=\"none\" points=\"-4,4 -4,-733 3212.05,-733 3212.05,4 -4,4\"/>\r\n",
       "<!-- EMPTY -->\r\n",
       "<g id=\"node1\" class=\"node\"><title>EMPTY</title>\r\n",
       "</g>\r\n",
       "<!-- St31 -->\r\n",
       "<g id=\"node4\" class=\"node\"><title>St31</title>\r\n",
       "<ellipse fill=\"none\" stroke=\"black\" cx=\"118.298\" cy=\"-160\" rx=\"27.0966\" ry=\"27.0966\"/>\r\n",
       "<text text-anchor=\"middle\" x=\"118.298\" y=\"-156.3\" font-family=\"Times New Roman,serif\" font-size=\"14.00\">St31</text>\r\n",
       "</g>\r\n",
       "<!-- EMPTY&#45;&gt;St31 -->\r\n",
       "<g id=\"edge1\" class=\"edge\"><title>EMPTY&#45;&gt;St31</title>\r\n",
       "<path fill=\"none\" stroke=\"black\" d=\"M54.3092,-160C62.5921,-160 71.8942,-160 80.7554,-160\"/>\r\n",
       "<polygon fill=\"black\" stroke=\"black\" points=\"80.8678,-163.5 90.8678,-160 80.8678,-156.5 80.8678,-163.5\"/>\r\n",
       "</g>\r\n",
       "<!-- St27 -->\r\n",
       "<g id=\"node2\" class=\"node\"><title>St27</title>\r\n",
       "<ellipse fill=\"none\" stroke=\"black\" cx=\"313.488\" cy=\"-514\" rx=\"27.0966\" ry=\"27.0966\"/>\r\n",
       "<text text-anchor=\"middle\" x=\"313.488\" y=\"-510.3\" font-family=\"Times New Roman,serif\" font-size=\"14.00\">St27</text>\r\n",
       "</g>\r\n",
       "<!-- St21 -->\r\n",
       "<g id=\"node7\" class=\"node\"><title>St21</title>\r\n",
       "<ellipse fill=\"none\" stroke=\"black\" cx=\"411.083\" cy=\"-310\" rx=\"27.0966\" ry=\"27.0966\"/>\r\n",
       "<text text-anchor=\"middle\" x=\"411.083\" y=\"-306.3\" font-family=\"Times New Roman,serif\" font-size=\"14.00\">St21</text>\r\n",
       "</g>\r\n",
       "<!-- St27&#45;&gt;St21 -->\r\n",
       "<g id=\"edge7\" class=\"edge\"><title>St27&#45;&gt;St21</title>\r\n",
       "<path fill=\"none\" stroke=\"black\" d=\"M326.019,-489.393C343.075,-452.995 375.078,-384.702 394.298,-343.685\"/>\r\n",
       "<polygon fill=\"black\" stroke=\"black\" points=\"397.586,-344.917 398.66,-334.377 391.247,-341.947 397.586,-344.917\"/>\r\n",
       "<text text-anchor=\"middle\" x=\"362.285\" y=\"-422.8\" font-family=\"Times New Roman,serif\" font-size=\"14.00\">1</text>\r\n",
       "</g>\r\n",
       "<!-- St29 -->\r\n",
       "<g id=\"node17\" class=\"node\"><title>St29</title>\r\n",
       "<ellipse fill=\"none\" stroke=\"black\" cx=\"2289.7\" cy=\"-182\" rx=\"27.0966\" ry=\"27.0966\"/>\r\n",
       "<text text-anchor=\"middle\" x=\"2289.7\" y=\"-178.3\" font-family=\"Times New Roman,serif\" font-size=\"14.00\">St29</text>\r\n",
       "</g>\r\n",
       "<!-- St27&#45;&gt;St29 -->\r\n",
       "<g id=\"edge6\" class=\"edge\"><title>St27&#45;&gt;St29</title>\r\n",
       "<path fill=\"none\" stroke=\"black\" d=\"M314.208,-486.472C313.913,-386.153 319.588,-46 410.083,-46 410.083,-46 410.083,-46 2039.81,-46 2130.66,-46 2219.85,-116.652 2262.57,-156.109\"/>\r\n",
       "<polygon fill=\"black\" stroke=\"black\" points=\"2260.31,-158.791 2269.99,-163.09 2265.1,-153.691 2260.31,-158.791\"/>\r\n",
       "<text text-anchor=\"middle\" x=\"1287.94\" y=\"-49.8\" font-family=\"Times New Roman,serif\" font-size=\"14.00\">0</text>\r\n",
       "</g>\r\n",
       "<!-- St30 -->\r\n",
       "<g id=\"node3\" class=\"node\"><title>St30</title>\r\n",
       "<ellipse fill=\"none\" stroke=\"black\" cx=\"1495.13\" cy=\"-217\" rx=\"27.0966\" ry=\"27.0966\"/>\r\n",
       "<text text-anchor=\"middle\" x=\"1495.13\" y=\"-213.3\" font-family=\"Times New Roman,serif\" font-size=\"14.00\">St30</text>\r\n",
       "</g>\r\n",
       "<!-- St15 -->\r\n",
       "<g id=\"node24\" class=\"node\"><title>St15</title>\r\n",
       "<ellipse fill=\"none\" stroke=\"black\" cx=\"3176.76\" cy=\"-116\" rx=\"27.1222\" ry=\"27.1222\"/>\r\n",
       "<ellipse fill=\"none\" stroke=\"black\" cx=\"3176.76\" cy=\"-116\" rx=\"31.0965\" ry=\"31.0965\"/>\r\n",
       "<text text-anchor=\"middle\" x=\"3176.76\" y=\"-112.3\" font-family=\"Times New Roman,serif\" font-size=\"14.00\">St15</text>\r\n",
       "</g>\r\n",
       "<!-- St30&#45;&gt;St15 -->\r\n",
       "<g id=\"edge18\" class=\"edge\"><title>St30&#45;&gt;St15</title>\r\n",
       "<path fill=\"none\" stroke=\"black\" d=\"M1522.51,-213.813C1588.43,-205.687 1765.53,-182.856 1911.71,-155 2002.3,-137.738 2024.83,-132.231 2113.8,-108 2214.32,-80.6266 2233.32,-38 2337.49,-38 2337.49,-38 2337.49,-38 3072.16,-38 3104.04,-38 3132.35,-61.867 3151.28,-83.1965\"/>\r\n",
       "<polygon fill=\"black\" stroke=\"black\" points=\"3148.68,-85.5386 3157.82,-90.891 3154.01,-81.0049 3148.68,-85.5386\"/>\r\n",
       "<text text-anchor=\"middle\" x=\"2338.49\" y=\"-42.8\" font-family=\"Times New Roman,serif\" font-size=\"14.00\">0</text>\r\n",
       "</g>\r\n",
       "<!-- St7 -->\r\n",
       "<g id=\"node33\" class=\"node\"><title>St7</title>\r\n",
       "<ellipse fill=\"none\" stroke=\"black\" cx=\"1592.18\" cy=\"-528\" rx=\"22.9609\" ry=\"22.9609\"/>\r\n",
       "<ellipse fill=\"none\" stroke=\"black\" cx=\"1592.18\" cy=\"-528\" rx=\"26.9983\" ry=\"26.9983\"/>\r\n",
       "<text text-anchor=\"middle\" x=\"1592.18\" y=\"-524.3\" font-family=\"Times New Roman,serif\" font-size=\"14.00\">St7</text>\r\n",
       "</g>\r\n",
       "<!-- St30&#45;&gt;St7 -->\r\n",
       "<g id=\"edge19\" class=\"edge\"><title>St30&#45;&gt;St7</title>\r\n",
       "<path fill=\"none\" stroke=\"black\" d=\"M1506.71,-241.866C1517.81,-268.526 1535.28,-312.258 1547.43,-351 1562.52,-399.106 1575.77,-455.869 1583.63,-491.894\"/>\r\n",
       "<polygon fill=\"black\" stroke=\"black\" points=\"1580.26,-492.891 1585.79,-501.928 1587.1,-491.415 1580.26,-492.891\"/>\r\n",
       "<text text-anchor=\"middle\" x=\"1543.93\" y=\"-354.8\" font-family=\"Times New Roman,serif\" font-size=\"14.00\">1</text>\r\n",
       "</g>\r\n",
       "<!-- St31&#45;&gt;St31 -->\r\n",
       "<g id=\"edge2\" class=\"edge\"><title>St31&#45;&gt;St31</title>\r\n",
       "<path fill=\"none\" stroke=\"black\" d=\"M110.098,-186.067C109.635,-196.522 112.368,-205.298 118.298,-205.298 122.096,-205.298 124.583,-201.696 125.758,-196.359\"/>\r\n",
       "<polygon fill=\"black\" stroke=\"black\" points=\"129.272,-196.292 126.497,-186.067 122.29,-195.791 129.272,-196.292\"/>\r\n",
       "<text text-anchor=\"middle\" x=\"118.298\" y=\"-209.098\" font-family=\"Times New Roman,serif\" font-size=\"14.00\">0</text>\r\n",
       "</g>\r\n",
       "<!-- St23 -->\r\n",
       "<g id=\"node13\" class=\"node\"><title>St23</title>\r\n",
       "<ellipse fill=\"none\" stroke=\"black\" cx=\"215.893\" cy=\"-610\" rx=\"27.0966\" ry=\"27.0966\"/>\r\n",
       "<text text-anchor=\"middle\" x=\"215.893\" y=\"-606.3\" font-family=\"Times New Roman,serif\" font-size=\"14.00\">St23</text>\r\n",
       "</g>\r\n",
       "<!-- St31&#45;&gt;St23 -->\r\n",
       "<g id=\"edge3\" class=\"edge\"><title>St31&#45;&gt;St23</title>\r\n",
       "<path fill=\"none\" stroke=\"black\" d=\"M124.991,-186.802C141.346,-263.79 188.484,-485.687 207.149,-573.55\"/>\r\n",
       "<polygon fill=\"black\" stroke=\"black\" points=\"203.727,-574.284 209.229,-583.339 210.574,-572.829 203.727,-574.284\"/>\r\n",
       "<text text-anchor=\"middle\" x=\"167.095\" y=\"-402.8\" font-family=\"Times New Roman,serif\" font-size=\"14.00\">1</text>\r\n",
       "</g>\r\n",
       "<!-- St28 -->\r\n",
       "<g id=\"node5\" class=\"node\"><title>St28</title>\r\n",
       "<ellipse fill=\"none\" stroke=\"black\" cx=\"2969.57\" cy=\"-346\" rx=\"27.0966\" ry=\"27.0966\"/>\r\n",
       "<text text-anchor=\"middle\" x=\"2969.57\" y=\"-342.3\" font-family=\"Times New Roman,serif\" font-size=\"14.00\">St28</text>\r\n",
       "</g>\r\n",
       "<!-- St14 -->\r\n",
       "<g id=\"node22\" class=\"node\"><title>St14</title>\r\n",
       "<ellipse fill=\"none\" stroke=\"black\" cx=\"3071.16\" cy=\"-318\" rx=\"27.1222\" ry=\"27.1222\"/>\r\n",
       "<ellipse fill=\"none\" stroke=\"black\" cx=\"3071.16\" cy=\"-318\" rx=\"31.0965\" ry=\"31.0965\"/>\r\n",
       "<text text-anchor=\"middle\" x=\"3071.16\" y=\"-314.3\" font-family=\"Times New Roman,serif\" font-size=\"14.00\">St14</text>\r\n",
       "</g>\r\n",
       "<!-- St28&#45;&gt;St14 -->\r\n",
       "<g id=\"edge26\" class=\"edge\"><title>St28&#45;&gt;St14</title>\r\n",
       "<path fill=\"none\" stroke=\"black\" d=\"M2995.95,-338.862C3006.67,-335.849 3019.39,-332.273 3031.24,-328.941\"/>\r\n",
       "<polygon fill=\"black\" stroke=\"black\" points=\"3032.26,-332.292 3040.94,-326.216 3030.36,-325.553 3032.26,-332.292\"/>\r\n",
       "<text text-anchor=\"middle\" x=\"3018.36\" y=\"-336.8\" font-family=\"Times New Roman,serif\" font-size=\"14.00\">0</text>\r\n",
       "</g>\r\n",
       "<!-- St6 -->\r\n",
       "<g id=\"node23\" class=\"node\"><title>St6</title>\r\n",
       "<ellipse fill=\"none\" stroke=\"black\" cx=\"2087.06\" cy=\"-331\" rx=\"22.9609\" ry=\"22.9609\"/>\r\n",
       "<ellipse fill=\"none\" stroke=\"black\" cx=\"2087.06\" cy=\"-331\" rx=\"26.9983\" ry=\"26.9983\"/>\r\n",
       "<text text-anchor=\"middle\" x=\"2087.06\" y=\"-327.3\" font-family=\"Times New Roman,serif\" font-size=\"14.00\">St6</text>\r\n",
       "</g>\r\n",
       "<!-- St28&#45;&gt;St6 -->\r\n",
       "<g id=\"edge27\" class=\"edge\"><title>St28&#45;&gt;St6</title>\r\n",
       "<path fill=\"none\" stroke=\"black\" d=\"M2945.08,-333.353C2926.28,-324.408 2898.94,-314 2873.52,-314 2187.1,-314 2187.1,-314 2187.1,-314 2165.61,-314 2141.87,-317.936 2123.02,-322.021\"/>\r\n",
       "<polygon fill=\"black\" stroke=\"black\" points=\"2122.07,-318.648 2113.09,-324.281 2123.62,-325.473 2122.07,-318.648\"/>\r\n",
       "<text text-anchor=\"middle\" x=\"2532.59\" y=\"-317.8\" font-family=\"Times New Roman,serif\" font-size=\"14.00\">1</text>\r\n",
       "</g>\r\n",
       "<!-- St16 -->\r\n",
       "<g id=\"node6\" class=\"node\"><title>St16</title>\r\n",
       "<ellipse fill=\"none\" stroke=\"black\" cx=\"896.86\" cy=\"-370\" rx=\"27.0966\" ry=\"27.0966\"/>\r\n",
       "<text text-anchor=\"middle\" x=\"896.86\" y=\"-366.3\" font-family=\"Times New Roman,serif\" font-size=\"14.00\">St16</text>\r\n",
       "</g>\r\n",
       "<!-- St8 -->\r\n",
       "<g id=\"node25\" class=\"node\"><title>St8</title>\r\n",
       "<ellipse fill=\"none\" stroke=\"black\" cx=\"1090.4\" cy=\"-353\" rx=\"22.9609\" ry=\"22.9609\"/>\r\n",
       "<ellipse fill=\"none\" stroke=\"black\" cx=\"1090.4\" cy=\"-353\" rx=\"26.9983\" ry=\"26.9983\"/>\r\n",
       "<text text-anchor=\"middle\" x=\"1090.4\" y=\"-349.3\" font-family=\"Times New Roman,serif\" font-size=\"14.00\">St8</text>\r\n",
       "</g>\r\n",
       "<!-- St16&#45;&gt;St8 -->\r\n",
       "<g id=\"edge32\" class=\"edge\"><title>St16&#45;&gt;St8</title>\r\n",
       "<path fill=\"none\" stroke=\"black\" d=\"M919.866,-355.088C932.976,-347.118 950.3,-338.118 967.158,-334 996.682,-326.789 1030.92,-333.355 1055.63,-340.67\"/>\r\n",
       "<polygon fill=\"black\" stroke=\"black\" points=\"1054.68,-344.04 1065.27,-343.703 1056.78,-337.363 1054.68,-344.04\"/>\r\n",
       "<text text-anchor=\"middle\" x=\"993.906\" y=\"-337.8\" font-family=\"Times New Roman,serif\" font-size=\"14.00\">0</text>\r\n",
       "</g>\r\n",
       "<!-- St0 -->\r\n",
       "<g id=\"node29\" class=\"node\"><title>St0</title>\r\n",
       "<ellipse fill=\"none\" stroke=\"black\" cx=\"993.906\" cy=\"-385\" rx=\"22.9609\" ry=\"22.9609\"/>\r\n",
       "<ellipse fill=\"none\" stroke=\"black\" cx=\"993.906\" cy=\"-385\" rx=\"26.9983\" ry=\"26.9983\"/>\r\n",
       "<text text-anchor=\"middle\" x=\"993.906\" y=\"-381.3\" font-family=\"Times New Roman,serif\" font-size=\"14.00\">St0</text>\r\n",
       "</g>\r\n",
       "<!-- St16&#45;&gt;St0 -->\r\n",
       "<g id=\"edge33\" class=\"edge\"><title>St16&#45;&gt;St0</title>\r\n",
       "<path fill=\"none\" stroke=\"black\" d=\"M924.084,-374.139C934.327,-375.755 946.235,-377.634 957.237,-379.371\"/>\r\n",
       "<polygon fill=\"black\" stroke=\"black\" points=\"957.001,-382.877 967.425,-380.979 958.093,-375.962 957.001,-382.877\"/>\r\n",
       "<text text-anchor=\"middle\" x=\"945.658\" y=\"-381.8\" font-family=\"Times New Roman,serif\" font-size=\"14.00\">1</text>\r\n",
       "</g>\r\n",
       "<!-- St26 -->\r\n",
       "<g id=\"node10\" class=\"node\"><title>St26</title>\r\n",
       "<ellipse fill=\"none\" stroke=\"black\" cx=\"508.678\" cy=\"-246\" rx=\"27.0966\" ry=\"27.0966\"/>\r\n",
       "<text text-anchor=\"middle\" x=\"508.678\" y=\"-242.3\" font-family=\"Times New Roman,serif\" font-size=\"14.00\">St26</text>\r\n",
       "</g>\r\n",
       "<!-- St21&#45;&gt;St26 -->\r\n",
       "<g id=\"edge12\" class=\"edge\"><title>St21&#45;&gt;St26</title>\r\n",
       "<path fill=\"none\" stroke=\"black\" d=\"M434.255,-295.156C447.044,-286.594 463.308,-275.705 477.277,-266.353\"/>\r\n",
       "<polygon fill=\"black\" stroke=\"black\" points=\"479.264,-269.235 485.627,-260.763 475.37,-263.418 479.264,-269.235\"/>\r\n",
       "<text text-anchor=\"middle\" x=\"459.881\" y=\"-283.8\" font-family=\"Times New Roman,serif\" font-size=\"14.00\">0</text>\r\n",
       "</g>\r\n",
       "<!-- St18 -->\r\n",
       "<g id=\"node16\" class=\"node\"><title>St18</title>\r\n",
       "<ellipse fill=\"none\" stroke=\"black\" cx=\"702.769\" cy=\"-346\" rx=\"27.0966\" ry=\"27.0966\"/>\r\n",
       "<text text-anchor=\"middle\" x=\"702.769\" y=\"-342.3\" font-family=\"Times New Roman,serif\" font-size=\"14.00\">St18</text>\r\n",
       "</g>\r\n",
       "<!-- St21&#45;&gt;St18 -->\r\n",
       "<g id=\"edge13\" class=\"edge\"><title>St21&#45;&gt;St18</title>\r\n",
       "<path fill=\"none\" stroke=\"black\" d=\"M438.302,-313.258C490.199,-319.708 606.108,-334.112 665.366,-341.476\"/>\r\n",
       "<polygon fill=\"black\" stroke=\"black\" points=\"665.046,-344.963 675.401,-342.723 665.909,-338.017 665.046,-344.963\"/>\r\n",
       "<text text-anchor=\"middle\" x=\"557.476\" y=\"-332.8\" font-family=\"Times New Roman,serif\" font-size=\"14.00\">1</text>\r\n",
       "</g>\r\n",
       "<!-- St22 -->\r\n",
       "<g id=\"node8\" class=\"node\"><title>St22</title>\r\n",
       "<ellipse fill=\"none\" stroke=\"black\" cx=\"2387.29\" cy=\"-139\" rx=\"27.0966\" ry=\"27.0966\"/>\r\n",
       "<text text-anchor=\"middle\" x=\"2387.29\" y=\"-135.3\" font-family=\"Times New Roman,serif\" font-size=\"14.00\">St22</text>\r\n",
       "</g>\r\n",
       "<!-- St3 -->\r\n",
       "<g id=\"node18\" class=\"node\"><title>St3</title>\r\n",
       "<ellipse fill=\"none\" stroke=\"black\" cx=\"2484.34\" cy=\"-441\" rx=\"22.9609\" ry=\"22.9609\"/>\r\n",
       "<ellipse fill=\"none\" stroke=\"black\" cx=\"2484.34\" cy=\"-441\" rx=\"26.9983\" ry=\"26.9983\"/>\r\n",
       "<text text-anchor=\"middle\" x=\"2484.34\" y=\"-437.3\" font-family=\"Times New Roman,serif\" font-size=\"14.00\">St3</text>\r\n",
       "</g>\r\n",
       "<!-- St22&#45;&gt;St3 -->\r\n",
       "<g id=\"edge21\" class=\"edge\"><title>St22&#45;&gt;St3</title>\r\n",
       "<path fill=\"none\" stroke=\"black\" d=\"M2396.4,-164.748C2413.45,-218.931 2453.05,-344.771 2472.36,-406.12\"/>\r\n",
       "<polygon fill=\"black\" stroke=\"black\" points=\"2469.05,-407.255 2475.39,-415.743 2475.72,-405.153 2469.05,-407.255\"/>\r\n",
       "<text text-anchor=\"middle\" x=\"2436.09\" y=\"-303.8\" font-family=\"Times New Roman,serif\" font-size=\"14.00\">1</text>\r\n",
       "</g>\r\n",
       "<!-- St11 -->\r\n",
       "<g id=\"node28\" class=\"node\"><title>St11</title>\r\n",
       "<ellipse fill=\"none\" stroke=\"black\" cx=\"2188.1\" cy=\"-179\" rx=\"27.1222\" ry=\"27.1222\"/>\r\n",
       "<ellipse fill=\"none\" stroke=\"black\" cx=\"2188.1\" cy=\"-179\" rx=\"31.0965\" ry=\"31.0965\"/>\r\n",
       "<text text-anchor=\"middle\" x=\"2188.1\" y=\"-175.3\" font-family=\"Times New Roman,serif\" font-size=\"14.00\">St11</text>\r\n",
       "</g>\r\n",
       "<!-- St22&#45;&gt;St11 -->\r\n",
       "<g id=\"edge20\" class=\"edge\"><title>St22&#45;&gt;St11</title>\r\n",
       "<path fill=\"none\" stroke=\"black\" d=\"M2360.55,-132.205C2335.08,-126.662 2295.24,-121.204 2262.4,-131 2247.48,-135.451 2232.77,-144.019 2220.49,-152.698\"/>\r\n",
       "<polygon fill=\"black\" stroke=\"black\" points=\"2218.36,-149.917 2212.4,-158.676 2222.52,-155.546 2218.36,-149.917\"/>\r\n",
       "<text text-anchor=\"middle\" x=\"2289.7\" y=\"-134.8\" font-family=\"Times New Roman,serif\" font-size=\"14.00\">0</text>\r\n",
       "</g>\r\n",
       "<!-- St17 -->\r\n",
       "<g id=\"node9\" class=\"node\"><title>St17</title>\r\n",
       "<ellipse fill=\"none\" stroke=\"black\" cx=\"1786.82\" cy=\"-481\" rx=\"27.0966\" ry=\"27.0966\"/>\r\n",
       "<text text-anchor=\"middle\" x=\"1786.82\" y=\"-477.3\" font-family=\"Times New Roman,serif\" font-size=\"14.00\">St17</text>\r\n",
       "</g>\r\n",
       "<!-- St17&#45;&gt;St16 -->\r\n",
       "<g id=\"edge17\" class=\"edge\"><title>St17&#45;&gt;St16</title>\r\n",
       "<path fill=\"none\" stroke=\"black\" d=\"M1759.5,-477.607C1740.32,-475.427 1713.71,-473 1690.22,-473 992.906,-473 992.906,-473 992.906,-473 954.813,-473 927.765,-434.479 912.5,-404.552\"/>\r\n",
       "<polygon fill=\"black\" stroke=\"black\" points=\"915.474,-402.664 907.958,-395.197 909.177,-405.721 915.474,-402.664\"/>\r\n",
       "<text text-anchor=\"middle\" x=\"1340.74\" y=\"-476.8\" font-family=\"Times New Roman,serif\" font-size=\"14.00\">1</text>\r\n",
       "</g>\r\n",
       "<!-- St24 -->\r\n",
       "<g id=\"node14\" class=\"node\"><title>St24</title>\r\n",
       "<ellipse fill=\"none\" stroke=\"black\" cx=\"1884.42\" cy=\"-378\" rx=\"27.0966\" ry=\"27.0966\"/>\r\n",
       "<text text-anchor=\"middle\" x=\"1884.42\" y=\"-374.3\" font-family=\"Times New Roman,serif\" font-size=\"14.00\">St24</text>\r\n",
       "</g>\r\n",
       "<!-- St17&#45;&gt;St24 -->\r\n",
       "<g id=\"edge16\" class=\"edge\"><title>St17&#45;&gt;St24</title>\r\n",
       "<path fill=\"none\" stroke=\"black\" d=\"M1806.25,-461.141C1820.93,-445.324 1841.64,-423.007 1857.91,-405.476\"/>\r\n",
       "<polygon fill=\"black\" stroke=\"black\" points=\"1860.8,-407.509 1865.04,-397.798 1855.67,-402.747 1860.8,-407.509\"/>\r\n",
       "<text text-anchor=\"middle\" x=\"1835.62\" y=\"-436.8\" font-family=\"Times New Roman,serif\" font-size=\"14.00\">0</text>\r\n",
       "</g>\r\n",
       "<!-- St5 -->\r\n",
       "<g id=\"node19\" class=\"node\"><title>St5</title>\r\n",
       "<ellipse fill=\"none\" stroke=\"black\" cx=\"605.724\" cy=\"-265\" rx=\"22.9609\" ry=\"22.9609\"/>\r\n",
       "<ellipse fill=\"none\" stroke=\"black\" cx=\"605.724\" cy=\"-265\" rx=\"26.9983\" ry=\"26.9983\"/>\r\n",
       "<text text-anchor=\"middle\" x=\"605.724\" y=\"-261.3\" font-family=\"Times New Roman,serif\" font-size=\"14.00\">St5</text>\r\n",
       "</g>\r\n",
       "<!-- St26&#45;&gt;St5 -->\r\n",
       "<g id=\"edge23\" class=\"edge\"><title>St26&#45;&gt;St5</title>\r\n",
       "<path fill=\"none\" stroke=\"black\" d=\"M535.65,-251.192C546.086,-253.278 558.281,-255.716 569.496,-257.958\"/>\r\n",
       "<polygon fill=\"black\" stroke=\"black\" points=\"568.948,-261.418 579.441,-259.946 570.321,-254.553 568.948,-261.418\"/>\r\n",
       "<text text-anchor=\"middle\" x=\"557.476\" y=\"-260.8\" font-family=\"Times New Roman,serif\" font-size=\"14.00\">1</text>\r\n",
       "</g>\r\n",
       "<!-- St13 -->\r\n",
       "<g id=\"node30\" class=\"node\"><title>St13</title>\r\n",
       "<ellipse fill=\"none\" stroke=\"black\" cx=\"1393.54\" cy=\"-205\" rx=\"27.1222\" ry=\"27.1222\"/>\r\n",
       "<ellipse fill=\"none\" stroke=\"black\" cx=\"1393.54\" cy=\"-205\" rx=\"31.0965\" ry=\"31.0965\"/>\r\n",
       "<text text-anchor=\"middle\" x=\"1393.54\" y=\"-201.3\" font-family=\"Times New Roman,serif\" font-size=\"14.00\">St13</text>\r\n",
       "</g>\r\n",
       "<!-- St26&#45;&gt;St13 -->\r\n",
       "<g id=\"edge22\" class=\"edge\"><title>St26&#45;&gt;St13</title>\r\n",
       "<path fill=\"none\" stroke=\"black\" d=\"M529.125,-227.813C547.247,-212.818 575.758,-194 604.724,-194 604.724,-194 604.724,-194 1288.94,-194 1309.85,-194 1333,-196.243 1352.1,-198.703\"/>\r\n",
       "<polygon fill=\"black\" stroke=\"black\" points=\"1351.88,-202.205 1362.26,-200.079 1352.82,-195.268 1351.88,-202.205\"/>\r\n",
       "<text text-anchor=\"middle\" x=\"945.658\" y=\"-197.8\" font-family=\"Times New Roman,serif\" font-size=\"14.00\">0</text>\r\n",
       "</g>\r\n",
       "<!-- St19 -->\r\n",
       "<g id=\"node11\" class=\"node\"><title>St19</title>\r\n",
       "<ellipse fill=\"none\" stroke=\"black\" cx=\"1689.22\" cy=\"-574\" rx=\"27.0966\" ry=\"27.0966\"/>\r\n",
       "<text text-anchor=\"middle\" x=\"1689.22\" y=\"-570.3\" font-family=\"Times New Roman,serif\" font-size=\"14.00\">St19</text>\r\n",
       "</g>\r\n",
       "<!-- St19&#45;&gt;St17 -->\r\n",
       "<g id=\"edge9\" class=\"edge\"><title>St19&#45;&gt;St17</title>\r\n",
       "<path fill=\"none\" stroke=\"black\" d=\"M1709.57,-555.18C1723.82,-541.314 1743.38,-522.285 1759.12,-506.972\"/>\r\n",
       "<polygon fill=\"black\" stroke=\"black\" points=\"1761.78,-509.274 1766.5,-499.792 1756.9,-504.256 1761.78,-509.274\"/>\r\n",
       "<text text-anchor=\"middle\" x=\"1738.02\" y=\"-534.8\" font-family=\"Times New Roman,serif\" font-size=\"14.00\">1</text>\r\n",
       "</g>\r\n",
       "<!-- St25 -->\r\n",
       "<g id=\"node12\" class=\"node\"><title>St25</title>\r\n",
       "<ellipse fill=\"none\" stroke=\"black\" cx=\"2581.38\" cy=\"-454\" rx=\"27.0966\" ry=\"27.0966\"/>\r\n",
       "<text text-anchor=\"middle\" x=\"2581.38\" y=\"-450.3\" font-family=\"Times New Roman,serif\" font-size=\"14.00\">St25</text>\r\n",
       "</g>\r\n",
       "<!-- St19&#45;&gt;St25 -->\r\n",
       "<g id=\"edge8\" class=\"edge\"><title>St19&#45;&gt;St25</title>\r\n",
       "<path fill=\"none\" stroke=\"black\" d=\"M1716.6,-574C1735.8,-574 1762.42,-574 1785.82,-574 1785.82,-574 1785.82,-574 2339.49,-574 2424.43,-574 2510.2,-513.492 2552.8,-478.409\"/>\r\n",
       "<polygon fill=\"black\" stroke=\"black\" points=\"2555.07,-481.072 2560.49,-471.965 2550.57,-475.708 2555.07,-481.072\"/>\r\n",
       "<text text-anchor=\"middle\" x=\"2135.3\" y=\"-577.8\" font-family=\"Times New Roman,serif\" font-size=\"14.00\">0</text>\r\n",
       "</g>\r\n",
       "<!-- St25&#45;&gt;St28 -->\r\n",
       "<g id=\"edge14\" class=\"edge\"><title>St25&#45;&gt;St28</title>\r\n",
       "<path fill=\"none\" stroke=\"black\" d=\"M2594.1,-429.303C2609.24,-401.452 2638.41,-360 2677.98,-360 2677.98,-360 2677.98,-360 2873.52,-360 2893.32,-360 2915.19,-356.99 2932.96,-353.761\"/>\r\n",
       "<polygon fill=\"black\" stroke=\"black\" points=\"2933.74,-357.176 2942.9,-351.856 2932.42,-350.301 2933.74,-357.176\"/>\r\n",
       "<text text-anchor=\"middle\" x=\"2776.02\" y=\"-363.8\" font-family=\"Times New Roman,serif\" font-size=\"14.00\">0</text>\r\n",
       "</g>\r\n",
       "<!-- St20 -->\r\n",
       "<g id=\"node15\" class=\"node\"><title>St20</title>\r\n",
       "<ellipse fill=\"none\" stroke=\"black\" cx=\"2678.98\" cy=\"-467\" rx=\"27.0966\" ry=\"27.0966\"/>\r\n",
       "<text text-anchor=\"middle\" x=\"2678.98\" y=\"-463.3\" font-family=\"Times New Roman,serif\" font-size=\"14.00\">St20</text>\r\n",
       "</g>\r\n",
       "<!-- St25&#45;&gt;St20 -->\r\n",
       "<g id=\"edge15\" class=\"edge\"><title>St25&#45;&gt;St20</title>\r\n",
       "<path fill=\"none\" stroke=\"black\" d=\"M2608.5,-457.552C2618.73,-458.942 2630.63,-460.561 2641.66,-462.061\"/>\r\n",
       "<polygon fill=\"black\" stroke=\"black\" points=\"2641.51,-465.572 2651.89,-463.452 2642.45,-458.636 2641.51,-465.572\"/>\r\n",
       "<text text-anchor=\"middle\" x=\"2630.18\" y=\"-464.8\" font-family=\"Times New Roman,serif\" font-size=\"14.00\">1</text>\r\n",
       "</g>\r\n",
       "<!-- St23&#45;&gt;St27 -->\r\n",
       "<g id=\"edge4\" class=\"edge\"><title>St23&#45;&gt;St27</title>\r\n",
       "<path fill=\"none\" stroke=\"black\" d=\"M235.779,-591.033C250.182,-576.57 270.194,-556.473 286.166,-540.433\"/>\r\n",
       "<polygon fill=\"black\" stroke=\"black\" points=\"289.065,-542.483 293.641,-532.927 284.104,-537.543 289.065,-542.483\"/>\r\n",
       "<text text-anchor=\"middle\" x=\"264.69\" y=\"-568.8\" font-family=\"Times New Roman,serif\" font-size=\"14.00\">0</text>\r\n",
       "</g>\r\n",
       "<!-- St23&#45;&gt;St19 -->\r\n",
       "<g id=\"edge5\" class=\"edge\"><title>St23&#45;&gt;St19</title>\r\n",
       "<path fill=\"none\" stroke=\"black\" d=\"M240.521,-622.647C259.436,-631.592 286.936,-642 312.488,-642 312.488,-642 312.488,-642 1447.34,-642 1523.85,-642 1609.07,-609.83 1654.82,-589.744\"/>\r\n",
       "<polygon fill=\"black\" stroke=\"black\" points=\"1656.54,-592.812 1664.24,-585.535 1653.68,-586.421 1656.54,-592.812\"/>\r\n",
       "<text text-anchor=\"middle\" x=\"945.658\" y=\"-645.8\" font-family=\"Times New Roman,serif\" font-size=\"14.00\">1</text>\r\n",
       "</g>\r\n",
       "<!-- St4 -->\r\n",
       "<g id=\"node21\" class=\"node\"><title>St4</title>\r\n",
       "<ellipse fill=\"none\" stroke=\"black\" cx=\"1186.9\" cy=\"-379\" rx=\"22.9609\" ry=\"22.9609\"/>\r\n",
       "<ellipse fill=\"none\" stroke=\"black\" cx=\"1186.9\" cy=\"-379\" rx=\"26.9983\" ry=\"26.9983\"/>\r\n",
       "<text text-anchor=\"middle\" x=\"1186.9\" y=\"-375.3\" font-family=\"Times New Roman,serif\" font-size=\"14.00\">St4</text>\r\n",
       "</g>\r\n",
       "<!-- St24&#45;&gt;St4 -->\r\n",
       "<g id=\"edge31\" class=\"edge\"><title>St24&#45;&gt;St4</title>\r\n",
       "<path fill=\"none\" stroke=\"black\" d=\"M1857.12,-382.241C1837.96,-384.966 1811.35,-388 1787.82,-388 1286.94,-388 1286.94,-388 1286.94,-388 1265.82,-388 1242.26,-385.944 1223.43,-383.798\"/>\r\n",
       "<polygon fill=\"black\" stroke=\"black\" points=\"1223.84,-380.322 1213.49,-382.609 1223.01,-387.273 1223.84,-380.322\"/>\r\n",
       "<text text-anchor=\"middle\" x=\"1543.93\" y=\"-391.8\" font-family=\"Times New Roman,serif\" font-size=\"14.00\">1</text>\r\n",
       "</g>\r\n",
       "<!-- St12 -->\r\n",
       "<g id=\"node27\" class=\"node\"><title>St12</title>\r\n",
       "<ellipse fill=\"none\" stroke=\"black\" cx=\"1986.01\" cy=\"-302\" rx=\"27.1222\" ry=\"27.1222\"/>\r\n",
       "<ellipse fill=\"none\" stroke=\"black\" cx=\"1986.01\" cy=\"-302\" rx=\"31.0965\" ry=\"31.0965\"/>\r\n",
       "<text text-anchor=\"middle\" x=\"1986.01\" y=\"-298.3\" font-family=\"Times New Roman,serif\" font-size=\"14.00\">St12</text>\r\n",
       "</g>\r\n",
       "<!-- St24&#45;&gt;St12 -->\r\n",
       "<g id=\"edge30\" class=\"edge\"><title>St24&#45;&gt;St12</title>\r\n",
       "<path fill=\"none\" stroke=\"black\" d=\"M1906.54,-361.882C1919.93,-351.662 1937.52,-338.238 1952.65,-326.69\"/>\r\n",
       "<polygon fill=\"black\" stroke=\"black\" points=\"1954.94,-329.349 1960.77,-320.501 1950.69,-323.785 1954.94,-329.349\"/>\r\n",
       "<text text-anchor=\"middle\" x=\"1933.21\" y=\"-346.8\" font-family=\"Times New Roman,serif\" font-size=\"14.00\">0</text>\r\n",
       "</g>\r\n",
       "<!-- St10 -->\r\n",
       "<g id=\"node20\" class=\"node\"><title>St10</title>\r\n",
       "<ellipse fill=\"none\" stroke=\"black\" cx=\"1287.94\" cy=\"-329\" rx=\"27.1222\" ry=\"27.1222\"/>\r\n",
       "<ellipse fill=\"none\" stroke=\"black\" cx=\"1287.94\" cy=\"-329\" rx=\"31.0965\" ry=\"31.0965\"/>\r\n",
       "<text text-anchor=\"middle\" x=\"1287.94\" y=\"-325.3\" font-family=\"Times New Roman,serif\" font-size=\"14.00\">St10</text>\r\n",
       "</g>\r\n",
       "<!-- St20&#45;&gt;St10 -->\r\n",
       "<g id=\"edge28\" class=\"edge\"><title>St20&#45;&gt;St10</title>\r\n",
       "<path fill=\"none\" stroke=\"black\" d=\"M2658.29,-449.136C2645.19,-438.3 2627.06,-425.212 2608.68,-418 2567.95,-402.015 2554.63,-409.296 2511.09,-405 2400.86,-394.126 2372.74,-398.551 2262.4,-389 2172.39,-381.209 2149.8,-379.399 2060.31,-367 2002,-358.923 1987.66,-355.317 1929.71,-345 1845.03,-329.924 1825.03,-312 1739.02,-312 1392.54,-312 1392.54,-312 1392.54,-312 1371.22,-312 1347.75,-315.549 1328.55,-319.405\"/>\r\n",
       "<polygon fill=\"black\" stroke=\"black\" points=\"1327.71,-316.005 1318.65,-321.494 1329.16,-322.854 1327.71,-316.005\"/>\r\n",
       "<text text-anchor=\"middle\" x=\"1986.01\" y=\"-364.8\" font-family=\"Times New Roman,serif\" font-size=\"14.00\">0</text>\r\n",
       "</g>\r\n",
       "<!-- St2 -->\r\n",
       "<g id=\"node32\" class=\"node\"><title>St2</title>\r\n",
       "<ellipse fill=\"none\" stroke=\"black\" cx=\"2776.02\" cy=\"-531\" rx=\"22.9609\" ry=\"22.9609\"/>\r\n",
       "<ellipse fill=\"none\" stroke=\"black\" cx=\"2776.02\" cy=\"-531\" rx=\"26.9983\" ry=\"26.9983\"/>\r\n",
       "<text text-anchor=\"middle\" x=\"2776.02\" y=\"-527.3\" font-family=\"Times New Roman,serif\" font-size=\"14.00\">St2</text>\r\n",
       "</g>\r\n",
       "<!-- St20&#45;&gt;St2 -->\r\n",
       "<g id=\"edge29\" class=\"edge\"><title>St20&#45;&gt;St2</title>\r\n",
       "<path fill=\"none\" stroke=\"black\" d=\"M2702.02,-481.844C2714.83,-490.467 2731.14,-501.451 2745.09,-510.847\"/>\r\n",
       "<polygon fill=\"black\" stroke=\"black\" points=\"2743.18,-513.775 2753.43,-516.457 2747.09,-507.969 2743.18,-513.775\"/>\r\n",
       "<text text-anchor=\"middle\" x=\"2727.78\" y=\"-504.8\" font-family=\"Times New Roman,serif\" font-size=\"14.00\">1</text>\r\n",
       "</g>\r\n",
       "<!-- St1 -->\r\n",
       "<g id=\"node26\" class=\"node\"><title>St1</title>\r\n",
       "<ellipse fill=\"none\" stroke=\"black\" cx=\"799.815\" cy=\"-365\" rx=\"22.9609\" ry=\"22.9609\"/>\r\n",
       "<ellipse fill=\"none\" stroke=\"black\" cx=\"799.815\" cy=\"-365\" rx=\"26.9983\" ry=\"26.9983\"/>\r\n",
       "<text text-anchor=\"middle\" x=\"799.815\" y=\"-361.3\" font-family=\"Times New Roman,serif\" font-size=\"14.00\">St1</text>\r\n",
       "</g>\r\n",
       "<!-- St18&#45;&gt;St1 -->\r\n",
       "<g id=\"edge25\" class=\"edge\"><title>St18&#45;&gt;St1</title>\r\n",
       "<path fill=\"none\" stroke=\"black\" d=\"M729.741,-351.192C740.177,-353.278 752.372,-355.716 763.587,-357.958\"/>\r\n",
       "<polygon fill=\"black\" stroke=\"black\" points=\"763.04,-361.418 773.532,-359.946 764.412,-354.553 763.04,-361.418\"/>\r\n",
       "<text text-anchor=\"middle\" x=\"751.567\" y=\"-360.8\" font-family=\"Times New Roman,serif\" font-size=\"14.00\">1</text>\r\n",
       "</g>\r\n",
       "<!-- St9 -->\r\n",
       "<g id=\"node31\" class=\"node\"><title>St9</title>\r\n",
       "<ellipse fill=\"none\" stroke=\"black\" cx=\"2872.52\" cy=\"-492\" rx=\"22.9609\" ry=\"22.9609\"/>\r\n",
       "<ellipse fill=\"none\" stroke=\"black\" cx=\"2872.52\" cy=\"-492\" rx=\"26.9983\" ry=\"26.9983\"/>\r\n",
       "<text text-anchor=\"middle\" x=\"2872.52\" y=\"-488.3\" font-family=\"Times New Roman,serif\" font-size=\"14.00\">St9</text>\r\n",
       "</g>\r\n",
       "<!-- St18&#45;&gt;St9 -->\r\n",
       "<g id=\"edge24\" class=\"edge\"><title>St18&#45;&gt;St9</title>\r\n",
       "<path fill=\"none\" stroke=\"black\" d=\"M703.485,-373.418C704.454,-432.393 715.81,-566 798.815,-566 798.815,-566 798.815,-566 1341.74,-566 1565.71,-566 1610.65,-671 1834.62,-671 1834.62,-671 1834.62,-671 2631.18,-671 2729.54,-671 2813.7,-573.37 2850.99,-522.314\"/>\r\n",
       "<polygon fill=\"black\" stroke=\"black\" points=\"2854.01,-524.116 2856.99,-513.949 2848.32,-520.039 2854.01,-524.116\"/>\r\n",
       "<text text-anchor=\"middle\" x=\"1786.82\" y=\"-673.8\" font-family=\"Times New Roman,serif\" font-size=\"14.00\">0</text>\r\n",
       "</g>\r\n",
       "<!-- St29&#45;&gt;St30 -->\r\n",
       "<g id=\"edge10\" class=\"edge\"><title>St29&#45;&gt;St30</title>\r\n",
       "<path fill=\"none\" stroke=\"black\" d=\"M2266.58,-196.726C2253.44,-204.718 2236.12,-213.968 2219.4,-219 2142.63,-242.111 2119.98,-236 2039.81,-236 1591.18,-236 1591.18,-236 1591.18,-236 1571.2,-236 1549.32,-231.915 1531.59,-227.533\"/>\r\n",
       "<polygon fill=\"black\" stroke=\"black\" points=\"1532.24,-224.085 1521.68,-224.948 1530.47,-230.858 1532.24,-224.085\"/>\r\n",
       "<text text-anchor=\"middle\" x=\"1884.42\" y=\"-239.8\" font-family=\"Times New Roman,serif\" font-size=\"14.00\">0</text>\r\n",
       "</g>\r\n",
       "<!-- St29&#45;&gt;St22 -->\r\n",
       "<g id=\"edge11\" class=\"edge\"><title>St29&#45;&gt;St22</title>\r\n",
       "<path fill=\"none\" stroke=\"black\" d=\"M2314.82,-171.149C2326.37,-165.955 2340.38,-159.651 2352.93,-154.006\"/>\r\n",
       "<polygon fill=\"black\" stroke=\"black\" points=\"2354.49,-157.141 2362.18,-149.847 2351.62,-150.758 2354.49,-157.141\"/>\r\n",
       "<text text-anchor=\"middle\" x=\"2338.49\" y=\"-165.8\" font-family=\"Times New Roman,serif\" font-size=\"14.00\">1</text>\r\n",
       "</g>\r\n",
       "<!-- St3&#45;&gt;St17 -->\r\n",
       "<g id=\"edge41\" class=\"edge\"><title>St3&#45;&gt;St17</title>\r\n",
       "<path fill=\"none\" stroke=\"black\" d=\"M2458.18,-447.793C2414.51,-458.967 2321.72,-480 2241.9,-480 2086.06,-480 2086.06,-480 2086.06,-480 1991.69,-480 1880.53,-480.507 1824.32,-480.799\"/>\r\n",
       "<polygon fill=\"black\" stroke=\"black\" points=\"1824.13,-477.3 1814.15,-480.852 1824.17,-484.3 1824.13,-477.3\"/>\r\n",
       "<text text-anchor=\"middle\" x=\"2135.3\" y=\"-483.8\" font-family=\"Times New Roman,serif\" font-size=\"14.00\">1</text>\r\n",
       "</g>\r\n",
       "<!-- St3&#45;&gt;St25 -->\r\n",
       "<g id=\"edge40\" class=\"edge\"><title>St3&#45;&gt;St25</title>\r\n",
       "<path fill=\"none\" stroke=\"black\" d=\"M2511.31,-444.552C2521.39,-445.931 2533.11,-447.534 2544,-449.024\"/>\r\n",
       "<polygon fill=\"black\" stroke=\"black\" points=\"2543.73,-452.519 2554.11,-450.407 2544.68,-445.584 2543.73,-452.519\"/>\r\n",
       "<text text-anchor=\"middle\" x=\"2532.59\" y=\"-451.8\" font-family=\"Times New Roman,serif\" font-size=\"14.00\">0</text>\r\n",
       "</g>\r\n",
       "<!-- St5&#45;&gt;St26 -->\r\n",
       "<g id=\"edge44\" class=\"edge\"><title>St5&#45;&gt;St26</title>\r\n",
       "<path fill=\"none\" stroke=\"black\" d=\"M584.633,-248.134C577.598,-243.233 569.352,-238.524 560.976,-236 555.655,-234.396 549.943,-234.133 544.333,-234.659\"/>\r\n",
       "<polygon fill=\"black\" stroke=\"black\" points=\"543.72,-231.213 534.45,-236.342 544.895,-238.114 543.72,-231.213\"/>\r\n",
       "<text text-anchor=\"middle\" x=\"557.476\" y=\"-239.8\" font-family=\"Times New Roman,serif\" font-size=\"14.00\">0</text>\r\n",
       "</g>\r\n",
       "<!-- St5&#45;&gt;St18 -->\r\n",
       "<g id=\"edge45\" class=\"edge\"><title>St5&#45;&gt;St18</title>\r\n",
       "<path fill=\"none\" stroke=\"black\" d=\"M630.659,-275.296C639.562,-279.733 649.443,-285.423 657.472,-292 665.773,-298.801 673.629,-307.353 680.355,-315.633\"/>\r\n",
       "<polygon fill=\"black\" stroke=\"black\" points=\"677.771,-318.012 686.679,-323.747 683.292,-313.708 677.771,-318.012\"/>\r\n",
       "<text text-anchor=\"middle\" x=\"653.972\" y=\"-295.8\" font-family=\"Times New Roman,serif\" font-size=\"14.00\">1</text>\r\n",
       "</g>\r\n",
       "<!-- St10&#45;&gt;St5 -->\r\n",
       "<g id=\"edge55\" class=\"edge\"><title>St10&#45;&gt;St5</title>\r\n",
       "<path fill=\"none\" stroke=\"black\" d=\"M1261,-312.859C1217.62,-287.455 1126.85,-241 1043.15,-241 701.769,-241 701.769,-241 701.769,-241 681.044,-241 658.529,-246.431 640.617,-252.126\"/>\r\n",
       "<polygon fill=\"black\" stroke=\"black\" points=\"639.286,-248.88 630.916,-255.377 641.51,-255.518 639.286,-248.88\"/>\r\n",
       "<text text-anchor=\"middle\" x=\"945.658\" y=\"-244.8\" font-family=\"Times New Roman,serif\" font-size=\"14.00\">1</text>\r\n",
       "</g>\r\n",
       "<!-- St10&#45;&gt;St13 -->\r\n",
       "<g id=\"edge54\" class=\"edge\"><title>St10&#45;&gt;St13</title>\r\n",
       "<path fill=\"none\" stroke=\"black\" d=\"M1308.67,-305.385C1325.02,-285.82 1348.39,-257.848 1366.31,-236.398\"/>\r\n",
       "<polygon fill=\"black\" stroke=\"black\" points=\"1369.16,-238.446 1372.88,-228.527 1363.79,-233.958 1369.16,-238.446\"/>\r\n",
       "<text text-anchor=\"middle\" x=\"1340.74\" y=\"-274.8\" font-family=\"Times New Roman,serif\" font-size=\"14.00\">0</text>\r\n",
       "</g>\r\n",
       "<!-- St4&#45;&gt;St10 -->\r\n",
       "<g id=\"edge60\" class=\"edge\"><title>St4&#45;&gt;St10</title>\r\n",
       "<path fill=\"none\" stroke=\"black\" d=\"M1211.12,-367.277C1222.81,-361.378 1237.25,-354.088 1250.38,-347.459\"/>\r\n",
       "<polygon fill=\"black\" stroke=\"black\" points=\"1252.3,-350.409 1259.65,-342.778 1249.15,-344.16 1252.3,-350.409\"/>\r\n",
       "<text text-anchor=\"middle\" x=\"1235.15\" y=\"-359.8\" font-family=\"Times New Roman,serif\" font-size=\"14.00\">0</text>\r\n",
       "</g>\r\n",
       "<!-- St4&#45;&gt;St2 -->\r\n",
       "<g id=\"edge61\" class=\"edge\"><title>St4&#45;&gt;St2</title>\r\n",
       "<path fill=\"none\" stroke=\"black\" d=\"M1208.21,-395.175C1227.36,-408.77 1257.44,-426 1286.94,-426 1286.94,-426 1286.94,-426 1787.82,-426 1991.52,-426 2043.3,-433.558 2244.4,-466 2373.89,-486.89 2400.42,-534 2531.59,-534 2531.59,-534 2531.59,-534 2679.98,-534 2699.48,-534 2721.23,-533.361 2738.99,-532.673\"/>\r\n",
       "<polygon fill=\"black\" stroke=\"black\" points=\"2739.36,-536.161 2749.21,-532.255 2739.08,-529.167 2739.36,-536.161\"/>\r\n",
       "<text text-anchor=\"middle\" x=\"1986.01\" y=\"-437.8\" font-family=\"Times New Roman,serif\" font-size=\"14.00\">1</text>\r\n",
       "</g>\r\n",
       "<!-- St14&#45;&gt;St15 -->\r\n",
       "<g id=\"edge50\" class=\"edge\"><title>St14&#45;&gt;St15</title>\r\n",
       "<path fill=\"none\" stroke=\"black\" d=\"M3086.35,-290.336C3104.66,-254.625 3136.59,-192.374 3156.92,-152.727\"/>\r\n",
       "<polygon fill=\"black\" stroke=\"black\" points=\"3160.12,-154.148 3161.57,-143.653 3153.9,-150.954 3160.12,-154.148\"/>\r\n",
       "<text text-anchor=\"middle\" x=\"3123.96\" y=\"-227.8\" font-family=\"Times New Roman,serif\" font-size=\"14.00\">0</text>\r\n",
       "</g>\r\n",
       "<!-- St14&#45;&gt;St7 -->\r\n",
       "<g id=\"edge51\" class=\"edge\"><title>St14&#45;&gt;St7</title>\r\n",
       "<path fill=\"none\" stroke=\"black\" d=\"M3067.36,-349.354C3059.2,-431.2 3031.99,-645 2970.57,-645 2775.02,-645 2775.02,-645 2775.02,-645 2575.48,-645 2539.03,-536 2339.49,-536 1785.82,-536 1785.82,-536 1785.82,-536 1731.2,-536 1667.95,-532.75 1629.26,-530.393\"/>\r\n",
       "<polygon fill=\"black\" stroke=\"black\" points=\"1629.23,-526.884 1619.03,-529.756 1628.79,-533.871 1629.23,-526.884\"/>\r\n",
       "<text text-anchor=\"middle\" x=\"2338.49\" y=\"-539.8\" font-family=\"Times New Roman,serif\" font-size=\"14.00\">1</text>\r\n",
       "</g>\r\n",
       "<!-- St6&#45;&gt;St3 -->\r\n",
       "<g id=\"edge53\" class=\"edge\"><title>St6&#45;&gt;St3</title>\r\n",
       "<path fill=\"none\" stroke=\"black\" d=\"M2113.85,-334.155C2156.65,-339.763 2244.79,-352.903 2316.99,-374 2364.73,-387.948 2417.66,-410.574 2450.71,-425.619\"/>\r\n",
       "<polygon fill=\"black\" stroke=\"black\" points=\"2449.35,-428.844 2459.9,-429.837 2452.27,-422.483 2449.35,-428.844\"/>\r\n",
       "<text text-anchor=\"middle\" x=\"2289.7\" y=\"-377.8\" font-family=\"Times New Roman,serif\" font-size=\"14.00\">1</text>\r\n",
       "</g>\r\n",
       "<!-- St6&#45;&gt;St11 -->\r\n",
       "<g id=\"edge52\" class=\"edge\"><title>St6&#45;&gt;St11</title>\r\n",
       "<path fill=\"none\" stroke=\"black\" d=\"M2102.46,-308.898C2118.75,-283.901 2145.48,-242.876 2164.54,-213.62\"/>\r\n",
       "<polygon fill=\"black\" stroke=\"black\" points=\"2167.67,-215.239 2170.19,-204.95 2161.8,-211.417 2167.67,-215.239\"/>\r\n",
       "<text text-anchor=\"middle\" x=\"2135.3\" y=\"-263.8\" font-family=\"Times New Roman,serif\" font-size=\"14.00\">0</text>\r\n",
       "</g>\r\n",
       "<!-- St15&#45;&gt;St31 -->\r\n",
       "<g id=\"edge34\" class=\"edge\"><title>St15&#45;&gt;St31</title>\r\n",
       "<path fill=\"none\" stroke=\"black\" d=\"M3164.75,-87.0275C3149.58,-52.6691 3118.74,-0 3072.16,-0 214.893,-0 214.893,-0 214.893,-0 157.917,-0 134.094,-75.6938 124.772,-122.955\"/>\r\n",
       "<polygon fill=\"black\" stroke=\"black\" points=\"121.317,-122.389 122.947,-132.858 128.201,-123.658 121.317,-122.389\"/>\r\n",
       "<text text-anchor=\"middle\" x=\"1640.43\" y=\"-3.8\" font-family=\"Times New Roman,serif\" font-size=\"14.00\">0</text>\r\n",
       "</g>\r\n",
       "<!-- St15&#45;&gt;St23 -->\r\n",
       "<g id=\"edge35\" class=\"edge\"><title>St15&#45;&gt;St23</title>\r\n",
       "<path fill=\"none\" stroke=\"black\" d=\"M3173.68,-147.309C3165.13,-270.352 3130.24,-714 3072.16,-714 312.488,-714 312.488,-714 312.488,-714 273.816,-714 246.515,-674.541 231.25,-644.234\"/>\r\n",
       "<polygon fill=\"black\" stroke=\"black\" points=\"234.384,-642.674 226.899,-635.175 228.074,-645.705 234.384,-642.674\"/>\r\n",
       "<text text-anchor=\"middle\" x=\"1689.22\" y=\"-717.8\" font-family=\"Times New Roman,serif\" font-size=\"14.00\">1</text>\r\n",
       "</g>\r\n",
       "<!-- St8&#45;&gt;St4 -->\r\n",
       "<g id=\"edge63\" class=\"edge\"><title>St8&#45;&gt;St4</title>\r\n",
       "<path fill=\"none\" stroke=\"black\" d=\"M1116.73,-359.968C1127.3,-362.876 1139.75,-366.302 1151.15,-369.44\"/>\r\n",
       "<polygon fill=\"black\" stroke=\"black\" points=\"1150.26,-372.825 1160.83,-372.103 1152.12,-366.076 1150.26,-372.825\"/>\r\n",
       "<text text-anchor=\"middle\" x=\"1138.65\" y=\"-370.8\" font-family=\"Times New Roman,serif\" font-size=\"14.00\">1</text>\r\n",
       "</g>\r\n",
       "<!-- St8&#45;&gt;St12 -->\r\n",
       "<g id=\"edge62\" class=\"edge\"><title>St8&#45;&gt;St12</title>\r\n",
       "<path fill=\"none\" stroke=\"black\" d=\"M1114.57,-340.985C1141.86,-327.336 1188.91,-305.358 1231.65,-293 1313.42,-269.355 1059.85,-274 1542.93,-274 1542.93,-274 1542.93,-274 1739.02,-274 1811.9,-274 1896.15,-286.283 1944.74,-294.579\"/>\r\n",
       "<polygon fill=\"black\" stroke=\"black\" points=\"1944.39,-298.07 1954.84,-296.334 1945.59,-291.173 1944.39,-298.07\"/>\r\n",
       "<text text-anchor=\"middle\" x=\"1543.93\" y=\"-277.8\" font-family=\"Times New Roman,serif\" font-size=\"14.00\">0</text>\r\n",
       "</g>\r\n",
       "<!-- St1&#45;&gt;St16 -->\r\n",
       "<g id=\"edge49\" class=\"edge\"><title>St1&#45;&gt;St16</title>\r\n",
       "<path fill=\"none\" stroke=\"black\" d=\"M826.786,-366.366C836.866,-366.897 848.587,-367.513 859.48,-368.086\"/>\r\n",
       "<polygon fill=\"black\" stroke=\"black\" points=\"859.42,-371.588 869.59,-368.618 859.788,-364.597 859.42,-371.588\"/>\r\n",
       "<text text-anchor=\"middle\" x=\"848.063\" y=\"-371.8\" font-family=\"Times New Roman,serif\" font-size=\"14.00\">1</text>\r\n",
       "</g>\r\n",
       "<!-- St1&#45;&gt;St24 -->\r\n",
       "<g id=\"edge48\" class=\"edge\"><title>St1&#45;&gt;St24</title>\r\n",
       "<path fill=\"none\" stroke=\"black\" d=\"M813.534,-341.5C829.225,-316.037 858.475,-279 895.86,-279 895.86,-279 895.86,-279 1043.15,-279 1305.79,-279 1373.13,-53.4726 1618.93,-146 1647.71,-156.834 1794.88,-294.194 1856.37,-352.308\"/>\r\n",
       "<polygon fill=\"black\" stroke=\"black\" points=\"1854.1,-354.983 1863.77,-359.314 1858.91,-349.898 1854.1,-354.983\"/>\r\n",
       "<text text-anchor=\"middle\" x=\"1340.74\" y=\"-181.8\" font-family=\"Times New Roman,serif\" font-size=\"14.00\">0</text>\r\n",
       "</g>\r\n",
       "<!-- St12&#45;&gt;St14 -->\r\n",
       "<g id=\"edge58\" class=\"edge\"><title>St12&#45;&gt;St14</title>\r\n",
       "<path fill=\"none\" stroke=\"black\" d=\"M2015.53,-290.369C2035.05,-283.446 2061.7,-276 2086.06,-276 2086.06,-276 2086.06,-276 2970.57,-276 2993.52,-276 3017.28,-285.591 3035.83,-295.606\"/>\r\n",
       "<polygon fill=\"black\" stroke=\"black\" points=\"3034.34,-298.782 3044.76,-300.675 3037.79,-292.694 3034.34,-298.782\"/>\r\n",
       "<text text-anchor=\"middle\" x=\"2532.59\" y=\"-279.8\" font-family=\"Times New Roman,serif\" font-size=\"14.00\">0</text>\r\n",
       "</g>\r\n",
       "<!-- St12&#45;&gt;St6 -->\r\n",
       "<g id=\"edge59\" class=\"edge\"><title>St12&#45;&gt;St6</title>\r\n",
       "<path fill=\"none\" stroke=\"black\" d=\"M2016.19,-310.544C2027.23,-313.775 2039.89,-317.483 2051.38,-320.847\"/>\r\n",
       "<polygon fill=\"black\" stroke=\"black\" points=\"2050.52,-324.243 2061.1,-323.694 2052.49,-317.525 2050.52,-324.243\"/>\r\n",
       "<text text-anchor=\"middle\" x=\"2038.81\" y=\"-322.8\" font-family=\"Times New Roman,serif\" font-size=\"14.00\">1</text>\r\n",
       "</g>\r\n",
       "<!-- St11&#45;&gt;St21 -->\r\n",
       "<g id=\"edge39\" class=\"edge\"><title>St11&#45;&gt;St21</title>\r\n",
       "<path fill=\"none\" stroke=\"black\" d=\"M2158.45,-168.562C2088.08,-143.883 1900.65,-84 1739.02,-84 1542.93,-84 1542.93,-84 1542.93,-84 1406.46,-84 1372.62,-97 1236.15,-97 507.678,-97 507.678,-97 507.678,-97 431.621,-97 415.701,-211.438 412.622,-272.551\"/>\r\n",
       "<polygon fill=\"black\" stroke=\"black\" points=\"409.123,-272.454 412.208,-282.59 416.117,-272.743 409.123,-272.454\"/>\r\n",
       "<text text-anchor=\"middle\" x=\"1287.94\" y=\"-100.8\" font-family=\"Times New Roman,serif\" font-size=\"14.00\">1</text>\r\n",
       "</g>\r\n",
       "<!-- St11&#45;&gt;St29 -->\r\n",
       "<g id=\"edge38\" class=\"edge\"><title>St11&#45;&gt;St29</title>\r\n",
       "<path fill=\"none\" stroke=\"black\" d=\"M2219.52,-179.916C2229.74,-180.224 2241.23,-180.57 2251.88,-180.891\"/>\r\n",
       "<polygon fill=\"black\" stroke=\"black\" points=\"2252.07,-184.398 2262.17,-181.201 2252.28,-177.401 2252.07,-184.398\"/>\r\n",
       "<text text-anchor=\"middle\" x=\"2240.9\" y=\"-184.8\" font-family=\"Times New Roman,serif\" font-size=\"14.00\">0</text>\r\n",
       "</g>\r\n",
       "<!-- St0&#45;&gt;St8 -->\r\n",
       "<g id=\"edge64\" class=\"edge\"><title>St0&#45;&gt;St8</title>\r\n",
       "<path fill=\"none\" stroke=\"black\" d=\"M1019.73,-376.592C1030.58,-372.918 1043.49,-368.548 1055.23,-364.573\"/>\r\n",
       "<polygon fill=\"black\" stroke=\"black\" points=\"1056.39,-367.874 1064.74,-361.351 1054.15,-361.244 1056.39,-367.874\"/>\r\n",
       "<text text-anchor=\"middle\" x=\"1042.15\" y=\"-373.8\" font-family=\"Times New Roman,serif\" font-size=\"14.00\">0</text>\r\n",
       "</g>\r\n",
       "<!-- St0&#45;&gt;St0 -->\r\n",
       "<g id=\"edge65\" class=\"edge\"><title>St0&#45;&gt;St0</title>\r\n",
       "<path fill=\"none\" stroke=\"black\" d=\"M984.985,-410.301C984.37,-420.826 987.343,-429.748 993.906,-429.748 998.213,-429.748 1000.97,-425.906 1002.19,-420.289\"/>\r\n",
       "<polygon fill=\"black\" stroke=\"black\" points=\"1005.68,-420.504 1002.83,-410.301 998.697,-420.058 1005.68,-420.504\"/>\r\n",
       "<text text-anchor=\"middle\" x=\"993.906\" y=\"-433.548\" font-family=\"Times New Roman,serif\" font-size=\"14.00\">1</text>\r\n",
       "</g>\r\n",
       "<!-- St13&#45;&gt;St30 -->\r\n",
       "<g id=\"edge42\" class=\"edge\"><title>St13&#45;&gt;St30</title>\r\n",
       "<path fill=\"none\" stroke=\"black\" d=\"M1424.69,-208.633C1435.1,-209.888 1446.88,-211.307 1457.74,-212.615\"/>\r\n",
       "<polygon fill=\"black\" stroke=\"black\" points=\"1457.45,-216.105 1467.8,-213.827 1458.29,-209.155 1457.45,-216.105\"/>\r\n",
       "<text text-anchor=\"middle\" x=\"1446.34\" y=\"-215.8\" font-family=\"Times New Roman,serif\" font-size=\"14.00\">0</text>\r\n",
       "</g>\r\n",
       "<!-- St13&#45;&gt;St22 -->\r\n",
       "<g id=\"edge43\" class=\"edge\"><title>St13&#45;&gt;St22</title>\r\n",
       "<path fill=\"none\" stroke=\"black\" d=\"M1419.36,-186.697C1438.71,-174.238 1466.81,-160 1494.13,-160 1494.13,-160 1494.13,-160 1641.43,-160 1852.64,-160 1902.72,-100.737 2113.8,-108 2204.27,-111.113 2226.72,-115.279 2316.99,-122 2328.11,-122.828 2331.08,-121.751 2341.99,-124 2345.18,-124.655 2348.44,-125.472 2351.69,-126.384\"/>\r\n",
       "<polygon fill=\"black\" stroke=\"black\" points=\"2350.7,-129.74 2361.29,-129.337 2352.76,-123.05 2350.7,-129.74\"/>\r\n",
       "<text text-anchor=\"middle\" x=\"1884.42\" y=\"-139.8\" font-family=\"Times New Roman,serif\" font-size=\"14.00\">1</text>\r\n",
       "</g>\r\n",
       "<!-- St9&#45;&gt;St28 -->\r\n",
       "<g id=\"edge46\" class=\"edge\"><title>St9&#45;&gt;St28</title>\r\n",
       "<path fill=\"none\" stroke=\"black\" d=\"M2887.95,-469.826C2903.98,-445.208 2929.97,-405.281 2948.1,-377.444\"/>\r\n",
       "<polygon fill=\"black\" stroke=\"black\" points=\"2951.16,-379.155 2953.68,-368.865 2945.29,-375.336 2951.16,-379.155\"/>\r\n",
       "<text text-anchor=\"middle\" x=\"2920.77\" y=\"-427.8\" font-family=\"Times New Roman,serif\" font-size=\"14.00\">0</text>\r\n",
       "</g>\r\n",
       "<!-- St9&#45;&gt;St20 -->\r\n",
       "<g id=\"edge47\" class=\"edge\"><title>St9&#45;&gt;St20</title>\r\n",
       "<path fill=\"none\" stroke=\"black\" d=\"M2846.12,-487.146C2833.18,-484.779 2817.17,-482.016 2802.77,-480 2773.92,-475.96 2741.1,-472.546 2716.65,-470.232\"/>\r\n",
       "<polygon fill=\"black\" stroke=\"black\" points=\"2716.67,-466.718 2706.39,-469.278 2716.02,-473.688 2716.67,-466.718\"/>\r\n",
       "<text text-anchor=\"middle\" x=\"2776.02\" y=\"-483.8\" font-family=\"Times New Roman,serif\" font-size=\"14.00\">1</text>\r\n",
       "</g>\r\n",
       "<!-- St2&#45;&gt;St1 -->\r\n",
       "<g id=\"edge57\" class=\"edge\"><title>St2&#45;&gt;St1</title>\r\n",
       "<path fill=\"none\" stroke=\"black\" d=\"M2751.23,-541.158C2744.83,-543.637 2737.86,-546.115 2731.28,-548 2582.12,-590.722 2543.44,-613 2388.29,-613 2187.1,-613 2187.1,-613 2187.1,-613 1953.69,-613 1893.43,-639.845 1661.93,-610 1516.24,-591.217 1488.64,-528 1341.74,-528 895.86,-528 895.86,-528 895.86,-528 837.722,-528 814.514,-449.658 805.746,-401.599\"/>\r\n",
       "<polygon fill=\"black\" stroke=\"black\" points=\"809.165,-400.825 804.041,-391.552 802.264,-401.996 809.165,-400.825\"/>\r\n",
       "<text text-anchor=\"middle\" x=\"1786.82\" y=\"-626.8\" font-family=\"Times New Roman,serif\" font-size=\"14.00\">1</text>\r\n",
       "</g>\r\n",
       "<!-- St2&#45;&gt;St9 -->\r\n",
       "<g id=\"edge56\" class=\"edge\"><title>St2&#45;&gt;St9</title>\r\n",
       "<path fill=\"none\" stroke=\"black\" d=\"M2801.36,-520.957C2812.58,-516.326 2826.07,-510.758 2838.21,-505.746\"/>\r\n",
       "<polygon fill=\"black\" stroke=\"black\" points=\"2839.69,-508.925 2847.59,-501.874 2837.02,-502.454 2839.69,-508.925\"/>\r\n",
       "<text text-anchor=\"middle\" x=\"2824.27\" y=\"-516.8\" font-family=\"Times New Roman,serif\" font-size=\"14.00\">0</text>\r\n",
       "</g>\r\n",
       "<!-- St7&#45;&gt;St27 -->\r\n",
       "<g id=\"edge36\" class=\"edge\"><title>St7&#45;&gt;St27</title>\r\n",
       "<path fill=\"none\" stroke=\"black\" d=\"M1568.17,-540.042C1525.01,-561.472 1428.43,-604 1341.74,-604 410.083,-604 410.083,-604 410.083,-604 375.624,-604 348.526,-572.615 332.113,-546.912\"/>\r\n",
       "<polygon fill=\"black\" stroke=\"black\" points=\"334.949,-544.839 326.758,-538.118 328.97,-548.48 334.949,-544.839\"/>\r\n",
       "<text text-anchor=\"middle\" x=\"945.658\" y=\"-607.8\" font-family=\"Times New Roman,serif\" font-size=\"14.00\">0</text>\r\n",
       "</g>\r\n",
       "<!-- St7&#45;&gt;St19 -->\r\n",
       "<g id=\"edge37\" class=\"edge\"><title>St7&#45;&gt;St19</title>\r\n",
       "<path fill=\"none\" stroke=\"black\" d=\"M1616.67,-539.371C1628.24,-544.968 1642.38,-551.812 1655.03,-557.933\"/>\r\n",
       "<polygon fill=\"black\" stroke=\"black\" points=\"1653.81,-561.234 1664.34,-562.441 1656.86,-554.934 1653.81,-561.234\"/>\r\n",
       "<text text-anchor=\"middle\" x=\"1640.43\" y=\"-556.8\" font-family=\"Times New Roman,serif\" font-size=\"14.00\">1</text>\r\n",
       "</g>\r\n",
       "</g>\r\n",
       "</svg>\r\n"
      ],
      "text/plain": [
       "<graphviz.dot.Digraph at 0x1fb7fdffda0>"
      ]
     },
     "execution_count": 10,
     "metadata": {},
     "output_type": "execute_result"
    }
   ],
   "source": [
    "dotObj_dfa(min_dfa(nfa2dfa(fifthlast)))"
   ]
  },
  {
   "cell_type": "code",
   "execution_count": 11,
   "metadata": {
    "run_control": {
     "frozen": false,
     "read_only": false
    }
   },
   "outputs": [
    {
     "data": {
      "text/plain": [
       "4"
      ]
     },
     "execution_count": 11,
     "metadata": {},
     "output_type": "execute_result"
    }
   ],
   "source": [
    "len(min_dfa(nfa2dfa(secondlast))[\"Q\"])"
   ]
  },
  {
   "cell_type": "code",
   "execution_count": 12,
   "metadata": {
    "run_control": {
     "frozen": false,
     "read_only": false
    }
   },
   "outputs": [
    {
     "data": {
      "text/plain": [
       "8"
      ]
     },
     "execution_count": 12,
     "metadata": {},
     "output_type": "execute_result"
    }
   ],
   "source": [
    "len(min_dfa(nfa2dfa(thirdlast))[\"Q\"])"
   ]
  },
  {
   "cell_type": "code",
   "execution_count": 13,
   "metadata": {
    "run_control": {
     "frozen": false,
     "read_only": false
    }
   },
   "outputs": [
    {
     "data": {
      "text/plain": [
       "16"
      ]
     },
     "execution_count": 13,
     "metadata": {},
     "output_type": "execute_result"
    }
   ],
   "source": [
    "len(min_dfa(nfa2dfa(fourthlast))[\"Q\"])"
   ]
  },
  {
   "cell_type": "code",
   "execution_count": 14,
   "metadata": {
    "run_control": {
     "frozen": false,
     "read_only": false
    }
   },
   "outputs": [
    {
     "data": {
      "text/plain": [
       "32"
      ]
     },
     "execution_count": 14,
     "metadata": {},
     "output_type": "execute_result"
    }
   ],
   "source": [
    "len(min_dfa(nfa2dfa(fifthlast))[\"Q\"])"
   ]
  },
  {
   "cell_type": "markdown",
   "metadata": {
    "run_control": {
     "frozen": false,
     "read_only": false
    }
   },
   "source": [
    "## Clear evidence of exponential blowup!"
   ]
  },
  {
   "cell_type": "markdown",
   "metadata": {
    "run_control": {
     "frozen": false,
     "read_only": false
    }
   },
   "source": [
    "### Another problem with DFA : No natural way to specify many languages"
   ]
  },
  {
   "cell_type": "code",
   "execution_count": 15,
   "metadata": {
    "run_control": {
     "frozen": false,
     "read_only": false
    }
   },
   "outputs": [
    {
     "data": {
      "image/svg+xml": [
       "<?xml version=\"1.0\" encoding=\"UTF-8\" standalone=\"no\"?>\r\n",
       "<!DOCTYPE svg PUBLIC \"-//W3C//DTD SVG 1.1//EN\"\r\n",
       " \"http://www.w3.org/Graphics/SVG/1.1/DTD/svg11.dtd\">\r\n",
       "<!-- Generated by graphviz version 2.38.0 (20140413.2041)\r\n",
       " -->\r\n",
       "<!-- Title: %3 Pages: 1 -->\r\n",
       "<svg width=\"309pt\" height=\"198pt\"\r\n",
       " viewBox=\"0.00 0.00 308.60 197.70\" xmlns=\"http://www.w3.org/2000/svg\" xmlns:xlink=\"http://www.w3.org/1999/xlink\">\r\n",
       "<g id=\"graph0\" class=\"graph\" transform=\"scale(1 1) rotate(0) translate(4 193.701)\">\r\n",
       "<title>%3</title>\r\n",
       "<polygon fill=\"white\" stroke=\"none\" points=\"-4,4 -4,-193.701 304.596,-193.701 304.596,4 -4,4\"/>\r\n",
       "<!-- EMPTY -->\r\n",
       "<g id=\"node1\" class=\"node\"><title>EMPTY</title>\r\n",
       "</g>\r\n",
       "<!-- I -->\r\n",
       "<g id=\"node2\" class=\"node\"><title>I</title>\r\n",
       "<ellipse fill=\"none\" stroke=\"black\" cx=\"109\" cy=\"-81.9033\" rx=\"18\" ry=\"18\"/>\r\n",
       "<text text-anchor=\"middle\" x=\"109\" y=\"-78.2033\" font-family=\"Times New Roman,serif\" font-size=\"14.00\">I</text>\r\n",
       "</g>\r\n",
       "<!-- EMPTY&#45;&gt;I -->\r\n",
       "<g id=\"edge1\" class=\"edge\"><title>EMPTY&#45;&gt;I</title>\r\n",
       "<path fill=\"none\" stroke=\"black\" d=\"M54.195,-81.9033C62.6538,-81.9033 72.0513,-81.9033 80.5951,-81.9033\"/>\r\n",
       "<polygon fill=\"black\" stroke=\"black\" points=\"80.8257,-85.4034 90.8257,-81.9033 80.8257,-78.4034 80.8257,-85.4034\"/>\r\n",
       "</g>\r\n",
       "<!-- Sc -->\r\n",
       "<g id=\"node3\" class=\"node\"><title>Sc</title>\r\n",
       "<ellipse fill=\"none\" stroke=\"black\" cx=\"191.798\" cy=\"-168.903\" rx=\"20.5982\" ry=\"20.5982\"/>\r\n",
       "<text text-anchor=\"middle\" x=\"191.798\" y=\"-165.203\" font-family=\"Times New Roman,serif\" font-size=\"14.00\">Sc</text>\r\n",
       "</g>\r\n",
       "<!-- I&#45;&gt;Sc -->\r\n",
       "<g id=\"edge5\" class=\"edge\"><title>I&#45;&gt;Sc</title>\r\n",
       "<path fill=\"none\" stroke=\"black\" d=\"M121.922,-94.7405C134.522,-108.307 154.641,-129.971 169.889,-146.389\"/>\r\n",
       "<polygon fill=\"black\" stroke=\"black\" points=\"167.559,-149.024 176.929,-153.969 172.688,-144.26 167.559,-149.024\"/>\r\n",
       "<text text-anchor=\"middle\" x=\"149\" y=\"-131.703\" font-family=\"Times New Roman,serif\" font-size=\"14.00\">c</text>\r\n",
       "</g>\r\n",
       "<!-- Se -->\r\n",
       "<g id=\"node4\" class=\"node\"><title>Se</title>\r\n",
       "<ellipse fill=\"none\" stroke=\"black\" cx=\"191.798\" cy=\"-109.903\" rx=\"20.2975\" ry=\"20.2975\"/>\r\n",
       "<text text-anchor=\"middle\" x=\"191.798\" y=\"-106.203\" font-family=\"Times New Roman,serif\" font-size=\"14.00\">Se</text>\r\n",
       "</g>\r\n",
       "<!-- I&#45;&gt;Se -->\r\n",
       "<g id=\"edge7\" class=\"edge\"><title>I&#45;&gt;Se</title>\r\n",
       "<path fill=\"none\" stroke=\"black\" d=\"M126.351,-87.5696C136.798,-91.19 150.619,-95.9795 162.782,-100.195\"/>\r\n",
       "<polygon fill=\"black\" stroke=\"black\" points=\"161.904,-103.594 172.499,-103.562 164.196,-96.9802 161.904,-103.594\"/>\r\n",
       "<text text-anchor=\"middle\" x=\"149\" y=\"-100.703\" font-family=\"Times New Roman,serif\" font-size=\"14.00\">e</text>\r\n",
       "</g>\r\n",
       "<!-- Sb -->\r\n",
       "<g id=\"node5\" class=\"node\"><title>Sb</title>\r\n",
       "<ellipse fill=\"none\" stroke=\"black\" cx=\"191.798\" cy=\"-50.9033\" rx=\"20.5982\" ry=\"20.5982\"/>\r\n",
       "<text text-anchor=\"middle\" x=\"191.798\" y=\"-47.2033\" font-family=\"Times New Roman,serif\" font-size=\"14.00\">Sb</text>\r\n",
       "</g>\r\n",
       "<!-- I&#45;&gt;Sb -->\r\n",
       "<g id=\"edge3\" class=\"edge\"><title>I&#45;&gt;Sb</title>\r\n",
       "<path fill=\"none\" stroke=\"black\" d=\"M125.963,-75.7787C136.414,-71.7689 150.361,-66.4181 162.641,-61.7066\"/>\r\n",
       "<polygon fill=\"black\" stroke=\"black\" points=\"163.95,-64.953 172.033,-58.103 161.443,-58.4175 163.95,-64.953\"/>\r\n",
       "<text text-anchor=\"middle\" x=\"149\" y=\"-72.7033\" font-family=\"Times New Roman,serif\" font-size=\"14.00\">b</text>\r\n",
       "</g>\r\n",
       "<!-- F -->\r\n",
       "<g id=\"node6\" class=\"node\"><title>F</title>\r\n",
       "<ellipse fill=\"none\" stroke=\"black\" cx=\"278.596\" cy=\"-79.9033\" rx=\"18\" ry=\"18\"/>\r\n",
       "<ellipse fill=\"none\" stroke=\"black\" cx=\"278.596\" cy=\"-79.9033\" rx=\"22\" ry=\"22\"/>\r\n",
       "<text text-anchor=\"middle\" x=\"278.596\" y=\"-76.2033\" font-family=\"Times New Roman,serif\" font-size=\"14.00\">F</text>\r\n",
       "</g>\r\n",
       "<!-- I&#45;&gt;F -->\r\n",
       "<g id=\"edge2\" class=\"edge\"><title>I&#45;&gt;F</title>\r\n",
       "<path fill=\"none\" stroke=\"black\" d=\"M117.414,-65.8211C126.893,-47.4293 145.219,-18.2688 171,-5.90334 187.669,2.09177 195.754,1.71981 212.596,-5.90334 233.689,-15.4502 250.653,-35.5988 261.955,-52.4641\"/>\r\n",
       "<polygon fill=\"black\" stroke=\"black\" points=\"259.013,-54.3607 267.341,-60.9106 264.915,-50.5972 259.013,-54.3607\"/>\r\n",
       "<text text-anchor=\"middle\" x=\"191.798\" y=\"-9.70334\" font-family=\"Times New Roman,serif\" font-size=\"14.00\">a</text>\r\n",
       "</g>\r\n",
       "<!-- Sc&#45;&gt;F -->\r\n",
       "<g id=\"edge6\" class=\"edge\"><title>Sc&#45;&gt;F</title>\r\n",
       "<path fill=\"none\" stroke=\"black\" d=\"M206.801,-154.207C220.061,-140.29 240.178,-119.176 255.583,-103.007\"/>\r\n",
       "<polygon fill=\"black\" stroke=\"black\" points=\"258.352,-105.175 262.716,-95.5206 253.284,-100.346 258.352,-105.175\"/>\r\n",
       "<text text-anchor=\"middle\" x=\"234.596\" y=\"-130.703\" font-family=\"Times New Roman,serif\" font-size=\"14.00\">d</text>\r\n",
       "</g>\r\n",
       "<!-- Se&#45;&gt;F -->\r\n",
       "<g id=\"edge8\" class=\"edge\"><title>Se&#45;&gt;F</title>\r\n",
       "<path fill=\"none\" stroke=\"black\" d=\"M211.198,-103.394C221.854,-99.6241 235.524,-94.7876 247.689,-90.4841\"/>\r\n",
       "<polygon fill=\"black\" stroke=\"black\" points=\"249.193,-93.6645 257.453,-87.0296 246.859,-87.0653 249.193,-93.6645\"/>\r\n",
       "<text text-anchor=\"middle\" x=\"234.596\" y=\"-99.7033\" font-family=\"Times New Roman,serif\" font-size=\"14.00\">b</text>\r\n",
       "</g>\r\n",
       "<!-- Sb&#45;&gt;F -->\r\n",
       "<g id=\"edge4\" class=\"edge\"><title>Sb&#45;&gt;F</title>\r\n",
       "<path fill=\"none\" stroke=\"black\" d=\"M211.618,-57.3394C222.291,-60.9896 235.888,-65.6396 247.962,-69.7687\"/>\r\n",
       "<polygon fill=\"black\" stroke=\"black\" points=\"247.053,-73.157 257.648,-73.0812 249.319,-66.5336 247.053,-73.157\"/>\r\n",
       "<text text-anchor=\"middle\" x=\"234.596\" y=\"-70.7033\" font-family=\"Times New Roman,serif\" font-size=\"14.00\">a</text>\r\n",
       "</g>\r\n",
       "</g>\r\n",
       "</svg>\r\n"
      ],
      "text/plain": [
       "<graphviz.dot.Digraph at 0x1fb00c95940>"
      ]
     },
     "execution_count": 15,
     "metadata": {},
     "output_type": "execute_result"
    }
   ],
   "source": [
    "# NFA for the language {'a','ba','cd','eb'}\n",
    "nfa_abcde = md2mc('''\n",
    "NFA\n",
    "I   : a -> F\n",
    "I   : b -> Sb\n",
    "Sb  : a -> F\n",
    "I   : c -> Sc\n",
    "Sc  : d -> F\n",
    "I   : e -> Se\n",
    "Se  : b -> F\n",
    "''')\n",
    "dotObj_nfa(nfa_abcde)"
   ]
  },
  {
   "cell_type": "code",
   "execution_count": 16,
   "metadata": {
    "run_control": {
     "frozen": false,
     "read_only": false
    }
   },
   "outputs": [
    {
     "data": {
      "image/svg+xml": [
       "<?xml version=\"1.0\" encoding=\"UTF-8\" standalone=\"no\"?>\r\n",
       "<!DOCTYPE svg PUBLIC \"-//W3C//DTD SVG 1.1//EN\"\r\n",
       " \"http://www.w3.org/Graphics/SVG/1.1/DTD/svg11.dtd\">\r\n",
       "<!-- Generated by graphviz version 2.38.0 (20140413.2041)\r\n",
       " -->\r\n",
       "<!-- Title: %3 Pages: 1 -->\r\n",
       "<svg width=\"436pt\" height=\"316pt\"\r\n",
       " viewBox=\"0.00 0.00 435.60 316.15\" xmlns=\"http://www.w3.org/2000/svg\" xmlns:xlink=\"http://www.w3.org/1999/xlink\">\r\n",
       "<g id=\"graph0\" class=\"graph\" transform=\"scale(1 1) rotate(0) translate(4 312.149)\">\r\n",
       "<title>%3</title>\r\n",
       "<polygon fill=\"white\" stroke=\"none\" points=\"-4,4 -4,-312.149 431.596,-312.149 431.596,4 -4,4\"/>\r\n",
       "<!-- EMPTY -->\r\n",
       "<g id=\"node1\" class=\"node\"><title>EMPTY</title>\r\n",
       "</g>\r\n",
       "<!-- I -->\r\n",
       "<g id=\"node5\" class=\"node\"><title>I</title>\r\n",
       "<ellipse fill=\"none\" stroke=\"black\" cx=\"109\" cy=\"-158.149\" rx=\"18\" ry=\"18\"/>\r\n",
       "<text text-anchor=\"middle\" x=\"109\" y=\"-154.449\" font-family=\"Times New Roman,serif\" font-size=\"14.00\">I</text>\r\n",
       "</g>\r\n",
       "<!-- EMPTY&#45;&gt;I -->\r\n",
       "<g id=\"edge1\" class=\"edge\"><title>EMPTY&#45;&gt;I</title>\r\n",
       "<path fill=\"none\" stroke=\"black\" d=\"M54.195,-158.149C62.6538,-158.149 72.0513,-158.149 80.5951,-158.149\"/>\r\n",
       "<polygon fill=\"black\" stroke=\"black\" points=\"80.8257,-161.649 90.8257,-158.149 80.8257,-154.649 80.8257,-161.649\"/>\r\n",
       "</g>\r\n",
       "<!-- Sb -->\r\n",
       "<g id=\"node2\" class=\"node\"><title>Sb</title>\r\n",
       "<ellipse fill=\"none\" stroke=\"black\" cx=\"191.798\" cy=\"-212.149\" rx=\"20.5982\" ry=\"20.5982\"/>\r\n",
       "<text text-anchor=\"middle\" x=\"191.798\" y=\"-208.449\" font-family=\"Times New Roman,serif\" font-size=\"14.00\">Sb</text>\r\n",
       "</g>\r\n",
       "<!-- BH -->\r\n",
       "<g id=\"node3\" class=\"node\"><title>BH</title>\r\n",
       "<ellipse fill=\"none\" stroke=\"black\" cx=\"390.096\" cy=\"-131.149\" rx=\"22.9987\" ry=\"22.9987\"/>\r\n",
       "<text text-anchor=\"middle\" x=\"390.096\" y=\"-127.449\" font-family=\"Times New Roman,serif\" font-size=\"14.00\">BH</text>\r\n",
       "</g>\r\n",
       "<!-- Sb&#45;&gt;BH -->\r\n",
       "<g id=\"edge11\" class=\"edge\"><title>Sb&#45;&gt;BH</title>\r\n",
       "<path fill=\"none\" stroke=\"black\" d=\"M212.537,-216.626C241.289,-222.056 295.515,-228.093 334.596,-207.149 353.191,-197.183 366.951,-177.755 375.992,-161.037\"/>\r\n",
       "<polygon fill=\"black\" stroke=\"black\" points=\"379.121,-162.606 380.531,-152.105 372.88,-159.434 379.121,-162.606\"/>\r\n",
       "<text text-anchor=\"middle\" x=\"278.596\" y=\"-270.949\" font-family=\"Times New Roman,serif\" font-size=\"14.00\">b </text>\r\n",
       "<text text-anchor=\"middle\" x=\"278.596\" y=\"-255.949\" font-family=\"Times New Roman,serif\" font-size=\"14.00\"> d </text>\r\n",
       "<text text-anchor=\"middle\" x=\"278.596\" y=\"-240.949\" font-family=\"Times New Roman,serif\" font-size=\"14.00\"> c </text>\r\n",
       "<text text-anchor=\"middle\" x=\"278.596\" y=\"-225.949\" font-family=\"Times New Roman,serif\" font-size=\"14.00\"> e</text>\r\n",
       "</g>\r\n",
       "<!-- F -->\r\n",
       "<g id=\"node7\" class=\"node\"><title>F</title>\r\n",
       "<ellipse fill=\"none\" stroke=\"black\" cx=\"278.596\" cy=\"-163.149\" rx=\"18\" ry=\"18\"/>\r\n",
       "<ellipse fill=\"none\" stroke=\"black\" cx=\"278.596\" cy=\"-163.149\" rx=\"22\" ry=\"22\"/>\r\n",
       "<text text-anchor=\"middle\" x=\"278.596\" y=\"-159.449\" font-family=\"Times New Roman,serif\" font-size=\"14.00\">F</text>\r\n",
       "</g>\r\n",
       "<!-- Sb&#45;&gt;F -->\r\n",
       "<g id=\"edge12\" class=\"edge\"><title>Sb&#45;&gt;F</title>\r\n",
       "<path fill=\"none\" stroke=\"black\" d=\"M210.368,-201.996C221.957,-195.3 237.365,-186.396 250.507,-178.802\"/>\r\n",
       "<polygon fill=\"black\" stroke=\"black\" points=\"252.261,-181.831 259.169,-173.797 248.759,-175.77 252.261,-181.831\"/>\r\n",
       "<text text-anchor=\"middle\" x=\"234.596\" y=\"-192.949\" font-family=\"Times New Roman,serif\" font-size=\"14.00\">a</text>\r\n",
       "</g>\r\n",
       "<!-- BH&#45;&gt;BH -->\r\n",
       "<g id=\"edge7\" class=\"edge\"><title>BH&#45;&gt;BH</title>\r\n",
       "<path fill=\"none\" stroke=\"black\" d=\"M378.951,-151.276C377.057,-162.066 380.772,-171.897 390.096,-171.897 396.215,-171.897 399.919,-167.663 401.206,-161.703\"/>\r\n",
       "<polygon fill=\"black\" stroke=\"black\" points=\"404.708,-161.288 401.242,-151.276 397.708,-161.264 404.708,-161.288\"/>\r\n",
       "<text text-anchor=\"middle\" x=\"390.096\" y=\"-235.697\" font-family=\"Times New Roman,serif\" font-size=\"14.00\">d </text>\r\n",
       "<text text-anchor=\"middle\" x=\"390.096\" y=\"-220.697\" font-family=\"Times New Roman,serif\" font-size=\"14.00\"> a </text>\r\n",
       "<text text-anchor=\"middle\" x=\"390.096\" y=\"-205.697\" font-family=\"Times New Roman,serif\" font-size=\"14.00\"> b </text>\r\n",
       "<text text-anchor=\"middle\" x=\"390.096\" y=\"-190.697\" font-family=\"Times New Roman,serif\" font-size=\"14.00\"> c </text>\r\n",
       "<text text-anchor=\"middle\" x=\"390.096\" y=\"-175.697\" font-family=\"Times New Roman,serif\" font-size=\"14.00\"> e</text>\r\n",
       "</g>\r\n",
       "<!-- Sc -->\r\n",
       "<g id=\"node4\" class=\"node\"><title>Sc</title>\r\n",
       "<ellipse fill=\"none\" stroke=\"black\" cx=\"191.798\" cy=\"-101.149\" rx=\"20.5982\" ry=\"20.5982\"/>\r\n",
       "<text text-anchor=\"middle\" x=\"191.798\" y=\"-97.4488\" font-family=\"Times New Roman,serif\" font-size=\"14.00\">Sc</text>\r\n",
       "</g>\r\n",
       "<!-- Sc&#45;&gt;BH -->\r\n",
       "<g id=\"edge10\" class=\"edge\"><title>Sc&#45;&gt;BH</title>\r\n",
       "<path fill=\"none\" stroke=\"black\" d=\"M210.068,-90.5043C231.436,-78.7107 268.878,-62.5452 300.596,-72.1488 324.677,-79.4397 348.193,-95.6824 364.926,-109.283\"/>\r\n",
       "<polygon fill=\"black\" stroke=\"black\" points=\"363.118,-112.336 373.024,-116.093 367.623,-106.978 363.118,-112.336\"/>\r\n",
       "<text text-anchor=\"middle\" x=\"278.596\" y=\"-120.949\" font-family=\"Times New Roman,serif\" font-size=\"14.00\">a </text>\r\n",
       "<text text-anchor=\"middle\" x=\"278.596\" y=\"-105.949\" font-family=\"Times New Roman,serif\" font-size=\"14.00\"> c </text>\r\n",
       "<text text-anchor=\"middle\" x=\"278.596\" y=\"-90.9488\" font-family=\"Times New Roman,serif\" font-size=\"14.00\"> b </text>\r\n",
       "<text text-anchor=\"middle\" x=\"278.596\" y=\"-75.9488\" font-family=\"Times New Roman,serif\" font-size=\"14.00\"> e</text>\r\n",
       "</g>\r\n",
       "<!-- Sc&#45;&gt;F -->\r\n",
       "<g id=\"edge9\" class=\"edge\"><title>Sc&#45;&gt;F</title>\r\n",
       "<path fill=\"none\" stroke=\"black\" d=\"M210.206,-110.859C218.952,-115.969 229.579,-122.534 238.596,-129.149 243.825,-132.984 249.206,-137.36 254.237,-141.666\"/>\r\n",
       "<polygon fill=\"black\" stroke=\"black\" points=\"251.959,-144.324 261.784,-148.289 256.576,-139.063 251.959,-144.324\"/>\r\n",
       "<text text-anchor=\"middle\" x=\"234.596\" y=\"-132.949\" font-family=\"Times New Roman,serif\" font-size=\"14.00\">d</text>\r\n",
       "</g>\r\n",
       "<!-- I&#45;&gt;Sb -->\r\n",
       "<g id=\"edge5\" class=\"edge\"><title>I&#45;&gt;Sb</title>\r\n",
       "<path fill=\"none\" stroke=\"black\" d=\"M124.445,-167.803C135.839,-175.418 152.009,-186.225 165.534,-195.264\"/>\r\n",
       "<polygon fill=\"black\" stroke=\"black\" points=\"163.704,-198.251 173.963,-200.897 167.594,-192.431 163.704,-198.251\"/>\r\n",
       "<text text-anchor=\"middle\" x=\"149\" y=\"-190.949\" font-family=\"Times New Roman,serif\" font-size=\"14.00\">b</text>\r\n",
       "</g>\r\n",
       "<!-- I&#45;&gt;BH -->\r\n",
       "<g id=\"edge2\" class=\"edge\"><title>I&#45;&gt;BH</title>\r\n",
       "<path fill=\"none\" stroke=\"black\" d=\"M118.335,-173.79C128.699,-192.066 147.877,-222.323 171,-242.149 217.178,-281.741 247.991,-316.689 300.596,-286.149 346.158,-259.698 370.236,-200.016 381.271,-162.909\"/>\r\n",
       "<polygon fill=\"black\" stroke=\"black\" points=\"384.695,-163.662 384.044,-153.087 377.958,-161.76 384.695,-163.662\"/>\r\n",
       "<text text-anchor=\"middle\" x=\"234.596\" y=\"-296.949\" font-family=\"Times New Roman,serif\" font-size=\"14.00\">d</text>\r\n",
       "</g>\r\n",
       "<!-- I&#45;&gt;Sc -->\r\n",
       "<g id=\"edge4\" class=\"edge\"><title>I&#45;&gt;Sc</title>\r\n",
       "<path fill=\"none\" stroke=\"black\" d=\"M122.941,-146.672C129.395,-141.146 137.423,-134.562 145,-129.149 151.012,-124.854 157.693,-120.534 164.051,-116.616\"/>\r\n",
       "<polygon fill=\"black\" stroke=\"black\" points=\"166.261,-119.371 173.022,-111.213 162.649,-113.374 166.261,-119.371\"/>\r\n",
       "<text text-anchor=\"middle\" x=\"149\" y=\"-132.949\" font-family=\"Times New Roman,serif\" font-size=\"14.00\">c</text>\r\n",
       "</g>\r\n",
       "<!-- Se -->\r\n",
       "<g id=\"node6\" class=\"node\"><title>Se</title>\r\n",
       "<ellipse fill=\"none\" stroke=\"black\" cx=\"191.798\" cy=\"-33.1488\" rx=\"20.2975\" ry=\"20.2975\"/>\r\n",
       "<text text-anchor=\"middle\" x=\"191.798\" y=\"-29.4488\" font-family=\"Times New Roman,serif\" font-size=\"14.00\">Se</text>\r\n",
       "</g>\r\n",
       "<!-- I&#45;&gt;Se -->\r\n",
       "<g id=\"edge6\" class=\"edge\"><title>I&#45;&gt;Se</title>\r\n",
       "<path fill=\"none\" stroke=\"black\" d=\"M119.586,-143.319C133.122,-122.377 158.022,-83.8563 174.496,-58.3693\"/>\r\n",
       "<polygon fill=\"black\" stroke=\"black\" points=\"177.45,-60.2463 179.939,-49.948 171.571,-56.4463 177.45,-60.2463\"/>\r\n",
       "<text text-anchor=\"middle\" x=\"149\" y=\"-106.949\" font-family=\"Times New Roman,serif\" font-size=\"14.00\">e</text>\r\n",
       "</g>\r\n",
       "<!-- I&#45;&gt;F -->\r\n",
       "<g id=\"edge3\" class=\"edge\"><title>I&#45;&gt;F</title>\r\n",
       "<path fill=\"none\" stroke=\"black\" d=\"M127.305,-158.665C155.348,-159.502 211.12,-161.166 246.274,-162.214\"/>\r\n",
       "<polygon fill=\"black\" stroke=\"black\" points=\"246.368,-165.719 256.468,-162.518 246.577,-158.722 246.368,-165.719\"/>\r\n",
       "<text text-anchor=\"middle\" x=\"191.798\" y=\"-164.949\" font-family=\"Times New Roman,serif\" font-size=\"14.00\">a</text>\r\n",
       "</g>\r\n",
       "<!-- Se&#45;&gt;BH -->\r\n",
       "<g id=\"edge13\" class=\"edge\"><title>Se&#45;&gt;BH</title>\r\n",
       "<path fill=\"none\" stroke=\"black\" d=\"M208.964,-22.3161C230.795,-9.16017 270.436,9.45175 300.596,-6.14878 338.743,-25.8806 363.984,-70.4734 377.418,-100.701\"/>\r\n",
       "<polygon fill=\"black\" stroke=\"black\" points=\"374.225,-102.135 381.367,-109.961 380.664,-99.3891 374.225,-102.135\"/>\r\n",
       "<text text-anchor=\"middle\" x=\"278.596\" y=\"-54.9488\" font-family=\"Times New Roman,serif\" font-size=\"14.00\">a </text>\r\n",
       "<text text-anchor=\"middle\" x=\"278.596\" y=\"-39.9488\" font-family=\"Times New Roman,serif\" font-size=\"14.00\"> d </text>\r\n",
       "<text text-anchor=\"middle\" x=\"278.596\" y=\"-24.9488\" font-family=\"Times New Roman,serif\" font-size=\"14.00\"> c </text>\r\n",
       "<text text-anchor=\"middle\" x=\"278.596\" y=\"-9.94878\" font-family=\"Times New Roman,serif\" font-size=\"14.00\"> e</text>\r\n",
       "</g>\r\n",
       "<!-- Se&#45;&gt;F -->\r\n",
       "<g id=\"edge14\" class=\"edge\"><title>Se&#45;&gt;F</title>\r\n",
       "<path fill=\"none\" stroke=\"black\" d=\"M203.538,-49.6134C217.81,-71.4932 243.201,-110.419 260.219,-136.508\"/>\r\n",
       "<polygon fill=\"black\" stroke=\"black\" points=\"257.462,-138.688 265.857,-145.152 263.325,-134.864 257.462,-138.688\"/>\r\n",
       "<text text-anchor=\"middle\" x=\"234.596\" y=\"-105.949\" font-family=\"Times New Roman,serif\" font-size=\"14.00\">b</text>\r\n",
       "</g>\r\n",
       "<!-- F&#45;&gt;BH -->\r\n",
       "<g id=\"edge8\" class=\"edge\"><title>F&#45;&gt;BH</title>\r\n",
       "<path fill=\"none\" stroke=\"black\" d=\"M294.439,-147.522C301.175,-141.521 309.636,-135.348 318.596,-132.149 330.723,-127.82 344.786,-126.879 357.148,-127.274\"/>\r\n",
       "<polygon fill=\"black\" stroke=\"black\" points=\"357.285,-130.789 367.482,-127.912 357.717,-123.802 357.285,-130.789\"/>\r\n",
       "<text text-anchor=\"middle\" x=\"326.596\" y=\"-195.949\" font-family=\"Times New Roman,serif\" font-size=\"14.00\">d </text>\r\n",
       "<text text-anchor=\"middle\" x=\"326.596\" y=\"-180.949\" font-family=\"Times New Roman,serif\" font-size=\"14.00\"> a </text>\r\n",
       "<text text-anchor=\"middle\" x=\"326.596\" y=\"-165.949\" font-family=\"Times New Roman,serif\" font-size=\"14.00\"> b </text>\r\n",
       "<text text-anchor=\"middle\" x=\"326.596\" y=\"-150.949\" font-family=\"Times New Roman,serif\" font-size=\"14.00\"> c </text>\r\n",
       "<text text-anchor=\"middle\" x=\"326.596\" y=\"-135.949\" font-family=\"Times New Roman,serif\" font-size=\"14.00\"> e</text>\r\n",
       "</g>\r\n",
       "</g>\r\n",
       "</svg>\r\n"
      ],
      "text/plain": [
       "<graphviz.dot.Digraph at 0x1fb009e3550>"
      ]
     },
     "execution_count": 16,
     "metadata": {},
     "output_type": "execute_result"
    }
   ],
   "source": [
    "# With DFA we do something else (build DFA for 'a' with alphabet being {a,b,c,d,e} etc...)\n",
    "# This results in this DFA\n",
    "dotObj_dfa_w_bh(min_dfa(nfa2dfa(nfa_abcde)), FuseEdges=True)"
   ]
  },
  {
   "cell_type": "markdown",
   "metadata": {
    "run_control": {
     "frozen": false,
     "read_only": false
    }
   },
   "source": [
    "# Chapter-7: Nondeterministic Finite Automata\n",
    "\n",
    "In this chapter, we will cover virtually all aspects of NFA, following the style of presentation used in Chapter-3 on DFA. We will sometimes be (re-) writing print (and dot-object generation) routines that look quite similar to those defined for DFA. This is because the routines are short, and we want a self-contained notebook. Besides there are subtle differences between an NFA and a DFA and it's best to make these differences manifest in dedicated routines -- than overload the former routines with extra arguments. \n",
    "\n",
    "<span style=\"color:blue\"> **We begin defining NFA by providing its structure. ** </span>\n",
    "\n",
    "We will first set up a series of definitions ending at the mk_nfa function that helps build NFA. \n",
    "\n",
    "Unlike with a DFA, there is no mkp_nfa function, as all NFAs are partial! (We can define a mktot_nfa function to print all moves, including unspecified moves leading to the se({}) state.)\n",
    "\n",
    "We will define step_nfa, run_nfa and accepts_nfa which are key functions that clearly spell out how NFA differ from DFA.\n",
    "\n",
    "We will also be defining functions for displaying NFA with the help of the _dot_ tool. The design will be similar to that with DFA.\n",
    "\n",
    "<span style=\"color:blue\"> **------** </span>\n",
    "\n",
    "<span style=\"color:red\"> __We will follow Kozen and endow an NFA with multiple start states __ </span>\n",
    "\n",
    "\n",
    "\n",
    "This will allow the NFA to be more naturally handled. For instance, the reverse of a DFA is an NFA. When we reverse a DFA, all its final states become initial states of the NFA (that models the reversed language). There are 2 ways to handle this:\n",
    "\n",
    "1. Introduce a fake new initial state and jump from it via $\\varepsilon$ onto (what were the final state of the DFA).\n",
    "\n",
    "2. Don't introduce the fake new initial state, but rather allow the NFA to start from all of F being really its start state.\n",
    "\n",
    "    * Of course, in almost all situations, this is a minor difference\n",
    "    \n",
    "    * But to enjoy the topic as completely as one can, it is best to be \"clean\" and follow clean definitions.\n",
    "    \n",
    "        - I've seen Ed Clarke also use multiple initial states\n",
    "        \n",
    "        - Hence our code will be for this relaxed setup\n",
    "        \n",
    "        - Of course if you __REALLY__ wanted to have only one start state, then make it a singleton set of states and work that through your NFA.\n",
    "\n",
    "\n",
    "<br>\n",
    "\n",
    "__So now, following Brzozowski, we have__\n",
    "\n",
    "<br>\n",
    "\n",
    "An NFA is a quintuple $(Q,\\Sigma,\\delta,Q_0,F)$, where:\n",
    "\n",
    "* $Q$ is a _finite nonempty_ set of states.\n",
    "\n",
    "* $\\Sigma$ is a _finite nonempty_ alphabet containing _symbols_.\n",
    "\n",
    "* $\\delta$ is a (partial)\n",
    "\ttransition function, containing a set of _transitions_. The transitions take\n",
    "    a pair from $Q\\times \\Sigma$ and return a __subset__ of states in $Q$. All this is succinctly\n",
    "    captured by writing\n",
    "    $\\delta: Q\\times \\Sigma \\rightarrow 2^Q$. \n",
    "    Here we use $2^Q$ to denote the powerset of $Q$.\n",
    "    \n",
    "  \n",
    "* $Q_0\\subseteq Q$, is __a set of initial states__.  Notice that we change from q0 (or $q_0$) which is what you find books such as Sipser and Linz using.\n",
    "\n",
    "\n",
    "* $F\\subseteq Q$ is a _finite_ (and _possibly empty_) set of\n",
    "\tfinal (or _accepting_) states. These are shown as double-circled nodes in the graph of a DFA. \n",
    " \n",
    "> There is no other change. I.e. $\\delta$ remains the same as before.\n",
    "> It is that when an NFA starts, it can find itself in a set of start states.\n",
    "> Most NFAs start from a __singleton__ Q0, which is then, effectively, an NFA\n",
    " that matches most books say.\n",
    "\n",
    "Some terminology:\n",
    "\n",
    "> We call $Q$,$\\Sigma$, $\\delta$, $Q_0$, and $F$ the **_traits_** of the NFA.\n",
    "\n",
    "> We will call an NFA **_structurally consistent_** or simply **\"consistent\"** if its traits pass the aforesaid checks.\n",
    "\n",
    "\n",
    "Here is how the checks will be broken down:\n",
    "\n",
    "* The supplied $\\delta$ function will be checked to see if it has allowed domain and range points. \n",
    " - The domain points must be a subset of $Q\\times \\Sigma$\n",
    " - The range points must be a subset of $2^Q$\n",
    "  We do no insist that the supplied $\\delta$ be total.\n",
    "    \n",
    "* $Q_0\\subseteq Q$, is _the_ initial state.\n",
    "\n",
    "* $F\\subseteq Q$ is a _finite_ (and _possibly empty_) set of\n",
    "\tfinal (or _accepting_) states.  \n",
    "    \n",
    "We will often use the state set({}) to be the equivalent of a black-hole state for an NFA."
   ]
  },
  {
   "cell_type": "code",
   "execution_count": 17,
   "metadata": {
    "run_control": {
     "frozen": false,
     "read_only": false
    }
   },
   "outputs": [
    {
     "data": {
      "image/svg+xml": [
       "<?xml version=\"1.0\" encoding=\"UTF-8\" standalone=\"no\"?>\r\n",
       "<!DOCTYPE svg PUBLIC \"-//W3C//DTD SVG 1.1//EN\"\r\n",
       " \"http://www.w3.org/Graphics/SVG/1.1/DTD/svg11.dtd\">\r\n",
       "<!-- Generated by graphviz version 2.38.0 (20140413.2041)\r\n",
       " -->\r\n",
       "<!-- Title: %3 Pages: 1 -->\r\n",
       "<svg width=\"222pt\" height=\"106pt\"\r\n",
       " viewBox=\"0.00 0.00 222.00 106.00\" xmlns=\"http://www.w3.org/2000/svg\" xmlns:xlink=\"http://www.w3.org/1999/xlink\">\r\n",
       "<g id=\"graph0\" class=\"graph\" transform=\"scale(1 1) rotate(0) translate(4 102)\">\r\n",
       "<title>%3</title>\r\n",
       "<polygon fill=\"white\" stroke=\"none\" points=\"-4,4 -4,-102 218,-102 218,4 -4,4\"/>\r\n",
       "<!-- EMPTY -->\r\n",
       "<g id=\"node1\" class=\"node\"><title>EMPTY</title>\r\n",
       "</g>\r\n",
       "<!-- I -->\r\n",
       "<g id=\"node3\" class=\"node\"><title>I</title>\r\n",
       "<ellipse fill=\"none\" stroke=\"black\" cx=\"109\" cy=\"-51\" rx=\"18\" ry=\"18\"/>\r\n",
       "<text text-anchor=\"middle\" x=\"109\" y=\"-47.3\" font-family=\"Times New Roman,serif\" font-size=\"14.00\">I</text>\r\n",
       "</g>\r\n",
       "<!-- EMPTY&#45;&gt;I -->\r\n",
       "<g id=\"edge1\" class=\"edge\"><title>EMPTY&#45;&gt;I</title>\r\n",
       "<path fill=\"none\" stroke=\"black\" d=\"M54.195,-51C62.6538,-51 72.0513,-51 80.5951,-51\"/>\r\n",
       "<polygon fill=\"black\" stroke=\"black\" points=\"80.8257,-54.5001 90.8257,-51 80.8257,-47.5001 80.8257,-54.5001\"/>\r\n",
       "</g>\r\n",
       "<!-- A -->\r\n",
       "<g id=\"node2\" class=\"node\"><title>A</title>\r\n",
       "<ellipse fill=\"none\" stroke=\"black\" cx=\"192\" cy=\"-80\" rx=\"18\" ry=\"18\"/>\r\n",
       "<text text-anchor=\"middle\" x=\"192\" y=\"-76.3\" font-family=\"Times New Roman,serif\" font-size=\"14.00\">A</text>\r\n",
       "</g>\r\n",
       "<!-- I&#45;&gt;A -->\r\n",
       "<g id=\"edge2\" class=\"edge\"><title>I&#45;&gt;A</title>\r\n",
       "<path fill=\"none\" stroke=\"black\" d=\"M126.392,-56.8686C137.553,-60.8648 152.556,-66.2362 165.295,-70.797\"/>\r\n",
       "<polygon fill=\"black\" stroke=\"black\" points=\"164.315,-74.1635 174.909,-74.2391 166.674,-67.5731 164.315,-74.1635\"/>\r\n",
       "<text text-anchor=\"middle\" x=\"148.5\" y=\"-68.8\" font-family=\"Times New Roman,serif\" font-size=\"14.00\">0</text>\r\n",
       "</g>\r\n",
       "<!-- F -->\r\n",
       "<g id=\"node4\" class=\"node\"><title>F</title>\r\n",
       "<ellipse fill=\"none\" stroke=\"black\" cx=\"192\" cy=\"-22\" rx=\"18\" ry=\"18\"/>\r\n",
       "<ellipse fill=\"none\" stroke=\"black\" cx=\"192\" cy=\"-22\" rx=\"22\" ry=\"22\"/>\r\n",
       "<text text-anchor=\"middle\" x=\"192\" y=\"-18.3\" font-family=\"Times New Roman,serif\" font-size=\"14.00\">F</text>\r\n",
       "</g>\r\n",
       "<!-- I&#45;&gt;F -->\r\n",
       "<g id=\"edge3\" class=\"edge\"><title>I&#45;&gt;F</title>\r\n",
       "<path fill=\"none\" stroke=\"black\" d=\"M126.392,-45.1314C136.432,-41.5368 149.579,-36.8296 161.392,-32.6004\"/>\r\n",
       "<polygon fill=\"black\" stroke=\"black\" points=\"162.668,-35.8613 170.903,-29.1953 160.308,-29.2709 162.668,-35.8613\"/>\r\n",
       "<text text-anchor=\"middle\" x=\"148.5\" y=\"-41.8\" font-family=\"Times New Roman,serif\" font-size=\"14.00\">0</text>\r\n",
       "</g>\r\n",
       "</g>\r\n",
       "</svg>\r\n"
      ],
      "text/plain": [
       "<graphviz.dot.Digraph at 0x1fb009e3dd8>"
      ]
     },
     "execution_count": 17,
     "metadata": {},
     "output_type": "execute_result"
    }
   ],
   "source": [
    "nfa1 = md2mc('''NFA\n",
    "I : 0 -> A\n",
    "I : 0 -> F''')\n",
    "dotObj_nfa(nfa1)"
   ]
  },
  {
   "cell_type": "code",
   "execution_count": 18,
   "metadata": {
    "run_control": {
     "frozen": false,
     "read_only": false
    }
   },
   "outputs": [
    {
     "data": {
      "image/svg+xml": [
       "<?xml version=\"1.0\" encoding=\"UTF-8\" standalone=\"no\"?>\r\n",
       "<!DOCTYPE svg PUBLIC \"-//W3C//DTD SVG 1.1//EN\"\r\n",
       " \"http://www.w3.org/Graphics/SVG/1.1/DTD/svg11.dtd\">\r\n",
       "<!-- Generated by graphviz version 2.38.0 (20140413.2041)\r\n",
       " -->\r\n",
       "<!-- Title: %3 Pages: 1 -->\r\n",
       "<svg width=\"222pt\" height=\"106pt\"\r\n",
       " viewBox=\"0.00 0.00 222.00 106.00\" xmlns=\"http://www.w3.org/2000/svg\" xmlns:xlink=\"http://www.w3.org/1999/xlink\">\r\n",
       "<g id=\"graph0\" class=\"graph\" transform=\"scale(1 1) rotate(0) translate(4 102)\">\r\n",
       "<title>%3</title>\r\n",
       "<polygon fill=\"white\" stroke=\"none\" points=\"-4,4 -4,-102 218,-102 218,4 -4,4\"/>\r\n",
       "<!-- EMPTY -->\r\n",
       "<g id=\"node1\" class=\"node\"><title>EMPTY</title>\r\n",
       "</g>\r\n",
       "<!-- I -->\r\n",
       "<g id=\"node3\" class=\"node\"><title>I</title>\r\n",
       "<ellipse fill=\"none\" stroke=\"black\" cx=\"109\" cy=\"-51\" rx=\"18\" ry=\"18\"/>\r\n",
       "<text text-anchor=\"middle\" x=\"109\" y=\"-47.3\" font-family=\"Times New Roman,serif\" font-size=\"14.00\">I</text>\r\n",
       "</g>\r\n",
       "<!-- EMPTY&#45;&gt;I -->\r\n",
       "<g id=\"edge1\" class=\"edge\"><title>EMPTY&#45;&gt;I</title>\r\n",
       "<path fill=\"none\" stroke=\"black\" d=\"M54.195,-51C62.6538,-51 72.0513,-51 80.5951,-51\"/>\r\n",
       "<polygon fill=\"black\" stroke=\"black\" points=\"80.8257,-54.5001 90.8257,-51 80.8257,-47.5001 80.8257,-54.5001\"/>\r\n",
       "</g>\r\n",
       "<!-- A -->\r\n",
       "<g id=\"node2\" class=\"node\"><title>A</title>\r\n",
       "<ellipse fill=\"none\" stroke=\"black\" cx=\"192\" cy=\"-80\" rx=\"18\" ry=\"18\"/>\r\n",
       "<text text-anchor=\"middle\" x=\"192\" y=\"-76.3\" font-family=\"Times New Roman,serif\" font-size=\"14.00\">A</text>\r\n",
       "</g>\r\n",
       "<!-- I&#45;&gt;A -->\r\n",
       "<g id=\"edge3\" class=\"edge\"><title>I&#45;&gt;A</title>\r\n",
       "<path fill=\"none\" stroke=\"black\" d=\"M126.392,-56.8686C137.553,-60.8648 152.556,-66.2362 165.295,-70.797\"/>\r\n",
       "<polygon fill=\"black\" stroke=\"black\" points=\"164.315,-74.1635 174.909,-74.2391 166.674,-67.5731 164.315,-74.1635\"/>\r\n",
       "<text text-anchor=\"middle\" x=\"148.5\" y=\"-68.8\" font-family=\"Times New Roman,serif\" font-size=\"14.00\">0</text>\r\n",
       "</g>\r\n",
       "<!-- F -->\r\n",
       "<g id=\"node4\" class=\"node\"><title>F</title>\r\n",
       "<ellipse fill=\"none\" stroke=\"black\" cx=\"192\" cy=\"-22\" rx=\"18\" ry=\"18\"/>\r\n",
       "<ellipse fill=\"none\" stroke=\"black\" cx=\"192\" cy=\"-22\" rx=\"22\" ry=\"22\"/>\r\n",
       "<text text-anchor=\"middle\" x=\"192\" y=\"-18.3\" font-family=\"Times New Roman,serif\" font-size=\"14.00\">F</text>\r\n",
       "</g>\r\n",
       "<!-- I&#45;&gt;F -->\r\n",
       "<g id=\"edge2\" class=\"edge\"><title>I&#45;&gt;F</title>\r\n",
       "<path fill=\"none\" stroke=\"black\" d=\"M126.392,-45.1314C136.432,-41.5368 149.579,-36.8296 161.392,-32.6004\"/>\r\n",
       "<polygon fill=\"black\" stroke=\"black\" points=\"162.668,-35.8613 170.903,-29.1953 160.308,-29.2709 162.668,-35.8613\"/>\r\n",
       "<text text-anchor=\"middle\" x=\"148.5\" y=\"-41.8\" font-family=\"Times New Roman,serif\" font-size=\"14.00\">&#39;&#39;</text>\r\n",
       "</g>\r\n",
       "</g>\r\n",
       "</svg>\r\n"
      ],
      "text/plain": [
       "<graphviz.dot.Digraph at 0x1fb00ca4c18>"
      ]
     },
     "execution_count": 18,
     "metadata": {},
     "output_type": "execute_result"
    }
   ],
   "source": [
    "nfa2 = md2mc('''NFA\n",
    "I : '' -> F\n",
    "I : 0  -> A\n",
    "''')\n",
    "dotObj_nfa(nfa2)"
   ]
  },
  {
   "cell_type": "markdown",
   "metadata": {
    "run_control": {
     "frozen": false,
     "read_only": false
    }
   },
   "source": [
    "# The $\\delta$ function of the NFA"
   ]
  },
  {
   "cell_type": "code",
   "execution_count": 19,
   "metadata": {
    "run_control": {
     "frozen": false,
     "read_only": false
    }
   },
   "outputs": [
    {
     "name": "stdout",
     "output_type": "stream",
     "text": [
      "Help on function step_nfa in module jove.Def_NFA:\n",
      "\n",
      "step_nfa(N, q, c)\n",
      "    In : N (consistent NFA)\n",
      "         q (state in N)\n",
      "         c (symbol in N's sigma or \"\")\n",
      "    Out: The set of states reached via N's Delta.\n",
      "    EClosure is NOT performed.\n",
      "    If the move is not defined, return {}.\n",
      "\n"
     ]
    }
   ],
   "source": [
    "help(step_nfa)"
   ]
  },
  {
   "cell_type": "code",
   "execution_count": 20,
   "metadata": {
    "run_control": {
     "frozen": false,
     "read_only": false
    }
   },
   "outputs": [
    {
     "data": {
      "text/plain": [
       "set()"
      ]
     },
     "execution_count": 20,
     "metadata": {},
     "output_type": "execute_result"
    }
   ],
   "source": [
    "step_nfa(nfa1, 'I', '')"
   ]
  },
  {
   "cell_type": "code",
   "execution_count": 21,
   "metadata": {
    "run_control": {
     "frozen": false,
     "read_only": false
    }
   },
   "outputs": [
    {
     "data": {
      "text/plain": [
       "{'A', 'F'}"
      ]
     },
     "execution_count": 21,
     "metadata": {},
     "output_type": "execute_result"
    }
   ],
   "source": [
    "step_nfa(nfa1, 'I', '0')"
   ]
  },
  {
   "cell_type": "code",
   "execution_count": 22,
   "metadata": {
    "run_control": {
     "frozen": false,
     "read_only": false
    }
   },
   "outputs": [
    {
     "data": {
      "text/plain": [
       "{'F'}"
      ]
     },
     "execution_count": 22,
     "metadata": {},
     "output_type": "execute_result"
    }
   ],
   "source": [
    "step_nfa(nfa2, 'I','')"
   ]
  },
  {
   "cell_type": "code",
   "execution_count": 23,
   "metadata": {
    "run_control": {
     "frozen": false,
     "read_only": false
    }
   },
   "outputs": [],
   "source": [
    "fig71a = md2mc('''\n",
    "NFA\n",
    "I  : 0 -> I\n",
    "I  : 1 -> I, S0\n",
    "S0 : 0 | 1 -> S1\n",
    "S1 : 0 | 1 -> F\n",
    "''')"
   ]
  },
  {
   "cell_type": "code",
   "execution_count": 24,
   "metadata": {
    "run_control": {
     "frozen": false,
     "read_only": false
    }
   },
   "outputs": [
    {
     "data": {
      "image/svg+xml": [
       "<?xml version=\"1.0\" encoding=\"UTF-8\" standalone=\"no\"?>\r\n",
       "<!DOCTYPE svg PUBLIC \"-//W3C//DTD SVG 1.1//EN\"\r\n",
       " \"http://www.w3.org/Graphics/SVG/1.1/DTD/svg11.dtd\">\r\n",
       "<!-- Generated by graphviz version 2.38.0 (20140413.2041)\r\n",
       " -->\r\n",
       "<!-- Title: %3 Pages: 1 -->\r\n",
       "<svg width=\"399pt\" height=\"96pt\"\r\n",
       " viewBox=\"0.00 0.00 399.19 96.00\" xmlns=\"http://www.w3.org/2000/svg\" xmlns:xlink=\"http://www.w3.org/1999/xlink\">\r\n",
       "<g id=\"graph0\" class=\"graph\" transform=\"scale(1 1) rotate(0) translate(4 92)\">\r\n",
       "<title>%3</title>\r\n",
       "<polygon fill=\"white\" stroke=\"none\" points=\"-4,4 -4,-92 395.193,-92 395.193,4 -4,4\"/>\r\n",
       "<!-- EMPTY -->\r\n",
       "<g id=\"node1\" class=\"node\"><title>EMPTY</title>\r\n",
       "</g>\r\n",
       "<!-- I -->\r\n",
       "<g id=\"node4\" class=\"node\"><title>I</title>\r\n",
       "<ellipse fill=\"none\" stroke=\"black\" cx=\"109\" cy=\"-22\" rx=\"18\" ry=\"18\"/>\r\n",
       "<text text-anchor=\"middle\" x=\"109\" y=\"-18.3\" font-family=\"Times New Roman,serif\" font-size=\"14.00\">I</text>\r\n",
       "</g>\r\n",
       "<!-- EMPTY&#45;&gt;I -->\r\n",
       "<g id=\"edge1\" class=\"edge\"><title>EMPTY&#45;&gt;I</title>\r\n",
       "<path fill=\"none\" stroke=\"black\" d=\"M54.195,-22C62.6538,-22 72.0513,-22 80.5951,-22\"/>\r\n",
       "<polygon fill=\"black\" stroke=\"black\" points=\"80.8257,-25.5001 90.8257,-22 80.8257,-18.5001 80.8257,-25.5001\"/>\r\n",
       "</g>\r\n",
       "<!-- S0 -->\r\n",
       "<g id=\"node2\" class=\"node\"><title>S0</title>\r\n",
       "<ellipse fill=\"none\" stroke=\"black\" cx=\"190.798\" cy=\"-22\" rx=\"20.5982\" ry=\"20.5982\"/>\r\n",
       "<text text-anchor=\"middle\" x=\"190.798\" y=\"-18.3\" font-family=\"Times New Roman,serif\" font-size=\"14.00\">S0</text>\r\n",
       "</g>\r\n",
       "<!-- S1 -->\r\n",
       "<g id=\"node3\" class=\"node\"><title>S1</title>\r\n",
       "<ellipse fill=\"none\" stroke=\"black\" cx=\"279.394\" cy=\"-22\" rx=\"20.5982\" ry=\"20.5982\"/>\r\n",
       "<text text-anchor=\"middle\" x=\"279.394\" y=\"-18.3\" font-family=\"Times New Roman,serif\" font-size=\"14.00\">S1</text>\r\n",
       "</g>\r\n",
       "<!-- S0&#45;&gt;S1 -->\r\n",
       "<g id=\"edge4\" class=\"edge\"><title>S0&#45;&gt;S1</title>\r\n",
       "<path fill=\"none\" stroke=\"black\" d=\"M211.883,-22C222.703,-22 236.269,-22 248.323,-22\"/>\r\n",
       "<polygon fill=\"black\" stroke=\"black\" points=\"248.419,-25.5001 258.419,-22 248.419,-18.5001 248.419,-25.5001\"/>\r\n",
       "<text text-anchor=\"middle\" x=\"235.096\" y=\"-40.8\" font-family=\"Times New Roman,serif\" font-size=\"14.00\">0 </text>\r\n",
       "<text text-anchor=\"middle\" x=\"235.096\" y=\"-25.8\" font-family=\"Times New Roman,serif\" font-size=\"14.00\"> 1</text>\r\n",
       "</g>\r\n",
       "<!-- F -->\r\n",
       "<g id=\"node5\" class=\"node\"><title>F</title>\r\n",
       "<ellipse fill=\"none\" stroke=\"black\" cx=\"369.193\" cy=\"-22\" rx=\"18\" ry=\"18\"/>\r\n",
       "<ellipse fill=\"none\" stroke=\"black\" cx=\"369.193\" cy=\"-22\" rx=\"22\" ry=\"22\"/>\r\n",
       "<text text-anchor=\"middle\" x=\"369.193\" y=\"-18.3\" font-family=\"Times New Roman,serif\" font-size=\"14.00\">F</text>\r\n",
       "</g>\r\n",
       "<!-- S1&#45;&gt;F -->\r\n",
       "<g id=\"edge5\" class=\"edge\"><title>S1&#45;&gt;F</title>\r\n",
       "<path fill=\"none\" stroke=\"black\" d=\"M300.317,-22C311.117,-22 324.711,-22 336.89,-22\"/>\r\n",
       "<polygon fill=\"black\" stroke=\"black\" points=\"337.124,-25.5001 347.124,-22 337.124,-18.5001 337.124,-25.5001\"/>\r\n",
       "<text text-anchor=\"middle\" x=\"323.693\" y=\"-40.8\" font-family=\"Times New Roman,serif\" font-size=\"14.00\">0 </text>\r\n",
       "<text text-anchor=\"middle\" x=\"323.693\" y=\"-25.8\" font-family=\"Times New Roman,serif\" font-size=\"14.00\"> 1</text>\r\n",
       "</g>\r\n",
       "<!-- I&#45;&gt;S0 -->\r\n",
       "<g id=\"edge3\" class=\"edge\"><title>I&#45;&gt;S0</title>\r\n",
       "<path fill=\"none\" stroke=\"black\" d=\"M127.315,-22C136.833,-22 148.907,-22 159.9,-22\"/>\r\n",
       "<polygon fill=\"black\" stroke=\"black\" points=\"159.988,-25.5001 169.988,-22 159.988,-18.5001 159.988,-25.5001\"/>\r\n",
       "<text text-anchor=\"middle\" x=\"148.5\" y=\"-25.8\" font-family=\"Times New Roman,serif\" font-size=\"14.00\">1</text>\r\n",
       "</g>\r\n",
       "<!-- I&#45;&gt;I -->\r\n",
       "<g id=\"edge2\" class=\"edge\"><title>I&#45;&gt;I</title>\r\n",
       "<path fill=\"none\" stroke=\"black\" d=\"M102.621,-39.0373C101.319,-48.8579 103.445,-58 109,-58 112.472,-58 114.604,-54.4289 115.398,-49.3529\"/>\r\n",
       "<polygon fill=\"black\" stroke=\"black\" points=\"118.897,-49.031 115.379,-39.0373 111.897,-49.0435 118.897,-49.031\"/>\r\n",
       "<text text-anchor=\"middle\" x=\"109\" y=\"-76.8\" font-family=\"Times New Roman,serif\" font-size=\"14.00\">0 </text>\r\n",
       "<text text-anchor=\"middle\" x=\"109\" y=\"-61.8\" font-family=\"Times New Roman,serif\" font-size=\"14.00\"> 1</text>\r\n",
       "</g>\r\n",
       "</g>\r\n",
       "</svg>\r\n"
      ],
      "text/plain": [
       "<graphviz.dot.Digraph at 0x1fb00c5d550>"
      ]
     },
     "execution_count": 24,
     "metadata": {},
     "output_type": "execute_result"
    }
   ],
   "source": [
    "dotObj_nfa(fig71a, FuseEdges=True)"
   ]
  },
  {
   "cell_type": "code",
   "execution_count": 25,
   "metadata": {
    "run_control": {
     "frozen": false,
     "read_only": false
    }
   },
   "outputs": [],
   "source": [
    "fig71b = md2mc('''\n",
    "NFA\n",
    "I  : 0 | 1 -> I\n",
    "I  : '' -> S0\n",
    "S0 : 1  -> S1\n",
    "S1 : 0 | 1 -> S2\n",
    "S2 : 0 | 1 -> F\n",
    "''')"
   ]
  },
  {
   "cell_type": "code",
   "execution_count": 26,
   "metadata": {
    "run_control": {
     "frozen": false,
     "read_only": false
    }
   },
   "outputs": [
    {
     "data": {
      "image/svg+xml": [
       "<?xml version=\"1.0\" encoding=\"UTF-8\" standalone=\"no\"?>\r\n",
       "<!DOCTYPE svg PUBLIC \"-//W3C//DTD SVG 1.1//EN\"\r\n",
       " \"http://www.w3.org/Graphics/SVG/1.1/DTD/svg11.dtd\">\r\n",
       "<!-- Generated by graphviz version 2.38.0 (20140413.2041)\r\n",
       " -->\r\n",
       "<!-- Title: %3 Pages: 1 -->\r\n",
       "<svg width=\"484pt\" height=\"96pt\"\r\n",
       " viewBox=\"0.00 0.00 483.79 96.00\" xmlns=\"http://www.w3.org/2000/svg\" xmlns:xlink=\"http://www.w3.org/1999/xlink\">\r\n",
       "<g id=\"graph0\" class=\"graph\" transform=\"scale(1 1) rotate(0) translate(4 92)\">\r\n",
       "<title>%3</title>\r\n",
       "<polygon fill=\"white\" stroke=\"none\" points=\"-4,4 -4,-92 479.789,-92 479.789,4 -4,4\"/>\r\n",
       "<!-- EMPTY -->\r\n",
       "<g id=\"node1\" class=\"node\"><title>EMPTY</title>\r\n",
       "</g>\r\n",
       "<!-- I -->\r\n",
       "<g id=\"node5\" class=\"node\"><title>I</title>\r\n",
       "<ellipse fill=\"none\" stroke=\"black\" cx=\"109\" cy=\"-22\" rx=\"18\" ry=\"18\"/>\r\n",
       "<text text-anchor=\"middle\" x=\"109\" y=\"-18.3\" font-family=\"Times New Roman,serif\" font-size=\"14.00\">I</text>\r\n",
       "</g>\r\n",
       "<!-- EMPTY&#45;&gt;I -->\r\n",
       "<g id=\"edge1\" class=\"edge\"><title>EMPTY&#45;&gt;I</title>\r\n",
       "<path fill=\"none\" stroke=\"black\" d=\"M54.195,-22C62.6538,-22 72.0513,-22 80.5951,-22\"/>\r\n",
       "<polygon fill=\"black\" stroke=\"black\" points=\"80.8257,-25.5001 90.8257,-22 80.8257,-18.5001 80.8257,-25.5001\"/>\r\n",
       "</g>\r\n",
       "<!-- S1 -->\r\n",
       "<g id=\"node2\" class=\"node\"><title>S1</title>\r\n",
       "<ellipse fill=\"none\" stroke=\"black\" cx=\"275.394\" cy=\"-22\" rx=\"20.5982\" ry=\"20.5982\"/>\r\n",
       "<text text-anchor=\"middle\" x=\"275.394\" y=\"-18.3\" font-family=\"Times New Roman,serif\" font-size=\"14.00\">S1</text>\r\n",
       "</g>\r\n",
       "<!-- S2 -->\r\n",
       "<g id=\"node4\" class=\"node\"><title>S2</title>\r\n",
       "<ellipse fill=\"none\" stroke=\"black\" cx=\"363.991\" cy=\"-22\" rx=\"20.5982\" ry=\"20.5982\"/>\r\n",
       "<text text-anchor=\"middle\" x=\"363.991\" y=\"-18.3\" font-family=\"Times New Roman,serif\" font-size=\"14.00\">S2</text>\r\n",
       "</g>\r\n",
       "<!-- S1&#45;&gt;S2 -->\r\n",
       "<g id=\"edge5\" class=\"edge\"><title>S1&#45;&gt;S2</title>\r\n",
       "<path fill=\"none\" stroke=\"black\" d=\"M296.479,-22C307.299,-22 320.866,-22 332.919,-22\"/>\r\n",
       "<polygon fill=\"black\" stroke=\"black\" points=\"333.015,-25.5001 343.015,-22 333.015,-18.5001 333.015,-25.5001\"/>\r\n",
       "<text text-anchor=\"middle\" x=\"319.693\" y=\"-40.8\" font-family=\"Times New Roman,serif\" font-size=\"14.00\">0 </text>\r\n",
       "<text text-anchor=\"middle\" x=\"319.693\" y=\"-25.8\" font-family=\"Times New Roman,serif\" font-size=\"14.00\"> 1</text>\r\n",
       "</g>\r\n",
       "<!-- S0 -->\r\n",
       "<g id=\"node3\" class=\"node\"><title>S0</title>\r\n",
       "<ellipse fill=\"none\" stroke=\"black\" cx=\"190.798\" cy=\"-22\" rx=\"20.5982\" ry=\"20.5982\"/>\r\n",
       "<text text-anchor=\"middle\" x=\"190.798\" y=\"-18.3\" font-family=\"Times New Roman,serif\" font-size=\"14.00\">S0</text>\r\n",
       "</g>\r\n",
       "<!-- S0&#45;&gt;S1 -->\r\n",
       "<g id=\"edge4\" class=\"edge\"><title>S0&#45;&gt;S1</title>\r\n",
       "<path fill=\"none\" stroke=\"black\" d=\"M211.792,-22C221.532,-22 233.449,-22 244.261,-22\"/>\r\n",
       "<polygon fill=\"black\" stroke=\"black\" points=\"244.584,-25.5001 254.584,-22 244.584,-18.5001 244.584,-25.5001\"/>\r\n",
       "<text text-anchor=\"middle\" x=\"233.096\" y=\"-25.8\" font-family=\"Times New Roman,serif\" font-size=\"14.00\">1</text>\r\n",
       "</g>\r\n",
       "<!-- F -->\r\n",
       "<g id=\"node6\" class=\"node\"><title>F</title>\r\n",
       "<ellipse fill=\"none\" stroke=\"black\" cx=\"453.789\" cy=\"-22\" rx=\"18\" ry=\"18\"/>\r\n",
       "<ellipse fill=\"none\" stroke=\"black\" cx=\"453.789\" cy=\"-22\" rx=\"22\" ry=\"22\"/>\r\n",
       "<text text-anchor=\"middle\" x=\"453.789\" y=\"-18.3\" font-family=\"Times New Roman,serif\" font-size=\"14.00\">F</text>\r\n",
       "</g>\r\n",
       "<!-- S2&#45;&gt;F -->\r\n",
       "<g id=\"edge6\" class=\"edge\"><title>S2&#45;&gt;F</title>\r\n",
       "<path fill=\"none\" stroke=\"black\" d=\"M384.914,-22C395.714,-22 409.307,-22 421.487,-22\"/>\r\n",
       "<polygon fill=\"black\" stroke=\"black\" points=\"421.721,-25.5001 431.721,-22 421.721,-18.5001 421.721,-25.5001\"/>\r\n",
       "<text text-anchor=\"middle\" x=\"408.289\" y=\"-40.8\" font-family=\"Times New Roman,serif\" font-size=\"14.00\">0 </text>\r\n",
       "<text text-anchor=\"middle\" x=\"408.289\" y=\"-25.8\" font-family=\"Times New Roman,serif\" font-size=\"14.00\"> 1</text>\r\n",
       "</g>\r\n",
       "<!-- I&#45;&gt;S0 -->\r\n",
       "<g id=\"edge3\" class=\"edge\"><title>I&#45;&gt;S0</title>\r\n",
       "<path fill=\"none\" stroke=\"black\" d=\"M127.315,-22C136.833,-22 148.907,-22 159.9,-22\"/>\r\n",
       "<polygon fill=\"black\" stroke=\"black\" points=\"159.988,-25.5001 169.988,-22 159.988,-18.5001 159.988,-25.5001\"/>\r\n",
       "<text text-anchor=\"middle\" x=\"148.5\" y=\"-25.8\" font-family=\"Times New Roman,serif\" font-size=\"14.00\">&#39;&#39;</text>\r\n",
       "</g>\r\n",
       "<!-- I&#45;&gt;I -->\r\n",
       "<g id=\"edge2\" class=\"edge\"><title>I&#45;&gt;I</title>\r\n",
       "<path fill=\"none\" stroke=\"black\" d=\"M102.621,-39.0373C101.319,-48.8579 103.445,-58 109,-58 112.472,-58 114.604,-54.4289 115.398,-49.3529\"/>\r\n",
       "<polygon fill=\"black\" stroke=\"black\" points=\"118.897,-49.031 115.379,-39.0373 111.897,-49.0435 118.897,-49.031\"/>\r\n",
       "<text text-anchor=\"middle\" x=\"109\" y=\"-76.8\" font-family=\"Times New Roman,serif\" font-size=\"14.00\">0 </text>\r\n",
       "<text text-anchor=\"middle\" x=\"109\" y=\"-61.8\" font-family=\"Times New Roman,serif\" font-size=\"14.00\"> 1</text>\r\n",
       "</g>\r\n",
       "</g>\r\n",
       "</svg>\r\n"
      ],
      "text/plain": [
       "<graphviz.dot.Digraph at 0x1fb00ca46a0>"
      ]
     },
     "execution_count": 26,
     "metadata": {},
     "output_type": "execute_result"
    }
   ],
   "source": [
    "dotObj_nfa(fig71b, FuseEdges=True)"
   ]
  },
  {
   "cell_type": "code",
   "execution_count": null,
   "metadata": {
    "run_control": {
     "frozen": false,
     "read_only": false
    }
   },
   "outputs": [],
   "source": []
  },
  {
   "cell_type": "code",
   "execution_count": 27,
   "metadata": {
    "run_control": {
     "frozen": false,
     "read_only": false
    }
   },
   "outputs": [
    {
     "name": "stdout",
     "output_type": "stream",
     "text": [
      "Help on function Eclosure in module jove.Def_NFA:\n",
      "\n",
      "Eclosure(N, S)\n",
      "    In : N (consistent NFA)\n",
      "         S (set of states of NFA to be Eclosed)\n",
      "    Out: Eclosure of S (set of states).\n",
      "\n"
     ]
    }
   ],
   "source": [
    "help(Eclosure)"
   ]
  },
  {
   "cell_type": "code",
   "execution_count": 28,
   "metadata": {
    "run_control": {
     "frozen": false,
     "read_only": false
    }
   },
   "outputs": [
    {
     "data": {
      "text/plain": [
       "{'F'}"
      ]
     },
     "execution_count": 28,
     "metadata": {},
     "output_type": "execute_result"
    }
   ],
   "source": [
    "Eclosure(fig71b, {'F'})"
   ]
  },
  {
   "cell_type": "markdown",
   "metadata": {
    "run_control": {
     "frozen": false,
     "read_only": false
    }
   },
   "source": [
    "# Stepping and Running NFA\n",
    "\n",
    "Now that we've defined NFA and allied actions such as consistency checking and printing, let's write functions to step and run them.\n",
    "\n",
    "* How the state transition function $\\delta$ \"works\"\n",
    "  - captured in step_nfa"
   ]
  },
  {
   "cell_type": "code",
   "execution_count": 29,
   "metadata": {
    "run_control": {
     "frozen": false,
     "read_only": false
    }
   },
   "outputs": [
    {
     "name": "stdout",
     "output_type": "stream",
     "text": [
      "Help on function step_nfa in module jove.Def_NFA:\n",
      "\n",
      "step_nfa(N, q, c)\n",
      "    In : N (consistent NFA)\n",
      "         q (state in N)\n",
      "         c (symbol in N's sigma or \"\")\n",
      "    Out: The set of states reached via N's Delta.\n",
      "    EClosure is NOT performed.\n",
      "    If the move is not defined, return {}.\n",
      "\n"
     ]
    }
   ],
   "source": [
    "help(step_nfa)"
   ]
  },
  {
   "cell_type": "code",
   "execution_count": 30,
   "metadata": {
    "run_control": {
     "frozen": false,
     "read_only": false
    }
   },
   "outputs": [
    {
     "data": {
      "text/plain": [
       "{'S0'}"
      ]
     },
     "execution_count": 30,
     "metadata": {},
     "output_type": "execute_result"
    }
   ],
   "source": [
    "step_nfa(fig71b, \"I\", '')"
   ]
  },
  {
   "cell_type": "code",
   "execution_count": 31,
   "metadata": {
    "run_control": {
     "frozen": false,
     "read_only": false
    }
   },
   "outputs": [
    {
     "data": {
      "text/plain": [
       "set()"
      ]
     },
     "execution_count": 31,
     "metadata": {},
     "output_type": "execute_result"
    }
   ],
   "source": [
    "step_nfa(fig71b, \"S0\", '')"
   ]
  },
  {
   "cell_type": "code",
   "execution_count": 32,
   "metadata": {
    "run_control": {
     "frozen": false,
     "read_only": false
    }
   },
   "outputs": [
    {
     "data": {
      "text/plain": [
       "{'I'}"
      ]
     },
     "execution_count": 32,
     "metadata": {},
     "output_type": "execute_result"
    }
   ],
   "source": [
    "step_nfa(fig71b, \"I\", '0')"
   ]
  },
  {
   "cell_type": "code",
   "execution_count": 33,
   "metadata": {
    "run_control": {
     "frozen": false,
     "read_only": false
    }
   },
   "outputs": [
    {
     "name": "stdout",
     "output_type": "stream",
     "text": [
      "Help on function run_nfa in module jove.Def_NFA:\n",
      "\n",
      "run_nfa(N, S, s, chatty=False)\n",
      "    In : N (consistent NFA)\n",
      "         S (SET of states S belonging to N's states)\n",
      "         s (string over N's alphabet)\n",
      "    Out: SET of states reached after processing s.\n",
      "    Run the NFA starting with a SET of states S on string,\n",
      "    with EClosure wherever necessary. Return set of states reached.\n",
      "\n"
     ]
    }
   ],
   "source": [
    "help(run_nfa)"
   ]
  },
  {
   "cell_type": "code",
   "execution_count": 34,
   "metadata": {
    "run_control": {
     "frozen": false,
     "read_only": false
    }
   },
   "outputs": [
    {
     "data": {
      "text/plain": [
       "{'I', 'S0'}"
      ]
     },
     "execution_count": 34,
     "metadata": {},
     "output_type": "execute_result"
    }
   ],
   "source": [
    "run_nfa(fig71b, \"I\", \"0\")"
   ]
  },
  {
   "cell_type": "code",
   "execution_count": 35,
   "metadata": {
    "run_control": {
     "frozen": false,
     "read_only": false
    }
   },
   "outputs": [
    {
     "name": "stdout",
     "output_type": "stream",
     "text": [
      "States reached =  {'S0', 'I'}\n"
     ]
    },
    {
     "data": {
      "text/plain": [
       "{'I', 'S0'}"
      ]
     },
     "execution_count": 35,
     "metadata": {},
     "output_type": "execute_result"
    }
   ],
   "source": [
    "run_nfa(fig71b, \"I\", \"0\", chatty=True)"
   ]
  },
  {
   "cell_type": "code",
   "execution_count": 36,
   "metadata": {
    "run_control": {
     "frozen": false,
     "read_only": false
    }
   },
   "outputs": [
    {
     "data": {
      "text/plain": [
       "{'I'}"
      ]
     },
     "execution_count": 36,
     "metadata": {},
     "output_type": "execute_result"
    }
   ],
   "source": [
    "step_nfa(fig71b, \"I\", '1')"
   ]
  },
  {
   "cell_type": "code",
   "execution_count": 37,
   "metadata": {
    "run_control": {
     "frozen": false,
     "read_only": false
    }
   },
   "outputs": [
    {
     "name": "stdout",
     "output_type": "stream",
     "text": [
      "States reached =  {'I'}\n",
      "States reached =  {'S0', 'I'}\n",
      "States reached =  {'I', 'S1'}\n",
      "States reached =  {'F', 'I'}\n",
      "States reached =  {'S0', 'I'}\n",
      "States reached =  {'I', 'S1'}\n",
      "States reached =  {'F', 'I'}\n"
     ]
    },
    {
     "data": {
      "text/plain": [
       "{'F', 'I'}"
      ]
     },
     "execution_count": 37,
     "metadata": {},
     "output_type": "execute_result"
    }
   ],
   "source": [
    "run_nfa(fig71a, \"I\", '0100100', chatty = True)"
   ]
  },
  {
   "cell_type": "code",
   "execution_count": 38,
   "metadata": {
    "run_control": {
     "frozen": false,
     "read_only": false
    }
   },
   "outputs": [
    {
     "data": {
      "text/plain": [
       "{'I', 'S0', 'S1'}"
      ]
     },
     "execution_count": 38,
     "metadata": {},
     "output_type": "execute_result"
    }
   ],
   "source": [
    "run_nfa(fig71b, \"I\", '1')"
   ]
  },
  {
   "cell_type": "code",
   "execution_count": 39,
   "metadata": {
    "run_control": {
     "frozen": false,
     "read_only": false
    }
   },
   "outputs": [
    {
     "data": {
      "text/plain": [
       "{'I', 'S0'}"
      ]
     },
     "execution_count": 39,
     "metadata": {},
     "output_type": "execute_result"
    }
   ],
   "source": [
    "run_nfa(fig71b, {\"I\"}, \"\")"
   ]
  },
  {
   "cell_type": "code",
   "execution_count": 40,
   "metadata": {
    "run_control": {
     "frozen": false,
     "read_only": false
    }
   },
   "outputs": [
    {
     "data": {
      "text/plain": [
       "{'I', 'S0'}"
      ]
     },
     "execution_count": 40,
     "metadata": {},
     "output_type": "execute_result"
    }
   ],
   "source": [
    "Eclosure(fig71b, {\"I\"})"
   ]
  },
  {
   "cell_type": "markdown",
   "metadata": {
    "run_control": {
     "frozen": false,
     "read_only": false
    }
   },
   "source": [
    "# The EClosure Function (defined on a set of states)"
   ]
  },
  {
   "cell_type": "code",
   "execution_count": 41,
   "metadata": {
    "run_control": {
     "frozen": false,
     "read_only": false
    }
   },
   "outputs": [
    {
     "data": {
      "text/plain": [
       "{'F', 'I', 'S0', 'S1'}"
      ]
     },
     "execution_count": 41,
     "metadata": {},
     "output_type": "execute_result"
    }
   ],
   "source": [
    "run_nfa(fig71b, {\"I\"}, \"0101\")"
   ]
  },
  {
   "cell_type": "code",
   "execution_count": 42,
   "metadata": {
    "run_control": {
     "frozen": false,
     "read_only": false
    }
   },
   "outputs": [
    {
     "name": "stdout",
     "output_type": "stream",
     "text": [
      "States reached =  {'S0', 'I'}\n",
      "States reached =  {'S0', 'I', 'S1'}\n",
      "States reached =  {'S0', 'S2', 'I'}\n",
      "States reached =  {'S0', 'F', 'I', 'S1'}\n"
     ]
    },
    {
     "data": {
      "text/plain": [
       "{'F', 'I', 'S0', 'S1'}"
      ]
     },
     "execution_count": 42,
     "metadata": {},
     "output_type": "execute_result"
    }
   ],
   "source": [
    "run_nfa(fig71b, {\"I\"}, \"0101\", True)"
   ]
  },
  {
   "cell_type": "code",
   "execution_count": 43,
   "metadata": {
    "run_control": {
     "frozen": false,
     "read_only": false
    }
   },
   "outputs": [],
   "source": [
    "import ipywidgets as wdg\n",
    "def run_nfa_slider(firstTime, N, s, n):\n",
    "    \"\"\"Run NFA N from N[\"Q0\"] (which is a set..) on substring s[0:n]\n",
    "    \"\"\"\n",
    "    if firstTime:\n",
    "        print(\"Eclosure of N's start state is\")\n",
    "        print(Eclosure(N, N[\"Q0\"]))\n",
    "        firstTime = False\n",
    "    S = N[\"Q0\"] \n",
    "    if (n > len(s)):\n",
    "        n = len(s)\n",
    "    print(\"string = \", s[0:n])\n",
    "    run_nfa(N, S, s[0:n], True)\n",
    "    \n",
    "def run_nfa_int(N1, N2):\n",
    "    \"\"\"Run interactively from the given NFA .. from {q0} \n",
    "       on input string's substring\n",
    "       as picked by slider.\n",
    "    \"\"\"\n",
    "    inp = input(\"Please provide string: \")\n",
    "    wdg.interact(run_nfa_slider, firstTime=True, N = {'N1': N1, 'N2': N2}, \n",
    "                 s = inp, n=(0,32) )"
   ]
  },
  {
   "cell_type": "code",
   "execution_count": 44,
   "metadata": {
    "run_control": {
     "frozen": false,
     "read_only": false
    }
   },
   "outputs": [
    {
     "name": "stdout",
     "output_type": "stream",
     "text": [
      "Please provide string: \n"
     ]
    },
    {
     "data": {
      "application/vnd.jupyter.widget-view+json": {
       "model_id": "d70614cdac1c470dad508be7a06e3684",
       "version_major": 2,
       "version_minor": 0
      },
      "text/plain": [
       "interactive(children=(Checkbox(value=True, description='firstTime'), Dropdown(description='N', options={'N1': …"
      ]
     },
     "metadata": {},
     "output_type": "display_data"
    }
   ],
   "source": [
    "run_nfa_int(fig71a, fig71b)"
   ]
  },
  {
   "cell_type": "code",
   "execution_count": 45,
   "metadata": {
    "run_control": {
     "frozen": false,
     "read_only": false
    }
   },
   "outputs": [
    {
     "data": {
      "image/svg+xml": [
       "<?xml version=\"1.0\" encoding=\"UTF-8\" standalone=\"no\"?>\r\n",
       "<!DOCTYPE svg PUBLIC \"-//W3C//DTD SVG 1.1//EN\"\r\n",
       " \"http://www.w3.org/Graphics/SVG/1.1/DTD/svg11.dtd\">\r\n",
       "<!-- Generated by graphviz version 2.38.0 (20140413.2041)\r\n",
       " -->\r\n",
       "<!-- Title: %3 Pages: 1 -->\r\n",
       "<svg width=\"538pt\" height=\"251pt\"\r\n",
       " viewBox=\"0.00 0.00 538.00 251.00\" xmlns=\"http://www.w3.org/2000/svg\" xmlns:xlink=\"http://www.w3.org/1999/xlink\">\r\n",
       "<g id=\"graph0\" class=\"graph\" transform=\"scale(1 1) rotate(0) translate(4 247)\">\r\n",
       "<title>%3</title>\r\n",
       "<polygon fill=\"white\" stroke=\"none\" points=\"-4,4 -4,-247 534,-247 534,4 -4,4\"/>\r\n",
       "<!-- EMPTY -->\r\n",
       "<g id=\"node1\" class=\"node\"><title>EMPTY</title>\r\n",
       "</g>\r\n",
       "<!-- I -->\r\n",
       "<g id=\"node8\" class=\"node\"><title>I</title>\r\n",
       "<ellipse fill=\"none\" stroke=\"black\" cx=\"109\" cy=\"-194\" rx=\"18\" ry=\"18\"/>\r\n",
       "<text text-anchor=\"middle\" x=\"109\" y=\"-190.3\" font-family=\"Times New Roman,serif\" font-size=\"14.00\">I</text>\r\n",
       "</g>\r\n",
       "<!-- EMPTY&#45;&gt;I -->\r\n",
       "<g id=\"edge1\" class=\"edge\"><title>EMPTY&#45;&gt;I</title>\r\n",
       "<path fill=\"none\" stroke=\"black\" d=\"M54.195,-194C62.6538,-194 72.0513,-194 80.5951,-194\"/>\r\n",
       "<polygon fill=\"black\" stroke=\"black\" points=\"80.8257,-197.5 90.8257,-194 80.8257,-190.5 80.8257,-197.5\"/>\r\n",
       "</g>\r\n",
       "<!-- B -->\r\n",
       "<g id=\"node2\" class=\"node\"><title>B</title>\r\n",
       "<ellipse fill=\"none\" stroke=\"black\" cx=\"267\" cy=\"-18\" rx=\"18\" ry=\"18\"/>\r\n",
       "<text text-anchor=\"middle\" x=\"267\" y=\"-14.3\" font-family=\"Times New Roman,serif\" font-size=\"14.00\">B</text>\r\n",
       "</g>\r\n",
       "<!-- D -->\r\n",
       "<g id=\"node3\" class=\"node\"><title>D</title>\r\n",
       "<ellipse fill=\"none\" stroke=\"black\" cx=\"346\" cy=\"-72\" rx=\"18\" ry=\"18\"/>\r\n",
       "<text text-anchor=\"middle\" x=\"346\" y=\"-68.3\" font-family=\"Times New Roman,serif\" font-size=\"14.00\">D</text>\r\n",
       "</g>\r\n",
       "<!-- B&#45;&gt;D -->\r\n",
       "<g id=\"edge6\" class=\"edge\"><title>B&#45;&gt;D</title>\r\n",
       "<path fill=\"none\" stroke=\"black\" d=\"M283.126,-26.2476C291.28,-30.8791 301.402,-36.9341 310,-43 314.755,-46.355 319.676,-50.1837 324.271,-53.9348\"/>\r\n",
       "<polygon fill=\"black\" stroke=\"black\" points=\"322.174,-56.7436 332.086,-60.4838 326.67,-51.3783 322.174,-56.7436\"/>\r\n",
       "<text text-anchor=\"middle\" x=\"306.5\" y=\"-46.8\" font-family=\"Times New Roman,serif\" font-size=\"14.00\">1</text>\r\n",
       "</g>\r\n",
       "<!-- G -->\r\n",
       "<g id=\"node5\" class=\"node\"><title>G</title>\r\n",
       "<ellipse fill=\"none\" stroke=\"black\" cx=\"425\" cy=\"-136\" rx=\"18\" ry=\"18\"/>\r\n",
       "<text text-anchor=\"middle\" x=\"425\" y=\"-132.3\" font-family=\"Times New Roman,serif\" font-size=\"14.00\">G</text>\r\n",
       "</g>\r\n",
       "<!-- D&#45;&gt;G -->\r\n",
       "<g id=\"edge9\" class=\"edge\"><title>D&#45;&gt;G</title>\r\n",
       "<path fill=\"none\" stroke=\"black\" d=\"M360.412,-83.1479C372.116,-92.8757 389.298,-107.157 402.852,-118.423\"/>\r\n",
       "<polygon fill=\"black\" stroke=\"black\" points=\"400.814,-121.279 410.741,-124.98 405.288,-115.896 400.814,-121.279\"/>\r\n",
       "<text text-anchor=\"middle\" x=\"385.5\" y=\"-109.8\" font-family=\"Times New Roman,serif\" font-size=\"14.00\">&#39;&#39;</text>\r\n",
       "</g>\r\n",
       "<!-- A -->\r\n",
       "<g id=\"node7\" class=\"node\"><title>A</title>\r\n",
       "<ellipse fill=\"none\" stroke=\"black\" cx=\"188\" cy=\"-123\" rx=\"18\" ry=\"18\"/>\r\n",
       "<text text-anchor=\"middle\" x=\"188\" y=\"-119.3\" font-family=\"Times New Roman,serif\" font-size=\"14.00\">A</text>\r\n",
       "</g>\r\n",
       "<!-- D&#45;&gt;A -->\r\n",
       "<g id=\"edge8\" class=\"edge\"><title>D&#45;&gt;A</title>\r\n",
       "<path fill=\"none\" stroke=\"black\" d=\"M327.773,-71.0112C308.098,-70.4665 275.24,-71.359 249,-81 234.544,-86.3114 220.335,-95.9991 209.376,-104.733\"/>\r\n",
       "<polygon fill=\"black\" stroke=\"black\" points=\"207.128,-102.051 201.679,-111.137 211.605,-107.432 207.128,-102.051\"/>\r\n",
       "<text text-anchor=\"middle\" x=\"267\" y=\"-84.8\" font-family=\"Times New Roman,serif\" font-size=\"14.00\">&#39;&#39;</text>\r\n",
       "</g>\r\n",
       "<!-- E -->\r\n",
       "<g id=\"node4\" class=\"node\"><title>E</title>\r\n",
       "<ellipse fill=\"none\" stroke=\"black\" cx=\"346\" cy=\"-136\" rx=\"18\" ry=\"18\"/>\r\n",
       "<text text-anchor=\"middle\" x=\"346\" y=\"-132.3\" font-family=\"Times New Roman,serif\" font-size=\"14.00\">E</text>\r\n",
       "</g>\r\n",
       "<!-- E&#45;&gt;G -->\r\n",
       "<g id=\"edge11\" class=\"edge\"><title>E&#45;&gt;G</title>\r\n",
       "<path fill=\"none\" stroke=\"black\" d=\"M364.089,-136C373.659,-136 385.817,-136 396.677,-136\"/>\r\n",
       "<polygon fill=\"black\" stroke=\"black\" points=\"396.959,-139.5 406.959,-136 396.959,-132.5 396.959,-139.5\"/>\r\n",
       "<text text-anchor=\"middle\" x=\"385.5\" y=\"-139.8\" font-family=\"Times New Roman,serif\" font-size=\"14.00\">&#39;&#39;</text>\r\n",
       "</g>\r\n",
       "<!-- E&#45;&gt;A -->\r\n",
       "<g id=\"edge10\" class=\"edge\"><title>E&#45;&gt;A</title>\r\n",
       "<path fill=\"none\" stroke=\"black\" d=\"M328.855,-142.48C323.005,-144.575 316.289,-146.692 310,-148 283.443,-153.524 275.801,-154.184 249,-150 236.384,-148.031 223.346,-142.633 212.66,-137.177\"/>\r\n",
       "<polygon fill=\"black\" stroke=\"black\" points=\"214.044,-133.946 203.587,-132.246 210.702,-140.097 214.044,-133.946\"/>\r\n",
       "<text text-anchor=\"middle\" x=\"267\" y=\"-155.8\" font-family=\"Times New Roman,serif\" font-size=\"14.00\">&#39;&#39;</text>\r\n",
       "</g>\r\n",
       "<!-- F -->\r\n",
       "<g id=\"node9\" class=\"node\"><title>F</title>\r\n",
       "<ellipse fill=\"none\" stroke=\"black\" cx=\"508\" cy=\"-136\" rx=\"18\" ry=\"18\"/>\r\n",
       "<ellipse fill=\"none\" stroke=\"black\" cx=\"508\" cy=\"-136\" rx=\"22\" ry=\"22\"/>\r\n",
       "<text text-anchor=\"middle\" x=\"508\" y=\"-132.3\" font-family=\"Times New Roman,serif\" font-size=\"14.00\">F</text>\r\n",
       "</g>\r\n",
       "<!-- G&#45;&gt;F -->\r\n",
       "<g id=\"edge12\" class=\"edge\"><title>G&#45;&gt;F</title>\r\n",
       "<path fill=\"none\" stroke=\"black\" d=\"M443.178,-136C452.61,-136 464.601,-136 475.637,-136\"/>\r\n",
       "<polygon fill=\"black\" stroke=\"black\" points=\"475.811,-139.5 485.811,-136 475.811,-132.5 475.811,-139.5\"/>\r\n",
       "<text text-anchor=\"middle\" x=\"464.5\" y=\"-139.8\" font-family=\"Times New Roman,serif\" font-size=\"14.00\">1</text>\r\n",
       "</g>\r\n",
       "<!-- C -->\r\n",
       "<g id=\"node6\" class=\"node\"><title>C</title>\r\n",
       "<ellipse fill=\"none\" stroke=\"black\" cx=\"267\" cy=\"-123\" rx=\"18\" ry=\"18\"/>\r\n",
       "<text text-anchor=\"middle\" x=\"267\" y=\"-119.3\" font-family=\"Times New Roman,serif\" font-size=\"14.00\">C</text>\r\n",
       "</g>\r\n",
       "<!-- C&#45;&gt;E -->\r\n",
       "<g id=\"edge7\" class=\"edge\"><title>C&#45;&gt;E</title>\r\n",
       "<path fill=\"none\" stroke=\"black\" d=\"M285.089,-125.885C294.826,-127.529 307.242,-129.625 318.243,-131.483\"/>\r\n",
       "<polygon fill=\"black\" stroke=\"black\" points=\"317.781,-134.954 328.224,-133.168 318.946,-128.052 317.781,-134.954\"/>\r\n",
       "<text text-anchor=\"middle\" x=\"306.5\" y=\"-132.8\" font-family=\"Times New Roman,serif\" font-size=\"14.00\">0</text>\r\n",
       "</g>\r\n",
       "<!-- A&#45;&gt;B -->\r\n",
       "<g id=\"edge4\" class=\"edge\"><title>A&#45;&gt;B</title>\r\n",
       "<path fill=\"none\" stroke=\"black\" d=\"M193.21,-105.686C198.169,-88.2231 207.848,-61.2989 224,-43 228.754,-37.6142 234.956,-33.0566 241.13,-29.3684\"/>\r\n",
       "<polygon fill=\"black\" stroke=\"black\" points=\"242.843,-32.4209 249.982,-24.5916 239.519,-26.2606 242.843,-32.4209\"/>\r\n",
       "<text text-anchor=\"middle\" x=\"227.5\" y=\"-46.8\" font-family=\"Times New Roman,serif\" font-size=\"14.00\">&#39;&#39;</text>\r\n",
       "</g>\r\n",
       "<!-- A&#45;&gt;C -->\r\n",
       "<g id=\"edge5\" class=\"edge\"><title>A&#45;&gt;C</title>\r\n",
       "<path fill=\"none\" stroke=\"black\" d=\"M206.089,-123C215.659,-123 227.817,-123 238.677,-123\"/>\r\n",
       "<polygon fill=\"black\" stroke=\"black\" points=\"238.959,-126.5 248.959,-123 238.959,-119.5 238.959,-126.5\"/>\r\n",
       "<text text-anchor=\"middle\" x=\"227.5\" y=\"-126.8\" font-family=\"Times New Roman,serif\" font-size=\"14.00\">&#39;&#39;</text>\r\n",
       "</g>\r\n",
       "<!-- I&#45;&gt;G -->\r\n",
       "<g id=\"edge3\" class=\"edge\"><title>I&#45;&gt;G</title>\r\n",
       "<path fill=\"none\" stroke=\"black\" d=\"M123.945,-204.386C138.78,-214.385 163.327,-228 187,-228 187,-228 187,-228 347,-228 381.503,-228 403.595,-189.477 414.891,-162.287\"/>\r\n",
       "<polygon fill=\"black\" stroke=\"black\" points=\"418.189,-163.462 418.567,-152.874 411.669,-160.916 418.189,-163.462\"/>\r\n",
       "<text text-anchor=\"middle\" x=\"267\" y=\"-231.8\" font-family=\"Times New Roman,serif\" font-size=\"14.00\">&#39;&#39;</text>\r\n",
       "</g>\r\n",
       "<!-- I&#45;&gt;A -->\r\n",
       "<g id=\"edge2\" class=\"edge\"><title>I&#45;&gt;A</title>\r\n",
       "<path fill=\"none\" stroke=\"black\" d=\"M122.715,-182.276C134.641,-171.279 152.677,-154.649 166.612,-141.799\"/>\r\n",
       "<polygon fill=\"black\" stroke=\"black\" points=\"169.287,-144.094 174.266,-134.742 164.542,-138.947 169.287,-144.094\"/>\r\n",
       "<text text-anchor=\"middle\" x=\"148.5\" y=\"-163.8\" font-family=\"Times New Roman,serif\" font-size=\"14.00\">&#39;&#39;</text>\r\n",
       "</g>\r\n",
       "</g>\r\n",
       "</svg>\r\n"
      ],
      "text/plain": [
       "<graphviz.dot.Digraph at 0x1fb009e38d0>"
      ]
     },
     "execution_count": 45,
     "metadata": {},
     "output_type": "execute_result"
    }
   ],
   "source": [
    "fig74a = md2mc('''\n",
    "NFA\n",
    "I : '' -> A, G\n",
    "A : '' -> B, C\n",
    "B : 1  -> D\n",
    "C : 0  -> E\n",
    "D : '' -> A, G\n",
    "E : '' -> A, G\n",
    "G : 1  -> F\n",
    "''')\n",
    "dotObj_nfa(fig74a)"
   ]
  },
  {
   "cell_type": "code",
   "execution_count": 47,
   "metadata": {
    "run_control": {
     "frozen": false,
     "read_only": false
    }
   },
   "outputs": [
    {
     "name": "stdout",
     "output_type": "stream",
     "text": [
      "Please provide string: \n"
     ]
    },
    {
     "data": {
      "application/vnd.jupyter.widget-view+json": {
       "model_id": "e61adff7827e4016b26ff8454c9eb949",
       "version_major": 2,
       "version_minor": 0
      },
      "text/plain": [
       "interactive(children=(Checkbox(value=True, description='firstTime'), Dropdown(description='N', options={'N1': …"
      ]
     },
     "metadata": {},
     "output_type": "display_data"
    }
   ],
   "source": [
    "run_nfa_int(fig74a, fig71b)"
   ]
  },
  {
   "cell_type": "markdown",
   "metadata": {
    "run_control": {
     "frozen": false,
     "read_only": false
    }
   },
   "source": [
    "# DFA to NFA conversion (!)\n",
    "\n",
    "This is a useful helper and helps understand the theory, but not widely used.\n",
    "Its main use is within \"NFA2RE\". Suppose you want to convert a DFA to an RE? \n",
    "Then use dfa2nfa and then NFA2RE :-)"
   ]
  },
  {
   "cell_type": "code",
   "execution_count": 48,
   "metadata": {
    "run_control": {
     "frozen": false,
     "read_only": false
    }
   },
   "outputs": [],
   "source": [
    "def dfa2nfa(D):\n",
    "    \"\"\"Given a DFA D, make a language-equivalent NFA.\n",
    "    \"\"\"\n",
    "    assert(\n",
    "    is_partially_consistent_dfa(D)\n",
    "    ), \"DFA given to dfa2nfa is not part. consist.\"\n",
    "    return { \"Q\"     : D[\"Q\"],\n",
    "             \"Sigma\" : D[\"Sigma\"],\n",
    "             \"Delta\" : dict((a,{b}) for (a,b) in D[\"Delta\"].items()),\n",
    "             \"Q0\"    : { D[\"q0\"] },\n",
    "             \"F\"     : D[\"F\"] }  "
   ]
  },
  {
   "cell_type": "markdown",
   "metadata": {
    "run_control": {
     "frozen": false,
     "read_only": false
    }
   },
   "source": [
    "# NFA to DFA conversion\n",
    "\n",
    "\n",
    "* Input: An NFA, N\n",
    "\n",
    "* Output: A language-equivalent DFA, D\n",
    "\n",
    "* Method: Subset Construction\n",
    "\n",
    "  - Data structure to maintain : \n",
    "  \n",
    "    * A set called \"Unexpanded\" (UNEXP for short), which holds SETS of states of the given NFA, N\n",
    "    \n",
    "    * These serve as the states of the DFA (D) being built\n",
    "    \n",
    "      - Note that UNEXP is a set of state-sets (set of 'set-of-states' if you will)\n",
    "\n",
    "> * Let INIT  (DFA's initial state) =  Eclosure of N[\"Q0\"]  \n",
    "\n",
    "> * Add INIT to UNEXP\n",
    "\n",
    "> WHILE (UNEXP $\\neq \\emptyset$) DO\n",
    "\n",
    "> > Choose a state S from UNEXP\n",
    "\n",
    "> > Delete S from UNEXP\n",
    "\n",
    "> > Expand(S)   --   Expand(S) will add all the 'c' moves out of S where c $\\in \\Sigma$\n",
    "\n",
    "> END WHILE \n",
    "\n",
    "** Expand(S): **\n",
    "\n",
    "> For each symbol $c$ in $\\Sigma$\n",
    "\n",
    "> > For each state s ∈ S do  --  Recall that S is a set of states\n",
    "\n",
    "> > > Let $NS_c$ = $\\delta(s,c)$ --  Find the next __set of states__ the NFA can be, starting from s, moving on c \n",
    "\n",
    "> > > Let $NSE_c$ = Eclose($NS_c$)   --  Eclose $NS_c$ which means Eclose every state in $NS_c$ and union them\n",
    "\n",
    "> > > Introduce a transition in D from S to $NSE_c$\n",
    "\n",
    "> > If $NSE_c$ does not exist in the DFA D, add it to UNEXP\n",
    "\n",
    "** Eclose(S): **\n",
    "\n",
    "> For each state $x \\in S$:\n",
    "\n",
    "> > Move $x$ through $\\varepsilon$, obtaining a set of next state $S_x$\n",
    "\n",
    "> Union these $S_x$ and return that union"
   ]
  },
  {
   "cell_type": "markdown",
   "metadata": {
    "run_control": {
     "frozen": false,
     "read_only": false
    }
   },
   "source": [
    "# The Actual NFA 2 DFA Conversion Code"
   ]
  },
  {
   "cell_type": "code",
   "execution_count": 49,
   "metadata": {
    "run_control": {
     "frozen": false,
     "read_only": false
    }
   },
   "outputs": [],
   "source": [
    "def nfa2dfa(N):\n",
    "    \"\"\"In : N (consistent NFA)\n",
    "       Out: A consistent DFA that is language-equivalent to N.\n",
    "    \"\"\"\n",
    "    assert(\n",
    "        is_consistent_nfa(N)\n",
    "    ), \"nfa2dfa was given an inconsistent NFA.\"\n",
    "    # EClose the starting state of the NFA\n",
    "    EC = Eclosure(N, N[\"Q0\"])\n",
    "    return n2d(Frontier=[EC], Visited=[EC], Delta=dict({}), Nfa=N)\n",
    "\n",
    "\n",
    "def n2d(Frontier, Visited, Delta, Nfa):\n",
    "    \"\"\"Helper for nfa2dfa.\n",
    "       ---\n",
    "       In : Frontier (list of state sets; initially Eclosed Q0)\n",
    "            Visited  (list of visited state sets; initially Eclosed Q0)\n",
    "            Delta    (the DFA transition function being formed)\n",
    "            Nfa      (the NFA being converted)\n",
    "       Helper to nfa2dfa. Given a (BFS) frontier, a Visited\n",
    "       set of states, the Delta being formed, and NFA Nfa, see\n",
    "       if all new moves are in Visited:\n",
    "         do last gasp of Delta update; make and return a DFA;\n",
    "       else: extend Frontier, Visited, Delta; recurse.\n",
    "    \"\"\"\n",
    "    All_c_Moves = [ ((Q,c),ec_step_nfa(Nfa,Q,c)) \n",
    "                   for Q in Frontier \n",
    "                   for c in Nfa[\"Sigma\"] ]\n",
    "    New_c_Moves = list(filter(lambda QcQ: trTrg(QcQ) not in Visited, \n",
    "                              All_c_Moves))  \n",
    "    if New_c_Moves == []:\n",
    "        # Add last-gasp c-moves that curl back!\n",
    "        last_gasp_c_moves = dict([ ((mkSSnam(Qfrom),c),mkSSnam(Qto)) \n",
    "                                  for ((Qfrom, c), Qto) in All_c_Moves ])\n",
    "        Delta.update(last_gasp_c_moves)\n",
    "                  \n",
    "        # DFA states are visited states\n",
    "        DFA_Q = { mkSSnam(Q) for Q in Visited }\n",
    "                  \n",
    "        # Retain alphabet\n",
    "        DFA_Sigma = Nfa[\"Sigma\"]\n",
    "                  \n",
    "        # Delta is ready to go\n",
    "        DFA_Delta = Delta\n",
    "                  \n",
    "        # DFA starts at Eclosure of Nfa's Q0 set of states\n",
    "        DFA_q0 = mkSSnam(Eclosure(Nfa, Nfa[\"Q0\"]))\n",
    "                  \n",
    "        # DFA's final states are those in visited that contain an NFA \n",
    "        # F-state but don't retain any empty sets, in case the NFA given \n",
    "        # has no F-states!\n",
    "        # This is another corner-case (i.e. don't shove-in black hole \n",
    "        # states!)\n",
    "        DFA_F = set(map(lambda Q: mkSSnam(Q), \n",
    "                        filter(lambda Q: (Nfa[\"F\"]&Q) != set({}), \n",
    "                               Visited)))\n",
    "                  \n",
    "        # Make the DFA; send it to the DFA-shrink to bask ugly long \n",
    "        # state names...\n",
    "        return shrink_dfastates(mk_dfa(DFA_Q, \n",
    "                                       DFA_Sigma, \n",
    "                                       DFA_Delta, \n",
    "                                       DFA_q0, \n",
    "                                       DFA_F))\n",
    "    else:\n",
    "        newFrontier = list(map(lambda QcQ: trTrg(QcQ), New_c_Moves)) \n",
    "        newVisited = Visited + newFrontier\n",
    "                  \n",
    "        # Even though the NFA has not closed back on itself, we MUST \n",
    "        # accommodate for the \"curl-backs\" along the way !!  Thus, run it\n",
    "        # over All_c_Moves which may include \"partial revisits along the \n",
    "        # way\". We MUST pick up those curl-backs!\n",
    "        NewMovesDelta = dict([ ((mkSSnam(Qfrom),c),mkSSnam(Qto)) \n",
    "                              for ((Qfrom, c), Qto) in All_c_Moves ]) \n",
    "        Delta.update(NewMovesDelta)\n",
    "        return n2d(newFrontier, newVisited, Delta, Nfa)\n",
    "                                  \n",
    "#---NFA to DFA"
   ]
  },
  {
   "cell_type": "code",
   "execution_count": 50,
   "metadata": {
    "run_control": {
     "frozen": false,
     "read_only": false
    }
   },
   "outputs": [
    {
     "data": {
      "image/svg+xml": [
       "<?xml version=\"1.0\" encoding=\"UTF-8\" standalone=\"no\"?>\r\n",
       "<!DOCTYPE svg PUBLIC \"-//W3C//DTD SVG 1.1//EN\"\r\n",
       " \"http://www.w3.org/Graphics/SVG/1.1/DTD/svg11.dtd\">\r\n",
       "<!-- Generated by graphviz version 2.38.0 (20140413.2041)\r\n",
       " -->\r\n",
       "<!-- Title: %3 Pages: 1 -->\r\n",
       "<svg width=\"538pt\" height=\"251pt\"\r\n",
       " viewBox=\"0.00 0.00 538.00 251.00\" xmlns=\"http://www.w3.org/2000/svg\" xmlns:xlink=\"http://www.w3.org/1999/xlink\">\r\n",
       "<g id=\"graph0\" class=\"graph\" transform=\"scale(1 1) rotate(0) translate(4 247)\">\r\n",
       "<title>%3</title>\r\n",
       "<polygon fill=\"white\" stroke=\"none\" points=\"-4,4 -4,-247 534,-247 534,4 -4,4\"/>\r\n",
       "<!-- EMPTY -->\r\n",
       "<g id=\"node1\" class=\"node\"><title>EMPTY</title>\r\n",
       "</g>\r\n",
       "<!-- I -->\r\n",
       "<g id=\"node8\" class=\"node\"><title>I</title>\r\n",
       "<ellipse fill=\"none\" stroke=\"black\" cx=\"109\" cy=\"-194\" rx=\"18\" ry=\"18\"/>\r\n",
       "<text text-anchor=\"middle\" x=\"109\" y=\"-190.3\" font-family=\"Times New Roman,serif\" font-size=\"14.00\">I</text>\r\n",
       "</g>\r\n",
       "<!-- EMPTY&#45;&gt;I -->\r\n",
       "<g id=\"edge1\" class=\"edge\"><title>EMPTY&#45;&gt;I</title>\r\n",
       "<path fill=\"none\" stroke=\"black\" d=\"M54.195,-194C62.6538,-194 72.0513,-194 80.5951,-194\"/>\r\n",
       "<polygon fill=\"black\" stroke=\"black\" points=\"80.8257,-197.5 90.8257,-194 80.8257,-190.5 80.8257,-197.5\"/>\r\n",
       "</g>\r\n",
       "<!-- B -->\r\n",
       "<g id=\"node2\" class=\"node\"><title>B</title>\r\n",
       "<ellipse fill=\"none\" stroke=\"black\" cx=\"267\" cy=\"-18\" rx=\"18\" ry=\"18\"/>\r\n",
       "<text text-anchor=\"middle\" x=\"267\" y=\"-14.3\" font-family=\"Times New Roman,serif\" font-size=\"14.00\">B</text>\r\n",
       "</g>\r\n",
       "<!-- D -->\r\n",
       "<g id=\"node3\" class=\"node\"><title>D</title>\r\n",
       "<ellipse fill=\"none\" stroke=\"black\" cx=\"346\" cy=\"-72\" rx=\"18\" ry=\"18\"/>\r\n",
       "<text text-anchor=\"middle\" x=\"346\" y=\"-68.3\" font-family=\"Times New Roman,serif\" font-size=\"14.00\">D</text>\r\n",
       "</g>\r\n",
       "<!-- B&#45;&gt;D -->\r\n",
       "<g id=\"edge6\" class=\"edge\"><title>B&#45;&gt;D</title>\r\n",
       "<path fill=\"none\" stroke=\"black\" d=\"M283.126,-26.2476C291.28,-30.8791 301.402,-36.9341 310,-43 314.755,-46.355 319.676,-50.1837 324.271,-53.9348\"/>\r\n",
       "<polygon fill=\"black\" stroke=\"black\" points=\"322.174,-56.7436 332.086,-60.4838 326.67,-51.3783 322.174,-56.7436\"/>\r\n",
       "<text text-anchor=\"middle\" x=\"306.5\" y=\"-46.8\" font-family=\"Times New Roman,serif\" font-size=\"14.00\">1</text>\r\n",
       "</g>\r\n",
       "<!-- G -->\r\n",
       "<g id=\"node5\" class=\"node\"><title>G</title>\r\n",
       "<ellipse fill=\"none\" stroke=\"black\" cx=\"425\" cy=\"-136\" rx=\"18\" ry=\"18\"/>\r\n",
       "<text text-anchor=\"middle\" x=\"425\" y=\"-132.3\" font-family=\"Times New Roman,serif\" font-size=\"14.00\">G</text>\r\n",
       "</g>\r\n",
       "<!-- D&#45;&gt;G -->\r\n",
       "<g id=\"edge9\" class=\"edge\"><title>D&#45;&gt;G</title>\r\n",
       "<path fill=\"none\" stroke=\"black\" d=\"M360.412,-83.1479C372.116,-92.8757 389.298,-107.157 402.852,-118.423\"/>\r\n",
       "<polygon fill=\"black\" stroke=\"black\" points=\"400.814,-121.279 410.741,-124.98 405.288,-115.896 400.814,-121.279\"/>\r\n",
       "<text text-anchor=\"middle\" x=\"385.5\" y=\"-109.8\" font-family=\"Times New Roman,serif\" font-size=\"14.00\">&#39;&#39;</text>\r\n",
       "</g>\r\n",
       "<!-- A -->\r\n",
       "<g id=\"node7\" class=\"node\"><title>A</title>\r\n",
       "<ellipse fill=\"none\" stroke=\"black\" cx=\"188\" cy=\"-123\" rx=\"18\" ry=\"18\"/>\r\n",
       "<text text-anchor=\"middle\" x=\"188\" y=\"-119.3\" font-family=\"Times New Roman,serif\" font-size=\"14.00\">A</text>\r\n",
       "</g>\r\n",
       "<!-- D&#45;&gt;A -->\r\n",
       "<g id=\"edge8\" class=\"edge\"><title>D&#45;&gt;A</title>\r\n",
       "<path fill=\"none\" stroke=\"black\" d=\"M327.773,-71.0112C308.098,-70.4665 275.24,-71.359 249,-81 234.544,-86.3114 220.335,-95.9991 209.376,-104.733\"/>\r\n",
       "<polygon fill=\"black\" stroke=\"black\" points=\"207.128,-102.051 201.679,-111.137 211.605,-107.432 207.128,-102.051\"/>\r\n",
       "<text text-anchor=\"middle\" x=\"267\" y=\"-84.8\" font-family=\"Times New Roman,serif\" font-size=\"14.00\">&#39;&#39;</text>\r\n",
       "</g>\r\n",
       "<!-- E -->\r\n",
       "<g id=\"node4\" class=\"node\"><title>E</title>\r\n",
       "<ellipse fill=\"none\" stroke=\"black\" cx=\"346\" cy=\"-136\" rx=\"18\" ry=\"18\"/>\r\n",
       "<text text-anchor=\"middle\" x=\"346\" y=\"-132.3\" font-family=\"Times New Roman,serif\" font-size=\"14.00\">E</text>\r\n",
       "</g>\r\n",
       "<!-- E&#45;&gt;G -->\r\n",
       "<g id=\"edge11\" class=\"edge\"><title>E&#45;&gt;G</title>\r\n",
       "<path fill=\"none\" stroke=\"black\" d=\"M364.089,-136C373.659,-136 385.817,-136 396.677,-136\"/>\r\n",
       "<polygon fill=\"black\" stroke=\"black\" points=\"396.959,-139.5 406.959,-136 396.959,-132.5 396.959,-139.5\"/>\r\n",
       "<text text-anchor=\"middle\" x=\"385.5\" y=\"-139.8\" font-family=\"Times New Roman,serif\" font-size=\"14.00\">&#39;&#39;</text>\r\n",
       "</g>\r\n",
       "<!-- E&#45;&gt;A -->\r\n",
       "<g id=\"edge10\" class=\"edge\"><title>E&#45;&gt;A</title>\r\n",
       "<path fill=\"none\" stroke=\"black\" d=\"M328.855,-142.48C323.005,-144.575 316.289,-146.692 310,-148 283.443,-153.524 275.801,-154.184 249,-150 236.384,-148.031 223.346,-142.633 212.66,-137.177\"/>\r\n",
       "<polygon fill=\"black\" stroke=\"black\" points=\"214.044,-133.946 203.587,-132.246 210.702,-140.097 214.044,-133.946\"/>\r\n",
       "<text text-anchor=\"middle\" x=\"267\" y=\"-155.8\" font-family=\"Times New Roman,serif\" font-size=\"14.00\">&#39;&#39;</text>\r\n",
       "</g>\r\n",
       "<!-- F -->\r\n",
       "<g id=\"node9\" class=\"node\"><title>F</title>\r\n",
       "<ellipse fill=\"none\" stroke=\"black\" cx=\"508\" cy=\"-136\" rx=\"18\" ry=\"18\"/>\r\n",
       "<ellipse fill=\"none\" stroke=\"black\" cx=\"508\" cy=\"-136\" rx=\"22\" ry=\"22\"/>\r\n",
       "<text text-anchor=\"middle\" x=\"508\" y=\"-132.3\" font-family=\"Times New Roman,serif\" font-size=\"14.00\">F</text>\r\n",
       "</g>\r\n",
       "<!-- G&#45;&gt;F -->\r\n",
       "<g id=\"edge12\" class=\"edge\"><title>G&#45;&gt;F</title>\r\n",
       "<path fill=\"none\" stroke=\"black\" d=\"M443.178,-136C452.61,-136 464.601,-136 475.637,-136\"/>\r\n",
       "<polygon fill=\"black\" stroke=\"black\" points=\"475.811,-139.5 485.811,-136 475.811,-132.5 475.811,-139.5\"/>\r\n",
       "<text text-anchor=\"middle\" x=\"464.5\" y=\"-139.8\" font-family=\"Times New Roman,serif\" font-size=\"14.00\">1</text>\r\n",
       "</g>\r\n",
       "<!-- C -->\r\n",
       "<g id=\"node6\" class=\"node\"><title>C</title>\r\n",
       "<ellipse fill=\"none\" stroke=\"black\" cx=\"267\" cy=\"-123\" rx=\"18\" ry=\"18\"/>\r\n",
       "<text text-anchor=\"middle\" x=\"267\" y=\"-119.3\" font-family=\"Times New Roman,serif\" font-size=\"14.00\">C</text>\r\n",
       "</g>\r\n",
       "<!-- C&#45;&gt;E -->\r\n",
       "<g id=\"edge7\" class=\"edge\"><title>C&#45;&gt;E</title>\r\n",
       "<path fill=\"none\" stroke=\"black\" d=\"M285.089,-125.885C294.826,-127.529 307.242,-129.625 318.243,-131.483\"/>\r\n",
       "<polygon fill=\"black\" stroke=\"black\" points=\"317.781,-134.954 328.224,-133.168 318.946,-128.052 317.781,-134.954\"/>\r\n",
       "<text text-anchor=\"middle\" x=\"306.5\" y=\"-132.8\" font-family=\"Times New Roman,serif\" font-size=\"14.00\">0</text>\r\n",
       "</g>\r\n",
       "<!-- A&#45;&gt;B -->\r\n",
       "<g id=\"edge4\" class=\"edge\"><title>A&#45;&gt;B</title>\r\n",
       "<path fill=\"none\" stroke=\"black\" d=\"M193.21,-105.686C198.169,-88.2231 207.848,-61.2989 224,-43 228.754,-37.6142 234.956,-33.0566 241.13,-29.3684\"/>\r\n",
       "<polygon fill=\"black\" stroke=\"black\" points=\"242.843,-32.4209 249.982,-24.5916 239.519,-26.2606 242.843,-32.4209\"/>\r\n",
       "<text text-anchor=\"middle\" x=\"227.5\" y=\"-46.8\" font-family=\"Times New Roman,serif\" font-size=\"14.00\">&#39;&#39;</text>\r\n",
       "</g>\r\n",
       "<!-- A&#45;&gt;C -->\r\n",
       "<g id=\"edge5\" class=\"edge\"><title>A&#45;&gt;C</title>\r\n",
       "<path fill=\"none\" stroke=\"black\" d=\"M206.089,-123C215.659,-123 227.817,-123 238.677,-123\"/>\r\n",
       "<polygon fill=\"black\" stroke=\"black\" points=\"238.959,-126.5 248.959,-123 238.959,-119.5 238.959,-126.5\"/>\r\n",
       "<text text-anchor=\"middle\" x=\"227.5\" y=\"-126.8\" font-family=\"Times New Roman,serif\" font-size=\"14.00\">&#39;&#39;</text>\r\n",
       "</g>\r\n",
       "<!-- I&#45;&gt;G -->\r\n",
       "<g id=\"edge3\" class=\"edge\"><title>I&#45;&gt;G</title>\r\n",
       "<path fill=\"none\" stroke=\"black\" d=\"M123.945,-204.386C138.78,-214.385 163.327,-228 187,-228 187,-228 187,-228 347,-228 381.503,-228 403.595,-189.477 414.891,-162.287\"/>\r\n",
       "<polygon fill=\"black\" stroke=\"black\" points=\"418.189,-163.462 418.567,-152.874 411.669,-160.916 418.189,-163.462\"/>\r\n",
       "<text text-anchor=\"middle\" x=\"267\" y=\"-231.8\" font-family=\"Times New Roman,serif\" font-size=\"14.00\">&#39;&#39;</text>\r\n",
       "</g>\r\n",
       "<!-- I&#45;&gt;A -->\r\n",
       "<g id=\"edge2\" class=\"edge\"><title>I&#45;&gt;A</title>\r\n",
       "<path fill=\"none\" stroke=\"black\" d=\"M122.715,-182.276C134.641,-171.279 152.677,-154.649 166.612,-141.799\"/>\r\n",
       "<polygon fill=\"black\" stroke=\"black\" points=\"169.287,-144.094 174.266,-134.742 164.542,-138.947 169.287,-144.094\"/>\r\n",
       "<text text-anchor=\"middle\" x=\"148.5\" y=\"-163.8\" font-family=\"Times New Roman,serif\" font-size=\"14.00\">&#39;&#39;</text>\r\n",
       "</g>\r\n",
       "</g>\r\n",
       "</svg>\r\n"
      ],
      "text/plain": [
       "<graphviz.dot.Digraph at 0x1fb00c5d860>"
      ]
     },
     "execution_count": 50,
     "metadata": {},
     "output_type": "execute_result"
    }
   ],
   "source": [
    "fig74a = md2mc('''\n",
    "NFA\n",
    "I : '' -> A, G\n",
    "A : '' -> B, C\n",
    "B : 1  -> D\n",
    "C : 0  -> E\n",
    "D : '' -> A, G\n",
    "E : '' -> A, G\n",
    "G : 1  -> F\n",
    "''')\n",
    "dotObj_nfa(fig74a)"
   ]
  },
  {
   "cell_type": "code",
   "execution_count": 51,
   "metadata": {
    "run_control": {
     "frozen": false,
     "read_only": false
    }
   },
   "outputs": [
    {
     "data": {
      "image/svg+xml": [
       "<?xml version=\"1.0\" encoding=\"UTF-8\" standalone=\"no\"?>\r\n",
       "<!DOCTYPE svg PUBLIC \"-//W3C//DTD SVG 1.1//EN\"\r\n",
       " \"http://www.w3.org/Graphics/SVG/1.1/DTD/svg11.dtd\">\r\n",
       "<!-- Generated by graphviz version 2.38.0 (20140413.2041)\r\n",
       " -->\r\n",
       "<!-- Title: %3 Pages: 1 -->\r\n",
       "<svg width=\"329pt\" height=\"120pt\"\r\n",
       " viewBox=\"0.00 0.00 329.49 120.50\" xmlns=\"http://www.w3.org/2000/svg\" xmlns:xlink=\"http://www.w3.org/1999/xlink\">\r\n",
       "<g id=\"graph0\" class=\"graph\" transform=\"scale(1 1) rotate(0) translate(4 116.496)\">\r\n",
       "<title>%3</title>\r\n",
       "<polygon fill=\"white\" stroke=\"none\" points=\"-4,4 -4,-116.496 325.488,-116.496 325.488,4 -4,4\"/>\r\n",
       "<!-- EMPTY -->\r\n",
       "<g id=\"node1\" class=\"node\"><title>EMPTY</title>\r\n",
       "</g>\r\n",
       "<!-- St2 -->\r\n",
       "<g id=\"node3\" class=\"node\"><title>St2</title>\r\n",
       "<ellipse fill=\"none\" stroke=\"black\" cx=\"113.748\" cy=\"-22.748\" rx=\"22.9987\" ry=\"22.9987\"/>\r\n",
       "<text text-anchor=\"middle\" x=\"113.748\" y=\"-19.048\" font-family=\"Times New Roman,serif\" font-size=\"14.00\">St2</text>\r\n",
       "</g>\r\n",
       "<!-- EMPTY&#45;&gt;St2 -->\r\n",
       "<g id=\"edge1\" class=\"edge\"><title>EMPTY&#45;&gt;St2</title>\r\n",
       "<path fill=\"none\" stroke=\"black\" d=\"M54.3502,-22.748C62.71,-22.748 72.0455,-22.748 80.757,-22.748\"/>\r\n",
       "<polygon fill=\"black\" stroke=\"black\" points=\"80.9663,-26.2481 90.9663,-22.748 80.9662,-19.2481 80.9663,-26.2481\"/>\r\n",
       "</g>\r\n",
       "<!-- St1 -->\r\n",
       "<g id=\"node2\" class=\"node\"><title>St1</title>\r\n",
       "<ellipse fill=\"none\" stroke=\"black\" cx=\"202.244\" cy=\"-56.748\" rx=\"22.9987\" ry=\"22.9987\"/>\r\n",
       "<text text-anchor=\"middle\" x=\"202.244\" y=\"-53.048\" font-family=\"Times New Roman,serif\" font-size=\"14.00\">St1</text>\r\n",
       "</g>\r\n",
       "<!-- St1&#45;&gt;St1 -->\r\n",
       "<g id=\"edge4\" class=\"edge\"><title>St1&#45;&gt;St1</title>\r\n",
       "<path fill=\"none\" stroke=\"black\" d=\"M194.195,-78.1313C193.202,-88.4165 195.885,-97.496 202.244,-97.496 206.318,-97.496 208.883,-93.7698 209.939,-88.3874\"/>\r\n",
       "<polygon fill=\"black\" stroke=\"black\" points=\"213.446,-88.2458 210.293,-78.1313 206.45,-88.0048 213.446,-88.2458\"/>\r\n",
       "<text text-anchor=\"middle\" x=\"202.244\" y=\"-101.296\" font-family=\"Times New Roman,serif\" font-size=\"14.00\">0</text>\r\n",
       "</g>\r\n",
       "<!-- St0 -->\r\n",
       "<g id=\"node4\" class=\"node\"><title>St0</title>\r\n",
       "<ellipse fill=\"none\" stroke=\"black\" cx=\"294.74\" cy=\"-33.748\" rx=\"22.9609\" ry=\"22.9609\"/>\r\n",
       "<ellipse fill=\"none\" stroke=\"black\" cx=\"294.74\" cy=\"-33.748\" rx=\"26.9983\" ry=\"26.9983\"/>\r\n",
       "<text text-anchor=\"middle\" x=\"294.74\" y=\"-30.048\" font-family=\"Times New Roman,serif\" font-size=\"14.00\">St0</text>\r\n",
       "</g>\r\n",
       "<!-- St1&#45;&gt;St0 -->\r\n",
       "<g id=\"edge5\" class=\"edge\"><title>St1&#45;&gt;St0</title>\r\n",
       "<path fill=\"none\" stroke=\"black\" d=\"M225.306,-54.3764C233.167,-53.2869 242.04,-51.7753 249.992,-49.748 253.205,-48.9289 256.511,-47.9617 259.798,-46.915\"/>\r\n",
       "<polygon fill=\"black\" stroke=\"black\" points=\"261.157,-50.1494 269.488,-43.6043 258.893,-43.5253 261.157,-50.1494\"/>\r\n",
       "<text text-anchor=\"middle\" x=\"246.492\" y=\"-55.548\" font-family=\"Times New Roman,serif\" font-size=\"14.00\">1</text>\r\n",
       "</g>\r\n",
       "<!-- St2&#45;&gt;St1 -->\r\n",
       "<g id=\"edge2\" class=\"edge\"><title>St2&#45;&gt;St1</title>\r\n",
       "<path fill=\"none\" stroke=\"black\" d=\"M135.246,-30.8055C146.018,-35.0398 159.423,-40.3088 171.332,-44.99\"/>\r\n",
       "<polygon fill=\"black\" stroke=\"black\" points=\"170.305,-48.3473 180.893,-48.7483 172.866,-41.8325 170.305,-48.3473\"/>\r\n",
       "<text text-anchor=\"middle\" x=\"157.996\" y=\"-45.548\" font-family=\"Times New Roman,serif\" font-size=\"14.00\">0</text>\r\n",
       "</g>\r\n",
       "<!-- St2&#45;&gt;St0 -->\r\n",
       "<g id=\"edge3\" class=\"edge\"><title>St2&#45;&gt;St0</title>\r\n",
       "<path fill=\"none\" stroke=\"black\" d=\"M135.973,-16.6661C158.239,-11.1215 194.21,-4.52944 224.992,-9.74798 236.946,-11.7745 249.592,-15.6511 260.733,-19.707\"/>\r\n",
       "<polygon fill=\"black\" stroke=\"black\" points=\"259.492,-22.9793 270.082,-23.2756 261.988,-16.4395 259.492,-22.9793\"/>\r\n",
       "<text text-anchor=\"middle\" x=\"202.244\" y=\"-13.548\" font-family=\"Times New Roman,serif\" font-size=\"14.00\">1</text>\r\n",
       "</g>\r\n",
       "<!-- St0&#45;&gt;St1 -->\r\n",
       "<g id=\"edge6\" class=\"edge\"><title>St0&#45;&gt;St1</title>\r\n",
       "<path fill=\"none\" stroke=\"black\" d=\"M268.305,-28.8394C260.087,-28.1491 251.027,-28.3534 242.992,-30.748 238.206,-32.1742 233.46,-34.3808 229.003,-36.9187\"/>\r\n",
       "<polygon fill=\"black\" stroke=\"black\" points=\"226.885,-34.1183 220.339,-42.4494 230.652,-40.0185 226.885,-34.1183\"/>\r\n",
       "<text text-anchor=\"middle\" x=\"246.492\" y=\"-34.548\" font-family=\"Times New Roman,serif\" font-size=\"14.00\">0</text>\r\n",
       "</g>\r\n",
       "<!-- St0&#45;&gt;St0 -->\r\n",
       "<g id=\"edge7\" class=\"edge\"><title>St0&#45;&gt;St0</title>\r\n",
       "<path fill=\"none\" stroke=\"black\" d=\"M285.819,-59.049C285.204,-69.574 288.177,-78.496 294.74,-78.496 299.047,-78.496 301.808,-74.6536 303.023,-69.0374\"/>\r\n",
       "<polygon fill=\"black\" stroke=\"black\" points=\"306.516,-69.2517 303.661,-59.049 299.531,-68.8056 306.516,-69.2517\"/>\r\n",
       "<text text-anchor=\"middle\" x=\"294.74\" y=\"-82.296\" font-family=\"Times New Roman,serif\" font-size=\"14.00\">1</text>\r\n",
       "</g>\r\n",
       "</g>\r\n",
       "</svg>\r\n"
      ],
      "text/plain": [
       "<graphviz.dot.Digraph at 0x1fb00c90eb8>"
      ]
     },
     "execution_count": 51,
     "metadata": {},
     "output_type": "execute_result"
    }
   ],
   "source": [
    "dotObj_dfa(nfa2dfa(fig74a))"
   ]
  },
  {
   "cell_type": "markdown",
   "metadata": {
    "editable": false,
    "run_control": {
     "frozen": false,
     "read_only": false
    }
   },
   "source": [
    "# Brzozowski's DFA Minimization\n",
    "\n",
    "Picking up from our earlier discussions, to minimize a DFA using Brzozowski's algorithm, here are the steps:\n",
    "\n",
    "* Make sure that the given DFA has no unreachable states\n",
    "* Reverse the DFA\n",
    "* Determinize it\n",
    "* Reverse that DFA\n",
    "* Determinize it\n",
    "\n",
    "Thus we need to write a routine to reverse a DFA. We already have a way to ensure that a DFA does not have unreachable states (in another Jupyter notebook; we won't bother to include it here, and trust the user to always provide such DFA only).\n",
    "\n",
    "We can observe that if a DFA has black-hole states, then those states won't matter in the reversed machine (reversed NFA). Thus, we can work with __partial__ dfa (i.e., DFA that are partially consistent)."
   ]
  },
  {
   "cell_type": "markdown",
   "metadata": {
    "editable": false,
    "run_control": {
     "frozen": false,
     "read_only": false
    }
   },
   "source": [
    "## DFA reversal"
   ]
  },
  {
   "cell_type": "code",
   "execution_count": 52,
   "metadata": {
    "run_control": {
     "frozen": false,
     "read_only": false
    }
   },
   "outputs": [],
   "source": [
    "def inSets(D,trg,ch):\n",
    "    \"\"\"In : D   = partially consistent dfa,\n",
    "            trg = a target state in D[\"q\"]\n",
    "            ch  = a member of D[\"Sigma\"]\n",
    "       Out: a set of states. { q s.t. Delta[q,ch] == trg }\n",
    "    \"\"\"\n",
    "    return { q for q in D[\"Q\"] if D[\"Delta\"][(q,ch)] == trg }\n",
    "\n",
    "def rev_dfa(D):\n",
    "    \"\"\"In : D = a partially consistent DFA without any unreachable states.\n",
    "       Out: A consistent NFA whose language is D's language reversed.\n",
    "    \"\"\"\n",
    "    # 1. Given that NFAs start from a SET of states, we already have that\n",
    "    #   info. No need to add any transitions from \"a new initial state\" \n",
    "    #   etc\n",
    "    \n",
    "    # 2. Now add the inSets of each state as the NFA next set of states\n",
    "    NDict = { (q,ch) : inSets(D,q,ch) \n",
    "              for q in D[\"Q\"] \n",
    "              for ch in D[\"Sigma\"] }\n",
    "    \n",
    "    # Notice that we retain D[\"Q\"] and start from Q0 = D[\"F\"]\n",
    "    # going backwards along NDict toward F_dfa = { D[\"q0\"] }\n",
    "    return mk_nfa(D[\"Q\"], D[\"Sigma\"], NDict, D[\"F\"], {D[\"q0\"]})"
   ]
  },
  {
   "cell_type": "code",
   "execution_count": 53,
   "metadata": {
    "run_control": {
     "frozen": false,
     "read_only": false
    }
   },
   "outputs": [],
   "source": [
    "nfaMultiQ0 = md2mc('''\n",
    "NFA\n",
    "I0 : a | b | c -> A, B\n",
    "I0 : c -> F\n",
    "I1 : a | b -> A, B\n",
    "A  : c -> F\n",
    "B  : d -> F\n",
    "''')"
   ]
  },
  {
   "cell_type": "code",
   "execution_count": 54,
   "metadata": {
    "run_control": {
     "frozen": false,
     "read_only": false
    }
   },
   "outputs": [
    {
     "data": {
      "image/svg+xml": [
       "<?xml version=\"1.0\" encoding=\"UTF-8\" standalone=\"no\"?>\r\n",
       "<!DOCTYPE svg PUBLIC \"-//W3C//DTD SVG 1.1//EN\"\r\n",
       " \"http://www.w3.org/Graphics/SVG/1.1/DTD/svg11.dtd\">\r\n",
       "<!-- Generated by graphviz version 2.38.0 (20140413.2041)\r\n",
       " -->\r\n",
       "<!-- Title: %3 Pages: 1 -->\r\n",
       "<svg width=\"303pt\" height=\"356pt\"\r\n",
       " viewBox=\"0.00 0.00 303.40 356.49\" xmlns=\"http://www.w3.org/2000/svg\" xmlns:xlink=\"http://www.w3.org/1999/xlink\">\r\n",
       "<g id=\"graph0\" class=\"graph\" transform=\"scale(1 1) rotate(0) translate(4 352.489)\">\r\n",
       "<title>%3</title>\r\n",
       "<polygon fill=\"white\" stroke=\"none\" points=\"-4,4 -4,-352.489 299.397,-352.489 299.397,4 -4,4\"/>\r\n",
       "<!-- EMPTY -->\r\n",
       "<g id=\"node1\" class=\"node\"><title>EMPTY</title>\r\n",
       "</g>\r\n",
       "<!-- I0 -->\r\n",
       "<g id=\"node4\" class=\"node\"><title>I0</title>\r\n",
       "<ellipse fill=\"none\" stroke=\"black\" cx=\"109.198\" cy=\"-232.489\" rx=\"18.399\" ry=\"18.399\"/>\r\n",
       "<text text-anchor=\"middle\" x=\"109.198\" y=\"-228.789\" font-family=\"Times New Roman,serif\" font-size=\"14.00\">I0</text>\r\n",
       "</g>\r\n",
       "<!-- EMPTY&#45;&gt;I0 -->\r\n",
       "<g id=\"edge1\" class=\"edge\"><title>EMPTY&#45;&gt;I0</title>\r\n",
       "<path fill=\"none\" stroke=\"black\" d=\"M49.4917,-182.712C60.9911,-192.462 75.1139,-204.437 86.6256,-214.197\"/>\r\n",
       "<polygon fill=\"black\" stroke=\"black\" points=\"84.5808,-217.052 94.4716,-220.85 89.1078,-211.713 84.5808,-217.052\"/>\r\n",
       "</g>\r\n",
       "<!-- I1 -->\r\n",
       "<g id=\"node5\" class=\"node\"><title>I1</title>\r\n",
       "<ellipse fill=\"none\" stroke=\"black\" cx=\"109.198\" cy=\"-61.4889\" rx=\"18.399\" ry=\"18.399\"/>\r\n",
       "<text text-anchor=\"middle\" x=\"109.198\" y=\"-57.7889\" font-family=\"Times New Roman,serif\" font-size=\"14.00\">I1</text>\r\n",
       "</g>\r\n",
       "<!-- EMPTY&#45;&gt;I1 -->\r\n",
       "<g id=\"edge2\" class=\"edge\"><title>EMPTY&#45;&gt;I1</title>\r\n",
       "<path fill=\"none\" stroke=\"black\" d=\"M42.3379,-146.075C56.0126,-128.512 76.6189,-102.047 91.1332,-83.406\"/>\r\n",
       "<polygon fill=\"black\" stroke=\"black\" points=\"93.9444,-85.4925 97.3264,-75.452 88.4212,-81.192 93.9444,-85.4925\"/>\r\n",
       "</g>\r\n",
       "<!-- B -->\r\n",
       "<g id=\"node2\" class=\"node\"><title>B</title>\r\n",
       "<ellipse fill=\"none\" stroke=\"black\" cx=\"189.397\" cy=\"-251.489\" rx=\"18\" ry=\"18\"/>\r\n",
       "<text text-anchor=\"middle\" x=\"189.397\" y=\"-247.789\" font-family=\"Times New Roman,serif\" font-size=\"14.00\">B</text>\r\n",
       "</g>\r\n",
       "<!-- F -->\r\n",
       "<g id=\"node6\" class=\"node\"><title>F</title>\r\n",
       "<ellipse fill=\"none\" stroke=\"black\" cx=\"273.397\" cy=\"-251.489\" rx=\"18\" ry=\"18\"/>\r\n",
       "<ellipse fill=\"none\" stroke=\"black\" cx=\"273.397\" cy=\"-251.489\" rx=\"22\" ry=\"22\"/>\r\n",
       "<text text-anchor=\"middle\" x=\"273.397\" y=\"-247.789\" font-family=\"Times New Roman,serif\" font-size=\"14.00\">F</text>\r\n",
       "</g>\r\n",
       "<!-- B&#45;&gt;F -->\r\n",
       "<g id=\"edge15\" class=\"edge\"><title>B&#45;&gt;F</title>\r\n",
       "<path fill=\"none\" stroke=\"black\" d=\"M207.787,-251.489C217.505,-251.489 229.908,-251.489 241.244,-251.489\"/>\r\n",
       "<polygon fill=\"black\" stroke=\"black\" points=\"241.246,-254.989 251.246,-251.489 241.246,-247.989 241.246,-254.989\"/>\r\n",
       "<text text-anchor=\"middle\" x=\"229.397\" y=\"-255.289\" font-family=\"Times New Roman,serif\" font-size=\"14.00\">d</text>\r\n",
       "</g>\r\n",
       "<!-- A -->\r\n",
       "<g id=\"node3\" class=\"node\"><title>A</title>\r\n",
       "<ellipse fill=\"none\" stroke=\"black\" cx=\"189.397\" cy=\"-156.489\" rx=\"18\" ry=\"18\"/>\r\n",
       "<text text-anchor=\"middle\" x=\"189.397\" y=\"-152.789\" font-family=\"Times New Roman,serif\" font-size=\"14.00\">A</text>\r\n",
       "</g>\r\n",
       "<!-- A&#45;&gt;F -->\r\n",
       "<g id=\"edge14\" class=\"edge\"><title>A&#45;&gt;F</title>\r\n",
       "<path fill=\"none\" stroke=\"black\" d=\"M201.799,-169.698C214.621,-184.554 235.713,-208.99 251.51,-227.291\"/>\r\n",
       "<polygon fill=\"black\" stroke=\"black\" points=\"249.163,-229.929 258.347,-235.212 254.462,-225.355 249.163,-229.929\"/>\r\n",
       "<text text-anchor=\"middle\" x=\"229.397\" y=\"-207.289\" font-family=\"Times New Roman,serif\" font-size=\"14.00\">c</text>\r\n",
       "</g>\r\n",
       "<!-- I0&#45;&gt;B -->\r\n",
       "<g id=\"edge4\" class=\"edge\"><title>I0&#45;&gt;B</title>\r\n",
       "<path fill=\"none\" stroke=\"black\" d=\"M127.166,-236.612C137.277,-239.068 150.333,-242.24 161.789,-245.024\"/>\r\n",
       "<polygon fill=\"black\" stroke=\"black\" points=\"161.187,-248.479 171.731,-247.44 162.84,-241.677 161.187,-248.479\"/>\r\n",
       "<text text-anchor=\"middle\" x=\"149.397\" y=\"-246.289\" font-family=\"Times New Roman,serif\" font-size=\"14.00\">a</text>\r\n",
       "</g>\r\n",
       "<!-- I0&#45;&gt;B -->\r\n",
       "<g id=\"edge6\" class=\"edge\"><title>I0&#45;&gt;B</title>\r\n",
       "<path fill=\"none\" stroke=\"black\" d=\"M113.293,-250.536C117.349,-267.994 126.333,-293.517 145.397,-305.489 160.125,-314.739 171.974,-296.147 179.474,-278.308\"/>\r\n",
       "<polygon fill=\"black\" stroke=\"black\" points=\"182.863,-279.246 183.184,-268.656 176.329,-276.734 182.863,-279.246\"/>\r\n",
       "<text text-anchor=\"middle\" x=\"149.397\" y=\"-311.289\" font-family=\"Times New Roman,serif\" font-size=\"14.00\">b</text>\r\n",
       "</g>\r\n",
       "<!-- I0&#45;&gt;B -->\r\n",
       "<g id=\"edge8\" class=\"edge\"><title>I0&#45;&gt;B</title>\r\n",
       "<path fill=\"none\" stroke=\"black\" d=\"M121.874,-245.629C128.161,-251.707 136.454,-258.279 145.397,-261.489 151.127,-263.546 157.442,-263.363 163.426,-262.133\"/>\r\n",
       "<polygon fill=\"black\" stroke=\"black\" points=\"164.434,-265.485 173.024,-259.284 162.442,-258.774 164.434,-265.485\"/>\r\n",
       "<text text-anchor=\"middle\" x=\"149.397\" y=\"-266.289\" font-family=\"Times New Roman,serif\" font-size=\"14.00\">c</text>\r\n",
       "</g>\r\n",
       "<!-- I0&#45;&gt;A -->\r\n",
       "<g id=\"edge3\" class=\"edge\"><title>I0&#45;&gt;A</title>\r\n",
       "<path fill=\"none\" stroke=\"black\" d=\"M111.125,-214.285C113.343,-192.13 120.765,-155.567 145.397,-138.489 151.944,-133.95 159.813,-135.563 167.021,-139.268\"/>\r\n",
       "<polygon fill=\"black\" stroke=\"black\" points=\"165.334,-142.344 175.647,-144.774 169.101,-136.443 165.334,-142.344\"/>\r\n",
       "<text text-anchor=\"middle\" x=\"149.397\" y=\"-142.289\" font-family=\"Times New Roman,serif\" font-size=\"14.00\">a</text>\r\n",
       "</g>\r\n",
       "<!-- I0&#45;&gt;A -->\r\n",
       "<g id=\"edge5\" class=\"edge\"><title>I0&#45;&gt;A</title>\r\n",
       "<path fill=\"none\" stroke=\"black\" d=\"M123.136,-220.377C131.762,-212.26 143.324,-201.302 153.397,-191.489 158.525,-186.493 164.022,-181.042 169.105,-175.961\"/>\r\n",
       "<polygon fill=\"black\" stroke=\"black\" points=\"171.584,-178.432 176.164,-168.878 166.626,-173.49 171.584,-178.432\"/>\r\n",
       "<text text-anchor=\"middle\" x=\"149.397\" y=\"-201.289\" font-family=\"Times New Roman,serif\" font-size=\"14.00\">b</text>\r\n",
       "</g>\r\n",
       "<!-- I0&#45;&gt;A -->\r\n",
       "<g id=\"edge7\" class=\"edge\"><title>I0&#45;&gt;A</title>\r\n",
       "<path fill=\"none\" stroke=\"black\" d=\"M116.396,-215.598C122.081,-202.238 131.706,-183.979 145.397,-172.489 150.165,-168.487 156.03,-165.437 161.877,-163.131\"/>\r\n",
       "<polygon fill=\"black\" stroke=\"black\" points=\"163.128,-166.404 171.504,-159.916 160.911,-159.764 163.128,-166.404\"/>\r\n",
       "<text text-anchor=\"middle\" x=\"149.397\" y=\"-176.289\" font-family=\"Times New Roman,serif\" font-size=\"14.00\">c</text>\r\n",
       "</g>\r\n",
       "<!-- I0&#45;&gt;F -->\r\n",
       "<g id=\"edge9\" class=\"edge\"><title>I0&#45;&gt;F</title>\r\n",
       "<path fill=\"none\" stroke=\"black\" d=\"M111.125,-250.693C113.343,-272.848 120.765,-309.411 145.397,-326.489 182.292,-352.07 228.221,-307.43 253.503,-276.757\"/>\r\n",
       "<polygon fill=\"black\" stroke=\"black\" points=\"256.252,-278.924 259.765,-268.929 250.786,-274.551 256.252,-278.924\"/>\r\n",
       "<text text-anchor=\"middle\" x=\"189.397\" y=\"-337.289\" font-family=\"Times New Roman,serif\" font-size=\"14.00\">c</text>\r\n",
       "</g>\r\n",
       "<!-- I1&#45;&gt;B -->\r\n",
       "<g id=\"edge11\" class=\"edge\"><title>I1&#45;&gt;B</title>\r\n",
       "<path fill=\"none\" stroke=\"black\" d=\"M122.501,-74.2695C132.203,-85.0076 145.39,-101.175 153.397,-117.489 155.781,-122.347 172.128,-186.67 181.616,-224.399\"/>\r\n",
       "<polygon fill=\"black\" stroke=\"black\" points=\"178.262,-225.417 184.092,-234.264 185.052,-223.713 178.262,-225.417\"/>\r\n",
       "<text text-anchor=\"middle\" x=\"149.397\" y=\"-121.289\" font-family=\"Times New Roman,serif\" font-size=\"14.00\">a</text>\r\n",
       "</g>\r\n",
       "<!-- I1&#45;&gt;B -->\r\n",
       "<g id=\"edge13\" class=\"edge\"><title>I1&#45;&gt;B</title>\r\n",
       "<path fill=\"none\" stroke=\"black\" d=\"M126.994,-66.7984C136.193,-70.5682 146.992,-76.5682 153.397,-85.4889 179.223,-121.462 162.022,-140.209 171.397,-183.489 174.335,-197.054 178.03,-212.031 181.224,-224.468\"/>\r\n",
       "<polygon fill=\"black\" stroke=\"black\" points=\"177.858,-225.433 183.761,-234.231 184.633,-223.672 177.858,-225.433\"/>\r\n",
       "<text text-anchor=\"middle\" x=\"149.397\" y=\"-89.2889\" font-family=\"Times New Roman,serif\" font-size=\"14.00\">b</text>\r\n",
       "</g>\r\n",
       "<!-- I1&#45;&gt;A -->\r\n",
       "<g id=\"edge10\" class=\"edge\"><title>I1&#45;&gt;A</title>\r\n",
       "<path fill=\"none\" stroke=\"black\" d=\"M118.584,-45.7174C127.131,-31.7162 140.875,-14.8545 153.397,-24.4889 169.787,-37.0997 180.092,-93.8218 184.994,-128.679\"/>\r\n",
       "<polygon fill=\"black\" stroke=\"black\" points=\"181.543,-129.277 186.343,-138.722 188.481,-128.345 181.543,-129.277\"/>\r\n",
       "<text text-anchor=\"middle\" x=\"149.397\" y=\"-28.2889\" font-family=\"Times New Roman,serif\" font-size=\"14.00\">a</text>\r\n",
       "</g>\r\n",
       "<!-- I1&#45;&gt;A -->\r\n",
       "<g id=\"edge12\" class=\"edge\"><title>I1&#45;&gt;A</title>\r\n",
       "<path fill=\"none\" stroke=\"black\" d=\"M115.155,-44.0016C122.179,-22.2946 136.117,10.2845 153.397,-3.48895 172.622,-18.8132 182.135,-88.5571 186.075,-128.385\"/>\r\n",
       "<polygon fill=\"black\" stroke=\"black\" points=\"182.606,-128.889 187.021,-138.52 189.576,-128.238 182.606,-128.889\"/>\r\n",
       "<text text-anchor=\"middle\" x=\"149.397\" y=\"-7.28895\" font-family=\"Times New Roman,serif\" font-size=\"14.00\">b</text>\r\n",
       "</g>\r\n",
       "</g>\r\n",
       "</svg>\r\n"
      ],
      "text/plain": [
       "<graphviz.dot.Digraph at 0x1fb0089ed68>"
      ]
     },
     "execution_count": 54,
     "metadata": {},
     "output_type": "execute_result"
    }
   ],
   "source": [
    "dotObj_nfa(nfaMultiQ0)"
   ]
  },
  {
   "cell_type": "code",
   "execution_count": 55,
   "metadata": {
    "run_control": {
     "frozen": false,
     "read_only": false
    }
   },
   "outputs": [
    {
     "data": {
      "image/svg+xml": [
       "<?xml version=\"1.0\" encoding=\"UTF-8\" standalone=\"no\"?>\r\n",
       "<!DOCTYPE svg PUBLIC \"-//W3C//DTD SVG 1.1//EN\"\r\n",
       " \"http://www.w3.org/Graphics/SVG/1.1/DTD/svg11.dtd\">\r\n",
       "<!-- Generated by graphviz version 2.38.0 (20140413.2041)\r\n",
       " -->\r\n",
       "<!-- Title: %3 Pages: 1 -->\r\n",
       "<svg width=\"311pt\" height=\"238pt\"\r\n",
       " viewBox=\"0.00 0.00 311.40 238.40\" xmlns=\"http://www.w3.org/2000/svg\" xmlns:xlink=\"http://www.w3.org/1999/xlink\">\r\n",
       "<g id=\"graph0\" class=\"graph\" transform=\"scale(1 1) rotate(0) translate(4 234.396)\">\r\n",
       "<title>%3</title>\r\n",
       "<polygon fill=\"white\" stroke=\"none\" points=\"-4,4 -4,-234.396 307.397,-234.396 307.397,4 -4,4\"/>\r\n",
       "<!-- EMPTY -->\r\n",
       "<g id=\"node1\" class=\"node\"><title>EMPTY</title>\r\n",
       "</g>\r\n",
       "<!-- I0 -->\r\n",
       "<g id=\"node4\" class=\"node\"><title>I0</title>\r\n",
       "<ellipse fill=\"none\" stroke=\"black\" cx=\"109.198\" cy=\"-142.396\" rx=\"18.399\" ry=\"18.399\"/>\r\n",
       "<text text-anchor=\"middle\" x=\"109.198\" y=\"-138.696\" font-family=\"Times New Roman,serif\" font-size=\"14.00\">I0</text>\r\n",
       "</g>\r\n",
       "<!-- EMPTY&#45;&gt;I0 -->\r\n",
       "<g id=\"edge1\" class=\"edge\"><title>EMPTY&#45;&gt;I0</title>\r\n",
       "<path fill=\"none\" stroke=\"black\" d=\"M54.26,-118.184C63.5191,-122.341 73.9004,-127.001 83.0643,-131.114\"/>\r\n",
       "<polygon fill=\"black\" stroke=\"black\" points=\"81.8632,-134.411 92.4196,-135.314 84.7299,-128.025 81.8632,-134.411\"/>\r\n",
       "</g>\r\n",
       "<!-- I1 -->\r\n",
       "<g id=\"node5\" class=\"node\"><title>I1</title>\r\n",
       "<ellipse fill=\"none\" stroke=\"black\" cx=\"109.198\" cy=\"-55.3965\" rx=\"18.399\" ry=\"18.399\"/>\r\n",
       "<text text-anchor=\"middle\" x=\"109.198\" y=\"-51.6965\" font-family=\"Times New Roman,serif\" font-size=\"14.00\">I1</text>\r\n",
       "</g>\r\n",
       "<!-- EMPTY&#45;&gt;I1 -->\r\n",
       "<g id=\"edge2\" class=\"edge\"><title>EMPTY&#45;&gt;I1</title>\r\n",
       "<path fill=\"none\" stroke=\"black\" d=\"M54.26,-89.6972C64.0916,-83.445 75.1884,-76.3883 84.7495,-70.3082\"/>\r\n",
       "<polygon fill=\"black\" stroke=\"black\" points=\"86.7942,-73.1557 93.3543,-64.8361 83.0379,-67.2489 86.7942,-73.1557\"/>\r\n",
       "</g>\r\n",
       "<!-- B -->\r\n",
       "<g id=\"node2\" class=\"node\"><title>B</title>\r\n",
       "<ellipse fill=\"none\" stroke=\"black\" cx=\"197.397\" cy=\"-108.396\" rx=\"18\" ry=\"18\"/>\r\n",
       "<text text-anchor=\"middle\" x=\"197.397\" y=\"-104.696\" font-family=\"Times New Roman,serif\" font-size=\"14.00\">B</text>\r\n",
       "</g>\r\n",
       "<!-- F -->\r\n",
       "<g id=\"node6\" class=\"node\"><title>F</title>\r\n",
       "<ellipse fill=\"none\" stroke=\"black\" cx=\"281.397\" cy=\"-169.396\" rx=\"18\" ry=\"18\"/>\r\n",
       "<ellipse fill=\"none\" stroke=\"black\" cx=\"281.397\" cy=\"-169.396\" rx=\"22\" ry=\"22\"/>\r\n",
       "<text text-anchor=\"middle\" x=\"281.397\" y=\"-165.696\" font-family=\"Times New Roman,serif\" font-size=\"14.00\">F</text>\r\n",
       "</g>\r\n",
       "<!-- B&#45;&gt;F -->\r\n",
       "<g id=\"edge9\" class=\"edge\"><title>B&#45;&gt;F</title>\r\n",
       "<path fill=\"none\" stroke=\"black\" d=\"M212.307,-118.744C223.962,-127.414 240.902,-140.016 254.97,-150.481\"/>\r\n",
       "<polygon fill=\"black\" stroke=\"black\" points=\"253.172,-153.506 263.285,-156.667 257.35,-147.89 253.172,-153.506\"/>\r\n",
       "<text text-anchor=\"middle\" x=\"237.397\" y=\"-142.196\" font-family=\"Times New Roman,serif\" font-size=\"14.00\">d</text>\r\n",
       "</g>\r\n",
       "<!-- A -->\r\n",
       "<g id=\"node3\" class=\"node\"><title>A</title>\r\n",
       "<ellipse fill=\"none\" stroke=\"black\" cx=\"197.397\" cy=\"-169.396\" rx=\"18\" ry=\"18\"/>\r\n",
       "<text text-anchor=\"middle\" x=\"197.397\" y=\"-165.696\" font-family=\"Times New Roman,serif\" font-size=\"14.00\">A</text>\r\n",
       "</g>\r\n",
       "<!-- A&#45;&gt;F -->\r\n",
       "<g id=\"edge8\" class=\"edge\"><title>A&#45;&gt;F</title>\r\n",
       "<path fill=\"none\" stroke=\"black\" d=\"M215.787,-169.396C225.505,-169.396 237.908,-169.396 249.244,-169.396\"/>\r\n",
       "<polygon fill=\"black\" stroke=\"black\" points=\"249.246,-172.897 259.246,-169.396 249.246,-165.897 249.246,-172.897\"/>\r\n",
       "<text text-anchor=\"middle\" x=\"237.397\" y=\"-173.196\" font-family=\"Times New Roman,serif\" font-size=\"14.00\">c</text>\r\n",
       "</g>\r\n",
       "<!-- I0&#45;&gt;B -->\r\n",
       "<g id=\"edge4\" class=\"edge\"><title>I0&#45;&gt;B</title>\r\n",
       "<path fill=\"none\" stroke=\"black\" d=\"M119.975,-127.251C126.168,-119.12 134.967,-109.87 145.397,-105.396 152.878,-102.188 161.55,-101.665 169.598,-102.316\"/>\r\n",
       "<polygon fill=\"black\" stroke=\"black\" points=\"169.278,-105.805 179.665,-103.719 170.244,-98.8716 169.278,-105.805\"/>\r\n",
       "<text text-anchor=\"middle\" x=\"153.397\" y=\"-139.196\" font-family=\"Times New Roman,serif\" font-size=\"14.00\">a </text>\r\n",
       "<text text-anchor=\"middle\" x=\"153.397\" y=\"-124.196\" font-family=\"Times New Roman,serif\" font-size=\"14.00\"> b </text>\r\n",
       "<text text-anchor=\"middle\" x=\"153.397\" y=\"-109.196\" font-family=\"Times New Roman,serif\" font-size=\"14.00\"> c</text>\r\n",
       "</g>\r\n",
       "<!-- I0&#45;&gt;A -->\r\n",
       "<g id=\"edge3\" class=\"edge\"><title>I0&#45;&gt;A</title>\r\n",
       "<path fill=\"none\" stroke=\"black\" d=\"M126.625,-148.158C132.526,-150.185 139.243,-152.443 145.397,-154.396 153.348,-156.92 162.043,-159.532 169.964,-161.854\"/>\r\n",
       "<polygon fill=\"black\" stroke=\"black\" points=\"169.226,-165.284 179.805,-164.71 171.177,-158.562 169.226,-165.284\"/>\r\n",
       "<text text-anchor=\"middle\" x=\"153.397\" y=\"-192.196\" font-family=\"Times New Roman,serif\" font-size=\"14.00\">a </text>\r\n",
       "<text text-anchor=\"middle\" x=\"153.397\" y=\"-177.196\" font-family=\"Times New Roman,serif\" font-size=\"14.00\"> b </text>\r\n",
       "<text text-anchor=\"middle\" x=\"153.397\" y=\"-162.196\" font-family=\"Times New Roman,serif\" font-size=\"14.00\"> c</text>\r\n",
       "</g>\r\n",
       "<!-- I0&#45;&gt;F -->\r\n",
       "<g id=\"edge5\" class=\"edge\"><title>I0&#45;&gt;F</title>\r\n",
       "<path fill=\"none\" stroke=\"black\" d=\"M114.332,-160.012C119.009,-175.535 128.308,-197.217 145.397,-207.396 179.939,-227.973 226.089,-206.194 254.499,-188.139\"/>\r\n",
       "<polygon fill=\"black\" stroke=\"black\" points=\"256.659,-190.907 263.063,-182.467 252.794,-185.071 256.659,-190.907\"/>\r\n",
       "<text text-anchor=\"middle\" x=\"197.397\" y=\"-219.196\" font-family=\"Times New Roman,serif\" font-size=\"14.00\">c</text>\r\n",
       "</g>\r\n",
       "<!-- I1&#45;&gt;B -->\r\n",
       "<g id=\"edge7\" class=\"edge\"><title>I1&#45;&gt;B</title>\r\n",
       "<path fill=\"none\" stroke=\"black\" d=\"M117.088,-38.8413C126.288,-19.1618 143.513,9.4931 161.397,-3.39647 185.431,-20.7195 193.211,-55.2637 195.597,-80.0014\"/>\r\n",
       "<polygon fill=\"black\" stroke=\"black\" points=\"192.126,-80.5299 196.337,-90.2517 199.108,-80.0256 192.126,-80.5299\"/>\r\n",
       "<text text-anchor=\"middle\" x=\"153.397\" y=\"-22.1965\" font-family=\"Times New Roman,serif\" font-size=\"14.00\">a </text>\r\n",
       "<text text-anchor=\"middle\" x=\"153.397\" y=\"-7.19647\" font-family=\"Times New Roman,serif\" font-size=\"14.00\"> b</text>\r\n",
       "</g>\r\n",
       "<!-- I1&#45;&gt;A -->\r\n",
       "<g id=\"edge6\" class=\"edge\"><title>I1&#45;&gt;A</title>\r\n",
       "<path fill=\"none\" stroke=\"black\" d=\"M127.547,-55.5148C138.622,-56.5168 152.517,-59.6384 161.397,-68.3965 183.349,-90.0482 168.447,-106.573 179.397,-135.396 180.569,-138.481 181.931,-141.658 183.365,-144.773\"/>\r\n",
       "<polygon fill=\"black\" stroke=\"black\" points=\"180.23,-146.33 187.763,-153.78 186.521,-143.258 180.23,-146.33\"/>\r\n",
       "<text text-anchor=\"middle\" x=\"153.397\" y=\"-87.1965\" font-family=\"Times New Roman,serif\" font-size=\"14.00\">a </text>\r\n",
       "<text text-anchor=\"middle\" x=\"153.397\" y=\"-72.1965\" font-family=\"Times New Roman,serif\" font-size=\"14.00\"> b</text>\r\n",
       "</g>\r\n",
       "</g>\r\n",
       "</svg>\r\n"
      ],
      "text/plain": [
       "<graphviz.dot.Digraph at 0x1fb0089e240>"
      ]
     },
     "execution_count": 55,
     "metadata": {},
     "output_type": "execute_result"
    }
   ],
   "source": [
    "dotObj_nfa(nfaMultiQ0, FuseEdges=True)"
   ]
  },
  {
   "cell_type": "code",
   "execution_count": 56,
   "metadata": {
    "run_control": {
     "frozen": false,
     "read_only": false
    }
   },
   "outputs": [],
   "source": [
    "dfaMQ0 = nfa2dfa(nfaMultiQ0)"
   ]
  },
  {
   "cell_type": "code",
   "execution_count": 57,
   "metadata": {
    "run_control": {
     "frozen": false,
     "read_only": false
    }
   },
   "outputs": [
    {
     "data": {
      "image/svg+xml": [
       "<?xml version=\"1.0\" encoding=\"UTF-8\" standalone=\"no\"?>\r\n",
       "<!DOCTYPE svg PUBLIC \"-//W3C//DTD SVG 1.1//EN\"\r\n",
       " \"http://www.w3.org/Graphics/SVG/1.1/DTD/svg11.dtd\">\r\n",
       "<!-- Generated by graphviz version 2.38.0 (20140413.2041)\r\n",
       " -->\r\n",
       "<!-- Title: %3 Pages: 1 -->\r\n",
       "<svg width=\"377pt\" height=\"166pt\"\r\n",
       " viewBox=\"0.00 0.00 376.79 166.29\" xmlns=\"http://www.w3.org/2000/svg\" xmlns:xlink=\"http://www.w3.org/1999/xlink\">\r\n",
       "<g id=\"graph0\" class=\"graph\" transform=\"scale(1 1) rotate(0) translate(4 162.294)\">\r\n",
       "<title>%3</title>\r\n",
       "<polygon fill=\"white\" stroke=\"none\" points=\"-4,4 -4,-162.294 372.788,-162.294 372.788,4 -4,4\"/>\r\n",
       "<!-- EMPTY -->\r\n",
       "<g id=\"node1\" class=\"node\"><title>EMPTY</title>\r\n",
       "</g>\r\n",
       "<!-- I0_I1 -->\r\n",
       "<g id=\"node3\" class=\"node\"><title>I0_I1</title>\r\n",
       "<ellipse fill=\"none\" stroke=\"black\" cx=\"121.547\" cy=\"-92.3466\" rx=\"30.5947\" ry=\"30.5947\"/>\r\n",
       "<text text-anchor=\"middle\" x=\"121.547\" y=\"-88.6466\" font-family=\"Times New Roman,serif\" font-size=\"14.00\">I0_I1</text>\r\n",
       "</g>\r\n",
       "<!-- EMPTY&#45;&gt;I0_I1 -->\r\n",
       "<g id=\"edge1\" class=\"edge\"><title>EMPTY&#45;&gt;I0_I1</title>\r\n",
       "<path fill=\"none\" stroke=\"black\" d=\"M54.2728,-92.3466C62.4925,-92.3466 71.7547,-92.3466 80.6913,-92.3466\"/>\r\n",
       "<polygon fill=\"black\" stroke=\"black\" points=\"80.9506,-95.8467 90.9506,-92.3466 80.9505,-88.8467 80.9506,-95.8467\"/>\r\n",
       "</g>\r\n",
       "<!-- A_B -->\r\n",
       "<g id=\"node2\" class=\"node\"><title>A_B</title>\r\n",
       "<ellipse fill=\"none\" stroke=\"black\" cx=\"238.441\" cy=\"-130.347\" rx=\"27.8951\" ry=\"27.8951\"/>\r\n",
       "<text text-anchor=\"middle\" x=\"238.441\" y=\"-126.647\" font-family=\"Times New Roman,serif\" font-size=\"14.00\">A_B</text>\r\n",
       "</g>\r\n",
       "<!-- F -->\r\n",
       "<g id=\"node5\" class=\"node\"><title>F</title>\r\n",
       "<ellipse fill=\"none\" stroke=\"black\" cx=\"346.788\" cy=\"-86.3466\" rx=\"18\" ry=\"18\"/>\r\n",
       "<ellipse fill=\"none\" stroke=\"black\" cx=\"346.788\" cy=\"-86.3466\" rx=\"22\" ry=\"22\"/>\r\n",
       "<text text-anchor=\"middle\" x=\"346.788\" y=\"-82.6466\" font-family=\"Times New Roman,serif\" font-size=\"14.00\">F</text>\r\n",
       "</g>\r\n",
       "<!-- A_B&#45;&gt;F -->\r\n",
       "<g id=\"edge5\" class=\"edge\"><title>A_B&#45;&gt;F</title>\r\n",
       "<path fill=\"none\" stroke=\"black\" d=\"M266.687,-130.357C279.369,-129.462 294.362,-127.077 306.788,-121.347 312.968,-118.496 318.867,-114.323 324.121,-109.843\"/>\r\n",
       "<polygon fill=\"black\" stroke=\"black\" points=\"326.862,-112.073 331.794,-102.697 322.091,-106.951 326.862,-112.073\"/>\r\n",
       "<text text-anchor=\"middle\" x=\"302.788\" y=\"-127.147\" font-family=\"Times New Roman,serif\" font-size=\"14.00\">c</text>\r\n",
       "</g>\r\n",
       "<!-- A_B&#45;&gt;F -->\r\n",
       "<g id=\"edge6\" class=\"edge\"><title>A_B&#45;&gt;F</title>\r\n",
       "<path fill=\"none\" stroke=\"black\" d=\"M263.709,-118.139C274.351,-112.984 287.065,-107.09 298.788,-102.347 304.181,-100.164 309.998,-98.0205 315.64,-96.0465\"/>\r\n",
       "<polygon fill=\"black\" stroke=\"black\" points=\"317.134,-99.2355 325.477,-92.7053 314.883,-92.6073 317.134,-99.2355\"/>\r\n",
       "<text text-anchor=\"middle\" x=\"302.788\" y=\"-106.147\" font-family=\"Times New Roman,serif\" font-size=\"14.00\">d</text>\r\n",
       "</g>\r\n",
       "<!-- I0_I1&#45;&gt;A_B -->\r\n",
       "<g id=\"edge2\" class=\"edge\"><title>I0_I1&#45;&gt;A_B</title>\r\n",
       "<path fill=\"none\" stroke=\"black\" d=\"M150.693,-101.864C157.069,-104.007 163.812,-106.263 170.095,-108.347 180.446,-111.779 191.706,-115.473 202.003,-118.835\"/>\r\n",
       "<polygon fill=\"black\" stroke=\"black\" points=\"200.927,-122.166 211.519,-121.938 203.097,-115.51 200.927,-122.166\"/>\r\n",
       "<text text-anchor=\"middle\" x=\"174.095\" y=\"-114.147\" font-family=\"Times New Roman,serif\" font-size=\"14.00\">a</text>\r\n",
       "</g>\r\n",
       "<!-- I0_I1&#45;&gt;A_B -->\r\n",
       "<g id=\"edge3\" class=\"edge\"><title>I0_I1&#45;&gt;A_B</title>\r\n",
       "<path fill=\"none\" stroke=\"black\" d=\"M151.859,-86.9343C160.468,-86.3616 169.797,-86.759 178.095,-89.3466 189.17,-92.8003 200.001,-99.1235 209.315,-105.787\"/>\r\n",
       "<polygon fill=\"black\" stroke=\"black\" points=\"207.324,-108.67 217.405,-111.93 211.557,-103.095 207.324,-108.67\"/>\r\n",
       "<text text-anchor=\"middle\" x=\"174.095\" y=\"-93.1466\" font-family=\"Times New Roman,serif\" font-size=\"14.00\">b</text>\r\n",
       "</g>\r\n",
       "<!-- A_B_F -->\r\n",
       "<g id=\"node4\" class=\"node\"><title>A_B_F</title>\r\n",
       "<ellipse fill=\"none\" stroke=\"black\" cx=\"238.441\" cy=\"-42.3466\" rx=\"38.2082\" ry=\"38.2082\"/>\r\n",
       "<ellipse fill=\"none\" stroke=\"black\" cx=\"238.441\" cy=\"-42.3466\" rx=\"42.1937\" ry=\"42.1937\"/>\r\n",
       "<text text-anchor=\"middle\" x=\"238.441\" y=\"-38.6466\" font-family=\"Times New Roman,serif\" font-size=\"14.00\">A_B_F</text>\r\n",
       "</g>\r\n",
       "<!-- I0_I1&#45;&gt;A_B_F -->\r\n",
       "<g id=\"edge4\" class=\"edge\"><title>I0_I1&#45;&gt;A_B_F</title>\r\n",
       "<path fill=\"none\" stroke=\"black\" d=\"M148.981,-78.4215C155.796,-74.9925 163.165,-71.4241 170.095,-68.3466 176.174,-65.6465 182.628,-62.9484 189.039,-60.3675\"/>\r\n",
       "<polygon fill=\"black\" stroke=\"black\" points=\"190.342,-63.6161 198.354,-56.6835 187.768,-57.1068 190.342,-63.6161\"/>\r\n",
       "<text text-anchor=\"middle\" x=\"174.095\" y=\"-72.1466\" font-family=\"Times New Roman,serif\" font-size=\"14.00\">c</text>\r\n",
       "</g>\r\n",
       "<!-- A_B_F&#45;&gt;F -->\r\n",
       "<g id=\"edge7\" class=\"edge\"><title>A_B_F&#45;&gt;F</title>\r\n",
       "<path fill=\"none\" stroke=\"black\" d=\"M277.835,-58.2316C290.663,-63.5394 304.739,-69.363 316.736,-74.3266\"/>\r\n",
       "<polygon fill=\"black\" stroke=\"black\" points=\"315.673,-77.6745 326.251,-78.2635 318.349,-71.2062 315.673,-77.6745\"/>\r\n",
       "<text text-anchor=\"middle\" x=\"302.788\" y=\"-73.1466\" font-family=\"Times New Roman,serif\" font-size=\"14.00\">c</text>\r\n",
       "</g>\r\n",
       "<!-- A_B_F&#45;&gt;F -->\r\n",
       "<g id=\"edge8\" class=\"edge\"><title>A_B_F&#45;&gt;F</title>\r\n",
       "<path fill=\"none\" stroke=\"black\" d=\"M280.846,-40.8163C289.704,-41.7368 298.794,-43.6829 306.788,-47.3466 313.849,-50.5831 320.352,-55.6848 325.941,-61.1446\"/>\r\n",
       "<polygon fill=\"black\" stroke=\"black\" points=\"323.581,-63.7458 332.962,-68.6701 328.699,-58.9705 323.581,-63.7458\"/>\r\n",
       "<text text-anchor=\"middle\" x=\"302.788\" y=\"-51.1466\" font-family=\"Times New Roman,serif\" font-size=\"14.00\">d</text>\r\n",
       "</g>\r\n",
       "</g>\r\n",
       "</svg>\r\n"
      ],
      "text/plain": [
       "<graphviz.dot.Digraph at 0x1fb0089e160>"
      ]
     },
     "execution_count": 57,
     "metadata": {},
     "output_type": "execute_result"
    }
   ],
   "source": [
    "dotObj_dfa(dfaMQ0)"
   ]
  },
  {
   "cell_type": "code",
   "execution_count": 58,
   "metadata": {
    "run_control": {
     "frozen": false,
     "read_only": false
    }
   },
   "outputs": [
    {
     "data": {
      "image/svg+xml": [
       "<?xml version=\"1.0\" encoding=\"UTF-8\" standalone=\"no\"?>\r\n",
       "<!DOCTYPE svg PUBLIC \"-//W3C//DTD SVG 1.1//EN\"\r\n",
       " \"http://www.w3.org/Graphics/SVG/1.1/DTD/svg11.dtd\">\r\n",
       "<!-- Generated by graphviz version 2.38.0 (20140413.2041)\r\n",
       " -->\r\n",
       "<!-- Title: %3 Pages: 1 -->\r\n",
       "<svg width=\"385pt\" height=\"166pt\"\r\n",
       " viewBox=\"0.00 0.00 384.79 166.29\" xmlns=\"http://www.w3.org/2000/svg\" xmlns:xlink=\"http://www.w3.org/1999/xlink\">\r\n",
       "<g id=\"graph0\" class=\"graph\" transform=\"scale(1 1) rotate(0) translate(4 162.294)\">\r\n",
       "<title>%3</title>\r\n",
       "<polygon fill=\"white\" stroke=\"none\" points=\"-4,4 -4,-162.294 380.788,-162.294 380.788,4 -4,4\"/>\r\n",
       "<!-- EMPTY -->\r\n",
       "<g id=\"node1\" class=\"node\"><title>EMPTY</title>\r\n",
       "</g>\r\n",
       "<!-- I0_I1 -->\r\n",
       "<g id=\"node3\" class=\"node\"><title>I0_I1</title>\r\n",
       "<ellipse fill=\"none\" stroke=\"black\" cx=\"121.547\" cy=\"-92.3466\" rx=\"30.5947\" ry=\"30.5947\"/>\r\n",
       "<text text-anchor=\"middle\" x=\"121.547\" y=\"-88.6466\" font-family=\"Times New Roman,serif\" font-size=\"14.00\">I0_I1</text>\r\n",
       "</g>\r\n",
       "<!-- EMPTY&#45;&gt;I0_I1 -->\r\n",
       "<g id=\"edge1\" class=\"edge\"><title>EMPTY&#45;&gt;I0_I1</title>\r\n",
       "<path fill=\"none\" stroke=\"black\" d=\"M54.2728,-92.3466C62.4925,-92.3466 71.7547,-92.3466 80.6913,-92.3466\"/>\r\n",
       "<polygon fill=\"black\" stroke=\"black\" points=\"80.9506,-95.8467 90.9506,-92.3466 80.9505,-88.8467 80.9506,-95.8467\"/>\r\n",
       "</g>\r\n",
       "<!-- A_B -->\r\n",
       "<g id=\"node2\" class=\"node\"><title>A_B</title>\r\n",
       "<ellipse fill=\"none\" stroke=\"black\" cx=\"242.441\" cy=\"-130.347\" rx=\"27.8951\" ry=\"27.8951\"/>\r\n",
       "<text text-anchor=\"middle\" x=\"242.441\" y=\"-126.647\" font-family=\"Times New Roman,serif\" font-size=\"14.00\">A_B</text>\r\n",
       "</g>\r\n",
       "<!-- F -->\r\n",
       "<g id=\"node5\" class=\"node\"><title>F</title>\r\n",
       "<ellipse fill=\"none\" stroke=\"black\" cx=\"354.788\" cy=\"-90.3466\" rx=\"18\" ry=\"18\"/>\r\n",
       "<ellipse fill=\"none\" stroke=\"black\" cx=\"354.788\" cy=\"-90.3466\" rx=\"22\" ry=\"22\"/>\r\n",
       "<text text-anchor=\"middle\" x=\"354.788\" y=\"-86.6466\" font-family=\"Times New Roman,serif\" font-size=\"14.00\">F</text>\r\n",
       "</g>\r\n",
       "<!-- A_B&#45;&gt;F -->\r\n",
       "<g id=\"edge4\" class=\"edge\"><title>A_B&#45;&gt;F</title>\r\n",
       "<path fill=\"none\" stroke=\"black\" d=\"M269.034,-121.069C285.533,-115.089 307.042,-107.292 324.263,-101.049\"/>\r\n",
       "<polygon fill=\"black\" stroke=\"black\" points=\"325.628,-104.277 333.837,-97.5787 323.243,-97.6962 325.628,-104.277\"/>\r\n",
       "<text text-anchor=\"middle\" x=\"308.788\" y=\"-126.147\" font-family=\"Times New Roman,serif\" font-size=\"14.00\">c </text>\r\n",
       "<text text-anchor=\"middle\" x=\"308.788\" y=\"-111.147\" font-family=\"Times New Roman,serif\" font-size=\"14.00\"> d</text>\r\n",
       "</g>\r\n",
       "<!-- I0_I1&#45;&gt;A_B -->\r\n",
       "<g id=\"edge2\" class=\"edge\"><title>I0_I1&#45;&gt;A_B</title>\r\n",
       "<path fill=\"none\" stroke=\"black\" d=\"M151.025,-101.449C167.45,-106.698 188.25,-113.346 205.758,-118.942\"/>\r\n",
       "<polygon fill=\"black\" stroke=\"black\" points=\"205.037,-122.386 215.628,-122.096 207.168,-115.718 205.037,-122.386\"/>\r\n",
       "<text text-anchor=\"middle\" x=\"176.095\" y=\"-130.147\" font-family=\"Times New Roman,serif\" font-size=\"14.00\">a </text>\r\n",
       "<text text-anchor=\"middle\" x=\"176.095\" y=\"-115.147\" font-family=\"Times New Roman,serif\" font-size=\"14.00\"> b</text>\r\n",
       "</g>\r\n",
       "<!-- A_B_F -->\r\n",
       "<g id=\"node4\" class=\"node\"><title>A_B_F</title>\r\n",
       "<ellipse fill=\"none\" stroke=\"black\" cx=\"242.441\" cy=\"-42.3466\" rx=\"38.2082\" ry=\"38.2082\"/>\r\n",
       "<ellipse fill=\"none\" stroke=\"black\" cx=\"242.441\" cy=\"-42.3466\" rx=\"42.1937\" ry=\"42.1937\"/>\r\n",
       "<text text-anchor=\"middle\" x=\"242.441\" y=\"-38.6466\" font-family=\"Times New Roman,serif\" font-size=\"14.00\">A_B_F</text>\r\n",
       "</g>\r\n",
       "<!-- I0_I1&#45;&gt;A_B_F -->\r\n",
       "<g id=\"edge3\" class=\"edge\"><title>I0_I1&#45;&gt;A_B_F</title>\r\n",
       "<path fill=\"none\" stroke=\"black\" d=\"M150.123,-80.7499C163.065,-75.307 178.87,-68.6606 193.669,-62.4369\"/>\r\n",
       "<polygon fill=\"black\" stroke=\"black\" points=\"195.348,-65.5279 203.209,-58.4249 192.634,-59.0752 195.348,-65.5279\"/>\r\n",
       "<text text-anchor=\"middle\" x=\"176.095\" y=\"-75.1466\" font-family=\"Times New Roman,serif\" font-size=\"14.00\">c</text>\r\n",
       "</g>\r\n",
       "<!-- A_B_F&#45;&gt;F -->\r\n",
       "<g id=\"edge5\" class=\"edge\"><title>A_B_F&#45;&gt;F</title>\r\n",
       "<path fill=\"none\" stroke=\"black\" d=\"M282.15,-57.5284C292.79,-61.8507 304.287,-66.661 314.788,-71.3466 318.296,-72.9118 321.953,-74.6075 325.563,-76.3195\"/>\r\n",
       "<polygon fill=\"black\" stroke=\"black\" points=\"324.338,-79.6148 334.865,-80.811 327.382,-73.3111 324.338,-79.6148\"/>\r\n",
       "<text text-anchor=\"middle\" x=\"308.788\" y=\"-90.1466\" font-family=\"Times New Roman,serif\" font-size=\"14.00\">c </text>\r\n",
       "<text text-anchor=\"middle\" x=\"308.788\" y=\"-75.1466\" font-family=\"Times New Roman,serif\" font-size=\"14.00\"> d</text>\r\n",
       "</g>\r\n",
       "</g>\r\n",
       "</svg>\r\n"
      ],
      "text/plain": [
       "<graphviz.dot.Digraph at 0x1fb0089e630>"
      ]
     },
     "execution_count": 58,
     "metadata": {},
     "output_type": "execute_result"
    }
   ],
   "source": [
    "dotObj_dfa(dfaMQ0, FuseEdges=True)"
   ]
  },
  {
   "cell_type": "code",
   "execution_count": 59,
   "metadata": {
    "run_control": {
     "frozen": false,
     "read_only": false
    }
   },
   "outputs": [
    {
     "data": {
      "image/svg+xml": [
       "<?xml version=\"1.0\" encoding=\"UTF-8\" standalone=\"no\"?>\r\n",
       "<!DOCTYPE svg PUBLIC \"-//W3C//DTD SVG 1.1//EN\"\r\n",
       " \"http://www.w3.org/Graphics/SVG/1.1/DTD/svg11.dtd\">\r\n",
       "<!-- Generated by graphviz version 2.38.0 (20140413.2041)\r\n",
       " -->\r\n",
       "<!-- Title: %3 Pages: 1 -->\r\n",
       "<svg width=\"338pt\" height=\"354pt\"\r\n",
       " viewBox=\"0.00 0.00 338.49 354.21\" xmlns=\"http://www.w3.org/2000/svg\" xmlns:xlink=\"http://www.w3.org/1999/xlink\">\r\n",
       "<g id=\"graph0\" class=\"graph\" transform=\"scale(1 1) rotate(0) translate(4 350.208)\">\r\n",
       "<title>%3</title>\r\n",
       "<polygon fill=\"white\" stroke=\"none\" points=\"-4,4 -4,-350.208 334.488,-350.208 334.488,4 -4,4\"/>\r\n",
       "<!-- EMPTY -->\r\n",
       "<g id=\"node1\" class=\"node\"><title>EMPTY</title>\r\n",
       "</g>\r\n",
       "<!-- St1 -->\r\n",
       "<g id=\"node2\" class=\"node\"><title>St1</title>\r\n",
       "<ellipse fill=\"none\" stroke=\"black\" cx=\"210.244\" cy=\"-99.4601\" rx=\"22.9987\" ry=\"22.9987\"/>\r\n",
       "<text text-anchor=\"middle\" x=\"210.244\" y=\"-95.7601\" font-family=\"Times New Roman,serif\" font-size=\"14.00\">St1</text>\r\n",
       "</g>\r\n",
       "<!-- EMPTY&#45;&gt;St1 -->\r\n",
       "<g id=\"edge1\" class=\"edge\"><title>EMPTY&#45;&gt;St1</title>\r\n",
       "<path fill=\"none\" stroke=\"black\" d=\"M54.1643,-11.2909C85.4876,-1.01267 137.692,9.81924 169.496,-17.4601 184.654,-30.4614 194.527,-50.5774 200.642,-67.6311\"/>\r\n",
       "<polygon fill=\"black\" stroke=\"black\" points=\"197.358,-68.8457 203.82,-77.2413 204.004,-66.648 197.358,-68.8457\"/>\r\n",
       "</g>\r\n",
       "<!-- St0 -->\r\n",
       "<g id=\"node3\" class=\"node\"><title>St0</title>\r\n",
       "<ellipse fill=\"none\" stroke=\"black\" cx=\"120.748\" cy=\"-153.46\" rx=\"22.9987\" ry=\"22.9987\"/>\r\n",
       "<text text-anchor=\"middle\" x=\"120.748\" y=\"-149.76\" font-family=\"Times New Roman,serif\" font-size=\"14.00\">St0</text>\r\n",
       "</g>\r\n",
       "<!-- EMPTY&#45;&gt;St0 -->\r\n",
       "<g id=\"edge2\" class=\"edge\"><title>EMPTY&#45;&gt;St0</title>\r\n",
       "<path fill=\"none\" stroke=\"black\" d=\"M40.5648,-39.5374C56.2618,-62.121 83.2479,-100.947 101.293,-126.908\"/>\r\n",
       "<polygon fill=\"black\" stroke=\"black\" points=\"98.4591,-128.964 107.041,-135.178 104.207,-124.969 98.4591,-128.964\"/>\r\n",
       "</g>\r\n",
       "<!-- St4 -->\r\n",
       "<g id=\"node6\" class=\"node\"><title>St4</title>\r\n",
       "<ellipse fill=\"none\" stroke=\"black\" cx=\"303.74\" cy=\"-244.46\" rx=\"22.9609\" ry=\"22.9609\"/>\r\n",
       "<ellipse fill=\"none\" stroke=\"black\" cx=\"303.74\" cy=\"-244.46\" rx=\"26.9983\" ry=\"26.9983\"/>\r\n",
       "<text text-anchor=\"middle\" x=\"303.74\" y=\"-240.76\" font-family=\"Times New Roman,serif\" font-size=\"14.00\">St4</text>\r\n",
       "</g>\r\n",
       "<!-- St1&#45;&gt;St4 -->\r\n",
       "<g id=\"edge7\" class=\"edge\"><title>St1&#45;&gt;St4</title>\r\n",
       "<path fill=\"none\" stroke=\"black\" d=\"M223.205,-118.416C238.482,-142.626 265.115,-184.834 283.319,-213.682\"/>\r\n",
       "<polygon fill=\"black\" stroke=\"black\" points=\"280.379,-215.582 288.675,-222.171 286.299,-211.846 280.379,-215.582\"/>\r\n",
       "<text text-anchor=\"middle\" x=\"254.992\" y=\"-176.26\" font-family=\"Times New Roman,serif\" font-size=\"14.00\">c</text>\r\n",
       "</g>\r\n",
       "<!-- St0&#45;&gt;St1 -->\r\n",
       "<g id=\"edge3\" class=\"edge\"><title>St0&#45;&gt;St1</title>\r\n",
       "<path fill=\"none\" stroke=\"black\" d=\"M142.297,-145.316C150.946,-141.554 160.962,-136.749 169.496,-131.46 174.61,-128.291 179.807,-124.552 184.684,-120.768\"/>\r\n",
       "<polygon fill=\"black\" stroke=\"black\" points=\"186.931,-123.452 192.518,-114.45 182.537,-118.003 186.931,-123.452\"/>\r\n",
       "<text text-anchor=\"middle\" x=\"165.496\" y=\"-140.26\" font-family=\"Times New Roman,serif\" font-size=\"14.00\">c</text>\r\n",
       "</g>\r\n",
       "<!-- St0&#45;&gt;St1 -->\r\n",
       "<g id=\"edge5\" class=\"edge\"><title>St0&#45;&gt;St1</title>\r\n",
       "<path fill=\"none\" stroke=\"black\" d=\"M135.164,-135.748C142.19,-127.584 151.422,-118.408 161.496,-112.46 166.397,-109.566 171.959,-107.3 177.512,-105.529\"/>\r\n",
       "<polygon fill=\"black\" stroke=\"black\" points=\"178.623,-108.854 187.352,-102.85 176.784,-102.1 178.623,-108.854\"/>\r\n",
       "<text text-anchor=\"middle\" x=\"165.496\" y=\"-116.26\" font-family=\"Times New Roman,serif\" font-size=\"14.00\">d</text>\r\n",
       "</g>\r\n",
       "<!-- St2 -->\r\n",
       "<g id=\"node5\" class=\"node\"><title>St2</title>\r\n",
       "<ellipse fill=\"none\" stroke=\"black\" cx=\"210.244\" cy=\"-244.46\" rx=\"22.9987\" ry=\"22.9987\"/>\r\n",
       "<text text-anchor=\"middle\" x=\"210.244\" y=\"-240.76\" font-family=\"Times New Roman,serif\" font-size=\"14.00\">St2</text>\r\n",
       "</g>\r\n",
       "<!-- St0&#45;&gt;St2 -->\r\n",
       "<g id=\"edge4\" class=\"edge\"><title>St0&#45;&gt;St2</title>\r\n",
       "<path fill=\"none\" stroke=\"black\" d=\"M133.647,-172.208C140.999,-183.083 151.01,-196.711 161.496,-207.46 167.918,-214.042 175.542,-220.457 182.792,-226.045\"/>\r\n",
       "<polygon fill=\"black\" stroke=\"black\" points=\"180.926,-229.02 191.036,-232.188 185.108,-223.407 180.926,-229.02\"/>\r\n",
       "<text text-anchor=\"middle\" x=\"165.496\" y=\"-219.26\" font-family=\"Times New Roman,serif\" font-size=\"14.00\">c</text>\r\n",
       "</g>\r\n",
       "<!-- St0&#45;&gt;St2 -->\r\n",
       "<g id=\"edge6\" class=\"edge\"><title>St0&#45;&gt;St2</title>\r\n",
       "<path fill=\"none\" stroke=\"black\" d=\"M140.53,-165.158C149.809,-171.433 160.842,-179.672 169.496,-188.46 177.822,-196.915 185.683,-207.26 192.181,-216.748\"/>\r\n",
       "<polygon fill=\"black\" stroke=\"black\" points=\"189.3,-218.737 197.739,-225.142 195.136,-214.872 189.3,-218.737\"/>\r\n",
       "<text text-anchor=\"middle\" x=\"165.496\" y=\"-192.26\" font-family=\"Times New Roman,serif\" font-size=\"14.00\">d</text>\r\n",
       "</g>\r\n",
       "<!-- St3 -->\r\n",
       "<g id=\"node4\" class=\"node\"><title>St3</title>\r\n",
       "<ellipse fill=\"none\" stroke=\"black\" cx=\"27\" cy=\"-191.46\" rx=\"22.9987\" ry=\"22.9987\"/>\r\n",
       "<text text-anchor=\"middle\" x=\"27\" y=\"-187.76\" font-family=\"Times New Roman,serif\" font-size=\"14.00\">St3</text>\r\n",
       "</g>\r\n",
       "<!-- St3&#45;&gt;St1 -->\r\n",
       "<g id=\"edge10\" class=\"edge\"><title>St3&#45;&gt;St1</title>\r\n",
       "<path fill=\"none\" stroke=\"black\" d=\"M37.3034,-170.822C48.272,-149.517 68.7827,-117.83 98,-106.46 123.376,-96.5846 154.466,-95.4507 177.321,-96.4321\"/>\r\n",
       "<polygon fill=\"black\" stroke=\"black\" points=\"177.317,-99.9378 187.505,-97.0312 177.728,-92.9499 177.317,-99.9378\"/>\r\n",
       "<text text-anchor=\"middle\" x=\"120.748\" y=\"-110.26\" font-family=\"Times New Roman,serif\" font-size=\"14.00\">a</text>\r\n",
       "</g>\r\n",
       "<!-- St3&#45;&gt;St1 -->\r\n",
       "<g id=\"edge14\" class=\"edge\"><title>St3&#45;&gt;St1</title>\r\n",
       "<path fill=\"none\" stroke=\"black\" d=\"M33.9031,-169.659C42.68,-142.22 62.1261,-96.5 98,-78.4601 123.966,-65.4028 157.052,-74.4372 180.369,-84.3981\"/>\r\n",
       "<polygon fill=\"black\" stroke=\"black\" points=\"179.164,-87.6954 189.714,-88.6621 182.069,-81.3269 179.164,-87.6954\"/>\r\n",
       "<text text-anchor=\"middle\" x=\"120.748\" y=\"-82.2601\" font-family=\"Times New Roman,serif\" font-size=\"14.00\">b</text>\r\n",
       "</g>\r\n",
       "<!-- St3&#45;&gt;St0 -->\r\n",
       "<g id=\"edge11\" class=\"edge\"><title>St3&#45;&gt;St0</title>\r\n",
       "<path fill=\"none\" stroke=\"black\" d=\"M42.5695,-174.801C50.4226,-167.074 60.7911,-158.68 72,-154.46 76.9177,-152.609 82.3268,-151.613 87.6827,-151.162\"/>\r\n",
       "<polygon fill=\"black\" stroke=\"black\" points=\"87.8727,-154.658 97.7732,-150.886 87.6811,-147.661 87.8727,-154.658\"/>\r\n",
       "<text text-anchor=\"middle\" x=\"76\" y=\"-158.26\" font-family=\"Times New Roman,serif\" font-size=\"14.00\">a</text>\r\n",
       "</g>\r\n",
       "<!-- St3&#45;&gt;St0 -->\r\n",
       "<g id=\"edge15\" class=\"edge\"><title>St3&#45;&gt;St0</title>\r\n",
       "<path fill=\"none\" stroke=\"black\" d=\"M37.3109,-171.085C44.6453,-157.702 56.2649,-141.274 72,-133.46 78.8623,-130.053 86.4491,-131.132 93.517,-134.089\"/>\r\n",
       "<polygon fill=\"black\" stroke=\"black\" points=\"92.2519,-137.382 102.717,-139.038 95.5685,-131.218 92.2519,-137.382\"/>\r\n",
       "<text text-anchor=\"middle\" x=\"76\" y=\"-137.26\" font-family=\"Times New Roman,serif\" font-size=\"14.00\">b</text>\r\n",
       "</g>\r\n",
       "<!-- St3&#45;&gt;St0 -->\r\n",
       "<g id=\"edge18\" class=\"edge\"><title>St3&#45;&gt;St0</title>\r\n",
       "<path fill=\"none\" stroke=\"black\" d=\"M46.3928,-203.802C56.6163,-209.038 69.3792,-212.83 80,-207.46 90.5784,-202.111 99.0302,-192.474 105.373,-182.806\"/>\r\n",
       "<polygon fill=\"black\" stroke=\"black\" points=\"108.485,-184.421 110.607,-174.041 102.475,-180.833 108.485,-184.421\"/>\r\n",
       "<text text-anchor=\"middle\" x=\"76\" y=\"-214.26\" font-family=\"Times New Roman,serif\" font-size=\"14.00\">c</text>\r\n",
       "</g>\r\n",
       "<!-- St3&#45;&gt;St0 -->\r\n",
       "<g id=\"edge21\" class=\"edge\"><title>St3&#45;&gt;St0</title>\r\n",
       "<path fill=\"none\" stroke=\"black\" d=\"M48.3619,-183.027C60.5965,-177.959 76.381,-171.422 89.9952,-165.783\"/>\r\n",
       "<polygon fill=\"black\" stroke=\"black\" points=\"91.5434,-168.93 99.443,-161.87 88.8648,-162.463 91.5434,-168.93\"/>\r\n",
       "<text text-anchor=\"middle\" x=\"76\" y=\"-176.26\" font-family=\"Times New Roman,serif\" font-size=\"14.00\">d</text>\r\n",
       "</g>\r\n",
       "<!-- St3&#45;&gt;St3 -->\r\n",
       "<g id=\"edge12\" class=\"edge\"><title>St3&#45;&gt;St3</title>\r\n",
       "<path fill=\"none\" stroke=\"black\" d=\"M24.7698,-214.499C24.616,-224.084 25.3594,-232.208 27,-232.208 27.9998,-232.208 28.6663,-229.191 28.9998,-224.666\"/>\r\n",
       "<polygon fill=\"black\" stroke=\"black\" points=\"32.5026,-224.576 29.2302,-214.499 25.5044,-224.418 32.5026,-224.576\"/>\r\n",
       "<text text-anchor=\"middle\" x=\"27\" y=\"-236.008\" font-family=\"Times New Roman,serif\" font-size=\"14.00\">a</text>\r\n",
       "</g>\r\n",
       "<!-- St3&#45;&gt;St3 -->\r\n",
       "<g id=\"edge16\" class=\"edge\"><title>St3&#45;&gt;St3</title>\r\n",
       "<path fill=\"none\" stroke=\"black\" d=\"M23.1067,-214.069C21.6007,-231.906 22.8984,-250.208 27,-250.208 30.3005,-250.208 31.7854,-238.357 31.4549,-224.434\"/>\r\n",
       "<polygon fill=\"black\" stroke=\"black\" points=\"34.9293,-223.865 30.8933,-214.069 27.9395,-224.244 34.9293,-223.865\"/>\r\n",
       "<text text-anchor=\"middle\" x=\"27\" y=\"-254.008\" font-family=\"Times New Roman,serif\" font-size=\"14.00\">b</text>\r\n",
       "</g>\r\n",
       "<!-- St3&#45;&gt;St3 -->\r\n",
       "<g id=\"edge19\" class=\"edge\"><title>St3&#45;&gt;St3</title>\r\n",
       "<path fill=\"none\" stroke=\"black\" d=\"M21.9906,-213.852C18.5451,-239.127 20.2148,-268.208 27,-268.208 32.884,-268.208 34.9212,-246.339 33.1115,-224.047\"/>\r\n",
       "<polygon fill=\"black\" stroke=\"black\" points=\"36.564,-223.417 32.0094,-213.852 29.6045,-224.17 36.564,-223.417\"/>\r\n",
       "<text text-anchor=\"middle\" x=\"27\" y=\"-272.008\" font-family=\"Times New Roman,serif\" font-size=\"14.00\">c</text>\r\n",
       "</g>\r\n",
       "<!-- St3&#45;&gt;St3 -->\r\n",
       "<g id=\"edge22\" class=\"edge\"><title>St3&#45;&gt;St3</title>\r\n",
       "<path fill=\"none\" stroke=\"black\" d=\"M21.1729,-213.821C15.4951,-246.098 17.4375,-286.208 27,-286.208 35.5913,-286.208 38.0317,-253.831 34.3213,-223.847\"/>\r\n",
       "<polygon fill=\"black\" stroke=\"black\" points=\"37.7629,-223.196 32.8271,-213.821 30.8394,-224.228 37.7629,-223.196\"/>\r\n",
       "<text text-anchor=\"middle\" x=\"27\" y=\"-290.008\" font-family=\"Times New Roman,serif\" font-size=\"14.00\">d</text>\r\n",
       "</g>\r\n",
       "<!-- St3&#45;&gt;St2 -->\r\n",
       "<g id=\"edge13\" class=\"edge\"><title>St3&#45;&gt;St2</title>\r\n",
       "<path fill=\"none\" stroke=\"black\" d=\"M33.9661,-213.489C40.2599,-232.385 52.0871,-258.814 72,-273.46 106.907,-299.134 129.758,-290.739 169.496,-273.46 174.461,-271.301 179.403,-268.434 184.03,-265.342\"/>\r\n",
       "<polygon fill=\"black\" stroke=\"black\" points=\"186.41,-267.94 192.462,-259.244 182.308,-262.268 186.41,-267.94\"/>\r\n",
       "<text text-anchor=\"middle\" x=\"120.748\" y=\"-294.26\" font-family=\"Times New Roman,serif\" font-size=\"14.00\">a</text>\r\n",
       "</g>\r\n",
       "<!-- St3&#45;&gt;St2 -->\r\n",
       "<g id=\"edge17\" class=\"edge\"><title>St3&#45;&gt;St2</title>\r\n",
       "<path fill=\"none\" stroke=\"black\" d=\"M42.6572,-208.146C50.5327,-215.974 60.8947,-224.625 72,-229.46 105.713,-244.137 148.303,-246.611 177.026,-246.236\"/>\r\n",
       "<polygon fill=\"black\" stroke=\"black\" points=\"177.401,-249.727 187.308,-245.972 177.222,-242.73 177.401,-249.727\"/>\r\n",
       "<text text-anchor=\"middle\" x=\"120.748\" y=\"-249.26\" font-family=\"Times New Roman,serif\" font-size=\"14.00\">b</text>\r\n",
       "</g>\r\n",
       "<!-- St3&#45;&gt;St4 -->\r\n",
       "<g id=\"edge20\" class=\"edge\"><title>St3&#45;&gt;St4</title>\r\n",
       "<path fill=\"none\" stroke=\"black\" d=\"M32.2489,-213.728C39.4952,-244.102 57.5813,-296.266 98,-309.46 160.293,-329.796 233.528,-291.594 273.338,-265.631\"/>\r\n",
       "<polygon fill=\"black\" stroke=\"black\" points=\"275.415,-268.453 281.777,-259.981 271.521,-262.636 275.415,-268.453\"/>\r\n",
       "<text text-anchor=\"middle\" x=\"165.496\" y=\"-316.26\" font-family=\"Times New Roman,serif\" font-size=\"14.00\">d</text>\r\n",
       "</g>\r\n",
       "<!-- St2&#45;&gt;St4 -->\r\n",
       "<g id=\"edge8\" class=\"edge\"><title>St2&#45;&gt;St4</title>\r\n",
       "<path fill=\"none\" stroke=\"black\" d=\"M230.488,-233.764C236.824,-230.789 244.031,-227.963 250.992,-226.46 257.46,-225.064 264.233,-225.756 270.669,-227.503\"/>\r\n",
       "<polygon fill=\"black\" stroke=\"black\" points=\"269.817,-230.915 280.412,-230.971 272.165,-224.321 269.817,-230.915\"/>\r\n",
       "<text text-anchor=\"middle\" x=\"254.992\" y=\"-230.26\" font-family=\"Times New Roman,serif\" font-size=\"14.00\">a</text>\r\n",
       "</g>\r\n",
       "<!-- St2&#45;&gt;St4 -->\r\n",
       "<g id=\"edge9\" class=\"edge\"><title>St2&#45;&gt;St4</title>\r\n",
       "<path fill=\"none\" stroke=\"black\" d=\"M233.393,-244.46C243.435,-244.46 255.566,-244.46 266.855,-244.46\"/>\r\n",
       "<polygon fill=\"black\" stroke=\"black\" points=\"266.903,-247.96 276.903,-244.46 266.903,-240.96 266.903,-247.96\"/>\r\n",
       "<text text-anchor=\"middle\" x=\"254.992\" y=\"-248.26\" font-family=\"Times New Roman,serif\" font-size=\"14.00\">b</text>\r\n",
       "</g>\r\n",
       "</g>\r\n",
       "</svg>\r\n"
      ],
      "text/plain": [
       "<graphviz.dot.Digraph at 0x1fb0089e470>"
      ]
     },
     "execution_count": 59,
     "metadata": {},
     "output_type": "execute_result"
    }
   ],
   "source": [
    "dotObj_nfa(rev_dfa(dfaMQ0))"
   ]
  },
  {
   "cell_type": "code",
   "execution_count": 60,
   "metadata": {
    "run_control": {
     "frozen": false,
     "read_only": false
    }
   },
   "outputs": [
    {
     "data": {
      "image/svg+xml": [
       "<?xml version=\"1.0\" encoding=\"UTF-8\" standalone=\"no\"?>\r\n",
       "<!DOCTYPE svg PUBLIC \"-//W3C//DTD SVG 1.1//EN\"\r\n",
       " \"http://www.w3.org/Graphics/SVG/1.1/DTD/svg11.dtd\">\r\n",
       "<!-- Generated by graphviz version 2.38.0 (20140413.2041)\r\n",
       " -->\r\n",
       "<!-- Title: %3 Pages: 1 -->\r\n",
       "<svg width=\"360pt\" height=\"257pt\"\r\n",
       " viewBox=\"0.00 0.00 360.49 256.75\" xmlns=\"http://www.w3.org/2000/svg\" xmlns:xlink=\"http://www.w3.org/1999/xlink\">\r\n",
       "<g id=\"graph0\" class=\"graph\" transform=\"scale(1 1) rotate(0) translate(4 252.748)\">\r\n",
       "<title>%3</title>\r\n",
       "<polygon fill=\"white\" stroke=\"none\" points=\"-4,4 -4,-252.748 356.488,-252.748 356.488,4 -4,4\"/>\r\n",
       "<!-- EMPTY -->\r\n",
       "<g id=\"node1\" class=\"node\"><title>EMPTY</title>\r\n",
       "</g>\r\n",
       "<!-- St1 -->\r\n",
       "<g id=\"node2\" class=\"node\"><title>St1</title>\r\n",
       "<ellipse fill=\"none\" stroke=\"black\" cx=\"228.244\" cy=\"-72\" rx=\"22.9987\" ry=\"22.9987\"/>\r\n",
       "<text text-anchor=\"middle\" x=\"228.244\" y=\"-68.3\" font-family=\"Times New Roman,serif\" font-size=\"14.00\">St1</text>\r\n",
       "</g>\r\n",
       "<!-- EMPTY&#45;&gt;St1 -->\r\n",
       "<g id=\"edge1\" class=\"edge\"><title>EMPTY&#45;&gt;St1</title>\r\n",
       "<path fill=\"none\" stroke=\"black\" d=\"M57.1122,-17.0089C89.4229,-16.8336 145.327,-20.029 187.496,-41 192.687,-43.5816 197.854,-46.9032 202.66,-50.4088\"/>\r\n",
       "<polygon fill=\"black\" stroke=\"black\" points=\"200.814,-53.4073 210.852,-56.7976 205.119,-47.8877 200.814,-53.4073\"/>\r\n",
       "</g>\r\n",
       "<!-- St0 -->\r\n",
       "<g id=\"node3\" class=\"node\"><title>St0</title>\r\n",
       "<ellipse fill=\"none\" stroke=\"black\" cx=\"134.748\" cy=\"-126\" rx=\"22.9987\" ry=\"22.9987\"/>\r\n",
       "<text text-anchor=\"middle\" x=\"134.748\" y=\"-122.3\" font-family=\"Times New Roman,serif\" font-size=\"14.00\">St0</text>\r\n",
       "</g>\r\n",
       "<!-- EMPTY&#45;&gt;St0 -->\r\n",
       "<g id=\"edge2\" class=\"edge\"><title>EMPTY&#45;&gt;St0</title>\r\n",
       "<path fill=\"none\" stroke=\"black\" d=\"M48.4298,-36.3207C65.7163,-54.4908 92.2836,-82.4161 111.175,-102.273\"/>\r\n",
       "<polygon fill=\"black\" stroke=\"black\" points=\"108.824,-104.88 118.253,-109.713 113.896,-100.055 108.824,-104.88\"/>\r\n",
       "</g>\r\n",
       "<!-- St4 -->\r\n",
       "<g id=\"node6\" class=\"node\"><title>St4</title>\r\n",
       "<ellipse fill=\"none\" stroke=\"black\" cx=\"325.74\" cy=\"-169\" rx=\"22.9609\" ry=\"22.9609\"/>\r\n",
       "<ellipse fill=\"none\" stroke=\"black\" cx=\"325.74\" cy=\"-169\" rx=\"26.9983\" ry=\"26.9983\"/>\r\n",
       "<text text-anchor=\"middle\" x=\"325.74\" y=\"-165.3\" font-family=\"Times New Roman,serif\" font-size=\"14.00\">St4</text>\r\n",
       "</g>\r\n",
       "<!-- St1&#45;&gt;St4 -->\r\n",
       "<g id=\"edge5\" class=\"edge\"><title>St1&#45;&gt;St4</title>\r\n",
       "<path fill=\"none\" stroke=\"black\" d=\"M245.013,-88.0176C259.754,-102.99 282.019,-125.607 299.278,-143.137\"/>\r\n",
       "<polygon fill=\"black\" stroke=\"black\" points=\"296.821,-145.63 306.331,-150.301 301.809,-140.719 296.821,-145.63\"/>\r\n",
       "<text text-anchor=\"middle\" x=\"274.992\" y=\"-127.8\" font-family=\"Times New Roman,serif\" font-size=\"14.00\">c</text>\r\n",
       "</g>\r\n",
       "<!-- St0&#45;&gt;St1 -->\r\n",
       "<g id=\"edge3\" class=\"edge\"><title>St0&#45;&gt;St1</title>\r\n",
       "<path fill=\"none\" stroke=\"black\" d=\"M154.706,-114.811C167.587,-107.209 184.844,-97.024 199.294,-88.4958\"/>\r\n",
       "<polygon fill=\"black\" stroke=\"black\" points=\"201.477,-91.2714 208.31,-83.1745 197.919,-85.2431 201.477,-91.2714\"/>\r\n",
       "<text text-anchor=\"middle\" x=\"181.496\" y=\"-121.8\" font-family=\"Times New Roman,serif\" font-size=\"14.00\">c </text>\r\n",
       "<text text-anchor=\"middle\" x=\"181.496\" y=\"-106.8\" font-family=\"Times New Roman,serif\" font-size=\"14.00\"> d</text>\r\n",
       "</g>\r\n",
       "<!-- St2 -->\r\n",
       "<g id=\"node5\" class=\"node\"><title>St2</title>\r\n",
       "<ellipse fill=\"none\" stroke=\"black\" cx=\"228.244\" cy=\"-169\" rx=\"22.9987\" ry=\"22.9987\"/>\r\n",
       "<text text-anchor=\"middle\" x=\"228.244\" y=\"-165.3\" font-family=\"Times New Roman,serif\" font-size=\"14.00\">St2</text>\r\n",
       "</g>\r\n",
       "<!-- St0&#45;&gt;St2 -->\r\n",
       "<g id=\"edge4\" class=\"edge\"><title>St0&#45;&gt;St2</title>\r\n",
       "<path fill=\"none\" stroke=\"black\" d=\"M157.185,-131.089C166.715,-133.737 177.92,-137.395 187.496,-142 192.049,-144.19 196.672,-146.854 201.078,-149.647\"/>\r\n",
       "<polygon fill=\"black\" stroke=\"black\" points=\"199.469,-152.782 209.723,-155.447 203.369,-146.969 199.469,-152.782\"/>\r\n",
       "<text text-anchor=\"middle\" x=\"181.496\" y=\"-160.8\" font-family=\"Times New Roman,serif\" font-size=\"14.00\">c </text>\r\n",
       "<text text-anchor=\"middle\" x=\"181.496\" y=\"-145.8\" font-family=\"Times New Roman,serif\" font-size=\"14.00\"> d</text>\r\n",
       "</g>\r\n",
       "<!-- St3 -->\r\n",
       "<g id=\"node4\" class=\"node\"><title>St3</title>\r\n",
       "<ellipse fill=\"none\" stroke=\"black\" cx=\"30\" cy=\"-148\" rx=\"22.9987\" ry=\"22.9987\"/>\r\n",
       "<text text-anchor=\"middle\" x=\"30\" y=\"-144.3\" font-family=\"Times New Roman,serif\" font-size=\"14.00\">St3</text>\r\n",
       "</g>\r\n",
       "<!-- St3&#45;&gt;St1 -->\r\n",
       "<g id=\"edge7\" class=\"edge\"><title>St3&#45;&gt;St1</title>\r\n",
       "<path fill=\"none\" stroke=\"black\" d=\"M42.7662,-128.659C56.4787,-108.189 81.2347,-77.0723 112,-64 138.852,-52.5904 172.4,-56.7312 196.363,-62.4335\"/>\r\n",
       "<polygon fill=\"black\" stroke=\"black\" points=\"195.76,-65.893 206.319,-65.0223 197.522,-59.1183 195.76,-65.893\"/>\r\n",
       "<text text-anchor=\"middle\" x=\"134.748\" y=\"-82.8\" font-family=\"Times New Roman,serif\" font-size=\"14.00\">a </text>\r\n",
       "<text text-anchor=\"middle\" x=\"134.748\" y=\"-67.8\" font-family=\"Times New Roman,serif\" font-size=\"14.00\"> b</text>\r\n",
       "</g>\r\n",
       "<!-- St3&#45;&gt;St0 -->\r\n",
       "<g id=\"edge8\" class=\"edge\"><title>St3&#45;&gt;St0</title>\r\n",
       "<path fill=\"none\" stroke=\"black\" d=\"M46.3897,-132.044C54.8933,-124.39 66.1242,-116.026 78,-112 86.5589,-109.099 96.0388,-110.002 104.717,-112.382\"/>\r\n",
       "<polygon fill=\"black\" stroke=\"black\" points=\"103.838,-115.78 114.433,-115.713 106.109,-109.159 103.838,-115.78\"/>\r\n",
       "<text text-anchor=\"middle\" x=\"86\" y=\"-160.8\" font-family=\"Times New Roman,serif\" font-size=\"14.00\">a </text>\r\n",
       "<text text-anchor=\"middle\" x=\"86\" y=\"-145.8\" font-family=\"Times New Roman,serif\" font-size=\"14.00\"> b </text>\r\n",
       "<text text-anchor=\"middle\" x=\"86\" y=\"-130.8\" font-family=\"Times New Roman,serif\" font-size=\"14.00\"> c </text>\r\n",
       "<text text-anchor=\"middle\" x=\"86\" y=\"-115.8\" font-family=\"Times New Roman,serif\" font-size=\"14.00\"> d</text>\r\n",
       "</g>\r\n",
       "<!-- St3&#45;&gt;St3 -->\r\n",
       "<g id=\"edge9\" class=\"edge\"><title>St3&#45;&gt;St3</title>\r\n",
       "<path fill=\"none\" stroke=\"black\" d=\"M19.8691,-168.547C18.3105,-179.171 21.6875,-188.748 30,-188.748 35.4551,-188.748 38.7846,-184.624 39.9885,-178.785\"/>\r\n",
       "<polygon fill=\"black\" stroke=\"black\" points=\"43.4914,-178.595 40.1309,-168.547 36.4921,-178.497 43.4914,-178.595\"/>\r\n",
       "<text text-anchor=\"middle\" x=\"30\" y=\"-237.548\" font-family=\"Times New Roman,serif\" font-size=\"14.00\">a </text>\r\n",
       "<text text-anchor=\"middle\" x=\"30\" y=\"-222.548\" font-family=\"Times New Roman,serif\" font-size=\"14.00\"> b </text>\r\n",
       "<text text-anchor=\"middle\" x=\"30\" y=\"-207.548\" font-family=\"Times New Roman,serif\" font-size=\"14.00\"> c </text>\r\n",
       "<text text-anchor=\"middle\" x=\"30\" y=\"-192.548\" font-family=\"Times New Roman,serif\" font-size=\"14.00\"> d</text>\r\n",
       "</g>\r\n",
       "<!-- St3&#45;&gt;St2 -->\r\n",
       "<g id=\"edge10\" class=\"edge\"><title>St3&#45;&gt;St2</title>\r\n",
       "<path fill=\"none\" stroke=\"black\" d=\"M49.4131,-159.96C57.7799,-164.706 68.0231,-169.6 78,-172 117.669,-181.542 164.992,-178.213 195.551,-174.235\"/>\r\n",
       "<polygon fill=\"black\" stroke=\"black\" points=\"196.205,-177.678 205.621,-172.821 195.232,-170.746 196.205,-177.678\"/>\r\n",
       "<text text-anchor=\"middle\" x=\"134.748\" y=\"-197.8\" font-family=\"Times New Roman,serif\" font-size=\"14.00\">a </text>\r\n",
       "<text text-anchor=\"middle\" x=\"134.748\" y=\"-182.8\" font-family=\"Times New Roman,serif\" font-size=\"14.00\"> b</text>\r\n",
       "</g>\r\n",
       "<!-- St3&#45;&gt;St4 -->\r\n",
       "<g id=\"edge11\" class=\"edge\"><title>St3&#45;&gt;St4</title>\r\n",
       "<path fill=\"none\" stroke=\"black\" d=\"M45.3422,-165.075C60.1109,-181.153 84.76,-204.063 112,-213 145.623,-224.031 242.209,-218.075 280.992,-203 286.736,-200.767 292.344,-197.523 297.526,-193.913\"/>\r\n",
       "<polygon fill=\"black\" stroke=\"black\" points=\"299.964,-196.455 305.791,-187.607 295.718,-190.89 299.964,-196.455\"/>\r\n",
       "<text text-anchor=\"middle\" x=\"181.496\" y=\"-221.8\" font-family=\"Times New Roman,serif\" font-size=\"14.00\">d</text>\r\n",
       "</g>\r\n",
       "<!-- St2&#45;&gt;St4 -->\r\n",
       "<g id=\"edge6\" class=\"edge\"><title>St2&#45;&gt;St4</title>\r\n",
       "<path fill=\"none\" stroke=\"black\" d=\"M251.393,-169C262.498,-169 276.228,-169 288.793,-169\"/>\r\n",
       "<polygon fill=\"black\" stroke=\"black\" points=\"288.992,-172.5 298.992,-169 288.992,-165.5 288.992,-172.5\"/>\r\n",
       "<text text-anchor=\"middle\" x=\"274.992\" y=\"-187.8\" font-family=\"Times New Roman,serif\" font-size=\"14.00\">a </text>\r\n",
       "<text text-anchor=\"middle\" x=\"274.992\" y=\"-172.8\" font-family=\"Times New Roman,serif\" font-size=\"14.00\"> b</text>\r\n",
       "</g>\r\n",
       "</g>\r\n",
       "</svg>\r\n"
      ],
      "text/plain": [
       "<graphviz.dot.Digraph at 0x1fb0089e588>"
      ]
     },
     "execution_count": 60,
     "metadata": {},
     "output_type": "execute_result"
    }
   ],
   "source": [
    "dotObj_nfa(rev_dfa(dfaMQ0), FuseEdges=True)"
   ]
  },
  {
   "cell_type": "code",
   "execution_count": 61,
   "metadata": {
    "run_control": {
     "frozen": false,
     "read_only": false
    }
   },
   "outputs": [
    {
     "name": "stdout",
     "output_type": "stream",
     "text": [
      "Help on function min_dfa_brz in module jove.Def_NFA:\n",
      "\n",
      "min_dfa_brz(D)\n",
      "    Minimize a DFA as per Brzozowski's algorithm.\n",
      "\n"
     ]
    }
   ],
   "source": [
    "help(min_dfa_brz)"
   ]
  },
  {
   "cell_type": "code",
   "execution_count": 62,
   "metadata": {
    "run_control": {
     "frozen": false,
     "read_only": false
    }
   },
   "outputs": [
    {
     "data": {
      "image/svg+xml": [
       "<?xml version=\"1.0\" encoding=\"UTF-8\" standalone=\"no\"?>\r\n",
       "<!DOCTYPE svg PUBLIC \"-//W3C//DTD SVG 1.1//EN\"\r\n",
       " \"http://www.w3.org/Graphics/SVG/1.1/DTD/svg11.dtd\">\r\n",
       "<!-- Generated by graphviz version 2.38.0 (20140413.2041)\r\n",
       " -->\r\n",
       "<!-- Title: %3 Pages: 1 -->\r\n",
       "<svg width=\"377pt\" height=\"166pt\"\r\n",
       " viewBox=\"0.00 0.00 376.79 166.29\" xmlns=\"http://www.w3.org/2000/svg\" xmlns:xlink=\"http://www.w3.org/1999/xlink\">\r\n",
       "<g id=\"graph0\" class=\"graph\" transform=\"scale(1 1) rotate(0) translate(4 162.294)\">\r\n",
       "<title>%3</title>\r\n",
       "<polygon fill=\"white\" stroke=\"none\" points=\"-4,4 -4,-162.294 372.788,-162.294 372.788,4 -4,4\"/>\r\n",
       "<!-- EMPTY -->\r\n",
       "<g id=\"node1\" class=\"node\"><title>EMPTY</title>\r\n",
       "</g>\r\n",
       "<!-- I0_I1 -->\r\n",
       "<g id=\"node3\" class=\"node\"><title>I0_I1</title>\r\n",
       "<ellipse fill=\"none\" stroke=\"black\" cx=\"121.547\" cy=\"-92.3466\" rx=\"30.5947\" ry=\"30.5947\"/>\r\n",
       "<text text-anchor=\"middle\" x=\"121.547\" y=\"-88.6466\" font-family=\"Times New Roman,serif\" font-size=\"14.00\">I0_I1</text>\r\n",
       "</g>\r\n",
       "<!-- EMPTY&#45;&gt;I0_I1 -->\r\n",
       "<g id=\"edge1\" class=\"edge\"><title>EMPTY&#45;&gt;I0_I1</title>\r\n",
       "<path fill=\"none\" stroke=\"black\" d=\"M54.2728,-92.3466C62.4925,-92.3466 71.7547,-92.3466 80.6913,-92.3466\"/>\r\n",
       "<polygon fill=\"black\" stroke=\"black\" points=\"80.9506,-95.8467 90.9506,-92.3466 80.9505,-88.8467 80.9506,-95.8467\"/>\r\n",
       "</g>\r\n",
       "<!-- A_B -->\r\n",
       "<g id=\"node2\" class=\"node\"><title>A_B</title>\r\n",
       "<ellipse fill=\"none\" stroke=\"black\" cx=\"238.441\" cy=\"-130.347\" rx=\"27.8951\" ry=\"27.8951\"/>\r\n",
       "<text text-anchor=\"middle\" x=\"238.441\" y=\"-126.647\" font-family=\"Times New Roman,serif\" font-size=\"14.00\">A_B</text>\r\n",
       "</g>\r\n",
       "<!-- F -->\r\n",
       "<g id=\"node5\" class=\"node\"><title>F</title>\r\n",
       "<ellipse fill=\"none\" stroke=\"black\" cx=\"346.788\" cy=\"-86.3466\" rx=\"18\" ry=\"18\"/>\r\n",
       "<ellipse fill=\"none\" stroke=\"black\" cx=\"346.788\" cy=\"-86.3466\" rx=\"22\" ry=\"22\"/>\r\n",
       "<text text-anchor=\"middle\" x=\"346.788\" y=\"-82.6466\" font-family=\"Times New Roman,serif\" font-size=\"14.00\">F</text>\r\n",
       "</g>\r\n",
       "<!-- A_B&#45;&gt;F -->\r\n",
       "<g id=\"edge5\" class=\"edge\"><title>A_B&#45;&gt;F</title>\r\n",
       "<path fill=\"none\" stroke=\"black\" d=\"M266.687,-130.357C279.369,-129.462 294.362,-127.077 306.788,-121.347 312.968,-118.496 318.867,-114.323 324.121,-109.843\"/>\r\n",
       "<polygon fill=\"black\" stroke=\"black\" points=\"326.862,-112.073 331.794,-102.697 322.091,-106.951 326.862,-112.073\"/>\r\n",
       "<text text-anchor=\"middle\" x=\"302.788\" y=\"-127.147\" font-family=\"Times New Roman,serif\" font-size=\"14.00\">c</text>\r\n",
       "</g>\r\n",
       "<!-- A_B&#45;&gt;F -->\r\n",
       "<g id=\"edge6\" class=\"edge\"><title>A_B&#45;&gt;F</title>\r\n",
       "<path fill=\"none\" stroke=\"black\" d=\"M263.709,-118.139C274.351,-112.984 287.065,-107.09 298.788,-102.347 304.181,-100.164 309.998,-98.0205 315.64,-96.0465\"/>\r\n",
       "<polygon fill=\"black\" stroke=\"black\" points=\"317.134,-99.2355 325.477,-92.7053 314.883,-92.6073 317.134,-99.2355\"/>\r\n",
       "<text text-anchor=\"middle\" x=\"302.788\" y=\"-106.147\" font-family=\"Times New Roman,serif\" font-size=\"14.00\">d</text>\r\n",
       "</g>\r\n",
       "<!-- I0_I1&#45;&gt;A_B -->\r\n",
       "<g id=\"edge2\" class=\"edge\"><title>I0_I1&#45;&gt;A_B</title>\r\n",
       "<path fill=\"none\" stroke=\"black\" d=\"M150.693,-101.864C157.069,-104.007 163.812,-106.263 170.095,-108.347 180.446,-111.779 191.706,-115.473 202.003,-118.835\"/>\r\n",
       "<polygon fill=\"black\" stroke=\"black\" points=\"200.927,-122.166 211.519,-121.938 203.097,-115.51 200.927,-122.166\"/>\r\n",
       "<text text-anchor=\"middle\" x=\"174.095\" y=\"-114.147\" font-family=\"Times New Roman,serif\" font-size=\"14.00\">a</text>\r\n",
       "</g>\r\n",
       "<!-- I0_I1&#45;&gt;A_B -->\r\n",
       "<g id=\"edge3\" class=\"edge\"><title>I0_I1&#45;&gt;A_B</title>\r\n",
       "<path fill=\"none\" stroke=\"black\" d=\"M151.859,-86.9343C160.468,-86.3616 169.797,-86.759 178.095,-89.3466 189.17,-92.8003 200.001,-99.1235 209.315,-105.787\"/>\r\n",
       "<polygon fill=\"black\" stroke=\"black\" points=\"207.324,-108.67 217.405,-111.93 211.557,-103.095 207.324,-108.67\"/>\r\n",
       "<text text-anchor=\"middle\" x=\"174.095\" y=\"-93.1466\" font-family=\"Times New Roman,serif\" font-size=\"14.00\">b</text>\r\n",
       "</g>\r\n",
       "<!-- A_B_F -->\r\n",
       "<g id=\"node4\" class=\"node\"><title>A_B_F</title>\r\n",
       "<ellipse fill=\"none\" stroke=\"black\" cx=\"238.441\" cy=\"-42.3466\" rx=\"38.2082\" ry=\"38.2082\"/>\r\n",
       "<ellipse fill=\"none\" stroke=\"black\" cx=\"238.441\" cy=\"-42.3466\" rx=\"42.1937\" ry=\"42.1937\"/>\r\n",
       "<text text-anchor=\"middle\" x=\"238.441\" y=\"-38.6466\" font-family=\"Times New Roman,serif\" font-size=\"14.00\">A_B_F</text>\r\n",
       "</g>\r\n",
       "<!-- I0_I1&#45;&gt;A_B_F -->\r\n",
       "<g id=\"edge4\" class=\"edge\"><title>I0_I1&#45;&gt;A_B_F</title>\r\n",
       "<path fill=\"none\" stroke=\"black\" d=\"M148.981,-78.4215C155.796,-74.9925 163.165,-71.4241 170.095,-68.3466 176.174,-65.6465 182.628,-62.9484 189.039,-60.3675\"/>\r\n",
       "<polygon fill=\"black\" stroke=\"black\" points=\"190.342,-63.6161 198.354,-56.6835 187.768,-57.1068 190.342,-63.6161\"/>\r\n",
       "<text text-anchor=\"middle\" x=\"174.095\" y=\"-72.1466\" font-family=\"Times New Roman,serif\" font-size=\"14.00\">c</text>\r\n",
       "</g>\r\n",
       "<!-- A_B_F&#45;&gt;F -->\r\n",
       "<g id=\"edge7\" class=\"edge\"><title>A_B_F&#45;&gt;F</title>\r\n",
       "<path fill=\"none\" stroke=\"black\" d=\"M277.835,-58.2316C290.663,-63.5394 304.739,-69.363 316.736,-74.3266\"/>\r\n",
       "<polygon fill=\"black\" stroke=\"black\" points=\"315.673,-77.6745 326.251,-78.2635 318.349,-71.2062 315.673,-77.6745\"/>\r\n",
       "<text text-anchor=\"middle\" x=\"302.788\" y=\"-73.1466\" font-family=\"Times New Roman,serif\" font-size=\"14.00\">c</text>\r\n",
       "</g>\r\n",
       "<!-- A_B_F&#45;&gt;F -->\r\n",
       "<g id=\"edge8\" class=\"edge\"><title>A_B_F&#45;&gt;F</title>\r\n",
       "<path fill=\"none\" stroke=\"black\" d=\"M280.846,-40.8163C289.704,-41.7368 298.794,-43.6829 306.788,-47.3466 313.849,-50.5831 320.352,-55.6848 325.941,-61.1446\"/>\r\n",
       "<polygon fill=\"black\" stroke=\"black\" points=\"323.581,-63.7458 332.962,-68.6701 328.699,-58.9705 323.581,-63.7458\"/>\r\n",
       "<text text-anchor=\"middle\" x=\"302.788\" y=\"-51.1466\" font-family=\"Times New Roman,serif\" font-size=\"14.00\">d</text>\r\n",
       "</g>\r\n",
       "</g>\r\n",
       "</svg>\r\n"
      ],
      "text/plain": [
       "<graphviz.dot.Digraph at 0x1fb0089e860>"
      ]
     },
     "execution_count": 62,
     "metadata": {},
     "output_type": "execute_result"
    }
   ],
   "source": [
    "dotObj_dfa(dfaMQ0)"
   ]
  },
  {
   "cell_type": "code",
   "execution_count": null,
   "metadata": {
    "run_control": {
     "frozen": false,
     "read_only": false
    }
   },
   "outputs": [],
   "source": []
  },
  {
   "cell_type": "code",
   "execution_count": 63,
   "metadata": {
    "run_control": {
     "frozen": false,
     "read_only": false
    }
   },
   "outputs": [
    {
     "data": {
      "image/svg+xml": [
       "<?xml version=\"1.0\" encoding=\"UTF-8\" standalone=\"no\"?>\r\n",
       "<!DOCTYPE svg PUBLIC \"-//W3C//DTD SVG 1.1//EN\"\r\n",
       " \"http://www.w3.org/Graphics/SVG/1.1/DTD/svg11.dtd\">\r\n",
       "<!-- Generated by graphviz version 2.38.0 (20140413.2041)\r\n",
       " -->\r\n",
       "<!-- Title: %3 Pages: 1 -->\r\n",
       "<svg width=\"339pt\" height=\"129pt\"\r\n",
       " viewBox=\"0.00 0.00 339.49 129.50\" xmlns=\"http://www.w3.org/2000/svg\" xmlns:xlink=\"http://www.w3.org/1999/xlink\">\r\n",
       "<g id=\"graph0\" class=\"graph\" transform=\"scale(1 1) rotate(0) translate(4 125.496)\">\r\n",
       "<title>%3</title>\r\n",
       "<polygon fill=\"white\" stroke=\"none\" points=\"-4,4 -4,-125.496 335.488,-125.496 335.488,4 -4,4\"/>\r\n",
       "<!-- EMPTY -->\r\n",
       "<g id=\"node1\" class=\"node\"><title>EMPTY</title>\r\n",
       "</g>\r\n",
       "<!-- St3 -->\r\n",
       "<g id=\"node2\" class=\"node\"><title>St3</title>\r\n",
       "<ellipse fill=\"none\" stroke=\"black\" cx=\"113.748\" cy=\"-64.748\" rx=\"22.9987\" ry=\"22.9987\"/>\r\n",
       "<text text-anchor=\"middle\" x=\"113.748\" y=\"-61.048\" font-family=\"Times New Roman,serif\" font-size=\"14.00\">St3</text>\r\n",
       "</g>\r\n",
       "<!-- EMPTY&#45;&gt;St3 -->\r\n",
       "<g id=\"edge1\" class=\"edge\"><title>EMPTY&#45;&gt;St3</title>\r\n",
       "<path fill=\"none\" stroke=\"black\" d=\"M54.3502,-64.748C62.71,-64.748 72.0455,-64.748 80.757,-64.748\"/>\r\n",
       "<polygon fill=\"black\" stroke=\"black\" points=\"80.9663,-68.2481 90.9663,-64.748 80.9662,-61.2481 80.9663,-68.2481\"/>\r\n",
       "</g>\r\n",
       "<!-- St2 -->\r\n",
       "<g id=\"node3\" class=\"node\"><title>St2</title>\r\n",
       "<ellipse fill=\"none\" stroke=\"black\" cx=\"207.244\" cy=\"-98.748\" rx=\"22.9987\" ry=\"22.9987\"/>\r\n",
       "<text text-anchor=\"middle\" x=\"207.244\" y=\"-95.048\" font-family=\"Times New Roman,serif\" font-size=\"14.00\">St2</text>\r\n",
       "</g>\r\n",
       "<!-- St3&#45;&gt;St2 -->\r\n",
       "<g id=\"edge2\" class=\"edge\"><title>St3&#45;&gt;St2</title>\r\n",
       "<path fill=\"none\" stroke=\"black\" d=\"M135.305,-73.241C141.453,-75.7222 148.227,-78.3976 154.496,-80.748 161.318,-83.3058 168.69,-85.9443 175.672,-88.3863\"/>\r\n",
       "<polygon fill=\"black\" stroke=\"black\" points=\"174.919,-91.8293 185.514,-91.7913 177.208,-85.214 174.919,-91.8293\"/>\r\n",
       "<text text-anchor=\"middle\" x=\"158.496\" y=\"-87.548\" font-family=\"Times New Roman,serif\" font-size=\"14.00\">a</text>\r\n",
       "</g>\r\n",
       "<!-- St3&#45;&gt;St2 -->\r\n",
       "<g id=\"edge3\" class=\"edge\"><title>St3&#45;&gt;St2</title>\r\n",
       "<path fill=\"none\" stroke=\"black\" d=\"M136.201,-59.747C144.621,-58.7147 154.229,-58.7206 162.496,-61.748 170.377,-64.6339 177.816,-69.6368 184.247,-75.0477\"/>\r\n",
       "<polygon fill=\"black\" stroke=\"black\" points=\"182.078,-77.8078 191.812,-81.991 186.811,-72.6506 182.078,-77.8078\"/>\r\n",
       "<text text-anchor=\"middle\" x=\"158.496\" y=\"-65.548\" font-family=\"Times New Roman,serif\" font-size=\"14.00\">b</text>\r\n",
       "</g>\r\n",
       "<!-- St1 -->\r\n",
       "<g id=\"node5\" class=\"node\"><title>St1</title>\r\n",
       "<ellipse fill=\"none\" stroke=\"black\" cx=\"207.244\" cy=\"-26.748\" rx=\"22.9609\" ry=\"22.9609\"/>\r\n",
       "<ellipse fill=\"none\" stroke=\"black\" cx=\"207.244\" cy=\"-26.748\" rx=\"26.9983\" ry=\"26.9983\"/>\r\n",
       "<text text-anchor=\"middle\" x=\"207.244\" y=\"-23.048\" font-family=\"Times New Roman,serif\" font-size=\"14.00\">St1</text>\r\n",
       "</g>\r\n",
       "<!-- St3&#45;&gt;St1 -->\r\n",
       "<g id=\"edge4\" class=\"edge\"><title>St3&#45;&gt;St1</title>\r\n",
       "<path fill=\"none\" stroke=\"black\" d=\"M133.179,-52.1529C139.704,-48.0958 147.231,-43.8513 154.496,-40.748 159.738,-38.5086 165.434,-36.5394 171.067,-34.8392\"/>\r\n",
       "<polygon fill=\"black\" stroke=\"black\" points=\"172.329,-38.1211 181.025,-32.0693 170.453,-31.3772 172.329,-38.1211\"/>\r\n",
       "<text text-anchor=\"middle\" x=\"158.496\" y=\"-44.548\" font-family=\"Times New Roman,serif\" font-size=\"14.00\">c</text>\r\n",
       "</g>\r\n",
       "<!-- St4 -->\r\n",
       "<g id=\"node4\" class=\"node\"><title>St4</title>\r\n",
       "<ellipse fill=\"none\" stroke=\"black\" cx=\"304.74\" cy=\"-62.748\" rx=\"22.9609\" ry=\"22.9609\"/>\r\n",
       "<ellipse fill=\"none\" stroke=\"black\" cx=\"304.74\" cy=\"-62.748\" rx=\"26.9983\" ry=\"26.9983\"/>\r\n",
       "<text text-anchor=\"middle\" x=\"304.74\" y=\"-59.048\" font-family=\"Times New Roman,serif\" font-size=\"14.00\">St4</text>\r\n",
       "</g>\r\n",
       "<!-- St2&#45;&gt;St4 -->\r\n",
       "<g id=\"edge5\" class=\"edge\"><title>St2&#45;&gt;St4</title>\r\n",
       "<path fill=\"none\" stroke=\"black\" d=\"M229.961,-101.404C239.44,-101.79 250.528,-101.171 259.992,-97.748 266.115,-95.5335 272.026,-92.0842 277.419,-88.1972\"/>\r\n",
       "<polygon fill=\"black\" stroke=\"black\" points=\"279.766,-90.8026 285.422,-81.8433 275.414,-85.3205 279.766,-90.8026\"/>\r\n",
       "<text text-anchor=\"middle\" x=\"255.992\" y=\"-102.548\" font-family=\"Times New Roman,serif\" font-size=\"14.00\">c</text>\r\n",
       "</g>\r\n",
       "<!-- St2&#45;&gt;St4 -->\r\n",
       "<g id=\"edge6\" class=\"edge\"><title>St2&#45;&gt;St4</title>\r\n",
       "<path fill=\"none\" stroke=\"black\" d=\"M228.05,-89.0382C235.471,-85.5748 244.033,-81.7832 251.992,-78.748 257.508,-76.6443 263.431,-74.6102 269.229,-72.738\"/>\r\n",
       "<polygon fill=\"black\" stroke=\"black\" points=\"270.274,-76.0785 278.776,-69.7565 268.187,-69.3968 270.274,-76.0785\"/>\r\n",
       "<text text-anchor=\"middle\" x=\"255.992\" y=\"-82.548\" font-family=\"Times New Roman,serif\" font-size=\"14.00\">d</text>\r\n",
       "</g>\r\n",
       "<!-- St1&#45;&gt;St4 -->\r\n",
       "<g id=\"edge7\" class=\"edge\"><title>St1&#45;&gt;St4</title>\r\n",
       "<path fill=\"none\" stroke=\"black\" d=\"M232.837,-36.0189C244.174,-40.2929 257.81,-45.4333 270.082,-50.0596\"/>\r\n",
       "<polygon fill=\"black\" stroke=\"black\" points=\"268.969,-53.3806 279.561,-53.6331 271.439,-46.8306 268.969,-53.3806\"/>\r\n",
       "<text text-anchor=\"middle\" x=\"255.992\" y=\"-49.548\" font-family=\"Times New Roman,serif\" font-size=\"14.00\">c</text>\r\n",
       "</g>\r\n",
       "<!-- St1&#45;&gt;St4 -->\r\n",
       "<g id=\"edge8\" class=\"edge\"><title>St1&#45;&gt;St4</title>\r\n",
       "<path fill=\"none\" stroke=\"black\" d=\"M233.63,-21.1419C242.236,-20.3116 251.751,-20.6079 259.992,-23.748 267.052,-26.4379 273.697,-30.8483 279.573,-35.7548\"/>\r\n",
       "<polygon fill=\"black\" stroke=\"black\" points=\"277.342,-38.4577 287.077,-42.638 282.074,-33.2991 277.342,-38.4577\"/>\r\n",
       "<text text-anchor=\"middle\" x=\"255.992\" y=\"-27.548\" font-family=\"Times New Roman,serif\" font-size=\"14.00\">d</text>\r\n",
       "</g>\r\n",
       "</g>\r\n",
       "</svg>\r\n"
      ],
      "text/plain": [
       "<graphviz.dot.Digraph at 0x1fb0089e9b0>"
      ]
     },
     "execution_count": 63,
     "metadata": {},
     "output_type": "execute_result"
    }
   ],
   "source": [
    "dotObj_dfa(min_dfa_brz(dfaMQ0))"
   ]
  },
  {
   "cell_type": "markdown",
   "metadata": {
    "run_control": {
     "frozen": false,
     "read_only": false
    }
   },
   "source": [
    "# Brzozowski Minimization : All Steps "
   ]
  },
  {
   "cell_type": "code",
   "execution_count": 64,
   "metadata": {
    "run_control": {
     "frozen": false,
     "read_only": false
    }
   },
   "outputs": [],
   "source": [
    "blimp = md2mc('''\n",
    "DFA \n",
    "I1 : a -> F2\n",
    "I1 : b -> F3\n",
    "F2 : a -> S8\n",
    "F2 : b -> S5\n",
    "F3 : a -> S7\n",
    "F3 : b -> S4\n",
    "S4 : a | b -> F6\n",
    "S5 : a | b -> F6\n",
    "F6 : a | b -> F6\n",
    "S7 : a | b -> F6\n",
    "S8 : a -> F6\n",
    "S8 : b -> F9\n",
    "F9 : a -> F9\n",
    "F9 : b -> F6\n",
    "''')"
   ]
  },
  {
   "cell_type": "code",
   "execution_count": 65,
   "metadata": {
    "run_control": {
     "frozen": false,
     "read_only": false
    }
   },
   "outputs": [],
   "source": [
    "DOblimp = dotObj_dfa(blimp)"
   ]
  },
  {
   "cell_type": "code",
   "execution_count": 66,
   "metadata": {
    "run_control": {
     "frozen": false,
     "read_only": false
    }
   },
   "outputs": [
    {
     "data": {
      "image/svg+xml": [
       "<?xml version=\"1.0\" encoding=\"UTF-8\" standalone=\"no\"?>\r\n",
       "<!DOCTYPE svg PUBLIC \"-//W3C//DTD SVG 1.1//EN\"\r\n",
       " \"http://www.w3.org/Graphics/SVG/1.1/DTD/svg11.dtd\">\r\n",
       "<!-- Generated by graphviz version 2.38.0 (20140413.2041)\r\n",
       " -->\r\n",
       "<!-- Title: %3 Pages: 1 -->\r\n",
       "<svg width=\"508pt\" height=\"322pt\"\r\n",
       " viewBox=\"0.00 0.00 507.78 321.60\" xmlns=\"http://www.w3.org/2000/svg\" xmlns:xlink=\"http://www.w3.org/1999/xlink\">\r\n",
       "<g id=\"graph0\" class=\"graph\" transform=\"scale(1 1) rotate(0) translate(4 317.596)\">\r\n",
       "<title>%3</title>\r\n",
       "<polygon fill=\"white\" stroke=\"none\" points=\"-4,4 -4,-317.596 503.782,-317.596 503.782,4 -4,4\"/>\r\n",
       "<!-- EMPTY -->\r\n",
       "<g id=\"node1\" class=\"node\"><title>EMPTY</title>\r\n",
       "</g>\r\n",
       "<!-- I1 -->\r\n",
       "<g id=\"node5\" class=\"node\"><title>I1</title>\r\n",
       "<ellipse fill=\"none\" stroke=\"black\" cx=\"109.198\" cy=\"-135.798\" rx=\"18.399\" ry=\"18.399\"/>\r\n",
       "<text text-anchor=\"middle\" x=\"109.198\" y=\"-132.098\" font-family=\"Times New Roman,serif\" font-size=\"14.00\">I1</text>\r\n",
       "</g>\r\n",
       "<!-- EMPTY&#45;&gt;I1 -->\r\n",
       "<g id=\"edge1\" class=\"edge\"><title>EMPTY&#45;&gt;I1</title>\r\n",
       "<path fill=\"none\" stroke=\"black\" d=\"M54.26,-135.798C62.7397,-135.798 72.1605,-135.798 80.7255,-135.798\"/>\r\n",
       "<polygon fill=\"black\" stroke=\"black\" points=\"80.9815,-139.298 90.9815,-135.798 80.9815,-132.298 80.9815,-139.298\"/>\r\n",
       "</g>\r\n",
       "<!-- S4 -->\r\n",
       "<g id=\"node2\" class=\"node\"><title>S4</title>\r\n",
       "<ellipse fill=\"none\" stroke=\"black\" cx=\"381.388\" cy=\"-80.7982\" rx=\"20.5982\" ry=\"20.5982\"/>\r\n",
       "<text text-anchor=\"middle\" x=\"381.388\" y=\"-77.0982\" font-family=\"Times New Roman,serif\" font-size=\"14.00\">S4</text>\r\n",
       "</g>\r\n",
       "<!-- F6 -->\r\n",
       "<g id=\"node7\" class=\"node\"><title>F6</title>\r\n",
       "<ellipse fill=\"none\" stroke=\"black\" cx=\"474.984\" cy=\"-145.798\" rx=\"20.6302\" ry=\"20.6302\"/>\r\n",
       "<ellipse fill=\"none\" stroke=\"black\" cx=\"474.984\" cy=\"-145.798\" rx=\"24.5979\" ry=\"24.5979\"/>\r\n",
       "<text text-anchor=\"middle\" x=\"474.984\" y=\"-142.098\" font-family=\"Times New Roman,serif\" font-size=\"14.00\">F6</text>\r\n",
       "</g>\r\n",
       "<!-- S4&#45;&gt;F6 -->\r\n",
       "<g id=\"edge8\" class=\"edge\"><title>S4&#45;&gt;F6</title>\r\n",
       "<path fill=\"none\" stroke=\"black\" d=\"M398.763,-92.4189C411.875,-101.724 430.567,-114.988 446.037,-125.966\"/>\r\n",
       "<polygon fill=\"black\" stroke=\"black\" points=\"444.064,-128.857 454.244,-131.79 448.115,-123.149 444.064,-128.857\"/>\r\n",
       "<text text-anchor=\"middle\" x=\"428.186\" y=\"-119.598\" font-family=\"Times New Roman,serif\" font-size=\"14.00\">a</text>\r\n",
       "</g>\r\n",
       "<!-- S4&#45;&gt;F6 -->\r\n",
       "<g id=\"edge9\" class=\"edge\"><title>S4&#45;&gt;F6</title>\r\n",
       "<path fill=\"none\" stroke=\"black\" d=\"M402.496,-82.5653C412.079,-84.1459 423.35,-87.1377 432.186,-92.7982 441.533,-98.786 449.686,-107.599 456.248,-116.327\"/>\r\n",
       "<polygon fill=\"black\" stroke=\"black\" points=\"453.428,-118.402 462.04,-124.574 459.157,-114.379 453.428,-118.402\"/>\r\n",
       "<text text-anchor=\"middle\" x=\"428.186\" y=\"-96.5982\" font-family=\"Times New Roman,serif\" font-size=\"14.00\">b</text>\r\n",
       "</g>\r\n",
       "<!-- S7 -->\r\n",
       "<g id=\"node3\" class=\"node\"><title>S7</title>\r\n",
       "<ellipse fill=\"none\" stroke=\"black\" cx=\"381.388\" cy=\"-20.7982\" rx=\"20.5982\" ry=\"20.5982\"/>\r\n",
       "<text text-anchor=\"middle\" x=\"381.388\" y=\"-17.0982\" font-family=\"Times New Roman,serif\" font-size=\"14.00\">S7</text>\r\n",
       "</g>\r\n",
       "<!-- S7&#45;&gt;F6 -->\r\n",
       "<g id=\"edge14\" class=\"edge\"><title>S7&#45;&gt;F6</title>\r\n",
       "<path fill=\"none\" stroke=\"black\" d=\"M397.888,-34.269C408.333,-43.8224 422.009,-57.297 432.186,-70.7982 442.319,-84.2418 451.646,-100.421 458.907,-114.305\"/>\r\n",
       "<polygon fill=\"black\" stroke=\"black\" points=\"455.928,-116.168 463.587,-123.488 462.165,-112.99 455.928,-116.168\"/>\r\n",
       "<text text-anchor=\"middle\" x=\"428.186\" y=\"-74.5982\" font-family=\"Times New Roman,serif\" font-size=\"14.00\">a</text>\r\n",
       "</g>\r\n",
       "<!-- S7&#45;&gt;F6 -->\r\n",
       "<g id=\"edge15\" class=\"edge\"><title>S7&#45;&gt;F6</title>\r\n",
       "<path fill=\"none\" stroke=\"black\" d=\"M401.941,-26.0329C412.082,-29.6047 424.02,-35.2675 432.186,-43.7982 450.121,-62.536 460.781,-90.0236 466.842,-111.744\"/>\r\n",
       "<polygon fill=\"black\" stroke=\"black\" points=\"463.492,-112.768 469.387,-121.572 470.269,-111.014 463.492,-112.768\"/>\r\n",
       "<text text-anchor=\"middle\" x=\"428.186\" y=\"-47.5982\" font-family=\"Times New Roman,serif\" font-size=\"14.00\">b</text>\r\n",
       "</g>\r\n",
       "<!-- S5 -->\r\n",
       "<g id=\"node4\" class=\"node\"><title>S5</title>\r\n",
       "<ellipse fill=\"none\" stroke=\"black\" cx=\"381.388\" cy=\"-292.798\" rx=\"20.5982\" ry=\"20.5982\"/>\r\n",
       "<text text-anchor=\"middle\" x=\"381.388\" y=\"-289.098\" font-family=\"Times New Roman,serif\" font-size=\"14.00\">S5</text>\r\n",
       "</g>\r\n",
       "<!-- S5&#45;&gt;F6 -->\r\n",
       "<g id=\"edge10\" class=\"edge\"><title>S5&#45;&gt;F6</title>\r\n",
       "<path fill=\"none\" stroke=\"black\" d=\"M402.329,-295.684C412.333,-296.017 424.026,-294.565 432.186,-287.798 463.424,-261.895 472.028,-213.919 474.035,-180.956\"/>\r\n",
       "<polygon fill=\"black\" stroke=\"black\" points=\"477.538,-180.971 474.476,-170.829 470.545,-180.667 477.538,-180.971\"/>\r\n",
       "<text text-anchor=\"middle\" x=\"428.186\" y=\"-296.598\" font-family=\"Times New Roman,serif\" font-size=\"14.00\">a</text>\r\n",
       "</g>\r\n",
       "<!-- S5&#45;&gt;F6 -->\r\n",
       "<g id=\"edge11\" class=\"edge\"><title>S5&#45;&gt;F6</title>\r\n",
       "<path fill=\"none\" stroke=\"black\" d=\"M399.003,-281.643C409.665,-273.784 423.155,-262.438 432.186,-249.798 447.42,-228.475 458.193,-200.805 464.983,-179.367\"/>\r\n",
       "<polygon fill=\"black\" stroke=\"black\" points=\"468.361,-180.286 467.911,-169.701 461.662,-178.257 468.361,-180.286\"/>\r\n",
       "<text text-anchor=\"middle\" x=\"428.186\" y=\"-263.598\" font-family=\"Times New Roman,serif\" font-size=\"14.00\">b</text>\r\n",
       "</g>\r\n",
       "<!-- F2 -->\r\n",
       "<g id=\"node8\" class=\"node\"><title>F2</title>\r\n",
       "<ellipse fill=\"none\" stroke=\"black\" cx=\"195.195\" cy=\"-189.798\" rx=\"20.6302\" ry=\"20.6302\"/>\r\n",
       "<ellipse fill=\"none\" stroke=\"black\" cx=\"195.195\" cy=\"-189.798\" rx=\"24.5979\" ry=\"24.5979\"/>\r\n",
       "<text text-anchor=\"middle\" x=\"195.195\" y=\"-186.098\" font-family=\"Times New Roman,serif\" font-size=\"14.00\">F2</text>\r\n",
       "</g>\r\n",
       "<!-- I1&#45;&gt;F2 -->\r\n",
       "<g id=\"edge2\" class=\"edge\"><title>I1&#45;&gt;F2</title>\r\n",
       "<path fill=\"none\" stroke=\"black\" d=\"M124.829,-145.204C135.934,-152.343 151.559,-162.389 165.17,-171.138\"/>\r\n",
       "<polygon fill=\"black\" stroke=\"black\" points=\"163.45,-174.194 173.754,-176.657 167.235,-168.305 163.45,-174.194\"/>\r\n",
       "<text text-anchor=\"middle\" x=\"148.897\" y=\"-166.598\" font-family=\"Times New Roman,serif\" font-size=\"14.00\">a</text>\r\n",
       "</g>\r\n",
       "<!-- F3 -->\r\n",
       "<g id=\"node10\" class=\"node\"><title>F3</title>\r\n",
       "<ellipse fill=\"none\" stroke=\"black\" cx=\"287.791\" cy=\"-80.7982\" rx=\"20.6302\" ry=\"20.6302\"/>\r\n",
       "<ellipse fill=\"none\" stroke=\"black\" cx=\"287.791\" cy=\"-80.7982\" rx=\"24.5979\" ry=\"24.5979\"/>\r\n",
       "<text text-anchor=\"middle\" x=\"287.791\" y=\"-77.0982\" font-family=\"Times New Roman,serif\" font-size=\"14.00\">F3</text>\r\n",
       "</g>\r\n",
       "<!-- I1&#45;&gt;F3 -->\r\n",
       "<g id=\"edge3\" class=\"edge\"><title>I1&#45;&gt;F3</title>\r\n",
       "<path fill=\"none\" stroke=\"black\" d=\"M126.812,-130.624C155.771,-121.604 216.003,-102.845 253.737,-91.0931\"/>\r\n",
       "<polygon fill=\"black\" stroke=\"black\" points=\"255.231,-94.2934 263.738,-87.9781 253.15,-87.6101 255.231,-94.2934\"/>\r\n",
       "<text text-anchor=\"middle\" x=\"195.195\" y=\"-120.598\" font-family=\"Times New Roman,serif\" font-size=\"14.00\">b</text>\r\n",
       "</g>\r\n",
       "<!-- S8 -->\r\n",
       "<g id=\"node6\" class=\"node\"><title>S8</title>\r\n",
       "<ellipse fill=\"none\" stroke=\"black\" cx=\"287.791\" cy=\"-189.798\" rx=\"20.5982\" ry=\"20.5982\"/>\r\n",
       "<text text-anchor=\"middle\" x=\"287.791\" y=\"-186.098\" font-family=\"Times New Roman,serif\" font-size=\"14.00\">S8</text>\r\n",
       "</g>\r\n",
       "<!-- S8&#45;&gt;F6 -->\r\n",
       "<g id=\"edge16\" class=\"edge\"><title>S8&#45;&gt;F6</title>\r\n",
       "<path fill=\"none\" stroke=\"black\" d=\"M306.515,-199.115C330.053,-210.162 372.568,-225.459 406.186,-211.798 425.141,-204.096 441.7,-188.264 453.708,-174.038\"/>\r\n",
       "<polygon fill=\"black\" stroke=\"black\" points=\"456.697,-175.907 460.236,-165.921 451.242,-171.52 456.697,-175.907\"/>\r\n",
       "<text text-anchor=\"middle\" x=\"381.388\" y=\"-221.598\" font-family=\"Times New Roman,serif\" font-size=\"14.00\">a</text>\r\n",
       "</g>\r\n",
       "<!-- F9 -->\r\n",
       "<g id=\"node9\" class=\"node\"><title>F9</title>\r\n",
       "<ellipse fill=\"none\" stroke=\"black\" cx=\"381.388\" cy=\"-144.798\" rx=\"20.6302\" ry=\"20.6302\"/>\r\n",
       "<ellipse fill=\"none\" stroke=\"black\" cx=\"381.388\" cy=\"-144.798\" rx=\"24.5979\" ry=\"24.5979\"/>\r\n",
       "<text text-anchor=\"middle\" x=\"381.388\" y=\"-141.098\" font-family=\"Times New Roman,serif\" font-size=\"14.00\">F9</text>\r\n",
       "</g>\r\n",
       "<!-- S8&#45;&gt;F9 -->\r\n",
       "<g id=\"edge17\" class=\"edge\"><title>S8&#45;&gt;F9</title>\r\n",
       "<path fill=\"none\" stroke=\"black\" d=\"M306.888,-180.908C319.003,-174.956 335.261,-166.968 349.406,-160.019\"/>\r\n",
       "<polygon fill=\"black\" stroke=\"black\" points=\"351.352,-162.963 358.784,-155.412 348.265,-156.68 351.352,-162.963\"/>\r\n",
       "<text text-anchor=\"middle\" x=\"334.589\" y=\"-172.598\" font-family=\"Times New Roman,serif\" font-size=\"14.00\">b</text>\r\n",
       "</g>\r\n",
       "<!-- F6&#45;&gt;F6 -->\r\n",
       "<g id=\"edge12\" class=\"edge\"><title>F6&#45;&gt;F6</title>\r\n",
       "<path fill=\"none\" stroke=\"black\" d=\"M470.698,-170.427C470.456,-180.305 471.884,-188.596 474.984,-188.596 476.921,-188.596 478.206,-185.358 478.838,-180.517\"/>\r\n",
       "<polygon fill=\"black\" stroke=\"black\" points=\"482.338,-180.568 479.27,-170.427 475.345,-180.268 482.338,-180.568\"/>\r\n",
       "<text text-anchor=\"middle\" x=\"474.984\" y=\"-192.396\" font-family=\"Times New Roman,serif\" font-size=\"14.00\">a</text>\r\n",
       "</g>\r\n",
       "<!-- F6&#45;&gt;F6 -->\r\n",
       "<g id=\"edge13\" class=\"edge\"><title>F6&#45;&gt;F6</title>\r\n",
       "<path fill=\"none\" stroke=\"black\" d=\"M467.473,-169.512C464.664,-187.871 467.167,-206.596 474.984,-206.596 481.335,-206.596 484.178,-194.235 483.515,-179.752\"/>\r\n",
       "<polygon fill=\"black\" stroke=\"black\" points=\"486.969,-179.116 482.495,-169.512 480.003,-179.81 486.969,-179.116\"/>\r\n",
       "<text text-anchor=\"middle\" x=\"474.984\" y=\"-210.396\" font-family=\"Times New Roman,serif\" font-size=\"14.00\">b</text>\r\n",
       "</g>\r\n",
       "<!-- F2&#45;&gt;S5 -->\r\n",
       "<g id=\"edge5\" class=\"edge\"><title>F2&#45;&gt;S5</title>\r\n",
       "<path fill=\"none\" stroke=\"black\" d=\"M217.324,-201.614C250.981,-220.434 316.722,-257.196 353.621,-277.83\"/>\r\n",
       "<polygon fill=\"black\" stroke=\"black\" points=\"352.342,-281.125 362.779,-282.951 355.759,-275.016 352.342,-281.125\"/>\r\n",
       "<text text-anchor=\"middle\" x=\"287.791\" y=\"-259.598\" font-family=\"Times New Roman,serif\" font-size=\"14.00\">b</text>\r\n",
       "</g>\r\n",
       "<!-- F2&#45;&gt;S8 -->\r\n",
       "<g id=\"edge4\" class=\"edge\"><title>F2&#45;&gt;S8</title>\r\n",
       "<path fill=\"none\" stroke=\"black\" d=\"M219.998,-189.798C231.27,-189.798 244.855,-189.798 256.821,-189.798\"/>\r\n",
       "<polygon fill=\"black\" stroke=\"black\" points=\"256.822,-193.298 266.822,-189.798 256.822,-186.298 256.822,-193.298\"/>\r\n",
       "<text text-anchor=\"middle\" x=\"241.493\" y=\"-193.598\" font-family=\"Times New Roman,serif\" font-size=\"14.00\">a</text>\r\n",
       "</g>\r\n",
       "<!-- F9&#45;&gt;F6 -->\r\n",
       "<g id=\"edge19\" class=\"edge\"><title>F9&#45;&gt;F6</title>\r\n",
       "<path fill=\"none\" stroke=\"black\" d=\"M406.453,-145.061C416.656,-145.172 428.732,-145.304 439.83,-145.425\"/>\r\n",
       "<polygon fill=\"black\" stroke=\"black\" points=\"440.041,-148.928 450.079,-145.537 440.118,-141.928 440.041,-148.928\"/>\r\n",
       "<text text-anchor=\"middle\" x=\"428.186\" y=\"-149.598\" font-family=\"Times New Roman,serif\" font-size=\"14.00\">b</text>\r\n",
       "</g>\r\n",
       "<!-- F9&#45;&gt;F9 -->\r\n",
       "<g id=\"edge18\" class=\"edge\"><title>F9&#45;&gt;F9</title>\r\n",
       "<path fill=\"none\" stroke=\"black\" d=\"M372.897,-168.13C372.089,-178.569 374.919,-187.596 381.388,-187.596 385.532,-187.596 388.182,-183.891 389.34,-178.484\"/>\r\n",
       "<polygon fill=\"black\" stroke=\"black\" points=\"392.854,-178.298 389.878,-168.13 385.863,-177.935 392.854,-178.298\"/>\r\n",
       "<text text-anchor=\"middle\" x=\"381.388\" y=\"-191.396\" font-family=\"Times New Roman,serif\" font-size=\"14.00\">a</text>\r\n",
       "</g>\r\n",
       "<!-- F3&#45;&gt;S4 -->\r\n",
       "<g id=\"edge7\" class=\"edge\"><title>F3&#45;&gt;S4</title>\r\n",
       "<path fill=\"none\" stroke=\"black\" d=\"M312.857,-80.7982C324.336,-80.7982 338.186,-80.7982 350.348,-80.7982\"/>\r\n",
       "<polygon fill=\"black\" stroke=\"black\" points=\"350.498,-84.2983 360.498,-80.7982 350.498,-77.2983 350.498,-84.2983\"/>\r\n",
       "<text text-anchor=\"middle\" x=\"334.589\" y=\"-84.5982\" font-family=\"Times New Roman,serif\" font-size=\"14.00\">b</text>\r\n",
       "</g>\r\n",
       "<!-- F3&#45;&gt;S7 -->\r\n",
       "<g id=\"edge6\" class=\"edge\"><title>F3&#45;&gt;S7</title>\r\n",
       "<path fill=\"none\" stroke=\"black\" d=\"M309.119,-67.4822C322.65,-58.6192 340.529,-46.9074 354.994,-37.4319\"/>\r\n",
       "<polygon fill=\"black\" stroke=\"black\" points=\"357.043,-40.2738 363.491,-31.8664 353.208,-34.4182 357.043,-40.2738\"/>\r\n",
       "<text text-anchor=\"middle\" x=\"334.589\" y=\"-56.5982\" font-family=\"Times New Roman,serif\" font-size=\"14.00\">a</text>\r\n",
       "</g>\r\n",
       "</g>\r\n",
       "</svg>\r\n"
      ],
      "text/plain": [
       "<graphviz.dot.Digraph at 0x1fb008b7e80>"
      ]
     },
     "execution_count": 66,
     "metadata": {},
     "output_type": "execute_result"
    }
   ],
   "source": [
    "DOblimp"
   ]
  },
  {
   "cell_type": "code",
   "execution_count": 67,
   "metadata": {
    "run_control": {
     "frozen": false,
     "read_only": false
    }
   },
   "outputs": [
    {
     "data": {
      "image/svg+xml": [
       "<?xml version=\"1.0\" encoding=\"UTF-8\" standalone=\"no\"?>\r\n",
       "<!DOCTYPE svg PUBLIC \"-//W3C//DTD SVG 1.1//EN\"\r\n",
       " \"http://www.w3.org/Graphics/SVG/1.1/DTD/svg11.dtd\">\r\n",
       "<!-- Generated by graphviz version 2.38.0 (20140413.2041)\r\n",
       " -->\r\n",
       "<!-- Title: %3 Pages: 1 -->\r\n",
       "<svg width=\"546pt\" height=\"320pt\"\r\n",
       " viewBox=\"0.00 0.00 546.38 319.80\" xmlns=\"http://www.w3.org/2000/svg\" xmlns:xlink=\"http://www.w3.org/1999/xlink\">\r\n",
       "<g id=\"graph0\" class=\"graph\" transform=\"scale(1 1) rotate(0) translate(4 315.798)\">\r\n",
       "<title>%3</title>\r\n",
       "<polygon fill=\"white\" stroke=\"none\" points=\"-4,4 -4,-315.798 542.378,-315.798 542.378,4 -4,4\"/>\r\n",
       "<!-- EMPTY -->\r\n",
       "<g id=\"node1\" class=\"node\"><title>EMPTY</title>\r\n",
       "</g>\r\n",
       "<!-- I1 -->\r\n",
       "<g id=\"node5\" class=\"node\"><title>I1</title>\r\n",
       "<ellipse fill=\"none\" stroke=\"black\" cx=\"109.198\" cy=\"-131.798\" rx=\"18.399\" ry=\"18.399\"/>\r\n",
       "<text text-anchor=\"middle\" x=\"109.198\" y=\"-128.098\" font-family=\"Times New Roman,serif\" font-size=\"14.00\">I1</text>\r\n",
       "</g>\r\n",
       "<!-- EMPTY&#45;&gt;I1 -->\r\n",
       "<g id=\"edge1\" class=\"edge\"><title>EMPTY&#45;&gt;I1</title>\r\n",
       "<path fill=\"none\" stroke=\"black\" d=\"M54.26,-131.798C62.7397,-131.798 72.1605,-131.798 80.7255,-131.798\"/>\r\n",
       "<polygon fill=\"black\" stroke=\"black\" points=\"80.9815,-135.298 90.9815,-131.798 80.9815,-128.298 80.9815,-135.298\"/>\r\n",
       "</g>\r\n",
       "<!-- S4 -->\r\n",
       "<g id=\"node2\" class=\"node\"><title>S4</title>\r\n",
       "<ellipse fill=\"none\" stroke=\"black\" cx=\"415.984\" cy=\"-80.7982\" rx=\"20.5982\" ry=\"20.5982\"/>\r\n",
       "<text text-anchor=\"middle\" x=\"415.984\" y=\"-77.0982\" font-family=\"Times New Roman,serif\" font-size=\"14.00\">S4</text>\r\n",
       "</g>\r\n",
       "<!-- F6 -->\r\n",
       "<g id=\"node7\" class=\"node\"><title>F6</title>\r\n",
       "<ellipse fill=\"none\" stroke=\"black\" cx=\"513.58\" cy=\"-144.798\" rx=\"20.6302\" ry=\"20.6302\"/>\r\n",
       "<ellipse fill=\"none\" stroke=\"black\" cx=\"513.58\" cy=\"-144.798\" rx=\"24.5979\" ry=\"24.5979\"/>\r\n",
       "<text text-anchor=\"middle\" x=\"513.58\" y=\"-141.098\" font-family=\"Times New Roman,serif\" font-size=\"14.00\">F6</text>\r\n",
       "</g>\r\n",
       "<!-- S4&#45;&gt;F6 -->\r\n",
       "<g id=\"edge8\" class=\"edge\"><title>S4&#45;&gt;F6</title>\r\n",
       "<path fill=\"none\" stroke=\"black\" d=\"M434.89,-89.777C445.582,-95.3825 459.275,-102.997 470.782,-110.798 475.94,-114.295 481.245,-118.275 486.27,-122.25\"/>\r\n",
       "<polygon fill=\"black\" stroke=\"black\" points=\"484.42,-125.256 494.388,-128.847 488.835,-119.824 484.42,-125.256\"/>\r\n",
       "<text text-anchor=\"middle\" x=\"464.782\" y=\"-129.598\" font-family=\"Times New Roman,serif\" font-size=\"14.00\">a </text>\r\n",
       "<text text-anchor=\"middle\" x=\"464.782\" y=\"-114.598\" font-family=\"Times New Roman,serif\" font-size=\"14.00\"> b</text>\r\n",
       "</g>\r\n",
       "<!-- S7 -->\r\n",
       "<g id=\"node3\" class=\"node\"><title>S7</title>\r\n",
       "<ellipse fill=\"none\" stroke=\"black\" cx=\"415.984\" cy=\"-20.7982\" rx=\"20.5982\" ry=\"20.5982\"/>\r\n",
       "<text text-anchor=\"middle\" x=\"415.984\" y=\"-17.0982\" font-family=\"Times New Roman,serif\" font-size=\"14.00\">S7</text>\r\n",
       "</g>\r\n",
       "<!-- S7&#45;&gt;F6 -->\r\n",
       "<g id=\"edge11\" class=\"edge\"><title>S7&#45;&gt;F6</title>\r\n",
       "<path fill=\"none\" stroke=\"black\" d=\"M433.344,-33.3252C444.736,-42.5824 459.795,-55.9375 470.782,-69.7982 481.239,-82.9912 490.605,-99.1405 497.807,-113.07\"/>\r\n",
       "<polygon fill=\"black\" stroke=\"black\" points=\"494.822,-114.926 502.434,-122.295 501.079,-111.787 494.822,-114.926\"/>\r\n",
       "<text text-anchor=\"middle\" x=\"464.782\" y=\"-88.5982\" font-family=\"Times New Roman,serif\" font-size=\"14.00\">a </text>\r\n",
       "<text text-anchor=\"middle\" x=\"464.782\" y=\"-73.5982\" font-family=\"Times New Roman,serif\" font-size=\"14.00\"> b</text>\r\n",
       "</g>\r\n",
       "<!-- S5 -->\r\n",
       "<g id=\"node4\" class=\"node\"><title>S5</title>\r\n",
       "<ellipse fill=\"none\" stroke=\"black\" cx=\"352.388\" cy=\"-281.798\" rx=\"20.5982\" ry=\"20.5982\"/>\r\n",
       "<text text-anchor=\"middle\" x=\"352.388\" y=\"-278.098\" font-family=\"Times New Roman,serif\" font-size=\"14.00\">S5</text>\r\n",
       "</g>\r\n",
       "<!-- S5&#45;&gt;F6 -->\r\n",
       "<g id=\"edge9\" class=\"edge\"><title>S5&#45;&gt;F6</title>\r\n",
       "<path fill=\"none\" stroke=\"black\" d=\"M373.366,-282.208C398.984,-281.659 443.364,-276.936 470.782,-252.798 491.946,-234.166 502.466,-203.535 507.652,-179.644\"/>\r\n",
       "<polygon fill=\"black\" stroke=\"black\" points=\"511.144,-180.026 509.621,-169.542 504.273,-178.687 511.144,-180.026\"/>\r\n",
       "<text text-anchor=\"middle\" x=\"415.984\" y=\"-300.598\" font-family=\"Times New Roman,serif\" font-size=\"14.00\">a </text>\r\n",
       "<text text-anchor=\"middle\" x=\"415.984\" y=\"-285.598\" font-family=\"Times New Roman,serif\" font-size=\"14.00\"> b</text>\r\n",
       "</g>\r\n",
       "<!-- F2 -->\r\n",
       "<g id=\"node8\" class=\"node\"><title>F2</title>\r\n",
       "<ellipse fill=\"none\" stroke=\"black\" cx=\"195.195\" cy=\"-184.798\" rx=\"20.6302\" ry=\"20.6302\"/>\r\n",
       "<ellipse fill=\"none\" stroke=\"black\" cx=\"195.195\" cy=\"-184.798\" rx=\"24.5979\" ry=\"24.5979\"/>\r\n",
       "<text text-anchor=\"middle\" x=\"195.195\" y=\"-181.098\" font-family=\"Times New Roman,serif\" font-size=\"14.00\">F2</text>\r\n",
       "</g>\r\n",
       "<!-- I1&#45;&gt;F2 -->\r\n",
       "<g id=\"edge2\" class=\"edge\"><title>I1&#45;&gt;F2</title>\r\n",
       "<path fill=\"none\" stroke=\"black\" d=\"M125.215,-141.273C136.364,-148.308 151.91,-158.117 165.423,-166.644\"/>\r\n",
       "<polygon fill=\"black\" stroke=\"black\" points=\"163.617,-169.643 173.942,-172.019 167.353,-163.723 163.617,-169.643\"/>\r\n",
       "<text text-anchor=\"middle\" x=\"148.897\" y=\"-162.598\" font-family=\"Times New Roman,serif\" font-size=\"14.00\">a</text>\r\n",
       "</g>\r\n",
       "<!-- F3 -->\r\n",
       "<g id=\"node10\" class=\"node\"><title>F3</title>\r\n",
       "<ellipse fill=\"none\" stroke=\"black\" cx=\"288.791\" cy=\"-80.7982\" rx=\"20.6302\" ry=\"20.6302\"/>\r\n",
       "<ellipse fill=\"none\" stroke=\"black\" cx=\"288.791\" cy=\"-80.7982\" rx=\"24.5979\" ry=\"24.5979\"/>\r\n",
       "<text text-anchor=\"middle\" x=\"288.791\" y=\"-77.0982\" font-family=\"Times New Roman,serif\" font-size=\"14.00\">F3</text>\r\n",
       "</g>\r\n",
       "<!-- I1&#45;&gt;F3 -->\r\n",
       "<g id=\"edge3\" class=\"edge\"><title>I1&#45;&gt;F3</title>\r\n",
       "<path fill=\"none\" stroke=\"black\" d=\"M126.906,-127C156.03,-118.637 216.602,-101.242 254.549,-90.3444\"/>\r\n",
       "<polygon fill=\"black\" stroke=\"black\" points=\"255.962,-93.5802 264.608,-87.4559 254.03,-86.8521 255.962,-93.5802\"/>\r\n",
       "<text text-anchor=\"middle\" x=\"195.195\" y=\"-118.598\" font-family=\"Times New Roman,serif\" font-size=\"14.00\">b</text>\r\n",
       "</g>\r\n",
       "<!-- S8 -->\r\n",
       "<g id=\"node6\" class=\"node\"><title>S8</title>\r\n",
       "<ellipse fill=\"none\" stroke=\"black\" cx=\"288.791\" cy=\"-184.798\" rx=\"20.5982\" ry=\"20.5982\"/>\r\n",
       "<text text-anchor=\"middle\" x=\"288.791\" y=\"-181.098\" font-family=\"Times New Roman,serif\" font-size=\"14.00\">S8</text>\r\n",
       "</g>\r\n",
       "<!-- S8&#45;&gt;F6 -->\r\n",
       "<g id=\"edge12\" class=\"edge\"><title>S8&#45;&gt;F6</title>\r\n",
       "<path fill=\"none\" stroke=\"black\" d=\"M307.615,-194.045C336.507,-207.718 394.949,-229.862 440.782,-211.798 460.991,-203.834 478.868,-187.202 491.729,-172.502\"/>\r\n",
       "<polygon fill=\"black\" stroke=\"black\" points=\"494.607,-174.517 498.341,-164.602 489.239,-170.024 494.607,-174.517\"/>\r\n",
       "<text text-anchor=\"middle\" x=\"415.984\" y=\"-222.598\" font-family=\"Times New Roman,serif\" font-size=\"14.00\">a</text>\r\n",
       "</g>\r\n",
       "<!-- F9 -->\r\n",
       "<g id=\"node9\" class=\"node\"><title>F9</title>\r\n",
       "<ellipse fill=\"none\" stroke=\"black\" cx=\"415.984\" cy=\"-144.798\" rx=\"20.6302\" ry=\"20.6302\"/>\r\n",
       "<ellipse fill=\"none\" stroke=\"black\" cx=\"415.984\" cy=\"-144.798\" rx=\"24.5979\" ry=\"24.5979\"/>\r\n",
       "<text text-anchor=\"middle\" x=\"415.984\" y=\"-141.098\" font-family=\"Times New Roman,serif\" font-size=\"14.00\">F9</text>\r\n",
       "</g>\r\n",
       "<!-- S8&#45;&gt;F9 -->\r\n",
       "<g id=\"edge13\" class=\"edge\"><title>S8&#45;&gt;F9</title>\r\n",
       "<path fill=\"none\" stroke=\"black\" d=\"M308.805,-178.723C328.23,-172.517 358.771,-162.759 382.121,-155.298\"/>\r\n",
       "<polygon fill=\"black\" stroke=\"black\" points=\"383.495,-158.533 391.956,-152.156 381.365,-151.865 383.495,-158.533\"/>\r\n",
       "<text text-anchor=\"middle\" x=\"352.388\" y=\"-174.598\" font-family=\"Times New Roman,serif\" font-size=\"14.00\">b</text>\r\n",
       "</g>\r\n",
       "<!-- F6&#45;&gt;F6 -->\r\n",
       "<g id=\"edge10\" class=\"edge\"><title>F6&#45;&gt;F6</title>\r\n",
       "<path fill=\"none\" stroke=\"black\" d=\"M504.721,-168.13C503.877,-178.569 506.83,-187.596 513.58,-187.596 517.904,-187.596 520.67,-183.891 521.878,-178.484\"/>\r\n",
       "<polygon fill=\"black\" stroke=\"black\" points=\"525.393,-178.305 522.44,-168.13 518.403,-177.926 525.393,-178.305\"/>\r\n",
       "<text text-anchor=\"middle\" x=\"513.58\" y=\"-206.396\" font-family=\"Times New Roman,serif\" font-size=\"14.00\">a </text>\r\n",
       "<text text-anchor=\"middle\" x=\"513.58\" y=\"-191.396\" font-family=\"Times New Roman,serif\" font-size=\"14.00\"> b</text>\r\n",
       "</g>\r\n",
       "<!-- F2&#45;&gt;S5 -->\r\n",
       "<g id=\"edge5\" class=\"edge\"><title>F2&#45;&gt;S5</title>\r\n",
       "<path fill=\"none\" stroke=\"black\" d=\"M216.803,-197.679C244.749,-215.146 294.674,-246.351 325.231,-265.45\"/>\r\n",
       "<polygon fill=\"black\" stroke=\"black\" points=\"323.712,-268.628 334.047,-270.96 327.422,-262.692 323.712,-268.628\"/>\r\n",
       "<text text-anchor=\"middle\" x=\"241.993\" y=\"-219.598\" font-family=\"Times New Roman,serif\" font-size=\"14.00\">b</text>\r\n",
       "</g>\r\n",
       "<!-- F2&#45;&gt;S8 -->\r\n",
       "<g id=\"edge4\" class=\"edge\"><title>F2&#45;&gt;S8</title>\r\n",
       "<path fill=\"none\" stroke=\"black\" d=\"M220.261,-184.798C231.74,-184.798 245.59,-184.798 257.751,-184.798\"/>\r\n",
       "<polygon fill=\"black\" stroke=\"black\" points=\"257.902,-188.298 267.902,-184.798 257.902,-181.298 257.902,-188.298\"/>\r\n",
       "<text text-anchor=\"middle\" x=\"241.993\" y=\"-188.598\" font-family=\"Times New Roman,serif\" font-size=\"14.00\">a</text>\r\n",
       "</g>\r\n",
       "<!-- F9&#45;&gt;F6 -->\r\n",
       "<g id=\"edge15\" class=\"edge\"><title>F9&#45;&gt;F6</title>\r\n",
       "<path fill=\"none\" stroke=\"black\" d=\"M441.107,-144.798C452.315,-144.798 465.847,-144.798 478.108,-144.798\"/>\r\n",
       "<polygon fill=\"black\" stroke=\"black\" points=\"478.465,-148.298 488.465,-144.798 478.465,-141.298 478.465,-148.298\"/>\r\n",
       "<text text-anchor=\"middle\" x=\"464.782\" y=\"-148.598\" font-family=\"Times New Roman,serif\" font-size=\"14.00\">b</text>\r\n",
       "</g>\r\n",
       "<!-- F9&#45;&gt;F9 -->\r\n",
       "<g id=\"edge14\" class=\"edge\"><title>F9&#45;&gt;F9</title>\r\n",
       "<path fill=\"none\" stroke=\"black\" d=\"M407.124,-168.13C406.281,-178.569 409.234,-187.596 415.984,-187.596 420.308,-187.596 423.074,-183.891 424.282,-178.484\"/>\r\n",
       "<polygon fill=\"black\" stroke=\"black\" points=\"427.797,-178.305 424.843,-168.13 420.807,-177.926 427.797,-178.305\"/>\r\n",
       "<text text-anchor=\"middle\" x=\"415.984\" y=\"-191.396\" font-family=\"Times New Roman,serif\" font-size=\"14.00\">a</text>\r\n",
       "</g>\r\n",
       "<!-- F3&#45;&gt;S4 -->\r\n",
       "<g id=\"edge7\" class=\"edge\"><title>F3&#45;&gt;S4</title>\r\n",
       "<path fill=\"none\" stroke=\"black\" d=\"M313.634,-80.7982C333.875,-80.7982 363.029,-80.7982 384.878,-80.7982\"/>\r\n",
       "<polygon fill=\"black\" stroke=\"black\" points=\"384.945,-84.2983 394.945,-80.7982 384.945,-77.2983 384.945,-84.2983\"/>\r\n",
       "<text text-anchor=\"middle\" x=\"352.388\" y=\"-84.5982\" font-family=\"Times New Roman,serif\" font-size=\"14.00\">b</text>\r\n",
       "</g>\r\n",
       "<!-- F3&#45;&gt;S7 -->\r\n",
       "<g id=\"edge6\" class=\"edge\"><title>F3&#45;&gt;S7</title>\r\n",
       "<path fill=\"none\" stroke=\"black\" d=\"M311.598,-70.347C332.685,-60.2409 364.71,-44.8925 387.524,-33.9585\"/>\r\n",
       "<polygon fill=\"black\" stroke=\"black\" points=\"389.174,-37.049 396.679,-29.5708 386.149,-30.7366 389.174,-37.049\"/>\r\n",
       "<text text-anchor=\"middle\" x=\"352.388\" y=\"-63.5982\" font-family=\"Times New Roman,serif\" font-size=\"14.00\">a</text>\r\n",
       "</g>\r\n",
       "</g>\r\n",
       "</svg>\r\n"
      ],
      "text/plain": [
       "<graphviz.dot.Digraph at 0x1fb008cb780>"
      ]
     },
     "execution_count": 67,
     "metadata": {},
     "output_type": "execute_result"
    }
   ],
   "source": [
    "dotObj_dfa(blimp, FuseEdges=True)"
   ]
  },
  {
   "cell_type": "markdown",
   "metadata": {
    "run_control": {
     "frozen": false,
     "read_only": false
    }
   },
   "source": [
    "# Classical minimization results in the following"
   ]
  },
  {
   "cell_type": "code",
   "execution_count": 68,
   "metadata": {
    "run_control": {
     "frozen": false,
     "read_only": false
    }
   },
   "outputs": [
    {
     "data": {
      "image/svg+xml": [
       "<?xml version=\"1.0\" encoding=\"UTF-8\" standalone=\"no\"?>\r\n",
       "<!DOCTYPE svg PUBLIC \"-//W3C//DTD SVG 1.1//EN\"\r\n",
       " \"http://www.w3.org/Graphics/SVG/1.1/DTD/svg11.dtd\">\r\n",
       "<!-- Generated by graphviz version 2.38.0 (20140413.2041)\r\n",
       " -->\r\n",
       "<!-- Title: %3 Pages: 1 -->\r\n",
       "<svg width=\"408pt\" height=\"124pt\"\r\n",
       " viewBox=\"0.00 0.00 408.19 123.60\" xmlns=\"http://www.w3.org/2000/svg\" xmlns:xlink=\"http://www.w3.org/1999/xlink\">\r\n",
       "<g id=\"graph0\" class=\"graph\" transform=\"scale(1 1) rotate(0) translate(4 119.596)\">\r\n",
       "<title>%3</title>\r\n",
       "<polygon fill=\"white\" stroke=\"none\" points=\"-4,4 -4,-119.596 404.186,-119.596 404.186,4 -4,4\"/>\r\n",
       "<!-- EMPTY -->\r\n",
       "<g id=\"node1\" class=\"node\"><title>EMPTY</title>\r\n",
       "</g>\r\n",
       "<!-- I1 -->\r\n",
       "<g id=\"node3\" class=\"node\"><title>I1</title>\r\n",
       "<ellipse fill=\"none\" stroke=\"black\" cx=\"109.198\" cy=\"-24.7982\" rx=\"18.399\" ry=\"18.399\"/>\r\n",
       "<text text-anchor=\"middle\" x=\"109.198\" y=\"-21.0982\" font-family=\"Times New Roman,serif\" font-size=\"14.00\">I1</text>\r\n",
       "</g>\r\n",
       "<!-- EMPTY&#45;&gt;I1 -->\r\n",
       "<g id=\"edge1\" class=\"edge\"><title>EMPTY&#45;&gt;I1</title>\r\n",
       "<path fill=\"none\" stroke=\"black\" d=\"M54.26,-24.7982C62.7397,-24.7982 72.1605,-24.7982 80.7255,-24.7982\"/>\r\n",
       "<polygon fill=\"black\" stroke=\"black\" points=\"80.9815,-28.2983 90.9815,-24.7982 80.9815,-21.2983 80.9815,-28.2983\"/>\r\n",
       "</g>\r\n",
       "<!-- S4 -->\r\n",
       "<g id=\"node2\" class=\"node\"><title>S4</title>\r\n",
       "<ellipse fill=\"none\" stroke=\"black\" cx=\"285.791\" cy=\"-24.7982\" rx=\"20.5982\" ry=\"20.5982\"/>\r\n",
       "<text text-anchor=\"middle\" x=\"285.791\" y=\"-21.0982\" font-family=\"Times New Roman,serif\" font-size=\"14.00\">S4</text>\r\n",
       "</g>\r\n",
       "<!-- F6 -->\r\n",
       "<g id=\"node4\" class=\"node\"><title>F6</title>\r\n",
       "<ellipse fill=\"none\" stroke=\"black\" cx=\"375.388\" cy=\"-24.7982\" rx=\"20.6302\" ry=\"20.6302\"/>\r\n",
       "<ellipse fill=\"none\" stroke=\"black\" cx=\"375.388\" cy=\"-24.7982\" rx=\"24.5979\" ry=\"24.5979\"/>\r\n",
       "<text text-anchor=\"middle\" x=\"375.388\" y=\"-21.0982\" font-family=\"Times New Roman,serif\" font-size=\"14.00\">F6</text>\r\n",
       "</g>\r\n",
       "<!-- S4&#45;&gt;F6 -->\r\n",
       "<g id=\"edge6\" class=\"edge\"><title>S4&#45;&gt;F6</title>\r\n",
       "<path fill=\"none\" stroke=\"black\" d=\"M306.668,-24.7982C316.639,-24.7982 328.996,-24.7982 340.414,-24.7982\"/>\r\n",
       "<polygon fill=\"black\" stroke=\"black\" points=\"340.54,-28.2983 350.54,-24.7982 340.54,-21.2983 340.54,-28.2983\"/>\r\n",
       "<text text-anchor=\"middle\" x=\"328.589\" y=\"-28.5982\" font-family=\"Times New Roman,serif\" font-size=\"14.00\">a</text>\r\n",
       "</g>\r\n",
       "<!-- S4&#45;&gt;F6 -->\r\n",
       "<g id=\"edge7\" class=\"edge\"><title>S4&#45;&gt;F6</title>\r\n",
       "<path fill=\"none\" stroke=\"black\" d=\"M303.832,-14.119C310.112,-10.7632 317.443,-7.49322 324.589,-5.79815 331.365,-4.19111 338.459,-5.17051 345.101,-7.35465\"/>\r\n",
       "<polygon fill=\"black\" stroke=\"black\" points=\"343.84,-10.6213 354.416,-11.2558 346.544,-4.16462 343.84,-10.6213\"/>\r\n",
       "<text text-anchor=\"middle\" x=\"328.589\" y=\"-9.59815\" font-family=\"Times New Roman,serif\" font-size=\"14.00\">b</text>\r\n",
       "</g>\r\n",
       "<!-- F2 -->\r\n",
       "<g id=\"node5\" class=\"node\"><title>F2</title>\r\n",
       "<ellipse fill=\"none\" stroke=\"black\" cx=\"196.195\" cy=\"-24.7982\" rx=\"20.6302\" ry=\"20.6302\"/>\r\n",
       "<ellipse fill=\"none\" stroke=\"black\" cx=\"196.195\" cy=\"-24.7982\" rx=\"24.5979\" ry=\"24.5979\"/>\r\n",
       "<text text-anchor=\"middle\" x=\"196.195\" y=\"-21.0982\" font-family=\"Times New Roman,serif\" font-size=\"14.00\">F2</text>\r\n",
       "</g>\r\n",
       "<!-- I1&#45;&gt;F2 -->\r\n",
       "<g id=\"edge2\" class=\"edge\"><title>I1&#45;&gt;F2</title>\r\n",
       "<path fill=\"none\" stroke=\"black\" d=\"M127.399,-24.7982C137.055,-24.7982 149.451,-24.7982 160.996,-24.7982\"/>\r\n",
       "<polygon fill=\"black\" stroke=\"black\" points=\"161.257,-28.2983 171.257,-24.7982 161.257,-21.2983 161.257,-28.2983\"/>\r\n",
       "<text text-anchor=\"middle\" x=\"149.397\" y=\"-28.5982\" font-family=\"Times New Roman,serif\" font-size=\"14.00\">a</text>\r\n",
       "</g>\r\n",
       "<!-- I1&#45;&gt;F2 -->\r\n",
       "<g id=\"edge3\" class=\"edge\"><title>I1&#45;&gt;F2</title>\r\n",
       "<path fill=\"none\" stroke=\"black\" d=\"M124.598,-14.9319C130.725,-11.304 138.125,-7.63538 145.397,-5.79815 152.148,-4.09238 159.233,-5.03109 165.872,-7.207\"/>\r\n",
       "<polygon fill=\"black\" stroke=\"black\" points=\"164.614,-10.4748 175.189,-11.1163 167.322,-4.01987 164.614,-10.4748\"/>\r\n",
       "<text text-anchor=\"middle\" x=\"149.397\" y=\"-9.59815\" font-family=\"Times New Roman,serif\" font-size=\"14.00\">b</text>\r\n",
       "</g>\r\n",
       "<!-- F6&#45;&gt;F6 -->\r\n",
       "<g id=\"edge8\" class=\"edge\"><title>F6&#45;&gt;F6</title>\r\n",
       "<path fill=\"none\" stroke=\"black\" d=\"M371.101,-49.4271C370.859,-59.3052 372.288,-67.5963 375.388,-67.5963 377.325,-67.5963 378.609,-64.3576 379.241,-59.5169\"/>\r\n",
       "<polygon fill=\"black\" stroke=\"black\" points=\"382.742,-59.5679 379.674,-49.4271 375.749,-59.2681 382.742,-59.5679\"/>\r\n",
       "<text text-anchor=\"middle\" x=\"375.388\" y=\"-71.3963\" font-family=\"Times New Roman,serif\" font-size=\"14.00\">a</text>\r\n",
       "</g>\r\n",
       "<!-- F6&#45;&gt;F6 -->\r\n",
       "<g id=\"edge9\" class=\"edge\"><title>F6&#45;&gt;F6</title>\r\n",
       "<path fill=\"none\" stroke=\"black\" d=\"M367.876,-48.5124C365.067,-66.8715 367.571,-85.5963 375.388,-85.5963 381.738,-85.5963 384.582,-73.235 383.918,-58.7521\"/>\r\n",
       "<polygon fill=\"black\" stroke=\"black\" points=\"387.372,-58.1163 382.899,-48.5124 380.407,-58.81 387.372,-58.1163\"/>\r\n",
       "<text text-anchor=\"middle\" x=\"375.388\" y=\"-89.3963\" font-family=\"Times New Roman,serif\" font-size=\"14.00\">b</text>\r\n",
       "</g>\r\n",
       "<!-- F2&#45;&gt;S4 -->\r\n",
       "<g id=\"edge4\" class=\"edge\"><title>F2&#45;&gt;S4</title>\r\n",
       "<path fill=\"none\" stroke=\"black\" d=\"M221.131,-24.7982C231.496,-24.7982 243.743,-24.7982 254.713,-24.7982\"/>\r\n",
       "<polygon fill=\"black\" stroke=\"black\" points=\"254.736,-28.2983 264.736,-24.7982 254.736,-21.2983 254.736,-28.2983\"/>\r\n",
       "<text text-anchor=\"middle\" x=\"242.993\" y=\"-28.5982\" font-family=\"Times New Roman,serif\" font-size=\"14.00\">a</text>\r\n",
       "</g>\r\n",
       "<!-- F2&#45;&gt;S4 -->\r\n",
       "<g id=\"edge5\" class=\"edge\"><title>F2&#45;&gt;S4</title>\r\n",
       "<path fill=\"none\" stroke=\"black\" d=\"M217.166,-11.2558C226.117,-6.74401 236.909,-3.40628 246.993,-5.79815 250.901,-6.72514 254.865,-8.12314 258.681,-9.74861\"/>\r\n",
       "<polygon fill=\"black\" stroke=\"black\" points=\"257.223,-12.931 267.751,-14.119 260.262,-6.62497 257.223,-12.931\"/>\r\n",
       "<text text-anchor=\"middle\" x=\"242.993\" y=\"-9.59815\" font-family=\"Times New Roman,serif\" font-size=\"14.00\">b</text>\r\n",
       "</g>\r\n",
       "</g>\r\n",
       "</svg>\r\n"
      ],
      "text/plain": [
       "<graphviz.dot.Digraph at 0x1fb008b71d0>"
      ]
     },
     "execution_count": 68,
     "metadata": {},
     "output_type": "execute_result"
    }
   ],
   "source": [
    "classic_min = min_dfa(blimp)\n",
    "dotObj_dfa(classic_min)"
   ]
  },
  {
   "cell_type": "markdown",
   "metadata": {
    "run_control": {
     "frozen": false,
     "read_only": false
    }
   },
   "source": [
    "# Now let's study Brzozowski minimization; its code is a one-liner!"
   ]
  },
  {
   "cell_type": "code",
   "execution_count": 69,
   "metadata": {
    "run_control": {
     "frozen": false,
     "read_only": false
    }
   },
   "outputs": [],
   "source": [
    "# Brzozowski Minimizer code\n",
    "def min_dfa_brz(D):\n",
    "    \"\"\"Minimize a DFA as per Brzozowski's algorithm.\n",
    "    \"\"\"\n",
    "    return nfa2dfa(rev_dfa(nfa2dfa(rev_dfa(D))))"
   ]
  },
  {
   "cell_type": "markdown",
   "metadata": {
    "run_control": {
     "frozen": false,
     "read_only": false
    }
   },
   "source": [
    "## Step 1: Reverse the given DFA"
   ]
  },
  {
   "cell_type": "code",
   "execution_count": 70,
   "metadata": {
    "run_control": {
     "frozen": false,
     "read_only": false
    },
    "scrolled": true
   },
   "outputs": [
    {
     "data": {
      "image/svg+xml": [
       "<?xml version=\"1.0\" encoding=\"UTF-8\" standalone=\"no\"?>\r\n",
       "<!DOCTYPE svg PUBLIC \"-//W3C//DTD SVG 1.1//EN\"\r\n",
       " \"http://www.w3.org/Graphics/SVG/1.1/DTD/svg11.dtd\">\r\n",
       "<!-- Generated by graphviz version 2.38.0 (20140413.2041)\r\n",
       " -->\r\n",
       "<!-- Title: %3 Pages: 1 -->\r\n",
       "<svg width=\"484pt\" height=\"367pt\"\r\n",
       " viewBox=\"0.00 0.00 483.78 367.12\" xmlns=\"http://www.w3.org/2000/svg\" xmlns:xlink=\"http://www.w3.org/1999/xlink\">\r\n",
       "<g id=\"graph0\" class=\"graph\" transform=\"scale(1 1) rotate(0) translate(4 363.118)\">\r\n",
       "<title>%3</title>\r\n",
       "<polygon fill=\"white\" stroke=\"none\" points=\"-4,4 -4,-363.118 479.782,-363.118 479.782,4 -4,4\"/>\r\n",
       "<!-- EMPTY -->\r\n",
       "<g id=\"node1\" class=\"node\"><title>EMPTY</title>\r\n",
       "</g>\r\n",
       "<!-- F6 -->\r\n",
       "<g id=\"node4\" class=\"node\"><title>F6</title>\r\n",
       "<ellipse fill=\"none\" stroke=\"black\" cx=\"111.798\" cy=\"-197\" rx=\"20.5982\" ry=\"20.5982\"/>\r\n",
       "<text text-anchor=\"middle\" x=\"111.798\" y=\"-193.3\" font-family=\"Times New Roman,serif\" font-size=\"14.00\">F6</text>\r\n",
       "</g>\r\n",
       "<!-- EMPTY&#45;&gt;F6 -->\r\n",
       "<g id=\"edge1\" class=\"edge\"><title>EMPTY&#45;&gt;F6</title>\r\n",
       "<path fill=\"none\" stroke=\"black\" d=\"M42.4223,-111.115C56.1447,-128.352 76.8711,-154.385 91.9066,-173.271\"/>\r\n",
       "<polygon fill=\"black\" stroke=\"black\" points=\"89.1999,-175.49 98.1666,-181.134 94.6763,-171.13 89.1999,-175.49\"/>\r\n",
       "</g>\r\n",
       "<!-- F9 -->\r\n",
       "<g id=\"node6\" class=\"node\"><title>F9</title>\r\n",
       "<ellipse fill=\"none\" stroke=\"black\" cx=\"197.394\" cy=\"-49\" rx=\"20.5982\" ry=\"20.5982\"/>\r\n",
       "<text text-anchor=\"middle\" x=\"197.394\" y=\"-45.3\" font-family=\"Times New Roman,serif\" font-size=\"14.00\">F9</text>\r\n",
       "</g>\r\n",
       "<!-- EMPTY&#45;&gt;F9 -->\r\n",
       "<g id=\"edge3\" class=\"edge\"><title>EMPTY&#45;&gt;F9</title>\r\n",
       "<path fill=\"none\" stroke=\"black\" d=\"M54.3116,-86.125C84.8951,-78.1338 135.228,-64.9823 167.05,-56.6674\"/>\r\n",
       "<polygon fill=\"black\" stroke=\"black\" points=\"168.287,-59.9618 177.077,-54.0474 166.517,-53.1892 168.287,-59.9618\"/>\r\n",
       "</g>\r\n",
       "<!-- F3 -->\r\n",
       "<g id=\"node7\" class=\"node\"><title>F3</title>\r\n",
       "<ellipse fill=\"none\" stroke=\"black\" cx=\"282.991\" cy=\"-288\" rx=\"20.5982\" ry=\"20.5982\"/>\r\n",
       "<text text-anchor=\"middle\" x=\"282.991\" y=\"-284.3\" font-family=\"Times New Roman,serif\" font-size=\"14.00\">F3</text>\r\n",
       "</g>\r\n",
       "<!-- EMPTY&#45;&gt;F3 -->\r\n",
       "<g id=\"edge4\" class=\"edge\"><title>EMPTY&#45;&gt;F3</title>\r\n",
       "<path fill=\"none\" stroke=\"black\" d=\"M29.7026,-111.093C34.0182,-148.498 48.268,-235.632 91,-293 128.114,-342.826 160.717,-374.595 218.193,-351 236.971,-343.291 253.173,-327.088 264.55,-313.045\"/>\r\n",
       "<polygon fill=\"black\" stroke=\"black\" points=\"267.337,-315.163 270.675,-305.107 261.795,-310.887 267.337,-315.163\"/>\r\n",
       "</g>\r\n",
       "<!-- F2 -->\r\n",
       "<g id=\"node8\" class=\"node\"><title>F2</title>\r\n",
       "<ellipse fill=\"none\" stroke=\"black\" cx=\"367.587\" cy=\"-162\" rx=\"20.5982\" ry=\"20.5982\"/>\r\n",
       "<text text-anchor=\"middle\" x=\"367.587\" y=\"-158.3\" font-family=\"Times New Roman,serif\" font-size=\"14.00\">F2</text>\r\n",
       "</g>\r\n",
       "<!-- EMPTY&#45;&gt;F2 -->\r\n",
       "<g id=\"edge2\" class=\"edge\"><title>EMPTY&#45;&gt;F2</title>\r\n",
       "<path fill=\"none\" stroke=\"black\" d=\"M34.7079,-74.6262C45.9265,-47.5231 71.238,-0 110.798,-0 110.798,-0 110.798,-0 283.991,-0 342.25,-0 359.436,-84.1841 364.491,-131.181\"/>\r\n",
       "<polygon fill=\"black\" stroke=\"black\" points=\"361.009,-131.531 365.442,-141.153 367.977,-130.866 361.009,-131.531\"/>\r\n",
       "</g>\r\n",
       "<!-- S4 -->\r\n",
       "<g id=\"node2\" class=\"node\"><title>S4</title>\r\n",
       "<ellipse fill=\"none\" stroke=\"black\" cx=\"197.394\" cy=\"-261\" rx=\"20.5982\" ry=\"20.5982\"/>\r\n",
       "<text text-anchor=\"middle\" x=\"197.394\" y=\"-257.3\" font-family=\"Times New Roman,serif\" font-size=\"14.00\">S4</text>\r\n",
       "</g>\r\n",
       "<!-- S4&#45;&gt;F3 -->\r\n",
       "<g id=\"edge5\" class=\"edge\"><title>S4&#45;&gt;F3</title>\r\n",
       "<path fill=\"none\" stroke=\"black\" d=\"M217.709,-265.507C225.938,-267.57 235.602,-270.181 244.193,-273 247.513,-274.089 250.963,-275.318 254.367,-276.592\"/>\r\n",
       "<polygon fill=\"black\" stroke=\"black\" points=\"253.11,-279.859 263.699,-280.222 255.648,-273.335 253.11,-279.859\"/>\r\n",
       "<text text-anchor=\"middle\" x=\"240.193\" y=\"-276.8\" font-family=\"Times New Roman,serif\" font-size=\"14.00\">b</text>\r\n",
       "</g>\r\n",
       "<!-- S7 -->\r\n",
       "<g id=\"node3\" class=\"node\"><title>S7</title>\r\n",
       "<ellipse fill=\"none\" stroke=\"black\" cx=\"197.394\" cy=\"-321\" rx=\"20.5982\" ry=\"20.5982\"/>\r\n",
       "<text text-anchor=\"middle\" x=\"197.394\" y=\"-317.3\" font-family=\"Times New Roman,serif\" font-size=\"14.00\">S7</text>\r\n",
       "</g>\r\n",
       "<!-- S7&#45;&gt;F3 -->\r\n",
       "<g id=\"edge6\" class=\"edge\"><title>S7&#45;&gt;F3</title>\r\n",
       "<path fill=\"none\" stroke=\"black\" d=\"M216.947,-313.676C227.878,-309.361 241.92,-303.818 254.157,-298.988\"/>\r\n",
       "<polygon fill=\"black\" stroke=\"black\" points=\"255.474,-302.231 263.49,-295.303 252.903,-295.72 255.474,-302.231\"/>\r\n",
       "<text text-anchor=\"middle\" x=\"240.193\" y=\"-309.8\" font-family=\"Times New Roman,serif\" font-size=\"14.00\">a</text>\r\n",
       "</g>\r\n",
       "<!-- F6&#45;&gt;S4 -->\r\n",
       "<g id=\"edge7\" class=\"edge\"><title>F6&#45;&gt;S4</title>\r\n",
       "<path fill=\"none\" stroke=\"black\" d=\"M129.002,-208.832C137.807,-215.312 148.856,-223.522 158.596,-231 163.165,-234.507 168.006,-238.295 172.643,-241.958\"/>\r\n",
       "<polygon fill=\"black\" stroke=\"black\" points=\"170.661,-244.853 180.668,-248.333 175.015,-239.372 170.661,-244.853\"/>\r\n",
       "<text text-anchor=\"middle\" x=\"154.596\" y=\"-234.8\" font-family=\"Times New Roman,serif\" font-size=\"14.00\">a</text>\r\n",
       "</g>\r\n",
       "<!-- F6&#45;&gt;S4 -->\r\n",
       "<g id=\"edge12\" class=\"edge\"><title>F6&#45;&gt;S4</title>\r\n",
       "<path fill=\"none\" stroke=\"black\" d=\"M122.964,-215.068C129.621,-225.43 139.189,-237.94 150.596,-246 155.379,-249.38 160.971,-252.033 166.571,-254.104\"/>\r\n",
       "<polygon fill=\"black\" stroke=\"black\" points=\"165.899,-257.561 176.489,-257.234 168.006,-250.886 165.899,-257.561\"/>\r\n",
       "<text text-anchor=\"middle\" x=\"154.596\" y=\"-254.8\" font-family=\"Times New Roman,serif\" font-size=\"14.00\">b</text>\r\n",
       "</g>\r\n",
       "<!-- F6&#45;&gt;S7 -->\r\n",
       "<g id=\"edge8\" class=\"edge\"><title>F6&#45;&gt;S7</title>\r\n",
       "<path fill=\"none\" stroke=\"black\" d=\"M120.892,-215.737C127.83,-230.94 138.587,-252.624 150.596,-270 157.641,-280.194 166.532,-290.532 174.601,-299.211\"/>\r\n",
       "<polygon fill=\"black\" stroke=\"black\" points=\"172.272,-301.84 181.705,-306.664 177.339,-297.01 172.272,-301.84\"/>\r\n",
       "<text text-anchor=\"middle\" x=\"154.596\" y=\"-284.8\" font-family=\"Times New Roman,serif\" font-size=\"14.00\">a</text>\r\n",
       "</g>\r\n",
       "<!-- F6&#45;&gt;S7 -->\r\n",
       "<g id=\"edge13\" class=\"edge\"><title>F6&#45;&gt;S7</title>\r\n",
       "<path fill=\"none\" stroke=\"black\" d=\"M115.569,-217.632C119.609,-240.368 129.129,-276.784 150.596,-300 155.195,-304.973 161.202,-308.859 167.345,-311.861\"/>\r\n",
       "<polygon fill=\"black\" stroke=\"black\" points=\"166.351,-315.239 176.926,-315.878 169.058,-308.784 166.351,-315.239\"/>\r\n",
       "<text text-anchor=\"middle\" x=\"154.596\" y=\"-310.8\" font-family=\"Times New Roman,serif\" font-size=\"14.00\">b</text>\r\n",
       "</g>\r\n",
       "<!-- F6&#45;&gt;F6 -->\r\n",
       "<g id=\"edge9\" class=\"edge\"><title>F6&#45;&gt;F6</title>\r\n",
       "<path fill=\"none\" stroke=\"black\" d=\"M108.306,-217.756C107.925,-227.385 109.089,-235.798 111.798,-235.798 113.449,-235.798 114.526,-232.674 115.029,-228.055\"/>\r\n",
       "<polygon fill=\"black\" stroke=\"black\" points=\"118.536,-227.842 115.29,-217.756 111.538,-227.665 118.536,-227.842\"/>\r\n",
       "<text text-anchor=\"middle\" x=\"111.798\" y=\"-239.598\" font-family=\"Times New Roman,serif\" font-size=\"14.00\">a</text>\r\n",
       "</g>\r\n",
       "<!-- F6&#45;&gt;F6 -->\r\n",
       "<g id=\"edge14\" class=\"edge\"><title>F6&#45;&gt;F6</title>\r\n",
       "<path fill=\"none\" stroke=\"black\" d=\"M105.895,-217.087C103.114,-234.869 105.081,-253.798 111.798,-253.798 117.256,-253.798 119.578,-241.302 118.765,-227.078\"/>\r\n",
       "<polygon fill=\"black\" stroke=\"black\" points=\"122.241,-226.66 117.702,-217.087 115.28,-227.401 122.241,-226.66\"/>\r\n",
       "<text text-anchor=\"middle\" x=\"111.798\" y=\"-257.598\" font-family=\"Times New Roman,serif\" font-size=\"14.00\">b</text>\r\n",
       "</g>\r\n",
       "<!-- S5 -->\r\n",
       "<g id=\"node5\" class=\"node\"><title>S5</title>\r\n",
       "<ellipse fill=\"none\" stroke=\"black\" cx=\"197.394\" cy=\"-142\" rx=\"20.5982\" ry=\"20.5982\"/>\r\n",
       "<text text-anchor=\"middle\" x=\"197.394\" y=\"-138.3\" font-family=\"Times New Roman,serif\" font-size=\"14.00\">S5</text>\r\n",
       "</g>\r\n",
       "<!-- F6&#45;&gt;S5 -->\r\n",
       "<g id=\"edge10\" class=\"edge\"><title>F6&#45;&gt;S5</title>\r\n",
       "<path fill=\"none\" stroke=\"black\" d=\"M118.082,-176.93C123.427,-161.086 133.413,-140.035 150.596,-130 156.279,-126.681 162.887,-126.612 169.285,-128.085\"/>\r\n",
       "<polygon fill=\"black\" stroke=\"black\" points=\"168.409,-131.484 179.004,-131.422 170.683,-124.864 168.409,-131.484\"/>\r\n",
       "<text text-anchor=\"middle\" x=\"154.596\" y=\"-133.8\" font-family=\"Times New Roman,serif\" font-size=\"14.00\">a</text>\r\n",
       "</g>\r\n",
       "<!-- F6&#45;&gt;S5 -->\r\n",
       "<g id=\"edge15\" class=\"edge\"><title>F6&#45;&gt;S5</title>\r\n",
       "<path fill=\"none\" stroke=\"black\" d=\"M128.625,-184.078C135.26,-178.868 143.151,-172.936 150.596,-168 156.638,-163.995 163.33,-159.977 169.69,-156.338\"/>\r\n",
       "<polygon fill=\"black\" stroke=\"black\" points=\"171.637,-159.26 178.657,-151.324 168.22,-153.15 171.637,-159.26\"/>\r\n",
       "<text text-anchor=\"middle\" x=\"154.596\" y=\"-171.8\" font-family=\"Times New Roman,serif\" font-size=\"14.00\">b</text>\r\n",
       "</g>\r\n",
       "<!-- F6&#45;&gt;F9 -->\r\n",
       "<g id=\"edge16\" class=\"edge\"><title>F6&#45;&gt;F9</title>\r\n",
       "<path fill=\"none\" stroke=\"black\" d=\"M119.604,-177.459C126.336,-159.174 137.51,-131.396 150.596,-109 158.004,-96.3226 167.701,-83.2486 176.264,-72.5537\"/>\r\n",
       "<polygon fill=\"black\" stroke=\"black\" points=\"179.198,-74.4951 182.822,-64.5397 173.78,-70.0617 179.198,-74.4951\"/>\r\n",
       "<text text-anchor=\"middle\" x=\"154.596\" y=\"-112.8\" font-family=\"Times New Roman,serif\" font-size=\"14.00\">b</text>\r\n",
       "</g>\r\n",
       "<!-- S8 -->\r\n",
       "<g id=\"node9\" class=\"node\"><title>S8</title>\r\n",
       "<ellipse fill=\"none\" stroke=\"black\" cx=\"282.991\" cy=\"-196\" rx=\"20.5982\" ry=\"20.5982\"/>\r\n",
       "<text text-anchor=\"middle\" x=\"282.991\" y=\"-192.3\" font-family=\"Times New Roman,serif\" font-size=\"14.00\">S8</text>\r\n",
       "</g>\r\n",
       "<!-- F6&#45;&gt;S8 -->\r\n",
       "<g id=\"edge11\" class=\"edge\"><title>F6&#45;&gt;S8</title>\r\n",
       "<path fill=\"none\" stroke=\"black\" d=\"M132.871,-196.881C162.254,-196.708 217.205,-196.383 251.569,-196.18\"/>\r\n",
       "<polygon fill=\"black\" stroke=\"black\" points=\"251.965,-199.678 261.944,-196.118 251.923,-192.678 251.965,-199.678\"/>\r\n",
       "<text text-anchor=\"middle\" x=\"197.394\" y=\"-200.8\" font-family=\"Times New Roman,serif\" font-size=\"14.00\">a</text>\r\n",
       "</g>\r\n",
       "<!-- S5&#45;&gt;F2 -->\r\n",
       "<g id=\"edge17\" class=\"edge\"><title>S5&#45;&gt;F2</title>\r\n",
       "<path fill=\"none\" stroke=\"black\" d=\"M218.264,-143.172C239.494,-144.547 274.105,-147.14 303.789,-151 314.738,-152.424 326.688,-154.408 337.198,-156.3\"/>\r\n",
       "<polygon fill=\"black\" stroke=\"black\" points=\"336.667,-159.761 347.137,-158.137 337.939,-152.877 336.667,-159.761\"/>\r\n",
       "<text text-anchor=\"middle\" x=\"282.991\" y=\"-155.8\" font-family=\"Times New Roman,serif\" font-size=\"14.00\">b</text>\r\n",
       "</g>\r\n",
       "<!-- F9&#45;&gt;F9 -->\r\n",
       "<g id=\"edge18\" class=\"edge\"><title>F9&#45;&gt;F9</title>\r\n",
       "<path fill=\"none\" stroke=\"black\" d=\"M189.796,-68.5637C188.627,-78.6796 191.16,-87.7982 197.394,-87.7982 201.388,-87.7982 203.863,-84.0559 204.819,-78.7065\"/>\r\n",
       "<polygon fill=\"black\" stroke=\"black\" points=\"208.321,-78.6222 204.993,-68.5637 201.322,-78.5021 208.321,-78.6222\"/>\r\n",
       "<text text-anchor=\"middle\" x=\"197.394\" y=\"-91.5982\" font-family=\"Times New Roman,serif\" font-size=\"14.00\">a</text>\r\n",
       "</g>\r\n",
       "<!-- F9&#45;&gt;S8 -->\r\n",
       "<g id=\"edge19\" class=\"edge\"><title>F9&#45;&gt;S8</title>\r\n",
       "<path fill=\"none\" stroke=\"black\" d=\"M208.478,-66.7316C222.977,-92.2265 249.825,-139.438 266.752,-169.204\"/>\r\n",
       "<polygon fill=\"black\" stroke=\"black\" points=\"263.885,-171.243 271.871,-178.205 269.97,-167.783 263.885,-171.243\"/>\r\n",
       "<text text-anchor=\"middle\" x=\"240.193\" y=\"-130.8\" font-family=\"Times New Roman,serif\" font-size=\"14.00\">b</text>\r\n",
       "</g>\r\n",
       "<!-- I1 -->\r\n",
       "<g id=\"node10\" class=\"node\"><title>I1</title>\r\n",
       "<ellipse fill=\"none\" stroke=\"black\" cx=\"453.584\" cy=\"-216\" rx=\"18.3625\" ry=\"18.3625\"/>\r\n",
       "<ellipse fill=\"none\" stroke=\"black\" cx=\"453.584\" cy=\"-216\" rx=\"22.3986\" ry=\"22.3986\"/>\r\n",
       "<text text-anchor=\"middle\" x=\"453.584\" y=\"-212.3\" font-family=\"Times New Roman,serif\" font-size=\"14.00\">I1</text>\r\n",
       "</g>\r\n",
       "<!-- F3&#45;&gt;I1 -->\r\n",
       "<g id=\"edge20\" class=\"edge\"><title>F3&#45;&gt;I1</title>\r\n",
       "<path fill=\"none\" stroke=\"black\" d=\"M302.354,-280.158C331.482,-267.718 388.535,-243.353 423.338,-228.49\"/>\r\n",
       "<polygon fill=\"black\" stroke=\"black\" points=\"425.124,-231.533 432.946,-224.387 422.374,-225.095 425.124,-231.533\"/>\r\n",
       "<text text-anchor=\"middle\" x=\"367.587\" y=\"-264.8\" font-family=\"Times New Roman,serif\" font-size=\"14.00\">b</text>\r\n",
       "</g>\r\n",
       "<!-- F2&#45;&gt;I1 -->\r\n",
       "<g id=\"edge21\" class=\"edge\"><title>F2&#45;&gt;I1</title>\r\n",
       "<path fill=\"none\" stroke=\"black\" d=\"M385.585,-172.928C397.114,-180.34 412.595,-190.292 425.771,-198.763\"/>\r\n",
       "<polygon fill=\"black\" stroke=\"black\" points=\"424.144,-201.877 434.448,-204.341 427.929,-195.989 424.144,-201.877\"/>\r\n",
       "<text text-anchor=\"middle\" x=\"409.885\" y=\"-194.8\" font-family=\"Times New Roman,serif\" font-size=\"14.00\">a</text>\r\n",
       "</g>\r\n",
       "<!-- S8&#45;&gt;F2 -->\r\n",
       "<g id=\"edge22\" class=\"edge\"><title>S8&#45;&gt;F2</title>\r\n",
       "<path fill=\"none\" stroke=\"black\" d=\"M302.733,-188.285C313.368,-183.907 326.881,-178.344 338.736,-173.465\"/>\r\n",
       "<polygon fill=\"black\" stroke=\"black\" points=\"340.289,-176.611 348.203,-169.567 337.624,-170.138 340.289,-176.611\"/>\r\n",
       "<text text-anchor=\"middle\" x=\"325.289\" y=\"-184.8\" font-family=\"Times New Roman,serif\" font-size=\"14.00\">a</text>\r\n",
       "</g>\r\n",
       "</g>\r\n",
       "</svg>\r\n"
      ],
      "text/plain": [
       "<graphviz.dot.Digraph at 0x1fb0089e6d8>"
      ]
     },
     "execution_count": 70,
     "metadata": {},
     "output_type": "execute_result"
    }
   ],
   "source": [
    "rblimp = rev_dfa(blimp)\n",
    "DOrblimp = dotObj_nfa(rblimp)\n",
    "DOrblimp"
   ]
  },
  {
   "cell_type": "code",
   "execution_count": 71,
   "metadata": {
    "run_control": {
     "frozen": false,
     "read_only": false
    }
   },
   "outputs": [
    {
     "data": {
      "image/svg+xml": [
       "<?xml version=\"1.0\" encoding=\"UTF-8\" standalone=\"no\"?>\r\n",
       "<!DOCTYPE svg PUBLIC \"-//W3C//DTD SVG 1.1//EN\"\r\n",
       " \"http://www.w3.org/Graphics/SVG/1.1/DTD/svg11.dtd\">\r\n",
       "<!-- Generated by graphviz version 2.38.0 (20140413.2041)\r\n",
       " -->\r\n",
       "<!-- Title: %3 Pages: 1 -->\r\n",
       "<svg width=\"521pt\" height=\"336pt\"\r\n",
       " viewBox=\"0.00 0.00 521.38 335.93\" xmlns=\"http://www.w3.org/2000/svg\" xmlns:xlink=\"http://www.w3.org/1999/xlink\">\r\n",
       "<g id=\"graph0\" class=\"graph\" transform=\"scale(1 1) rotate(0) translate(4 331.929)\">\r\n",
       "<title>%3</title>\r\n",
       "<polygon fill=\"white\" stroke=\"none\" points=\"-4,4 -4,-331.929 517.378,-331.929 517.378,4 -4,4\"/>\r\n",
       "<!-- EMPTY -->\r\n",
       "<g id=\"node1\" class=\"node\"><title>EMPTY</title>\r\n",
       "</g>\r\n",
       "<!-- F6 -->\r\n",
       "<g id=\"node4\" class=\"node\"><title>F6</title>\r\n",
       "<ellipse fill=\"none\" stroke=\"black\" cx=\"111.798\" cy=\"-172.929\" rx=\"20.5982\" ry=\"20.5982\"/>\r\n",
       "<text text-anchor=\"middle\" x=\"111.798\" y=\"-169.229\" font-family=\"Times New Roman,serif\" font-size=\"14.00\">F6</text>\r\n",
       "</g>\r\n",
       "<!-- EMPTY&#45;&gt;F6 -->\r\n",
       "<g id=\"edge1\" class=\"edge\"><title>EMPTY&#45;&gt;F6</title>\r\n",
       "<path fill=\"none\" stroke=\"black\" d=\"M46.7882,-235.549C59.312,-223.297 75.8182,-207.149 88.932,-194.321\"/>\r\n",
       "<polygon fill=\"black\" stroke=\"black\" points=\"91.5047,-196.7 96.2054,-187.205 86.6096,-191.696 91.5047,-196.7\"/>\r\n",
       "</g>\r\n",
       "<!-- F9 -->\r\n",
       "<g id=\"node6\" class=\"node\"><title>F9</title>\r\n",
       "<ellipse fill=\"none\" stroke=\"black\" cx=\"201.394\" cy=\"-207.929\" rx=\"20.5982\" ry=\"20.5982\"/>\r\n",
       "<text text-anchor=\"middle\" x=\"201.394\" y=\"-204.229\" font-family=\"Times New Roman,serif\" font-size=\"14.00\">F9</text>\r\n",
       "</g>\r\n",
       "<!-- EMPTY&#45;&gt;F9 -->\r\n",
       "<g id=\"edge3\" class=\"edge\"><title>EMPTY&#45;&gt;F9</title>\r\n",
       "<path fill=\"none\" stroke=\"black\" d=\"M54.166,-267.801C82.7423,-280.873 128.923,-295.738 162.596,-275.929 176.785,-267.583 186.031,-251.771 191.824,-237.495\"/>\r\n",
       "<polygon fill=\"black\" stroke=\"black\" points=\"195.161,-238.56 195.302,-227.966 188.585,-236.16 195.161,-238.56\"/>\r\n",
       "</g>\r\n",
       "<!-- F3 -->\r\n",
       "<g id=\"node7\" class=\"node\"><title>F3</title>\r\n",
       "<ellipse fill=\"none\" stroke=\"black\" cx=\"320.587\" cy=\"-66.9293\" rx=\"20.5982\" ry=\"20.5982\"/>\r\n",
       "<text text-anchor=\"middle\" x=\"320.587\" y=\"-63.2293\" font-family=\"Times New Roman,serif\" font-size=\"14.00\">F3</text>\r\n",
       "</g>\r\n",
       "<!-- EMPTY&#45;&gt;F3 -->\r\n",
       "<g id=\"edge4\" class=\"edge\"><title>EMPTY&#45;&gt;F3</title>\r\n",
       "<path fill=\"none\" stroke=\"black\" d=\"M32.5355,-235.685C45.6607,-187.367 88.738,-56.4139 180.596,-6.92925 220.61,14.6265 269.988,-20.3184 297.819,-45.2669\"/>\r\n",
       "<polygon fill=\"black\" stroke=\"black\" points=\"295.69,-48.0653 305.402,-52.2989 300.45,-42.9327 295.69,-48.0653\"/>\r\n",
       "</g>\r\n",
       "<!-- F2 -->\r\n",
       "<g id=\"node8\" class=\"node\"><title>F2</title>\r\n",
       "<ellipse fill=\"none\" stroke=\"black\" cx=\"405.183\" cy=\"-255.929\" rx=\"20.5982\" ry=\"20.5982\"/>\r\n",
       "<text text-anchor=\"middle\" x=\"405.183\" y=\"-252.229\" font-family=\"Times New Roman,serif\" font-size=\"14.00\">F2</text>\r\n",
       "</g>\r\n",
       "<!-- EMPTY&#45;&gt;F2 -->\r\n",
       "<g id=\"edge2\" class=\"edge\"><title>EMPTY&#45;&gt;F2</title>\r\n",
       "<path fill=\"none\" stroke=\"black\" d=\"M37.949,-272.221C51.3587,-294.135 77.4454,-327.929 110.798,-327.929 110.798,-327.929 110.798,-327.929 321.587,-327.929 350.383,-327.929 374.004,-302.755 388.501,-282.178\"/>\r\n",
       "<polygon fill=\"black\" stroke=\"black\" points=\"391.502,-283.987 394.145,-273.727 385.68,-280.1 391.502,-283.987\"/>\r\n",
       "</g>\r\n",
       "<!-- S4 -->\r\n",
       "<g id=\"node2\" class=\"node\"><title>S4</title>\r\n",
       "<ellipse fill=\"none\" stroke=\"black\" cx=\"201.394\" cy=\"-96.9293\" rx=\"20.5982\" ry=\"20.5982\"/>\r\n",
       "<text text-anchor=\"middle\" x=\"201.394\" y=\"-93.2293\" font-family=\"Times New Roman,serif\" font-size=\"14.00\">S4</text>\r\n",
       "</g>\r\n",
       "<!-- S4&#45;&gt;F3 -->\r\n",
       "<g id=\"edge5\" class=\"edge\"><title>S4&#45;&gt;F3</title>\r\n",
       "<path fill=\"none\" stroke=\"black\" d=\"M221.746,-91.9754C240.407,-87.1985 268.894,-79.906 290.326,-74.4197\"/>\r\n",
       "<polygon fill=\"black\" stroke=\"black\" points=\"291.387,-77.7612 300.206,-71.8905 289.651,-70.9798 291.387,-77.7612\"/>\r\n",
       "<text text-anchor=\"middle\" x=\"260.991\" y=\"-91.7293\" font-family=\"Times New Roman,serif\" font-size=\"14.00\">b</text>\r\n",
       "</g>\r\n",
       "<!-- S7 -->\r\n",
       "<g id=\"node3\" class=\"node\"><title>S7</title>\r\n",
       "<ellipse fill=\"none\" stroke=\"black\" cx=\"201.394\" cy=\"-36.9293\" rx=\"20.5982\" ry=\"20.5982\"/>\r\n",
       "<text text-anchor=\"middle\" x=\"201.394\" y=\"-33.2293\" font-family=\"Times New Roman,serif\" font-size=\"14.00\">S7</text>\r\n",
       "</g>\r\n",
       "<!-- S7&#45;&gt;F3 -->\r\n",
       "<g id=\"edge6\" class=\"edge\"><title>S7&#45;&gt;F3</title>\r\n",
       "<path fill=\"none\" stroke=\"black\" d=\"M221.746,-41.8831C240.407,-46.66 268.894,-53.9525 290.326,-59.4388\"/>\r\n",
       "<polygon fill=\"black\" stroke=\"black\" points=\"289.651,-62.8787 300.206,-61.968 291.387,-56.0973 289.651,-62.8787\"/>\r\n",
       "<text text-anchor=\"middle\" x=\"260.991\" y=\"-61.7293\" font-family=\"Times New Roman,serif\" font-size=\"14.00\">a</text>\r\n",
       "</g>\r\n",
       "<!-- F6&#45;&gt;S4 -->\r\n",
       "<g id=\"edge7\" class=\"edge\"><title>F6&#45;&gt;S4</title>\r\n",
       "<path fill=\"none\" stroke=\"black\" d=\"M119.731,-153.628C125.774,-139.498 135.896,-120.94 150.596,-109.929 156.362,-105.61 163.436,-102.723 170.421,-100.793\"/>\r\n",
       "<polygon fill=\"black\" stroke=\"black\" points=\"171.413,-104.158 180.43,-98.5954 169.912,-97.321 171.413,-104.158\"/>\r\n",
       "<text text-anchor=\"middle\" x=\"156.596\" y=\"-128.729\" font-family=\"Times New Roman,serif\" font-size=\"14.00\">a </text>\r\n",
       "<text text-anchor=\"middle\" x=\"156.596\" y=\"-113.729\" font-family=\"Times New Roman,serif\" font-size=\"14.00\"> b</text>\r\n",
       "</g>\r\n",
       "<!-- F6&#45;&gt;S7 -->\r\n",
       "<g id=\"edge8\" class=\"edge\"><title>F6&#45;&gt;S7</title>\r\n",
       "<path fill=\"none\" stroke=\"black\" d=\"M116.345,-152.486C121.043,-130.25 131.113,-94.5907 150.596,-69.9293 156.734,-62.1598 165.22,-55.5958 173.449,-50.4187\"/>\r\n",
       "<polygon fill=\"black\" stroke=\"black\" points=\"175.27,-53.4082 182.153,-45.3539 171.75,-47.3579 175.27,-53.4082\"/>\r\n",
       "<text text-anchor=\"middle\" x=\"156.596\" y=\"-88.7293\" font-family=\"Times New Roman,serif\" font-size=\"14.00\">a </text>\r\n",
       "<text text-anchor=\"middle\" x=\"156.596\" y=\"-73.7293\" font-family=\"Times New Roman,serif\" font-size=\"14.00\"> b</text>\r\n",
       "</g>\r\n",
       "<!-- F6&#45;&gt;F6 -->\r\n",
       "<g id=\"edge9\" class=\"edge\"><title>F6&#45;&gt;F6</title>\r\n",
       "<path fill=\"none\" stroke=\"black\" d=\"M104.884,-192.892C103.927,-202.847 106.232,-211.727 111.798,-211.727 115.277,-211.727 117.482,-208.259 118.413,-203.226\"/>\r\n",
       "<polygon fill=\"black\" stroke=\"black\" points=\"121.921,-202.989 118.713,-192.892 114.924,-202.786 121.921,-202.989\"/>\r\n",
       "<text text-anchor=\"middle\" x=\"111.798\" y=\"-230.527\" font-family=\"Times New Roman,serif\" font-size=\"14.00\">a </text>\r\n",
       "<text text-anchor=\"middle\" x=\"111.798\" y=\"-215.527\" font-family=\"Times New Roman,serif\" font-size=\"14.00\"> b</text>\r\n",
       "</g>\r\n",
       "<!-- S5 -->\r\n",
       "<g id=\"node5\" class=\"node\"><title>S5</title>\r\n",
       "<ellipse fill=\"none\" stroke=\"black\" cx=\"260.991\" cy=\"-287.929\" rx=\"20.5982\" ry=\"20.5982\"/>\r\n",
       "<text text-anchor=\"middle\" x=\"260.991\" y=\"-284.229\" font-family=\"Times New Roman,serif\" font-size=\"14.00\">S5</text>\r\n",
       "</g>\r\n",
       "<!-- F6&#45;&gt;S5 -->\r\n",
       "<g id=\"edge10\" class=\"edge\"><title>F6&#45;&gt;S5</title>\r\n",
       "<path fill=\"none\" stroke=\"black\" d=\"M120.705,-192.07C131.041,-214.601 151.338,-251.413 180.596,-270.929 195.079,-280.59 214.066,-284.886 229.84,-286.745\"/>\r\n",
       "<polygon fill=\"black\" stroke=\"black\" points=\"229.878,-290.263 240.153,-287.679 230.509,-283.291 229.878,-290.263\"/>\r\n",
       "<text text-anchor=\"middle\" x=\"156.596\" y=\"-275.729\" font-family=\"Times New Roman,serif\" font-size=\"14.00\">a </text>\r\n",
       "<text text-anchor=\"middle\" x=\"156.596\" y=\"-260.729\" font-family=\"Times New Roman,serif\" font-size=\"14.00\"> b</text>\r\n",
       "</g>\r\n",
       "<!-- F6&#45;&gt;F9 -->\r\n",
       "<g id=\"edge12\" class=\"edge\"><title>F6&#45;&gt;F9</title>\r\n",
       "<path fill=\"none\" stroke=\"black\" d=\"M131.375,-180.352C143.337,-185.131 159.107,-191.432 172.552,-196.805\"/>\r\n",
       "<polygon fill=\"black\" stroke=\"black\" points=\"171.259,-200.057 181.844,-200.517 173.857,-193.557 171.259,-200.057\"/>\r\n",
       "<text text-anchor=\"middle\" x=\"156.596\" y=\"-196.729\" font-family=\"Times New Roman,serif\" font-size=\"14.00\">b</text>\r\n",
       "</g>\r\n",
       "<!-- S8 -->\r\n",
       "<g id=\"node9\" class=\"node\"><title>S8</title>\r\n",
       "<ellipse fill=\"none\" stroke=\"black\" cx=\"320.587\" cy=\"-207.929\" rx=\"20.5982\" ry=\"20.5982\"/>\r\n",
       "<text text-anchor=\"middle\" x=\"320.587\" y=\"-204.229\" font-family=\"Times New Roman,serif\" font-size=\"14.00\">S8</text>\r\n",
       "</g>\r\n",
       "<!-- F6&#45;&gt;S8 -->\r\n",
       "<g id=\"edge11\" class=\"edge\"><title>F6&#45;&gt;S8</title>\r\n",
       "<path fill=\"none\" stroke=\"black\" d=\"M131.992,-167.664C154.011,-162.43 191.086,-156.09 222.193,-162.929 247.715,-168.54 274.515,-181.517 293.526,-192.1\"/>\r\n",
       "<polygon fill=\"black\" stroke=\"black\" points=\"292.035,-195.279 302.452,-197.213 295.514,-189.205 292.035,-195.279\"/>\r\n",
       "<text text-anchor=\"middle\" x=\"201.394\" y=\"-166.729\" font-family=\"Times New Roman,serif\" font-size=\"14.00\">a</text>\r\n",
       "</g>\r\n",
       "<!-- S5&#45;&gt;F2 -->\r\n",
       "<g id=\"edge13\" class=\"edge\"><title>S5&#45;&gt;F2</title>\r\n",
       "<path fill=\"none\" stroke=\"black\" d=\"M281.464,-283.547C305.474,-278.143 346.527,-268.905 374.48,-262.614\"/>\r\n",
       "<polygon fill=\"black\" stroke=\"black\" points=\"375.502,-265.972 384.489,-260.361 373.965,-259.142 375.502,-265.972\"/>\r\n",
       "<text text-anchor=\"middle\" x=\"320.587\" y=\"-282.729\" font-family=\"Times New Roman,serif\" font-size=\"14.00\">b</text>\r\n",
       "</g>\r\n",
       "<!-- F9&#45;&gt;F9 -->\r\n",
       "<g id=\"edge14\" class=\"edge\"><title>F9&#45;&gt;F9</title>\r\n",
       "<path fill=\"none\" stroke=\"black\" d=\"M193.435,-227.493C192.21,-237.609 194.863,-246.727 201.394,-246.727 205.579,-246.727 208.171,-242.985 209.172,-237.636\"/>\r\n",
       "<polygon fill=\"black\" stroke=\"black\" points=\"212.674,-237.554 209.354,-227.493 205.675,-237.428 212.674,-237.554\"/>\r\n",
       "<text text-anchor=\"middle\" x=\"201.394\" y=\"-250.527\" font-family=\"Times New Roman,serif\" font-size=\"14.00\">a</text>\r\n",
       "</g>\r\n",
       "<!-- F9&#45;&gt;S8 -->\r\n",
       "<g id=\"edge15\" class=\"edge\"><title>F9&#45;&gt;S8</title>\r\n",
       "<path fill=\"none\" stroke=\"black\" d=\"M222.275,-207.929C240.71,-207.929 268.4,-207.929 289.535,-207.929\"/>\r\n",
       "<polygon fill=\"black\" stroke=\"black\" points=\"289.609,-211.429 299.609,-207.929 289.609,-204.429 289.609,-211.429\"/>\r\n",
       "<text text-anchor=\"middle\" x=\"260.991\" y=\"-211.729\" font-family=\"Times New Roman,serif\" font-size=\"14.00\">b</text>\r\n",
       "</g>\r\n",
       "<!-- I1 -->\r\n",
       "<g id=\"node10\" class=\"node\"><title>I1</title>\r\n",
       "<ellipse fill=\"none\" stroke=\"black\" cx=\"491.18\" cy=\"-208.929\" rx=\"18.3625\" ry=\"18.3625\"/>\r\n",
       "<ellipse fill=\"none\" stroke=\"black\" cx=\"491.18\" cy=\"-208.929\" rx=\"22.3986\" ry=\"22.3986\"/>\r\n",
       "<text text-anchor=\"middle\" x=\"491.18\" y=\"-205.229\" font-family=\"Times New Roman,serif\" font-size=\"14.00\">I1</text>\r\n",
       "</g>\r\n",
       "<!-- F3&#45;&gt;I1 -->\r\n",
       "<g id=\"edge16\" class=\"edge\"><title>F3&#45;&gt;I1</title>\r\n",
       "<path fill=\"none\" stroke=\"black\" d=\"M337.146,-80.0337C366.578,-104.823 430.601,-158.748 465.794,-188.39\"/>\r\n",
       "<polygon fill=\"black\" stroke=\"black\" points=\"463.766,-191.258 473.669,-195.023 468.275,-185.904 463.766,-191.258\"/>\r\n",
       "<text text-anchor=\"middle\" x=\"405.183\" y=\"-158.729\" font-family=\"Times New Roman,serif\" font-size=\"14.00\">b</text>\r\n",
       "</g>\r\n",
       "<!-- F2&#45;&gt;I1 -->\r\n",
       "<g id=\"edge17\" class=\"edge\"><title>F2&#45;&gt;I1</title>\r\n",
       "<path fill=\"none\" stroke=\"black\" d=\"M423.588,-246.191C434.801,-239.916 449.626,-231.621 462.442,-224.45\"/>\r\n",
       "<polygon fill=\"black\" stroke=\"black\" points=\"464.32,-227.41 471.338,-219.472 460.902,-221.301 464.32,-227.41\"/>\r\n",
       "<text text-anchor=\"middle\" x=\"447.482\" y=\"-237.729\" font-family=\"Times New Roman,serif\" font-size=\"14.00\">a</text>\r\n",
       "</g>\r\n",
       "<!-- S8&#45;&gt;F2 -->\r\n",
       "<g id=\"edge18\" class=\"edge\"><title>S8&#45;&gt;F2</title>\r\n",
       "<path fill=\"none\" stroke=\"black\" d=\"M339.104,-218.109C350.383,-224.664 365.252,-233.305 377.93,-240.673\"/>\r\n",
       "<polygon fill=\"black\" stroke=\"black\" points=\"376.287,-243.766 386.692,-245.764 379.805,-237.714 376.287,-243.766\"/>\r\n",
       "<text text-anchor=\"middle\" x=\"362.885\" y=\"-237.729\" font-family=\"Times New Roman,serif\" font-size=\"14.00\">a</text>\r\n",
       "</g>\r\n",
       "</g>\r\n",
       "</svg>\r\n"
      ],
      "text/plain": [
       "<graphviz.dot.Digraph at 0x1fb0089e908>"
      ]
     },
     "execution_count": 71,
     "metadata": {},
     "output_type": "execute_result"
    }
   ],
   "source": [
    "dotObj_nfa(rblimp, FuseEdges=True)"
   ]
  },
  {
   "cell_type": "markdown",
   "metadata": {
    "run_control": {
     "frozen": false,
     "read_only": false
    }
   },
   "source": [
    "## Step 2: Determinize the result of Step 1"
   ]
  },
  {
   "cell_type": "code",
   "execution_count": 72,
   "metadata": {
    "run_control": {
     "frozen": false,
     "read_only": false
    }
   },
   "outputs": [
    {
     "data": {
      "text/plain": [
       "{'Q': {'St0', 'St1', 'St2', 'St3'},\n",
       " 'Sigma': {'a', 'b'},\n",
       " 'Delta': {('St2', 'a'): 'St3',\n",
       "  ('St2', 'b'): 'St3',\n",
       "  ('St3', 'a'): 'St1',\n",
       "  ('St3', 'b'): 'St1',\n",
       "  ('St1', 'a'): 'St0',\n",
       "  ('St1', 'b'): 'St0',\n",
       "  ('St0', 'a'): 'St0',\n",
       "  ('St0', 'b'): 'St0'},\n",
       " 'q0': 'St2',\n",
       " 'F': {'St0', 'St3'}}"
      ]
     },
     "execution_count": 72,
     "metadata": {},
     "output_type": "execute_result"
    }
   ],
   "source": [
    "drblimp = nfa2dfa(rblimp)\n",
    "drblimp"
   ]
  },
  {
   "cell_type": "code",
   "execution_count": 73,
   "metadata": {
    "run_control": {
     "frozen": false,
     "read_only": false
    }
   },
   "outputs": [
    {
     "data": {
      "image/svg+xml": [
       "<?xml version=\"1.0\" encoding=\"UTF-8\" standalone=\"no\"?>\r\n",
       "<!DOCTYPE svg PUBLIC \"-//W3C//DTD SVG 1.1//EN\"\r\n",
       " \"http://www.w3.org/Graphics/SVG/1.1/DTD/svg11.dtd\">\r\n",
       "<!-- Generated by graphviz version 2.38.0 (20140413.2041)\r\n",
       " -->\r\n",
       "<!-- Title: %3 Pages: 1 -->\r\n",
       "<svg width=\"429pt\" height=\"127pt\"\r\n",
       " viewBox=\"0.00 0.00 428.98 127.50\" xmlns=\"http://www.w3.org/2000/svg\" xmlns:xlink=\"http://www.w3.org/1999/xlink\">\r\n",
       "<g id=\"graph0\" class=\"graph\" transform=\"scale(1 1) rotate(0) translate(4 123.496)\">\r\n",
       "<title>%3</title>\r\n",
       "<polygon fill=\"white\" stroke=\"none\" points=\"-4,4 -4,-123.496 424.984,-123.496 424.984,4 -4,4\"/>\r\n",
       "<!-- EMPTY -->\r\n",
       "<g id=\"node1\" class=\"node\"><title>EMPTY</title>\r\n",
       "</g>\r\n",
       "<!-- St2 -->\r\n",
       "<g id=\"node3\" class=\"node\"><title>St2</title>\r\n",
       "<ellipse fill=\"none\" stroke=\"black\" cx=\"113.748\" cy=\"-26.748\" rx=\"22.9987\" ry=\"22.9987\"/>\r\n",
       "<text text-anchor=\"middle\" x=\"113.748\" y=\"-23.048\" font-family=\"Times New Roman,serif\" font-size=\"14.00\">St2</text>\r\n",
       "</g>\r\n",
       "<!-- EMPTY&#45;&gt;St2 -->\r\n",
       "<g id=\"edge1\" class=\"edge\"><title>EMPTY&#45;&gt;St2</title>\r\n",
       "<path fill=\"none\" stroke=\"black\" d=\"M54.3502,-26.748C62.71,-26.748 72.0455,-26.748 80.757,-26.748\"/>\r\n",
       "<polygon fill=\"black\" stroke=\"black\" points=\"80.9663,-30.2481 90.9663,-26.748 80.9662,-23.2481 80.9663,-30.2481\"/>\r\n",
       "</g>\r\n",
       "<!-- St1 -->\r\n",
       "<g id=\"node2\" class=\"node\"><title>St1</title>\r\n",
       "<ellipse fill=\"none\" stroke=\"black\" cx=\"300.74\" cy=\"-26.748\" rx=\"22.9987\" ry=\"22.9987\"/>\r\n",
       "<text text-anchor=\"middle\" x=\"300.74\" y=\"-23.048\" font-family=\"Times New Roman,serif\" font-size=\"14.00\">St1</text>\r\n",
       "</g>\r\n",
       "<!-- St0 -->\r\n",
       "<g id=\"node4\" class=\"node\"><title>St0</title>\r\n",
       "<ellipse fill=\"none\" stroke=\"black\" cx=\"394.236\" cy=\"-26.748\" rx=\"22.9609\" ry=\"22.9609\"/>\r\n",
       "<ellipse fill=\"none\" stroke=\"black\" cx=\"394.236\" cy=\"-26.748\" rx=\"26.9983\" ry=\"26.9983\"/>\r\n",
       "<text text-anchor=\"middle\" x=\"394.236\" y=\"-23.048\" font-family=\"Times New Roman,serif\" font-size=\"14.00\">St0</text>\r\n",
       "</g>\r\n",
       "<!-- St1&#45;&gt;St0 -->\r\n",
       "<g id=\"edge6\" class=\"edge\"><title>St1&#45;&gt;St0</title>\r\n",
       "<path fill=\"none\" stroke=\"black\" d=\"M323.889,-26.748C333.931,-26.748 346.062,-26.748 357.351,-26.748\"/>\r\n",
       "<polygon fill=\"black\" stroke=\"black\" points=\"357.399,-30.2481 367.399,-26.748 357.399,-23.2481 357.399,-30.2481\"/>\r\n",
       "<text text-anchor=\"middle\" x=\"345.488\" y=\"-30.548\" font-family=\"Times New Roman,serif\" font-size=\"14.00\">a</text>\r\n",
       "</g>\r\n",
       "<!-- St1&#45;&gt;St0 -->\r\n",
       "<g id=\"edge7\" class=\"edge\"><title>St1&#45;&gt;St0</title>\r\n",
       "<path fill=\"none\" stroke=\"black\" d=\"M320.923,-15.4616C327.255,-12.3216 334.476,-9.33768 341.488,-7.74798 348.198,-6.2267 355.22,-7.0582 361.85,-9.04103\"/>\r\n",
       "<polygon fill=\"black\" stroke=\"black\" points=\"360.611,-12.3143 371.201,-12.63 363.119,-5.77912 360.611,-12.3143\"/>\r\n",
       "<text text-anchor=\"middle\" x=\"345.488\" y=\"-11.548\" font-family=\"Times New Roman,serif\" font-size=\"14.00\">b</text>\r\n",
       "</g>\r\n",
       "<!-- St3 -->\r\n",
       "<g id=\"node5\" class=\"node\"><title>St3</title>\r\n",
       "<ellipse fill=\"none\" stroke=\"black\" cx=\"207.244\" cy=\"-26.748\" rx=\"22.9609\" ry=\"22.9609\"/>\r\n",
       "<ellipse fill=\"none\" stroke=\"black\" cx=\"207.244\" cy=\"-26.748\" rx=\"26.9983\" ry=\"26.9983\"/>\r\n",
       "<text text-anchor=\"middle\" x=\"207.244\" y=\"-23.048\" font-family=\"Times New Roman,serif\" font-size=\"14.00\">St3</text>\r\n",
       "</g>\r\n",
       "<!-- St2&#45;&gt;St3 -->\r\n",
       "<g id=\"edge2\" class=\"edge\"><title>St2&#45;&gt;St3</title>\r\n",
       "<path fill=\"none\" stroke=\"black\" d=\"M136.897,-26.748C146.939,-26.748 159.07,-26.748 170.36,-26.748\"/>\r\n",
       "<polygon fill=\"black\" stroke=\"black\" points=\"170.407,-30.2481 180.407,-26.748 170.407,-23.2481 170.407,-30.2481\"/>\r\n",
       "<text text-anchor=\"middle\" x=\"158.496\" y=\"-30.548\" font-family=\"Times New Roman,serif\" font-size=\"14.00\">a</text>\r\n",
       "</g>\r\n",
       "<!-- St2&#45;&gt;St3 -->\r\n",
       "<g id=\"edge3\" class=\"edge\"><title>St2&#45;&gt;St3</title>\r\n",
       "<path fill=\"none\" stroke=\"black\" d=\"M133.931,-15.4616C140.263,-12.3216 147.484,-9.33768 154.496,-7.74798 161.206,-6.2267 168.228,-7.0582 174.858,-9.04103\"/>\r\n",
       "<polygon fill=\"black\" stroke=\"black\" points=\"173.619,-12.3143 184.209,-12.63 176.127,-5.77912 173.619,-12.3143\"/>\r\n",
       "<text text-anchor=\"middle\" x=\"158.496\" y=\"-11.548\" font-family=\"Times New Roman,serif\" font-size=\"14.00\">b</text>\r\n",
       "</g>\r\n",
       "<!-- St0&#45;&gt;St0 -->\r\n",
       "<g id=\"edge8\" class=\"edge\"><title>St0&#45;&gt;St0</title>\r\n",
       "<path fill=\"none\" stroke=\"black\" d=\"M389.746,-53.3928C389.599,-63.3224 391.095,-71.496 394.236,-71.496 396.199,-71.496 397.519,-68.3032 398.198,-63.4843\"/>\r\n",
       "<polygon fill=\"black\" stroke=\"black\" points=\"401.699,-63.562 398.726,-53.3928 394.708,-63.1963 401.699,-63.562\"/>\r\n",
       "<text text-anchor=\"middle\" x=\"394.236\" y=\"-75.296\" font-family=\"Times New Roman,serif\" font-size=\"14.00\">a</text>\r\n",
       "</g>\r\n",
       "<!-- St0&#45;&gt;St0 -->\r\n",
       "<g id=\"edge9\" class=\"edge\"><title>St0&#45;&gt;St0</title>\r\n",
       "<path fill=\"none\" stroke=\"black\" d=\"M386.205,-52.5298C383.59,-71.0489 386.267,-89.496 394.236,-89.496 400.71,-89.496 403.692,-77.318 403.18,-62.8181\"/>\r\n",
       "<polygon fill=\"black\" stroke=\"black\" points=\"406.637,-62.1814 402.267,-52.5298 399.664,-62.8 406.637,-62.1814\"/>\r\n",
       "<text text-anchor=\"middle\" x=\"394.236\" y=\"-93.296\" font-family=\"Times New Roman,serif\" font-size=\"14.00\">b</text>\r\n",
       "</g>\r\n",
       "<!-- St3&#45;&gt;St1 -->\r\n",
       "<g id=\"edge4\" class=\"edge\"><title>St3&#45;&gt;St1</title>\r\n",
       "<path fill=\"none\" stroke=\"black\" d=\"M234.218,-26.748C244.628,-26.748 256.729,-26.748 267.678,-26.748\"/>\r\n",
       "<polygon fill=\"black\" stroke=\"black\" points=\"267.73,-30.2481 277.73,-26.748 267.73,-23.2481 267.73,-30.2481\"/>\r\n",
       "<text text-anchor=\"middle\" x=\"255.992\" y=\"-30.548\" font-family=\"Times New Roman,serif\" font-size=\"14.00\">a</text>\r\n",
       "</g>\r\n",
       "<!-- St3&#45;&gt;St1 -->\r\n",
       "<g id=\"edge5\" class=\"edge\"><title>St3&#45;&gt;St1</title>\r\n",
       "<path fill=\"none\" stroke=\"black\" d=\"M230.279,-12.63C239.326,-8.43152 250.005,-5.48374 259.992,-7.74798 263.717,-8.59251 267.501,-9.83053 271.18,-11.2764\"/>\r\n",
       "<polygon fill=\"black\" stroke=\"black\" points=\"269.999,-14.5821 280.557,-15.4616 272.852,-8.18987 269.999,-14.5821\"/>\r\n",
       "<text text-anchor=\"middle\" x=\"255.992\" y=\"-11.548\" font-family=\"Times New Roman,serif\" font-size=\"14.00\">b</text>\r\n",
       "</g>\r\n",
       "</g>\r\n",
       "</svg>\r\n"
      ],
      "text/plain": [
       "<graphviz.dot.Digraph at 0x1fb00c5d0b8>"
      ]
     },
     "execution_count": 73,
     "metadata": {},
     "output_type": "execute_result"
    }
   ],
   "source": [
    "DOdrblimp = dotObj_dfa(drblimp)\n",
    "DOdrblimp"
   ]
  },
  {
   "cell_type": "markdown",
   "metadata": {
    "run_control": {
     "frozen": false,
     "read_only": false
    }
   },
   "source": [
    "## Step 3: Reverse the result of Step 2"
   ]
  },
  {
   "cell_type": "code",
   "execution_count": 74,
   "metadata": {
    "run_control": {
     "frozen": false,
     "read_only": false
    }
   },
   "outputs": [
    {
     "data": {
      "image/svg+xml": [
       "<?xml version=\"1.0\" encoding=\"UTF-8\" standalone=\"no\"?>\r\n",
       "<!DOCTYPE svg PUBLIC \"-//W3C//DTD SVG 1.1//EN\"\r\n",
       " \"http://www.w3.org/Graphics/SVG/1.1/DTD/svg11.dtd\">\r\n",
       "<!-- Generated by graphviz version 2.38.0 (20140413.2041)\r\n",
       " -->\r\n",
       "<!-- Title: %3 Pages: 1 -->\r\n",
       "<svg width=\"421pt\" height=\"147pt\"\r\n",
       " viewBox=\"0.00 0.00 420.98 146.75\" xmlns=\"http://www.w3.org/2000/svg\" xmlns:xlink=\"http://www.w3.org/1999/xlink\">\r\n",
       "<g id=\"graph0\" class=\"graph\" transform=\"scale(1 1) rotate(0) translate(4 142.748)\">\r\n",
       "<title>%3</title>\r\n",
       "<polygon fill=\"white\" stroke=\"none\" points=\"-4,4 -4,-142.748 416.984,-142.748 416.984,4 -4,4\"/>\r\n",
       "<!-- EMPTY -->\r\n",
       "<g id=\"node1\" class=\"node\"><title>EMPTY</title>\r\n",
       "</g>\r\n",
       "<!-- St0 -->\r\n",
       "<g id=\"node3\" class=\"node\"><title>St0</title>\r\n",
       "<ellipse fill=\"none\" stroke=\"black\" cx=\"113.748\" cy=\"-50\" rx=\"22.9987\" ry=\"22.9987\"/>\r\n",
       "<text text-anchor=\"middle\" x=\"113.748\" y=\"-46.3\" font-family=\"Times New Roman,serif\" font-size=\"14.00\">St0</text>\r\n",
       "</g>\r\n",
       "<!-- EMPTY&#45;&gt;St0 -->\r\n",
       "<g id=\"edge1\" class=\"edge\"><title>EMPTY&#45;&gt;St0</title>\r\n",
       "<path fill=\"none\" stroke=\"black\" d=\"M54.3502,-27.9496C63.3424,-31.3449 73.4635,-35.1666 82.7228,-38.6628\"/>\r\n",
       "<polygon fill=\"black\" stroke=\"black\" points=\"81.7458,-42.035 92.3375,-42.2932 84.2186,-35.4863 81.7458,-42.035\"/>\r\n",
       "</g>\r\n",
       "<!-- St3 -->\r\n",
       "<g id=\"node4\" class=\"node\"><title>St3</title>\r\n",
       "<ellipse fill=\"none\" stroke=\"black\" cx=\"292.74\" cy=\"-32\" rx=\"22.9987\" ry=\"22.9987\"/>\r\n",
       "<text text-anchor=\"middle\" x=\"292.74\" y=\"-28.3\" font-family=\"Times New Roman,serif\" font-size=\"14.00\">St3</text>\r\n",
       "</g>\r\n",
       "<!-- EMPTY&#45;&gt;St3 -->\r\n",
       "<g id=\"edge2\" class=\"edge\"><title>EMPTY&#45;&gt;St3</title>\r\n",
       "<path fill=\"none\" stroke=\"black\" d=\"M54.335,-17.0348C96.3298,-15.8703 180.974,-15.0576 251.992,-24 254.713,-24.3427 257.527,-24.7664 260.343,-25.2386\"/>\r\n",
       "<polygon fill=\"black\" stroke=\"black\" points=\"259.91,-28.718 270.381,-27.1024 261.188,-21.8356 259.91,-28.718\"/>\r\n",
       "</g>\r\n",
       "<!-- St1 -->\r\n",
       "<g id=\"node2\" class=\"node\"><title>St1</title>\r\n",
       "<ellipse fill=\"none\" stroke=\"black\" cx=\"203.244\" cy=\"-60\" rx=\"22.9987\" ry=\"22.9987\"/>\r\n",
       "<text text-anchor=\"middle\" x=\"203.244\" y=\"-56.3\" font-family=\"Times New Roman,serif\" font-size=\"14.00\">St1</text>\r\n",
       "</g>\r\n",
       "<!-- St1&#45;&gt;St3 -->\r\n",
       "<g id=\"edge3\" class=\"edge\"><title>St1&#45;&gt;St3</title>\r\n",
       "<path fill=\"none\" stroke=\"black\" d=\"M225.813,-55.2401C234.073,-53.2454 243.539,-50.7494 251.992,-48 255.175,-46.9646 258.468,-45.7989 261.732,-44.5806\"/>\r\n",
       "<polygon fill=\"black\" stroke=\"black\" points=\"263.262,-47.7406 271.307,-40.8458 260.718,-41.2192 263.262,-47.7406\"/>\r\n",
       "<text text-anchor=\"middle\" x=\"247.992\" y=\"-54.8\" font-family=\"Times New Roman,serif\" font-size=\"14.00\">a</text>\r\n",
       "</g>\r\n",
       "<!-- St1&#45;&gt;St3 -->\r\n",
       "<g id=\"edge4\" class=\"edge\"><title>St1&#45;&gt;St3</title>\r\n",
       "<path fill=\"none\" stroke=\"black\" d=\"M219.776,-43.9783C226.583,-38.0708 235.054,-32.0733 243.992,-29 249.065,-27.2555 254.619,-26.5823 260.086,-26.5509\"/>\r\n",
       "<polygon fill=\"black\" stroke=\"black\" points=\"260.155,-30.0612 270.347,-27.1684 260.575,-23.0739 260.155,-30.0612\"/>\r\n",
       "<text text-anchor=\"middle\" x=\"247.992\" y=\"-32.8\" font-family=\"Times New Roman,serif\" font-size=\"14.00\">b</text>\r\n",
       "</g>\r\n",
       "<!-- St0&#45;&gt;St1 -->\r\n",
       "<g id=\"edge5\" class=\"edge\"><title>St0&#45;&gt;St1</title>\r\n",
       "<path fill=\"none\" stroke=\"black\" d=\"M136.137,-54.2181C142.063,-55.2636 148.512,-56.2874 154.496,-57 159.491,-57.5949 164.795,-58.0762 169.982,-58.4644\"/>\r\n",
       "<polygon fill=\"black\" stroke=\"black\" points=\"170.123,-61.9808 180.329,-59.1369 170.577,-54.9956 170.123,-61.9808\"/>\r\n",
       "<text text-anchor=\"middle\" x=\"158.496\" y=\"-61.8\" font-family=\"Times New Roman,serif\" font-size=\"14.00\">a</text>\r\n",
       "</g>\r\n",
       "<!-- St0&#45;&gt;St1 -->\r\n",
       "<g id=\"edge7\" class=\"edge\"><title>St0&#45;&gt;St1</title>\r\n",
       "<path fill=\"none\" stroke=\"black\" d=\"M134.742,-40.4485C143.297,-37.5337 153.393,-35.6488 162.496,-38 166.706,-39.0873 170.945,-40.7264 175.007,-42.6293\"/>\r\n",
       "<polygon fill=\"black\" stroke=\"black\" points=\"173.586,-45.837 184.063,-47.4125 176.855,-39.6473 173.586,-45.837\"/>\r\n",
       "<text text-anchor=\"middle\" x=\"158.496\" y=\"-41.8\" font-family=\"Times New Roman,serif\" font-size=\"14.00\">b</text>\r\n",
       "</g>\r\n",
       "<!-- St0&#45;&gt;St0 -->\r\n",
       "<g id=\"edge6\" class=\"edge\"><title>St0&#45;&gt;St0</title>\r\n",
       "<path fill=\"none\" stroke=\"black\" d=\"M110.043,-72.6277C109.739,-82.3898 110.975,-90.748 113.748,-90.748 115.481,-90.748 116.614,-87.4831 117.145,-82.6511\"/>\r\n",
       "<polygon fill=\"black\" stroke=\"black\" points=\"120.644,-82.7304 117.453,-72.6277 113.648,-82.5156 120.644,-82.7304\"/>\r\n",
       "<text text-anchor=\"middle\" x=\"113.748\" y=\"-94.548\" font-family=\"Times New Roman,serif\" font-size=\"14.00\">a</text>\r\n",
       "</g>\r\n",
       "<!-- St0&#45;&gt;St0 -->\r\n",
       "<g id=\"edge8\" class=\"edge\"><title>St0&#45;&gt;St0</title>\r\n",
       "<path fill=\"none\" stroke=\"black\" d=\"M107.347,-71.9974C104.7,-90.0253 106.834,-108.748 113.748,-108.748 119.366,-108.748 121.828,-96.3881 121.134,-82.0834\"/>\r\n",
       "<polygon fill=\"black\" stroke=\"black\" points=\"124.604,-81.61 120.149,-71.9974 117.637,-82.2902 124.604,-81.61\"/>\r\n",
       "<text text-anchor=\"middle\" x=\"113.748\" y=\"-112.548\" font-family=\"Times New Roman,serif\" font-size=\"14.00\">b</text>\r\n",
       "</g>\r\n",
       "<!-- St2 -->\r\n",
       "<g id=\"node5\" class=\"node\"><title>St2</title>\r\n",
       "<ellipse fill=\"none\" stroke=\"black\" cx=\"386.236\" cy=\"-32\" rx=\"22.9609\" ry=\"22.9609\"/>\r\n",
       "<ellipse fill=\"none\" stroke=\"black\" cx=\"386.236\" cy=\"-32\" rx=\"26.9983\" ry=\"26.9983\"/>\r\n",
       "<text text-anchor=\"middle\" x=\"386.236\" y=\"-28.3\" font-family=\"Times New Roman,serif\" font-size=\"14.00\">St2</text>\r\n",
       "</g>\r\n",
       "<!-- St3&#45;&gt;St2 -->\r\n",
       "<g id=\"edge9\" class=\"edge\"><title>St3&#45;&gt;St2</title>\r\n",
       "<path fill=\"none\" stroke=\"black\" d=\"M315.889,-32C325.931,-32 338.062,-32 349.351,-32\"/>\r\n",
       "<polygon fill=\"black\" stroke=\"black\" points=\"349.399,-35.5001 359.399,-32 349.399,-28.5001 349.399,-35.5001\"/>\r\n",
       "<text text-anchor=\"middle\" x=\"337.488\" y=\"-35.8\" font-family=\"Times New Roman,serif\" font-size=\"14.00\">a</text>\r\n",
       "</g>\r\n",
       "<!-- St3&#45;&gt;St2 -->\r\n",
       "<g id=\"edge10\" class=\"edge\"><title>St3&#45;&gt;St2</title>\r\n",
       "<path fill=\"none\" stroke=\"black\" d=\"M312.923,-20.7137C319.255,-17.5737 326.476,-14.5897 333.488,-13 340.198,-11.4787 347.22,-12.3102 353.85,-14.293\"/>\r\n",
       "<polygon fill=\"black\" stroke=\"black\" points=\"352.611,-17.5663 363.201,-17.882 355.119,-11.0311 352.611,-17.5663\"/>\r\n",
       "<text text-anchor=\"middle\" x=\"337.488\" y=\"-16.8\" font-family=\"Times New Roman,serif\" font-size=\"14.00\">b</text>\r\n",
       "</g>\r\n",
       "</g>\r\n",
       "</svg>\r\n"
      ],
      "text/plain": [
       "<graphviz.dot.Digraph at 0x1fb00cb9208>"
      ]
     },
     "execution_count": 74,
     "metadata": {},
     "output_type": "execute_result"
    }
   ],
   "source": [
    "rdrblimp = rev_dfa(drblimp)\n",
    "DOrdrblimp = dotObj_nfa(rdrblimp)\n",
    "DOrdrblimp"
   ]
  },
  {
   "cell_type": "markdown",
   "metadata": {
    "run_control": {
     "frozen": false,
     "read_only": false
    }
   },
   "source": [
    "## Step 4: Determinize the result of Step 3"
   ]
  },
  {
   "cell_type": "code",
   "execution_count": 75,
   "metadata": {
    "run_control": {
     "frozen": false,
     "read_only": false
    }
   },
   "outputs": [
    {
     "data": {
      "image/svg+xml": [
       "<?xml version=\"1.0\" encoding=\"UTF-8\" standalone=\"no\"?>\r\n",
       "<!DOCTYPE svg PUBLIC \"-//W3C//DTD SVG 1.1//EN\"\r\n",
       " \"http://www.w3.org/Graphics/SVG/1.1/DTD/svg11.dtd\">\r\n",
       "<!-- Generated by graphviz version 2.38.0 (20140413.2041)\r\n",
       " -->\r\n",
       "<!-- Title: %3 Pages: 1 -->\r\n",
       "<svg width=\"429pt\" height=\"127pt\"\r\n",
       " viewBox=\"0.00 0.00 428.98 127.50\" xmlns=\"http://www.w3.org/2000/svg\" xmlns:xlink=\"http://www.w3.org/1999/xlink\">\r\n",
       "<g id=\"graph0\" class=\"graph\" transform=\"scale(1 1) rotate(0) translate(4 123.496)\">\r\n",
       "<title>%3</title>\r\n",
       "<polygon fill=\"white\" stroke=\"none\" points=\"-4,4 -4,-123.496 424.984,-123.496 424.984,4 -4,4\"/>\r\n",
       "<!-- EMPTY -->\r\n",
       "<g id=\"node1\" class=\"node\"><title>EMPTY</title>\r\n",
       "</g>\r\n",
       "<!-- St3 -->\r\n",
       "<g id=\"node2\" class=\"node\"><title>St3</title>\r\n",
       "<ellipse fill=\"none\" stroke=\"black\" cx=\"113.748\" cy=\"-26.748\" rx=\"22.9987\" ry=\"22.9987\"/>\r\n",
       "<text text-anchor=\"middle\" x=\"113.748\" y=\"-23.048\" font-family=\"Times New Roman,serif\" font-size=\"14.00\">St3</text>\r\n",
       "</g>\r\n",
       "<!-- EMPTY&#45;&gt;St3 -->\r\n",
       "<g id=\"edge1\" class=\"edge\"><title>EMPTY&#45;&gt;St3</title>\r\n",
       "<path fill=\"none\" stroke=\"black\" d=\"M54.3502,-26.748C62.71,-26.748 72.0455,-26.748 80.757,-26.748\"/>\r\n",
       "<polygon fill=\"black\" stroke=\"black\" points=\"80.9663,-30.2481 90.9663,-26.748 80.9662,-23.2481 80.9663,-30.2481\"/>\r\n",
       "</g>\r\n",
       "<!-- St1 -->\r\n",
       "<g id=\"node4\" class=\"node\"><title>St1</title>\r\n",
       "<ellipse fill=\"none\" stroke=\"black\" cx=\"207.244\" cy=\"-26.748\" rx=\"22.9609\" ry=\"22.9609\"/>\r\n",
       "<ellipse fill=\"none\" stroke=\"black\" cx=\"207.244\" cy=\"-26.748\" rx=\"26.9983\" ry=\"26.9983\"/>\r\n",
       "<text text-anchor=\"middle\" x=\"207.244\" y=\"-23.048\" font-family=\"Times New Roman,serif\" font-size=\"14.00\">St1</text>\r\n",
       "</g>\r\n",
       "<!-- St3&#45;&gt;St1 -->\r\n",
       "<g id=\"edge2\" class=\"edge\"><title>St3&#45;&gt;St1</title>\r\n",
       "<path fill=\"none\" stroke=\"black\" d=\"M136.897,-26.748C146.939,-26.748 159.07,-26.748 170.36,-26.748\"/>\r\n",
       "<polygon fill=\"black\" stroke=\"black\" points=\"170.407,-30.2481 180.407,-26.748 170.407,-23.2481 170.407,-30.2481\"/>\r\n",
       "<text text-anchor=\"middle\" x=\"158.496\" y=\"-30.548\" font-family=\"Times New Roman,serif\" font-size=\"14.00\">a</text>\r\n",
       "</g>\r\n",
       "<!-- St3&#45;&gt;St1 -->\r\n",
       "<g id=\"edge3\" class=\"edge\"><title>St3&#45;&gt;St1</title>\r\n",
       "<path fill=\"none\" stroke=\"black\" d=\"M133.931,-15.4616C140.263,-12.3216 147.484,-9.33768 154.496,-7.74798 161.206,-6.2267 168.228,-7.0582 174.858,-9.04103\"/>\r\n",
       "<polygon fill=\"black\" stroke=\"black\" points=\"173.619,-12.3143 184.209,-12.63 176.127,-5.77912 173.619,-12.3143\"/>\r\n",
       "<text text-anchor=\"middle\" x=\"158.496\" y=\"-11.548\" font-family=\"Times New Roman,serif\" font-size=\"14.00\">b</text>\r\n",
       "</g>\r\n",
       "<!-- St2 -->\r\n",
       "<g id=\"node3\" class=\"node\"><title>St2</title>\r\n",
       "<ellipse fill=\"none\" stroke=\"black\" cx=\"300.74\" cy=\"-26.748\" rx=\"22.9987\" ry=\"22.9987\"/>\r\n",
       "<text text-anchor=\"middle\" x=\"300.74\" y=\"-23.048\" font-family=\"Times New Roman,serif\" font-size=\"14.00\">St2</text>\r\n",
       "</g>\r\n",
       "<!-- St0 -->\r\n",
       "<g id=\"node5\" class=\"node\"><title>St0</title>\r\n",
       "<ellipse fill=\"none\" stroke=\"black\" cx=\"394.236\" cy=\"-26.748\" rx=\"22.9609\" ry=\"22.9609\"/>\r\n",
       "<ellipse fill=\"none\" stroke=\"black\" cx=\"394.236\" cy=\"-26.748\" rx=\"26.9983\" ry=\"26.9983\"/>\r\n",
       "<text text-anchor=\"middle\" x=\"394.236\" y=\"-23.048\" font-family=\"Times New Roman,serif\" font-size=\"14.00\">St0</text>\r\n",
       "</g>\r\n",
       "<!-- St2&#45;&gt;St0 -->\r\n",
       "<g id=\"edge6\" class=\"edge\"><title>St2&#45;&gt;St0</title>\r\n",
       "<path fill=\"none\" stroke=\"black\" d=\"M323.889,-26.748C333.931,-26.748 346.062,-26.748 357.351,-26.748\"/>\r\n",
       "<polygon fill=\"black\" stroke=\"black\" points=\"357.399,-30.2481 367.399,-26.748 357.399,-23.2481 357.399,-30.2481\"/>\r\n",
       "<text text-anchor=\"middle\" x=\"345.488\" y=\"-30.548\" font-family=\"Times New Roman,serif\" font-size=\"14.00\">a</text>\r\n",
       "</g>\r\n",
       "<!-- St2&#45;&gt;St0 -->\r\n",
       "<g id=\"edge7\" class=\"edge\"><title>St2&#45;&gt;St0</title>\r\n",
       "<path fill=\"none\" stroke=\"black\" d=\"M320.923,-15.4616C327.255,-12.3216 334.476,-9.33768 341.488,-7.74798 348.198,-6.2267 355.22,-7.0582 361.85,-9.04103\"/>\r\n",
       "<polygon fill=\"black\" stroke=\"black\" points=\"360.611,-12.3143 371.201,-12.63 363.119,-5.77912 360.611,-12.3143\"/>\r\n",
       "<text text-anchor=\"middle\" x=\"345.488\" y=\"-11.548\" font-family=\"Times New Roman,serif\" font-size=\"14.00\">b</text>\r\n",
       "</g>\r\n",
       "<!-- St1&#45;&gt;St2 -->\r\n",
       "<g id=\"edge4\" class=\"edge\"><title>St1&#45;&gt;St2</title>\r\n",
       "<path fill=\"none\" stroke=\"black\" d=\"M234.218,-26.748C244.628,-26.748 256.729,-26.748 267.678,-26.748\"/>\r\n",
       "<polygon fill=\"black\" stroke=\"black\" points=\"267.73,-30.2481 277.73,-26.748 267.73,-23.2481 267.73,-30.2481\"/>\r\n",
       "<text text-anchor=\"middle\" x=\"255.992\" y=\"-30.548\" font-family=\"Times New Roman,serif\" font-size=\"14.00\">a</text>\r\n",
       "</g>\r\n",
       "<!-- St1&#45;&gt;St2 -->\r\n",
       "<g id=\"edge5\" class=\"edge\"><title>St1&#45;&gt;St2</title>\r\n",
       "<path fill=\"none\" stroke=\"black\" d=\"M230.279,-12.63C239.326,-8.43152 250.005,-5.48374 259.992,-7.74798 263.717,-8.59251 267.501,-9.83053 271.18,-11.2764\"/>\r\n",
       "<polygon fill=\"black\" stroke=\"black\" points=\"269.999,-14.5821 280.557,-15.4616 272.852,-8.18987 269.999,-14.5821\"/>\r\n",
       "<text text-anchor=\"middle\" x=\"255.992\" y=\"-11.548\" font-family=\"Times New Roman,serif\" font-size=\"14.00\">b</text>\r\n",
       "</g>\r\n",
       "<!-- St0&#45;&gt;St0 -->\r\n",
       "<g id=\"edge8\" class=\"edge\"><title>St0&#45;&gt;St0</title>\r\n",
       "<path fill=\"none\" stroke=\"black\" d=\"M389.746,-53.3928C389.599,-63.3224 391.095,-71.496 394.236,-71.496 396.199,-71.496 397.519,-68.3032 398.198,-63.4843\"/>\r\n",
       "<polygon fill=\"black\" stroke=\"black\" points=\"401.699,-63.562 398.726,-53.3928 394.708,-63.1963 401.699,-63.562\"/>\r\n",
       "<text text-anchor=\"middle\" x=\"394.236\" y=\"-75.296\" font-family=\"Times New Roman,serif\" font-size=\"14.00\">a</text>\r\n",
       "</g>\r\n",
       "<!-- St0&#45;&gt;St0 -->\r\n",
       "<g id=\"edge9\" class=\"edge\"><title>St0&#45;&gt;St0</title>\r\n",
       "<path fill=\"none\" stroke=\"black\" d=\"M386.205,-52.5298C383.59,-71.0489 386.267,-89.496 394.236,-89.496 400.71,-89.496 403.692,-77.318 403.18,-62.8181\"/>\r\n",
       "<polygon fill=\"black\" stroke=\"black\" points=\"406.637,-62.1814 402.267,-52.5298 399.664,-62.8 406.637,-62.1814\"/>\r\n",
       "<text text-anchor=\"middle\" x=\"394.236\" y=\"-93.296\" font-family=\"Times New Roman,serif\" font-size=\"14.00\">b</text>\r\n",
       "</g>\r\n",
       "</g>\r\n",
       "</svg>\r\n"
      ],
      "text/plain": [
       "<graphviz.dot.Digraph at 0x1fb00cb9d68>"
      ]
     },
     "execution_count": 75,
     "metadata": {},
     "output_type": "execute_result"
    }
   ],
   "source": [
    "drdrblimp = nfa2dfa(rdrblimp)\n",
    "DOdrdrblimp = dotObj_dfa(drdrblimp)\n",
    "DOdrdrblimp"
   ]
  },
  {
   "cell_type": "markdown",
   "metadata": {
    "run_control": {
     "frozen": false,
     "read_only": false
    }
   },
   "source": [
    "## End result is isomorphic!"
   ]
  },
  {
   "cell_type": "code",
   "execution_count": 76,
   "metadata": {
    "run_control": {
     "frozen": false,
     "read_only": false
    }
   },
   "outputs": [
    {
     "data": {
      "text/plain": [
       "True"
      ]
     },
     "execution_count": 76,
     "metadata": {},
     "output_type": "execute_result"
    }
   ],
   "source": [
    "iso_dfa(drdrblimp, classic_min)"
   ]
  },
  {
   "cell_type": "markdown",
   "metadata": {
    "run_control": {
     "frozen": false,
     "read_only": false
    }
   },
   "source": [
    "# RE to NFA"
   ]
  },
  {
   "cell_type": "code",
   "execution_count": 77,
   "metadata": {
    "run_control": {
     "frozen": false,
     "read_only": false
    }
   },
   "outputs": [
    {
     "name": "stderr",
     "output_type": "stream",
     "text": [
      "Generating LALR tables\n"
     ]
    },
    {
     "data": {
      "image/svg+xml": [
       "<?xml version=\"1.0\" encoding=\"UTF-8\" standalone=\"no\"?>\r\n",
       "<!DOCTYPE svg PUBLIC \"-//W3C//DTD SVG 1.1//EN\"\r\n",
       " \"http://www.w3.org/Graphics/SVG/1.1/DTD/svg11.dtd\">\r\n",
       "<!-- Generated by graphviz version 2.38.0 (20140413.2041)\r\n",
       " -->\r\n",
       "<!-- Title: %3 Pages: 1 -->\r\n",
       "<svg width=\"151pt\" height=\"61pt\"\r\n",
       " viewBox=\"0.00 0.00 151.50 61.50\" xmlns=\"http://www.w3.org/2000/svg\" xmlns:xlink=\"http://www.w3.org/1999/xlink\">\r\n",
       "<g id=\"graph0\" class=\"graph\" transform=\"scale(1 1) rotate(0) translate(4 57.496)\">\r\n",
       "<title>%3</title>\r\n",
       "<polygon fill=\"white\" stroke=\"none\" points=\"-4,4 -4,-57.496 147.496,-57.496 147.496,4 -4,4\"/>\r\n",
       "<!-- EMPTY -->\r\n",
       "<g id=\"node1\" class=\"node\"><title>EMPTY</title>\r\n",
       "</g>\r\n",
       "<!-- St1 -->\r\n",
       "<g id=\"node2\" class=\"node\"><title>St1</title>\r\n",
       "<ellipse fill=\"none\" stroke=\"black\" cx=\"116.748\" cy=\"-26.748\" rx=\"22.9609\" ry=\"22.9609\"/>\r\n",
       "<ellipse fill=\"none\" stroke=\"black\" cx=\"116.748\" cy=\"-26.748\" rx=\"26.9983\" ry=\"26.9983\"/>\r\n",
       "<text text-anchor=\"middle\" x=\"116.748\" y=\"-23.048\" font-family=\"Times New Roman,serif\" font-size=\"14.00\">St1</text>\r\n",
       "</g>\r\n",
       "<!-- EMPTY&#45;&gt;St1 -->\r\n",
       "<g id=\"edge1\" class=\"edge\"><title>EMPTY&#45;&gt;St1</title>\r\n",
       "<path fill=\"none\" stroke=\"black\" d=\"M54.3273,-26.748C62.2947,-26.748 71.1865,-26.748 79.6757,-26.748\"/>\r\n",
       "<polygon fill=\"black\" stroke=\"black\" points=\"79.7417,-30.2481 89.7417,-26.748 79.7416,-23.2481 79.7417,-30.2481\"/>\r\n",
       "</g>\r\n",
       "</g>\r\n",
       "</svg>\r\n"
      ],
      "text/plain": [
       "<graphviz.dot.Digraph at 0x1fb0089ee48>"
      ]
     },
     "execution_count": 77,
     "metadata": {},
     "output_type": "execute_result"
    }
   ],
   "source": [
    "dotObj_nfa(re2nfa(\"''\"))"
   ]
  },
  {
   "cell_type": "code",
   "execution_count": 78,
   "metadata": {
    "run_control": {
     "frozen": false,
     "read_only": false
    }
   },
   "outputs": [
    {
     "name": "stderr",
     "output_type": "stream",
     "text": [
      "Generating LALR tables\n"
     ]
    },
    {
     "data": {
      "image/svg+xml": [
       "<?xml version=\"1.0\" encoding=\"UTF-8\" standalone=\"no\"?>\r\n",
       "<!DOCTYPE svg PUBLIC \"-//W3C//DTD SVG 1.1//EN\"\r\n",
       " \"http://www.w3.org/Graphics/SVG/1.1/DTD/svg11.dtd\">\r\n",
       "<!-- Generated by graphviz version 2.38.0 (20140413.2041)\r\n",
       " -->\r\n",
       "<!-- Title: %3 Pages: 1 -->\r\n",
       "<svg width=\"241pt\" height=\"61pt\"\r\n",
       " viewBox=\"0.00 0.00 240.99 61.50\" xmlns=\"http://www.w3.org/2000/svg\" xmlns:xlink=\"http://www.w3.org/1999/xlink\">\r\n",
       "<g id=\"graph0\" class=\"graph\" transform=\"scale(1 1) rotate(0) translate(4 57.496)\">\r\n",
       "<title>%3</title>\r\n",
       "<polygon fill=\"white\" stroke=\"none\" points=\"-4,4 -4,-57.496 236.992,-57.496 236.992,4 -4,4\"/>\r\n",
       "<!-- EMPTY -->\r\n",
       "<g id=\"node1\" class=\"node\"><title>EMPTY</title>\r\n",
       "</g>\r\n",
       "<!-- St1 -->\r\n",
       "<g id=\"node2\" class=\"node\"><title>St1</title>\r\n",
       "<ellipse fill=\"none\" stroke=\"black\" cx=\"113.748\" cy=\"-26.748\" rx=\"22.9987\" ry=\"22.9987\"/>\r\n",
       "<text text-anchor=\"middle\" x=\"113.748\" y=\"-23.048\" font-family=\"Times New Roman,serif\" font-size=\"14.00\">St1</text>\r\n",
       "</g>\r\n",
       "<!-- EMPTY&#45;&gt;St1 -->\r\n",
       "<g id=\"edge1\" class=\"edge\"><title>EMPTY&#45;&gt;St1</title>\r\n",
       "<path fill=\"none\" stroke=\"black\" d=\"M54.3502,-26.748C62.71,-26.748 72.0455,-26.748 80.757,-26.748\"/>\r\n",
       "<polygon fill=\"black\" stroke=\"black\" points=\"80.9663,-30.2481 90.9663,-26.748 80.9662,-23.2481 80.9663,-30.2481\"/>\r\n",
       "</g>\r\n",
       "<!-- St2 -->\r\n",
       "<g id=\"node3\" class=\"node\"><title>St2</title>\r\n",
       "<ellipse fill=\"none\" stroke=\"black\" cx=\"206.244\" cy=\"-26.748\" rx=\"22.9609\" ry=\"22.9609\"/>\r\n",
       "<ellipse fill=\"none\" stroke=\"black\" cx=\"206.244\" cy=\"-26.748\" rx=\"26.9983\" ry=\"26.9983\"/>\r\n",
       "<text text-anchor=\"middle\" x=\"206.244\" y=\"-23.048\" font-family=\"Times New Roman,serif\" font-size=\"14.00\">St2</text>\r\n",
       "</g>\r\n",
       "<!-- St1&#45;&gt;St2 -->\r\n",
       "<g id=\"edge2\" class=\"edge\"><title>St1&#45;&gt;St2</title>\r\n",
       "<path fill=\"none\" stroke=\"black\" d=\"M136.655,-26.748C146.406,-26.748 158.15,-26.748 169.142,-26.748\"/>\r\n",
       "<polygon fill=\"black\" stroke=\"black\" points=\"169.361,-30.2481 179.361,-26.748 169.361,-23.2481 169.361,-30.2481\"/>\r\n",
       "<text text-anchor=\"middle\" x=\"157.996\" y=\"-30.548\" font-family=\"Times New Roman,serif\" font-size=\"14.00\">a</text>\r\n",
       "</g>\r\n",
       "</g>\r\n",
       "</svg>\r\n"
      ],
      "text/plain": [
       "<graphviz.dot.Digraph at 0x1fb00cb5438>"
      ]
     },
     "execution_count": 78,
     "metadata": {},
     "output_type": "execute_result"
    }
   ],
   "source": [
    "dotObj_nfa(re2nfa(\"a\"))"
   ]
  },
  {
   "cell_type": "code",
   "execution_count": 79,
   "metadata": {
    "run_control": {
     "frozen": false,
     "read_only": false
    }
   },
   "outputs": [
    {
     "name": "stderr",
     "output_type": "stream",
     "text": [
      "Generating LALR tables\n"
     ]
    },
    {
     "data": {
      "image/svg+xml": [
       "<?xml version=\"1.0\" encoding=\"UTF-8\" standalone=\"no\"?>\r\n",
       "<!DOCTYPE svg PUBLIC \"-//W3C//DTD SVG 1.1//EN\"\r\n",
       " \"http://www.w3.org/Graphics/SVG/1.1/DTD/svg11.dtd\">\r\n",
       "<!-- Generated by graphviz version 2.38.0 (20140413.2041)\r\n",
       " -->\r\n",
       "<!-- Title: %3 Pages: 1 -->\r\n",
       "<svg width=\"419pt\" height=\"61pt\"\r\n",
       " viewBox=\"0.00 0.00 418.98 61.50\" xmlns=\"http://www.w3.org/2000/svg\" xmlns:xlink=\"http://www.w3.org/1999/xlink\">\r\n",
       "<g id=\"graph0\" class=\"graph\" transform=\"scale(1 1) rotate(0) translate(4 57.496)\">\r\n",
       "<title>%3</title>\r\n",
       "<polygon fill=\"white\" stroke=\"none\" points=\"-4,4 -4,-57.496 414.984,-57.496 414.984,4 -4,4\"/>\r\n",
       "<!-- EMPTY -->\r\n",
       "<g id=\"node1\" class=\"node\"><title>EMPTY</title>\r\n",
       "</g>\r\n",
       "<!-- St1 -->\r\n",
       "<g id=\"node2\" class=\"node\"><title>St1</title>\r\n",
       "<ellipse fill=\"none\" stroke=\"black\" cx=\"113.748\" cy=\"-26.748\" rx=\"22.9987\" ry=\"22.9987\"/>\r\n",
       "<text text-anchor=\"middle\" x=\"113.748\" y=\"-23.048\" font-family=\"Times New Roman,serif\" font-size=\"14.00\">St1</text>\r\n",
       "</g>\r\n",
       "<!-- EMPTY&#45;&gt;St1 -->\r\n",
       "<g id=\"edge1\" class=\"edge\"><title>EMPTY&#45;&gt;St1</title>\r\n",
       "<path fill=\"none\" stroke=\"black\" d=\"M54.3502,-26.748C62.71,-26.748 72.0455,-26.748 80.757,-26.748\"/>\r\n",
       "<polygon fill=\"black\" stroke=\"black\" points=\"80.9663,-30.2481 90.9663,-26.748 80.9662,-23.2481 80.9663,-30.2481\"/>\r\n",
       "</g>\r\n",
       "<!-- St2 -->\r\n",
       "<g id=\"node4\" class=\"node\"><title>St2</title>\r\n",
       "<ellipse fill=\"none\" stroke=\"black\" cx=\"202.244\" cy=\"-26.748\" rx=\"22.9987\" ry=\"22.9987\"/>\r\n",
       "<text text-anchor=\"middle\" x=\"202.244\" y=\"-23.048\" font-family=\"Times New Roman,serif\" font-size=\"14.00\">St2</text>\r\n",
       "</g>\r\n",
       "<!-- St1&#45;&gt;St2 -->\r\n",
       "<g id=\"edge2\" class=\"edge\"><title>St1&#45;&gt;St2</title>\r\n",
       "<path fill=\"none\" stroke=\"black\" d=\"M136.575,-26.748C146.511,-26.748 158.466,-26.748 169.38,-26.748\"/>\r\n",
       "<polygon fill=\"black\" stroke=\"black\" points=\"169.424,-30.2481 179.424,-26.748 169.424,-23.2481 169.424,-30.2481\"/>\r\n",
       "<text text-anchor=\"middle\" x=\"157.996\" y=\"-30.548\" font-family=\"Times New Roman,serif\" font-size=\"14.00\">a</text>\r\n",
       "</g>\r\n",
       "<!-- St3 -->\r\n",
       "<g id=\"node3\" class=\"node\"><title>St3</title>\r\n",
       "<ellipse fill=\"none\" stroke=\"black\" cx=\"290.74\" cy=\"-26.748\" rx=\"22.9987\" ry=\"22.9987\"/>\r\n",
       "<text text-anchor=\"middle\" x=\"290.74\" y=\"-23.048\" font-family=\"Times New Roman,serif\" font-size=\"14.00\">St3</text>\r\n",
       "</g>\r\n",
       "<!-- St4 -->\r\n",
       "<g id=\"node5\" class=\"node\"><title>St4</title>\r\n",
       "<ellipse fill=\"none\" stroke=\"black\" cx=\"384.236\" cy=\"-26.748\" rx=\"22.9609\" ry=\"22.9609\"/>\r\n",
       "<ellipse fill=\"none\" stroke=\"black\" cx=\"384.236\" cy=\"-26.748\" rx=\"26.9983\" ry=\"26.9983\"/>\r\n",
       "<text text-anchor=\"middle\" x=\"384.236\" y=\"-23.048\" font-family=\"Times New Roman,serif\" font-size=\"14.00\">St4</text>\r\n",
       "</g>\r\n",
       "<!-- St3&#45;&gt;St4 -->\r\n",
       "<g id=\"edge3\" class=\"edge\"><title>St3&#45;&gt;St4</title>\r\n",
       "<path fill=\"none\" stroke=\"black\" d=\"M313.889,-26.748C323.931,-26.748 336.062,-26.748 347.351,-26.748\"/>\r\n",
       "<polygon fill=\"black\" stroke=\"black\" points=\"347.399,-30.2481 357.399,-26.748 347.399,-23.2481 347.399,-30.2481\"/>\r\n",
       "<text text-anchor=\"middle\" x=\"335.488\" y=\"-30.548\" font-family=\"Times New Roman,serif\" font-size=\"14.00\">b</text>\r\n",
       "</g>\r\n",
       "<!-- St2&#45;&gt;St3 -->\r\n",
       "<g id=\"edge4\" class=\"edge\"><title>St2&#45;&gt;St3</title>\r\n",
       "<path fill=\"none\" stroke=\"black\" d=\"M225.071,-26.748C235.007,-26.748 246.962,-26.748 257.876,-26.748\"/>\r\n",
       "<polygon fill=\"black\" stroke=\"black\" points=\"257.92,-30.2481 267.92,-26.748 257.92,-23.2481 257.92,-30.2481\"/>\r\n",
       "<text text-anchor=\"middle\" x=\"246.492\" y=\"-30.548\" font-family=\"Times New Roman,serif\" font-size=\"14.00\">&#39;&#39;</text>\r\n",
       "</g>\r\n",
       "</g>\r\n",
       "</svg>\r\n"
      ],
      "text/plain": [
       "<graphviz.dot.Digraph at 0x1fb00cb59e8>"
      ]
     },
     "execution_count": 79,
     "metadata": {},
     "output_type": "execute_result"
    }
   ],
   "source": [
    "dotObj_nfa(re2nfa(\"ab\"))"
   ]
  },
  {
   "cell_type": "code",
   "execution_count": 80,
   "metadata": {
    "run_control": {
     "frozen": false,
     "read_only": false
    }
   },
   "outputs": [
    {
     "name": "stderr",
     "output_type": "stream",
     "text": [
      "Generating LALR tables\n"
     ]
    },
    {
     "data": {
      "image/svg+xml": [
       "<?xml version=\"1.0\" encoding=\"UTF-8\" standalone=\"no\"?>\r\n",
       "<!DOCTYPE svg PUBLIC \"-//W3C//DTD SVG 1.1//EN\"\r\n",
       " \"http://www.w3.org/Graphics/SVG/1.1/DTD/svg11.dtd\">\r\n",
       "<!-- Generated by graphviz version 2.38.0 (20140413.2041)\r\n",
       " -->\r\n",
       "<!-- Title: %3 Pages: 1 -->\r\n",
       "<svg width=\"242pt\" height=\"132pt\"\r\n",
       " viewBox=\"0.00 0.00 241.99 132.50\" xmlns=\"http://www.w3.org/2000/svg\" xmlns:xlink=\"http://www.w3.org/1999/xlink\">\r\n",
       "<g id=\"graph0\" class=\"graph\" transform=\"scale(1 1) rotate(0) translate(4 128.496)\">\r\n",
       "<title>%3</title>\r\n",
       "<polygon fill=\"white\" stroke=\"none\" points=\"-4,4 -4,-128.496 237.992,-128.496 237.992,4 -4,4\"/>\r\n",
       "<!-- EMPTY -->\r\n",
       "<g id=\"node1\" class=\"node\"><title>EMPTY</title>\r\n",
       "</g>\r\n",
       "<!-- St1 -->\r\n",
       "<g id=\"node2\" class=\"node\"><title>St1</title>\r\n",
       "<ellipse fill=\"none\" stroke=\"black\" cx=\"113.748\" cy=\"-95.748\" rx=\"22.9987\" ry=\"22.9987\"/>\r\n",
       "<text text-anchor=\"middle\" x=\"113.748\" y=\"-92.048\" font-family=\"Times New Roman,serif\" font-size=\"14.00\">St1</text>\r\n",
       "</g>\r\n",
       "<!-- EMPTY&#45;&gt;St1 -->\r\n",
       "<g id=\"edge1\" class=\"edge\"><title>EMPTY&#45;&gt;St1</title>\r\n",
       "<path fill=\"none\" stroke=\"black\" d=\"M54.3502,-76.4539C63.1996,-79.3776 73.1425,-82.6627 82.2812,-85.682\"/>\r\n",
       "<polygon fill=\"black\" stroke=\"black\" points=\"81.199,-89.0105 91.7922,-88.8244 83.3951,-82.3639 81.199,-89.0105\"/>\r\n",
       "</g>\r\n",
       "<!-- St3 -->\r\n",
       "<g id=\"node3\" class=\"node\"><title>St3</title>\r\n",
       "<ellipse fill=\"none\" stroke=\"black\" cx=\"113.748\" cy=\"-30.748\" rx=\"22.9987\" ry=\"22.9987\"/>\r\n",
       "<text text-anchor=\"middle\" x=\"113.748\" y=\"-27.048\" font-family=\"Times New Roman,serif\" font-size=\"14.00\">St3</text>\r\n",
       "</g>\r\n",
       "<!-- EMPTY&#45;&gt;St3 -->\r\n",
       "<g id=\"edge2\" class=\"edge\"><title>EMPTY&#45;&gt;St3</title>\r\n",
       "<path fill=\"none\" stroke=\"black\" d=\"M54.3502,-56.2438C63.5102,-52.2446 73.8416,-47.734 83.2402,-43.6308\"/>\r\n",
       "<polygon fill=\"black\" stroke=\"black\" points=\"84.8443,-46.7495 92.6085,-39.5407 82.0434,-40.3343 84.8443,-46.7495\"/>\r\n",
       "</g>\r\n",
       "<!-- St2 -->\r\n",
       "<g id=\"node5\" class=\"node\"><title>St2</title>\r\n",
       "<ellipse fill=\"none\" stroke=\"black\" cx=\"207.244\" cy=\"-97.748\" rx=\"22.9609\" ry=\"22.9609\"/>\r\n",
       "<ellipse fill=\"none\" stroke=\"black\" cx=\"207.244\" cy=\"-97.748\" rx=\"26.9983\" ry=\"26.9983\"/>\r\n",
       "<text text-anchor=\"middle\" x=\"207.244\" y=\"-94.048\" font-family=\"Times New Roman,serif\" font-size=\"14.00\">St2</text>\r\n",
       "</g>\r\n",
       "<!-- St1&#45;&gt;St2 -->\r\n",
       "<g id=\"edge3\" class=\"edge\"><title>St1&#45;&gt;St2</title>\r\n",
       "<path fill=\"none\" stroke=\"black\" d=\"M136.897,-96.2321C146.939,-96.4516 159.07,-96.7168 170.36,-96.9636\"/>\r\n",
       "<polygon fill=\"black\" stroke=\"black\" points=\"170.333,-100.464 180.407,-97.1832 170.486,-93.4654 170.333,-100.464\"/>\r\n",
       "<text text-anchor=\"middle\" x=\"158.496\" y=\"-100.548\" font-family=\"Times New Roman,serif\" font-size=\"14.00\">a</text>\r\n",
       "</g>\r\n",
       "<!-- St4 -->\r\n",
       "<g id=\"node4\" class=\"node\"><title>St4</title>\r\n",
       "<ellipse fill=\"none\" stroke=\"black\" cx=\"207.244\" cy=\"-26.748\" rx=\"22.9609\" ry=\"22.9609\"/>\r\n",
       "<ellipse fill=\"none\" stroke=\"black\" cx=\"207.244\" cy=\"-26.748\" rx=\"26.9983\" ry=\"26.9983\"/>\r\n",
       "<text text-anchor=\"middle\" x=\"207.244\" y=\"-23.048\" font-family=\"Times New Roman,serif\" font-size=\"14.00\">St4</text>\r\n",
       "</g>\r\n",
       "<!-- St3&#45;&gt;St4 -->\r\n",
       "<g id=\"edge4\" class=\"edge\"><title>St3&#45;&gt;St4</title>\r\n",
       "<path fill=\"none\" stroke=\"black\" d=\"M136.897,-29.7797C146.939,-29.3407 159.07,-28.8103 170.36,-28.3168\"/>\r\n",
       "<polygon fill=\"black\" stroke=\"black\" points=\"170.569,-31.811 180.407,-27.8775 170.264,-24.8177 170.569,-31.811\"/>\r\n",
       "<text text-anchor=\"middle\" x=\"158.496\" y=\"-32.548\" font-family=\"Times New Roman,serif\" font-size=\"14.00\">b</text>\r\n",
       "</g>\r\n",
       "</g>\r\n",
       "</svg>\r\n"
      ],
      "text/plain": [
       "<graphviz.dot.Digraph at 0x1fb008d8630>"
      ]
     },
     "execution_count": 80,
     "metadata": {},
     "output_type": "execute_result"
    }
   ],
   "source": [
    "dotObj_nfa(re2nfa(\"a+b\"))"
   ]
  },
  {
   "cell_type": "code",
   "execution_count": 81,
   "metadata": {
    "run_control": {
     "frozen": false,
     "read_only": false
    }
   },
   "outputs": [
    {
     "name": "stderr",
     "output_type": "stream",
     "text": [
      "Generating LALR tables\n"
     ]
    },
    {
     "data": {
      "image/svg+xml": [
       "<?xml version=\"1.0\" encoding=\"UTF-8\" standalone=\"no\"?>\r\n",
       "<!DOCTYPE svg PUBLIC \"-//W3C//DTD SVG 1.1//EN\"\r\n",
       " \"http://www.w3.org/Graphics/SVG/1.1/DTD/svg11.dtd\">\r\n",
       "<!-- Generated by graphviz version 2.38.0 (20140413.2041)\r\n",
       " -->\r\n",
       "<!-- Title: %3 Pages: 1 -->\r\n",
       "<svg width=\"329pt\" height=\"94pt\"\r\n",
       " viewBox=\"0.00 0.00 329.49 94.50\" xmlns=\"http://www.w3.org/2000/svg\" xmlns:xlink=\"http://www.w3.org/1999/xlink\">\r\n",
       "<g id=\"graph0\" class=\"graph\" transform=\"scale(1 1) rotate(0) translate(4 90.496)\">\r\n",
       "<title>%3</title>\r\n",
       "<polygon fill=\"white\" stroke=\"none\" points=\"-4,4 -4,-90.496 325.488,-90.496 325.488,4 -4,4\"/>\r\n",
       "<!-- EMPTY -->\r\n",
       "<g id=\"node1\" class=\"node\"><title>EMPTY</title>\r\n",
       "</g>\r\n",
       "<!-- St3 -->\r\n",
       "<g id=\"node4\" class=\"node\"><title>St3</title>\r\n",
       "<ellipse fill=\"none\" stroke=\"black\" cx=\"117.748\" cy=\"-59.748\" rx=\"22.9609\" ry=\"22.9609\"/>\r\n",
       "<ellipse fill=\"none\" stroke=\"black\" cx=\"117.748\" cy=\"-59.748\" rx=\"26.9983\" ry=\"26.9983\"/>\r\n",
       "<text text-anchor=\"middle\" x=\"117.748\" y=\"-56.048\" font-family=\"Times New Roman,serif\" font-size=\"14.00\">St3</text>\r\n",
       "</g>\r\n",
       "<!-- EMPTY&#45;&gt;St3 -->\r\n",
       "<g id=\"edge1\" class=\"edge\"><title>EMPTY&#45;&gt;St3</title>\r\n",
       "<path fill=\"none\" stroke=\"black\" d=\"M54.1473,-59.748C62.4527,-59.748 71.7892,-59.748 80.6665,-59.748\"/>\r\n",
       "<polygon fill=\"black\" stroke=\"black\" points=\"80.7876,-63.2481 90.7876,-59.748 80.7875,-56.2481 80.7876,-63.2481\"/>\r\n",
       "</g>\r\n",
       "<!-- St1 -->\r\n",
       "<g id=\"node2\" class=\"node\"><title>St1</title>\r\n",
       "<ellipse fill=\"none\" stroke=\"black\" cx=\"210.244\" cy=\"-22.748\" rx=\"22.9987\" ry=\"22.9987\"/>\r\n",
       "<text text-anchor=\"middle\" x=\"210.244\" y=\"-19.048\" font-family=\"Times New Roman,serif\" font-size=\"14.00\">St1</text>\r\n",
       "</g>\r\n",
       "<!-- St2 -->\r\n",
       "<g id=\"node3\" class=\"node\"><title>St2</title>\r\n",
       "<ellipse fill=\"none\" stroke=\"black\" cx=\"298.74\" cy=\"-59.748\" rx=\"22.9987\" ry=\"22.9987\"/>\r\n",
       "<text text-anchor=\"middle\" x=\"298.74\" y=\"-56.048\" font-family=\"Times New Roman,serif\" font-size=\"14.00\">St2</text>\r\n",
       "</g>\r\n",
       "<!-- St1&#45;&gt;St2 -->\r\n",
       "<g id=\"edge3\" class=\"edge\"><title>St1&#45;&gt;St2</title>\r\n",
       "<path fill=\"none\" stroke=\"black\" d=\"M231.742,-31.5165C242.622,-36.1704 256.187,-41.9731 268.184,-47.1051\"/>\r\n",
       "<polygon fill=\"black\" stroke=\"black\" points=\"266.818,-50.3274 277.389,-51.0424 269.571,-43.8915 266.818,-50.3274\"/>\r\n",
       "<text text-anchor=\"middle\" x=\"254.492\" y=\"-46.548\" font-family=\"Times New Roman,serif\" font-size=\"14.00\">a</text>\r\n",
       "</g>\r\n",
       "<!-- St2&#45;&gt;St3 -->\r\n",
       "<g id=\"edge4\" class=\"edge\"><title>St2&#45;&gt;St3</title>\r\n",
       "<path fill=\"none\" stroke=\"black\" d=\"M275.879,-61.0457C270.068,-61.3366 263.794,-61.6021 257.992,-61.748 222.952,-62.629 182.941,-61.8707 154.828,-61.0473\"/>\r\n",
       "<polygon fill=\"black\" stroke=\"black\" points=\"154.775,-57.544 144.671,-60.7318 154.558,-64.5406 154.775,-57.544\"/>\r\n",
       "<text text-anchor=\"middle\" x=\"210.244\" y=\"-65.548\" font-family=\"Times New Roman,serif\" font-size=\"14.00\">&#39;&#39;</text>\r\n",
       "</g>\r\n",
       "<!-- St3&#45;&gt;St1 -->\r\n",
       "<g id=\"edge2\" class=\"edge\"><title>St3&#45;&gt;St1</title>\r\n",
       "<path fill=\"none\" stroke=\"black\" d=\"M142.999,-49.8327C154.207,-45.2504 167.622,-39.7654 179.44,-34.9334\"/>\r\n",
       "<polygon fill=\"black\" stroke=\"black\" points=\"180.977,-38.0865 188.908,-31.0623 178.328,-31.6072 180.977,-38.0865\"/>\r\n",
       "<text text-anchor=\"middle\" x=\"165.996\" y=\"-45.548\" font-family=\"Times New Roman,serif\" font-size=\"14.00\">&#39;&#39;</text>\r\n",
       "</g>\r\n",
       "</g>\r\n",
       "</svg>\r\n"
      ],
      "text/plain": [
       "<graphviz.dot.Digraph at 0x1fb008d8668>"
      ]
     },
     "execution_count": 81,
     "metadata": {},
     "output_type": "execute_result"
    }
   ],
   "source": [
    "dotObj_nfa(re2nfa(\"a*\"))"
   ]
  },
  {
   "cell_type": "code",
   "execution_count": 82,
   "metadata": {
    "run_control": {
     "frozen": false,
     "read_only": false
    }
   },
   "outputs": [
    {
     "name": "stderr",
     "output_type": "stream",
     "text": [
      "Generating LALR tables\n"
     ]
    },
    {
     "data": {
      "image/svg+xml": [
       "<?xml version=\"1.0\" encoding=\"UTF-8\" standalone=\"no\"?>\r\n",
       "<!DOCTYPE svg PUBLIC \"-//W3C//DTD SVG 1.1//EN\"\r\n",
       " \"http://www.w3.org/Graphics/SVG/1.1/DTD/svg11.dtd\">\r\n",
       "<!-- Generated by graphviz version 2.38.0 (20140413.2041)\r\n",
       " -->\r\n",
       "<!-- Title: %3 Pages: 1 -->\r\n",
       "<svg width=\"241pt\" height=\"61pt\"\r\n",
       " viewBox=\"0.00 0.00 240.99 61.50\" xmlns=\"http://www.w3.org/2000/svg\" xmlns:xlink=\"http://www.w3.org/1999/xlink\">\r\n",
       "<g id=\"graph0\" class=\"graph\" transform=\"scale(1 1) rotate(0) translate(4 57.496)\">\r\n",
       "<title>%3</title>\r\n",
       "<polygon fill=\"white\" stroke=\"none\" points=\"-4,4 -4,-57.496 236.992,-57.496 236.992,4 -4,4\"/>\r\n",
       "<!-- EMPTY -->\r\n",
       "<g id=\"node1\" class=\"node\"><title>EMPTY</title>\r\n",
       "</g>\r\n",
       "<!-- St2 -->\r\n",
       "<g id=\"node3\" class=\"node\"><title>St2</title>\r\n",
       "<ellipse fill=\"none\" stroke=\"black\" cx=\"117.748\" cy=\"-26.748\" rx=\"22.9609\" ry=\"22.9609\"/>\r\n",
       "<ellipse fill=\"none\" stroke=\"black\" cx=\"117.748\" cy=\"-26.748\" rx=\"26.9983\" ry=\"26.9983\"/>\r\n",
       "<text text-anchor=\"middle\" x=\"117.748\" y=\"-23.048\" font-family=\"Times New Roman,serif\" font-size=\"14.00\">St2</text>\r\n",
       "</g>\r\n",
       "<!-- EMPTY&#45;&gt;St2 -->\r\n",
       "<g id=\"edge1\" class=\"edge\"><title>EMPTY&#45;&gt;St2</title>\r\n",
       "<path fill=\"none\" stroke=\"black\" d=\"M54.1473,-26.748C62.4527,-26.748 71.7892,-26.748 80.6665,-26.748\"/>\r\n",
       "<polygon fill=\"black\" stroke=\"black\" points=\"80.7876,-30.2481 90.7876,-26.748 80.7875,-23.2481 80.7876,-30.2481\"/>\r\n",
       "</g>\r\n",
       "<!-- St1 -->\r\n",
       "<g id=\"node2\" class=\"node\"><title>St1</title>\r\n",
       "<ellipse fill=\"none\" stroke=\"black\" cx=\"210.244\" cy=\"-26.748\" rx=\"22.9987\" ry=\"22.9987\"/>\r\n",
       "<text text-anchor=\"middle\" x=\"210.244\" y=\"-23.048\" font-family=\"Times New Roman,serif\" font-size=\"14.00\">St1</text>\r\n",
       "</g>\r\n",
       "<!-- St1&#45;&gt;St2 -->\r\n",
       "<g id=\"edge3\" class=\"edge\"><title>St1&#45;&gt;St2</title>\r\n",
       "<path fill=\"none\" stroke=\"black\" d=\"M190.061,-15.4616C183.729,-12.3216 176.508,-9.33768 169.496,-7.74798 163.114,-6.301 156.453,-7.04328 150.136,-8.89189\"/>\r\n",
       "<polygon fill=\"black\" stroke=\"black\" points=\"148.669,-5.706 140.583,-12.5519 151.173,-12.2427 148.669,-5.706\"/>\r\n",
       "<text text-anchor=\"middle\" x=\"165.996\" y=\"-11.548\" font-family=\"Times New Roman,serif\" font-size=\"14.00\">&#39;&#39;</text>\r\n",
       "</g>\r\n",
       "<!-- St2&#45;&gt;St1 -->\r\n",
       "<g id=\"edge2\" class=\"edge\"><title>St2&#45;&gt;St1</title>\r\n",
       "<path fill=\"none\" stroke=\"black\" d=\"M144.923,-26.748C155.024,-26.748 166.677,-26.748 177.266,-26.748\"/>\r\n",
       "<polygon fill=\"black\" stroke=\"black\" points=\"177.404,-30.2481 187.404,-26.748 177.404,-23.2481 177.404,-30.2481\"/>\r\n",
       "<text text-anchor=\"middle\" x=\"165.996\" y=\"-30.548\" font-family=\"Times New Roman,serif\" font-size=\"14.00\">&#39;&#39;</text>\r\n",
       "</g>\r\n",
       "</g>\r\n",
       "</svg>\r\n"
      ],
      "text/plain": [
       "<graphviz.dot.Digraph at 0x1fb008dde48>"
      ]
     },
     "execution_count": 82,
     "metadata": {},
     "output_type": "execute_result"
    }
   ],
   "source": [
    "dotObj_nfa(re2nfa(\"''*\"))"
   ]
  },
  {
   "cell_type": "code",
   "execution_count": 84,
   "metadata": {},
   "outputs": [
    {
     "name": "stderr",
     "output_type": "stream",
     "text": [
      "Generating LALR tables\n"
     ]
    },
    {
     "data": {
      "image/svg+xml": [
       "<?xml version=\"1.0\" encoding=\"UTF-8\" standalone=\"no\"?>\r\n",
       "<!DOCTYPE svg PUBLIC \"-//W3C//DTD SVG 1.1//EN\"\r\n",
       " \"http://www.w3.org/Graphics/SVG/1.1/DTD/svg11.dtd\">\r\n",
       "<!-- Generated by graphviz version 2.38.0 (20140413.2041)\r\n",
       " -->\r\n",
       "<!-- Title: %3 Pages: 1 -->\r\n",
       "<svg width=\"506pt\" height=\"165pt\"\r\n",
       " viewBox=\"0.00 0.00 506.48 165.50\" xmlns=\"http://www.w3.org/2000/svg\" xmlns:xlink=\"http://www.w3.org/1999/xlink\">\r\n",
       "<g id=\"graph0\" class=\"graph\" transform=\"scale(1 1) rotate(0) translate(4 161.496)\">\r\n",
       "<title>%3</title>\r\n",
       "<polygon fill=\"white\" stroke=\"none\" points=\"-4,4 -4,-161.496 502.48,-161.496 502.48,4 -4,4\"/>\r\n",
       "<!-- EMPTY -->\r\n",
       "<g id=\"node1\" class=\"node\"><title>EMPTY</title>\r\n",
       "</g>\r\n",
       "<!-- St7 -->\r\n",
       "<g id=\"node8\" class=\"node\"><title>St7</title>\r\n",
       "<ellipse fill=\"none\" stroke=\"black\" cx=\"117.748\" cy=\"-111.748\" rx=\"22.9609\" ry=\"22.9609\"/>\r\n",
       "<ellipse fill=\"none\" stroke=\"black\" cx=\"117.748\" cy=\"-111.748\" rx=\"26.9983\" ry=\"26.9983\"/>\r\n",
       "<text text-anchor=\"middle\" x=\"117.748\" y=\"-108.048\" font-family=\"Times New Roman,serif\" font-size=\"14.00\">St7</text>\r\n",
       "</g>\r\n",
       "<!-- EMPTY&#45;&gt;St7 -->\r\n",
       "<g id=\"edge1\" class=\"edge\"><title>EMPTY&#45;&gt;St7</title>\r\n",
       "<path fill=\"none\" stroke=\"black\" d=\"M54.1473,-111.748C62.4527,-111.748 71.7892,-111.748 80.6665,-111.748\"/>\r\n",
       "<polygon fill=\"black\" stroke=\"black\" points=\"80.7876,-115.248 90.7876,-111.748 80.7875,-108.248 80.7876,-115.248\"/>\r\n",
       "</g>\r\n",
       "<!-- St3 -->\r\n",
       "<g id=\"node2\" class=\"node\"><title>St3</title>\r\n",
       "<ellipse fill=\"none\" stroke=\"black\" cx=\"210.244\" cy=\"-72.748\" rx=\"22.9987\" ry=\"22.9987\"/>\r\n",
       "<text text-anchor=\"middle\" x=\"210.244\" y=\"-69.048\" font-family=\"Times New Roman,serif\" font-size=\"14.00\">St3</text>\r\n",
       "</g>\r\n",
       "<!-- St6 -->\r\n",
       "<g id=\"node5\" class=\"node\"><title>St6</title>\r\n",
       "<ellipse fill=\"none\" stroke=\"black\" cx=\"298.74\" cy=\"-134.748\" rx=\"22.9987\" ry=\"22.9987\"/>\r\n",
       "<text text-anchor=\"middle\" x=\"298.74\" y=\"-131.048\" font-family=\"Times New Roman,serif\" font-size=\"14.00\">St6</text>\r\n",
       "</g>\r\n",
       "<!-- St3&#45;&gt;St6 -->\r\n",
       "<g id=\"edge4\" class=\"edge\"><title>St3&#45;&gt;St6</title>\r\n",
       "<path fill=\"none\" stroke=\"black\" d=\"M229.166,-85.5944C241.459,-94.4063 257.968,-106.24 271.707,-116.088\"/>\r\n",
       "<polygon fill=\"black\" stroke=\"black\" points=\"269.674,-118.937 279.841,-121.918 273.752,-113.247 269.674,-118.937\"/>\r\n",
       "<text text-anchor=\"middle\" x=\"254.492\" y=\"-109.548\" font-family=\"Times New Roman,serif\" font-size=\"14.00\">&#39;&#39;</text>\r\n",
       "</g>\r\n",
       "<!-- St1 -->\r\n",
       "<g id=\"node6\" class=\"node\"><title>St1</title>\r\n",
       "<ellipse fill=\"none\" stroke=\"black\" cx=\"298.74\" cy=\"-70.748\" rx=\"22.9987\" ry=\"22.9987\"/>\r\n",
       "<text text-anchor=\"middle\" x=\"298.74\" y=\"-67.048\" font-family=\"Times New Roman,serif\" font-size=\"14.00\">St1</text>\r\n",
       "</g>\r\n",
       "<!-- St3&#45;&gt;St1 -->\r\n",
       "<g id=\"edge3\" class=\"edge\"><title>St3&#45;&gt;St1</title>\r\n",
       "<path fill=\"none\" stroke=\"black\" d=\"M233.095,-70.8015C238.907,-70.3651 245.183,-69.9669 250.992,-69.748 255.682,-69.5713 260.637,-69.5253 265.5,-69.5602\"/>\r\n",
       "<polygon fill=\"black\" stroke=\"black\" points=\"265.794,-73.0659 275.856,-69.746 265.92,-66.0671 265.794,-73.0659\"/>\r\n",
       "<text text-anchor=\"middle\" x=\"254.492\" y=\"-73.548\" font-family=\"Times New Roman,serif\" font-size=\"14.00\">&#39;&#39;</text>\r\n",
       "</g>\r\n",
       "<!-- St5 -->\r\n",
       "<g id=\"node3\" class=\"node\"><title>St5</title>\r\n",
       "<ellipse fill=\"none\" stroke=\"black\" cx=\"475.732\" cy=\"-126.748\" rx=\"22.9987\" ry=\"22.9987\"/>\r\n",
       "<text text-anchor=\"middle\" x=\"475.732\" y=\"-123.048\" font-family=\"Times New Roman,serif\" font-size=\"14.00\">St5</text>\r\n",
       "</g>\r\n",
       "<!-- St5&#45;&gt;St6 -->\r\n",
       "<g id=\"edge10\" class=\"edge\"><title>St5&#45;&gt;St6</title>\r\n",
       "<path fill=\"none\" stroke=\"black\" d=\"M452.865,-127.868C447.053,-128.161 440.781,-128.471 434.984,-128.748 399.751,-130.431 359.348,-132.202 331.945,-133.381\"/>\r\n",
       "<polygon fill=\"black\" stroke=\"black\" points=\"331.603,-129.892 321.762,-133.817 331.902,-136.886 331.603,-129.892\"/>\r\n",
       "<text text-anchor=\"middle\" x=\"387.236\" y=\"-136.548\" font-family=\"Times New Roman,serif\" font-size=\"14.00\">&#39;&#39;</text>\r\n",
       "</g>\r\n",
       "<!-- St4 -->\r\n",
       "<g id=\"node4\" class=\"node\"><title>St4</title>\r\n",
       "<ellipse fill=\"none\" stroke=\"black\" cx=\"387.236\" cy=\"-89.748\" rx=\"22.9987\" ry=\"22.9987\"/>\r\n",
       "<text text-anchor=\"middle\" x=\"387.236\" y=\"-86.048\" font-family=\"Times New Roman,serif\" font-size=\"14.00\">St4</text>\r\n",
       "</g>\r\n",
       "<!-- St4&#45;&gt;St5 -->\r\n",
       "<g id=\"edge9\" class=\"edge\"><title>St4&#45;&gt;St5</title>\r\n",
       "<path fill=\"none\" stroke=\"black\" d=\"M408.734,-98.5165C419.614,-103.17 433.179,-108.973 445.176,-114.105\"/>\r\n",
       "<polygon fill=\"black\" stroke=\"black\" points=\"443.81,-117.327 454.381,-118.042 446.563,-110.891 443.81,-117.327\"/>\r\n",
       "<text text-anchor=\"middle\" x=\"431.484\" y=\"-113.548\" font-family=\"Times New Roman,serif\" font-size=\"14.00\">1</text>\r\n",
       "</g>\r\n",
       "<!-- St6&#45;&gt;St4 -->\r\n",
       "<g id=\"edge7\" class=\"edge\"><title>St6&#45;&gt;St4</title>\r\n",
       "<path fill=\"none\" stroke=\"black\" d=\"M319.367,-124.537C330.647,-118.668 345.02,-111.191 357.548,-104.673\"/>\r\n",
       "<polygon fill=\"black\" stroke=\"black\" points=\"359.43,-107.639 366.686,-99.9188 356.2,-101.429 359.43,-107.639\"/>\r\n",
       "<text text-anchor=\"middle\" x=\"342.988\" y=\"-117.548\" font-family=\"Times New Roman,serif\" font-size=\"14.00\">&#39;&#39;</text>\r\n",
       "</g>\r\n",
       "<!-- St6&#45;&gt;St7 -->\r\n",
       "<g id=\"edge8\" class=\"edge\"><title>St6&#45;&gt;St7</title>\r\n",
       "<path fill=\"none\" stroke=\"black\" d=\"M276.074,-131.964C245.909,-128.088 190.879,-121.017 154.56,-116.35\"/>\r\n",
       "<polygon fill=\"black\" stroke=\"black\" points=\"154.758,-112.846 144.393,-115.043 153.866,-119.789 154.758,-112.846\"/>\r\n",
       "<text text-anchor=\"middle\" x=\"210.244\" y=\"-130.548\" font-family=\"Times New Roman,serif\" font-size=\"14.00\">&#39;&#39;</text>\r\n",
       "</g>\r\n",
       "<!-- St2 -->\r\n",
       "<g id=\"node7\" class=\"node\"><title>St2</title>\r\n",
       "<ellipse fill=\"none\" stroke=\"black\" cx=\"387.236\" cy=\"-22.748\" rx=\"22.9987\" ry=\"22.9987\"/>\r\n",
       "<text text-anchor=\"middle\" x=\"387.236\" y=\"-19.048\" font-family=\"Times New Roman,serif\" font-size=\"14.00\">St2</text>\r\n",
       "</g>\r\n",
       "<!-- St1&#45;&gt;St2 -->\r\n",
       "<g id=\"edge5\" class=\"edge\"><title>St1&#45;&gt;St2</title>\r\n",
       "<path fill=\"none\" stroke=\"black\" d=\"M318.936,-60.0952C330.47,-53.6944 345.351,-45.4364 358.186,-38.3138\"/>\r\n",
       "<polygon fill=\"black\" stroke=\"black\" points=\"360.048,-41.2837 367.093,-33.371 356.651,-35.163 360.048,-41.2837\"/>\r\n",
       "<text text-anchor=\"middle\" x=\"342.988\" y=\"-52.548\" font-family=\"Times New Roman,serif\" font-size=\"14.00\">0</text>\r\n",
       "</g>\r\n",
       "<!-- St2&#45;&gt;St3 -->\r\n",
       "<g id=\"edge6\" class=\"edge\"><title>St2&#45;&gt;St3</title>\r\n",
       "<path fill=\"none\" stroke=\"black\" d=\"M364.431,-19.0078C341.693,-16.0022 305.342,-13.7458 275.992,-23.748 260.38,-29.0684 245.514,-39.7606 233.973,-49.8032\"/>\r\n",
       "<polygon fill=\"black\" stroke=\"black\" points=\"231.575,-47.2528 226.546,-56.5779 236.293,-52.4245 231.575,-47.2528\"/>\r\n",
       "<text text-anchor=\"middle\" x=\"298.74\" y=\"-27.548\" font-family=\"Times New Roman,serif\" font-size=\"14.00\">&#39;&#39;</text>\r\n",
       "</g>\r\n",
       "<!-- St7&#45;&gt;St3 -->\r\n",
       "<g id=\"edge2\" class=\"edge\"><title>St7&#45;&gt;St3</title>\r\n",
       "<path fill=\"none\" stroke=\"black\" d=\"M142.525,-101.501C153.929,-96.5862 167.703,-90.6502 179.768,-85.4511\"/>\r\n",
       "<polygon fill=\"black\" stroke=\"black\" points=\"181.2,-88.645 188.998,-81.473 178.43,-82.2166 181.2,-88.645\"/>\r\n",
       "<text text-anchor=\"middle\" x=\"165.996\" y=\"-96.548\" font-family=\"Times New Roman,serif\" font-size=\"14.00\">&#39;&#39;</text>\r\n",
       "</g>\r\n",
       "</g>\r\n",
       "</svg>\r\n"
      ],
      "text/plain": [
       "<graphviz.dot.Digraph at 0x1fb008b7ba8>"
      ]
     },
     "execution_count": 84,
     "metadata": {},
     "output_type": "execute_result"
    }
   ],
   "source": [
    "dotObj_nfa(re2nfa(\"(0*1*)*\"))"
   ]
  },
  {
   "cell_type": "code",
   "execution_count": null,
   "metadata": {
    "run_control": {
     "frozen": false,
     "read_only": false
    }
   },
   "outputs": [],
   "source": [
    "nfromr = re2nfa(\"ab(a+b)*\")"
   ]
  },
  {
   "cell_type": "code",
   "execution_count": null,
   "metadata": {
    "run_control": {
     "frozen": false,
     "read_only": false
    }
   },
   "outputs": [],
   "source": [
    "dotObj_nfa(nfromr)"
   ]
  },
  {
   "cell_type": "code",
   "execution_count": null,
   "metadata": {
    "run_control": {
     "frozen": false,
     "read_only": false
    }
   },
   "outputs": [],
   "source": [
    "mk_gnfa"
   ]
  },
  {
   "cell_type": "code",
   "execution_count": null,
   "metadata": {
    "run_control": {
     "frozen": false,
     "read_only": false
    }
   },
   "outputs": [],
   "source": [
    "help(mk_gnfa)"
   ]
  },
  {
   "cell_type": "code",
   "execution_count": null,
   "metadata": {
    "run_control": {
     "frozen": false,
     "read_only": false
    }
   },
   "outputs": [],
   "source": [
    "gnfromr = mk_gnfa(nfromr)\n",
    "dotObj_gnfa(gnfromr)"
   ]
  },
  {
   "cell_type": "code",
   "execution_count": null,
   "metadata": {
    "run_control": {
     "frozen": false,
     "read_only": false
    }
   },
   "outputs": [],
   "source": [
    "del_gnfa_states"
   ]
  },
  {
   "cell_type": "code",
   "execution_count": null,
   "metadata": {
    "run_control": {
     "frozen": false,
     "read_only": false
    }
   },
   "outputs": [],
   "source": [
    "help(del_gnfa_states)"
   ]
  },
  {
   "cell_type": "code",
   "execution_count": null,
   "metadata": {
    "run_control": {
     "frozen": false,
     "read_only": false
    }
   },
   "outputs": [],
   "source": [
    "(Gf, DO, RE) = del_gnfa_states(gnfromr)"
   ]
  },
  {
   "cell_type": "code",
   "execution_count": null,
   "metadata": {
    "run_control": {
     "frozen": false,
     "read_only": false
    }
   },
   "outputs": [],
   "source": [
    "RE"
   ]
  },
  {
   "cell_type": "code",
   "execution_count": null,
   "metadata": {
    "run_control": {
     "frozen": false,
     "read_only": false
    }
   },
   "outputs": [],
   "source": [
    "DO[0]"
   ]
  },
  {
   "cell_type": "code",
   "execution_count": null,
   "metadata": {
    "run_control": {
     "frozen": false,
     "read_only": false
    }
   },
   "outputs": [],
   "source": [
    "DO[6]"
   ]
  },
  {
   "cell_type": "code",
   "execution_count": null,
   "metadata": {
    "run_control": {
     "frozen": false,
     "read_only": false
    }
   },
   "outputs": [],
   "source": [
    "dotObj_nfa(re2nfa(\"''\"))"
   ]
  },
  {
   "cell_type": "code",
   "execution_count": null,
   "metadata": {
    "run_control": {
     "frozen": false,
     "read_only": false
    }
   },
   "outputs": [],
   "source": [
    "\n",
    "\n",
    "\n"
   ]
  },
  {
   "cell_type": "code",
   "execution_count": null,
   "metadata": {
    "run_control": {
     "frozen": false,
     "read_only": false
    }
   },
   "outputs": [],
   "source": [
    "dotObj_nfa(re2nfa(\"a\"))"
   ]
  },
  {
   "cell_type": "code",
   "execution_count": null,
   "metadata": {
    "run_control": {
     "frozen": false,
     "read_only": false
    }
   },
   "outputs": [],
   "source": [
    "dotObj_nfa(re2nfa('ab'))"
   ]
  },
  {
   "cell_type": "code",
   "execution_count": null,
   "metadata": {
    "run_control": {
     "frozen": false,
     "read_only": false
    }
   },
   "outputs": [],
   "source": [
    "dotObj_nfa(re2nfa(\"a*\"))"
   ]
  },
  {
   "cell_type": "markdown",
   "metadata": {
    "run_control": {
     "frozen": false,
     "read_only": false
    }
   },
   "source": [
    "$\\varepsilon$"
   ]
  },
  {
   "cell_type": "code",
   "execution_count": null,
   "metadata": {
    "run_control": {
     "frozen": false,
     "read_only": false
    }
   },
   "outputs": [],
   "source": [
    "dotObj_nfa(re2nfa(\"a(a+b)*b\"))"
   ]
  },
  {
   "cell_type": "code",
   "execution_count": null,
   "metadata": {
    "run_control": {
     "frozen": false,
     "read_only": false
    }
   },
   "outputs": [],
   "source": [
    "dotObj_nfa(re2nfa(\"dotObj_nfa(re2nfa(\"''\"))a+b\"))"
   ]
  },
  {
   "cell_type": "code",
   "execution_count": null,
   "metadata": {
    "run_control": {
     "frozen": false,
     "read_only": false
    }
   },
   "outputs": [],
   "source": [
    "dotObj_dfa(min_dfa(nfa2dfa(re2nfa(\"(0+1)*1(0+1)(0+1)\"))))"
   ]
  },
  {
   "cell_type": "code",
   "execution_count": null,
   "metadata": {
    "run_control": {
     "frozen": false,
     "read_only": false
    }
   },
   "outputs": [],
   "source": [
    "dotObj_dfa(min_dfa(nfa2dfa(re2nfa(\"(0+1)*1(0+1)(0+1)(0+1)(0+1)(0+1)\"))))"
   ]
  },
  {
   "cell_type": "code",
   "execution_count": null,
   "metadata": {
    "run_control": {
     "frozen": false,
     "read_only": false
    }
   },
   "outputs": [],
   "source": [
    "len(min_dfa(nfa2dfa(re2nfa(\"(0+1)*1(0+1)(0+1)(0+1)(0+1)(0+1)(0+1)\")))[\"Q\"])"
   ]
  },
  {
   "cell_type": "code",
   "execution_count": null,
   "metadata": {
    "run_control": {
     "frozen": false,
     "read_only": false
    }
   },
   "outputs": [],
   "source": []
  },
  {
   "cell_type": "code",
   "execution_count": null,
   "metadata": {
    "run_control": {
     "frozen": false,
     "read_only": false
    }
   },
   "outputs": [],
   "source": [
    "dotObj_nfa(re2nfa(\"''\"))"
   ]
  },
  {
   "cell_type": "markdown",
   "metadata": {},
   "source": [
    "# Split the cells below into separate cells and run\n",
    "\n",
    "This way, you can observe the results after each command"
   ]
  },
  {
   "cell_type": "code",
   "execution_count": null,
   "metadata": {
    "run_control": {
     "frozen": false,
     "read_only": false
    }
   },
   "outputs": [],
   "source": [
    "dotObj_nfa(re2nfa(\"a\"))\n",
    "\n",
    "dotObj_nfa(re2nfa(\"  (10)* (11)  \"))\n",
    "\n",
    "re2nfa(\"  (10)* (11)  \")\n",
    "\n",
    "NFA1 = re2nfa(\"   (a+b+c)(p+q)*(m+n) \" )\n",
    "\n",
    "dotObj_nfa(mk_gnfa(NFA1))\n",
    "\n",
    "GNFA1 = mk_gnfa(NFA1)\n",
    "\n",
    "(Gnfa_fina, DO, REfinal) = del_gnfa_states(GNFA1)\n",
    "\n",
    "REfinal\n",
    "\n",
    "DO[0]\n",
    "\n",
    "DO[1]\n",
    "\n",
    "DO[2]\n",
    "\n",
    "DO[5]\n",
    "\n",
    "len(DO)\n",
    "\n",
    "DO[13]\n",
    "\n",
    "DO[15]\n",
    "\n",
    "dotObj_dfa(comp_dfa(min_dfa(nfa2dfa(re2nfa(\" (1+0)*(111+000+100+010+001)(1+0)* \")))))"
   ]
  },
  {
   "cell_type": "code",
   "execution_count": null,
   "metadata": {
    "run_control": {
     "frozen": false,
     "read_only": false
    }
   },
   "outputs": [],
   "source": [
    "dotObj_nfa(re2nfa(\"''\"))\n",
    "\n",
    "dotObj_nfa(re2nfa(\"a\"))\n",
    "\n",
    "dotObj_nfa(re2nfa(\"ab\"))\n",
    "\n",
    "dotObj_nfa(re2nfa(\"a+b\"))\n",
    "\n",
    "dotObj_nfa(re2nfa(\"a*\"))\n",
    "\n",
    "dotObj_nfa(re2nfa(\"''*\"))\n",
    "\n",
    "nfromr = re2nfa(\"ab(a+b)*\")\n",
    "\n",
    "dotObj_nfa(nfromr)\n",
    "\n",
    "dotObj_nfa(re2nfa(\"(01)*1+0\"))"
   ]
  },
  {
   "cell_type": "code",
   "execution_count": null,
   "metadata": {
    "run_control": {
     "frozen": false,
     "read_only": false
    }
   },
   "outputs": [],
   "source": [
    "mk_gnfa\n",
    "\n",
    "help(mk_gnfa)\n",
    "\n",
    "gnfromr = mk_gnfa(nfromr)\n",
    "dotObj_gnfa(gnfromr)\n",
    "\n",
    "del_gnfa_states\n",
    "\n",
    "help(del_gnfa_states)\n",
    "\n",
    "(Gf, DO, RE) = del_gnfa_states(gnfromr)\n",
    "\n",
    "RE\n",
    "\n",
    "DO[0]\n",
    "\n",
    "DO[6]\n",
    "\n",
    "\n",
    "\n",
    "DO[7]\n",
    "\n",
    "DO[8]\n",
    "\n",
    "DO[9]\n",
    "\n",
    "dotObj_dfa(min_dfa(nfa2dfa(re2nfa(RE))))"
   ]
  },
  {
   "cell_type": "markdown",
   "metadata": {
    "run_control": {
     "frozen": false,
     "read_only": false
    }
   },
   "source": [
    "# Review of Jove's capabilities\n",
    "\n",
    "Jove helps teach models of computation using Jupyter \n",
    "\n",
    "Included are modules on:\n",
    "\n",
    "* Sets, strings and languages\n",
    "* Language operations\n",
    "* Construction of and operations on DFA and NFA\n",
    "* Regular expression parsing and automata inter-conversion\n",
    "* Derivate-based parsing\n",
    "* Pushdown automata\n",
    "* The construction of parsers using context-free productions, including\n",
    "  a full lexer/parser for Jove's own markdown syntax\n",
    "* Studies of parsing: ambiguity, associativity, precedence\n",
    "* Turing machines (including one for the Collatz problem)\n",
    "\n",
    "For a complete Jove top-level reference, kindly refer to https://github.com/ganeshutah/Jove from where you can download and obtain Jove. You can also visit this Github link now and poke around (the NBViewer will display the contents).\n",
    "\n",
    "Once you are in the top-level Gallery link we provide, feel free to explore the hierarchy of modules found there.\n",
    "\n",
    "These notebooks should give you an idea of the contents.\n",
    "\n",
    "* [DFA Illustrations (has a Youtube)](http://nbviewer.jupyter.org/github/ganeshutah/Jove/blob/master/notebooks/tutorial/DFAUnit2.ipynb)\n",
    "\n",
    "* [Regular Operations](http://nbviewer.jupyter.org/github/ganeshutah/Jove/blob/master/notebooks/driver/Drive_AllRegularOps.ipynb)\n",
    "\n",
    "* [PDA Operations](http://nbviewer.jupyter.org/github/ganeshutah/Jove/blob/master/notebooks/driver/Drive_PDA_Based_Parsing.ipynb)\n",
    "\n",
    "* [TM Operations](http://nbviewer.jupyter.org/github/ganeshutah/Jove/blob/master/notebooks/driver/Drive_TM.ipynb)"
   ]
  },
  {
   "cell_type": "code",
   "execution_count": null,
   "metadata": {
    "run_control": {
     "frozen": false,
     "read_only": false
    }
   },
   "outputs": [],
   "source": [
    "# This Youtube video walks through this notebook\n",
    "from IPython.display import YouTubeVideo\n",
    "YouTubeVideo('L6l3c17mpi4')"
   ]
  },
  {
   "cell_type": "markdown",
   "metadata": {},
   "source": [
    "# Minimization done two different ways"
   ]
  },
  {
   "cell_type": "code",
   "execution_count": null,
   "metadata": {},
   "outputs": [],
   "source": []
  },
  {
   "cell_type": "code",
   "execution_count": null,
   "metadata": {
    "run_control": {
     "frozen": false,
     "read_only": false
    }
   },
   "outputs": [],
   "source": [
    "RE_Ex3z = \"1* 0 1* 0 1* 0 1* + (0* 1 0* (1 0* 1 0*)*)\"\n",
    "NFA_Ex3z = re2nfa(RE_Ex3z)\n",
    "DO_Ex3z  = dotObj_dfa(min_dfa(nfa2dfa(NFA_Ex3z)))\n",
    "DO_Ex3z\n",
    "\n",
    "# The above example, with min_dfa replaced by the rev;det;rev;det\n",
    "\n",
    "DofNFA_Ex3z = nfa2dfa(re2nfa(\"1* 0 1* 0 1* 0 1* + (0* 1 0* (1 0* 1 0*)*)\"))\n",
    "dotObj_dfa(DofNFA_Ex3z)\n",
    "dotObj_dfa(DofNFA_Ex3z)\n",
    "minDofNFA_Ex3z = nfa2dfa(rev_dfa(nfa2dfa(rev_dfa(DofNFA_Ex3z))))"
   ]
  },
  {
   "cell_type": "code",
   "execution_count": null,
   "metadata": {},
   "outputs": [],
   "source": []
  },
  {
   "cell_type": "markdown",
   "metadata": {
    "run_control": {
     "frozen": false,
     "read_only": false
    }
   },
   "source": [
    "# Postage Stamp Problem solved using RE and min_dfa\n",
    "\n",
    "The postage-stamp problem tries to answer the following question (typically posed wrt two postage stamp denominations that are relatively prime)\n",
    "\n",
    "* Given an unlimited supply of x cent stamps and an unlimited supply of y cent stamps\n",
    "\n",
    "  - where x and y are relatively prime\n",
    "  \n",
    "* Find out the largest denomination that you CANNOT make\n",
    "\n",
    "* E.g., given 3 cent and 5 cent stamps (x=3, y=5)\n",
    "\n",
    "  - Check they are relatively prime\n",
    "  \n",
    "    * Their GCD must be 1\n",
    "    \n",
    "  - Check!\n",
    "  \n",
    "* What is the largest postage that CANNOT be made using just 3 and 5 cents?\n",
    "\n",
    "* Approaches:\n",
    "\n",
    "  - Trial and error\n",
    "  \n",
    "    * 0, 3, 3+3, 3+5, 5+3, 5+5, 5+5+3, ...\n",
    "    \n",
    "  - Traditional math books:\n",
    "  \n",
    "    * Use Sylvester's theorem to find the Frobenius number\n",
    "    \n",
    "  - What I observed about a decade ago (have checked with a few experts and while it is   \"out there in the air\", nobody had seen it written down...)\n",
    "  \n",
    "    * We can use minimal DFA!\n",
    "\n",
    "    * My approach easily extends to more than two stamps!\n",
    "    \n",
    "  - General problem is hard, but has beautiful complexity-theory connections\n",
    "  \n",
    "* Onto solving!\n",
    "\n",
    "## Related Problem: McNugget problem (McNugget Number).\n",
    "A McNugget number is a positive integer that can be obtained by adding together orders of McDonald's® Chicken McNuggetsTM (prior to consuming any), which originally came in boxes of 6, 9, and 20 (Vardi 1991, pp. 19-20 and 233-234; Wah and Picciotto 1994, p. 186).\n",
    "\n",
    "__We can find the McNugget Number also using my method !! __\n",
    "\n",
    "We will do this after solving the postage stamp problem\n",
    "\n",
    "The numbers are not relatively prime\n",
    "\n",
    "You will observe something cool when you approach the McNugget problem using REs !!"
   ]
  },
  {
   "cell_type": "code",
   "execution_count": null,
   "metadata": {
    "run_control": {
     "frozen": false,
     "read_only": false
    }
   },
   "outputs": [],
   "source": [
    "# What's the largest postage that can't be made using 3,5 and 7 cents?\n",
    "\n",
    "# Answer is 4. Find it out.\n",
    "\n",
    "dotObj_dfa(min_dfa_brz(nfa2dfa(re2nfa(\"(111+11111+1111111)*\"))))"
   ]
  }
 ],
 "metadata": {
  "kernelspec": {
   "display_name": "Python 3",
   "language": "python",
   "name": "python3"
  },
  "language_info": {
   "codemirror_mode": {
    "name": "ipython",
    "version": 3
   },
   "file_extension": ".py",
   "mimetype": "text/x-python",
   "name": "python",
   "nbconvert_exporter": "python",
   "pygments_lexer": "ipython3",
   "version": "3.6.5"
  },
  "toc": {
   "colors": {
    "hover_highlight": "#DAA520",
    "running_highlight": "#FF0000",
    "selected_highlight": "#FFD700"
   },
   "moveMenuLeft": true,
   "nav_menu": {
    "height": "318px",
    "width": "252px"
   },
   "navigate_menu": true,
   "number_sections": true,
   "sideBar": true,
   "threshold": 4,
   "toc_cell": false,
   "toc_section_display": "block",
   "toc_window_display": false,
   "widenNotebook": false
  }
 },
 "nbformat": 4,
 "nbformat_minor": 2
}
