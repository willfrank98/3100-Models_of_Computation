{
 "cells": [
  {
   "cell_type": "markdown",
   "metadata": {
    "run_control": {
     "frozen": false,
     "read_only": false
    }
   },
   "source": [
    "  # Assignment on parsing expressions\n",
    "  \n",
    "  \n",
    "The code in this notebook is that of a Calculator.\n",
    "Run this file and take a careful look at the generated file\n",
    "parser.out Now answer the following questions in the Jove\n",
    "markdown areas.\n",
    "\n",
    "1.\n",
    "          Write out the _context-free grammar_ governing this\n",
    "          calculator's operation. You'll see this CFG sitting inside the file\n",
    "          parser.out at the very top. **Best way to answer:** Pull\n",
    "          out these CFG rules and copy them into your answer cell. Do\n",
    "          understand the rules of course.\n",
    "\n",
    "2.\n",
    "          Which of these two operators has higher _precedence_ :\n",
    "          \\* or ^? Justify your answer in two sentences with\n",
    "          respect to this grammar.  **Best way to answer:** State which\n",
    "          operator has what precedence and tell us how you learned that by\n",
    "          looking at the CFG rules.\n",
    "\n",
    "3.\n",
    "          What is the associativity (left/right) of the operators\n",
    "          +, -, *, and ^ ?  Justify your answer in two\n",
    "          sentences with respect to this grammar. **Best way to answer:**\n",
    "          State which operator has what associativity and tell us how you\n",
    "          learned that by looking at the CFG rules.\n",
    "\n",
    "4.\n",
    "          Which of the embedded calculations do not match\n",
    "          Python's expression evaluation rules. Spot which expressions\n",
    "          they are, and Explain Why this is happening. **Best way to\n",
    "          answer:** Point out the answer difference that reveals this mismatch\n",
    "          and explain that.\n",
    "\n",
    "\n",
    "5.\n",
    "          Insert a new answer cell, titled as Question 6e,\n",
    "          parenthesize the Python expressions so as to match\n",
    "          the answer provided by the Jove parser.  *Best way to\n",
    "          answer:* We can't tell you where this cell will go, as it will give\n",
    "          you a clue. Figure out where to insert the cell and provide the\n",
    "          parenthesized expression there. Then show that by virtue of the added\n",
    "          parentheses, the answer now matches.\n",
    "\n",
    "Study  Ref-1 and Ref-2 to understand how Python deals with Expressions.\n",
    "\n",
    "          \n",
    "          [Ref-1](https://docs.python.org/2/reference/expressions.html#id26)\n",
    "          Look at Section 5.4 of this document.\n",
    "\n",
    "          [Ref-2](https://codeplea.com/exponentiation-associativity-options)\n",
    "\n",
    "          *Best way to answer:* Provide your answer by stating (for e.g.)\n",
    "          : The difference in the computed answer is due to the fact\n",
    "          that Python as per Ref-n does (..such and such..)\n",
    "          when it sees a unary minus and exponentiation. But\n",
    "          the provided grammar does (..such and such..) which is different.\n",
    "\n",
    "6.\n",
    "          By studying Ref-2, Point out the similarities and\n",
    "          differences between C++, Python, and Google Sheets\n",
    "          when it comes to handling expressions.  Just a few sentences talking\n",
    "          about similarities and a few sentences about the\n",
    "          differences in the following context.\n",
    "\n",
    "           \n",
    "            a. Associativity of exponentiation\n",
    "            b. Whether negation or exponentiation is handled first\n",
    "        \n",
    "\n",
    "   *Best way to answer:* Answers in the Jove cells your answer for these two questions.\n",
    "   \n"
   ]
  },
  {
   "cell_type": "markdown",
   "metadata": {
    "run_control": {
     "frozen": false,
     "read_only": false
    }
   },
   "source": [
    "## Q6"
   ]
  },
  {
   "cell_type": "markdown",
   "metadata": {
    "run_control": {
     "frozen": false,
     "read_only": false
    }
   },
   "source": [
    "The code below is that for a calculator"
   ]
  },
  {
   "cell_type": "markdown",
   "metadata": {
    "run_control": {
     "frozen": false,
     "read_only": false
    }
   },
   "source": [
    "### Q6(a)"
   ]
  },
  {
   "cell_type": "markdown",
   "metadata": {
    "run_control": {
     "frozen": false,
     "read_only": false
    }
   },
   "source": [
    "Run this file and look at parser.out. Write out the context-free \n",
    "grammar generated for the expressions of this calculator."
   ]
  },
  {
   "cell_type": "markdown",
   "metadata": {
    "run_control": {
     "frozen": false,
     "read_only": false
    }
   },
   "source": [
    "```\n",
    "Rule 0     S' -> expression\n",
    "Rule 1     expression -> expression PLUS term\n",
    "Rule 2     expression -> expression MINUS term\n",
    "Rule 3     expression -> term\n",
    "Rule 4     term -> term TIMES factor\n",
    "Rule 5     term -> term DIVIDE factor\n",
    "Rule 6     term -> factor\n",
    "Rule 7     factor -> innerfactor EXP factor\n",
    "Rule 8     factor -> innerfactor\n",
    "Rule 9     innerfactor -> UMINUS innerfactor\n",
    "Rule 10    innerfactor -> LPAREN expression RPAREN\n",
    "Rule 11    innerfactor -> NUMBER\n",
    "```"
   ]
  },
  {
   "cell_type": "markdown",
   "metadata": {
    "run_control": {
     "frozen": false,
     "read_only": false
    }
   },
   "source": [
    "### Q6(b)"
   ]
  },
  {
   "cell_type": "markdown",
   "metadata": {
    "run_control": {
     "frozen": false,
     "read_only": false
    }
   },
   "source": [
    "Which of these two operators has higher precedence : * or ^ ? \n",
    "Justify your answer in two sentences with respect to this grammar."
   ]
  },
  {
   "cell_type": "markdown",
   "metadata": {
    "run_control": {
     "frozen": false,
     "read_only": false
    }
   },
   "source": [
    "<span style=\"color: blue\">\n",
    "The `^` operator has higher precedence than `*` since `^` comes from the `factor` rule (in **Rule 7**), and `*` comes from `term` (in **Rule 4**) which is where `factor` comes from too.  This means that `*` must be higher in the tree, and therefore lower precedence.\n",
    "</span>"
   ]
  },
  {
   "cell_type": "markdown",
   "metadata": {
    "run_control": {
     "frozen": false,
     "read_only": false
    }
   },
   "source": [
    "### Q6(c)"
   ]
  },
  {
   "cell_type": "markdown",
   "metadata": {
    "run_control": {
     "frozen": false,
     "read_only": false
    }
   },
   "source": [
    "What is the associativity (left/right) of the operators +, -, *, and ^ ?  Justify your answer in two sentences with respect to this grammar."
   ]
  },
  {
   "cell_type": "markdown",
   "metadata": {
    "run_control": {
     "frozen": false,
     "read_only": false
    }
   },
   "source": [
    "<span style=\"color: blue\">\n",
    "The operators `+`, `-`, and `*` are left-associative.  This is because recursion happens on the left (i.e. `expression -> expression PLUS term`).  If we parsed `1 + 1 + 1`, we cannot put the left `+` at the top of the tree because we would have no rule for the right `+`.\n",
    "</span>\n",
    "\n",
    "<span style=\"color: blue\">\n",
    "The operator `^` is right-associative.  This is because recursion happens on the right (`factor -> innerfactor EXP factor`).\n",
    "</span>\n"
   ]
  },
  {
   "cell_type": "markdown",
   "metadata": {
    "run_control": {
     "frozen": false,
     "read_only": false
    }
   },
   "source": [
    "### Q6(d)"
   ]
  },
  {
   "cell_type": "markdown",
   "metadata": {
    "run_control": {
     "frozen": false,
     "read_only": false
    }
   },
   "source": [
    "Some of the embedded calculations do not match Python's expression evaluation rules. Spot which expressions they are, and explain why this is happening?\n",
    "\n",
    "You should refer to the following References Ref-1 and Ref-2\n",
    "to understand how Python deals with expressions. \n",
    "\n",
    "You should relate this to how this grammar is dealing\n",
    "with expressions.\n",
    "\n",
    "You must provide your answer by (e.g.) saying \"Ref-n says Python does\n",
    "<..such and such..> when it sees unary minus and exponentiation. But\n",
    "     the provided grammar does <..such and such..> which is different.\n",
    "     Hence the difference in the answers.\n",
    "    \n",
    "    Ref-1: Section 5.4 of\n",
    "    https://docs.python.org/2/reference/expressions.html#id26\n",
    "    \n",
    "    Ref-2: https://codeplea.com/exponentiation-associativity-options"
   ]
  },
  {
   "cell_type": "markdown",
   "metadata": {
    "run_control": {
     "frozen": false,
     "read_only": false
    }
   },
   "source": [
    "<span style=\"color: blue\">\n",
    "`-2^2  = 4`  (**embedded calculator**)\n",
    "</span>\n",
    "\n",
    "<span style=\"color: blue\">\n",
    "`-2**2 = -4` (**python3**)\n",
    "</span>\n",
    "\n",
    "<span style=\"color: blue\">\n",
    "**embedded calculator** : Uses a grammer that gives `unary minus` **higher** precedence\n",
    "</span>\n",
    "\n",
    "<span style=\"color: blue\">\n",
    "**python3** : *unary minus* binds **less tightly** than **exponentiation**\n",
    "</span>\n"
   ]
  },
  {
   "cell_type": "markdown",
   "metadata": {
    "run_control": {
     "frozen": false,
     "read_only": false
    }
   },
   "source": [
    "### Q6(e)"
   ]
  },
  {
   "cell_type": "markdown",
   "metadata": {
    "run_control": {
     "frozen": false,
     "read_only": false
    }
   },
   "source": [
    "With respect to Ref-2,\n",
    "Point out the similarities and differences between C++, Python, and \n",
    "Google Sheets when it comes to handling. Just a few sentences talkingvabout similarities and a few sentences about the differences.\n",
    "    \n",
    "- Associativity of exponentiation\n",
    "- Whether negation or exponentiation is handled first"
   ]
  },
  {
   "cell_type": "markdown",
   "metadata": {
    "run_control": {
     "frozen": false,
     "read_only": false
    }
   },
   "source": [
    "<span style=\"color: blue\">\n",
    "In `python` and `google-sheets`, the associativity of exponentiation\n",
    "is **right-associative** and in `c++` its **left associative**\n",
    "</span>\n",
    "\n",
    "<span style=\"color: blue\">\n",
    "**negation** is handled first by `c++` and `google-sheets`\n",
    "and **exponentiation** is handled first in `python`\n",
    "</span>"
   ]
  },
  {
   "cell_type": "markdown",
   "metadata": {
    "run_control": {
     "frozen": false,
     "read_only": false
    }
   },
   "source": [
    "# Calculator using good and bad precedences\n",
    "\n",
    "This Jove file illustrates precedences wrt two grammars, also showing how to build a calculator. There are some good ideas in the excellent tutorial at URL http://www.dabeaz.com/ply/example.html , but we are not following the automatic resolution of precedences (for illustration)"
   ]
  },
  {
   "cell_type": "code",
   "execution_count": 1,
   "metadata": {
    "run_control": {
     "frozen": false,
     "read_only": false
    }
   },
   "outputs": [
    {
     "name": "stdout",
     "output_type": "stream",
     "text": [
      "You may use any of these help commands:\n",
      "help(ResetStNum)\n",
      "help(NxtStateStr)\n",
      "\n"
     ]
    }
   ],
   "source": [
    "from lex import lex\n",
    "from yacc import yacc\n",
    "\n",
    "from jove.StateNameSanitizers import ResetStNum, NxtStateStr\n",
    "from jove.SystemImports       import *\n"
   ]
  },
  {
   "cell_type": "markdown",
   "metadata": {
    "run_control": {
     "frozen": false,
     "read_only": false
    }
   },
   "source": [
    "## Token definitions\n",
    "\n",
    "This is the lexer for REs. We begin with token definitions"
   ]
  },
  {
   "cell_type": "code",
   "execution_count": 2,
   "metadata": {
    "run_control": {
     "frozen": false,
     "read_only": false
    }
   },
   "outputs": [],
   "source": [
    "# Following ideas from http://www.dabeaz.com/ply/example.html heavily\n",
    "tokens = ('NUMBER','LPAREN','RPAREN','PLUS', 'MINUS', 'TIMES','DIVIDE', 'UMINUS', 'EXP') \n",
    "\n",
    "# Tokens\n",
    "t_PLUS    = r'\\+'\n",
    "t_MINUS   = r'\\-'\n",
    "t_TIMES   = r'\\*'\n",
    "t_DIVIDE  = r'\\/'\n",
    "t_LPAREN  = r'\\('\n",
    "t_RPAREN  = r'\\)' \n",
    "t_UMINUS  = r'\\~' \n",
    "t_EXP     = r'\\^'\n",
    "\n",
    "# parsing + semantic actions in one place!\n",
    "def t_NUMBER(t):\n",
    "    r'\\d+'\n",
    "    try:\n",
    "        t.value = int(t.value)\n",
    "    except ValueError:\n",
    "        print(\"Integer value too large %d\", t.value)\n",
    "        t.value = 0\n",
    "    return t\n",
    "\n",
    "# Ignored characters\n",
    "t_ignore = \" \\t\"\n",
    "\n",
    "def t_newline(t):\n",
    "    r'\\n+'\n",
    "    t.lexer.lineno += t.value.count(\"\\n\")\n",
    "    \n",
    "def t_error(t):\n",
    "    print(\"Illegal character '%s'\" % t.value[0])\n",
    "    t.lexer.skip(1)\n",
    "    "
   ]
  },
  {
   "cell_type": "markdown",
   "metadata": {
    "run_control": {
     "frozen": false,
     "read_only": false
    }
   },
   "source": [
    "## These parsing rules specify many things. \n",
    "\n",
    "We begin with operator precedence rules that are essentially to help the \"LALR parser\" (also known as the bottom-up parser) resolve 'shift-reduce conflicts'."
   ]
  },
  {
   "cell_type": "code",
   "execution_count": 3,
   "metadata": {
    "run_control": {
     "frozen": false,
     "read_only": false
    }
   },
   "outputs": [],
   "source": [
    "# Parsing rules - NOT USED as we LAYER grammars!\n",
    "\n",
    "# Precedences, following BODMAS; not needed due to grammar layering\n",
    "# \n",
    "#precedence = (\n",
    "#   ('left','MINUS', 'PLUS'),\n",
    "#   ('left','TIMES','DIVIDE'),   \n",
    "#   ('right','UMINUS')    \n",
    "#   )"
   ]
  },
  {
   "cell_type": "markdown",
   "metadata": {
    "run_control": {
     "frozen": false,
     "read_only": false
    }
   },
   "source": [
    "## CFG productions and semantic actions\n",
    "\n",
    "These Python functions whose names begin with \"p_\" house (1) the CFG production rules within their documentation strings. (2) the semantic actions within their body. The semantic actions can refer to grammar symbol attributes within CFG productions. We will explain one of these rules now.\n",
    "\n",
    "Take the rules \n",
    "\n",
    " expression -> expression PLUS term\n",
    " expression -> term\n",
    " \n",
    "1) This function defines the first production rule\n",
    "\n",
    "def p_expression_plus(t):\n",
    "\n",
    "   a) This comment string expresses the production rule\n",
    "   \n",
    "    '''expression : expression PLUS term'''\n",
    "    \n",
    "   b) This line below tells us that the occurrence of 'expression' on\n",
    "      the left-hand side is marked t[0], and its value is determined by\n",
    "      applying function attrDyadicInfix onto its three arguments below.\n",
    "      Here, t[1] is the attribute of 'expression' coming after the colon (:)\n",
    "      and the attribute of catexp is t[3]\n",
    "      \n",
    "    t[0] = attrDyadicInfix(\"+\", t[1], t[3])    \n",
    "    \n",
    "2) This function expresses the second related production rule where the\n",
    "   basis case \n",
    "    \n",
    "def p_expression_plus1(t):\n",
    "    '''expression : term'''\n",
    "\n",
    "    t[0] = t[1]  \n",
    "    \n",
    "** ALL THE ABOVE is how RE PARSING WORKED. For Numbers, we made a change as per the following. **\n",
    "    \n",
    "We are now encoding (value, tree) pairs as attributes.., so use t[1][0] for value and t[1][1] for tree."
   ]
  },
  {
   "cell_type": "code",
   "execution_count": 4,
   "metadata": {
    "run_control": {
     "frozen": false,
     "read_only": false
    }
   },
   "outputs": [],
   "source": [
    "\n",
    "def p_expression_1(t):\n",
    "    'expression : expression PLUS term'\n",
    "    #\n",
    "    t[0] = (t[1][0] + t[3][0],\n",
    "            attrDyadicInfix(\"+\", t[1][1], t[3][1]))   \n",
    "    \n",
    "def p_expression_2(t):\n",
    "    'expression : expression MINUS term'\n",
    "    #\n",
    "    t[0] = (t[1][0] - t[3][0],\n",
    "            attrDyadicInfix(\"-\", t[1][1], t[3][1]))   \n",
    "    \n",
    "def p_expression_3(t):\n",
    "    'expression : term'\n",
    "    #\n",
    "    t[0] = t[1]  \n",
    "    \n",
    "# Consult this excellent reference for info on precedences\n",
    "# https://www.cs.utah.edu/~zachary/isp/worksheets/operprec/operprec.html\n",
    "    \n",
    "    \n",
    "def p_term_1(t):\n",
    "    'term :  term TIMES factor'\n",
    "    #\n",
    "    t[0] = (t[1][0] * t[3][0],\n",
    "            attrDyadicInfix(\"*\", t[1][1], t[3][1])) \n",
    "\n",
    "    \n",
    "def p_term_2(t):\n",
    "    'term :  term DIVIDE factor'\n",
    "    #\n",
    "    if (t[3][0] == 0):\n",
    "        print(\"Error, divide by zero!\")\n",
    "        t[3][0] = 1 # fix it\n",
    "    t[0] = (t[1][0] / t[3][0],\n",
    "            attrDyadicInfix(\"/\", t[1][1], t[3][1]))\n",
    "\n",
    "\n",
    "def p_term_3(t):\n",
    "    'term :  factor'\n",
    "    #\n",
    "    t[0] = t[1]  \n",
    "\n",
    "def p_factor_1(t):\n",
    "    'factor : innerfactor EXP factor'\n",
    "    #\n",
    "    t[0] = (t[1][0] ** t[3][0],\n",
    "            attrDyadicInfix(\"**\", t[1][1], t[3][1])) \n",
    "\n",
    "def p_factor_2(t):\n",
    "    'factor : innerfactor'\n",
    "    #\n",
    "    t[0] = t[1]\n",
    "    \n",
    "def p_innerfactor_1(t):\n",
    "    'innerfactor : UMINUS innerfactor'\n",
    "    #\n",
    "    ast  = ('~', t[2][1]['ast'])\n",
    "    \n",
    "    nlin = t[2][1]['dig']['nl']\n",
    "    elin = t[2][1]['dig']['el']\n",
    "    \n",
    "    rootin = nlin[0]\n",
    "\n",
    "    root = NxtStateStr(\"~E_\") \n",
    "    left = NxtStateStr(\"~_\")\n",
    "\n",
    "    t[0] =(-t[2][0], \n",
    "           {'ast' : ast,\n",
    "            'dig' : {'nl' : [ root, left ] + nlin, # this order important for proper layout!\n",
    "                     'el' : elin + [ (root, left),\n",
    "                                     (root, rootin) ]\n",
    "                    }})\n",
    "\n",
    "    \n",
    "def p_innerfactor_2(t):\n",
    "    'innerfactor : LPAREN expression RPAREN'\n",
    "    #\n",
    "    ast  = t[2][1]['ast']\n",
    "    \n",
    "    nlin = t[2][1]['dig']['nl']\n",
    "    elin = t[2][1]['dig']['el']\n",
    "    \n",
    "    rootin = nlin[0]\n",
    "    \n",
    "    root = NxtStateStr(\"(E)_\")\n",
    "    left = NxtStateStr(\"(_\")\n",
    "    right= NxtStateStr(\")_\")\n",
    "    \n",
    "    t[0] =(t[2][0],\n",
    "           {'ast' : ast,\n",
    "            'dig' : {'nl' : [root, left] + nlin + [right], #order important f. proper layout!\n",
    "                     'el' : elin + [ (root, left),\n",
    "                                     (root, rootin),\n",
    "                                     (root, right) ]\n",
    "                    }})\n",
    "\n",
    "def p_innerfactor_3(t):\n",
    "    'innerfactor : NUMBER'\n",
    "    #\n",
    "    strn = str(t[1])\n",
    "    ast  = ('NUMBER', strn)           \n",
    "    t[0] =(t[1],\n",
    "           { 'ast' : ast,\n",
    "             'dig' : {'nl' : [ strn + NxtStateStr(\"_\") ],\n",
    "                      'el' : []\n",
    "                     }})\n",
    "\n",
    "\n",
    "def p_error(t):\n",
    "    print(\"Syntax error at '%s'\" % t.value)\n",
    "\n",
    "#--\n",
    "    \n",
    "def attrDyadicInfix(op, attr1, attr3):\n",
    "    ast  = (op, (attr1['ast'], attr3['ast']))\n",
    "    \n",
    "    nlin1 = attr1['dig']['nl']\n",
    "    nlin3 = attr3['dig']['nl']\n",
    "    nlin  = nlin1 + nlin3\n",
    "    \n",
    "    elin1 = attr1['dig']['el']\n",
    "    elin3 = attr3['dig']['el']\n",
    "    elin  = elin1 + elin3\n",
    "    \n",
    "    rootin1 = nlin1[0]\n",
    "    rootin3 = nlin3[0]    \n",
    "    \n",
    "    root   = NxtStateStr(\"E1\"+op+\"E2\"+\"_\") # NxtStateStr(\"$_\")\n",
    "    left   = rootin1\n",
    "    middle = NxtStateStr(op+\"_\")\n",
    "    right  = rootin3\n",
    "    \n",
    "    return {'ast' : ast,\n",
    "            'dig' : {'nl' : [ root, left, middle, right ] + nlin,\n",
    "                     'el' : elin + [ (root, left),\n",
    "                                     (root, middle),\n",
    "                                     (root, right) ]\n",
    "                     }}\n",
    "\n",
    "#===\n",
    "# This is the main function in this Jove file.  \n",
    "#===\n",
    "\n",
    "def parseRE(s):\n",
    "    \"\"\"In: a string s containing a regular expression.\n",
    "       Out: An attribute triple consisting of\n",
    "            1) An abstract syntax tree suitable for processing in the derivative-based scanner\n",
    "            2) A node-list for the parse-tree digraph generated. Good for drawing a parse tree \n",
    "               using the drawPT function below\n",
    "            3) An edge list for the parse-tree generated (again good for drawing using the\n",
    "               drawPT function below)\n",
    "    \"\"\"\n",
    "    mylexer  = lex()\n",
    "    myparser = yacc()\n",
    "    pt = myparser.parse(s, lexer = mylexer)\n",
    "    \n",
    "    # print('parsed result  is ', pt)\n",
    "    # (result, ast, nodes, edges)\n",
    "    return (pt[0], pt[1]['ast'], pt[1]['dig']['nl'], pt[1]['dig']['el'])\n",
    "\n",
    "def drawPT(ast_rslt_nl_el, comment=\"PT\"):\n",
    "    \"\"\"Given an (ast, nl, el) triple where nl is the node and el the edge-list,\n",
    "       draw the Parse Tree by returning a dot object.\n",
    "    \"\"\"\n",
    "    (rslt, ast, nl, el) = ast_rslt_nl_el\n",
    "    \n",
    "    print(\"Result calculated = \", rslt)\n",
    "    print(\"Drawing AST for \", ast)\n",
    "    \n",
    "    dotObj_pt = Digraph(comment)\n",
    "    dotObj_pt.graph_attr['rankdir'] = 'TB'\n",
    "    for n in nl:\n",
    "        prNam = n.split('_')[0]\n",
    "        dotObj_pt.node(n, prNam, shape=\"oval\", peripheries=\"1\")\n",
    "    for e in el:\n",
    "        dotObj_pt.edge(e[0], e[1])\n",
    "    return dotObj_pt"
   ]
  },
  {
   "cell_type": "code",
   "execution_count": 5,
   "metadata": {
    "run_control": {
     "frozen": false,
     "read_only": false
    }
   },
   "outputs": [
    {
     "name": "stdout",
     "output_type": "stream",
     "text": [
      "Result calculated =  1.008594091576999\n",
      "Drawing AST for  ('**', (('NUMBER', '2'), ('**', (('~', ('NUMBER', '3')), ('~', ('NUMBER', '4'))))))\n"
     ]
    },
    {
     "name": "stderr",
     "output_type": "stream",
     "text": [
      "Generating LALR tables\n"
     ]
    },
    {
     "data": {
      "image/svg+xml": [
       "<?xml version=\"1.0\" encoding=\"UTF-8\" standalone=\"no\"?>\n",
       "<!DOCTYPE svg PUBLIC \"-//W3C//DTD SVG 1.1//EN\"\n",
       " \"http://www.w3.org/Graphics/SVG/1.1/DTD/svg11.dtd\">\n",
       "<!-- Generated by graphviz version 2.38.0 (20140413.2041)\n",
       " -->\n",
       "<!-- Title: PT Pages: 1 -->\n",
       "<svg width=\"344pt\" height=\"260pt\"\n",
       " viewBox=\"0.00 0.00 344.00 260.00\" xmlns=\"http://www.w3.org/2000/svg\" xmlns:xlink=\"http://www.w3.org/1999/xlink\">\n",
       "<g id=\"graph0\" class=\"graph\" transform=\"scale(1 1) rotate(0) translate(4 256)\">\n",
       "<title>PT</title>\n",
       "<polygon fill=\"white\" stroke=\"none\" points=\"-4,4 -4,-256 340,-256 340,4 -4,4\"/>\n",
       "<!-- E1**E2_10 -->\n",
       "<g id=\"node1\" class=\"node\"><title>E1**E2_10</title>\n",
       "<ellipse fill=\"none\" stroke=\"black\" cx=\"99\" cy=\"-234\" rx=\"38.6955\" ry=\"18\"/>\n",
       "<text text-anchor=\"middle\" x=\"99\" y=\"-229.8\" font-family=\"Times,serif\" font-size=\"14.00\">E1**E2</text>\n",
       "</g>\n",
       "<!-- 2_1 -->\n",
       "<g id=\"node2\" class=\"node\"><title>2_1</title>\n",
       "<ellipse fill=\"none\" stroke=\"black\" cx=\"27\" cy=\"-162\" rx=\"27\" ry=\"18\"/>\n",
       "<text text-anchor=\"middle\" x=\"27\" y=\"-157.8\" font-family=\"Times,serif\" font-size=\"14.00\">2</text>\n",
       "</g>\n",
       "<!-- E1**E2_10&#45;&gt;2_1 -->\n",
       "<g id=\"edge8\" class=\"edge\"><title>E1**E2_10&#45;&gt;2_1</title>\n",
       "<path fill=\"none\" stroke=\"black\" d=\"M83.0209,-217.465C73.0571,-207.778 60.0932,-195.174 49.1461,-184.531\"/>\n",
       "<polygon fill=\"black\" stroke=\"black\" points=\"51.561,-181.997 41.9512,-177.536 46.6814,-187.016 51.561,-181.997\"/>\n",
       "</g>\n",
       "<!-- **_11 -->\n",
       "<g id=\"node3\" class=\"node\"><title>**_11</title>\n",
       "<ellipse fill=\"none\" stroke=\"black\" cx=\"99\" cy=\"-162\" rx=\"27\" ry=\"18\"/>\n",
       "<text text-anchor=\"middle\" x=\"99\" y=\"-157.8\" font-family=\"Times,serif\" font-size=\"14.00\">**</text>\n",
       "</g>\n",
       "<!-- E1**E2_10&#45;&gt;**_11 -->\n",
       "<g id=\"edge9\" class=\"edge\"><title>E1**E2_10&#45;&gt;**_11</title>\n",
       "<path fill=\"none\" stroke=\"black\" d=\"M99,-215.697C99,-207.983 99,-198.712 99,-190.112\"/>\n",
       "<polygon fill=\"black\" stroke=\"black\" points=\"102.5,-190.104 99,-180.104 95.5001,-190.104 102.5,-190.104\"/>\n",
       "</g>\n",
       "<!-- E1**E2_8 -->\n",
       "<g id=\"node4\" class=\"node\"><title>E1**E2_8</title>\n",
       "<ellipse fill=\"none\" stroke=\"black\" cx=\"183\" cy=\"-162\" rx=\"38.6955\" ry=\"18\"/>\n",
       "<text text-anchor=\"middle\" x=\"183\" y=\"-157.8\" font-family=\"Times,serif\" font-size=\"14.00\">E1**E2</text>\n",
       "</g>\n",
       "<!-- E1**E2_10&#45;&gt;E1**E2_8 -->\n",
       "<g id=\"edge10\" class=\"edge\"><title>E1**E2_10&#45;&gt;E1**E2_8</title>\n",
       "<path fill=\"none\" stroke=\"black\" d=\"M117.227,-217.811C128.785,-208.179 143.924,-195.563 156.764,-184.863\"/>\n",
       "<polygon fill=\"black\" stroke=\"black\" points=\"159.367,-187.25 164.809,-178.159 154.886,-181.872 159.367,-187.25\"/>\n",
       "</g>\n",
       "<!-- ~E_3 -->\n",
       "<g id=\"node5\" class=\"node\"><title>~E_3</title>\n",
       "<ellipse fill=\"none\" stroke=\"black\" cx=\"111\" cy=\"-90\" rx=\"27\" ry=\"18\"/>\n",
       "<text text-anchor=\"middle\" x=\"111\" y=\"-85.8\" font-family=\"Times,serif\" font-size=\"14.00\">~E</text>\n",
       "</g>\n",
       "<!-- E1**E2_8&#45;&gt;~E_3 -->\n",
       "<g id=\"edge5\" class=\"edge\"><title>E1**E2_8&#45;&gt;~E_3</title>\n",
       "<path fill=\"none\" stroke=\"black\" d=\"M167.021,-145.465C157.057,-135.778 144.093,-123.174 133.146,-112.531\"/>\n",
       "<polygon fill=\"black\" stroke=\"black\" points=\"135.561,-109.997 125.951,-105.536 130.681,-115.016 135.561,-109.997\"/>\n",
       "</g>\n",
       "<!-- **_9 -->\n",
       "<g id=\"node6\" class=\"node\"><title>**_9</title>\n",
       "<ellipse fill=\"none\" stroke=\"black\" cx=\"183\" cy=\"-90\" rx=\"27\" ry=\"18\"/>\n",
       "<text text-anchor=\"middle\" x=\"183\" y=\"-85.8\" font-family=\"Times,serif\" font-size=\"14.00\">**</text>\n",
       "</g>\n",
       "<!-- E1**E2_8&#45;&gt;**_9 -->\n",
       "<g id=\"edge6\" class=\"edge\"><title>E1**E2_8&#45;&gt;**_9</title>\n",
       "<path fill=\"none\" stroke=\"black\" d=\"M183,-143.697C183,-135.983 183,-126.712 183,-118.112\"/>\n",
       "<polygon fill=\"black\" stroke=\"black\" points=\"186.5,-118.104 183,-108.104 179.5,-118.104 186.5,-118.104\"/>\n",
       "</g>\n",
       "<!-- ~E_6 -->\n",
       "<g id=\"node7\" class=\"node\"><title>~E_6</title>\n",
       "<ellipse fill=\"none\" stroke=\"black\" cx=\"255\" cy=\"-90\" rx=\"27\" ry=\"18\"/>\n",
       "<text text-anchor=\"middle\" x=\"255\" y=\"-85.8\" font-family=\"Times,serif\" font-size=\"14.00\">~E</text>\n",
       "</g>\n",
       "<!-- E1**E2_8&#45;&gt;~E_6 -->\n",
       "<g id=\"edge7\" class=\"edge\"><title>E1**E2_8&#45;&gt;~E_6</title>\n",
       "<path fill=\"none\" stroke=\"black\" d=\"M198.979,-145.465C208.943,-135.778 221.907,-123.174 232.854,-112.531\"/>\n",
       "<polygon fill=\"black\" stroke=\"black\" points=\"235.319,-115.016 240.049,-105.536 230.439,-109.997 235.319,-115.016\"/>\n",
       "</g>\n",
       "<!-- ~_4 -->\n",
       "<g id=\"node8\" class=\"node\"><title>~_4</title>\n",
       "<ellipse fill=\"none\" stroke=\"black\" cx=\"75\" cy=\"-18\" rx=\"27\" ry=\"18\"/>\n",
       "<text text-anchor=\"middle\" x=\"75\" y=\"-13.8\" font-family=\"Times,serif\" font-size=\"14.00\">~</text>\n",
       "</g>\n",
       "<!-- ~E_3&#45;&gt;~_4 -->\n",
       "<g id=\"edge1\" class=\"edge\"><title>~E_3&#45;&gt;~_4</title>\n",
       "<path fill=\"none\" stroke=\"black\" d=\"M102.65,-72.7646C98.2885,-64.2831 92.8531,-53.7144 87.9587,-44.1974\"/>\n",
       "<polygon fill=\"black\" stroke=\"black\" points=\"90.9904,-42.4395 83.3043,-35.1473 84.7654,-45.6409 90.9904,-42.4395\"/>\n",
       "</g>\n",
       "<!-- 3_2 -->\n",
       "<g id=\"node9\" class=\"node\"><title>3_2</title>\n",
       "<ellipse fill=\"none\" stroke=\"black\" cx=\"147\" cy=\"-18\" rx=\"27\" ry=\"18\"/>\n",
       "<text text-anchor=\"middle\" x=\"147\" y=\"-13.8\" font-family=\"Times,serif\" font-size=\"14.00\">3</text>\n",
       "</g>\n",
       "<!-- ~E_3&#45;&gt;3_2 -->\n",
       "<g id=\"edge2\" class=\"edge\"><title>~E_3&#45;&gt;3_2</title>\n",
       "<path fill=\"none\" stroke=\"black\" d=\"M119.35,-72.7646C123.712,-64.2831 129.147,-53.7144 134.041,-44.1974\"/>\n",
       "<polygon fill=\"black\" stroke=\"black\" points=\"137.235,-45.6409 138.696,-35.1473 131.01,-42.4395 137.235,-45.6409\"/>\n",
       "</g>\n",
       "<!-- ~_7 -->\n",
       "<g id=\"node10\" class=\"node\"><title>~_7</title>\n",
       "<ellipse fill=\"none\" stroke=\"black\" cx=\"237\" cy=\"-18\" rx=\"27\" ry=\"18\"/>\n",
       "<text text-anchor=\"middle\" x=\"237\" y=\"-13.8\" font-family=\"Times,serif\" font-size=\"14.00\">~</text>\n",
       "</g>\n",
       "<!-- ~E_6&#45;&gt;~_7 -->\n",
       "<g id=\"edge3\" class=\"edge\"><title>~E_6&#45;&gt;~_7</title>\n",
       "<path fill=\"none\" stroke=\"black\" d=\"M250.643,-72.055C248.609,-64.1446 246.139,-54.5398 243.863,-45.6879\"/>\n",
       "<polygon fill=\"black\" stroke=\"black\" points=\"247.197,-44.6023 241.317,-35.789 240.418,-46.3456 247.197,-44.6023\"/>\n",
       "</g>\n",
       "<!-- 4_5 -->\n",
       "<g id=\"node11\" class=\"node\"><title>4_5</title>\n",
       "<ellipse fill=\"none\" stroke=\"black\" cx=\"309\" cy=\"-18\" rx=\"27\" ry=\"18\"/>\n",
       "<text text-anchor=\"middle\" x=\"309\" y=\"-13.8\" font-family=\"Times,serif\" font-size=\"14.00\">4</text>\n",
       "</g>\n",
       "<!-- ~E_6&#45;&gt;4_5 -->\n",
       "<g id=\"edge4\" class=\"edge\"><title>~E_6&#45;&gt;4_5</title>\n",
       "<path fill=\"none\" stroke=\"black\" d=\"M266.984,-73.4647C273.976,-64.4021 282.936,-52.7865 290.785,-42.6119\"/>\n",
       "<polygon fill=\"black\" stroke=\"black\" points=\"293.712,-44.5475 297.049,-34.4918 288.17,-40.2719 293.712,-44.5475\"/>\n",
       "</g>\n",
       "</g>\n",
       "</svg>\n"
      ],
      "text/plain": [
       "<graphviz.dot.Digraph at 0x1027074e0>"
      ]
     },
     "execution_count": 5,
     "metadata": {},
     "output_type": "execute_result"
    }
   ],
   "source": [
    "drawPT(parseRE(\"2^~3^~4\"))"
   ]
  },
  {
   "cell_type": "code",
   "execution_count": 6,
   "metadata": {
    "run_control": {
     "frozen": false,
     "read_only": false
    }
   },
   "outputs": [
    {
     "data": {
      "text/plain": [
       "1.008594091576999"
      ]
     },
     "execution_count": 6,
     "metadata": {},
     "output_type": "execute_result"
    }
   ],
   "source": [
    "2**(-3)**(-4)"
   ]
  },
  {
   "cell_type": "code",
   "execution_count": 7,
   "metadata": {
    "run_control": {
     "frozen": false,
     "read_only": false
    }
   },
   "outputs": [
    {
     "data": {
      "text/plain": [
       "0.9914791374956781"
      ]
     },
     "execution_count": 7,
     "metadata": {},
     "output_type": "execute_result"
    }
   ],
   "source": [
    "2**(-3**-4)"
   ]
  },
  {
   "cell_type": "code",
   "execution_count": 8,
   "metadata": {
    "run_control": {
     "frozen": false,
     "read_only": false
    }
   },
   "outputs": [
    {
     "data": {
      "text/plain": [
       "0.9914791374956781"
      ]
     },
     "execution_count": 8,
     "metadata": {},
     "output_type": "execute_result"
    }
   ],
   "source": [
    "2**-3**-4"
   ]
  },
  {
   "cell_type": "code",
   "execution_count": 9,
   "metadata": {
    "run_control": {
     "frozen": false,
     "read_only": false
    }
   },
   "outputs": [
    {
     "name": "stdout",
     "output_type": "stream",
     "text": [
      "Result calculated =  0.012345679012345678\n",
      "Drawing AST for  ('**', (('~', ('NUMBER', '3')), ('~', ('NUMBER', '4'))))\n"
     ]
    },
    {
     "name": "stderr",
     "output_type": "stream",
     "text": [
      "Generating LALR tables\n"
     ]
    },
    {
     "data": {
      "image/svg+xml": [
       "<?xml version=\"1.0\" encoding=\"UTF-8\" standalone=\"no\"?>\n",
       "<!DOCTYPE svg PUBLIC \"-//W3C//DTD SVG 1.1//EN\"\n",
       " \"http://www.w3.org/Graphics/SVG/1.1/DTD/svg11.dtd\">\n",
       "<!-- Generated by graphviz version 2.38.0 (20140413.2041)\n",
       " -->\n",
       "<!-- Title: PT Pages: 1 -->\n",
       "<svg width=\"296pt\" height=\"188pt\"\n",
       " viewBox=\"0.00 0.00 296.00 188.00\" xmlns=\"http://www.w3.org/2000/svg\" xmlns:xlink=\"http://www.w3.org/1999/xlink\">\n",
       "<g id=\"graph0\" class=\"graph\" transform=\"scale(1 1) rotate(0) translate(4 184)\">\n",
       "<title>PT</title>\n",
       "<polygon fill=\"white\" stroke=\"none\" points=\"-4,4 -4,-184 292,-184 292,4 -4,4\"/>\n",
       "<!-- E1**E2_18 -->\n",
       "<g id=\"node1\" class=\"node\"><title>E1**E2_18</title>\n",
       "<ellipse fill=\"none\" stroke=\"black\" cx=\"135\" cy=\"-162\" rx=\"38.6955\" ry=\"18\"/>\n",
       "<text text-anchor=\"middle\" x=\"135\" y=\"-157.8\" font-family=\"Times,serif\" font-size=\"14.00\">E1**E2</text>\n",
       "</g>\n",
       "<!-- ~E_13 -->\n",
       "<g id=\"node2\" class=\"node\"><title>~E_13</title>\n",
       "<ellipse fill=\"none\" stroke=\"black\" cx=\"63\" cy=\"-90\" rx=\"27\" ry=\"18\"/>\n",
       "<text text-anchor=\"middle\" x=\"63\" y=\"-85.8\" font-family=\"Times,serif\" font-size=\"14.00\">~E</text>\n",
       "</g>\n",
       "<!-- E1**E2_18&#45;&gt;~E_13 -->\n",
       "<g id=\"edge5\" class=\"edge\"><title>E1**E2_18&#45;&gt;~E_13</title>\n",
       "<path fill=\"none\" stroke=\"black\" d=\"M119.021,-145.465C109.057,-135.778 96.0932,-123.174 85.1461,-112.531\"/>\n",
       "<polygon fill=\"black\" stroke=\"black\" points=\"87.561,-109.997 77.9512,-105.536 82.6814,-115.016 87.561,-109.997\"/>\n",
       "</g>\n",
       "<!-- **_19 -->\n",
       "<g id=\"node3\" class=\"node\"><title>**_19</title>\n",
       "<ellipse fill=\"none\" stroke=\"black\" cx=\"135\" cy=\"-90\" rx=\"27\" ry=\"18\"/>\n",
       "<text text-anchor=\"middle\" x=\"135\" y=\"-85.8\" font-family=\"Times,serif\" font-size=\"14.00\">**</text>\n",
       "</g>\n",
       "<!-- E1**E2_18&#45;&gt;**_19 -->\n",
       "<g id=\"edge6\" class=\"edge\"><title>E1**E2_18&#45;&gt;**_19</title>\n",
       "<path fill=\"none\" stroke=\"black\" d=\"M135,-143.697C135,-135.983 135,-126.712 135,-118.112\"/>\n",
       "<polygon fill=\"black\" stroke=\"black\" points=\"138.5,-118.104 135,-108.104 131.5,-118.104 138.5,-118.104\"/>\n",
       "</g>\n",
       "<!-- ~E_16 -->\n",
       "<g id=\"node4\" class=\"node\"><title>~E_16</title>\n",
       "<ellipse fill=\"none\" stroke=\"black\" cx=\"207\" cy=\"-90\" rx=\"27\" ry=\"18\"/>\n",
       "<text text-anchor=\"middle\" x=\"207\" y=\"-85.8\" font-family=\"Times,serif\" font-size=\"14.00\">~E</text>\n",
       "</g>\n",
       "<!-- E1**E2_18&#45;&gt;~E_16 -->\n",
       "<g id=\"edge7\" class=\"edge\"><title>E1**E2_18&#45;&gt;~E_16</title>\n",
       "<path fill=\"none\" stroke=\"black\" d=\"M150.979,-145.465C160.943,-135.778 173.907,-123.174 184.854,-112.531\"/>\n",
       "<polygon fill=\"black\" stroke=\"black\" points=\"187.319,-115.016 192.049,-105.536 182.439,-109.997 187.319,-115.016\"/>\n",
       "</g>\n",
       "<!-- ~_14 -->\n",
       "<g id=\"node5\" class=\"node\"><title>~_14</title>\n",
       "<ellipse fill=\"none\" stroke=\"black\" cx=\"27\" cy=\"-18\" rx=\"27\" ry=\"18\"/>\n",
       "<text text-anchor=\"middle\" x=\"27\" y=\"-13.8\" font-family=\"Times,serif\" font-size=\"14.00\">~</text>\n",
       "</g>\n",
       "<!-- ~E_13&#45;&gt;~_14 -->\n",
       "<g id=\"edge1\" class=\"edge\"><title>~E_13&#45;&gt;~_14</title>\n",
       "<path fill=\"none\" stroke=\"black\" d=\"M54.6504,-72.7646C50.2885,-64.2831 44.8531,-53.7144 39.9587,-44.1974\"/>\n",
       "<polygon fill=\"black\" stroke=\"black\" points=\"42.9904,-42.4395 35.3043,-35.1473 36.7654,-45.6409 42.9904,-42.4395\"/>\n",
       "</g>\n",
       "<!-- 3_12 -->\n",
       "<g id=\"node6\" class=\"node\"><title>3_12</title>\n",
       "<ellipse fill=\"none\" stroke=\"black\" cx=\"99\" cy=\"-18\" rx=\"27\" ry=\"18\"/>\n",
       "<text text-anchor=\"middle\" x=\"99\" y=\"-13.8\" font-family=\"Times,serif\" font-size=\"14.00\">3</text>\n",
       "</g>\n",
       "<!-- ~E_13&#45;&gt;3_12 -->\n",
       "<g id=\"edge2\" class=\"edge\"><title>~E_13&#45;&gt;3_12</title>\n",
       "<path fill=\"none\" stroke=\"black\" d=\"M71.3496,-72.7646C75.7115,-64.2831 81.1469,-53.7144 86.0413,-44.1974\"/>\n",
       "<polygon fill=\"black\" stroke=\"black\" points=\"89.2346,-45.6409 90.6957,-35.1473 83.0096,-42.4395 89.2346,-45.6409\"/>\n",
       "</g>\n",
       "<!-- ~_17 -->\n",
       "<g id=\"node7\" class=\"node\"><title>~_17</title>\n",
       "<ellipse fill=\"none\" stroke=\"black\" cx=\"189\" cy=\"-18\" rx=\"27\" ry=\"18\"/>\n",
       "<text text-anchor=\"middle\" x=\"189\" y=\"-13.8\" font-family=\"Times,serif\" font-size=\"14.00\">~</text>\n",
       "</g>\n",
       "<!-- ~E_16&#45;&gt;~_17 -->\n",
       "<g id=\"edge3\" class=\"edge\"><title>~E_16&#45;&gt;~_17</title>\n",
       "<path fill=\"none\" stroke=\"black\" d=\"M202.643,-72.055C200.609,-64.1446 198.139,-54.5398 195.863,-45.6879\"/>\n",
       "<polygon fill=\"black\" stroke=\"black\" points=\"199.197,-44.6023 193.317,-35.789 192.418,-46.3456 199.197,-44.6023\"/>\n",
       "</g>\n",
       "<!-- 4_15 -->\n",
       "<g id=\"node8\" class=\"node\"><title>4_15</title>\n",
       "<ellipse fill=\"none\" stroke=\"black\" cx=\"261\" cy=\"-18\" rx=\"27\" ry=\"18\"/>\n",
       "<text text-anchor=\"middle\" x=\"261\" y=\"-13.8\" font-family=\"Times,serif\" font-size=\"14.00\">4</text>\n",
       "</g>\n",
       "<!-- ~E_16&#45;&gt;4_15 -->\n",
       "<g id=\"edge4\" class=\"edge\"><title>~E_16&#45;&gt;4_15</title>\n",
       "<path fill=\"none\" stroke=\"black\" d=\"M218.984,-73.4647C225.976,-64.4021 234.936,-52.7865 242.785,-42.6119\"/>\n",
       "<polygon fill=\"black\" stroke=\"black\" points=\"245.712,-44.5475 249.049,-34.4918 240.17,-40.2719 245.712,-44.5475\"/>\n",
       "</g>\n",
       "</g>\n",
       "</svg>\n"
      ],
      "text/plain": [
       "<graphviz.dot.Digraph at 0x101534ac8>"
      ]
     },
     "execution_count": 9,
     "metadata": {},
     "output_type": "execute_result"
    }
   ],
   "source": [
    "drawPT(parseRE(\"~3^~4\"))"
   ]
  },
  {
   "cell_type": "code",
   "execution_count": null,
   "metadata": {
    "run_control": {
     "frozen": false,
     "read_only": false
    }
   },
   "outputs": [],
   "source": [
    "drawPT(parseRE(\"2^~3^~4\"))"
   ]
  },
  {
   "cell_type": "code",
   "execution_count": null,
   "metadata": {
    "run_control": {
     "frozen": false,
     "read_only": false
    }
   },
   "outputs": [],
   "source": [
    "-3**-4"
   ]
  },
  {
   "cell_type": "code",
   "execution_count": null,
   "metadata": {
    "run_control": {
     "frozen": false,
     "read_only": false
    }
   },
   "outputs": [],
   "source": [
    "-(3**-4)"
   ]
  },
  {
   "cell_type": "code",
   "execution_count": null,
   "metadata": {
    "run_control": {
     "frozen": false,
     "read_only": false
    }
   },
   "outputs": [],
   "source": [
    "(-3)**(-4)"
   ]
  },
  {
   "cell_type": "code",
   "execution_count": null,
   "metadata": {
    "run_control": {
     "frozen": false,
     "read_only": false
    }
   },
   "outputs": [],
   "source": [
    "drawPT(parseRE(\"3*3^3*3\"))"
   ]
  },
  {
   "cell_type": "code",
   "execution_count": null,
   "metadata": {
    "run_control": {
     "frozen": false,
     "read_only": false
    }
   },
   "outputs": [],
   "source": [
    "drawPT(parseRE(\"1\"))"
   ]
  },
  {
   "cell_type": "code",
   "execution_count": null,
   "metadata": {
    "run_control": {
     "frozen": false,
     "read_only": false
    }
   },
   "outputs": [],
   "source": [
    "drawPT(parseRE(\"1+2\"))"
   ]
  },
  {
   "cell_type": "code",
   "execution_count": null,
   "metadata": {
    "run_control": {
     "frozen": false,
     "read_only": false
    }
   },
   "outputs": [],
   "source": [
    "drawPT(parseRE(\"1+2*3\"))"
   ]
  },
  {
   "cell_type": "code",
   "execution_count": null,
   "metadata": {
    "run_control": {
     "frozen": false,
     "read_only": false
    }
   },
   "outputs": [],
   "source": [
    "drawPT(parseRE(\"1+~2\"))"
   ]
  },
  {
   "cell_type": "code",
   "execution_count": null,
   "metadata": {
    "run_control": {
     "frozen": false,
     "read_only": false
    }
   },
   "outputs": [],
   "source": [
    "drawPT(parseRE(\"1+~2*3/4\"))"
   ]
  },
  {
   "cell_type": "code",
   "execution_count": null,
   "metadata": {
    "run_control": {
     "frozen": false,
     "read_only": false
    }
   },
   "outputs": [],
   "source": [
    "# Check with Python!\n",
    "1+-2*3/4"
   ]
  },
  {
   "cell_type": "code",
   "execution_count": null,
   "metadata": {
    "run_control": {
     "frozen": false,
     "read_only": false
    }
   },
   "outputs": [],
   "source": [
    "# Correct as per\n",
    "# https://www.cs.utah.edu/~zachary/isp/worksheets/operprec/operprec.html\n",
    "drawPT(parseRE(\"2*3/4\"))"
   ]
  },
  {
   "cell_type": "code",
   "execution_count": null,
   "metadata": {
    "run_control": {
     "frozen": false,
     "read_only": false
    }
   },
   "outputs": [],
   "source": [
    "2*3/4"
   ]
  },
  {
   "cell_type": "code",
   "execution_count": null,
   "metadata": {
    "run_control": {
     "frozen": false,
     "read_only": false
    }
   },
   "outputs": [],
   "source": [
    "# Correct as per\n",
    "# https://www.cs.utah.edu/~zachary/isp/worksheets/operprec/operprec.html\n",
    "drawPT(parseRE(\"2/3*4\"))"
   ]
  },
  {
   "cell_type": "code",
   "execution_count": null,
   "metadata": {
    "run_control": {
     "frozen": false,
     "read_only": false
    }
   },
   "outputs": [],
   "source": [
    "2/3*4"
   ]
  },
  {
   "cell_type": "code",
   "execution_count": null,
   "metadata": {
    "run_control": {
     "frozen": false,
     "read_only": false
    }
   },
   "outputs": [],
   "source": [
    "# More tests from\n",
    "# https://www.cs.utah.edu/~zachary/isp/worksheets/operprec/operprec.html\n",
    "drawPT(parseRE(\"2/3/4\"))"
   ]
  },
  {
   "cell_type": "code",
   "execution_count": null,
   "metadata": {
    "run_control": {
     "frozen": false,
     "read_only": false
    }
   },
   "outputs": [],
   "source": [
    "2/3/4"
   ]
  },
  {
   "cell_type": "code",
   "execution_count": null,
   "metadata": {
    "run_control": {
     "frozen": false,
     "read_only": false
    }
   },
   "outputs": [],
   "source": [
    "# More tests from\n",
    "# https://www.cs.utah.edu/~zachary/isp/worksheets/operprec/operprec.html\n",
    "drawPT(parseRE(\"4/3*2/5\"))"
   ]
  },
  {
   "cell_type": "code",
   "execution_count": null,
   "metadata": {
    "run_control": {
     "frozen": false,
     "read_only": false
    }
   },
   "outputs": [],
   "source": [
    "4/3*2/5"
   ]
  },
  {
   "cell_type": "code",
   "execution_count": null,
   "metadata": {
    "run_control": {
     "frozen": false,
     "read_only": false
    }
   },
   "outputs": [],
   "source": [
    "# More tests from\n",
    "# https://www.cs.utah.edu/~zachary/isp/worksheets/operprec/operprec.html\n",
    "drawPT(parseRE(\"6*3/4*5\"))"
   ]
  },
  {
   "cell_type": "code",
   "execution_count": null,
   "metadata": {
    "run_control": {
     "frozen": false,
     "read_only": false
    }
   },
   "outputs": [],
   "source": [
    "6*3/4*5"
   ]
  },
  {
   "cell_type": "code",
   "execution_count": null,
   "metadata": {
    "run_control": {
     "frozen": false,
     "read_only": false
    }
   },
   "outputs": [],
   "source": [
    "drawPT(parseRE(\"6*3/4*~5/(2+3-4-5-6/7*~8)-~9\"))"
   ]
  },
  {
   "cell_type": "code",
   "execution_count": null,
   "metadata": {
    "run_control": {
     "frozen": false,
     "read_only": false
    }
   },
   "outputs": [],
   "source": [
    "# Check against Python!\n",
    "6*3/4*-5/(2+3-4-5-6/7*-8)--9"
   ]
  },
  {
   "cell_type": "code",
   "execution_count": null,
   "metadata": {
    "run_control": {
     "frozen": false,
     "read_only": false
    }
   },
   "outputs": [],
   "source": [
    "drawPT(parseRE(\"6*3^4*5\"))"
   ]
  },
  {
   "cell_type": "code",
   "execution_count": null,
   "metadata": {
    "run_control": {
     "frozen": false,
     "read_only": false
    }
   },
   "outputs": [],
   "source": [
    "6*3**4*5"
   ]
  },
  {
   "cell_type": "code",
   "execution_count": null,
   "metadata": {
    "run_control": {
     "frozen": false,
     "read_only": false
    }
   },
   "outputs": [],
   "source": []
  }
 ],
 "metadata": {
  "kernelspec": {
   "display_name": "Python 3",
   "language": "python",
   "name": "python3"
  },
  "language_info": {
   "codemirror_mode": {
    "name": "ipython",
    "version": 3
   },
   "file_extension": ".py",
   "mimetype": "text/x-python",
   "name": "python",
   "nbconvert_exporter": "python",
   "pygments_lexer": "ipython3",
   "version": "3.6.0"
  },
  "toc": {
   "colors": {
    "hover_highlight": "#DAA520",
    "running_highlight": "#FF0000",
    "selected_highlight": "#FFD700"
   },
   "moveMenuLeft": true,
   "nav_menu": {
    "height": "12px",
    "width": "252px"
   },
   "navigate_menu": true,
   "number_sections": true,
   "sideBar": true,
   "threshold": 4,
   "toc_cell": false,
   "toc_section_display": "block",
   "toc_window_display": false,
   "widenNotebook": false
  }
 },
 "nbformat": 4,
 "nbformat_minor": 2
}
