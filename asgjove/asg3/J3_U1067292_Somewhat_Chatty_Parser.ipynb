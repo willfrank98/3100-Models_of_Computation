{
 "cells": [
  {
   "cell_type": "markdown",
   "metadata": {
    "run_control": {
     "frozen": false,
     "read_only": false
    }
   },
   "source": [
    "# Asg-3\n",
    "\n",
    "\n",
    "* Make RE2NFA chatty\n",
    "\n",
    "  - ergo learn how compilers work\n",
    "  \n",
    "* Make md2mc chatty\n",
    "  \n",
    "  - ergo learn how compilers work\n",
    "  \n",
    "* I've made two files above somewhat chatty\n",
    "  \n",
    "  - Make them chattier + produce more info!\n",
    "  \n",
    "* Build your own calculator (appears in J3_Unid_Calculator.ipynb)\n",
    "\n",
    "  - further seal knowledge of lexers (RE based) and parsers (CFG based) in your minds\n",
    "  \n",
    "## YOUR TASKS\n",
    "\n",
    "Your tasks will be denoted by \"---> YOUR TASK n <---\" below"
   ]
  },
  {
   "cell_type": "code",
   "execution_count": 1,
   "metadata": {
    "run_control": {
     "frozen": false,
     "read_only": false
    }
   },
   "outputs": [
    {
     "name": "stdout",
     "output_type": "stream",
     "text": [
      "You may use any of these help commands:\n",
      "help(ResetStNum)\n",
      "help(NxtStateStr)\n",
      "\n",
      "You may use any of these help commands:\n",
      "help(md2mc)\n",
      ".. and if you want to dig more, then ..\n",
      "help(default_line_attr)\n",
      "help(length_ok_input_items)\n",
      "help(union_line_attr_list_fld)\n",
      "help(extend_rsltdict)\n",
      "help(form_delta)\n",
      "help(get_machine_components)\n",
      "\n",
      "You may use any of these help commands:\n",
      "help(mkp_dfa)\n",
      "help(mk_dfa)\n",
      "help(totalize_dfa)\n",
      "help(addtosigma_delta)\n",
      "help(step_dfa)\n",
      "help(run_dfa)\n",
      "help(accepts_dfa)\n",
      "help(comp_dfa)\n",
      "help(union_dfa)\n",
      "help(intersect_dfa)\n",
      "help(pruneUnreach)\n",
      "help(iso_dfa)\n",
      "help(langeq_dfa)\n",
      "help(same_status)\n",
      "help(h_langeq_dfa)\n",
      "help(fixptDist)\n",
      "help(min_dfa)\n",
      "help(pairFR)\n",
      "help(state_combos)\n",
      "help(sepFinNonFin)\n",
      "help(bash_eql_classes)\n",
      "help(listminus)\n",
      "help(bash_1)\n",
      "help(mk_rep_eqc)\n",
      "help(F_of)\n",
      "help(rep_of_s)\n",
      "help(q0_of)\n",
      "help(Delta_of)\n",
      "help(mk_state_eqc_name)\n",
      "\n",
      "You may use any of these help commands:\n",
      "help(mk_nfa)\n",
      "help(totalize_nfa)\n",
      "help(step_nfa)\n",
      "help(run_nfa)\n",
      "help(ec_step_nfa)\n",
      "help(Eclosure)\n",
      "help(Echelp)\n",
      "help(accepts_nfa)\n",
      "help(nfa2dfa)\n",
      "help(n2d)\n",
      "help(inSets)\n",
      "help(rev_dfa)\n",
      "help(min_dfa_brz)\n",
      "\n",
      "You may use any of these help commands:\n",
      "help(re2nfa)\n",
      "\n"
     ]
    }
   ],
   "source": [
    "from jove.DotBashers import *\n",
    "from jove.Def_md2mc_chatty import *     # Change this to the _chatty file\n",
    "from jove.Def_DFA   import *\n",
    "from jove.LangDef   import *\n",
    "from jove.Def_RE2NFA_chatty   import *  # Change this to the _chatty file\n",
    "from jove.Def_NFA   import *"
   ]
  },
  {
   "cell_type": "code",
   "execution_count": null,
   "metadata": {},
   "outputs": [],
   "source": []
  },
  {
   "cell_type": "markdown",
   "metadata": {
    "run_control": {
     "frozen": false,
     "read_only": false
    }
   },
   "source": [
    "# Make RE2NFA and md2mc chatty\n",
    "\n",
    "* Copy Def_RE2NFA.py into Def_RE2NFA_chatty.py and Def_md2mc.py into Def_md2mc_chatty.py\n",
    "\n",
    "* Edit the \"_chatty.py\" files to tell user when\n",
    "\n",
    "  - a token is being picked up\n",
    "  \n",
    "  - when a CFG rule is getting finished\n",
    "  \n",
    "* Examples are provided to the student\n",
    "\n",
    "  - THEIR TASK: Finish making these routines as chatty and informative as they can!\n",
    "  \n",
    "  - Their printout should not be a mess; rather:\n",
    "  \n",
    "     * It must include extra info regarding the token obtained\n",
    "     \n",
    "     * Then can increase the indentation level based on the level at which a rule is parsed (if possible)"
   ]
  },
  {
   "cell_type": "code",
   "execution_count": 2,
   "metadata": {
    "run_control": {
     "frozen": false,
     "read_only": false
    }
   },
   "outputs": [
    {
     "name": "stdout",
     "output_type": "stream",
     "text": [
      "Got a string token: a\n",
      "Got a star token, performing NFA star-ing\n",
      "Got epsilon token\n",
      "Got a star token, performing NFA star-ing\n",
      "Got a plus token, making one PLUS-connected NFA\n",
      "Got paren tokens\n",
      "Got a star token, performing NFA star-ing\n"
     ]
    },
    {
     "data": {
      "image/svg+xml": [
       "<?xml version=\"1.0\" encoding=\"UTF-8\" standalone=\"no\"?>\r\n",
       "<!DOCTYPE svg PUBLIC \"-//W3C//DTD SVG 1.1//EN\"\r\n",
       " \"http://www.w3.org/Graphics/SVG/1.1/DTD/svg11.dtd\">\r\n",
       "<!-- Generated by graphviz version 2.38.0 (20140413.2041)\r\n",
       " -->\r\n",
       "<!-- Title: %3 Pages: 1 -->\r\n",
       "<svg width=\"418pt\" height=\"180pt\"\r\n",
       " viewBox=\"0.00 0.00 417.98 180.50\" xmlns=\"http://www.w3.org/2000/svg\" xmlns:xlink=\"http://www.w3.org/1999/xlink\">\r\n",
       "<g id=\"graph0\" class=\"graph\" transform=\"scale(1 1) rotate(0) translate(4 176.496)\">\r\n",
       "<title>%3</title>\r\n",
       "<polygon fill=\"white\" stroke=\"none\" points=\"-4,4 -4,-176.496 413.984,-176.496 413.984,4 -4,4\"/>\r\n",
       "<!-- EMPTY -->\r\n",
       "<g id=\"node1\" class=\"node\"><title>EMPTY</title>\r\n",
       "</g>\r\n",
       "<!-- St6 -->\r\n",
       "<g id=\"node7\" class=\"node\"><title>St6</title>\r\n",
       "<ellipse fill=\"none\" stroke=\"black\" cx=\"117.748\" cy=\"-107.748\" rx=\"22.9609\" ry=\"22.9609\"/>\r\n",
       "<ellipse fill=\"none\" stroke=\"black\" cx=\"117.748\" cy=\"-107.748\" rx=\"26.9983\" ry=\"26.9983\"/>\r\n",
       "<text text-anchor=\"middle\" x=\"117.748\" y=\"-104.048\" font-family=\"Times New Roman,serif\" font-size=\"14.00\">St6</text>\r\n",
       "</g>\r\n",
       "<!-- EMPTY&#45;&gt;St6 -->\r\n",
       "<g id=\"edge1\" class=\"edge\"><title>EMPTY&#45;&gt;St6</title>\r\n",
       "<path fill=\"none\" stroke=\"black\" d=\"M54.1473,-107.748C62.4527,-107.748 71.7892,-107.748 80.6665,-107.748\"/>\r\n",
       "<polygon fill=\"black\" stroke=\"black\" points=\"80.7876,-111.248 90.7876,-107.748 80.7875,-104.248 80.7876,-111.248\"/>\r\n",
       "</g>\r\n",
       "<!-- St2 -->\r\n",
       "<g id=\"node2\" class=\"node\"><title>St2</title>\r\n",
       "<ellipse fill=\"none\" stroke=\"black\" cx=\"387.236\" cy=\"-59.748\" rx=\"22.9987\" ry=\"22.9987\"/>\r\n",
       "<text text-anchor=\"middle\" x=\"387.236\" y=\"-56.048\" font-family=\"Times New Roman,serif\" font-size=\"14.00\">St2</text>\r\n",
       "</g>\r\n",
       "<!-- St3 -->\r\n",
       "<g id=\"node5\" class=\"node\"><title>St3</title>\r\n",
       "<ellipse fill=\"none\" stroke=\"black\" cx=\"210.244\" cy=\"-72.748\" rx=\"22.9987\" ry=\"22.9987\"/>\r\n",
       "<text text-anchor=\"middle\" x=\"210.244\" y=\"-69.048\" font-family=\"Times New Roman,serif\" font-size=\"14.00\">St3</text>\r\n",
       "</g>\r\n",
       "<!-- St2&#45;&gt;St3 -->\r\n",
       "<g id=\"edge7\" class=\"edge\"><title>St2&#45;&gt;St3</title>\r\n",
       "<path fill=\"none\" stroke=\"black\" d=\"M364.428,-61.3681C333.956,-63.6318 278.433,-67.7566 243.264,-70.3692\"/>\r\n",
       "<polygon fill=\"black\" stroke=\"black\" points=\"242.766,-66.8965 233.053,-71.1278 243.285,-73.8772 242.766,-66.8965\"/>\r\n",
       "<text text-anchor=\"middle\" x=\"298.74\" y=\"-72.548\" font-family=\"Times New Roman,serif\" font-size=\"14.00\">&#39;&#39;</text>\r\n",
       "</g>\r\n",
       "<!-- St5 -->\r\n",
       "<g id=\"node3\" class=\"node\"><title>St5</title>\r\n",
       "<ellipse fill=\"none\" stroke=\"black\" cx=\"210.244\" cy=\"-141.748\" rx=\"22.9987\" ry=\"22.9987\"/>\r\n",
       "<text text-anchor=\"middle\" x=\"210.244\" y=\"-138.048\" font-family=\"Times New Roman,serif\" font-size=\"14.00\">St5</text>\r\n",
       "</g>\r\n",
       "<!-- St4 -->\r\n",
       "<g id=\"node4\" class=\"node\"><title>St4</title>\r\n",
       "<ellipse fill=\"none\" stroke=\"black\" cx=\"298.74\" cy=\"-149.748\" rx=\"22.9987\" ry=\"22.9987\"/>\r\n",
       "<text text-anchor=\"middle\" x=\"298.74\" y=\"-146.048\" font-family=\"Times New Roman,serif\" font-size=\"14.00\">St4</text>\r\n",
       "</g>\r\n",
       "<!-- St5&#45;&gt;St4 -->\r\n",
       "<g id=\"edge8\" class=\"edge\"><title>St5&#45;&gt;St4</title>\r\n",
       "<path fill=\"none\" stroke=\"black\" d=\"M233.071,-143.767C243.007,-144.686 254.962,-145.791 265.876,-146.801\"/>\r\n",
       "<polygon fill=\"black\" stroke=\"black\" points=\"265.64,-150.294 275.92,-147.73 266.285,-143.324 265.64,-150.294\"/>\r\n",
       "<text text-anchor=\"middle\" x=\"254.492\" y=\"-150.548\" font-family=\"Times New Roman,serif\" font-size=\"14.00\">&#39;&#39;</text>\r\n",
       "</g>\r\n",
       "<!-- St5&#45;&gt;St6 -->\r\n",
       "<g id=\"edge9\" class=\"edge\"><title>St5&#45;&gt;St6</title>\r\n",
       "<path fill=\"none\" stroke=\"black\" d=\"M189.221,-132.117C182.97,-129.263 176.005,-126.238 169.496,-123.748 164.319,-121.768 158.781,-119.837 153.336,-118.041\"/>\r\n",
       "<polygon fill=\"black\" stroke=\"black\" points=\"154.323,-114.682 143.732,-114.973 152.193,-121.35 154.323,-114.682\"/>\r\n",
       "<text text-anchor=\"middle\" x=\"165.996\" y=\"-127.548\" font-family=\"Times New Roman,serif\" font-size=\"14.00\">&#39;&#39;</text>\r\n",
       "</g>\r\n",
       "<!-- St4&#45;&gt;St5 -->\r\n",
       "<g id=\"edge10\" class=\"edge\"><title>St4&#45;&gt;St5</title>\r\n",
       "<path fill=\"none\" stroke=\"black\" d=\"M279.63,-136.594C273.131,-132.619 265.538,-128.774 257.992,-126.748 252.085,-125.162 245.818,-125.644 239.855,-127.158\"/>\r\n",
       "<polygon fill=\"black\" stroke=\"black\" points=\"238.526,-123.915 230.226,-130.499 240.821,-130.528 238.526,-123.915\"/>\r\n",
       "<text text-anchor=\"middle\" x=\"254.492\" y=\"-130.548\" font-family=\"Times New Roman,serif\" font-size=\"14.00\">&#39;&#39;</text>\r\n",
       "</g>\r\n",
       "<!-- St1 -->\r\n",
       "<g id=\"node6\" class=\"node\"><title>St1</title>\r\n",
       "<ellipse fill=\"none\" stroke=\"black\" cx=\"298.74\" cy=\"-22.748\" rx=\"22.9987\" ry=\"22.9987\"/>\r\n",
       "<text text-anchor=\"middle\" x=\"298.74\" y=\"-19.048\" font-family=\"Times New Roman,serif\" font-size=\"14.00\">St1</text>\r\n",
       "</g>\r\n",
       "<!-- St3&#45;&gt;St1 -->\r\n",
       "<g id=\"edge4\" class=\"edge\"><title>St3&#45;&gt;St1</title>\r\n",
       "<path fill=\"none\" stroke=\"black\" d=\"M230.44,-61.6514C241.974,-54.9838 256.855,-46.3817 269.69,-38.9624\"/>\r\n",
       "<polygon fill=\"black\" stroke=\"black\" points=\"271.691,-41.8484 278.597,-33.8136 268.188,-35.7881 271.691,-41.8484\"/>\r\n",
       "<text text-anchor=\"middle\" x=\"254.492\" y=\"-53.548\" font-family=\"Times New Roman,serif\" font-size=\"14.00\">&#39;&#39;</text>\r\n",
       "</g>\r\n",
       "<!-- St3&#45;&gt;St6 -->\r\n",
       "<g id=\"edge5\" class=\"edge\"><title>St3&#45;&gt;St6</title>\r\n",
       "<path fill=\"none\" stroke=\"black\" d=\"M187.752,-67.7C179.62,-66.7275 170.419,-66.7875 162.496,-69.748 155.784,-72.2559 149.421,-76.3093 143.732,-80.8544\"/>\r\n",
       "<polygon fill=\"black\" stroke=\"black\" points=\"141.105,-78.5045 135.917,-87.7423 145.733,-83.7559 141.105,-78.5045\"/>\r\n",
       "<text text-anchor=\"middle\" x=\"165.996\" y=\"-73.548\" font-family=\"Times New Roman,serif\" font-size=\"14.00\">&#39;&#39;</text>\r\n",
       "</g>\r\n",
       "<!-- St1&#45;&gt;St2 -->\r\n",
       "<g id=\"edge6\" class=\"edge\"><title>St1&#45;&gt;St2</title>\r\n",
       "<path fill=\"none\" stroke=\"black\" d=\"M320.238,-31.5165C331.118,-36.1704 344.683,-41.9731 356.68,-47.1051\"/>\r\n",
       "<polygon fill=\"black\" stroke=\"black\" points=\"355.314,-50.3274 365.885,-51.0424 358.067,-43.8915 355.314,-50.3274\"/>\r\n",
       "<text text-anchor=\"middle\" x=\"342.988\" y=\"-46.548\" font-family=\"Times New Roman,serif\" font-size=\"14.00\">a</text>\r\n",
       "</g>\r\n",
       "<!-- St6&#45;&gt;St5 -->\r\n",
       "<g id=\"edge2\" class=\"edge\"><title>St6&#45;&gt;St5</title>\r\n",
       "<path fill=\"none\" stroke=\"black\" d=\"M137.031,-126.941C144.287,-133.24 153.134,-139.464 162.496,-142.748 167.135,-144.375 172.196,-145.177 177.218,-145.452\"/>\r\n",
       "<polygon fill=\"black\" stroke=\"black\" points=\"177.356,-148.951 187.329,-145.374 177.302,-141.951 177.356,-148.951\"/>\r\n",
       "<text text-anchor=\"middle\" x=\"165.996\" y=\"-148.548\" font-family=\"Times New Roman,serif\" font-size=\"14.00\">&#39;&#39;</text>\r\n",
       "</g>\r\n",
       "<!-- St6&#45;&gt;St3 -->\r\n",
       "<g id=\"edge3\" class=\"edge\"><title>St6&#45;&gt;St3</title>\r\n",
       "<path fill=\"none\" stroke=\"black\" d=\"M142.999,-98.3686C154.125,-94.0657 167.426,-88.9212 179.181,-84.3749\"/>\r\n",
       "<polygon fill=\"black\" stroke=\"black\" points=\"180.546,-87.6 188.61,-80.7283 178.021,-81.0712 180.546,-87.6\"/>\r\n",
       "<text text-anchor=\"middle\" x=\"165.996\" y=\"-94.548\" font-family=\"Times New Roman,serif\" font-size=\"14.00\">&#39;&#39;</text>\r\n",
       "</g>\r\n",
       "</g>\r\n",
       "</svg>\r\n"
      ],
      "text/plain": [
       "<graphviz.dot.Digraph at 0x248ba428080>"
      ]
     },
     "execution_count": 2,
     "metadata": {},
     "output_type": "execute_result"
    }
   ],
   "source": [
    "dotObj_nfa(re2nfa(\"(a*+''*)*\"))"
   ]
  },
  {
   "cell_type": "markdown",
   "metadata": {
    "run_control": {
     "frozen": false,
     "read_only": false
    }
   },
   "source": [
    "## This is the main design the students will work on!!\n",
    "\n",
    " ---> YOUR TASK 1 is below <---"
   ]
  },
  {
   "cell_type": "code",
   "execution_count": 3,
   "metadata": {
    "run_control": {
     "frozen": false,
     "read_only": false
    }
   },
   "outputs": [
    {
     "name": "stdout",
     "output_type": "stream",
     "text": [
      "Got one label of a DFA, which is an ID, that being 0\n",
      "Parsed one line of Jove MD code. FromState: ['I'] , ToStates: ['S_0']\n",
      "Got one label of a DFA, which is an ID, that being 0\n",
      "Parsed one line of Jove MD code. FromState: ['FMNE_1'] , ToStates: ['FMNE_0']\n",
      "Parsed DFA keyword\n",
      "Getting machine components for:  DFA\n",
      "forming delta for:  DFA\n"
     ]
    },
    {
     "name": "stderr",
     "output_type": "stream",
     "text": [
      "Generating LALR tables\n"
     ]
    }
   ],
   "source": [
    "Db01XORe01 = md2mc('''\n",
    "!! \n",
    "!!- The overall algorithm is to case-analyze on whether we began with a 01 or not.\n",
    "!!- Please see the state names assigned. Once you understand how the state names were designed,\n",
    "!!- the transitions should make sense.  \n",
    "!!\n",
    "DFA                     !! This DFA chooses meaningful state names and records the last bit seen\n",
    " \n",
    "I    :   0   -> S_0     !! No acceptance upon seeing a 0; record in state name S0\n",
    " \n",
    "FMNE_1 : 0 -> FMNE_0\n",
    "''')"
   ]
  },
  {
   "cell_type": "code",
   "execution_count": 4,
   "metadata": {
    "run_control": {
     "frozen": false,
     "read_only": false
    }
   },
   "outputs": [
    {
     "name": "stdout",
     "output_type": "stream",
     "text": [
      "Got one label of a DFA, which is an ID, that being \n",
      "Got one label of a DFA, which is an ID, that being #\n",
      "Got one label of a DFA, which is an ID, that being E#\n",
      "Parsed one line of Jove MD code. FromState: ['I'] , ToStates: ['M']\n",
      "Got one label of a DFA, which is an ID, that being \n",
      "Got one label of a DFA, which is an ID, that being E\n",
      "Got one label of a DFA, which is an ID, that being E+T\n",
      "Parsed one line of Jove MD code. FromState: ['M'] , ToStates: ['M']\n",
      "Got one label of a DFA, which is an ID, that being \n",
      "Got one label of a DFA, which is an ID, that being E\n",
      "Got one label of a DFA, which is an ID, that being T\n",
      "Parsed one line of Jove MD code. FromState: ['M'] , ToStates: ['M']\n",
      "Got one label of a DFA, which is an ID, that being \n",
      "Got one label of a DFA, which is an ID, that being T\n",
      "Got one label of a DFA, which is an ID, that being T*F\n",
      "Parsed one line of Jove MD code. FromState: ['M'] , ToStates: ['M']\n",
      "Got one label of a DFA, which is an ID, that being \n",
      "Got one label of a DFA, which is an ID, that being T\n",
      "Got one label of a DFA, which is an ID, that being F\n",
      "Parsed one line of Jove MD code. FromState: ['M'] , ToStates: ['M']\n",
      "Got one label of a DFA, which is an ID, that being \n",
      "Got one label of a DFA, which is an ID, that being F\n",
      "Got one label of a DFA, which is an ID, that being 2\n",
      "Parsed one line of Jove MD code. FromState: ['M'] , ToStates: ['M']\n",
      "Got one label of a DFA, which is an ID, that being \n",
      "Got one label of a DFA, which is an ID, that being F\n",
      "Got one label of a DFA, which is an ID, that being 3\n",
      "Parsed one line of Jove MD code. FromState: ['M'] , ToStates: ['M']\n",
      "Got one label of a DFA, which is an ID, that being \n",
      "Got one label of a DFA, which is an ID, that being F\n",
      "Got one label of a DFA, which is an ID, that being ~F\n",
      "Parsed one line of Jove MD code. FromState: ['M'] , ToStates: ['M']\n",
      "Got one label of a DFA, which is an ID, that being \n",
      "Got one label of a DFA, which is an ID, that being F\n",
      "Got one label of a DFA, which is an ID, that being (E)\n",
      "Parsed one line of Jove MD code. FromState: ['M'] , ToStates: ['M']\n",
      "Got one label of a DFA, which is an ID, that being ~\n",
      "Got one label of a DFA, which is an ID, that being ~\n",
      "Got one label of a DFA, which is an ID, that being \n",
      "Parsed one line of Jove MD code. FromState: ['M'] , ToStates: ['M']\n",
      "Got one label of a DFA, which is an ID, that being 2\n",
      "Got one label of a DFA, which is an ID, that being 2\n",
      "Got one label of a DFA, which is an ID, that being \n",
      "Parsed one line of Jove MD code. FromState: ['M'] , ToStates: ['M']\n",
      "Got one label of a DFA, which is an ID, that being 3\n",
      "Got one label of a DFA, which is an ID, that being 3\n",
      "Got one label of a DFA, which is an ID, that being \n",
      "Parsed one line of Jove MD code. FromState: ['M'] , ToStates: ['M']\n",
      "Got one label of a DFA, which is an ID, that being (\n",
      "Got one label of a DFA, which is an ID, that being (\n",
      "Got one label of a DFA, which is an ID, that being \n",
      "Parsed one line of Jove MD code. FromState: ['M'] , ToStates: ['M']\n",
      "Got one label of a DFA, which is an ID, that being )\n",
      "Got one label of a DFA, which is an ID, that being )\n",
      "Got one label of a DFA, which is an ID, that being \n",
      "Parsed one line of Jove MD code. FromState: ['M'] , ToStates: ['M']\n",
      "Got one label of a DFA, which is an ID, that being +\n",
      "Got one label of a DFA, which is an ID, that being +\n",
      "Got one label of a DFA, which is an ID, that being \n",
      "Parsed one line of Jove MD code. FromState: ['M'] , ToStates: ['M']\n",
      "Got one label of a DFA, which is an ID, that being *\n",
      "Got one label of a DFA, which is an ID, that being *\n",
      "Got one label of a DFA, which is an ID, that being \n",
      "Parsed one line of Jove MD code. FromState: ['M'] , ToStates: ['M']\n",
      "Got one label of a DFA, which is an ID, that being \n",
      "Got one label of a DFA, which is an ID, that being #\n",
      "Got one label of a DFA, which is an ID, that being #\n",
      "Parsed one line of Jove MD code. FromState: ['M'] , ToStates: ['F']\n",
      "Parsed PDA keyword\n",
      "Getting machine components for:  PDA\n",
      "forming delta for:  PDA\n"
     ]
    },
    {
     "name": "stderr",
     "output_type": "stream",
     "text": [
      "Generating LALR tables\n"
     ]
    }
   ],
   "source": [
    "pdaE = md2mc('''\n",
    "PDA\n",
    "!!E -> E+T | T\n",
    "!!T -> T*F | F\n",
    "!!F -> 2 | 3 | ~F | (E)\n",
    "I : '', # ; E# -> M\n",
    "M : '', E ; E+T -> M\n",
    "M : '', E ; T -> M\n",
    "M : '', T ; T*F -> M\n",
    "M : '', T ; F -> M\n",
    "M : '', F ; 2 -> M\n",
    "M : '', F ; 3 -> M\n",
    "M : '', F ; ~F -> M\n",
    "M : '', F ; (E) -> M\n",
    "M : ~, ~ ; '' -> M\n",
    "M : 2, 2 ; '' -> M\n",
    "M : 3, 3 ; '' -> M\n",
    "M : (, ( ; '' -> M\n",
    "M : ), ) ; '' -> M\n",
    "M : +, + ; '' -> M\n",
    "M : *, * ; '' -> M\n",
    "M : '', # ; # -> F\n",
    "''')"
   ]
  },
  {
   "cell_type": "code",
   "execution_count": null,
   "metadata": {},
   "outputs": [],
   "source": []
  },
  {
   "cell_type": "code",
   "execution_count": null,
   "metadata": {},
   "outputs": [],
   "source": []
  },
  {
   "cell_type": "code",
   "execution_count": null,
   "metadata": {},
   "outputs": [],
   "source": []
  },
  {
   "cell_type": "code",
   "execution_count": null,
   "metadata": {},
   "outputs": [],
   "source": []
  }
 ],
 "metadata": {
  "kernelspec": {
   "display_name": "Python 3",
   "language": "python",
   "name": "python3"
  },
  "language_info": {
   "codemirror_mode": {
    "name": "ipython",
    "version": 3
   },
   "file_extension": ".py",
   "mimetype": "text/x-python",
   "name": "python",
   "nbconvert_exporter": "python",
   "pygments_lexer": "ipython3",
   "version": "3.6.5"
  },
  "toc": {
   "colors": {
    "hover_highlight": "#DAA520",
    "running_highlight": "#FF0000",
    "selected_highlight": "#FFD700"
   },
   "moveMenuLeft": true,
   "nav_menu": {
    "height": "318px",
    "width": "252px"
   },
   "navigate_menu": true,
   "number_sections": true,
   "sideBar": true,
   "threshold": 4,
   "toc_cell": false,
   "toc_section_display": "block",
   "toc_window_display": false,
   "widenNotebook": false
  }
 },
 "nbformat": 4,
 "nbformat_minor": 2
}
