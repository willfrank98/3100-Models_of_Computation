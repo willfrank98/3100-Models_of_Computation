{
 "cells": [
  {
   "cell_type": "markdown",
   "metadata": {
    "run_control": {
     "frozen": false,
     "read_only": false
    }
   },
   "source": [
    "# Asg-2\n",
    "\n",
    "\n",
    "You'll see the tasks enclosed as follows.\n",
    "\n",
    "---> Question... <---\n",
    "\n",
    "...task ...\n",
    " \n",
    "---> End... <---"
   ]
  },
  {
   "cell_type": "code",
   "execution_count": null,
   "metadata": {
    "run_control": {
     "frozen": false,
     "read_only": false
    }
   },
   "outputs": [],
   "source": [
    "from jove.DotBashers import *\n",
    "from jove.Def_md2mc import *\n",
    "from jove.Def_DFA   import *\n",
    "from jove.LangDef   import *\n",
    "from jove.Def_RE2NFA   import *\n",
    "from jove.Def_NFA   import *\n",
    "from jove.Def_NFA2RE    import *"
   ]
  },
  {
   "cell_type": "code",
   "execution_count": null,
   "metadata": {
    "run_control": {
     "frozen": false,
     "read_only": false
    }
   },
   "outputs": [],
   "source": [
    "Tz_bloated = md2mc('''DFA\n",
    "IF : 0 -> A\n",
    "A : 0 -> B1\n",
    "B : 0 -> IF\n",
    "IF: 1 -> IF\n",
    "A : 1 -> A1\n",
    "B : 1 -> B1\n",
    "A1: 0 -> B\n",
    "A1 : 1 -> A\n",
    "B1 : 0 -> IF\n",
    "B1 : 1 -> B\n",
    "''')\n",
    "dotObj_dfa(Tz_bloated)"
   ]
  },
  {
   "cell_type": "markdown",
   "metadata": {
    "run_control": {
     "frozen": false,
     "read_only": false
    }
   },
   "source": [
    "--> Solve Q3 (b) below <--\n"
   ]
  },
  {
   "cell_type": "markdown",
   "metadata": {
    "run_control": {
     "frozen": false,
     "read_only": false
    }
   },
   "source": [
    "Write about four bulleted sentences, clearly explaining how your hand-minimization in 3(a) matches with the automated solution here\n",
    "\n",
    "* b1\n",
    "* b2\n",
    "* b3 \n",
    "* b4\n",
    "\n",
    "--> End  <--"
   ]
  },
  {
   "cell_type": "markdown",
   "metadata": {
    "run_control": {
     "frozen": false,
     "read_only": false
    }
   },
   "source": [
    "--> Do the Jove part of Question 3(c) here <--\n",
    "\n",
    "The hand-solution for 3(c) is to be entered into the PDF submission."
   ]
  },
  {
   "cell_type": "code",
   "execution_count": null,
   "metadata": {},
   "outputs": [],
   "source": [
    "Gbloat = mk_gnfa_from_D(Tz_bloated)"
   ]
  },
  {
   "cell_type": "code",
   "execution_count": null,
   "metadata": {},
   "outputs": [],
   "source": [
    "(Gfinal, DO, RE) = del_gnfa_states(Gbloat, ...list states deleted...)"
   ]
  },
  {
   "cell_type": "code",
   "execution_count": null,
   "metadata": {
    "run_control": {
     "frozen": false,
     "read_only": false
    }
   },
   "outputs": [],
   "source": [
    "DO[1]"
   ]
  },
  {
   "cell_type": "code",
   "execution_count": null,
   "metadata": {
    "run_control": {
     "frozen": false,
     "read_only": false
    }
   },
   "outputs": [],
   "source": [
    "DO[1].render('fig6')"
   ]
  },
  {
   "cell_type": "markdown",
   "metadata": {},
   "source": [
    "...more such commands..."
   ]
  },
  {
   "cell_type": "code",
   "execution_count": null,
   "metadata": {
    "run_control": {
     "frozen": false,
     "read_only": false
    }
   },
   "outputs": [],
   "source": [
    "RE"
   ]
  },
  {
   "cell_type": "markdown",
   "metadata": {
    "run_control": {
     "frozen": false,
     "read_only": false
    }
   },
   "source": [
    "Write about four bullets comparing the hand-elimination of\n",
    "states (and the resulting REs) and what differences you\n",
    "may notice in the Jove-obtained NFA to RE results\n",
    "\n",
    "* b1\n",
    "* b2\n",
    "* b3\n",
    "* b4\n",
    "\n",
    "--> End <--\n",
    "\n",
    "I may have checked for more stages of conversion. The student is required to submit two steps of elimination.\n"
   ]
  },
  {
   "cell_type": "markdown",
   "metadata": {
    "run_control": {
     "frozen": false,
     "read_only": false
    }
   },
   "source": [
    "--> Question 3(d)'s work below <--"
   ]
  },
  {
   "cell_type": "code",
   "execution_count": null,
   "metadata": {
    "run_control": {
     "frozen": false,
     "read_only": false
    }
   },
   "outputs": [],
   "source": [
    "RE"
   ]
  },
  {
   "cell_type": "code",
   "execution_count": null,
   "metadata": {
    "run_control": {
     "frozen": false,
     "read_only": false
    }
   },
   "outputs": [],
   "source": [
    "# In this code cell\n",
    "# ...produce a minimized DFA in one line of Jove command, from RE..."
   ]
  },
  {
   "cell_type": "markdown",
   "metadata": {
    "run_control": {
     "frozen": false,
     "read_only": false
    }
   },
   "source": [
    "Write down four bullets commenting on how this minimized DFA compares with the minimal DFAs obtained earlier.\n",
    "\n",
    "* b1\n",
    "* b2\n",
    "* b3\n",
    "* b4\n",
    "\n",
    "--> End <--"
   ]
  },
  {
   "cell_type": "markdown",
   "metadata": {
    "run_control": {
     "frozen": false,
     "read_only": false
    }
   },
   "source": [
    " --> Solution for 4(a) <--"
   ]
  },
  {
   "cell_type": "markdown",
   "metadata": {
    "run_control": {
     "frozen": false,
     "read_only": false
    }
   },
   "source": [
    "Construct the requested DFA, obtaining its diagram. \n",
    "\n",
    "Write four bullets documenting this DFA\n",
    "\n",
    "* b1\n",
    "* b2\n",
    "* b3\n",
    "* b4\n",
    "\n",
    "--> End <---\n"
   ]
  },
  {
   "cell_type": "markdown",
   "metadata": {
    "run_control": {
     "frozen": false,
     "read_only": false
    }
   },
   "source": [
    "--> Solution for 4(b) <--"
   ]
  },
  {
   "cell_type": "markdown",
   "metadata": {
    "run_control": {
     "frozen": false,
     "read_only": false
    }
   },
   "source": [
    "Construct the requested DFA, obtaining its diagram. \n",
    "\n",
    "Write four bullets documenting this DFA\n",
    "\n",
    "* b1\n",
    "* b2\n",
    "* b3\n",
    "* b4\n",
    "\n",
    "--> End <---\n"
   ]
  },
  {
   "cell_type": "markdown",
   "metadata": {
    "run_control": {
     "frozen": false,
     "read_only": false
    }
   },
   "source": [
    "--> Solution for 4(c) <--"
   ]
  },
  {
   "cell_type": "markdown",
   "metadata": {
    "run_control": {
     "frozen": false,
     "read_only": false
    }
   },
   "source": [
    "Show the isomorphism; write comments on your work below in the bullets.\n",
    "\n",
    "* b1\n",
    "* b2\n",
    "* b3\n",
    "* b4\n",
    "\n",
    "--> End <---\n"
   ]
  },
  {
   "cell_type": "code",
   "execution_count": null,
   "metadata": {
    "run_control": {
     "frozen": false,
     "read_only": false
    }
   },
   "outputs": [],
   "source": [
    "N5 = md2mc('''NFA\n",
    "I : 0|1 -> I\n",
    "I : ''  -> B,C\n",
    "B : 0   -> D\n",
    "D : 0|1 -> F\n",
    "D : ''  -> C\n",
    "C : 1   -> F\n",
    "''')"
   ]
  },
  {
   "cell_type": "code",
   "execution_count": null,
   "metadata": {
    "run_control": {
     "frozen": false,
     "read_only": false
    }
   },
   "outputs": [],
   "source": [
    "dotObj_nfa(N5, FuseEdges=True)"
   ]
  },
  {
   "cell_type": "code",
   "execution_count": null,
   "metadata": {
    "run_control": {
     "frozen": false,
     "read_only": false
    }
   },
   "outputs": [],
   "source": [
    "JD5 = # ...Jove command to obtain the minimized DFA from N5...\n",
    "JD5"
   ]
  },
  {
   "cell_type": "markdown",
   "metadata": {
    "run_control": {
     "frozen": false,
     "read_only": false
    }
   },
   "source": [
    "--> 5(b)<--\n",
    "Write a sentence expressing whether this JD5 machine agreed with your HD5 machine.\n",
    "--> end <--"
   ]
  }
 ],
 "metadata": {
  "kernelspec": {
   "display_name": "Python 3",
   "language": "python",
   "name": "python3"
  },
  "language_info": {
   "codemirror_mode": {
    "name": "ipython",
    "version": 3
   },
   "file_extension": ".py",
   "mimetype": "text/x-python",
   "name": "python",
   "nbconvert_exporter": "python",
   "pygments_lexer": "ipython3",
   "version": "3.6.0"
  },
  "toc": {
   "colors": {
    "hover_highlight": "#DAA520",
    "running_highlight": "#FF0000",
    "selected_highlight": "#FFD700"
   },
   "moveMenuLeft": true,
   "nav_menu": {
    "height": "318px",
    "width": "252px"
   },
   "navigate_menu": true,
   "number_sections": true,
   "sideBar": true,
   "threshold": 4,
   "toc_cell": false,
   "toc_section_display": "block",
   "toc_window_display": false,
   "widenNotebook": false
  }
 },
 "nbformat": 4,
 "nbformat_minor": 1
}
