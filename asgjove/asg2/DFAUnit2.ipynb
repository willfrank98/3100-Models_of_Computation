{
 "cells": [
  {
   "cell_type": "code",
   "execution_count": 1,
   "metadata": {
    "run_control": {
     "frozen": false,
     "read_only": false
    }
   },
   "outputs": [
    {
     "data": {
      "image/jpeg": "[encoded data removed]",
      "text/html": [
       "\n",
       "        <iframe\n",
       "            width=\"400\"\n",
       "            height=\"300\"\n",
       "            src=\"https://www.youtube.com/embed/dGcLHtYLgDU\"\n",
       "            frameborder=\"0\"\n",
       "            allowfullscreen\n",
       "        ></iframe>\n",
       "        "
      ],
      "text/plain": [
       "<IPython.lib.display.YouTubeVideo at 0x10e358630>"
      ]
     },
     "execution_count": 1,
     "metadata": {},
     "output_type": "execute_result"
    }
   ],
   "source": [
    "# This Youtube video walks through this notebook\n",
    "from IPython.display import YouTubeVideo\n",
    "YouTubeVideo('dGcLHtYLgDU')"
   ]
  },
  {
   "cell_type": "code",
   "execution_count": null,
   "metadata": {
    "run_control": {
     "frozen": false,
     "read_only": false
    }
   },
   "outputs": [],
   "source": [
    "from jove.DotBashers import *\n",
    "from jove.Def_md2mc import *\n",
    "from jove.Def_DFA   import *"
   ]
  },
  {
   "cell_type": "markdown",
   "metadata": {
    "run_control": {
     "frozen": false,
     "read_only": false
    }
   },
   "source": [
    "# Basic DFA Creation, Alphabet Expansion, Totalization"
   ]
  },
  {
   "cell_type": "markdown",
   "metadata": {
    "run_control": {
     "frozen": false,
     "read_only": false
    }
   },
   "source": [
    "<span style=\"color:blue\"> **We can now write routines to print DFA using dot. The main routines are listed below.** </span>\n",
    "\n",
    "* dot_dfa_w_bh : lists all states of a DFA including black-hole states\n",
    "* dot_dfa      : lists all isNotBH states (see below for a defn), i.e. suppress black-holes\n",
    "     - Usually there are too many transitions to them and that clutters the view\n",
    "     "
   ]
  },
  {
   "cell_type": "code",
   "execution_count": null,
   "metadata": {
    "run_control": {
     "frozen": false,
     "read_only": false
    }
   },
   "outputs": [],
   "source": [
    "# Essential part of a DFA for even # of 0s\n",
    "\n",
    "ev0 = md2mc('''\n",
    "DFA\n",
    "IF : 0 -> A\n",
    "A  : 0 -> IF\n",
    "''')\n",
    "\n",
    "dotObj_dfa(ev0)"
   ]
  },
  {
   "cell_type": "code",
   "execution_count": null,
   "metadata": {
    "run_control": {
     "frozen": false,
     "read_only": false
    }
   },
   "outputs": [],
   "source": [
    "# Expand the Sigma of this DFA by adding '1' to it\n",
    "\n",
    "ev0_bh =  addtosigma_dfa(ev0, set({'1'}))\n",
    "\n",
    "dotObj_dfa(ev0_bh)"
   ]
  },
  {
   "cell_type": "code",
   "execution_count": null,
   "metadata": {
    "run_control": {
     "frozen": false,
     "read_only": false
    }
   },
   "outputs": [],
   "source": [
    "# Totalize this DFA so that the '1' moves land in a \"black hole\" state\n",
    "ev0_bh_totalize = totalize_dfa(ev0_bh)\n",
    "\n",
    "# But, viewing using dotObj_dfa still suppresses black-hole moves (reduces clutter)\n",
    "dotObj_dfa(ev0_bh_totalize)"
   ]
  },
  {
   "cell_type": "code",
   "execution_count": null,
   "metadata": {
    "run_control": {
     "frozen": false,
     "read_only": false
    }
   },
   "outputs": [],
   "source": [
    "# If you want to see all moves, display using dotObj_dfa_w_bh\n",
    "\n",
    "dotObj_dfa_w_bh(ev0_bh_totalize)"
   ]
  },
  {
   "cell_type": "code",
   "execution_count": null,
   "metadata": {
    "run_control": {
     "frozen": false,
     "read_only": false
    }
   },
   "outputs": [],
   "source": [
    "# For an even prettier depiction, set FuseEdges True so that multiple edges between the same states are fused\n",
    "\n",
    "dotObj_dfa_w_bh(ev0_bh_totalize, FuseEdges=True)"
   ]
  },
  {
   "cell_type": "markdown",
   "metadata": {
    "run_control": {
     "frozen": false,
     "read_only": false
    }
   },
   "source": [
    "# Basic DFA Tests Illustrated\n",
    "\n",
    "We now illustrate some basic testing of consistency, language acceptance, etc"
   ]
  },
  {
   "cell_type": "code",
   "execution_count": null,
   "metadata": {
    "run_control": {
     "frozen": false,
     "read_only": false
    }
   },
   "outputs": [],
   "source": [
    "# This is the DFA which accepts sequences of three 0's \n",
    "# (hence the name DFA_Tz -- for \"three zeros\")\n",
    "# Arrival of 1's cause the machine to \"idle\" in the same state\n",
    "#\n",
    "# This corresponds to Figure 4.6 in the book\n",
    "\n",
    "DFA_Tz = md2mc('''DFA\n",
    "IF : 0 -> A\n",
    "A  : 0 -> B\n",
    "B  : 0 -> IF\n",
    "IF : 1 -> IF\n",
    "A  : 1 -> A\n",
    "B  : 1 -> B''')\n",
    "\n",
    "\n",
    "dotObj_dfa(DFA_Tz)"
   ]
  },
  {
   "cell_type": "code",
   "execution_count": null,
   "metadata": {
    "code_folding": [],
    "run_control": {
     "frozen": false,
     "read_only": false
    }
   },
   "outputs": [],
   "source": [
    "# Some tests pertaining to totalize_dfa, is_consistent_dfa, etc\n",
    "def tests_dfa_consist():\n",
    "    \"\"\"Some tests wrt DFA routines.\n",
    "    \"\"\"\n",
    "    DFA_Tz_Q     = DFA_Tz[\"Q\"]\n",
    "    DFA_Tz_Sigma = DFA_Tz[\"Sigma\"]\n",
    "    randQ        = random.choice(list(DFA_Tz_Q))\n",
    "    randSym      = random.choice(list(DFA_Tz_Sigma))\n",
    "\n",
    "    DFA_Tz_deepcopy = copy.deepcopy(DFA_Tz)\n",
    "\n",
    "    print('is_consistent_dfa(DFA_Tz) =', \n",
    "           is_consistent_dfa(DFA_Tz) )\n",
    "    print('Removing mapping for ' + \n",
    "          \"(\" + randQ + \",\" + randSym + \")\" + \n",
    "          \"from DFA_Tz_deepcopy\")\n",
    "    DFA_Tz_deepcopy[\"Delta\"].pop((randQ,randSym))\n",
    "    print('is_consistent_dfa(DFA_Tz_deepcopy) =', \n",
    "         is_consistent_dfa(DFA_Tz_deepcopy) )\n",
    "\n",
    "    totalized = totalize_dfa(DFA_Tz_deepcopy)\n",
    "    print ( 'is_consistent_dfa(totalized) =', \n",
    "          is_consistent_dfa(totalized) )\n",
    "    assert(totalized == totalize_dfa(totalized)) # Must pass  \n",
    "\n",
    "tests_dfa_consist()"
   ]
  },
  {
   "cell_type": "markdown",
   "metadata": {
    "run_control": {
     "frozen": false,
     "read_only": false
    }
   },
   "source": [
    "Let us test functions step_dfa, run_dfa, and accepts_dfa"
   ]
  },
  {
   "cell_type": "code",
   "execution_count": null,
   "metadata": {
    "code_folding": [],
    "run_control": {
     "frozen": false,
     "read_only": false
    }
   },
   "outputs": [],
   "source": [
    "# Some tests of step, run, etc.\n",
    "\n",
    "def step_run_accepts_tests():\n",
    "    print(\"step_dfa(DFA_Tz, 'IF', '1') = \", \n",
    "          step_dfa(DFA_Tz, 'IF', '1'))\n",
    "    print(\"step_dfa(DFA_Tz, 'A', '0') = \", \n",
    "          step_dfa(DFA_Tz, 'A', '0'))\n",
    "\n",
    "    print(\"run_dfa(DFA_Tz, '101001') = \", \n",
    "          run_dfa(DFA_Tz, '101001'))\n",
    "    print(\"run_dfa(DFA_Tz, '101000') = \", \n",
    "          run_dfa(DFA_Tz, '101000'))\n",
    "\n",
    "    print(\"accepts_dfa(DFA_Tz, '101001') = \", \n",
    "          accepts_dfa(DFA_Tz, '101001')) \n",
    "    print(\"accepts_dfa(DFA_Tz, '101000') = \", \n",
    "          accepts_dfa(DFA_Tz, '101000')) \n",
    "\n",
    "step_run_accepts_tests()"
   ]
  },
  {
   "cell_type": "markdown",
   "metadata": {
    "run_control": {
     "frozen": false,
     "read_only": false
    }
   },
   "source": [
    "# Boolean Operations on DFA\n",
    "\n",
    "It is possible to take complements, union, and intersection of DFA.\n",
    "\n",
    "The union of two DFA produces a new DFA such that its language is the language-union of the input DFA \n",
    "(and similarly for the other set operations also)"
   ]
  },
  {
   "cell_type": "code",
   "execution_count": null,
   "metadata": {
    "run_control": {
     "frozen": false,
     "read_only": false
    }
   },
   "outputs": [],
   "source": [
    "dotObj_dfa(DFA_Tz, \"DFA_Tz\")"
   ]
  },
  {
   "cell_type": "code",
   "execution_count": null,
   "metadata": {
    "run_control": {
     "frozen": false,
     "read_only": false
    }
   },
   "outputs": [],
   "source": [
    "# Run a complementation test\n",
    "\n",
    "DFA_Tz_comp = comp_dfa(DFA_Tz)\n",
    "dotObj_dfa(DFA_Tz_comp)"
   ]
  },
  {
   "cell_type": "code",
   "execution_count": null,
   "metadata": {
    "run_control": {
     "frozen": false,
     "read_only": false
    }
   },
   "outputs": [],
   "source": [
    "# One more test\n",
    "# Clearly, the union of a DFA and its complement results in the universal language\n",
    "\n",
    "du     = union_dfa(DFA_Tz, DFA_Tz_comp)\n",
    "dotObj_dfa(du, \"orig union\")"
   ]
  },
  {
   "cell_type": "code",
   "execution_count": null,
   "metadata": {
    "run_control": {
     "frozen": false,
     "read_only": false
    }
   },
   "outputs": [],
   "source": [
    "# Clearly, the union of a DFA and its complement results in the universal language\n",
    "# We can see this fact by minimizing the above diagram (DFA minimization will be shortly discussed)\n",
    "\n",
    "dotObj_dfa(min_dfa(du), FuseEdges = True)"
   ]
  },
  {
   "cell_type": "markdown",
   "metadata": {
    "run_control": {
     "frozen": false,
     "read_only": false
    }
   },
   "source": [
    "# Language Equivalence and Isomorphism of DFA\n",
    "\n",
    "We will now illustrate ideas revolving around DFA language-equivalence and isomorphism\n"
   ]
  },
  {
   "cell_type": "code",
   "execution_count": null,
   "metadata": {
    "code_folding": [],
    "run_control": {
     "frozen": false,
     "read_only": false
    }
   },
   "outputs": [],
   "source": [
    "# It is convenient to have a DFA that is an artificially bloated variant of one you've seen earlier...\n",
    "\n",
    "Tz_bloated = md2mc('''DFA\n",
    "IF : 0 -> A\n",
    "A  : 0 -> B1\n",
    "B  : 0 -> IF\n",
    "IF : 1 -> IF\n",
    "A  : 1 -> A1\n",
    "B  : 1 -> B1\n",
    "A1 : 0 -> B\n",
    "A1 : 1 -> A\n",
    "B1 : 0 -> IF\n",
    "B1 : 1 -> B\n",
    "''')\n",
    "\n",
    "dotObj_dfa(Tz_bloated)\n"
   ]
  },
  {
   "cell_type": "code",
   "execution_count": null,
   "metadata": {
    "run_control": {
     "frozen": false,
     "read_only": false
    }
   },
   "outputs": [],
   "source": [
    "help(langeq_dfa)\n",
    "help(iso_dfa)"
   ]
  },
  {
   "cell_type": "code",
   "execution_count": null,
   "metadata": {
    "run_control": {
     "frozen": false,
     "read_only": false
    }
   },
   "outputs": [],
   "source": [
    "# Are these DFA language-equivalent?\n",
    "is_langeq = langeq_dfa(DFA_Tz, Tz_bloated, False)\n",
    "\n",
    "# These DFA are language equivalent, but not isomorphic -- because one is bloated\n",
    "is_iso = iso_dfa(DFA_Tz, Tz_bloated)\n",
    "\n",
    "print('is language-equivalent:', is_langeq)\n",
    "print('is isomorphic:', is_iso)"
   ]
  },
  {
   "cell_type": "code",
   "execution_count": null,
   "metadata": {
    "run_control": {
     "frozen": false,
     "read_only": false
    }
   },
   "outputs": [],
   "source": [
    "# By minimizing, we know what the bloated DFA corresponds to. Looks familiar?\n",
    "\n",
    "dotObj_dfa(min_dfa(Tz_bloated), FuseEdges = True)"
   ]
  },
  {
   "cell_type": "code",
   "execution_count": null,
   "metadata": {
    "code_folding": [],
    "run_control": {
     "frozen": false,
     "read_only": false
    }
   },
   "outputs": [],
   "source": [
    "# We create a DFA that is a badly bloated variant of Tz_bloated\n",
    "\n",
    "Tz_badBloat = md2mc('''DFA\n",
    "IF : 0 -> A\n",
    "A  : 0 -> B1\n",
    "B  : 0 -> IF\n",
    "IF : 1 -> IF\n",
    "A  : 1 -> A1\n",
    "B  : 1 -> IF\n",
    "A1 : 0 -> B\n",
    "A1 : 1 -> A\n",
    "B1 : 0 -> IF\n",
    "B1 : 1 -> B\n",
    "''')\n",
    "dotObj_dfa(Tz_badBloat, FuseEdges=True)"
   ]
  },
  {
   "cell_type": "code",
   "execution_count": null,
   "metadata": {
    "run_control": {
     "frozen": false,
     "read_only": false
    }
   },
   "outputs": [],
   "source": [
    "# We minimize the badly bloated DFA and the minimized DFA does not look like Tz_bloated\n",
    "# This itself suggests that we did not bloat it right\n",
    "\n",
    "dotObj_dfa(min_dfa(Tz_badBloat), FuseEdges = True)"
   ]
  },
  {
   "cell_type": "code",
   "execution_count": null,
   "metadata": {
    "run_control": {
     "frozen": false,
     "read_only": false
    }
   },
   "outputs": [],
   "source": [
    "# If we apply language equivalence, we find out how these DFAs differ (why they are not language-equivalent)\n",
    "# Providing \"True\" as the last argument results in one example of a difference being printed\n",
    "\n",
    "langeq_dfa(DFA_Tz, Tz_badBloat, True)"
   ]
  },
  {
   "cell_type": "code",
   "execution_count": null,
   "metadata": {
    "run_control": {
     "frozen": false,
     "read_only": false
    }
   },
   "outputs": [],
   "source": [
    "# If you don't want to see the counterexample, supply \"False\" as the last argument\n",
    "langeq_dfa(DFA_Tz, Tz_badBloat, False)"
   ]
  },
  {
   "cell_type": "code",
   "execution_count": null,
   "metadata": {
    "run_control": {
     "frozen": false,
     "read_only": false
    }
   },
   "outputs": [],
   "source": [
    "# Clearly, DFAs that are not language equivalent are not isomorphic either\n",
    "iso_dfa(DFA_Tz, Tz_badBloat)"
   ]
  },
  {
   "cell_type": "markdown",
   "metadata": {
    "run_control": {
     "frozen": false,
     "read_only": false
    }
   },
   "source": [
    "## One more test, now illustrating intersection, union, isomorphism"
   ]
  },
  {
   "cell_type": "code",
   "execution_count": null,
   "metadata": {
    "run_control": {
     "frozen": false,
     "read_only": false
    }
   },
   "outputs": [],
   "source": [
    "DFA_Tzv1 = md2mc('''DFA\n",
    "IF : 0 -> A\n",
    "A  : 0 -> B\n",
    "B  : 0 -> IF\n",
    "IF : 1 -> IF\n",
    "A  : 1 -> B\n",
    "B  : 1 -> B''')\n",
    "\n",
    "dotObj_dfa(DFA_Tzv1)"
   ]
  },
  {
   "cell_type": "code",
   "execution_count": null,
   "metadata": {
    "run_control": {
     "frozen": false,
     "read_only": false
    }
   },
   "outputs": [],
   "source": [
    "IntDFA = intersect_dfa(DFA_Tzv1, DFA_Tz)\n",
    "dotObj_dfa(IntDFA)"
   ]
  },
  {
   "cell_type": "code",
   "execution_count": null,
   "metadata": {
    "run_control": {
     "frozen": false,
     "read_only": false
    }
   },
   "outputs": [],
   "source": [
    "dotObj_dfa(min_dfa(IntDFA))"
   ]
  },
  {
   "cell_type": "code",
   "execution_count": null,
   "metadata": {
    "run_control": {
     "frozen": false,
     "read_only": false
    }
   },
   "outputs": [],
   "source": [
    "UnionDFA = union_dfa(DFA_Tzv1, DFA_Tz)\n",
    "dotObj_dfa(UnionDFA)"
   ]
  },
  {
   "cell_type": "code",
   "execution_count": null,
   "metadata": {
    "run_control": {
     "frozen": false,
     "read_only": false
    }
   },
   "outputs": [],
   "source": [
    "# We did not expect the union and intersection to be isomorphic, and nor are they\n",
    "\n",
    "iso_dfa(IntDFA, UnionDFA)"
   ]
  },
  {
   "cell_type": "markdown",
   "metadata": {
    "run_control": {
     "frozen": false,
     "read_only": false
    }
   },
   "source": [
    "## Counterexample trace generation"
   ]
  },
  {
   "cell_type": "code",
   "execution_count": null,
   "metadata": {
    "run_control": {
     "frozen": false,
     "read_only": false
    }
   },
   "outputs": [],
   "source": [
    "# Neither are the union and intersection language-equivalent\n",
    "\n",
    "langeq_dfa(IntDFA, UnionDFA, True)"
   ]
  },
  {
   "cell_type": "markdown",
   "metadata": {
    "collapsed": true,
    "run_control": {
     "frozen": false,
     "read_only": false
    }
   },
   "source": [
    "# DFA minimization"
   ]
  },
  {
   "cell_type": "markdown",
   "metadata": {
    "run_control": {
     "frozen": false,
     "read_only": false
    }
   },
   "source": [
    "## A first simple example\n",
    "\n",
    "<font size=\"4\"> \n",
    "\n",
    "\n",
    "```\n",
    "\n",
    "\n",
    "Consider this DFA as an example\n",
    "--------------------------------\n",
    " \n",
    "DFA\n",
    "IF : 0 -> A    IF : 1 -> IF\n",
    "A  : 0 -> B1   A  : 1 -> A1\n",
    "B  : 0 -> IF   B  : 1 -> B1\n",
    "A1 : 0 -> B    A1 : 1 -> A\n",
    "B1 : 0 -> IF   B1 : 1 -> B\n",
    "\n",
    "\n",
    "This is the initial display of a matrix (only the lower half shown, as the upper half is symmetric). The matrix shows \".\" which are points at which state pairs \"collide.\" The dots in this figure allow for these pairs to collide (we show pairs only one way, i.e. (P,Q) and not the other way i.e. (Q,P) also).\n",
    "\n",
    "\n",
    "A   .\n",
    "\n",
    "A1  .   .\n",
    "\n",
    "B   .   .   .\n",
    "\n",
    "B1  .   .   .   .\n",
    "\n",
    "    IF  A   A1  B\n",
    "    \n",
    "    \n",
    "The above is a convenient arrangement to talk about these pairs:\n",
    "\n",
    "\n",
    "(A, IF),\n",
    "\n",
    "(A1, IF), (A1, A)\n",
    "\n",
    "(B, IF),  (B, A),  (B, A1)\n",
    "\n",
    "(B1, IF), (B1, A), (B1, A1), (B1, B)\n",
    "\n",
    "Now, here is how the computation proceeds for this example:\n",
    "===========================================================\n",
    "\n",
    "Frame-0              Frame-1                Frame-2                \n",
    " \n",
    "A   -1                A   0                  A   0                 \n",
    "\n",
    "A1  -1   -1           A1  0   -1             A1  0   -1            \n",
    " \n",
    "B   -1   -1  -1       B   0   -1   -1        B   0   1   1         \n",
    "\n",
    "B1  -1   -1  -1  -1   B1  0   -1   -1  -1    B1  0   1   1   -1    \n",
    "\n",
    "    IF   A   A1  B        IF  A    A1  B         IF  A   A1  B         \n",
    "    \n",
    "    \n",
    "Frame-3 = Frame-2   \n",
    "\n",
    "A   0 \n",
    "\n",
    "A1  0   -1\n",
    "\n",
    "B   0   1   1\n",
    "\n",
    "B1  0   1   1   -1\n",
    "\n",
    "    IF  A   A1  B   \n",
    "``` \n",
    "\n",
    " \n",
    "\n",
    "</font>\n",
    "\n",
    "\n",
    "__Now, given that there are no changes, we can form equivalence-classes of states__\n",
    "\n",
    "1. A and A1 are in the same equivalence class\n",
    "\n",
    "2. B and B1 are in the same equivalence class\n",
    "\n",
    "3. No overlap between the equivalence classes. So we are done:\n",
    "\n",
    "  a. Choose a representative (e.g., A) for {A,A1}\n",
    "  \n",
    "  b. Choose a representative (e.g., B) for {B,B1}"
   ]
  },
  {
   "cell_type": "markdown",
   "metadata": {
    "run_control": {
     "frozen": false,
     "read_only": false
    }
   },
   "source": [
    "## A more elaborate example of DFA minimization"
   ]
  },
  {
   "cell_type": "code",
   "execution_count": null,
   "metadata": {
    "run_control": {
     "frozen": false,
     "read_only": false
    }
   },
   "outputs": [],
   "source": [
    "bloated_dfa = md2mc('''\n",
    "DFA\n",
    "IS1 : a -> FS2\n",
    "IS1 : b -> FS3\n",
    "FS2 : a -> S4\n",
    "FS2 : b -> S5\n",
    "FS3 : a -> S5\n",
    "FS3 : b -> S4\n",
    "S4  : a | b -> FS6\n",
    "S5  : a | b -> FS6\n",
    "FS6 : a | b -> FS6\n",
    "''')\n",
    "dotObj_dfa(bloated_dfa)"
   ]
  },
  {
   "cell_type": "markdown",
   "metadata": {
    "run_control": {
     "frozen": false,
     "read_only": false
    }
   },
   "source": [
    "\n",
    "Now, here is how the computation proceeds for this example:\n",
    "-------------------------------------------------------- \n",
    " \n",
    " <br>\n",
    " \n",
    "<font size=\"3\"> \n",
    "\n",
    "\n",
    "```\n",
    " \n",
    "Frame-0                     Frame-1                   Frame-2                    \n",
    "                                                                                                     \n",
    "FS2 -1                      FS2  0                   FS2   0                     \n",
    "\n",
    "FS3 -1  -1                  FS3  0  -1               FS3   0  -1                 \n",
    "\n",
    "S4  -1  -1  -1              S4  -1   0   0            S4   2   0   0             \n",
    "\n",
    "S5  -1  -1  -1  -1          S5  -1   0   0  -1        S5   2   0   0  -1         \n",
    "\n",
    "FS6 -1  -1  -1  -1  -1      FS6  0  -1  -1   0   0   FS6   0   1   1   0   0     \n",
    "\n",
    "    IS1 FS2 FS3 S4  S5          IS1 FS2 FS3 S4  S5        IS1 IS2 FS3 S4  S5        \n",
    "\n",
    "Initial                  0-distinguishable         1-distinguishable                         \n",
    "     \n",
    "     \n",
    "Frame-3                 Frame-4     \n",
    "                        =\n",
    "                        Frame-3\n",
    "\n",
    "FS2  0\n",
    "\n",
    "FS3  0  -1\n",
    "\n",
    "S4   2   0   0\n",
    "\n",
    "S5   2   0   0  -1\n",
    "\n",
    "FS6  0   1   1   0   0\n",
    "\n",
    "    IS1 IS2 FS3  S4  S5\n",
    "    \n",
    "2-distinguishable \n",
    "     \n",
    "```\n",
    "</font>"
   ]
  },
  {
   "cell_type": "markdown",
   "metadata": {
    "run_control": {
     "frozen": false,
     "read_only": false
    }
   },
   "source": [
    "Here is the algorithm, going frame by frame.\n",
    "\n",
    "- Initial Frame: \n",
    "\n",
    "     The initial frame is drawn to clash all _combinations_ of states taken two at a time.\n",
    "     Since we have 6 states, we have $6\\choose 2$ = $15$ entries. We put a -1 against each\n",
    "     such pair to denote that they have not been found distinguishable yet.\n",
    "\n",
    "- Frame *0-distinguishable*: We now put a 0 where a pair of states is 0-distinguishable. This means the states are distinguisable after consuming $\\varepsilon$. This of course means that the states are themselves distinguishable. This is only possible if one is a final state and the other is not (in that case, one state, after consuming $\\varepsilon$ accepts_dfa, and another state after consuming $\\varepsilon$ does not accept.\n",
    "\n",
    "  - So for instance, notice that (FS3,IS1) and (S4,FS2) are 0-distinguishable, meaning that one is a final and the other is a non-final state.\n",
    "\n",
    "- Frame *1-distinguishable*: We now put a 1 where a pair of states is 1-distinguishable. This means the states are distinguisable after consuming a string of length $1$ (a single symbol). This is only possible if one state transitions to a final state and the other transitions to a non-final state after consuming a member of $\\Sigma$. \n",
    "\n",
    "  State pairs (FS6,FS2) and (FS6,FS3) are of this kind. While both FS6 and FS2 are final states (hence _0-indistinguishable_), after consuming an 'a' (or a 'b') they respectively go to a final/non-final state.\n",
    " This means that\n",
    "\n",
    "  - after processing **the same symbol** one state -- let's say pre_p -- finds itself landing in a state p and another state  -- let's say pre_q -- finds itself landing in a state q such that (p,q) is 0-distinguishable.\n",
    "  \n",
    "  - When this happens, states pre-p and pre-q are **1-distinguishable**.\n",
    "\n",
    "- Frame *2-distinguishable*: We now put a 2 where a pair of states is 2-distinguishable. This means the states are distinguisable after consuming a string of length $2$ (a string of length $2$). This is only possible if one state transitions to a state (say p) and the other transitions to state (say q) after consuming a member of $\\Sigma$ such that (p,q) is **1-distinguishable**. State pairs (S5,IS1) and (S4,IS1) are 2-distinguishable because\n",
    "\n",
    "  - after processing **the same symbol** one state -- let's say pre_p -- finds itself landing in a state p and another state  -- let's say pre_q -- finds itself landing in a state q such that (p,q) is 0-distinguishable.\n",
    "  \n",
    "  - When this happens, states pre-p and pre-q are **1-distinguishable**.\n",
    "  \n",
    "  - One example is this:\n",
    "  \n",
    "    - S5 and IS1 are 2-distinguishable.\n",
    "    \n",
    "    - This is because after seeing an 'aa', IS1 lands in a non-final state while S5 lands in a final state\n",
    "    \n",
    "    - Observe that \"aa\" = \"a\" + \"a\" . Thus, after eating the first \"a\", IS1 lands in S2 while S5 lands in FS6, and (S2,FS6) have already been deemed 1-distinguishable.\n",
    "    \n",
    "    - Thus, when we mark (S5,IS1) as 2-distinguishable, we are sending the matrix entry at (S5,IS1) from \n",
    "      -1 to 2\n",
    " \n",
    "\n",
    "\n",
    "  - Now, in search of 3-distinguishability, we catch hold of all pairs in the matrix and see if we can send another -1 entry to \"3\". This appears not to happen. \n",
    "  \n",
    "     - Thus, if (FS2,FS3) is pushed via any sequence of symbols (any string) of any length, it\n",
    "       always stays in the same type of state. Thus, after seeing 'ababba', FS2 is in S6, while FS3 \n",
    "        is also in FS6.\n",
    "\n",
    "\n",
    " - Thus, given no changes in the matrix, we stop.\n",
    " \n",
    " \n",
    "__Now the equivalence classes are formed as follows:__\n",
    "\n",
    " \n",
    " * FS2 and FS3 in one equivalence class\n",
    " \n",
    " * S4 and S5 in another\n",
    " \n",
    " An example where equivalence-classes themselves are to be merged should be fun to try."
   ]
  },
  {
   "cell_type": "code",
   "execution_count": null,
   "metadata": {
    "run_control": {
     "frozen": false,
     "read_only": false
    }
   },
   "outputs": [],
   "source": [
    "# Results of minimizing the bloated DFA\n",
    "dotObj_dfa(min_dfa(bloated_dfa), FuseEdges=True, dfaName=\"shrunkbloated_dfa\")"
   ]
  },
  {
   "cell_type": "markdown",
   "metadata": {
    "run_control": {
     "frozen": false,
     "read_only": false
    }
   },
   "source": [
    "__Another fun DFA called \"The blimp\" :-) __"
   ]
  },
  {
   "cell_type": "code",
   "execution_count": null,
   "metadata": {
    "run_control": {
     "frozen": false,
     "read_only": false
    }
   },
   "outputs": [],
   "source": [
    "blimp = md2mc('''\n",
    "DFA \n",
    "I1 : a -> F2\n",
    "I1 : b -> F3\n",
    "F2 : a -> S8\n",
    "F2 : b -> S5\n",
    "F3 : a -> S7\n",
    "F3 : b -> S4\n",
    "S4 : a | b -> F6\n",
    "S5 : a | b -> F6\n",
    "F6 : a | b -> F6\n",
    "S7 : a | b -> F6\n",
    "S8 : a -> F6\n",
    "S8 : b -> F9\n",
    "F9 : a -> F9\n",
    "F9 : b -> F6\n",
    "''')\n",
    "dblimp = dotObj_dfa(blimp)\n",
    "dblimp"
   ]
  },
  {
   "cell_type": "code",
   "execution_count": null,
   "metadata": {
    "run_control": {
     "frozen": false,
     "read_only": false
    }
   },
   "outputs": [],
   "source": [
    "dblimp = dotObj_dfa(blimp, FuseEdges=True)\n",
    "dblimp"
   ]
  },
  {
   "cell_type": "code",
   "execution_count": null,
   "metadata": {
    "run_control": {
     "frozen": false,
     "read_only": false
    }
   },
   "outputs": [],
   "source": [
    "mblimp = min_dfa(blimp)\n",
    "dmblimp = dotObj_dfa(mblimp, FuseEdges=True)\n",
    "dmblimp"
   ]
  },
  {
   "cell_type": "markdown",
   "metadata": {
    "run_control": {
     "frozen": false,
     "read_only": false
    }
   },
   "source": [
    "# Illustration of DeMorgan's Law on DFA\n",
    "\n",
    "This is an extensive illustration of union, intersection and complementation, DFA minimization, isomorphism test, language equivalence test, and an application of DeMorgan's law"
   ]
  },
  {
   "cell_type": "markdown",
   "metadata": {
    "run_control": {
     "frozen": false,
     "read_only": false
    }
   },
   "source": [
    "Here is how our construction proceeds:\n",
    "\n",
    "* First we construct dfaOdd1s\n",
    "\n",
    "* Then we construct ends0101\n",
    "\n",
    "* Then obtain odd1sORends0101\n",
    "\n",
    "* Then minimize as per Minodd1sORends0101 = min_dfa(odd1sORends0101)\n",
    "\n",
    "* Check if isomorphism exists via iso_dfa(odd1sORends0101, Minodd1sORends0101)  (should not)\n",
    "\n",
    "* Check and confirm via langeq_dfa(odd1sORends0101, Minodd1sORends0101)  (should hold)\n",
    "\n",
    "* Then obtain intersection odd1sANDends0101 = intersect_dfa(dfaOdd1s,ends0101)\n",
    "\n",
    "* Then minimize via Minodd1sANDends0101 = min_dfa(odd1sANDends0101)\n",
    "\n",
    "* Then complement via CdfaOdd1s = comp_dfa(dfaOdd1s)\n",
    "\n",
    "* Then complement the other DFA via Cends0101 = comp_dfa(ends0101)\n",
    "\n",
    "* Now take complement of union via C_CdfaOdd1sORCends0101 = comp_dfa(union_dfa(CdfaOdd1s, Cends0101))\n",
    "\n",
    "* Now minimize via MinC_CdfaOdd1sORCends0101 = min_dfa(C_CdfaOdd1sORCends0101)\n",
    "\n",
    "* Now isomorphism holds via iso_dfa(MinC_CdfaOdd1sORCends0101, Minodd1sANDends0101)"
   ]
  },
  {
   "cell_type": "code",
   "execution_count": null,
   "metadata": {
    "run_control": {
     "frozen": false,
     "read_only": false
    }
   },
   "outputs": [],
   "source": [
    "dfaOdd1s = md2mc('''\n",
    "DFA\n",
    "I : 0 -> I\n",
    "I : 1 -> F\n",
    "F : 0 -> F \n",
    "F : 1 -> I\n",
    "''')\n",
    "\n",
    "dotObj_dfa(dfaOdd1s)"
   ]
  },
  {
   "cell_type": "code",
   "execution_count": null,
   "metadata": {
    "run_control": {
     "frozen": false,
     "read_only": false
    }
   },
   "outputs": [],
   "source": [
    "ends0101 = md2mc('''\n",
    "DFA \n",
    "I     : 0 -> S0  \n",
    "I     : 1 -> I \n",
    "S0    : 0 -> S0 \n",
    "S0    : 1 -> S01 \n",
    "S01   : 0 -> S010 \n",
    "S01   : 1 -> I \n",
    "S010  : 0 -> S0 \n",
    "S010  : 1 -> F0101 \n",
    "F0101 : 0 -> S010 \n",
    "F0101 : 1 -> I \n",
    "''')\n",
    "\n",
    "dotObj_dfa(ends0101)"
   ]
  },
  {
   "cell_type": "code",
   "execution_count": null,
   "metadata": {
    "run_control": {
     "frozen": false,
     "read_only": false
    }
   },
   "outputs": [],
   "source": [
    "odd1sORends0101 = union_dfa(dfaOdd1s,ends0101)\n",
    "dotObj_dfa(odd1sORends0101)"
   ]
  },
  {
   "cell_type": "code",
   "execution_count": null,
   "metadata": {
    "run_control": {
     "frozen": false,
     "read_only": false
    }
   },
   "outputs": [],
   "source": [
    "Minodd1sORends0101 = min_dfa(odd1sORends0101)\n",
    "dotObj_dfa(Minodd1sORends0101)"
   ]
  },
  {
   "cell_type": "code",
   "execution_count": null,
   "metadata": {
    "run_control": {
     "frozen": false,
     "read_only": false
    }
   },
   "outputs": [],
   "source": [
    "iso_dfa(odd1sORends0101, Minodd1sORends0101)"
   ]
  },
  {
   "cell_type": "code",
   "execution_count": null,
   "metadata": {
    "run_control": {
     "frozen": false,
     "read_only": false
    }
   },
   "outputs": [],
   "source": [
    "langeq_dfa(odd1sORends0101, Minodd1sORends0101)"
   ]
  },
  {
   "cell_type": "code",
   "execution_count": null,
   "metadata": {
    "run_control": {
     "frozen": false,
     "read_only": false
    }
   },
   "outputs": [],
   "source": [
    "odd1sANDends0101 = intersect_dfa(dfaOdd1s,ends0101)\n",
    "dotObj_dfa(odd1sANDends0101)"
   ]
  },
  {
   "cell_type": "code",
   "execution_count": null,
   "metadata": {
    "run_control": {
     "frozen": false,
     "read_only": false
    }
   },
   "outputs": [],
   "source": [
    "Minodd1sANDends0101 = min_dfa(odd1sANDends0101)\n",
    "dotObj_dfa(Minodd1sANDends0101)"
   ]
  },
  {
   "cell_type": "code",
   "execution_count": null,
   "metadata": {
    "run_control": {
     "frozen": false,
     "read_only": false
    }
   },
   "outputs": [],
   "source": [
    "CdfaOdd1s = comp_dfa(dfaOdd1s)\n",
    "Cends0101 = comp_dfa(ends0101)\n",
    "C_CdfaOdd1sORCends0101 = comp_dfa(union_dfa(CdfaOdd1s, Cends0101))\n",
    "dotObj_dfa(C_CdfaOdd1sORCends0101)"
   ]
  },
  {
   "cell_type": "code",
   "execution_count": null,
   "metadata": {
    "run_control": {
     "frozen": false,
     "read_only": false
    }
   },
   "outputs": [],
   "source": [
    "MinC_CdfaOdd1sORCends0101 = min_dfa(C_CdfaOdd1sORCends0101)\n",
    "dotObj_dfa(MinC_CdfaOdd1sORCends0101)"
   ]
  },
  {
   "cell_type": "code",
   "execution_count": null,
   "metadata": {
    "run_control": {
     "frozen": false,
     "read_only": false
    }
   },
   "outputs": [],
   "source": [
    "# This is where DeMorgan's Law is shown in its full glory!!\n",
    "\n",
    "iso_dfa(MinC_CdfaOdd1sORCends0101, Minodd1sANDends0101)"
   ]
  }
 ],
 "metadata": {
  "kernelspec": {
   "display_name": "Python 3",
   "language": "python",
   "name": "python3"
  },
  "language_info": {
   "codemirror_mode": {
    "name": "ipython",
    "version": 3
   },
   "file_extension": ".py",
   "mimetype": "text/x-python",
   "name": "python",
   "nbconvert_exporter": "python",
   "pygments_lexer": "ipython3",
   "version": "3.6.0"
  },
  "toc": {
   "colors": {
    "hover_highlight": "#DAA520",
    "running_highlight": "#FF0000",
    "selected_highlight": "#FFD700"
   },
   "moveMenuLeft": true,
   "nav_menu": {
    "height": "318px",
    "width": "252px"
   },
   "navigate_menu": true,
   "number_sections": true,
   "sideBar": true,
   "threshold": 4,
   "toc_cell": false,
   "toc_section_display": "block",
   "toc_window_display": false,
   "widenNotebook": false
  }
 },
 "nbformat": 4,
 "nbformat_minor": 1
}
