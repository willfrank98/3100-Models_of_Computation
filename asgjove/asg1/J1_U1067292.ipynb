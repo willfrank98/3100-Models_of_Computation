{
 "cells": [
  {
   "cell_type": "markdown",
   "metadata": {
    "run_control": {
     "frozen": false,
     "read_only": false
    }
   },
   "source": [
    "# Asg1 problems for you to solve\n",
    "\n",
    " "
   ]
  },
  {
   "cell_type": "code",
   "execution_count": 58,
   "metadata": {
    "run_control": {
     "frozen": false,
     "read_only": false
    }
   },
   "outputs": [],
   "source": [
    "from jove.DotBashers import *\n",
    "from jove.Def_md2mc import *\n",
    "from jove.Def_DFA   import *\n",
    "from jove.LangDef   import *"
   ]
  },
  {
   "cell_type": "markdown",
   "metadata": {
    "run_control": {
     "frozen": false,
     "read_only": false
    }
   },
   "source": [
    "# Q8"
   ]
  },
  {
   "cell_type": "code",
   "execution_count": 59,
   "metadata": {
    "run_control": {
     "frozen": false,
     "read_only": false
    }
   },
   "outputs": [],
   "source": [
    "Le = {\"0\"*(2*i) for i in range(6)}"
   ]
  },
  {
   "cell_type": "code",
   "execution_count": 60,
   "metadata": {
    "run_control": {
     "frozen": false,
     "read_only": false
    }
   },
   "outputs": [],
   "source": [
    "Lo = {\"0\"*(2*i + 1) for i in range(5)}"
   ]
  },
  {
   "cell_type": "code",
   "execution_count": 61,
   "metadata": {
    "run_control": {
     "frozen": false,
     "read_only": false
    }
   },
   "outputs": [],
   "source": [
    "star = lstar({'0'}, 10)"
   ]
  },
  {
   "cell_type": "code",
   "execution_count": 62,
   "metadata": {
    "run_control": {
     "frozen": false,
     "read_only": false
    }
   },
   "outputs": [],
   "source": [
    "union = lunion(Le, Lo)"
   ]
  },
  {
   "cell_type": "code",
   "execution_count": 63,
   "metadata": {
    "run_control": {
     "frozen": false,
     "read_only": false
    }
   },
   "outputs": [
    {
     "name": "stdout",
     "output_type": "stream",
     "text": [
      "True\n",
      "True\n"
     ]
    }
   ],
   "source": [
    "print(star == union) #python provides functionality for checking if two sets contain the same elements\n",
    "print(lint(star, union) == star and lint(star, union) == union) #using lint to check if the sets completely overlap each other"
   ]
  },
  {
   "cell_type": "markdown",
   "metadata": {
    "run_control": {
     "frozen": false,
     "read_only": false
    }
   },
   "source": [
    "# Q9"
   ]
  },
  {
   "cell_type": "markdown",
   "metadata": {
    "run_control": {
     "frozen": false,
     "read_only": false
    }
   },
   "source": [
    "## Q9(a) Listing strings in numeric order"
   ]
  },
  {
   "cell_type": "code",
   "execution_count": 64,
   "metadata": {
    "run_control": {
     "frozen": false,
     "read_only": false
    }
   },
   "outputs": [
    {
     "name": "stdout",
     "output_type": "stream",
     "text": [
      "Help on function nthnumeric in module jove.LangDef:\n",
      "\n",
      "nthnumeric(N, Sigma={'b', 'a'})\n",
      "    Assume Sigma is a 2-sized list/set of chars (default {'a','b'}). \n",
      "    Produce the Nth string in numeric order, where N >= 0.\n",
      "    Idea : Given N, get b = floor(log_2(N+1)) - need that \n",
      "    many places; what to fill in the places is the binary \n",
      "    code for N - (2^b - 1) with 0 as Sigma[0] and 1 as Sigma[1].\n",
      "\n"
     ]
    }
   ],
   "source": [
    "help(nthnumeric)"
   ]
  },
  {
   "cell_type": "code",
   "execution_count": 65,
   "metadata": {
    "run_control": {
     "frozen": false,
     "read_only": false
    }
   },
   "outputs": [
    {
     "name": "stdout",
     "output_type": "stream",
     "text": [
      "{'', 'aa', 'a', 'abb', 'bab', 'ab', 'bba', 'baa', 'b', 'bb', 'ba', 'bbb'}\n"
     ]
    }
   ],
   "source": [
    "firstTwelve = {nthnumeric(i) for i in range(12)}\n",
    "print(firstTwelve)"
   ]
  },
  {
   "cell_type": "markdown",
   "metadata": {
    "run_control": {
     "frozen": false,
     "read_only": false
    }
   },
   "source": [
    "## Q9(b) Counting strings in L1L2"
   ]
  },
  {
   "cell_type": "code",
   "execution_count": 66,
   "metadata": {
    "run_control": {
     "frozen": false,
     "read_only": false
    }
   },
   "outputs": [
    {
     "name": "stdout",
     "output_type": "stream",
     "text": [
      "True\n"
     ]
    }
   ],
   "source": [
    "Sigma1 = {'a', 'b', 'c'}\n",
    "Sigma2 = {'0', '1'}\n",
    "\n",
    "L1 = lstar(Sigma1, 8)\n",
    "L2 = lstar(Sigma2, 8)\n",
    "\n",
    "L1L2 = lcat(L1, L2)\n",
    "\n",
    "#..now check that the len(L1L2) makes sense to you..\n",
    "#..how must len(L1L2) relate to len(L1) and len(L2)? ..\n",
    "#..introduce the required code cells below and show that the expected identity holds..\n",
    "print(len(L1L2) == (len(L1) * len(L2)))"
   ]
  },
  {
   "cell_type": "markdown",
   "metadata": {
    "run_control": {
     "frozen": false,
     "read_only": false
    }
   },
   "source": [
    "# Q10"
   ]
  },
  {
   "cell_type": "code",
   "execution_count": 67,
   "metadata": {
    "run_control": {
     "frozen": false,
     "read_only": false
    }
   },
   "outputs": [
    {
     "data": {
      "image/svg+xml": [
       "<?xml version=\"1.0\" encoding=\"UTF-8\" standalone=\"no\"?>\r\n",
       "<!DOCTYPE svg PUBLIC \"-//W3C//DTD SVG 1.1//EN\"\r\n",
       " \"http://www.w3.org/Graphics/SVG/1.1/DTD/svg11.dtd\">\r\n",
       "<!-- Generated by graphviz version 2.38.0 (20140413.2041)\r\n",
       " -->\r\n",
       "<!-- Title: %3 Pages: 1 -->\r\n",
       "<svg width=\"328pt\" height=\"268pt\"\r\n",
       " viewBox=\"0.00 0.00 328.19 268.13\" xmlns=\"http://www.w3.org/2000/svg\" xmlns:xlink=\"http://www.w3.org/1999/xlink\">\r\n",
       "<g id=\"graph0\" class=\"graph\" transform=\"scale(1 1) rotate(0) translate(4 264.132)\">\r\n",
       "<title>%3</title>\r\n",
       "<polygon fill=\"white\" stroke=\"none\" points=\"-4,4 -4,-264.132 324.193,-264.132 324.193,4 -4,4\"/>\r\n",
       "<!-- EMPTY -->\r\n",
       "<g id=\"node1\" class=\"node\"><title>EMPTY</title>\r\n",
       "</g>\r\n",
       "<!-- I -->\r\n",
       "<g id=\"node4\" class=\"node\"><title>I</title>\r\n",
       "<ellipse fill=\"none\" stroke=\"black\" cx=\"109\" cy=\"-91.1324\" rx=\"18\" ry=\"18\"/>\r\n",
       "<text text-anchor=\"middle\" x=\"109\" y=\"-87.4324\" font-family=\"Times New Roman,serif\" font-size=\"14.00\">I</text>\r\n",
       "</g>\r\n",
       "<!-- EMPTY&#45;&gt;I -->\r\n",
       "<g id=\"edge1\" class=\"edge\"><title>EMPTY&#45;&gt;I</title>\r\n",
       "<path fill=\"none\" stroke=\"black\" d=\"M54.195,-91.1324C62.6538,-91.1324 72.0513,-91.1324 80.5951,-91.1324\"/>\r\n",
       "<polygon fill=\"black\" stroke=\"black\" points=\"80.8257,-94.6325 90.8257,-91.1324 80.8257,-87.6325 80.8257,-94.6325\"/>\r\n",
       "</g>\r\n",
       "<!-- S2 -->\r\n",
       "<g id=\"node2\" class=\"node\"><title>S2</title>\r\n",
       "<ellipse fill=\"none\" stroke=\"black\" cx=\"194.798\" cy=\"-216.132\" rx=\"20.5982\" ry=\"20.5982\"/>\r\n",
       "<text text-anchor=\"middle\" x=\"194.798\" y=\"-212.432\" font-family=\"Times New Roman,serif\" font-size=\"14.00\">S2</text>\r\n",
       "</g>\r\n",
       "<!-- F2 -->\r\n",
       "<g id=\"node6\" class=\"node\"><title>F2</title>\r\n",
       "<ellipse fill=\"none\" stroke=\"black\" cx=\"295.394\" cy=\"-202.132\" rx=\"20.6302\" ry=\"20.6302\"/>\r\n",
       "<ellipse fill=\"none\" stroke=\"black\" cx=\"295.394\" cy=\"-202.132\" rx=\"24.5979\" ry=\"24.5979\"/>\r\n",
       "<text text-anchor=\"middle\" x=\"295.394\" y=\"-198.432\" font-family=\"Times New Roman,serif\" font-size=\"14.00\">F2</text>\r\n",
       "</g>\r\n",
       "<!-- S2&#45;&gt;F2 -->\r\n",
       "<g id=\"edge8\" class=\"edge\"><title>S2&#45;&gt;F2</title>\r\n",
       "<path fill=\"none\" stroke=\"black\" d=\"M215.626,-216.616C226.588,-216.588 240.415,-216.066 252.596,-214.132 255.63,-213.651 258.755,-213.019 261.867,-212.298\"/>\r\n",
       "<polygon fill=\"black\" stroke=\"black\" points=\"262.83,-215.664 271.626,-209.758 261.067,-208.889 262.83,-215.664\"/>\r\n",
       "<text text-anchor=\"middle\" x=\"245.096\" y=\"-248.932\" font-family=\"Times New Roman,serif\" font-size=\"14.00\">2 </text>\r\n",
       "<text text-anchor=\"middle\" x=\"245.096\" y=\"-233.932\" font-family=\"Times New Roman,serif\" font-size=\"14.00\"> 0 </text>\r\n",
       "<text text-anchor=\"middle\" x=\"245.096\" y=\"-218.932\" font-family=\"Times New Roman,serif\" font-size=\"14.00\"> 1</text>\r\n",
       "</g>\r\n",
       "<!-- S1 -->\r\n",
       "<g id=\"node3\" class=\"node\"><title>S1</title>\r\n",
       "<ellipse fill=\"none\" stroke=\"black\" cx=\"295.394\" cy=\"-39.1324\" rx=\"20.5982\" ry=\"20.5982\"/>\r\n",
       "<text text-anchor=\"middle\" x=\"295.394\" y=\"-35.4324\" font-family=\"Times New Roman,serif\" font-size=\"14.00\">S1</text>\r\n",
       "</g>\r\n",
       "<!-- F1 -->\r\n",
       "<g id=\"node7\" class=\"node\"><title>F1</title>\r\n",
       "<ellipse fill=\"none\" stroke=\"black\" cx=\"194.798\" cy=\"-25.1324\" rx=\"20.6302\" ry=\"20.6302\"/>\r\n",
       "<ellipse fill=\"none\" stroke=\"black\" cx=\"194.798\" cy=\"-25.1324\" rx=\"24.5979\" ry=\"24.5979\"/>\r\n",
       "<text text-anchor=\"middle\" x=\"194.798\" y=\"-21.4324\" font-family=\"Times New Roman,serif\" font-size=\"14.00\">F1</text>\r\n",
       "</g>\r\n",
       "<!-- S1&#45;&gt;F1 -->\r\n",
       "<g id=\"edge6\" class=\"edge\"><title>S1&#45;&gt;F1</title>\r\n",
       "<path fill=\"none\" stroke=\"black\" d=\"M281.479,-23.1626C273.991,-15.2055 263.833,-6.39151 252.596,-2.1324 243.046,1.48728 232.671,-0.842171 223.434,-5.16793\"/>\r\n",
       "<polygon fill=\"black\" stroke=\"black\" points=\"221.714,-2.11913 214.647,-10.0127 225.094,-8.24902 221.714,-2.11913\"/>\r\n",
       "<text text-anchor=\"middle\" x=\"245.096\" y=\"-35.9324\" font-family=\"Times New Roman,serif\" font-size=\"14.00\">2 </text>\r\n",
       "<text text-anchor=\"middle\" x=\"245.096\" y=\"-20.9324\" font-family=\"Times New Roman,serif\" font-size=\"14.00\"> 0 </text>\r\n",
       "<text text-anchor=\"middle\" x=\"245.096\" y=\"-5.9324\" font-family=\"Times New Roman,serif\" font-size=\"14.00\"> 1</text>\r\n",
       "</g>\r\n",
       "<!-- I&#45;&gt;S2 -->\r\n",
       "<g id=\"edge7\" class=\"edge\"><title>I&#45;&gt;S2</title>\r\n",
       "<path fill=\"none\" stroke=\"black\" d=\"M118.87,-106.266C130.176,-125.289 150.588,-158.766 170,-186.132 171.481,-188.22 173.055,-190.358 174.66,-192.485\"/>\r\n",
       "<polygon fill=\"black\" stroke=\"black\" points=\"171.98,-194.741 180.876,-200.495 177.51,-190.449 171.98,-194.741\"/>\r\n",
       "<text text-anchor=\"middle\" x=\"148.5\" y=\"-161.932\" font-family=\"Times New Roman,serif\" font-size=\"14.00\">2</text>\r\n",
       "</g>\r\n",
       "<!-- BH -->\r\n",
       "<g id=\"node5\" class=\"node\"><title>BH</title>\r\n",
       "<ellipse fill=\"none\" stroke=\"black\" cx=\"194.798\" cy=\"-91.1324\" rx=\"22.9987\" ry=\"22.9987\"/>\r\n",
       "<text text-anchor=\"middle\" x=\"194.798\" y=\"-87.4324\" font-family=\"Times New Roman,serif\" font-size=\"14.00\">BH</text>\r\n",
       "</g>\r\n",
       "<!-- I&#45;&gt;BH -->\r\n",
       "<g id=\"edge2\" class=\"edge\"><title>I&#45;&gt;BH</title>\r\n",
       "<path fill=\"none\" stroke=\"black\" d=\"M127.363,-91.1324C137.273,-91.1324 150.01,-91.1324 161.677,-91.1324\"/>\r\n",
       "<polygon fill=\"black\" stroke=\"black\" points=\"161.978,-94.6325 171.978,-91.1324 161.978,-87.6325 161.978,-94.6325\"/>\r\n",
       "<text text-anchor=\"middle\" x=\"148.5\" y=\"-94.9324\" font-family=\"Times New Roman,serif\" font-size=\"14.00\">0</text>\r\n",
       "</g>\r\n",
       "<!-- I&#45;&gt;F1 -->\r\n",
       "<g id=\"edge4\" class=\"edge\"><title>I&#45;&gt;F1</title>\r\n",
       "<path fill=\"none\" stroke=\"black\" d=\"M123.838,-80.2338C135.495,-71.052 152.517,-57.6454 166.852,-46.3554\"/>\r\n",
       "<polygon fill=\"black\" stroke=\"black\" points=\"169.23,-48.9377 174.92,-40.0006 164.899,-43.4385 169.23,-48.9377\"/>\r\n",
       "<text text-anchor=\"middle\" x=\"148.5\" y=\"-65.9324\" font-family=\"Times New Roman,serif\" font-size=\"14.00\">1</text>\r\n",
       "</g>\r\n",
       "<!-- BH&#45;&gt;BH -->\r\n",
       "<g id=\"edge3\" class=\"edge\"><title>BH&#45;&gt;BH</title>\r\n",
       "<path fill=\"none\" stroke=\"black\" d=\"M186.384,-112.516C185.345,-122.801 188.15,-131.88 194.798,-131.88 199.057,-131.88 201.739,-128.154 202.843,-122.772\"/>\r\n",
       "<polygon fill=\"black\" stroke=\"black\" points=\"206.35,-122.635 203.213,-112.516 199.355,-122.383 206.35,-122.635\"/>\r\n",
       "<text text-anchor=\"middle\" x=\"194.798\" y=\"-165.68\" font-family=\"Times New Roman,serif\" font-size=\"14.00\">2 </text>\r\n",
       "<text text-anchor=\"middle\" x=\"194.798\" y=\"-150.68\" font-family=\"Times New Roman,serif\" font-size=\"14.00\"> 0 </text>\r\n",
       "<text text-anchor=\"middle\" x=\"194.798\" y=\"-135.68\" font-family=\"Times New Roman,serif\" font-size=\"14.00\"> 1</text>\r\n",
       "</g>\r\n",
       "<!-- F2&#45;&gt;S2 -->\r\n",
       "<g id=\"edge9\" class=\"edge\"><title>F2&#45;&gt;S2</title>\r\n",
       "<path fill=\"none\" stroke=\"black\" d=\"M279.856,-182.661C268.747,-170.321 252.807,-157.932 237.596,-165.132 236.739,-165.538 225.572,-179.186 214.997,-192.26\"/>\r\n",
       "<polygon fill=\"black\" stroke=\"black\" points=\"212.144,-190.222 208.587,-200.202 217.591,-194.619 212.144,-190.222\"/>\r\n",
       "<text text-anchor=\"middle\" x=\"245.096\" y=\"-198.932\" font-family=\"Times New Roman,serif\" font-size=\"14.00\">2 </text>\r\n",
       "<text text-anchor=\"middle\" x=\"245.096\" y=\"-183.932\" font-family=\"Times New Roman,serif\" font-size=\"14.00\"> 0 </text>\r\n",
       "<text text-anchor=\"middle\" x=\"245.096\" y=\"-168.932\" font-family=\"Times New Roman,serif\" font-size=\"14.00\"> 1</text>\r\n",
       "</g>\r\n",
       "<!-- F1&#45;&gt;S1 -->\r\n",
       "<g id=\"edge5\" class=\"edge\"><title>F1&#45;&gt;S1</title>\r\n",
       "<path fill=\"none\" stroke=\"black\" d=\"M214.707,-39.9904C221.531,-44.4828 229.543,-48.8321 237.596,-51.1324 246.82,-53.7671 257.036,-52.7839 266.232,-50.5088\"/>\r\n",
       "<polygon fill=\"black\" stroke=\"black\" points=\"267.525,-53.7739 276.074,-47.5152 265.488,-47.0769 267.525,-53.7739\"/>\r\n",
       "<text text-anchor=\"middle\" x=\"245.096\" y=\"-86.9324\" font-family=\"Times New Roman,serif\" font-size=\"14.00\">2 </text>\r\n",
       "<text text-anchor=\"middle\" x=\"245.096\" y=\"-71.9324\" font-family=\"Times New Roman,serif\" font-size=\"14.00\"> 0 </text>\r\n",
       "<text text-anchor=\"middle\" x=\"245.096\" y=\"-56.9324\" font-family=\"Times New Roman,serif\" font-size=\"14.00\"> 1</text>\r\n",
       "</g>\r\n",
       "</g>\r\n",
       "</svg>\r\n"
      ],
      "text/plain": [
       "<graphviz.dot.Digraph at 0x21ad4e897b8>"
      ]
     },
     "execution_count": 67,
     "metadata": {},
     "output_type": "execute_result"
    }
   ],
   "source": [
    "# Essential part of a DFA for even # of 0s\n",
    "\n",
    "D10 = md2mc('''\n",
    "DFA \n",
    "I : 0 -> BH !! no acceptable strings start with 0\n",
    "BH : 0 -> BH\n",
    "BH : 1 -> BH\n",
    "BH : 2 -> BH\n",
    "I : 1 -> F1 !! send strings start with 1 to odd length checking\n",
    "F1 : 0 -> S1 !! if the DFA ends at S1 the string is even length\n",
    "F1 : 1 -> S1\n",
    "F1 : 2 -> S1\n",
    "S1 : 0 -> F1 !! if the DFA ends at F1 the string is odd length\n",
    "S1 : 1 -> F1\n",
    "S1 : 2 -> F1\n",
    "I : 2 -> S2 !! send strings starting with 2 to even length checking\n",
    "S2 : 0 -> F2 !! if the DFA ends at F2 the string is even length\n",
    "S2 : 1 -> F2\n",
    "S2 : 2 -> F2\n",
    "F2 : 0 -> S2 !! if the DFA ends at S2 the string is odd length\n",
    "F2 : 1 -> S2\n",
    "F2 : 2 -> S2\n",
    "''')\n",
    "\n",
    "#..use the right dotObj command of the DFA with the right FuseEdges boolean value..\n",
    "dotObj_dfa_w_bh(D10, True)"
   ]
  },
  {
   "cell_type": "markdown",
   "metadata": {
    "run_control": {
     "frozen": false,
     "read_only": false
    }
   },
   "source": [
    "# Show it accepts only the requested strings"
   ]
  },
  {
   "cell_type": "code",
   "execution_count": 68,
   "metadata": {
    "run_control": {
     "frozen": false,
     "read_only": false
    }
   },
   "outputs": [
    {
     "data": {
      "text/plain": [
       "True"
      ]
     },
     "execution_count": 68,
     "metadata": {},
     "output_type": "execute_result"
    }
   ],
   "source": [
    "accepts_dfa(D10,\"111\")"
   ]
  },
  {
   "cell_type": "code",
   "execution_count": 69,
   "metadata": {
    "run_control": {
     "frozen": false,
     "read_only": false
    }
   },
   "outputs": [],
   "source": [
    "TestStrs = input = lstar({'0', '1', '2'}, 4)"
   ]
  },
  {
   "cell_type": "code",
   "execution_count": 70,
   "metadata": {
    "run_control": {
     "frozen": false,
     "read_only": false
    }
   },
   "outputs": [
    {
     "data": {
      "text/plain": [
       "{'',\n",
       " '0',\n",
       " '00',\n",
       " '000',\n",
       " '0000',\n",
       " '0001',\n",
       " '0002',\n",
       " '001',\n",
       " '0010',\n",
       " '0011',\n",
       " '0012',\n",
       " '002',\n",
       " '0020',\n",
       " '0021',\n",
       " '0022',\n",
       " '01',\n",
       " '010',\n",
       " '0100',\n",
       " '0101',\n",
       " '0102',\n",
       " '011',\n",
       " '0110',\n",
       " '0111',\n",
       " '0112',\n",
       " '012',\n",
       " '0120',\n",
       " '0121',\n",
       " '0122',\n",
       " '02',\n",
       " '020',\n",
       " '0200',\n",
       " '0201',\n",
       " '0202',\n",
       " '021',\n",
       " '0210',\n",
       " '0211',\n",
       " '0212',\n",
       " '022',\n",
       " '0220',\n",
       " '0221',\n",
       " '0222',\n",
       " '1',\n",
       " '10',\n",
       " '100',\n",
       " '1000',\n",
       " '1001',\n",
       " '1002',\n",
       " '101',\n",
       " '1010',\n",
       " '1011',\n",
       " '1012',\n",
       " '102',\n",
       " '1020',\n",
       " '1021',\n",
       " '1022',\n",
       " '11',\n",
       " '110',\n",
       " '1100',\n",
       " '1101',\n",
       " '1102',\n",
       " '111',\n",
       " '1110',\n",
       " '1111',\n",
       " '1112',\n",
       " '112',\n",
       " '1120',\n",
       " '1121',\n",
       " '1122',\n",
       " '12',\n",
       " '120',\n",
       " '1200',\n",
       " '1201',\n",
       " '1202',\n",
       " '121',\n",
       " '1210',\n",
       " '1211',\n",
       " '1212',\n",
       " '122',\n",
       " '1220',\n",
       " '1221',\n",
       " '1222',\n",
       " '2',\n",
       " '20',\n",
       " '200',\n",
       " '2000',\n",
       " '2001',\n",
       " '2002',\n",
       " '201',\n",
       " '2010',\n",
       " '2011',\n",
       " '2012',\n",
       " '202',\n",
       " '2020',\n",
       " '2021',\n",
       " '2022',\n",
       " '21',\n",
       " '210',\n",
       " '2100',\n",
       " '2101',\n",
       " '2102',\n",
       " '211',\n",
       " '2110',\n",
       " '2111',\n",
       " '2112',\n",
       " '212',\n",
       " '2120',\n",
       " '2121',\n",
       " '2122',\n",
       " '22',\n",
       " '220',\n",
       " '2200',\n",
       " '2201',\n",
       " '2202',\n",
       " '221',\n",
       " '2210',\n",
       " '2211',\n",
       " '2212',\n",
       " '222',\n",
       " '2220',\n",
       " '2221',\n",
       " '2222'}"
      ]
     },
     "execution_count": 70,
     "metadata": {},
     "output_type": "execute_result"
    }
   ],
   "source": [
    "TestStrs"
   ]
  },
  {
   "cell_type": "code",
   "execution_count": 71,
   "metadata": {
    "run_control": {
     "frozen": false,
     "read_only": false
    }
   },
   "outputs": [
    {
     "name": "stdout",
     "output_type": "stream",
     "text": [
      "2201 was accepted\n",
      "120 was accepted\n",
      "102 was accepted\n",
      "2220 was accepted\n",
      "22 was accepted\n",
      "110 was accepted\n",
      "2211 was accepted\n",
      "2021 was accepted\n",
      "2001 was accepted\n",
      "100 was accepted\n",
      "2212 was accepted\n",
      "2120 was accepted\n",
      "2011 was accepted\n",
      "2111 was accepted\n",
      "2222 was accepted\n",
      "2110 was accepted\n",
      "112 was accepted\n",
      "20 was accepted\n",
      "2002 was accepted\n",
      "2102 was accepted\n",
      "2101 was accepted\n",
      "2122 was accepted\n",
      "2000 was accepted\n",
      "101 was accepted\n",
      "2010 was accepted\n",
      "122 was accepted\n",
      "2100 was accepted\n",
      "2012 was accepted\n",
      "21 was accepted\n",
      "2022 was accepted\n",
      "121 was accepted\n",
      "2020 was accepted\n",
      "2112 was accepted\n",
      "2210 was accepted\n",
      "1 was accepted\n",
      "2221 was accepted\n",
      "111 was accepted\n",
      "2200 was accepted\n",
      "2121 was accepted\n",
      "2202 was accepted\n",
      "All other strings are rejected\n"
     ]
    }
   ],
   "source": [
    "# Test the DFA\n",
    "\n",
    "for x in TestStrs : \n",
    "    if accepts_dfa(D10, x) :\n",
    "        print(x, \"was accepted\")\n",
    "        \n",
    "print(\"All other strings are rejected\")"
   ]
  },
  {
   "cell_type": "code",
   "execution_count": null,
   "metadata": {},
   "outputs": [],
   "source": []
  }
 ],
 "metadata": {
  "kernelspec": {
   "display_name": "Python 3",
   "language": "python",
   "name": "python3"
  },
  "language_info": {
   "codemirror_mode": {
    "name": "ipython",
    "version": 3
   },
   "file_extension": ".py",
   "mimetype": "text/x-python",
   "name": "python",
   "nbconvert_exporter": "python",
   "pygments_lexer": "ipython3",
   "version": "3.6.5"
  },
  "toc": {
   "colors": {
    "hover_highlight": "#DAA520",
    "running_highlight": "#FF0000",
    "selected_highlight": "#FFD700"
   },
   "moveMenuLeft": true,
   "nav_menu": {
    "height": "318px",
    "width": "252px"
   },
   "navigate_menu": true,
   "number_sections": true,
   "sideBar": true,
   "threshold": 4,
   "toc_cell": false,
   "toc_section_display": "block",
   "toc_window_display": false,
   "widenNotebook": false
  }
 },
 "nbformat": 4,
 "nbformat_minor": 1
}
